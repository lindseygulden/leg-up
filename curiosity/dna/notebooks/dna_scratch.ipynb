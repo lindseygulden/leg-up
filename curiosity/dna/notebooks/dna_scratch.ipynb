{
 "cells": [
  {
   "cell_type": "code",
   "execution_count": 2,
   "id": "79bcd2c8-bad6-46f3-ba67-ba1f1d3b7eff",
   "metadata": {},
   "outputs": [],
   "source": [
    "import datetime as dt\n",
    "import io\n",
    "import json\n",
    "from pathlib import Path, PosixPath\n",
    "from typing import List, Optional, Union\n",
    "\n",
    "import click\n",
    "import pandas as pd\n",
    "import requests\n",
    "import schema as sch\n",
    "import validators\n",
    "import yaml\n",
    "from dateutil.relativedelta import relativedelta\n",
    "\n",
    "# from projects.utils.io import yaml_to_dict"
   ]
  },
  {
   "cell_type": "code",
   "execution_count": 10,
   "id": "bcedab38-3e28-431f-828e-63bd224436bc",
   "metadata": {},
   "outputs": [],
   "source": [
    "response = requests.get(\"https://www.snpedia.com/index.php/Rs53576\", timeout=15)"
   ]
  },
  {
   "cell_type": "code",
   "execution_count": 12,
   "id": "c25d6015-9f5c-456c-87e7-d5bd9c8150da",
   "metadata": {},
   "outputs": [],
   "source": [
    "def write_json_to_file(\n",
    "    api_response: requests.Response, filepath: Union[str, PosixPath]\n",
    ") -> None:\n",
    "    \"\"\"Write the response from the api to a json file\"\"\"\n",
    "    with open(filepath, \"wb\") as file:\n",
    "        for chunk in api_response.iter_content(chunk_size=128):\n",
    "            file.write(chunk)\n",
    "    return"
   ]
  },
  {
   "cell_type": "code",
   "execution_count": 13,
   "id": "75dd6464-7a0d-444d-b2b9-1c725e34f7dd",
   "metadata": {},
   "outputs": [],
   "source": [
    "write_json_to_file(response, \"./test.json\")"
   ]
  },
  {
   "cell_type": "code",
   "execution_count": null,
   "id": "c375a7e9-48d4-403c-8cf2-7bd173926fc6",
   "metadata": {},
   "outputs": [],
   "source": []
  },
  {
   "cell_type": "code",
   "execution_count": null,
   "id": "309ef9f0-5e9b-4245-88e7-24cbf7257544",
   "metadata": {},
   "outputs": [],
   "source": [
    "def query_wwo_api(\n",
    "    api_entry_point: str,\n",
    "    api_key: str,\n",
    "    loc: str,\n",
    "    hrs: int,sa\n",
    "    start_date: str,\n",
    "    end_date: str,\n",
    "    timeout_seconds: int,\n",
    "    include_loc=\"yes\",\n",
    "    fmt=\"json\",\n",
    ") -> requests.Response:\n",
    "    \"\"\"Executes an API query to the WWO API according to config parameters\n",
    "    Args:\n",
    "    Returns:\n",
    "    \"\"\"\n",
    "    try:\n",
    "        wwo_response = requests.get(\n",
    "            f\"{api_entry_point}?key={api_key}&date={start_date}&enddate={end_date}&q={loc}&tp={hrs}&format={fmt}&includelocation={include_loc}\",\n",
    "            timeout=timeout_seconds,\n",
    "        )\n",
    "    except requests.exceptions.Timeout:\n",
    "        print(f\"Timed out for {loc} between {start_date} and {end_date}\")\n",
    "\n",
    "    return wwo_response"
   ]
  },
  {
   "cell_type": "code",
   "execution_count": 3,
   "id": "4ea8eeac-afc3-458c-99b1-5ca5644849f6",
   "metadata": {},
   "outputs": [
    {
     "ename": "ModuleNotFoundError",
     "evalue": "No module named 'wiki'",
     "output_type": "error",
     "traceback": [
      "\u001b[0;31m---------------------------------------------------------------------------\u001b[0m",
      "\u001b[0;31mModuleNotFoundError\u001b[0m                       Traceback (most recent call last)",
      "Cell \u001b[0;32mIn[3], line 1\u001b[0m\n\u001b[0;32m----> 1\u001b[0m \u001b[38;5;28;01mfrom\u001b[39;00m \u001b[38;5;21;01mwikitools\u001b[39;00m \u001b[38;5;28;01mimport\u001b[39;00m wiki, category\n\u001b[1;32m      2\u001b[0m site \u001b[38;5;241m=\u001b[39m wiki\u001b[38;5;241m.\u001b[39mWiki(\u001b[38;5;124m\"\u001b[39m\u001b[38;5;124mhttp://bots.snpedia.com/api.php\u001b[39m\u001b[38;5;124m\"\u001b[39m)                  \u001b[38;5;66;03m# open snpedia\u001b[39;00m\n\u001b[1;32m      3\u001b[0m snps \u001b[38;5;241m=\u001b[39m category\u001b[38;5;241m.\u001b[39mCategory(site, \u001b[38;5;124m\"\u001b[39m\u001b[38;5;124mIs_a_snp\u001b[39m\u001b[38;5;124m\"\u001b[39m)\n",
      "File \u001b[0;32m~/Library/Caches/pypoetry/virtualenvs/projects-rCMx4yDZ-py3.11/lib/python3.11/site-packages/wikitools/__init__.py:19\u001b[0m\n\u001b[1;32m      1\u001b[0m \u001b[38;5;66;03m# -*- coding: utf-8 -*-\u001b[39;00m\n\u001b[1;32m      2\u001b[0m \u001b[38;5;66;03m# -*- coding: utf-8 -*-\u001b[39;00m\n\u001b[1;32m      3\u001b[0m \u001b[38;5;66;03m# Copyright 2008-2013 Alex Zaddach (mrzmanwiki@gmail.com)\u001b[39;00m\n\u001b[0;32m   (...)\u001b[0m\n\u001b[1;32m     16\u001b[0m \u001b[38;5;66;03m# You should have received a copy of the GNU General Public License\u001b[39;00m\n\u001b[1;32m     17\u001b[0m \u001b[38;5;66;03m# along with wikitools.  If not, see <http://www.gnu.org/licenses/>.\u001b[39;00m\n\u001b[1;32m     18\u001b[0m __all__ \u001b[38;5;241m=\u001b[39m [\u001b[38;5;124m\"\u001b[39m\u001b[38;5;124mwiki\u001b[39m\u001b[38;5;124m\"\u001b[39m, \u001b[38;5;124m\"\u001b[39m\u001b[38;5;124mapi\u001b[39m\u001b[38;5;124m\"\u001b[39m, \u001b[38;5;124m\"\u001b[39m\u001b[38;5;124mpage\u001b[39m\u001b[38;5;124m\"\u001b[39m, \u001b[38;5;124m\"\u001b[39m\u001b[38;5;124mcategory\u001b[39m\u001b[38;5;124m\"\u001b[39m, \u001b[38;5;124m\"\u001b[39m\u001b[38;5;124muser\u001b[39m\u001b[38;5;124m\"\u001b[39m, \u001b[38;5;124m\"\u001b[39m\u001b[38;5;124mpagelist\u001b[39m\u001b[38;5;124m\"\u001b[39m, \u001b[38;5;124m\"\u001b[39m\u001b[38;5;124mwikifile\u001b[39m\u001b[38;5;124m\"\u001b[39m]\n\u001b[0;32m---> 19\u001b[0m \u001b[38;5;28;01mfrom\u001b[39;00m \u001b[38;5;21;01mwiki\u001b[39;00m \u001b[38;5;28;01mimport\u001b[39;00m \u001b[38;5;241m*\u001b[39m\n\u001b[1;32m     20\u001b[0m \u001b[38;5;28;01mfrom\u001b[39;00m \u001b[38;5;21;01mapi\u001b[39;00m \u001b[38;5;28;01mimport\u001b[39;00m \u001b[38;5;241m*\u001b[39m\n\u001b[1;32m     21\u001b[0m \u001b[38;5;28;01mfrom\u001b[39;00m \u001b[38;5;21;01mpage\u001b[39;00m \u001b[38;5;28;01mimport\u001b[39;00m \u001b[38;5;241m*\u001b[39m\n",
      "\u001b[0;31mModuleNotFoundError\u001b[0m: No module named 'wiki'"
     ]
    }
   ],
   "source": [
    "from wikitools import wiki, category\n",
    "\n",
    "site = wiki.Wiki(\"http://bots.snpedia.com/api.php\")  # open snpedia\n",
    "snps = category.Category(site, \"Is_a_snp\")\n",
    "snpedia = []\n",
    "\n",
    "for article in snps.getAllMembersGen(\n",
    "    namespaces=[0]\n",
    "):  # get all snp-names as list and print them\n",
    "    snpedia.append(article.title.lower())\n",
    "    print(article.title)"
   ]
  },
  {
   "cell_type": "code",
   "execution_count": 6,
   "id": "5b449e45-802f-4711-baad-f72353b3f5c9",
   "metadata": {},
   "outputs": [
    {
     "ename": "ModuleNotFoundError",
     "evalue": "No module named 'wiki'",
     "output_type": "error",
     "traceback": [
      "\u001b[0;31m---------------------------------------------------------------------------\u001b[0m",
      "\u001b[0;31mModuleNotFoundError\u001b[0m                       Traceback (most recent call last)",
      "Cell \u001b[0;32mIn[6], line 1\u001b[0m\n\u001b[0;32m----> 1\u001b[0m \u001b[38;5;28;01mimport\u001b[39;00m \u001b[38;5;21;01mwikitools\u001b[39;00m \n",
      "File \u001b[0;32m~/Library/Caches/pypoetry/virtualenvs/projects-rCMx4yDZ-py3.11/lib/python3.11/site-packages/wikitools/__init__.py:19\u001b[0m\n\u001b[1;32m      1\u001b[0m \u001b[38;5;66;03m# -*- coding: utf-8 -*-\u001b[39;00m\n\u001b[1;32m      2\u001b[0m \u001b[38;5;66;03m# -*- coding: utf-8 -*-\u001b[39;00m\n\u001b[1;32m      3\u001b[0m \u001b[38;5;66;03m# Copyright 2008-2013 Alex Zaddach (mrzmanwiki@gmail.com)\u001b[39;00m\n\u001b[0;32m   (...)\u001b[0m\n\u001b[1;32m     16\u001b[0m \u001b[38;5;66;03m# You should have received a copy of the GNU General Public License\u001b[39;00m\n\u001b[1;32m     17\u001b[0m \u001b[38;5;66;03m# along with wikitools.  If not, see <http://www.gnu.org/licenses/>.\u001b[39;00m\n\u001b[1;32m     18\u001b[0m __all__ \u001b[38;5;241m=\u001b[39m [\u001b[38;5;124m\"\u001b[39m\u001b[38;5;124mwiki\u001b[39m\u001b[38;5;124m\"\u001b[39m, \u001b[38;5;124m\"\u001b[39m\u001b[38;5;124mapi\u001b[39m\u001b[38;5;124m\"\u001b[39m, \u001b[38;5;124m\"\u001b[39m\u001b[38;5;124mpage\u001b[39m\u001b[38;5;124m\"\u001b[39m, \u001b[38;5;124m\"\u001b[39m\u001b[38;5;124mcategory\u001b[39m\u001b[38;5;124m\"\u001b[39m, \u001b[38;5;124m\"\u001b[39m\u001b[38;5;124muser\u001b[39m\u001b[38;5;124m\"\u001b[39m, \u001b[38;5;124m\"\u001b[39m\u001b[38;5;124mpagelist\u001b[39m\u001b[38;5;124m\"\u001b[39m, \u001b[38;5;124m\"\u001b[39m\u001b[38;5;124mwikifile\u001b[39m\u001b[38;5;124m\"\u001b[39m]\n\u001b[0;32m---> 19\u001b[0m \u001b[38;5;28;01mfrom\u001b[39;00m \u001b[38;5;21;01mwiki\u001b[39;00m \u001b[38;5;28;01mimport\u001b[39;00m \u001b[38;5;241m*\u001b[39m\n\u001b[1;32m     20\u001b[0m \u001b[38;5;28;01mfrom\u001b[39;00m \u001b[38;5;21;01mapi\u001b[39;00m \u001b[38;5;28;01mimport\u001b[39;00m \u001b[38;5;241m*\u001b[39m\n\u001b[1;32m     21\u001b[0m \u001b[38;5;28;01mfrom\u001b[39;00m \u001b[38;5;21;01mpage\u001b[39;00m \u001b[38;5;28;01mimport\u001b[39;00m \u001b[38;5;241m*\u001b[39m\n",
      "\u001b[0;31mModuleNotFoundError\u001b[0m: No module named 'wiki'"
     ]
    }
   ],
   "source": [
    "import wikitools"
   ]
  },
  {
   "cell_type": "code",
   "execution_count": null,
   "id": "1567c7b7-7bfd-4912-bb42-e749cb24f590",
   "metadata": {},
   "outputs": [],
   "source": []
  }
 ],
 "metadata": {
  "kernelspec": {
   "display_name": "projects-rCMx4yDZ-py3.11",
   "language": "python",
   "name": "projects-rcmx4ydz-py3.11"
  },
  "language_info": {
   "codemirror_mode": {
    "name": "ipython",
    "version": 3
   },
   "file_extension": ".py",
   "mimetype": "text/x-python",
   "name": "python",
   "nbconvert_exporter": "python",
   "pygments_lexer": "ipython3",
   "version": "3.11.4"
  }
 },
 "nbformat": 4,
 "nbformat_minor": 5
}
