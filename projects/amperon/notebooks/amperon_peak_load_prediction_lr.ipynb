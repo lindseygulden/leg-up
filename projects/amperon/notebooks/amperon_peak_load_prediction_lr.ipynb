{
 "cells": [
  {
   "cell_type": "code",
   "execution_count": null,
   "id": "f82d37cc-8f6f-4dab-a290-b6a75dfc7f45",
   "metadata": {},
   "outputs": [],
   "source": [
    "import numpy as np\n",
    "from datetime import datetime as dt\n",
    "import matplotlib.pyplot as plt\n",
    "import seaborn as sns\n",
    "from sklearn.linear_model import LinearRegression\n",
    "import warnings\n",
    "\n",
    "warnings.filterwarnings(\"ignore\")"
   ]
  },
  {
   "cell_type": "code",
   "execution_count": null,
   "id": "9c6a1535-946d-4bb6-8327-b2de2a61a089",
   "metadata": {},
   "outputs": [],
   "source": [
    "import pandas as pd\n",
    "from pathlib import Path\n",
    "\n",
    "DATA_DIR = Path(\"/Users/lindseygulden/dev/leg-up/projects/amperon/data\")\n",
    "\n",
    "PROB = \"probability_estimates.csv\"\n",
    "LOAD = \"load_hist_data.csv\"\n",
    "WEATHER = \"weather_data.csv\""
   ]
  },
  {
   "cell_type": "code",
   "execution_count": null,
   "id": "fdcd4957-61ac-4352-a779-006b49acecd1",
   "metadata": {},
   "outputs": [],
   "source": [
    "prob_df = pd.read_csv(DATA_DIR / Path(PROB))\n",
    "load_df = pd.read_csv(DATA_DIR / Path(LOAD))\n",
    "weather_df = pd.read_csv(DATA_DIR / Path(WEATHER))"
   ]
  },
  {
   "cell_type": "markdown",
   "id": "c760b0f6-d4d3-4415-9d91-38f0430a112c",
   "metadata": {},
   "source": [
    "### Load"
   ]
  },
  {
   "cell_type": "code",
   "execution_count": null,
   "id": "f4049e12-7e47-41ab-85a8-bce506c917c2",
   "metadata": {},
   "outputs": [],
   "source": [
    "load_df.dtypes"
   ]
  },
  {
   "cell_type": "code",
   "execution_count": null,
   "id": "c827b7ef-2d33-4953-9ff2-5635f0c75408",
   "metadata": {},
   "outputs": [],
   "source": [
    "load_df.isna().sum()"
   ]
  },
  {
   "cell_type": "code",
   "execution_count": null,
   "id": "8bdb5547-fdc6-493b-8365-d559ad3e9c28",
   "metadata": {},
   "outputs": [],
   "source": [
    "load_df.describe()"
   ]
  },
  {
   "cell_type": "code",
   "execution_count": null,
   "id": "0828e961-1eb4-40cc-a0d8-5366b7ab41d0",
   "metadata": {},
   "outputs": [],
   "source": [
    "load_df[\"timestamp\"] = pd.to_datetime(load_df.Date) + pd.to_timedelta(\n",
    "    load_df.Hour, unit=\"h\"\n",
    ")"
   ]
  },
  {
   "cell_type": "code",
   "execution_count": null,
   "id": "931ce7ee-9892-48b7-b2f0-9179819609c2",
   "metadata": {},
   "outputs": [],
   "source": [
    "load_df.timestamp.min()"
   ]
  },
  {
   "cell_type": "code",
   "execution_count": null,
   "id": "9c1531c2-c249-4516-88c4-e51e4ccaf3dc",
   "metadata": {},
   "outputs": [],
   "source": [
    "load_df.timestamp.max()"
   ]
  },
  {
   "cell_type": "code",
   "execution_count": null,
   "id": "7e80d10d-9f92-4d79-9749-685a0585f5dc",
   "metadata": {},
   "outputs": [],
   "source": [
    "plt.figure(figsize=(15, 3))\n",
    "sns.lineplot(data=load_df, x=\"timestamp\", y=\"Load\")\n",
    "plt.show()"
   ]
  },
  {
   "cell_type": "code",
   "execution_count": null,
   "id": "5992d097-84a3-4d44-9092-b6b7aac3d1d5",
   "metadata": {},
   "outputs": [],
   "source": [
    "sns.boxplot(data=load_df, x=\"Hour\", y=\"Load\")\n",
    "plt.title(\"Diurnal cycle\")"
   ]
  },
  {
   "cell_type": "code",
   "execution_count": null,
   "id": "5b1339a5-6358-4bb8-a17f-74de945f4398",
   "metadata": {},
   "outputs": [],
   "source": [
    "load_df[\"month\"] = load_df.timestamp.dt.month\n",
    "sns.boxplot(data=load_df, x=\"month\", y=\"Load\")\n",
    "plt.title(\"Seasonality\")"
   ]
  },
  {
   "cell_type": "code",
   "execution_count": null,
   "id": "d7847172-aa06-46c2-8480-28efe4e9490a",
   "metadata": {},
   "outputs": [],
   "source": [
    "load_df[\"dayofweek\"] = load_df.timestamp.dt.dayofweek\n",
    "sns.boxplot(data=load_df, x=\"dayofweek\", y=\"Load\")\n",
    "plt.title(\"Day of week variability\")"
   ]
  },
  {
   "cell_type": "markdown",
   "id": "2f5c14aa-a712-4057-8645-a47cb88d2c76",
   "metadata": {},
   "source": [
    "Distribution of peak hour"
   ]
  },
  {
   "cell_type": "code",
   "execution_count": null,
   "id": "6d1d90a4-24b6-4dbc-b1b9-64d4be46fed9",
   "metadata": {},
   "outputs": [],
   "source": [
    "idx = (\n",
    "    load_df.groupby(pd.Grouper(key=\"timestamp\", freq=\"1D\"))[\"Load\"].transform(max)\n",
    "    == load_df[\"Load\"]\n",
    ")\n",
    "peak_load_df = load_df[idx]\n",
    "peak_load_df"
   ]
  },
  {
   "cell_type": "code",
   "execution_count": null,
   "id": "873364b6-1916-47e9-9ec1-886711fcb8e5",
   "metadata": {},
   "outputs": [],
   "source": [
    "sns.boxplot(data=peak_load_df, x=\"month\", y=\"Hour\")"
   ]
  },
  {
   "cell_type": "code",
   "execution_count": null,
   "id": "8c12e317-cbc7-41f2-be50-3359b4f67763",
   "metadata": {},
   "outputs": [],
   "source": [
    "peak_load_df[\"day\"] = peak_load_df.timestamp.dt.day\n",
    "peak_load_df.groupby([\"month\", \"day\"])[\"Hour\"].mean()"
   ]
  },
  {
   "cell_type": "code",
   "execution_count": null,
   "id": "b1f9ccfc-8077-4787-a7a2-d84ab3c1cc5f",
   "metadata": {},
   "outputs": [],
   "source": [
    "plt.figure(figsize=(15, 5))\n",
    "sns.heatmap(\n",
    "    peak_load_df.groupby([\"month\", \"day\"])[\"Hour\"]\n",
    "    .mean()\n",
    "    .reset_index()\n",
    "    .pivot(columns=\"day\", index=\"month\", values=\"Hour\"),\n",
    "    cmap=\"Spectral\",\n",
    "    vmin=1,\n",
    "    vmax=24,\n",
    "    center=12,\n",
    ")\n",
    "plt.title(\"Average Peak Hour\")"
   ]
  },
  {
   "cell_type": "code",
   "execution_count": null,
   "id": "6b63aa52-9b1a-4361-b2a1-24b1f166a243",
   "metadata": {},
   "outputs": [],
   "source": [
    "peak_load_df.groupby([\"month\", \"day\"])[\"Hour\"].std()"
   ]
  },
  {
   "cell_type": "code",
   "execution_count": null,
   "id": "7c53bb80-3827-41da-9d59-a158ac0ef846",
   "metadata": {},
   "outputs": [],
   "source": [
    "plt.figure(figsize=(15, 5))\n",
    "sns.heatmap(\n",
    "    peak_load_df.groupby([\"month\", \"day\"])[\"Hour\"]\n",
    "    .std()\n",
    "    .reset_index()\n",
    "    .pivot(columns=\"day\", index=\"month\", values=\"Hour\"),\n",
    "    cmap=\"magma\",\n",
    "    vmin=0,\n",
    "    vmax=8,\n",
    ")\n",
    "plt.title(\"Standard Deviation Peak Hour\")"
   ]
  },
  {
   "cell_type": "markdown",
   "id": "c513901c-8067-401a-8a80-fda15965185b",
   "metadata": {},
   "source": [
    "### Weather"
   ]
  },
  {
   "cell_type": "code",
   "execution_count": null,
   "id": "0e47bed2-b31a-4136-bab0-6db5af8f1a6f",
   "metadata": {},
   "outputs": [],
   "source": [
    "weather_df"
   ]
  },
  {
   "cell_type": "code",
   "execution_count": null,
   "id": "7015f87e-06de-4a65-97c7-3ddc57ddfb75",
   "metadata": {},
   "outputs": [],
   "source": [
    "weather_df.dtypes"
   ]
  },
  {
   "cell_type": "code",
   "execution_count": null,
   "id": "ff51be49-e448-4330-8529-ae7cc3e82a39",
   "metadata": {},
   "outputs": [],
   "source": [
    "weather_df.isna().sum()"
   ]
  },
  {
   "cell_type": "code",
   "execution_count": null,
   "id": "fd762a35-d453-4e82-97c5-1b44774a3785",
   "metadata": {},
   "outputs": [],
   "source": [
    "weather_df.duplicated().sum()"
   ]
  },
  {
   "cell_type": "code",
   "execution_count": null,
   "id": "cdd2cde5-9072-42e1-bb76-796fc4590dce",
   "metadata": {},
   "outputs": [],
   "source": [
    "weather_df = weather_df.drop_duplicates()"
   ]
  },
  {
   "cell_type": "code",
   "execution_count": null,
   "id": "cbdae31c-3f95-4957-acab-2f6649b24016",
   "metadata": {},
   "outputs": [],
   "source": [
    "weather_df.describe()"
   ]
  },
  {
   "cell_type": "code",
   "execution_count": null,
   "id": "1b76ed54-5d2e-4d90-9df0-9c59cdcda3bd",
   "metadata": {},
   "outputs": [],
   "source": [
    "weather_df[\"timestamp\"] = pd.to_datetime(weather_df.Date) + pd.to_timedelta(\n",
    "    weather_df.Hour, unit=\"h\"\n",
    ")"
   ]
  },
  {
   "cell_type": "code",
   "execution_count": null,
   "id": "f82988ab-16fc-4b3a-8900-8c16f112e194",
   "metadata": {},
   "outputs": [],
   "source": [
    "weather_df.timestamp.min()"
   ]
  },
  {
   "cell_type": "code",
   "execution_count": null,
   "id": "01810b6e-62f8-4314-8d07-4386c728af54",
   "metadata": {},
   "outputs": [],
   "source": [
    "weather_df.timestamp.max()"
   ]
  },
  {
   "cell_type": "code",
   "execution_count": null,
   "id": "86996826-59c9-4a05-a1ab-d84f991a4693",
   "metadata": {},
   "outputs": [],
   "source": [
    "# weather_df=weather_df[['Date',,'Station ID','Temperature']].groupby(['timestamp','Station ID']).mean().reset_index()\n",
    "weather_df = (\n",
    "    weather_df.groupby([\"timestamp\", \"Station ID\"])\n",
    "    .agg({\"Date\": \"first\", \"Hour\": \"first\", \"Temperature\": \"mean\"})\n",
    "    .reset_index()\n",
    ")\n",
    "len(weather_df)"
   ]
  },
  {
   "cell_type": "code",
   "execution_count": null,
   "id": "83eb7757-be1d-4579-a072-b9dc46f60625",
   "metadata": {},
   "outputs": [],
   "source": [
    "# weather_df['Hour']=weather_df.timestamp.dt.hour\n",
    "weather_df[\"month\"] = weather_df.timestamp.dt.month"
   ]
  },
  {
   "cell_type": "code",
   "execution_count": null,
   "id": "a1a11bec-7b4d-428d-8b4e-bda291e12785",
   "metadata": {},
   "outputs": [],
   "source": [
    "plt.figure(figsize=(15, 3))\n",
    "sns.lineplot(\n",
    "    data=weather_df,\n",
    "    x=\"timestamp\",\n",
    "    y=\"Temperature\",\n",
    "    hue=\"Station ID\",\n",
    "    palette=\"Spectral\",\n",
    ")\n",
    "plt.show()"
   ]
  },
  {
   "cell_type": "code",
   "execution_count": null,
   "id": "7b910b94-80a6-45db-8605-84e2c9ede558",
   "metadata": {},
   "outputs": [],
   "source": [
    "sns.boxplot(data=weather_df, x=\"Station ID\", y=\"Temperature\", palette=\"Spectral\")"
   ]
  },
  {
   "cell_type": "code",
   "execution_count": null,
   "id": "54d261c0-2605-43fe-9fb4-88c1fbd2bbc5",
   "metadata": {},
   "outputs": [],
   "source": [
    "plt.figure(figsize=(15, 6))\n",
    "sns.boxplot(\n",
    "    data=weather_df, x=\"month\", y=\"Temperature\", hue=\"Station ID\", palette=\"Spectral\"\n",
    ")"
   ]
  },
  {
   "cell_type": "code",
   "execution_count": null,
   "id": "f9148374-5d33-47e0-afcc-997cb486de21",
   "metadata": {},
   "outputs": [],
   "source": [
    "plt.figure(figsize=(15, 6))\n",
    "sns.boxplot(\n",
    "    data=weather_df, x=\"Hour\", y=\"Temperature\", hue=\"Station ID\", palette=\"Spectral\"\n",
    ")"
   ]
  },
  {
   "cell_type": "markdown",
   "id": "8d424bb4-5087-4330-88e8-c7b63763db3b",
   "metadata": {},
   "source": [
    "### Merge Load and Weather to investigate relationships "
   ]
  },
  {
   "cell_type": "code",
   "execution_count": null,
   "id": "752dc990-a944-4c1c-851a-7ce5db5b11a3",
   "metadata": {},
   "outputs": [],
   "source": [
    "df_load_weather = weather_df.merge(\n",
    "    load_df.drop([\"Date\", \"Hour\", \"month\"], axis=1), on=\"timestamp\", how=\"left\"\n",
    ")"
   ]
  },
  {
   "cell_type": "code",
   "execution_count": null,
   "id": "ee117a5e-5110-4969-8fa6-17d51c648f73",
   "metadata": {},
   "outputs": [],
   "source": [
    "df_load_weather.columns"
   ]
  },
  {
   "cell_type": "code",
   "execution_count": null,
   "id": "f3a18137-f333-4876-b3e6-c8d632523b05",
   "metadata": {},
   "outputs": [],
   "source": [
    "sns.scatterplot(\n",
    "    data=df_load_weather,\n",
    "    x=\"Temperature\",\n",
    "    y=\"Load\",\n",
    "    hue=\"Station ID\",\n",
    "    marker=\".\",\n",
    "    palette=\"Spectral\",\n",
    ")"
   ]
  },
  {
   "cell_type": "code",
   "execution_count": null,
   "id": "14336e5e-de3a-49cf-9c9f-8330a0aea129",
   "metadata": {},
   "outputs": [],
   "source": [
    "df_load_weather[\"HDH\"] = [x - 65 if x >= 65 else 0 for x in df_load_weather.Temperature]\n",
    "df_load_weather[\"CDH\"] = [65 - x if x < 65 else 0 for x in df_load_weather.Temperature]"
   ]
  },
  {
   "cell_type": "code",
   "execution_count": null,
   "id": "b4c1b049-a69c-4388-95c9-f440a54d925d",
   "metadata": {},
   "outputs": [],
   "source": [
    "sns.scatterplot(\n",
    "    data=df_load_weather[df_load_weather[\"Station ID\"] == 1],\n",
    "    x=\"HDH\",\n",
    "    y=\"Load\",\n",
    "    marker=\".\",\n",
    ")"
   ]
  },
  {
   "cell_type": "code",
   "execution_count": null,
   "id": "24a1a26d-40ff-479b-93d3-e6f58fc1a93c",
   "metadata": {},
   "outputs": [],
   "source": [
    "sns.scatterplot(\n",
    "    data=df_load_weather[df_load_weather[\"Station ID\"] == 1],\n",
    "    x=\"CDH\",\n",
    "    y=\"Load\",\n",
    "    marker=\".\",\n",
    ")"
   ]
  },
  {
   "cell_type": "code",
   "execution_count": null,
   "id": "e0c6ae56-d227-4254-893e-2e33075b76ff",
   "metadata": {},
   "outputs": [],
   "source": [
    "df_load_weather"
   ]
  },
  {
   "cell_type": "markdown",
   "id": "79a57338-39ab-426a-a66a-c9abbb87434c",
   "metadata": {},
   "source": [
    "Peak daily load and temperature"
   ]
  },
  {
   "cell_type": "code",
   "execution_count": null,
   "id": "f2007106-0f2b-4c10-9e91-82819524fe5a",
   "metadata": {},
   "outputs": [],
   "source": [
    "df_peak_load = df_load_weather.copy()\n",
    "idx = (\n",
    "    df_peak_load.groupby(pd.Grouper(key=\"timestamp\", freq=\"1D\"))[\"Load\"].transform(max)\n",
    "    == df_peak_load[\"Load\"]\n",
    ")\n",
    "df_peak_load = df_peak_load[idx]  # [['timestamp','Station ID','Temperature','Load']]"
   ]
  },
  {
   "cell_type": "code",
   "execution_count": null,
   "id": "f9e38d33-10c0-4f50-96db-3184bc2f3b33",
   "metadata": {},
   "outputs": [],
   "source": [
    "sns.scatterplot(\n",
    "    data=df_peak_load.sort_values(by=\"Station ID\"),\n",
    "    x=\"Temperature\",\n",
    "    y=\"Load\",\n",
    "    hue=\"Station ID\",\n",
    "    marker=\".\",\n",
    "    palette=\"Spectral\",\n",
    ")\n",
    "plt.ylabel(\"Peak Load\")"
   ]
  },
  {
   "cell_type": "code",
   "execution_count": null,
   "id": "29938f89-1625-4a65-848d-e359622e1160",
   "metadata": {},
   "outputs": [],
   "source": [
    "sns.scatterplot(\n",
    "    data=df_peak_load.sort_values(by=\"Station ID\"),\n",
    "    x=\"CDH\",\n",
    "    y=\"Load\",\n",
    "    marker=\".\",\n",
    "    hue=\"Station ID\",\n",
    "    palette=\"Spectral\",\n",
    ")\n",
    "plt.ylabel(\"Peak Load\")"
   ]
  },
  {
   "cell_type": "code",
   "execution_count": null,
   "id": "52dce16b-b87f-4437-9d0a-ca1f71d8f43f",
   "metadata": {},
   "outputs": [],
   "source": [
    "sns.scatterplot(\n",
    "    data=df_peak_load.sort_values(by=\"Station ID\"),\n",
    "    x=\"HDH\",\n",
    "    y=\"Load\",\n",
    "    marker=\".\",\n",
    "    hue=\"Station ID\",\n",
    "    palette=\"Spectral\",\n",
    ")\n",
    "plt.ylabel(\"Peak Load\")"
   ]
  },
  {
   "cell_type": "markdown",
   "id": "308c6e35-2a67-41e9-8342-af9818bd64ea",
   "metadata": {},
   "source": [
    "### Linear Model Fit by Station"
   ]
  },
  {
   "cell_type": "code",
   "execution_count": null,
   "id": "925ccdbb-2c5a-4ee0-8d3c-e00069961081",
   "metadata": {},
   "outputs": [],
   "source": [
    "df_load_weather.columns"
   ]
  },
  {
   "cell_type": "code",
   "execution_count": null,
   "id": "aed50756-a4d1-4163-9c88-339f796d5560",
   "metadata": {},
   "outputs": [],
   "source": [
    "station = 13\n",
    "df_load_weather_st = df_load_weather[df_load_weather[\"Station ID\"] == station]"
   ]
  },
  {
   "cell_type": "code",
   "execution_count": null,
   "id": "8c38b185-9fa0-476e-a1c6-c332bc21c03b",
   "metadata": {},
   "outputs": [],
   "source": [
    "df_load_weather_st[\"lagged_TMP_24h\"] = df_load_weather_st[\"Temperature\"].shift(24)"
   ]
  },
  {
   "cell_type": "code",
   "execution_count": null,
   "id": "665613ae-8c08-4f6f-8c70-a1e194025775",
   "metadata": {},
   "outputs": [],
   "source": [
    "df_load_weather_st[\"lagged_TMP_1h\"] = df_load_weather_st[\"Temperature\"].shift(1)"
   ]
  },
  {
   "cell_type": "code",
   "execution_count": null,
   "id": "22c8077a-74dc-401b-805b-b0d879c0a421",
   "metadata": {},
   "outputs": [],
   "source": [
    "df_load_weather_st[\"lagged_load_24h\"] = df_load_weather_st[\"Load\"].shift(24)"
   ]
  },
  {
   "cell_type": "code",
   "execution_count": null,
   "id": "8d02e509-1b8b-4294-a7f8-50b48d241ebf",
   "metadata": {},
   "outputs": [],
   "source": [
    "# df_load_weather_st['past_min_load']=\n",
    "tmp = (\n",
    "    df_load_weather_st.groupby(pd.Grouper(key=\"timestamp\", freq=\"1D\"))[\n",
    "        \"lagged_load_24h\"\n",
    "    ]\n",
    "    .min()\n",
    "    .reset_index()\n",
    ")\n",
    "tmp.rename(\n",
    "    columns={\"timestamp\": \"Datetime\", \"lagged_load_24h\": \"previous_min_load\"},\n",
    "    inplace=True,\n",
    ")"
   ]
  },
  {
   "cell_type": "code",
   "execution_count": null,
   "id": "83191098-ab3b-44cd-8177-3a325c6fe34f",
   "metadata": {},
   "outputs": [],
   "source": [
    "df_load_weather_st[\"Datetime\"] = pd.to_datetime(df_load_weather_st.Date)\n",
    "df_load_weather_st = df_load_weather_st.merge(tmp, on=\"Datetime\")"
   ]
  },
  {
   "cell_type": "code",
   "execution_count": null,
   "id": "84db7fdc-71d6-46fb-8e44-43042f50741d",
   "metadata": {},
   "outputs": [],
   "source": [
    "df_load_weather_st.columns"
   ]
  },
  {
   "cell_type": "code",
   "execution_count": null,
   "id": "e2d18cae-f62c-4141-9ac8-195a1ac4b990",
   "metadata": {},
   "outputs": [],
   "source": [
    "df_load_weather_st.isna().sum()"
   ]
  },
  {
   "cell_type": "code",
   "execution_count": null,
   "id": "c7bdee33-2c0f-4fba-bf7f-8d6585b99368",
   "metadata": {},
   "outputs": [],
   "source": [
    "df_load_weather_st[\"dayofweek\"] = df_load_weather_st.timestamp.dt.dayofweek"
   ]
  },
  {
   "cell_type": "code",
   "execution_count": null,
   "id": "db5f0d8a-4829-437b-b61b-d6c4c74eaa5d",
   "metadata": {},
   "outputs": [],
   "source": [
    "from patsy import dmatrices\n",
    "\n",
    "formula = \"Load ~ Temperature:C(month) + Temperature:C(Hour) + I(Temperature**2) + I(Temperature**3) + CDH + HDH + C(dayofweek):C(Hour)\"\n",
    "# formula = 'Load ~ Temperature:C(month) + Temperature:C(Hour) + I(Temperature**2) + I(Temperature**3) + CDH + HDH + lagged_TMP_24h'\n",
    "# formula = 'Load ~ Temperature:C(month) + Temperature:C(Hour) + I(Temperature**2) + I(Temperature**3) + CDH + HDH + lagged_TMP_1h'\n",
    "# formula = 'Load ~ Temperature:C(month) + Temperature:C(Hour) + I(Temperature**2) + I(Temperature**3) + CDH + HDH + lagged_load_24h + C(dayofweek):C(Hour)'\n",
    "# formula = 'Load ~ Temperature:C(month) + Temperature:C(Hour) + I(Temperature**2) + I(Temperature**3) + CDH + HDH + lagged_load_24h + previous_min_load'\n",
    "y, X = dmatrices(formula, df_load_weather_st, return_type=\"dataframe\")"
   ]
  },
  {
   "cell_type": "code",
   "execution_count": null,
   "id": "fd891772-7a0b-4530-a974-be49952d9f1a",
   "metadata": {},
   "outputs": [],
   "source": [
    "X"
   ]
  },
  {
   "cell_type": "code",
   "execution_count": null,
   "id": "ab485185-7b96-431c-a6f2-43c116348cd7",
   "metadata": {},
   "outputs": [],
   "source": [
    "model = LinearRegression()\n",
    "model.fit(X, y)"
   ]
  },
  {
   "cell_type": "code",
   "execution_count": null,
   "id": "5e6bd27c-7d77-4bf9-96c3-fb41366e3bfc",
   "metadata": {},
   "outputs": [],
   "source": [
    "model.n_features_in_"
   ]
  },
  {
   "cell_type": "code",
   "execution_count": null,
   "id": "98047dae-3013-48df-a863-1c6b4deaeff4",
   "metadata": {},
   "outputs": [],
   "source": [
    "print(\"Obs per coeff: \" + str(len(X) / model.n_features_in_))"
   ]
  },
  {
   "cell_type": "code",
   "execution_count": null,
   "id": "f2fc0c8f-a1b5-4769-86ae-a462a30d556f",
   "metadata": {},
   "outputs": [],
   "source": [
    "y_pred = model.predict(X)"
   ]
  },
  {
   "cell_type": "code",
   "execution_count": null,
   "id": "d358a851-3866-4ef2-8946-7497b9dd4334",
   "metadata": {},
   "outputs": [],
   "source": [
    "model.score(X, y)"
   ]
  },
  {
   "cell_type": "code",
   "execution_count": null,
   "id": "16132f80-d5f5-4b1d-a61d-c7984a4e8a43",
   "metadata": {},
   "outputs": [],
   "source": [
    "f, ax = plt.subplots(figsize=(6, 6))\n",
    "ax.scatter(y, y_pred, marker=\".\")\n",
    "ax.plot([0, 1], [0, 1], transform=ax.transAxes, color=\"gray\", linestyle=\"dashed\")\n",
    "plt.xlabel(\"Observed Load\")\n",
    "plt.ylabel(\"Predicted Load\")\n",
    "plt.title(\"with Station ID: \" + str(station))"
   ]
  },
  {
   "cell_type": "code",
   "execution_count": null,
   "id": "69bb0a1b-e8fb-47ba-913b-b023842def9f",
   "metadata": {},
   "outputs": [],
   "source": [
    "from sklearn.metrics import mean_absolute_error as mae\n",
    "\n",
    "mae(y, y_pred)"
   ]
  },
  {
   "cell_type": "code",
   "execution_count": null,
   "id": "cfa50eeb-cd5f-496b-8d65-ab5a003a90b6",
   "metadata": {},
   "outputs": [],
   "source": [
    "f, ax = plt.subplots(figsize=(6, 6))\n",
    "ax.scatter(y, y - y_pred, marker=\".\")\n",
    "ax.axhline(0, color=\"gray\", linestyle=\"dashed\")\n",
    "plt.xlabel(\"Observed Load\")\n",
    "plt.ylabel(\"Bias: Observed - Predicted Load\")\n",
    "plt.title(\"with Station ID: \" + str(station))"
   ]
  },
  {
   "cell_type": "code",
   "execution_count": null,
   "id": "3e76f42d-f3c7-4655-b9f4-04183b7a4c7d",
   "metadata": {},
   "outputs": [],
   "source": [
    "from sklearn.metrics import mean_absolute_percentage_error as mape\n",
    "\n",
    "mape(y, y_pred)"
   ]
  },
  {
   "cell_type": "code",
   "execution_count": null,
   "id": "d7bda545-76b5-4259-adb5-1171445e4901",
   "metadata": {},
   "outputs": [],
   "source": [
    "# df_subset=df_load_weather_st[~df_load_weather_st.isna().any(axis=1)].copy()  <- for nans in lags\n",
    "df_subset = df_load_weather_st[df_load_weather_st.Load > 0].copy()\n",
    "df_subset[\"Load_predicted\"] = y_pred"
   ]
  },
  {
   "cell_type": "code",
   "execution_count": null,
   "id": "95a9f4c1-407f-48c9-853c-1b378d1b7fce",
   "metadata": {},
   "outputs": [],
   "source": [
    "plt.figure(figsize=(15, 3))\n",
    "sns.lineplot(data=df_subset, x=\"timestamp\", y=\"Load_predicted\", label=\"predicted\")\n",
    "sns.scatterplot(\n",
    "    data=df_subset, x=\"timestamp\", y=\"Load\", marker=\".\", color=\"r\", label=\"observed\"\n",
    ")\n",
    "plt.ylabel(\"Hourly Load (MW)\")\n",
    "plt.title(\"with Station ID: \" + str(station))"
   ]
  },
  {
   "cell_type": "markdown",
   "id": "236acc93-cb9c-4731-b3e5-1b0fee78bb48",
   "metadata": {},
   "source": [
    "Check maxima, predicted vs observed"
   ]
  },
  {
   "cell_type": "code",
   "execution_count": null,
   "id": "e876afd0-cbfd-4a15-8dc3-40f1fbfceec9",
   "metadata": {},
   "outputs": [],
   "source": [
    "idx = (\n",
    "    df_subset.groupby(pd.Grouper(key=\"timestamp\", freq=\"1D\"))[\n",
    "        \"Load_predicted\"\n",
    "    ].transform(max)\n",
    "    == df_subset[\"Load_predicted\"]\n",
    ")\n",
    "df_peak_pred = df_subset[idx][\n",
    "    [\"Datetime\", \"timestamp\", \"Date\", \"Hour\", \"Load_predicted\"]\n",
    "]"
   ]
  },
  {
   "cell_type": "code",
   "execution_count": null,
   "id": "ccab27e9-be38-45cb-addb-53a14bbc693e",
   "metadata": {},
   "outputs": [],
   "source": [
    "idx = (\n",
    "    df_subset.groupby(pd.Grouper(key=\"timestamp\", freq=\"1D\"))[\"Load\"].transform(max)\n",
    "    == df_subset[\"Load\"]\n",
    ")\n",
    "df_peak_obs = df_subset[idx][[\"Datetime\", \"timestamp\", \"Date\", \"Hour\", \"Load\"]]"
   ]
  },
  {
   "cell_type": "code",
   "execution_count": null,
   "id": "03123af9-90cd-4602-8dfb-d83a08418d77",
   "metadata": {},
   "outputs": [],
   "source": [
    "plt.figure(figsize=(15, 3))\n",
    "sns.scatterplot(\n",
    "    data=df_peak_pred, x=\"timestamp\", y=\"Load_predicted\", marker=\".\", label=\"predicted\"\n",
    ")\n",
    "sns.scatterplot(\n",
    "    data=df_peak_obs, x=\"timestamp\", y=\"Load\", marker=\".\", color=\"r\", label=\"observed\"\n",
    ")\n",
    "plt.ylabel(\"Peak load\")\n",
    "plt.title(\"with Station ID: \" + str(station))"
   ]
  },
  {
   "cell_type": "code",
   "execution_count": null,
   "id": "3bfa7d30-24b1-4dd3-a80f-2cdc4f0f6835",
   "metadata": {},
   "outputs": [],
   "source": [
    "plt.figure(figsize=(15, 5))\n",
    "sns.scatterplot(\n",
    "    data=df_peak_pred, x=\"Datetime\", y=\"Hour\", marker=\".\", label=\"predicted\"\n",
    ")\n",
    "sns.scatterplot(\n",
    "    data=df_peak_obs, x=\"Datetime\", y=\"Hour\", marker=\".\", color=\"r\", label=\"observed\"\n",
    ")\n",
    "plt.ylabel(\"Peak hour\")\n",
    "plt.title(\"with Station ID: \" + str(station))"
   ]
  },
  {
   "cell_type": "code",
   "execution_count": null,
   "id": "c378a663-8972-4181-a707-dcdd1b758e82",
   "metadata": {},
   "outputs": [],
   "source": [
    "df_peak_obs"
   ]
  },
  {
   "cell_type": "code",
   "execution_count": null,
   "id": "4fd4bfdf-85d1-4ad5-a7c9-5c414685aa5a",
   "metadata": {},
   "outputs": [],
   "source": [
    "df_peak_pred"
   ]
  },
  {
   "cell_type": "code",
   "execution_count": null,
   "id": "cdbf0181-640b-4ee8-8c0a-56b9f7ecfe6a",
   "metadata": {},
   "outputs": [],
   "source": [
    "df_peak_pred_pivot = df_peak_pred.copy()\n",
    "df_peak_pred_pivot[\"month\"] = df_peak_pred_pivot.timestamp.dt.month\n",
    "df_peak_pred_pivot[\"day\"] = df_peak_pred_pivot.timestamp.dt.day\n",
    "plt.figure(figsize=(15, 5))\n",
    "sns.heatmap(\n",
    "    df_peak_pred_pivot.groupby([\"month\", \"day\"])[\"Hour\"]\n",
    "    .mean()\n",
    "    .reset_index()\n",
    "    .pivot(columns=\"day\", index=\"month\", values=\"Hour\"),\n",
    "    cmap=\"Spectral\",\n",
    "    vmin=1,\n",
    "    vmax=24,\n",
    "    center=12,\n",
    ")\n",
    "plt.title(\"Predicted Average Peak Hour\")"
   ]
  },
  {
   "cell_type": "code",
   "execution_count": null,
   "id": "adad2381-02de-41f8-a70f-e1fc781fda15",
   "metadata": {},
   "outputs": [],
   "source": [
    "plt.figure(figsize=(15, 5))\n",
    "sns.heatmap(\n",
    "    df_peak_pred_pivot.groupby([\"month\", \"day\"])[\"Hour\"]\n",
    "    .std()\n",
    "    .reset_index()\n",
    "    .pivot(columns=\"day\", index=\"month\", values=\"Hour\"),\n",
    "    cmap=\"magma\",\n",
    "    vmin=0,\n",
    "    vmax=8,\n",
    ")\n",
    "plt.title(\"Predicted Std Dev Peak Hour\")"
   ]
  },
  {
   "cell_type": "markdown",
   "id": "e020a912-efd5-469e-bdff-c36b4a8f8281",
   "metadata": {},
   "source": [
    "### Direct Forecasting 2008 for models without lagged load"
   ]
  },
  {
   "cell_type": "markdown",
   "id": "029baad4-6728-4e02-9bf6-9a04122f0b05",
   "metadata": {},
   "source": [
    "Forecast 2008 with lagged load terms needs up to 1 day steps"
   ]
  },
  {
   "cell_type": "code",
   "execution_count": null,
   "id": "cc51ba81-9bcd-4ca3-9d06-3065a26b2601",
   "metadata": {},
   "outputs": [],
   "source": [
    "df_load_weather_st[df_load_weather_st.timestamp > \"2008-01-01\"].isna().sum()"
   ]
  },
  {
   "cell_type": "code",
   "execution_count": null,
   "id": "cc4f54e8-0aea-4879-9e3c-0eca16da1563",
   "metadata": {},
   "outputs": [],
   "source": [
    "df_forecast = df_load_weather_st[(df_load_weather_st.timestamp > \"2008-01-01\")].copy()"
   ]
  },
  {
   "cell_type": "code",
   "execution_count": null,
   "id": "80003fc5-da9c-48c3-b144-8c88b7fa9fdd",
   "metadata": {},
   "outputs": [],
   "source": [
    "df_forecast[\"Load\"] = 0  # sentinel needed otherwise X comes back empty from dmatrices\n",
    "yy, X_forecast = dmatrices(formula, df_forecast, return_type=\"dataframe\")\n",
    "y_forecast = model.predict(X_forecast)\n",
    "df_forecast[\"Load_predicted\"] = y_forecast"
   ]
  },
  {
   "cell_type": "code",
   "execution_count": null,
   "id": "134c27aa-088c-4a32-918d-a3181322e4c2",
   "metadata": {},
   "outputs": [],
   "source": [
    "idx = (\n",
    "    df_forecast.groupby(pd.Grouper(key=\"timestamp\", freq=\"1D\"))[\n",
    "        \"Load_predicted\"\n",
    "    ].transform(max)\n",
    "    == df_forecast[\"Load_predicted\"]\n",
    ")\n",
    "df_forecasted_peaks = df_forecast[idx][[\"Date\", \"Hour\", \"timestamp\", \"Load_predicted\"]]"
   ]
  },
  {
   "cell_type": "code",
   "execution_count": null,
   "id": "64208884-a186-40ee-9ce3-ed17f714e66e",
   "metadata": {},
   "outputs": [],
   "source": [
    "plt.figure(figsize=(15, 3))\n",
    "sns.lineplot(\n",
    "    data=df_forecast, x=\"timestamp\", y=\"Load_predicted\", color=\"gray\", alpha=0.1\n",
    ")\n",
    "sns.scatterplot(\n",
    "    data=df_forecasted_peaks,\n",
    "    x=\"timestamp\",\n",
    "    y=\"Load_predicted\",\n",
    "    color=\"r\",\n",
    "    marker=\".\",\n",
    "    label=\"peak\",\n",
    ")"
   ]
  },
  {
   "cell_type": "code",
   "execution_count": null,
   "id": "216a5672-d032-47b3-ab56-8b6cd2083ffa",
   "metadata": {},
   "outputs": [],
   "source": [
    "df_forecasted_peaks.head()"
   ]
  },
  {
   "cell_type": "code",
   "execution_count": null,
   "id": "5e20450f-0ea0-4999-a283-f63eaeccfcbd",
   "metadata": {},
   "outputs": [],
   "source": [
    "df_forecast[df_forecast.Date == \"1/2/2008\"][\n",
    "    [\"Date\", \"Hour\", \"timestamp\", \"Load_predicted\"]\n",
    "]"
   ]
  },
  {
   "cell_type": "code",
   "execution_count": null,
   "id": "d244b8c7-1f6b-4bb0-8e22-62dd7c364ad0",
   "metadata": {},
   "outputs": [],
   "source": [
    "df_forecasted_peaks_pivot = df_forecasted_peaks.copy()\n",
    "df_forecasted_peaks_pivot[\"day\"] = df_forecasted_peaks_pivot.timestamp.dt.day\n",
    "df_forecasted_peaks_pivot[\"month\"] = df_forecasted_peaks_pivot.timestamp.dt.month\n",
    "plt.figure(figsize=(15, 5))\n",
    "sns.heatmap(\n",
    "    df_peak_pred_pivot.groupby([\"month\", \"day\"])[\"Hour\"]\n",
    "    .first()\n",
    "    .reset_index()\n",
    "    .pivot(columns=\"day\", index=\"month\", values=\"Hour\"),\n",
    "    annot=True,\n",
    "    annot_kws={\"fontsize\": 8},\n",
    "    cmap=\"Spectral\",\n",
    "    vmin=1,\n",
    "    vmax=24,\n",
    "    center=12,\n",
    ")\n",
    "plt.title(\"Predicted 2008 Peak Hour with Station ID:\" + str(station))"
   ]
  },
  {
   "cell_type": "markdown",
   "id": "4b7bc55a-93c1-4283-a47f-42e3e30d5f44",
   "metadata": {},
   "source": [
    "### Predict with all stations and collect peak hours"
   ]
  },
  {
   "cell_type": "code",
   "execution_count": null,
   "id": "88e547d6-32e8-4409-949f-0c76a3864919",
   "metadata": {},
   "outputs": [],
   "source": [
    "formula = \"Load ~ Temperature:C(month) + Temperature:C(Hour) + I(Temperature**2) + I(Temperature**3) + CDH + HDH + C(dayofweek):C(Hour)\""
   ]
  },
  {
   "cell_type": "code",
   "execution_count": null,
   "id": "56704884-7718-492e-8329-c7d91b43dda6",
   "metadata": {},
   "outputs": [],
   "source": [
    "peak_hours = []\n",
    "for station in df_load_weather[\"Station ID\"].unique():\n",
    "    df_load_weather_st = df_load_weather[df_load_weather[\"Station ID\"] == station]\n",
    "    df_load_weather_st[\"dayofweek\"] = df_load_weather_st.timestamp.dt.dayofweek\n",
    "    y, X = dmatrices(formula, df_load_weather_st, return_type=\"dataframe\")\n",
    "    model = LinearRegression()\n",
    "    model.fit(X, y)\n",
    "    df_forecast = df_load_weather_st[\n",
    "        (df_load_weather_st.timestamp > \"2008-01-01\")\n",
    "    ].copy()\n",
    "    df_forecast[\n",
    "        \"Load\"\n",
    "    ] = 0  # sentinel needed otherwise X comes back empty from dmatrices\n",
    "    yy, X_forecast = dmatrices(formula, df_forecast, return_type=\"dataframe\")\n",
    "    y_forecast = model.predict(X_forecast)\n",
    "    df_forecast[\"Load_predicted\"] = y_forecast\n",
    "    idx = (\n",
    "        df_forecast.groupby(pd.Grouper(key=\"timestamp\", freq=\"1D\"))[\n",
    "            \"Load_predicted\"\n",
    "        ].transform(max)\n",
    "        == df_forecast[\"Load_predicted\"]\n",
    "    )\n",
    "    df_forecasted_peaks = df_forecast[idx][\n",
    "        [\"Date\", \"Hour\", \"timestamp\", \"Load_predicted\"]\n",
    "    ]\n",
    "    df_forecasted_peaks[\"station\"] = station\n",
    "    peak_hours.append(df_forecasted_peaks)"
   ]
  },
  {
   "cell_type": "code",
   "execution_count": null,
   "id": "a71010f1-93ad-46ed-aeb4-05bbde5441d6",
   "metadata": {},
   "outputs": [],
   "source": [
    "pd.concat(peak_hours).to_csv(\"peak_forecast_allstations.csv\")"
   ]
  },
  {
   "cell_type": "code",
   "execution_count": null,
   "id": "917c3f47-ca98-4953-9df1-e7364f24a702",
   "metadata": {},
   "outputs": [],
   "source": []
  }
 ],
 "metadata": {
  "kernelspec": {
   "display_name": "projects-rCMx4yDZ-py3.11",
   "language": "python",
   "name": "projects-rcmx4ydz-py3.11"
  },
  "language_info": {
   "codemirror_mode": {
    "name": "ipython",
    "version": 3
   },
   "file_extension": ".py",
   "mimetype": "text/x-python",
   "name": "python",
   "nbconvert_exporter": "python",
   "pygments_lexer": "ipython3",
   "version": "3.11.4"
  }
 },
 "nbformat": 4,
 "nbformat_minor": 5
}
