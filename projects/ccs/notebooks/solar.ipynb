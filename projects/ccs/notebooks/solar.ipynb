{
 "cells": [
  {
   "cell_type": "code",
   "execution_count": 1,
   "metadata": {},
   "outputs": [],
   "source": [
    "import pandas as pd\n",
    "from projects.ccs.rooftop_solar_project import RooftopSolarProject\n",
    "\n"
   ]
  },
  {
   "cell_type": "code",
   "execution_count": 2,
   "metadata": {},
   "outputs": [],
   "source": [
    "all_df=pd.read_csv('/Volumes/Samsung_T5/data/ccs/6kw_solar_npc_states_3tilts_9azimuths.csv',index_col=[0])"
   ]
  },
  {
   "cell_type": "code",
   "execution_count": 3,
   "metadata": {},
   "outputs": [],
   "source": [
    "time_varying_carbon_intensity_df=pd.read_csv('/Volumes/Samsung_T5/data/ccs/us_fossil_fuel_carbon_intensity_projections.csv')"
   ]
  },
  {
   "cell_type": "code",
   "execution_count": 4,
   "metadata": {},
   "outputs": [],
   "source": [
    "shared_params={}\n",
    "shared_params['inflation_rate']=0.025\n",
    "shared_params['discount_rate']=0.12\n",
    "shared_params['tco2_per_kwh']=list(time_varying_carbon_intensity_df['carbon intensity'])\n",
    "shared_params['project_length_yrs']=25\n",
    "shared_params['bond_interest_rate']=0.0428"
   ]
  },
  {
   "cell_type": "code",
   "execution_count": 5,
   "metadata": {},
   "outputs": [],
   "source": [
    "s=RooftopSolarProject(all_df.loc[1,['kwh_per_yr', 'lat', 'lon', 'state', 'tilt', 'azimuth',\n",
    "       'kw', 'region',\n",
    "       'installation_cost_usd', 'usd_per_kwh']].to_dict() | shared_params)"
   ]
  },
  {
   "cell_type": "code",
   "execution_count": 6,
   "metadata": {},
   "outputs": [
    {
     "data": {
      "text/plain": [
       "7882.195918447085"
      ]
     },
     "execution_count": 6,
     "metadata": {},
     "output_type": "execute_result"
    }
   ],
   "source": [
    "\n"
   ]
  },
  {
   "cell_type": "code",
   "execution_count": 46,
   "metadata": {},
   "outputs": [
    {
     "data": {
      "text/plain": [
       "10790.685910524571"
      ]
     },
     "execution_count": 46,
     "metadata": {},
     "output_type": "execute_result"
    }
   ],
   "source": [
    "6547.715910524571+4242.97"
   ]
  },
  {
   "cell_type": "code",
   "execution_count": 11,
   "metadata": {},
   "outputs": [],
   "source": [
    "for i,row in all_df.loc[all_df.installation_cost_scenario=='avg_install_usd'].iterrows():\n",
    "       s=RooftopSolarProject(row[['kwh_per_yr', 'lat', 'lon', 'state', 'tilt', 'azimuth',\n",
    "       'kw', 'region',\n",
    "       'installation_cost_usd', 'usd_per_kwh']].to_dict() | shared_params)\n",
    "       all_df.at[i,'npv']=s.npv\n",
    "       all_df.at[i,'total_co2']=s.total_tco2\n",
    "       all_df.at[i,'pv_homeowner_expense_usd']=s.pv_homeowner_expense_usd\n",
    "       all_df.at[i,'pv_homeowner_expense_usd_per_tco2']=s.pv_homeowner_expense_usd_per_tco2\n",
    "       all_df.at[i,'npv_homeowner_usd']=s.npv_homeowner_usd\n",
    "       all_df.at[i,'pv_govt_expense_usd']=s.pv_govt_expense_usd\n",
    "       all_df.at[i,'pv_govt_expense_usd_per_tco2']=s.pv_govt_expense_usd_per_tco2\n",
    "       all_df.at[i,'pv_solar_revenue_usd']=s.pv_solar_revenue_usd\n",
    "       all_df.at[i,'pv_solar_usd_per_tco2']=s.pv_solar_usd_per_tco2\n",
    "\n",
    "\n",
    "       \n"
   ]
  },
  {
   "cell_type": "code",
   "execution_count": 12,
   "metadata": {},
   "outputs": [],
   "source": [
    "ccs_df=pd.read_csv('/Volumes/Samsung_T5/data/ccs/ues_simulations.csv',index_col=[0])"
   ]
  },
  {
   "cell_type": "code",
   "execution_count": 13,
   "metadata": {},
   "outputs": [
    {
     "data": {
      "text/html": [
       "<div>\n",
       "<style scoped>\n",
       "    .dataframe tbody tr th:only-of-type {\n",
       "        vertical-align: middle;\n",
       "    }\n",
       "\n",
       "    .dataframe tbody tr th {\n",
       "        vertical-align: top;\n",
       "    }\n",
       "\n",
       "    .dataframe thead th {\n",
       "        text-align: right;\n",
       "    }\n",
       "</style>\n",
       "<table border=\"1\" class=\"dataframe\">\n",
       "  <thead>\n",
       "    <tr style=\"text-align: right;\">\n",
       "      <th></th>\n",
       "      <th>kwh_per_yr</th>\n",
       "      <th>tco2_per_kwh</th>\n",
       "      <th>installation_cost_usd</th>\n",
       "      <th>usd_per_kwh</th>\n",
       "      <th>npv</th>\n",
       "      <th>total_co2</th>\n",
       "      <th>pv_homeowner_expense_usd</th>\n",
       "      <th>pv_homeowner_expense_usd_per_tco2</th>\n",
       "      <th>npv_homeowner_usd</th>\n",
       "      <th>pv_govt_expense_usd</th>\n",
       "      <th>pv_govt_expense_usd_per_tco2</th>\n",
       "      <th>pv_solar_revenue_usd</th>\n",
       "      <th>pv_solar_usd_per_tco2</th>\n",
       "    </tr>\n",
       "    <tr>\n",
       "      <th>region</th>\n",
       "      <th></th>\n",
       "      <th></th>\n",
       "      <th></th>\n",
       "      <th></th>\n",
       "      <th></th>\n",
       "      <th></th>\n",
       "      <th></th>\n",
       "      <th></th>\n",
       "      <th></th>\n",
       "      <th></th>\n",
       "      <th></th>\n",
       "      <th></th>\n",
       "      <th></th>\n",
       "    </tr>\n",
       "  </thead>\n",
       "  <tbody>\n",
       "    <tr>\n",
       "      <th>california</th>\n",
       "      <td>9436.696643</td>\n",
       "      <td>0.000178</td>\n",
       "      <td>17395.000000</td>\n",
       "      <td>0.383567</td>\n",
       "      <td>25505.833992</td>\n",
       "      <td>111.624893</td>\n",
       "      <td>7190.499890</td>\n",
       "      <td>64.599348</td>\n",
       "      <td>30165.334027</td>\n",
       "      <td>4659.500035</td>\n",
       "      <td>41.860882</td>\n",
       "      <td>37355.833918</td>\n",
       "      <td>335.100023</td>\n",
       "    </tr>\n",
       "    <tr>\n",
       "      <th>gulf_coast</th>\n",
       "      <td>8608.179398</td>\n",
       "      <td>0.000359</td>\n",
       "      <td>16584.857143</td>\n",
       "      <td>0.142657</td>\n",
       "      <td>1396.870227</td>\n",
       "      <td>101.824520</td>\n",
       "      <td>6855.614456</td>\n",
       "      <td>67.565228</td>\n",
       "      <td>5839.361887</td>\n",
       "      <td>4442.491661</td>\n",
       "      <td>43.782795</td>\n",
       "      <td>12694.976344</td>\n",
       "      <td>124.631299</td>\n",
       "    </tr>\n",
       "    <tr>\n",
       "      <th>midwest</th>\n",
       "      <td>7772.769113</td>\n",
       "      <td>0.000462</td>\n",
       "      <td>18419.777778</td>\n",
       "      <td>0.164822</td>\n",
       "      <td>615.513450</td>\n",
       "      <td>91.942610</td>\n",
       "      <td>7614.108082</td>\n",
       "      <td>83.323897</td>\n",
       "      <td>5549.514899</td>\n",
       "      <td>4934.001449</td>\n",
       "      <td>53.994536</td>\n",
       "      <td>13163.622981</td>\n",
       "      <td>143.995647</td>\n",
       "    </tr>\n",
       "    <tr>\n",
       "      <th>north_central</th>\n",
       "      <td>9018.704808</td>\n",
       "      <td>0.000519</td>\n",
       "      <td>16282.857143</td>\n",
       "      <td>0.119857</td>\n",
       "      <td>95.260462</td>\n",
       "      <td>106.680547</td>\n",
       "      <td>6730.777953</td>\n",
       "      <td>63.521346</td>\n",
       "      <td>4456.857095</td>\n",
       "      <td>4361.596633</td>\n",
       "      <td>41.162328</td>\n",
       "      <td>11187.635049</td>\n",
       "      <td>104.712257</td>\n",
       "    </tr>\n",
       "    <tr>\n",
       "      <th>south_central</th>\n",
       "      <td>9678.883446</td>\n",
       "      <td>0.000322</td>\n",
       "      <td>17131.666667</td>\n",
       "      <td>0.135200</td>\n",
       "      <td>1908.580778</td>\n",
       "      <td>114.489674</td>\n",
       "      <td>7081.646869</td>\n",
       "      <td>61.991892</td>\n",
       "      <td>6497.543206</td>\n",
       "      <td>4588.962428</td>\n",
       "      <td>40.171230</td>\n",
       "      <td>13579.190075</td>\n",
       "      <td>118.116424</td>\n",
       "    </tr>\n",
       "  </tbody>\n",
       "</table>\n",
       "</div>"
      ],
      "text/plain": [
       "                kwh_per_yr  tco2_per_kwh  installation_cost_usd  usd_per_kwh  \\\n",
       "region                                                                         \n",
       "california     9436.696643      0.000178           17395.000000     0.383567   \n",
       "gulf_coast     8608.179398      0.000359           16584.857143     0.142657   \n",
       "midwest        7772.769113      0.000462           18419.777778     0.164822   \n",
       "north_central  9018.704808      0.000519           16282.857143     0.119857   \n",
       "south_central  9678.883446      0.000322           17131.666667     0.135200   \n",
       "\n",
       "                        npv   total_co2  pv_homeowner_expense_usd  \\\n",
       "region                                                              \n",
       "california     25505.833992  111.624893               7190.499890   \n",
       "gulf_coast      1396.870227  101.824520               6855.614456   \n",
       "midwest          615.513450   91.942610               7614.108082   \n",
       "north_central     95.260462  106.680547               6730.777953   \n",
       "south_central   1908.580778  114.489674               7081.646869   \n",
       "\n",
       "               pv_homeowner_expense_usd_per_tco2  npv_homeowner_usd  \\\n",
       "region                                                                \n",
       "california                             64.599348       30165.334027   \n",
       "gulf_coast                             67.565228        5839.361887   \n",
       "midwest                                83.323897        5549.514899   \n",
       "north_central                          63.521346        4456.857095   \n",
       "south_central                          61.991892        6497.543206   \n",
       "\n",
       "               pv_govt_expense_usd  pv_govt_expense_usd_per_tco2  \\\n",
       "region                                                             \n",
       "california             4659.500035                     41.860882   \n",
       "gulf_coast             4442.491661                     43.782795   \n",
       "midwest                4934.001449                     53.994536   \n",
       "north_central          4361.596633                     41.162328   \n",
       "south_central          4588.962428                     40.171230   \n",
       "\n",
       "               pv_solar_revenue_usd  pv_solar_usd_per_tco2  \n",
       "region                                                      \n",
       "california             37355.833918             335.100023  \n",
       "gulf_coast             12694.976344             124.631299  \n",
       "midwest                13163.622981             143.995647  \n",
       "north_central          11187.635049             104.712257  \n",
       "south_central          13579.190075             118.116424  "
      ]
     },
     "execution_count": 13,
     "metadata": {},
     "output_type": "execute_result"
    }
   ],
   "source": [
    "all_df[['kwh_per_yr','region',\n",
    "       'tco2_per_kwh', 'installation_cost_usd',\n",
    "       'usd_per_kwh', 'npv', 'total_co2', 'pv_homeowner_expense_usd',\n",
    "       'pv_homeowner_expense_usd_per_tco2', 'npv_homeowner_usd',\n",
    "       'pv_govt_expense_usd', 'pv_govt_expense_usd_per_tco2',\n",
    "       'pv_solar_revenue_usd', 'pv_solar_usd_per_tco2']].loc[all_df.installation_cost_scenario=='avg_install_usd'].groupby('region').mean()"
   ]
  },
  {
   "cell_type": "code",
   "execution_count": null,
   "metadata": {},
   "outputs": [],
   "source": []
  },
  {
   "cell_type": "code",
   "execution_count": null,
   "metadata": {},
   "outputs": [],
   "source": []
  }
 ],
 "metadata": {
  "kernelspec": {
   "display_name": "projects-7_KjhAaO-py3.11",
   "language": "python",
   "name": "projects-7_kjhaao-py3.11"
  },
  "language_info": {
   "codemirror_mode": {
    "name": "ipython",
    "version": 3
   },
   "file_extension": ".py",
   "mimetype": "text/x-python",
   "name": "python",
   "nbconvert_exporter": "python",
   "pygments_lexer": "ipython3",
   "version": "3.11.4"
  }
 },
 "nbformat": 4,
 "nbformat_minor": 2
}
