{
 "cells": [
  {
   "cell_type": "code",
   "execution_count": 8,
   "metadata": {},
   "outputs": [],
   "source": [
    "import pandas as pd\n",
    "import geopandas as gpd\n",
    "import matplotlib.pyplot as plt\n",
    "import seaborn as sns\n",
    "\n",
    "FILE = \"/Volumes/Samsung_T5/data/ccs_projects/final_GIS_project.gpkg\"\n",
    "STATE_OUTLINE = \"/Volumes/Samsung_T5/data/us_geo/us_states.json\""
   ]
  },
  {
   "cell_type": "code",
   "execution_count": 19,
   "metadata": {},
   "outputs": [
    {
     "data": {
      "text/plain": [
       "<Geographic 2D CRS: EPSG:4326>\n",
       "Name: WGS 84\n",
       "Axis Info [ellipsoidal]:\n",
       "- Lat[north]: Geodetic latitude (degree)\n",
       "- Lon[east]: Geodetic longitude (degree)\n",
       "Area of Use:\n",
       "- name: World.\n",
       "- bounds: (-180.0, -90.0, 180.0, 90.0)\n",
       "Datum: World Geodetic System 1984 ensemble\n",
       "- Ellipsoid: WGS 84\n",
       "- Prime Meridian: Greenwich"
      ]
     },
     "execution_count": 19,
     "metadata": {},
     "output_type": "execute_result"
    }
   ],
   "source": [
    "gdf = gpd.read_file(FILE)\n",
    "gdf.crs"
   ]
  },
  {
   "cell_type": "code",
   "execution_count": 20,
   "metadata": {},
   "outputs": [
    {
     "data": {
      "text/plain": [
       "<Geographic 2D CRS: EPSG:4326>\n",
       "Name: WGS 84\n",
       "Axis Info [ellipsoidal]:\n",
       "- Lat[north]: Geodetic latitude (degree)\n",
       "- Lon[east]: Geodetic longitude (degree)\n",
       "Area of Use:\n",
       "- name: World.\n",
       "- bounds: (-180.0, -90.0, 180.0, 90.0)\n",
       "Datum: World Geodetic System 1984 ensemble\n",
       "- Ellipsoid: WGS 84\n",
       "- Prime Meridian: Greenwich"
      ]
     },
     "execution_count": 20,
     "metadata": {},
     "output_type": "execute_result"
    }
   ],
   "source": [
    "states_gdf = gpd.read_file(STATE_OUTLINE)\n",
    "states_gdf.crs"
   ]
  },
  {
   "cell_type": "code",
   "execution_count": 27,
   "metadata": {},
   "outputs": [
    {
     "name": "stdout",
     "output_type": "stream",
     "text": [
      "<class 'geopandas.geodataframe.GeoDataFrame'>\n",
      "RangeIndex: 15051 entries, 0 to 15050\n",
      "Data columns (total 22 columns):\n",
      " #   Column            Non-Null Count  Dtype   \n",
      "---  ------            --------------  -----   \n",
      " 0   SURFACE_ID        12404 non-null  float64 \n",
      " 1   SYMNUM            12404 non-null  float64 \n",
      " 2   API               15051 non-null  object  \n",
      " 3   RELIAB            12404 non-null  object  \n",
      " 4   LONG27            12404 non-null  float64 \n",
      " 5   LAT27             12404 non-null  float64 \n",
      " 6   LONG83            12404 non-null  float64 \n",
      " 7   LAT83             12404 non-null  float64 \n",
      " 8   WELLID            12404 non-null  object  \n",
      " 9   X                 15051 non-null  int64   \n",
      " 10  uicOPER           15051 non-null  object  \n",
      " 11  uicClass          15051 non-null  int64   \n",
      " 12  uicACTIVATEDFLAG  15051 non-null  object  \n",
      " 13  uicBBLVOLINJ      15051 non-null  int64   \n",
      " 14  uicH1NO           15051 non-null  object  \n",
      " 15  uicW14NO          15051 non-null  object  \n",
      " 16  uicSTATUS         15051 non-null  object  \n",
      " 17  permit_date       15051 non-null  object  \n",
      " 18  county_code       15051 non-null  object  \n",
      " 19  operator_name     15051 non-null  object  \n",
      " 20  operator_number   15051 non-null  int64   \n",
      " 21  geometry          15051 non-null  geometry\n",
      "dtypes: float64(6), geometry(1), int64(4), object(11)\n",
      "memory usage: 2.5+ MB\n"
     ]
    }
   ],
   "source": [
    "gdf.info()"
   ]
  },
  {
   "cell_type": "code",
   "execution_count": 28,
   "metadata": {},
   "outputs": [
    {
     "data": {
      "text/plain": [
       "array(['SURFACE_ID', 'SYMNUM', 'API', 'RELIAB', 'LONG27', 'LAT27',\n",
       "       'LONG83', 'LAT83', 'WELLID', 'X', 'uicOPER', 'uicClass',\n",
       "       'uicACTIVATEDFLAG', 'uicBBLVOLINJ', 'uicH1NO', 'uicW14NO',\n",
       "       'uicSTATUS', 'permit_date', 'county_code', 'operator_name',\n",
       "       'operator_number', 'geometry'], dtype=object)"
      ]
     },
     "execution_count": 28,
     "metadata": {},
     "output_type": "execute_result"
    }
   ],
   "source": [
    "gdf.columns.values"
   ]
  },
  {
   "cell_type": "code",
   "execution_count": 29,
   "metadata": {},
   "outputs": [
    {
     "name": "stdout",
     "output_type": "stream",
     "text": [
      "---------- uicOPER ------------\n",
      "uicOPER\n",
      "617544    5293\n",
      "463316    1443\n",
      "630555    1427\n",
      "148113    1283\n",
      "945936    1119\n",
      "          ... \n",
      "100178       1\n",
      "828880       1\n",
      "344412       1\n",
      "100589       1\n",
      "567101       1\n",
      "Name: count, Length: 95, dtype: int64\n",
      "\n",
      "---------- uicClass ------------\n",
      "uicClass\n",
      "2    15051\n",
      "Name: count, dtype: int64\n",
      "\n",
      "---------- uicACTIVATEDFLAG ------------\n",
      "uicACTIVATEDFLAG\n",
      "Y    14009\n",
      "N     1042\n",
      "Name: count, dtype: int64\n",
      "\n",
      "---------- uicBBLVOLINJ ------------\n",
      "uicBBLVOLINJ\n",
      "5000    2733\n",
      "2000    2236\n",
      "1000    1138\n",
      "1500    1064\n",
      "2500     788\n",
      "        ... \n",
      "7685       1\n",
      "7370       1\n",
      "1645       1\n",
      "3220       1\n",
      "6285       1\n",
      "Name: count, Length: 207, dtype: int64\n",
      "\n",
      "---------- uicH1NO ------------\n",
      "uicH1NO\n",
      "01654    1060\n",
      "01774    1057\n",
      "01460     878\n",
      "01905     795\n",
      "01124     447\n",
      "         ... \n",
      "15784       1\n",
      "06964       1\n",
      "09775       1\n",
      "17166       1\n",
      "22725       1\n",
      "Name: count, Length: 300, dtype: int64\n",
      "\n",
      "---------- uicW14NO ------------\n",
      "uicW14NO\n",
      "00000    15026\n",
      "17090        1\n",
      "16469        1\n",
      "15848        1\n",
      "05165        1\n",
      "14568        1\n",
      "05697        1\n",
      "04129        1\n",
      "12657        1\n",
      "13144        1\n",
      "13973        1\n",
      "13541        1\n",
      "16955        1\n",
      "15653        1\n",
      "14393        1\n",
      "06975        1\n",
      "14473        1\n",
      "12336        1\n",
      "17174        1\n",
      "17041        1\n",
      "15162        1\n",
      "04076        1\n",
      "09810        1\n",
      "14137        1\n",
      "15903        1\n",
      "17227        1\n",
      "Name: count, dtype: int64\n",
      "\n",
      "---------- uicSTATUS ------------\n",
      "uicSTATUS\n",
      "C    15049\n",
      "0        2\n",
      "Name: count, dtype: int64\n",
      "\n",
      "---------- permit_date ------------\n",
      "permit_date\n",
      "1981-03-16    412\n",
      "1981-04-13    395\n",
      "1981-03-12    362\n",
      "1981-04-09    319\n",
      "1981-03-13    226\n",
      "             ... \n",
      "2003-07-23      1\n",
      "1989-05-22      1\n",
      "2019-04-10      1\n",
      "2014-02-27      1\n",
      "2023-05-26      1\n",
      "Name: count, Length: 2423, dtype: int64\n",
      "\n",
      "---------- county_code ------------\n",
      "county_code\n",
      "501    2556\n",
      "219    1994\n",
      "165    1398\n",
      "003    1397\n",
      "135    1257\n",
      "       ... \n",
      "283       1\n",
      "275       1\n",
      "167       1\n",
      "247       1\n",
      "347       1\n",
      "Name: count, Length: 68, dtype: int64\n",
      "\n",
      "---------- operator_name ------------\n",
      "operator_name\n",
      "OCCIDENTAL PERMIAN LTD.            5293\n",
      "KINDER MORGAN PRODUCTION CO LLC    1443\n",
      "OXY USA WTP LP                     1427\n",
      "CHEVRON U. S. A. INC.              1283\n",
      "XTO ENERGY INC.                    1119\n",
      "                                   ... \n",
      "EOG SPG HOLDINGS, INC.                1\n",
      "SULPHUR RIVER EXPLORATION, INC.       1\n",
      "HALCON OPERATING CO., INC.            1\n",
      "BKV DCARBON VENTURES, LLC             1\n",
      "MILESTONE ENVIRO SERVICES, LLC        1\n",
      "Name: count, Length: 95, dtype: int64\n",
      "\n",
      "---------- operator_number ------------\n",
      "operator_number\n",
      "617544    5293\n",
      "463316    1443\n",
      "630555    1427\n",
      "148113    1283\n",
      "945936    1119\n",
      "          ... \n",
      "100178       1\n",
      "828880       1\n",
      "344412       1\n",
      "100589       1\n",
      "567101       1\n",
      "Name: count, Length: 95, dtype: int64\n",
      "\n"
     ]
    }
   ],
   "source": [
    "for c in [\n",
    "    \"uicOPER\",\n",
    "    \"uicClass\",\n",
    "    \"uicACTIVATEDFLAG\",\n",
    "    \"uicBBLVOLINJ\",\n",
    "    \"uicH1NO\",\n",
    "    \"uicW14NO\",\n",
    "    \"uicSTATUS\",\n",
    "    \"permit_date\",\n",
    "    \"county_code\",\n",
    "    \"operator_name\",\n",
    "    \"operator_number\",\n",
    "]:\n",
    "    print(f\"---------- {c} ------------\")\n",
    "    print(gdf[c].value_counts())\n",
    "    print(\"\")"
   ]
  },
  {
   "cell_type": "code",
   "execution_count": 25,
   "metadata": {},
   "outputs": [
    {
     "data": {
      "text/plain": [
       "(-106.7, -93.5)"
      ]
     },
     "execution_count": 25,
     "metadata": {},
     "output_type": "execute_result"
    },
    {
     "data": {
      "image/png": "[encoded data removed]",
      "text/plain": [
       "<Figure size 640x480 with 1 Axes>"
      ]
     },
     "metadata": {},
     "output_type": "display_data"
    }
   ],
   "source": [
    "fig, ax = plt.subplots()\n",
    "\n",
    "states_gdf.plot(ax=ax, color=\"white\", edgecolor=\"black\")\n",
    "gdf.plot(ax=ax, markersize=2)\n",
    "ax.set_ylim([25.5, 36.7])\n",
    "ax.set_xlim([-106.7, -93.5])"
   ]
  },
  {
   "cell_type": "code",
   "execution_count": null,
   "metadata": {},
   "outputs": [],
   "source": []
  }
 ],
 "metadata": {
  "kernelspec": {
   "display_name": "projects-7_KjhAaO-py3.12",
   "language": "python",
   "name": "python3"
  },
  "language_info": {
   "codemirror_mode": {
    "name": "ipython",
    "version": 3
   },
   "file_extension": ".py",
   "mimetype": "text/x-python",
   "name": "python",
   "nbconvert_exporter": "python",
   "pygments_lexer": "ipython3",
   "version": "3.12.6"
  }
 },
 "nbformat": 4,
 "nbformat_minor": 2
}
