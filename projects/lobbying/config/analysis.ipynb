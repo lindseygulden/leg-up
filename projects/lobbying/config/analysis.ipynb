{
   "cells": [
      {
         "cell_type": "markdown",
         "metadata": {},
         "source": [
            "## Tabulations and figures for CCS-lobbying-activity analysis\n",
            "Lindsey Gulden, lindsey@legupdata.com\n",
            "October 2024"
         ]
      },
      {
         "cell_type": "code",
         "execution_count": 2,
         "metadata": {},
         "outputs": [
            {
               "data": {
                  "text/html": [
                     "\n",
                     "                <script type=\"application/javascript\" id=\"jupyter_black\">\n",
                     "                (function() {\n",
                     "                    if (window.IPython === undefined) {\n",
                     "                        return\n",
                     "                    }\n",
                     "                    var msg = \"WARNING: it looks like you might have loaded \" +\n",
                     "                        \"jupyter_black in a non-lab notebook with \" +\n",
                     "                        \"`is_lab=True`. Please double check, and if \" +\n",
                     "                        \"loading with `%load_ext` please review the README!\"\n",
                     "                    console.log(msg)\n",
                     "                    alert(msg)\n",
                     "                })()\n",
                     "                </script>\n",
                     "                "
                  ],
                  "text/plain": [
                     "<IPython.core.display.HTML object>"
                  ]
               },
               "metadata": {},
               "output_type": "display_data"
            }
         ],
         "source": [
            "\n",
            "import pandas as pd\n",
            "\n",
            "from utils.io import yaml_to_dict\n",
            "from projects.lobbying.postproc_utils import terms_present\n",
            "import numpy as np\n",
            "\n",
            "import matplotlib.pyplot as plt\n",
            "import seaborn as sns\n",
            "\n",
            "import warnings\n",
            "\n",
            "warnings.filterwarnings(\"ignore\")\n",
            "%load_ext jupyter_black"
         ]
      },
      {
         "cell_type": "markdown",
         "metadata": {},
         "source": [
            "### PATHS TO POSTPROCESSED DATA, YAML CONFIGURATIONS"
         ]
      },
      {
         "cell_type": "code",
         "execution_count": 4,
         "metadata": {},
         "outputs": [],
         "source": [
            "PATH_TO_POSTPROCESSED_FILINGS = (\n",
            "    \"/Volumes/Samsung_T5/data/lobbying/ccs2/jan14_postprocessed_filings.csv\"\n",
            ")\n",
            "PATH_TO_POSTPROCESSED_STEEL_INDUSTRY_FILINGS = \"/Volumes/Samsung_T5/data/lobbying/steel_iron_organizations2/jan14_postprocessed_filings.csv\"\n",
            "\n",
            "PATH_TO_POSTPROCESSED_BIG_SPENDERS_FILINGS = \"/Volumes/Samsung_T5/data/lobbying/oil_and_gas_orgs2/jan14_postprocessed_filings.csv\"\n",
            "\n",
            "PATH_TO_POSTPROC_SPECS_YAML = \"/Users/lindseygulden/dev/leg-up-private/projects/lobbying/definitions/ccs_postproc_specifications.yml\"\n",
            "\n",
            "PATH_TO_HIGHER_EDUCATION_POSTPROC_LOBBYING_FILINGS = (\n",
            "    \"/Volumes/Samsung_T5/data/lobbying/univ/jan14_postprocessed_filings.csv\"\n",
            ")"
         ]
      },
      {
         "cell_type": "code",
         "execution_count": 5,
         "metadata": {},
         "outputs": [],
         "source": [
            "def trim_dates(\n",
            "    df: pd.DataFrame,\n",
            "    yr: int,\n",
            "    period: int,\n",
            "    yr_col: str,\n",
            "    period_col: str,\n",
            "    how: str = \"lte\",\n",
            "):\n",
            "    num_period_col = \"numeric_filing_period\"\n",
            "    df[num_period_col] = df[period_col].replace(\n",
            "        {\n",
            "            \"first_quarter\": 1,\n",
            "            \"second_quarter\": 2,\n",
            "            \"third_quarter\": 3,\n",
            "            \"fourth_quarter\": 4,\n",
            "            \"mid_year\": 2,\n",
            "            \"year_end\": 4,\n",
            "        }\n",
            "    )\n",
            "    df[yr_col] = df[yr_col].astype(int)\n",
            "    if how == \"lte\":\n",
            "        return df.loc[\n",
            "            (df[yr_col] < yr) | ((df[yr_col] == yr) & df[num_period_col] <= period)\n",
            "        ]\n",
            "    elif how == \"lt\":\n",
            "        return df.loc[\n",
            "            (df[yr_col] < yr) | ((df[yr_col] == yr) & df[num_period_col] < period)\n",
            "        ]\n",
            "    elif how == \"gte\":\n",
            "        return df.loc[\n",
            "            (df[yr_col] > yr) | ((df[yr_col] == yr) & df[num_period_col] >= period)\n",
            "        ]\n",
            "    elif how == \"gt\":\n",
            "        return df.loc[\n",
            "            (df[yr_col] > yr) | ((df[yr_col] == yr) & df[num_period_col] > period)\n",
            "        ]\n",
            "    else:\n",
            "        raise ValueError(\n",
            "            'trim_dates paramter how must be one of the following strings: \"lte\", \"lt\", \"gte\", \"gt\"'\n",
            "        )"
         ]
      },
      {
         "cell_type": "markdown",
         "metadata": {},
         "source": [
            "### Load postprocessed data, summarize general counts"
         ]
      },
      {
         "cell_type": "code",
         "execution_count": 6,
         "metadata": {},
         "outputs": [
            {
               "data": {
                  "text/plain": [
                     "ccs_company                988\n",
                     "contains_description      9082\n",
                     "ccs_bills                 3352\n",
                     "ccs_bills_number_only     3800\n",
                     "bills_with_ccs_terms      3751\n",
                     "definitely_ccs           13209\n",
                     "very_likely_ccs          14776\n",
                     "likely_ccs               15252\n",
                     "h2_mention_core_ff        2302\n",
                     "potentially_ccs          31415\n",
                     "dtype: int64"
                  ]
               },
               "execution_count": 6,
               "metadata": {},
               "output_type": "execute_result"
            }
         ],
         "source": [
            "# df = pd.read_csv(PATH_TO_POSTPROCESSED_FILINGS)\n",
            "df = trim_dates(\n",
            "    pd.read_csv(PATH_TO_POSTPROCESSED_FILINGS),\n",
            "    yr=2024,\n",
            "    period=3,\n",
            "    how=\"lte\",\n",
            "    yr_col=\"filing_year\",\n",
            "    period_col=\"filing_period\",\n",
            ")\n",
            "df[\n",
            "    [\n",
            "        \"ccs_company\",\n",
            "        \"contains_description\",\n",
            "        \"ccs_bills\",\n",
            "        \"ccs_bills_number_only\",\n",
            "        \"bills_with_ccs_terms\",\n",
            "        \"definitely_ccs\",\n",
            "        \"very_likely_ccs\",\n",
            "        \"likely_ccs\",\n",
            "        \"h2_mention_core_ff\",\n",
            "        \"potentially_ccs\",\n",
            "    ]\n",
            "].sum()"
         ]
      },
      {
         "cell_type": "markdown",
         "metadata": {},
         "source": [
            "### Summarize the mapping of names of organizations used on filing documents to single names \n",
            "(e.g. \"EXXON MOBIL CORPORATION\" and \"EXXONMOBIL\" are both mapped to \"EXXONMOBIL\")"
         ]
      },
      {
         "cell_type": "code",
         "execution_count": 7,
         "metadata": {},
         "outputs": [],
         "source": [
            "companies_df = (\n",
            "    df[\n",
            "        [\n",
            "            \"client_name_on_filing_document\",\n",
            "            \"client_id\",\n",
            "            \"organization\",\n",
            "            \"sector\",\n",
            "            \"lumped_sector\",\n",
            "            \"very_lumped_sector\",\n",
            "            \"definitely_ccs\",\n",
            "        ]\n",
            "    ]\n",
            "    .groupby([\"client_name_on_filing_document\", \"client_id\"])\n",
            "    .agg(\n",
            "        {\n",
            "            \"definitely_ccs\": \"max\",\n",
            "            \"organization\": \"first\",\n",
            "            \"sector\": \"first\",\n",
            "            \"lumped_sector\": \"first\",\n",
            "            \"very_lumped_sector\": \"first\",\n",
            "        }\n",
            "    )\n",
            ")\n",
            "companies_df.reset_index(inplace=True)\n",
            "companies_df.sort_values(\n",
            "    by=[\"organization\", \"client_name_on_filing_document\", \"client_id\"], ascending=True\n",
            ").to_clipboard()"
         ]
      },
      {
         "cell_type": "markdown",
         "metadata": {},
         "source": [
            "### Subset data to lobbying activities identified as 'definitey CCS'. Compute percentages of total dollars and lobbying/entity contacts"
         ]
      },
      {
         "cell_type": "code",
         "execution_count": 8,
         "metadata": {},
         "outputs": [],
         "source": [
            "# for plotting and analysis, subset to only the 'definitely ccs' lobbying activities\n",
            "df = df.loc[df.definitely_ccs == 1]\n",
            "\n",
            "tot_dollars = df.lobbying_activity_usd.sum()\n",
            "\n",
            "tot_contacts = df.n_entities_lobbied.sum()\n",
            "\n",
            "tot_dollars_since_2019 = df.loc[df.filing_year > 2018].lobbying_activity_usd.sum()\n",
            "\n",
            "tot_contacts_since_2019 = df.loc[df.filing_year > 2018].n_entities_lobbied.sum()\n",
            "\n",
            "# compute percentages of total dollars and entity contacts for all years\n",
            "df[\"pct_of_lobbying_dollars_definitely_ccs\"] = [\n",
            "    100 * x / tot_dollars for x in df.lobbying_activity_usd\n",
            "]\n",
            "\n",
            "df[\"pct_of_entity_contacts_definitely_ccs\"] = [\n",
            "    100 * x / tot_contacts for x in df.n_entities_lobbied\n",
            "]\n",
            "\n",
            "# compute percentages of total dollars and entity contacts since 2019\n",
            "df[\"pct_of_lobbying_dollars_definitely_ccs_since_2019\"] = [\n",
            "    100 * x / tot_dollars_since_2019 if y > 2018 else 0\n",
            "    for x, y in zip(df.lobbying_activity_usd, df.filing_year)\n",
            "]\n",
            "\n",
            "df[\"pct_of_entity_contacts_definitely_ccs_since_2019\"] = [\n",
            "    100 * x / tot_contacts_since_2019 if y > 2018 else 0\n",
            "    for x, y in zip(df.n_entities_lobbied, df.filing_year)\n",
            "]"
         ]
      },
      {
         "cell_type": "code",
         "execution_count": 9,
         "metadata": {},
         "outputs": [
            {
               "name": "stdout",
               "output_type": "stream",
               "text": [
                  "Dollars spent:\n",
                  "From Jan 1 2019 through September 30 2024 $438332200\n",
                  "From Jan 1 2005 through September 30 2024: $757852833\n",
                  "\n",
                  "Contacts made:\n",
                  "From Jan 1 2019 through September 30 2024: 34109\n",
                  "From Jan 1 2005 through September 30 2024: 57564\n",
                  "\n",
                  "CCS lobbying contacts per work day since start of 2019: 23.7\n"
               ]
            }
         ],
         "source": [
            "print(\"Dollars spent:\")\n",
            "since_2019 = df.loc[\n",
            "    (df.definitely_ccs == 1) & (df.filing_year > 2018)\n",
            "].lobbying_activity_usd.sum()\n",
            "print(f\"From Jan 1 2019 through September 30 2024 ${since_2019:.0f}\")\n",
            "allyears = df.loc[(df.definitely_ccs == 1)].lobbying_activity_usd.sum()\n",
            "print(f\"From Jan 1 2005 through September 30 2024: ${allyears:.0f}\")\n",
            "print(\"\")\n",
            "print(\"Contacts made:\")\n",
            "since_2019 = df.loc[\n",
            "    (df.definitely_ccs == 1) & (df.filing_year > 2018)\n",
            "].n_entities_lobbied.sum()\n",
            "print(f\"From Jan 1 2019 through September 30 2024: {since_2019}\")\n",
            "allyears = df.loc[(df.definitely_ccs == 1)].n_entities_lobbied.sum()\n",
            "print(f\"From Jan 1 2005 through September 30 2024: {allyears}\")\n",
            "print(\"\")\n",
            "print(\n",
            "    f\"CCS lobbying contacts per work day since start of 2019: {since_2019 / (50 * 5 * 5.75):.1f}\"\n",
            ")"
         ]
      },
      {
         "cell_type": "code",
         "execution_count": 10,
         "metadata": {},
         "outputs": [
            {
               "name": "stdout",
               "output_type": "stream",
               "text": [
                  "Core fossil-fuel-sector industry is responsible for 77% of CCS lobbying dollars\n",
                  "Core FF + FF-adjacent industry is responsible for 88% of CCS lobbying dollars\n",
                  "Non-fossil-fuel-sector industry is responsible for 3% of CCS lobbying dollars\n",
                  "Industry that directly profits from selling or burning fossil fuels spends 24 times as much as non-FF industry on CCS lobbying\n"
               ]
            }
         ],
         "source": [
            "core_ff_sectors = yaml_to_dict(PATH_TO_POSTPROC_SPECS_YAML)[\"core_industry_sectors\"]\n",
            "ff_adjacent_sectors = yaml_to_dict(PATH_TO_POSTPROC_SPECS_YAML)[\n",
            "    \"industry_adjacent_sectors\"\n",
            "]\n",
            "pct_core_ff = df.loc[\n",
            "    df.sector.isin(core_ff_sectors) & (df.definitely_ccs == 1)\n",
            "].pct_of_lobbying_dollars_definitely_ccs.sum()\n",
            "pct_ff_adjacent = df.loc[\n",
            "    df.sector.isin(ff_adjacent_sectors) & (df.definitely_ccs == 1)\n",
            "].pct_of_lobbying_dollars_definitely_ccs.sum()\n",
            "pct_non_ff_industry = df.loc[\n",
            "    (df.very_lumped_sector == \"NON-FF-INDUSTRY\") & (df.definitely_ccs == 1)\n",
            "].pct_of_lobbying_dollars_definitely_ccs.sum()\n",
            "print(\n",
            "    f\"Core fossil-fuel-sector industry is responsible for {pct_core_ff:.0f}% of CCS lobbying dollars\"\n",
            ")\n",
            "print(\n",
            "    f\"Core FF + FF-adjacent industry is responsible for {pct_ff_adjacent:.0f}% of CCS lobbying dollars\"\n",
            ")\n",
            "print(\n",
            "    f\"Non-fossil-fuel-sector industry is responsible for {pct_non_ff_industry:.0f}% of CCS lobbying dollars\"\n",
            ")\n",
            "ratio_of_ff_to_non_ff_industry_spending = pct_core_ff / pct_non_ff_industry\n",
            "print(\n",
            "    f\"Industry that directly profits from selling or burning fossil fuels spends {ratio_of_ff_to_non_ff_industry_spending:.0f} times as much as non-FF industry on CCS lobbying\"\n",
            ")"
         ]
      },
      {
         "cell_type": "code",
         "execution_count": 11,
         "metadata": {},
         "outputs": [
            {
               "name": "stdout",
               "output_type": "stream",
               "text": [
                  "Core fossil-fuel-sector industry is responsible for 57% of CCS lobbying contacts\n",
                  "Core FF + FF-adjacent industry is responsible for 75% of CCS lobbying contacts\n",
                  "Non-fossil-fuel-sector industry is responsible for 6% of CCS lobbying contacts\n",
                  "Industry that directly profits from selling or burning fossil fuels contacts the federal government 10 times as much as non-FF industry on CCS lobbying\n"
               ]
            }
         ],
         "source": [
            "pct_core_ff = df.loc[\n",
            "    df.sector.isin(core_ff_sectors) & (df.definitely_ccs == 1)\n",
            "].pct_of_entity_contacts_definitely_ccs.sum()\n",
            "pct_ff_adjacent = df.loc[\n",
            "    df.sector.isin(ff_adjacent_sectors) & (df.definitely_ccs == 1)\n",
            "].pct_of_entity_contacts_definitely_ccs.sum()\n",
            "pct_non_ff_industry = df.loc[\n",
            "    (df.very_lumped_sector == \"NON-FF-INDUSTRY\") & (df.definitely_ccs == 1)\n",
            "].pct_of_entity_contacts_definitely_ccs.sum()\n",
            "print(\n",
            "    f\"Core fossil-fuel-sector industry is responsible for {pct_core_ff:.0f}% of CCS lobbying contacts\"\n",
            ")\n",
            "print(\n",
            "    f\"Core FF + FF-adjacent industry is responsible for {pct_ff_adjacent:.0f}% of CCS lobbying contacts\"\n",
            ")\n",
            "print(\n",
            "    f\"Non-fossil-fuel-sector industry is responsible for {pct_non_ff_industry:.0f}% of CCS lobbying contacts\"\n",
            ")\n",
            "ratio_of_ff_to_non_ff_industry_spending = pct_core_ff / pct_non_ff_industry\n",
            "print(\n",
            "    f\"Industry that directly profits from selling or burning fossil fuels contacts the federal government {ratio_of_ff_to_non_ff_industry_spending:.0f} times as much as non-FF industry on CCS lobbying\"\n",
            ")"
         ]
      },
      {
         "cell_type": "code",
         "execution_count": 12,
         "metadata": {},
         "outputs": [
            {
               "name": "stdout",
               "output_type": "stream",
               "text": [
                  "Oil And Gas\n",
                  "Investor Owned Utilities\n",
                  "Chemicals, Refining, And Plastics\n",
                  "Coal\n",
                  "Ccs\n",
                  "Independent Power Producers\n",
                  "Pipelines\n",
                  "Municipal And Cooperative Utilities\n",
                  "Power Sector General\n",
                  "Oilfield Services\n",
                  "Clean Hydrogen\n",
                  "\n",
                  "Oil And Gas\n",
                  "Investor Owned Utilities\n",
                  "Chemicals, Refining, And Plastics\n",
                  "Coal\n",
                  "Biofuels\n",
                  "Energy Technology\n",
                  "Ccs\n",
                  "Independent Power Producers\n",
                  "Power Sector General\n",
                  "Air Transit\n",
                  "Railway\n",
                  "Pipelines\n",
                  "Municipal And Cooperative Utilities\n",
                  "Business Advocacy\n",
                  "Fuel Cell\n",
                  "Land Transit\n",
                  "Oilfield Services\n",
                  "Clean Hydrogen\n"
               ]
            }
         ],
         "source": [
            "# Write out which detailed sectors are in each sector grouping:\n",
            "for c in core_ff_sectors:\n",
            "    print(f\"{c.title()}\")\n",
            "\n",
            "print(\"\")\n",
            "for c in ff_adjacent_sectors:\n",
            "    print(f\"{c.title()}\")"
         ]
      },
      {
         "cell_type": "markdown",
         "metadata": {},
         "source": [
            "### Which lumped sectors do the most CCS lobbying?"
         ]
      },
      {
         "cell_type": "code",
         "execution_count": 13,
         "metadata": {},
         "outputs": [
            {
               "data": {
                  "text/html": [
                     "<div>\n",
                     "<style scoped>\n",
                     "    .dataframe tbody tr th:only-of-type {\n",
                     "        vertical-align: middle;\n",
                     "    }\n",
                     "\n",
                     "    .dataframe tbody tr th {\n",
                     "        vertical-align: top;\n",
                     "    }\n",
                     "\n",
                     "    .dataframe thead th {\n",
                     "        text-align: right;\n",
                     "    }\n",
                     "</style>\n",
                     "<table border=\"1\" class=\"dataframe\">\n",
                     "  <thead>\n",
                     "    <tr style=\"text-align: right;\">\n",
                     "      <th></th>\n",
                     "      <th>very_lumped_sector</th>\n",
                     "      <th>lobbying_activity_usd</th>\n",
                     "      <th>n_entities_lobbied</th>\n",
                     "      <th>pct_of_lobbying_dollars_definitely_ccs</th>\n",
                     "      <th>pct_of_entity_contacts_definitely_ccs</th>\n",
                     "    </tr>\n",
                     "    <tr>\n",
                     "      <th>lumped_sector</th>\n",
                     "      <th></th>\n",
                     "      <th></th>\n",
                     "      <th></th>\n",
                     "      <th></th>\n",
                     "      <th></th>\n",
                     "    </tr>\n",
                     "  </thead>\n",
                     "  <tbody>\n",
                     "    <tr>\n",
                     "      <th>FOSSIL FUEL</th>\n",
                     "      <td>FOSSIL-FUEL</td>\n",
                     "      <td>2.646067e+08</td>\n",
                     "      <td>15050</td>\n",
                     "      <td>34.915320</td>\n",
                     "      <td>26.144813</td>\n",
                     "    </tr>\n",
                     "    <tr>\n",
                     "      <th>INVESTOR-OWNED-POWER-SECTOR</th>\n",
                     "      <td>POWER-UTILITIES</td>\n",
                     "      <td>2.344070e+08</td>\n",
                     "      <td>9737</td>\n",
                     "      <td>30.930413</td>\n",
                     "      <td>16.915086</td>\n",
                     "    </tr>\n",
                     "    <tr>\n",
                     "      <th>CHEMICALS</th>\n",
                     "      <td>CHEMICALS</td>\n",
                     "      <td>5.500353e+07</td>\n",
                     "      <td>3895</td>\n",
                     "      <td>7.257811</td>\n",
                     "      <td>6.766382</td>\n",
                     "    </tr>\n",
                     "    <tr>\n",
                     "      <th>TRANSPORT</th>\n",
                     "      <td>TRANSPORT</td>\n",
                     "      <td>3.563398e+07</td>\n",
                     "      <td>2898</td>\n",
                     "      <td>4.701965</td>\n",
                     "      <td>5.034396</td>\n",
                     "    </tr>\n",
                     "    <tr>\n",
                     "      <th>NON-FF-INDUSTRY</th>\n",
                     "      <td>NON-FF-INDUSTRY</td>\n",
                     "      <td>2.440960e+07</td>\n",
                     "      <td>3207</td>\n",
                     "      <td>3.220889</td>\n",
                     "      <td>5.571190</td>\n",
                     "    </tr>\n",
                     "    <tr>\n",
                     "      <th>BIOFUEL-SYNFUEL</th>\n",
                     "      <td>BIOFUEL-SYNFUEL</td>\n",
                     "      <td>1.999780e+07</td>\n",
                     "      <td>3850</td>\n",
                     "      <td>2.638745</td>\n",
                     "      <td>6.688208</td>\n",
                     "    </tr>\n",
                     "    <tr>\n",
                     "      <th>ENGINEERING-TECH</th>\n",
                     "      <td>ENGINEERING-TECH</td>\n",
                     "      <td>1.977289e+07</td>\n",
                     "      <td>2931</td>\n",
                     "      <td>2.609068</td>\n",
                     "      <td>5.091724</td>\n",
                     "    </tr>\n",
                     "    <tr>\n",
                     "      <th>BUSINESS-ADVOCACY</th>\n",
                     "      <td>BUSINESS-ADVOCACY</td>\n",
                     "      <td>1.696684e+07</td>\n",
                     "      <td>1280</td>\n",
                     "      <td>2.238805</td>\n",
                     "      <td>2.223612</td>\n",
                     "    </tr>\n",
                     "    <tr>\n",
                     "      <th>MUNICIPAL-UTILITIES</th>\n",
                     "      <td>POWER-UTILITIES</td>\n",
                     "      <td>1.694392e+07</td>\n",
                     "      <td>1497</td>\n",
                     "      <td>2.235779</td>\n",
                     "      <td>2.600584</td>\n",
                     "    </tr>\n",
                     "    <tr>\n",
                     "      <th>CARBON MANAGEMENT</th>\n",
                     "      <td>CARBON-MANAGEMENT</td>\n",
                     "      <td>1.400154e+07</td>\n",
                     "      <td>3244</td>\n",
                     "      <td>1.847528</td>\n",
                     "      <td>5.635467</td>\n",
                     "    </tr>\n",
                     "    <tr>\n",
                     "      <th>RENEWABLES</th>\n",
                     "      <td>OTHER</td>\n",
                     "      <td>1.270245e+07</td>\n",
                     "      <td>1687</td>\n",
                     "      <td>1.676110</td>\n",
                     "      <td>2.930651</td>\n",
                     "    </tr>\n",
                     "    <tr>\n",
                     "      <th>EMPLOYEES</th>\n",
                     "      <td>OTHER</td>\n",
                     "      <td>1.220340e+07</td>\n",
                     "      <td>2387</td>\n",
                     "      <td>1.610259</td>\n",
                     "      <td>4.146689</td>\n",
                     "    </tr>\n",
                     "    <tr>\n",
                     "      <th>NONPROFIT</th>\n",
                     "      <td>OTHER</td>\n",
                     "      <td>1.114754e+07</td>\n",
                     "      <td>2574</td>\n",
                     "      <td>1.470938</td>\n",
                     "      <td>4.471545</td>\n",
                     "    </tr>\n",
                     "    <tr>\n",
                     "      <th>AGRICULTURE</th>\n",
                     "      <td>OTHER</td>\n",
                     "      <td>7.722995e+06</td>\n",
                     "      <td>1607</td>\n",
                     "      <td>1.019063</td>\n",
                     "      <td>2.791675</td>\n",
                     "    </tr>\n",
                     "    <tr>\n",
                     "      <th>FINANCE</th>\n",
                     "      <td>OTHER</td>\n",
                     "      <td>7.156879e+06</td>\n",
                     "      <td>688</td>\n",
                     "      <td>0.944363</td>\n",
                     "      <td>1.195191</td>\n",
                     "    </tr>\n",
                     "    <tr>\n",
                     "      <th>RESEARCH-ADVOCACY</th>\n",
                     "      <td>OTHER</td>\n",
                     "      <td>2.597752e+06</td>\n",
                     "      <td>356</td>\n",
                     "      <td>0.342778</td>\n",
                     "      <td>0.618442</td>\n",
                     "    </tr>\n",
                     "    <tr>\n",
                     "      <th>OTHER</th>\n",
                     "      <td>OTHER</td>\n",
                     "      <td>2.577959e+06</td>\n",
                     "      <td>676</td>\n",
                     "      <td>0.340166</td>\n",
                     "      <td>1.174345</td>\n",
                     "    </tr>\n",
                     "  </tbody>\n",
                     "</table>\n",
                     "</div>"
                  ],
                  "text/plain": [
                     "                            very_lumped_sector  lobbying_activity_usd  \\\n",
                     "lumped_sector                                                           \n",
                     "FOSSIL FUEL                        FOSSIL-FUEL           2.646067e+08   \n",
                     "INVESTOR-OWNED-POWER-SECTOR    POWER-UTILITIES           2.344070e+08   \n",
                     "CHEMICALS                            CHEMICALS           5.500353e+07   \n",
                     "TRANSPORT                            TRANSPORT           3.563398e+07   \n",
                     "NON-FF-INDUSTRY                NON-FF-INDUSTRY           2.440960e+07   \n",
                     "BIOFUEL-SYNFUEL                BIOFUEL-SYNFUEL           1.999780e+07   \n",
                     "ENGINEERING-TECH              ENGINEERING-TECH           1.977289e+07   \n",
                     "BUSINESS-ADVOCACY            BUSINESS-ADVOCACY           1.696684e+07   \n",
                     "MUNICIPAL-UTILITIES            POWER-UTILITIES           1.694392e+07   \n",
                     "CARBON MANAGEMENT            CARBON-MANAGEMENT           1.400154e+07   \n",
                     "RENEWABLES                               OTHER           1.270245e+07   \n",
                     "EMPLOYEES                                OTHER           1.220340e+07   \n",
                     "NONPROFIT                                OTHER           1.114754e+07   \n",
                     "AGRICULTURE                              OTHER           7.722995e+06   \n",
                     "FINANCE                                  OTHER           7.156879e+06   \n",
                     "RESEARCH-ADVOCACY                        OTHER           2.597752e+06   \n",
                     "OTHER                                    OTHER           2.577959e+06   \n",
                     "\n",
                     "                             n_entities_lobbied  \\\n",
                     "lumped_sector                                     \n",
                     "FOSSIL FUEL                               15050   \n",
                     "INVESTOR-OWNED-POWER-SECTOR                9737   \n",
                     "CHEMICALS                                  3895   \n",
                     "TRANSPORT                                  2898   \n",
                     "NON-FF-INDUSTRY                            3207   \n",
                     "BIOFUEL-SYNFUEL                            3850   \n",
                     "ENGINEERING-TECH                           2931   \n",
                     "BUSINESS-ADVOCACY                          1280   \n",
                     "MUNICIPAL-UTILITIES                        1497   \n",
                     "CARBON MANAGEMENT                          3244   \n",
                     "RENEWABLES                                 1687   \n",
                     "EMPLOYEES                                  2387   \n",
                     "NONPROFIT                                  2574   \n",
                     "AGRICULTURE                                1607   \n",
                     "FINANCE                                     688   \n",
                     "RESEARCH-ADVOCACY                           356   \n",
                     "OTHER                                       676   \n",
                     "\n",
                     "                             pct_of_lobbying_dollars_definitely_ccs  \\\n",
                     "lumped_sector                                                         \n",
                     "FOSSIL FUEL                                               34.915320   \n",
                     "INVESTOR-OWNED-POWER-SECTOR                               30.930413   \n",
                     "CHEMICALS                                                  7.257811   \n",
                     "TRANSPORT                                                  4.701965   \n",
                     "NON-FF-INDUSTRY                                            3.220889   \n",
                     "BIOFUEL-SYNFUEL                                            2.638745   \n",
                     "ENGINEERING-TECH                                           2.609068   \n",
                     "BUSINESS-ADVOCACY                                          2.238805   \n",
                     "MUNICIPAL-UTILITIES                                        2.235779   \n",
                     "CARBON MANAGEMENT                                          1.847528   \n",
                     "RENEWABLES                                                 1.676110   \n",
                     "EMPLOYEES                                                  1.610259   \n",
                     "NONPROFIT                                                  1.470938   \n",
                     "AGRICULTURE                                                1.019063   \n",
                     "FINANCE                                                    0.944363   \n",
                     "RESEARCH-ADVOCACY                                          0.342778   \n",
                     "OTHER                                                      0.340166   \n",
                     "\n",
                     "                             pct_of_entity_contacts_definitely_ccs  \n",
                     "lumped_sector                                                       \n",
                     "FOSSIL FUEL                                              26.144813  \n",
                     "INVESTOR-OWNED-POWER-SECTOR                              16.915086  \n",
                     "CHEMICALS                                                 6.766382  \n",
                     "TRANSPORT                                                 5.034396  \n",
                     "NON-FF-INDUSTRY                                           5.571190  \n",
                     "BIOFUEL-SYNFUEL                                           6.688208  \n",
                     "ENGINEERING-TECH                                          5.091724  \n",
                     "BUSINESS-ADVOCACY                                         2.223612  \n",
                     "MUNICIPAL-UTILITIES                                       2.600584  \n",
                     "CARBON MANAGEMENT                                         5.635467  \n",
                     "RENEWABLES                                                2.930651  \n",
                     "EMPLOYEES                                                 4.146689  \n",
                     "NONPROFIT                                                 4.471545  \n",
                     "AGRICULTURE                                               2.791675  \n",
                     "FINANCE                                                   1.195191  \n",
                     "RESEARCH-ADVOCACY                                         0.618442  \n",
                     "OTHER                                                     1.174345  "
                  ]
               },
               "execution_count": 13,
               "metadata": {},
               "output_type": "execute_result"
            }
         ],
         "source": [
            "lobbying_by_sector_totals_df = (\n",
            "    df[\n",
            "        [\n",
            "            \"sector\",\n",
            "            \"lumped_sector\",\n",
            "            \"very_lumped_sector\",\n",
            "            \"lobbying_activity_usd\",\n",
            "            \"n_entities_lobbied\",\n",
            "            \"pct_of_lobbying_dollars_definitely_ccs\",\n",
            "            \"pct_of_entity_contacts_definitely_ccs\",\n",
            "        ]\n",
            "    ]\n",
            "    .loc[df[\"definitely_ccs\"] == 1]\n",
            "    .groupby([\"lumped_sector\"])\n",
            "    .agg(\n",
            "        {\n",
            "            # \"lumped_sector\": \"first\",\n",
            "            \"very_lumped_sector\": \"first\",\n",
            "            \"lobbying_activity_usd\": sum,\n",
            "            \"n_entities_lobbied\": sum,\n",
            "            \"pct_of_lobbying_dollars_definitely_ccs\": sum,\n",
            "            \"pct_of_entity_contacts_definitely_ccs\": sum,\n",
            "        }\n",
            "    )\n",
            "    .sort_values(by=\"lobbying_activity_usd\", ascending=False)\n",
            ")\n",
            "\n",
            "\n",
            "lobbying_by_sector_totals_df  # .to_clipboard()"
         ]
      },
      {
         "cell_type": "markdown",
         "metadata": {},
         "source": [
            "### Which organizations do the most lobbying for CCS?"
         ]
      },
      {
         "cell_type": "code",
         "execution_count": 14,
         "metadata": {},
         "outputs": [
            {
               "data": {
                  "text/html": [
                     "<div>\n",
                     "<style scoped>\n",
                     "    .dataframe tbody tr th:only-of-type {\n",
                     "        vertical-align: middle;\n",
                     "    }\n",
                     "\n",
                     "    .dataframe tbody tr th {\n",
                     "        vertical-align: top;\n",
                     "    }\n",
                     "\n",
                     "    .dataframe thead th {\n",
                     "        text-align: right;\n",
                     "    }\n",
                     "</style>\n",
                     "<table border=\"1\" class=\"dataframe\">\n",
                     "  <thead>\n",
                     "    <tr style=\"text-align: right;\">\n",
                     "      <th></th>\n",
                     "      <th>lobbying_activity_usd</th>\n",
                     "    </tr>\n",
                     "    <tr>\n",
                     "      <th>organization</th>\n",
                     "      <th></th>\n",
                     "    </tr>\n",
                     "  </thead>\n",
                     "  <tbody>\n",
                     "    <tr>\n",
                     "      <th>OCCIDENTAL PETROLEUM</th>\n",
                     "      <td>6.995831e+07</td>\n",
                     "    </tr>\n",
                     "    <tr>\n",
                     "      <th>SOUTHERN COMPANY</th>\n",
                     "      <td>5.455491e+07</td>\n",
                     "    </tr>\n",
                     "    <tr>\n",
                     "      <th>EXXONMOBIL</th>\n",
                     "      <td>3.960381e+07</td>\n",
                     "    </tr>\n",
                     "    <tr>\n",
                     "      <th>EDISON ELECTRIC INSTITUTE</th>\n",
                     "      <td>2.764941e+07</td>\n",
                     "    </tr>\n",
                     "    <tr>\n",
                     "      <th>AMERICAN ELECTRIC POWER</th>\n",
                     "      <td>2.240191e+07</td>\n",
                     "    </tr>\n",
                     "    <tr>\n",
                     "      <th>SHELL</th>\n",
                     "      <td>2.077585e+07</td>\n",
                     "    </tr>\n",
                     "    <tr>\n",
                     "      <th>CHEVRON</th>\n",
                     "      <td>1.772197e+07</td>\n",
                     "    </tr>\n",
                     "    <tr>\n",
                     "      <th>DUKE</th>\n",
                     "      <td>1.685001e+07</td>\n",
                     "    </tr>\n",
                     "    <tr>\n",
                     "      <th>BP AMERICA</th>\n",
                     "      <td>1.553254e+07</td>\n",
                     "    </tr>\n",
                     "    <tr>\n",
                     "      <th>CALPINE</th>\n",
                     "      <td>1.452863e+07</td>\n",
                     "    </tr>\n",
                     "    <tr>\n",
                     "      <th>PACIFIC GAS AND ELECTRIC</th>\n",
                     "      <td>1.349359e+07</td>\n",
                     "    </tr>\n",
                     "    <tr>\n",
                     "      <th>US CHAMBER OF COMMERCE</th>\n",
                     "      <td>1.241025e+07</td>\n",
                     "    </tr>\n",
                     "    <tr>\n",
                     "      <th>PEABODY</th>\n",
                     "      <td>1.217820e+07</td>\n",
                     "    </tr>\n",
                     "    <tr>\n",
                     "      <th>TRANSCANADA</th>\n",
                     "      <td>1.010000e+07</td>\n",
                     "    </tr>\n",
                     "    <tr>\n",
                     "      <th>CONOCOPHILLIPS</th>\n",
                     "      <td>9.341098e+06</td>\n",
                     "    </tr>\n",
                     "    <tr>\n",
                     "      <th>AMERICAN PETROLEUM INSTITUTE</th>\n",
                     "      <td>9.171349e+06</td>\n",
                     "    </tr>\n",
                     "    <tr>\n",
                     "      <th>AIR PRODUCTS AND CHEMICALS</th>\n",
                     "      <td>8.243190e+06</td>\n",
                     "    </tr>\n",
                     "    <tr>\n",
                     "      <th>NATIONAL RURAL ELECTRIC COOPERATIVE ASSOCIATION</th>\n",
                     "      <td>7.529027e+06</td>\n",
                     "    </tr>\n",
                     "  </tbody>\n",
                     "</table>\n",
                     "</div>"
                  ],
                  "text/plain": [
                     "                                                 lobbying_activity_usd\n",
                     "organization                                                          \n",
                     "OCCIDENTAL PETROLEUM                                      6.995831e+07\n",
                     "SOUTHERN COMPANY                                          5.455491e+07\n",
                     "EXXONMOBIL                                                3.960381e+07\n",
                     "EDISON ELECTRIC INSTITUTE                                 2.764941e+07\n",
                     "AMERICAN ELECTRIC POWER                                   2.240191e+07\n",
                     "SHELL                                                     2.077585e+07\n",
                     "CHEVRON                                                   1.772197e+07\n",
                     "DUKE                                                      1.685001e+07\n",
                     "BP AMERICA                                                1.553254e+07\n",
                     "CALPINE                                                   1.452863e+07\n",
                     "PACIFIC GAS AND ELECTRIC                                  1.349359e+07\n",
                     "US CHAMBER OF COMMERCE                                    1.241025e+07\n",
                     "PEABODY                                                   1.217820e+07\n",
                     "TRANSCANADA                                               1.010000e+07\n",
                     "CONOCOPHILLIPS                                            9.341098e+06\n",
                     "AMERICAN PETROLEUM INSTITUTE                              9.171349e+06\n",
                     "AIR PRODUCTS AND CHEMICALS                                8.243190e+06\n",
                     "NATIONAL RURAL ELECTRIC COOPERATIVE ASSOCIATION           7.529027e+06"
                  ]
               },
               "execution_count": 14,
               "metadata": {},
               "output_type": "execute_result"
            }
         ],
         "source": [
            "df[[\"organization\", \"lobbying_activity_usd\"]].groupby(\n",
            "    [\"organization\"]\n",
            ").sum().sort_values(by=[\"lobbying_activity_usd\"], ascending=False).head(18)"
         ]
      },
      {
         "cell_type": "markdown",
         "metadata": {},
         "source": [
            "# TREEMAP FIGURE SHOWING WHICH COMPANIES LOBBY FOR CCS"
         ]
      },
      {
         "cell_type": "code",
         "execution_count": 15,
         "metadata": {},
         "outputs": [
            {
               "data": {
                  "application/vnd.plotly.v1+json": {
                     "config": {
                        "plotlyServerURL": "https://plot.ly"
                     },
                     "data": [
                        {
                           "branchvalues": "total",
                           "customdata": [
                              [
                                 "higher education"
                              ],
                              [
                                 "land transit"
                              ],
                              [
                                 "engineering, technology, and consulting"
                              ],
                              [
                                 "cement"
                              ],
                              [
                                 "municipal and cooperative utilities"
                              ],
                              [
                                 "food and agriculture"
                              ],
                              [
                                 "green hydrogen"
                              ],
                              [
                                 "cement"
                              ],
                              [
                                 "biofuels"
                              ],
                              [
                                 "air transit"
                              ],
                              [
                                 "think tanks and issue advocacy"
                              ],
                              [
                                 "renewable energy"
                              ],
                              [
                                 "environmental"
                              ],
                              [
                                 "investor owned utilities"
                              ],
                              [
                                 "oil and gas"
                              ],
                              [
                                 "coal"
                              ],
                              [
                                 "water"
                              ],
                              [
                                 "higher education"
                              ],
                              [
                                 "renewable energy"
                              ],
                              [
                                 "ccs"
                              ],
                              [
                                 "environmental"
                              ],
                              [
                                 "iron and steel"
                              ],
                              [
                                 "chemicals, refining, and plastics"
                              ],
                              [
                                 "environmental"
                              ],
                              [
                                 "clean hydrogen"
                              ],
                              [
                                 "think tanks and issue advocacy"
                              ],
                              [
                                 "clean hydrogen"
                              ],
                              [
                                 "railway"
                              ],
                              [
                                 "engineering, technology, and consulting"
                              ],
                              [
                                 "environmental"
                              ],
                              [
                                 "oil and gas"
                              ],
                              [
                                 "iron and steel"
                              ],
                              [
                                 "engineering, technology, and consulting"
                              ],
                              [
                                 "biofuels"
                              ],
                              [
                                 "environmental"
                              ],
                              [
                                 "biofuels"
                              ],
                              [
                                 "power sector general"
                              ],
                              [
                                 "ccs"
                              ],
                              [
                                 "higher education"
                              ],
                              [
                                 "environmental"
                              ],
                              [
                                 "paper products"
                              ],
                              [
                                 "chemicals, refining, and plastics"
                              ],
                              [
                                 "pipelines"
                              ],
                              [
                                 "chemicals, refining, and plastics"
                              ],
                              [
                                 "chemicals, refining, and plastics"
                              ],
                              [
                                 "investor owned utilities"
                              ],
                              [
                                 "labor union"
                              ],
                              [
                                 "fuel cell"
                              ],
                              [
                                 "biofuels"
                              ],
                              [
                                 "chemicals, refining, and plastics"
                              ],
                              [
                                 "clean hydrogen"
                              ],
                              [
                                 "ev"
                              ],
                              [
                                 "mining and metals"
                              ],
                              [
                                 "oilfield services"
                              ],
                              [
                                 "pipelines"
                              ],
                              [
                                 "investor owned utilities"
                              ],
                              [
                                 "engineering, technology, and consulting"
                              ],
                              [
                                 "oil and gas"
                              ],
                              [
                                 "government"
                              ],
                              [
                                 "investor owned utilities"
                              ],
                              [
                                 "ccs"
                              ],
                              [
                                 "environmental"
                              ],
                              [
                                 "paper products"
                              ],
                              [
                                 "engineering, technology, and consulting"
                              ],
                              [
                                 "carbon"
                              ],
                              [
                                 "investor owned utilities"
                              ],
                              [
                                 "food and agriculture"
                              ],
                              [
                                 "municipal and cooperative utilities"
                              ],
                              [
                                 "government"
                              ],
                              [
                                 "municipal and cooperative utilities"
                              ],
                              [
                                 "municipal and cooperative utilities"
                              ],
                              [
                                 "green hydrogen"
                              ],
                              [
                                 "chemicals, refining, and plastics"
                              ],
                              [
                                 "higher education"
                              ],
                              [
                                 "oil and gas"
                              ],
                              [
                                 "investor owned utilities"
                              ],
                              [
                                 "ccs"
                              ],
                              [
                                 "investor owned utilities"
                              ],
                              [
                                 "renewable energy"
                              ],
                              [
                                 "land transit"
                              ],
                              [
                                 "nuclear"
                              ],
                              [
                                 "ev"
                              ],
                              [
                                 "think tanks and issue advocacy"
                              ],
                              [
                                 "biofuels"
                              ],
                              [
                                 "government"
                              ],
                              [
                                 "cement"
                              ],
                              [
                                 "biofuels"
                              ],
                              [
                                 "investor owned utilities"
                              ],
                              [
                                 "power sector general"
                              ],
                              [
                                 "environmental"
                              ],
                              [
                                 "water"
                              ],
                              [
                                 "food and agriculture"
                              ],
                              [
                                 "ccs"
                              ],
                              [
                                 "pipelines"
                              ],
                              [
                                 "oilfield services"
                              ],
                              [
                                 "biofuels"
                              ],
                              [
                                 "food and agriculture"
                              ],
                              [
                                 "renewable energy"
                              ],
                              [
                                 "biofuels"
                              ],
                              [
                                 "oil and gas"
                              ],
                              [
                                 "air transit"
                              ],
                              [
                                 "ccs"
                              ],
                              [
                                 "professional societies"
                              ],
                              [
                                 "food and agriculture"
                              ],
                              [
                                 "coal"
                              ],
                              [
                                 "chemicals, refining, and plastics"
                              ],
                              [
                                 "investor owned utilities"
                              ],
                              [
                                 "oil and gas"
                              ],
                              [
                                 "land transit"
                              ],
                              [
                                 "land transit"
                              ],
                              [
                                 "algae"
                              ],
                              [
                                 "environmental"
                              ],
                              [
                                 "environmental"
                              ],
                              [
                                 "investor owned utilities"
                              ],
                              [
                                 "finance"
                              ],
                              [
                                 "carbon"
                              ],
                              [
                                 "ev"
                              ],
                              [
                                 "oilfield services"
                              ],
                              [
                                 "nuclear"
                              ],
                              [
                                 "iron and steel"
                              ],
                              [
                                 "mining and metals"
                              ],
                              [
                                 "investor owned utilities"
                              ],
                              [
                                 "environmental"
                              ],
                              [
                                 "iron and steel"
                              ],
                              [
                                 "lng"
                              ],
                              [
                                 "finance"
                              ],
                              [
                                 "renewable energy"
                              ],
                              [
                                 "chemicals, refining, and plastics"
                              ],
                              [
                                 "coal"
                              ],
                              [
                                 "municipal and cooperative utilities"
                              ],
                              [
                                 "fuel cell"
                              ],
                              [
                                 "energy technology"
                              ],
                              [
                                 "energy technology"
                              ],
                              [
                                 "paper products"
                              ],
                              [
                                 "lng"
                              ],
                              [
                                 "renewable energy"
                              ],
                              [
                                 "investor owned utilities"
                              ],
                              [
                                 "ccs"
                              ],
                              [
                                 "ccs"
                              ],
                              [
                                 "environmental"
                              ],
                              [
                                 "government"
                              ],
                              [
                                 "carbon"
                              ],
                              [
                                 "carbon"
                              ],
                              [
                                 "biofuels"
                              ],
                              [
                                 "investor owned utilities"
                              ],
                              [
                                 "coal"
                              ],
                              [
                                 "renewable energy"
                              ],
                              [
                                 "investor owned utilities"
                              ],
                              [
                                 "municipal and cooperative utilities"
                              ],
                              [
                                 "air transit"
                              ],
                              [
                                 "coal"
                              ],
                              [
                                 "energy technology"
                              ],
                              [
                                 "pipelines"
                              ],
                              [
                                 "oil and gas"
                              ],
                              [
                                 "clean hydrogen"
                              ],
                              [
                                 "chemicals, refining, and plastics"
                              ],
                              [
                                 "chemicals, refining, and plastics"
                              ],
                              [
                                 "land transit"
                              ],
                              [
                                 "ccs"
                              ],
                              [
                                 "oil and gas"
                              ],
                              [
                                 "food and agriculture"
                              ],
                              [
                                 "chemicals, refining, and plastics"
                              ],
                              [
                                 "power sector general"
                              ],
                              [
                                 "biofuels"
                              ],
                              [
                                 "iron and steel"
                              ],
                              [
                                 "paper products"
                              ],
                              [
                                 "coal"
                              ],
                              [
                                 "investor owned utilities"
                              ],
                              [
                                 "land transit"
                              ],
                              [
                                 "iron and steel"
                              ],
                              [
                                 "investor owned utilities"
                              ],
                              [
                                 "environmental"
                              ],
                              [
                                 "oil and gas"
                              ],
                              [
                                 "pipelines"
                              ],
                              [
                                 "oil and gas"
                              ],
                              [
                                 "chemicals, refining, and plastics"
                              ],
                              [
                                 "municipal and cooperative utilities"
                              ],
                              [
                                 "food and agriculture"
                              ],
                              [
                                 "environmental"
                              ],
                              [
                                 "labor union"
                              ],
                              [
                                 "investor owned utilities"
                              ],
                              [
                                 "ccs"
                              ],
                              [
                                 "food and agriculture"
                              ],
                              [
                                 "labor union"
                              ],
                              [
                                 "carbon"
                              ],
                              [
                                 "investor owned utilities"
                              ],
                              [
                                 "environmental"
                              ],
                              [
                                 "chemicals, refining, and plastics"
                              ],
                              [
                                 "municipal and cooperative utilities"
                              ],
                              [
                                 "investor owned utilities"
                              ],
                              [
                                 "mining and metals"
                              ],
                              [
                                 "investor owned utilities"
                              ],
                              [
                                 "renewable energy"
                              ],
                              [
                                 "pipelines"
                              ],
                              [
                                 "independent research organization"
                              ],
                              [
                                 "independent research organization"
                              ],
                              [
                                 "oil and gas"
                              ],
                              [
                                 "carbon"
                              ],
                              [
                                 "cement"
                              ],
                              [
                                 "power sector general"
                              ],
                              [
                                 "investor owned utilities"
                              ],
                              [
                                 "labor union"
                              ],
                              [
                                 "land transit"
                              ],
                              [
                                 "land transit"
                              ],
                              [
                                 "renewable energy"
                              ],
                              [
                                 "independent power producers"
                              ],
                              [
                                 "chemicals, refining, and plastics"
                              ],
                              [
                                 "chemicals, refining, and plastics"
                              ],
                              [
                                 "biofuels"
                              ],
                              [
                                 "business advocacy"
                              ],
                              [
                                 "chemicals, refining, and plastics"
                              ],
                              [
                                 "independent power producers"
                              ],
                              [
                                 "investor owned utilities"
                              ],
                              [
                                 "food and agriculture"
                              ],
                              [
                                 "environmental"
                              ],
                              [
                                 "higher education"
                              ],
                              [
                                 "oilfield services"
                              ],
                              [
                                 "investor owned utilities"
                              ],
                              [
                                 "land transit"
                              ],
                              [
                                 "power sector general"
                              ],
                              [
                                 "coal"
                              ],
                              [
                                 "environmental"
                              ],
                              [
                                 "environmental"
                              ],
                              [
                                 "ccs"
                              ],
                              [
                                 "carbon"
                              ],
                              [
                                 "municipal and cooperative utilities"
                              ],
                              [
                                 "finance"
                              ],
                              [
                                 "pipelines"
                              ],
                              [
                                 "biofuels"
                              ],
                              [
                                 "air transit"
                              ],
                              [
                                 "paper products"
                              ],
                              [
                                 "engineering, technology, and consulting"
                              ],
                              [
                                 "chemicals, refining, and plastics"
                              ],
                              [
                                 "renewable energy"
                              ],
                              [
                                 "paper products"
                              ],
                              [
                                 "oilfield services"
                              ],
                              [
                                 "land transit"
                              ],
                              [
                                 "environmental"
                              ],
                              [
                                 "government"
                              ],
                              [
                                 "oil and gas"
                              ],
                              [
                                 "investor owned utilities"
                              ],
                              [
                                 "labor union"
                              ],
                              [
                                 "biofuels"
                              ],
                              [
                                 "environmental"
                              ],
                              [
                                 "think tanks and issue advocacy"
                              ],
                              [
                                 "environmental"
                              ],
                              [
                                 "finance"
                              ],
                              [
                                 "food and agriculture"
                              ],
                              [
                                 "oil and gas"
                              ],
                              [
                                 "renewable energy"
                              ],
                              [
                                 "renewable energy"
                              ],
                              [
                                 "investor owned utilities"
                              ],
                              [
                                 "food and agriculture"
                              ],
                              [
                                 "ccs"
                              ],
                              [
                                 "municipal and cooperative utilities"
                              ],
                              [
                                 "ev"
                              ],
                              [
                                 "renewable energy"
                              ],
                              [
                                 "railway"
                              ],
                              [
                                 "investor owned utilities"
                              ],
                              [
                                 "land transit"
                              ],
                              [
                                 "business advocacy"
                              ],
                              [
                                 "independent research organization"
                              ],
                              [
                                 "municipal and cooperative utilities"
                              ],
                              [
                                 "land transit"
                              ],
                              [
                                 "railway"
                              ],
                              [
                                 "business advocacy"
                              ],
                              [
                                 "labor union"
                              ],
                              [
                                 "oil and gas"
                              ],
                              [
                                 "food and agriculture"
                              ],
                              [
                                 "renewable energy"
                              ],
                              [
                                 "government"
                              ],
                              [
                                 "paper products"
                              ],
                              [
                                 "chemicals, refining, and plastics"
                              ],
                              [
                                 "chemicals, refining, and plastics"
                              ],
                              [
                                 "labor union"
                              ],
                              [
                                 "ccs"
                              ],
                              [
                                 "chemicals, refining, and plastics"
                              ],
                              [
                                 "coal"
                              ],
                              [
                                 "higher education"
                              ],
                              [
                                 "government"
                              ],
                              [
                                 "municipal and cooperative utilities"
                              ],
                              [
                                 "power sector general"
                              ],
                              [
                                 "mining and metals"
                              ],
                              [
                                 "renewable energy"
                              ],
                              [
                                 "oilfield services"
                              ],
                              [
                                 "land transit"
                              ],
                              [
                                 "food and agriculture"
                              ],
                              [
                                 "independent power producers"
                              ],
                              [
                                 "higher education"
                              ],
                              [
                                 "ccs"
                              ],
                              [
                                 "investor owned utilities"
                              ],
                              [
                                 "pipelines"
                              ],
                              [
                                 "biofuels"
                              ],
                              [
                                 "paper products"
                              ],
                              [
                                 "railway"
                              ],
                              [
                                 "higher education"
                              ],
                              [
                                 "food and agriculture"
                              ],
                              [
                                 "government"
                              ],
                              [
                                 "energy technology"
                              ],
                              [
                                 "land transit"
                              ],
                              [
                                 "food and agriculture"
                              ],
                              [
                                 "carbon"
                              ],
                              [
                                 "municipal and cooperative utilities"
                              ],
                              [
                                 "labor union"
                              ],
                              [
                                 "power sector general"
                              ],
                              [
                                 "biofuels"
                              ],
                              [
                                 "oilfield services"
                              ],
                              [
                                 "pipelines"
                              ],
                              [
                                 "paper products"
                              ],
                              [
                                 "municipal and cooperative utilities"
                              ],
                              [
                                 "investor owned utilities"
                              ],
                              [
                                 "independent power producers"
                              ],
                              [
                                 "ccs"
                              ],
                              [
                                 "power sector general"
                              ],
                              [
                                 "investor owned utilities"
                              ],
                              [
                                 "coal"
                              ],
                              [
                                 "food and agriculture"
                              ],
                              [
                                 "oil and gas"
                              ],
                              [
                                 "paper products"
                              ],
                              [
                                 "renewable energy"
                              ],
                              [
                                 "paper products"
                              ],
                              [
                                 "higher education"
                              ],
                              [
                                 "municipal and cooperative utilities"
                              ],
                              [
                                 "oil and gas"
                              ],
                              [
                                 "paper products"
                              ],
                              [
                                 "land transit"
                              ],
                              [
                                 "paper products"
                              ],
                              [
                                 "law and public policy"
                              ],
                              [
                                 "oil and gas"
                              ],
                              [
                                 "land transit"
                              ],
                              [
                                 "pipelines"
                              ],
                              [
                                 "renewable energy"
                              ],
                              [
                                 "coal"
                              ],
                              [
                                 "investor owned utilities"
                              ],
                              [
                                 "lng"
                              ],
                              [
                                 "think tanks and issue advocacy"
                              ],
                              [
                                 "mining and metals"
                              ],
                              [
                                 "environmental"
                              ],
                              [
                                 "railway"
                              ],
                              [
                                 "clean hydrogen"
                              ],
                              [
                                 "green hydrogen"
                              ],
                              [
                                 "power sector general"
                              ],
                              [
                                 "pipelines"
                              ],
                              [
                                 "finance"
                              ],
                              [
                                 "energy technology"
                              ],
                              [
                                 "ccs"
                              ],
                              [
                                 "business advocacy"
                              ],
                              [
                                 "energy technology"
                              ],
                              [
                                 "municipal and cooperative utilities"
                              ],
                              [
                                 "investor owned utilities"
                              ],
                              [
                                 "mining and metals"
                              ],
                              [
                                 "renewable energy"
                              ],
                              [
                                 "biofuels"
                              ],
                              [
                                 "biofuels"
                              ],
                              [
                                 "oilfield services"
                              ],
                              [
                                 "higher education"
                              ],
                              [
                                 "hvac"
                              ],
                              [
                                 "renewable energy"
                              ],
                              [
                                 "labor union"
                              ],
                              [
                                 "railway"
                              ],
                              [
                                 "coal"
                              ],
                              [
                                 "coal"
                              ],
                              [
                                 "carbon"
                              ],
                              [
                                 "ccs"
                              ],
                              [
                                 "chemicals, refining, and plastics"
                              ],
                              [
                                 "environmental"
                              ],
                              [
                                 "ccs"
                              ],
                              [
                                 "municipal and cooperative utilities"
                              ],
                              [
                                 "professional societies"
                              ],
                              [
                                 "chemicals, refining, and plastics"
                              ],
                              [
                                 "higher education"
                              ],
                              [
                                 "carbon"
                              ],
                              [
                                 "ccs"
                              ],
                              [
                                 "air transit"
                              ],
                              [
                                 "professional societies"
                              ],
                              [
                                 "ccs"
                              ],
                              [
                                 "oil and gas"
                              ],
                              [
                                 "nuclear"
                              ],
                              [
                                 "land transit"
                              ],
                              [
                                 "biofuels"
                              ],
                              [
                                 "clean hydrogen"
                              ],
                              [
                                 "chemicals, refining, and plastics"
                              ],
                              [
                                 "biofuels"
                              ],
                              [
                                 "nuclear"
                              ],
                              [
                                 "fuel cell"
                              ],
                              [
                                 "environmental"
                              ],
                              [
                                 "environmental"
                              ],
                              [
                                 "clean hydrogen"
                              ],
                              [
                                 "ccs"
                              ],
                              [
                                 "oil and gas"
                              ],
                              [
                                 "land transit"
                              ],
                              [
                                 "investor owned utilities"
                              ],
                              [
                                 "finance"
                              ],
                              [
                                 "ccs"
                              ],
                              [
                                 "investor owned utilities"
                              ],
                              [
                                 "think tanks and issue advocacy"
                              ],
                              [
                                 "oil and gas"
                              ],
                              [
                                 "municipal and cooperative utilities"
                              ],
                              [
                                 "government"
                              ],
                              [
                                 "green hydrogen"
                              ],
                              [
                                 "environmental"
                              ],
                              [
                                 "municipal and cooperative utilities"
                              ],
                              [
                                 "green hydrogen"
                              ],
                              [
                                 "labor union"
                              ],
                              [
                                 "government"
                              ],
                              [
                                 "engineering, technology, and consulting"
                              ],
                              [
                                 "investor owned utilities"
                              ],
                              [
                                 "renewable energy"
                              ],
                              [
                                 "land transit"
                              ],
                              [
                                 "renewable energy"
                              ],
                              [
                                 "cement"
                              ],
                              [
                                 "iron and steel"
                              ],
                              [
                                 "municipal and cooperative utilities"
                              ],
                              [
                                 "government"
                              ],
                              [
                                 "finance"
                              ],
                              [
                                 "finance"
                              ],
                              [
                                 "oil and gas"
                              ],
                              [
                                 "pipelines"
                              ],
                              [
                                 "environmental"
                              ],
                              [
                                 "oil and gas"
                              ],
                              [
                                 "engineering, technology, and consulting"
                              ],
                              [
                                 "think tanks and issue advocacy"
                              ],
                              [
                                 "clean hydrogen"
                              ],
                              [
                                 "energy technology"
                              ],
                              [
                                 "paper products"
                              ],
                              [
                                 "biofuels"
                              ],
                              [
                                 "food and agriculture"
                              ],
                              [
                                 "nuclear"
                              ],
                              [
                                 "water"
                              ],
                              [
                                 "land transit"
                              ],
                              [
                                 "coal"
                              ],
                              [
                                 "clean hydrogen"
                              ],
                              [
                                 "engineering, technology, and consulting"
                              ],
                              [
                                 "coal"
                              ],
                              [
                                 "investor owned utilities"
                              ],
                              [
                                 "energy technology"
                              ],
                              [
                                 "renewable energy"
                              ],
                              [
                                 "renewable energy"
                              ],
                              [
                                 "independent power producers"
                              ],
                              [
                                 "government"
                              ],
                              [
                                 "engineering, technology, and consulting"
                              ],
                              [
                                 "chemicals, refining, and plastics"
                              ],
                              [
                                 "chemicals, refining, and plastics"
                              ],
                              [
                                 "hvac"
                              ],
                              [
                                 "investor owned utilities"
                              ],
                              [
                                 "food and agriculture"
                              ],
                              [
                                 "investor owned utilities"
                              ],
                              [
                                 "think tanks and issue advocacy"
                              ],
                              [
                                 "investor owned utilities"
                              ],
                              [
                                 "biofuels"
                              ],
                              [
                                 "pipelines"
                              ],
                              [
                                 "oil and gas"
                              ],
                              [
                                 "air transit"
                              ],
                              [
                                 "environmental"
                              ],
                              [
                                 "think tanks and issue advocacy"
                              ],
                              [
                                 "think tanks and issue advocacy"
                              ],
                              [
                                 "investor owned utilities"
                              ],
                              [
                                 "fuel cell"
                              ],
                              [
                                 "biofuels"
                              ],
                              [
                                 "energy technology"
                              ],
                              [
                                 "environmental"
                              ],
                              [
                                 "land transit"
                              ],
                              [
                                 "pipelines"
                              ],
                              [
                                 "government"
                              ],
                              [
                                 "investor owned utilities"
                              ],
                              [
                                 "paper products"
                              ],
                              [
                                 "labor union"
                              ],
                              [
                                 "renewable energy"
                              ],
                              [
                                 "government"
                              ],
                              [
                                 "municipal and cooperative utilities"
                              ],
                              [
                                 "oilfield services"
                              ],
                              [
                                 "chemicals, refining, and plastics"
                              ],
                              [
                                 "power sector general"
                              ],
                              [
                                 "oilfield services"
                              ],
                              [
                                 "government"
                              ],
                              [
                                 "engineering, technology, and consulting"
                              ],
                              [
                                 "engineering, technology, and consulting"
                              ],
                              [
                                 "chemicals, refining, and plastics"
                              ],
                              [
                                 "paper products"
                              ],
                              [
                                 "biofuels"
                              ],
                              [
                                 "municipal and cooperative utilities"
                              ],
                              [
                                 "investor owned utilities"
                              ],
                              [
                                 "independent power producers"
                              ],
                              [
                                 "renewable energy"
                              ],
                              [
                                 "ccs"
                              ],
                              [
                                 "environmental"
                              ],
                              [
                                 "pipelines"
                              ],
                              [
                                 "think tanks and issue advocacy"
                              ],
                              [
                                 "environmental"
                              ],
                              [
                                 "pipelines"
                              ],
                              [
                                 "oil and gas"
                              ],
                              [
                                 "clean hydrogen"
                              ],
                              [
                                 "biofuels"
                              ],
                              [
                                 "investor owned utilities"
                              ],
                              [
                                 "algae"
                              ],
                              [
                                 "air transit"
                              ],
                              [
                                 "fuel cell"
                              ],
                              [
                                 "engineering, technology, and consulting"
                              ],
                              [
                                 "clean hydrogen"
                              ],
                              [
                                 "green hydrogen"
                              ],
                              [
                                 "hvac"
                              ],
                              [
                                 "chemicals, refining, and plastics"
                              ],
                              [
                                 "investor owned utilities"
                              ],
                              [
                                 "engineering, technology, and consulting"
                              ],
                              [
                                 "air transit"
                              ],
                              [
                                 "water transit"
                              ],
                              [
                                 "biofuels"
                              ],
                              [
                                 "land transit"
                              ],
                              [
                                 "higher education"
                              ],
                              [
                                 "oil and gas"
                              ],
                              [
                                 "land transit"
                              ],
                              [
                                 "municipal and cooperative utilities"
                              ],
                              [
                                 "ccs"
                              ],
                              [
                                 "business advocacy"
                              ],
                              [
                                 "government"
                              ],
                              [
                                 "oil and gas"
                              ],
                              [
                                 "chemicals, refining, and plastics"
                              ],
                              [
                                 "higher education"
                              ],
                              [
                                 "labor union"
                              ],
                              [
                                 "oil and gas"
                              ],
                              [
                                 "environmental"
                              ],
                              [
                                 "clean hydrogen"
                              ],
                              [
                                 "municipal and cooperative utilities"
                              ],
                              [
                                 "chemicals, refining, and plastics"
                              ],
                              [
                                 "independent power producers"
                              ],
                              [
                                 "labor union"
                              ],
                              [
                                 "ccs"
                              ],
                              [
                                 "chemicals, refining, and plastics"
                              ],
                              [
                                 "independent power producers"
                              ],
                              [
                                 "investor owned utilities"
                              ],
                              [
                                 "oil and gas"
                              ],
                              [
                                 "engineering, technology, and consulting"
                              ],
                              [
                                 "renewable energy"
                              ],
                              [
                                 "oil and gas"
                              ],
                              [
                                 "oil and gas"
                              ],
                              [
                                 "coal"
                              ],
                              [
                                 "environmental"
                              ],
                              [
                                 "higher education"
                              ],
                              [
                                 "land transit"
                              ],
                              [
                                 "think tanks and issue advocacy"
                              ],
                              [
                                 "think tanks and issue advocacy"
                              ],
                              [
                                 "municipal and cooperative utilities"
                              ],
                              [
                                 "hvac"
                              ],
                              [
                                 "pipelines"
                              ],
                              [
                                 "biofuels"
                              ],
                              [
                                 "air transit"
                              ],
                              [
                                 "chemicals, refining, and plastics"
                              ],
                              [
                                 "land transit"
                              ],
                              [
                                 "higher education"
                              ],
                              [
                                 "labor union"
                              ],
                              [
                                 "food and agriculture"
                              ],
                              [
                                 "higher education"
                              ],
                              [
                                 "higher education"
                              ],
                              [
                                 "chemicals, refining, and plastics"
                              ],
                              [
                                 "higher education"
                              ],
                              [
                                 "fuel cell"
                              ],
                              [
                                 "renewable energy"
                              ],
                              [
                                 "oil and gas"
                              ],
                              [
                                 "pipelines"
                              ],
                              [
                                 "carbon"
                              ],
                              [
                                 "food and agriculture"
                              ],
                              [
                                 "higher education"
                              ],
                              [
                                 "biofuels"
                              ],
                              [
                                 "investor owned utilities"
                              ],
                              [
                                 "independent research organization"
                              ],
                              [
                                 "chemicals, refining, and plastics"
                              ],
                              [
                                 "ccs"
                              ],
                              [
                                 "land transit"
                              ],
                              [
                                 "finance"
                              ],
                              [
                                 "renewable energy"
                              ],
                              [
                                 "law and public policy"
                              ],
                              [
                                 "cement"
                              ],
                              [
                                 "investor owned utilities"
                              ],
                              [
                                 "renewable energy"
                              ],
                              [
                                 "investor owned utilities"
                              ],
                              [
                                 "biofuels"
                              ],
                              [
                                 "labor union"
                              ],
                              [
                                 "investor owned utilities"
                              ],
                              [
                                 "cement"
                              ],
                              [
                                 "professional societies"
                              ],
                              [
                                 "energy technology"
                              ],
                              [
                                 "investor owned utilities"
                              ],
                              [
                                 "food and agriculture"
                              ],
                              [
                                 "food and agriculture"
                              ],
                              [
                                 "renewable energy"
                              ],
                              [
                                 "renewable energy"
                              ],
                              [
                                 "land transit"
                              ],
                              [
                                 "investor owned utilities"
                              ],
                              [
                                 "environmental"
                              ],
                              [
                                 "paper products"
                              ],
                              [
                                 "chemicals, refining, and plastics"
                              ],
                              [
                                 "energy technology"
                              ],
                              [
                                 "municipal and cooperative utilities"
                              ],
                              [
                                 "pipelines"
                              ],
                              [
                                 "chemicals, refining, and plastics"
                              ],
                              [
                                 "biofuels"
                              ],
                              [
                                 "investor owned utilities"
                              ],
                              [
                                 "environmental"
                              ],
                              [
                                 "mining and metals"
                              ],
                              [
                                 "engineering, technology, and consulting"
                              ],
                              [
                                 "oil and gas"
                              ],
                              [
                                 "finance"
                              ],
                              [
                                 "investor owned utilities"
                              ],
                              [
                                 "municipal and cooperative utilities"
                              ],
                              [
                                 "food and agriculture"
                              ],
                              [
                                 "government"
                              ],
                              [
                                 "law and public policy"
                              ],
                              [
                                 "land transit"
                              ],
                              [
                                 "iron and steel"
                              ],
                              [
                                 "ccs"
                              ],
                              [
                                 "air transit"
                              ],
                              [
                                 "coal"
                              ],
                              [
                                 "lng"
                              ],
                              [
                                 "clean hydrogen"
                              ],
                              [
                                 "finance"
                              ],
                              [
                                 "engineering, technology, and consulting"
                              ],
                              [
                                 "land transit"
                              ],
                              [
                                 "clean hydrogen"
                              ],
                              [
                                 "oil and gas"
                              ]
                           ],
                           "domain": {
                              "x": [
                                 0,
                                 1
                              ],
                              "y": [
                                 0,
                                 1
                              ]
                           },
                           "hovertemplate": "labels=%{label}<br>lobbying_activity_usd=%{value}<br>parent=%{parent}<br>id=%{id}<br>sector=%{customdata[0]}<extra></extra>",
                           "ids": [
                              "CARNEGIE<br>MELLON<br>UNIVERSITY",
                              "AUTOS<br>DRIVE<br>AMERICA",
                              "CROWLEY<br>MARITIME",
                              "FORTERA",
                              "NORTHERN<br>CALIFORNIA<br>POWER<br>AGENCY",
                              "KEURIG<br>DR<br>PEPPER",
                              "ELECTRIC<br>HYDROGEN",
                              "PORTLAND<br>CEMENT<br>ASSOCIATION",
                              "BIOTECHNOLOGY<br>INNOVATION<br>ORGANIZATION",
                              "UNIVERSAL<br>HYDROGEN",
                              "SECURING<br>AMERICAS<br>FUTURE<br>ENERGY",
                              "SUNIVA",
                              "AMERICAN<br>FORESTS",
                              "SEMPRA",
                              "AMERICAN<br>PETROLEUM<br>INSTITUTE",
                              "CLOUD<br>PEAK<br>ENERGY<br>RESOURCES",
                              "IMPERIAL<br>IRRIGATION<br>DISTRICT",
                              "WESTERN<br>MICHIGAN<br>UNIVERSITY",
                              "US<br>WIND",
                              "GULF<br>COAST<br>SEQUESTRATION",
                              "TRUST<br>FOR<br>PUBLIC<br>LAND",
                              "ARCELORMITTAL",
                              "DUPONT",
                              "NATIONAL<br>WASTE<br>RECYCLING<br>ASSOCIATION",
                              "CZERO",
                              "NATIONAL<br>TAXPAYERS<br>UNION",
                              "VERDAGY",
                              "BNSF<br>RAILWAY",
                              "NANO<br>TERRA",
                              "AMERICAN<br>FOREST<br>FOUNDATION",
                              "KP<br>KAUFFMAN",
                              "NLMK<br>PENNSYLVANIA",
                              "ROBERT<br>BOSCH",
                              "REWORLD",
                              "CITIZENS<br>FOR<br>RESPONSIBLE<br>ENERGY<br>SOLUTIONS",
                              "TOPSOE",
                              "IRRIGATION<br>AND<br>ELECTRICAL<br>DISTRICTS<br>ASSOCIATION<br>OF<br>ARIZONA",
                              "JUPITER<br>OXYGEN",
                              "UNIVERSITY<br>OF<br>NORTHERN<br>IOWA",
                              "RIPE<br>ROADMAP",
                              "HARDWOOD<br>FEDERATION",
                              "DYSTAR",
                              "LIQUID<br>ENERGY<br>PIPELINE<br>ASSOCIATION",
                              "AMERICAN<br>FUEL<br>PETROCHEMICAL<br>MANUFACTURERS",
                              "AIR<br>LIQUIDE",
                              "NATIONAL<br>GRID",
                              "INTERNATIONAL<br>ASSOCIATION<br>OF<br>SHEET<br>METAL<br>AIR<br>RAIL<br>TRANSPORTATION<br>WORKERS",
                              "PLUG<br>POWER",
                              "TWELVE<br>BENEFIT",
                              "CROWN<br>AGRO<br>FUELS",
                              "GLOBAL<br>HYDROGEN<br>TECHNOLOGIES",
                              "EV<br>CONNECT",
                              "NATIONAL<br>MINING<br>ASSOCIATION",
                              "HALLIBURTON",
                              "TALLGRASS",
                              "EDISON<br>INTERNATIONAL",
                              "LIEBMAN<br>ASSOCIATES",
                              "OCCIDENTAL<br>PETROLEUM",
                              "NATAT<br>NATIONAL<br>ASSOCIATION<br>OF<br>TOWNS<br>AND<br>TOWNSHIPS",
                              "CLECO<br>POWER",
                              "MILESTONE<br>ENVIRONMENTAL",
                              "GEOS<br>INSTITUTE",
                              "GREIF",
                              "GEODIGITAL<br>INTERNATIONAL",
                              "EION",
                              "GENERATORS<br>FOR<br>CLEAN<br>AIR",
                              "KANSAS<br>FARM<br>BUREAU",
                              "DAIRYLAND<br>POWER<br>COOPERATIVE",
                              "CORPUS<br>CHRISTI<br>TX",
                              "AUSTIN<br>ENERGY",
                              "CITY<br>UTILITIES<br>OF<br>SPRINGFIELD",
                              "HIGHLY<br>INNOVATIVE<br>FUELS",
                              "SOLVAY",
                              "MASSACHUSETTS<br>INSTITUTE<br>OF<br>TECHNOLOGY",
                              "CONOCO<br>PHILLIPS",
                              "ITC<br>HOLDINGS",
                              "DRAX<br>GROUP",
                              "CENTERPOINT",
                              "SUNRUN",
                              "FORD<br>MOTOR",
                              "FRAMATOME",
                              "TESLA",
                              "ELECTRIFY<br>AMERICA",
                              "BIOMASS<br>POWER<br>ASSOCIATION",
                              "COUNTY<br>OF<br>LOS<br>ANGELES",
                              "CALPORTLAND",
                              "ENVIRONMENTAL<br>POWER",
                              "ATMOS<br>ENERGY",
                              "NORTHEAST<br>PUBLIC<br>POWER<br>ASSOCIATION",
                              "OCEAN<br>CONSERVANCY",
                              "ASSOCIATION<br>OF<br>METROPOLITAN<br>WATER<br>AGENCIES",
                              "NEW<br>YORK<br>FARM<br>BUREAU",
                              "CARBON<br>UTILIZATION<br>RESEARCH<br>COUNCIL",
                              "TARGA",
                              "GULFSAFE",
                              "BIAENERGY<br>OPERATING",
                              "AMERICAN<br>FARM<br>BUREAU<br>FED",
                              "AMERICAN<br>CLEAN<br>POWER<br>ASSOCIATION",
                              "AMERICAN<br>BIOMASS<br>ENERGY<br>ASSOCIATION",
                              "SHELL",
                              "RTX",
                              "ENERGY<br>ADVANCE<br>CENTER",
                              "INSTITUTE<br>OF<br>ELECTRICAL<br>AND<br>ELECTRONICS<br>ENGINEERS",
                              "PENNSYLVANIA<br>FARM<br>BUREAU",
                              "CONSOL<br>ENERGY",
                              "CHEMOURS",
                              "ALLIANT<br>ENERGY",
                              "CHEVRON",
                              "ALLIANCE<br>FOR<br>AUTOMOTIVE<br>INNOVATION",
                              "FEDEX",
                              "ALGENOL",
                              "LINDEN<br>TRUST<br>FOR<br>CONSERVATION",
                              "CARBON<br>180",
                              "EXELON",
                              "NATIONAL<br>VENTURE<br>CAPITAL<br>ASSOCIATION",
                              "HEIRLOOM<br>CARBON<br>TECHNOLOGIES",
                              "AMPLE",
                              "BAKER<br>HUGHES",
                              "BWX<br>TECHNOLOGIES",
                              "CLEVELANDCLIFFS",
                              "METALS",
                              "ENGIE",
                              "BLUE<br>GREEN<br>ALLIANCE",
                              "CALIFORNIA<br>STEEL<br>INDUSTRIES",
                              "NEW<br>FORTRESS<br>ENERGY",
                              "MACQUARIE<br>INFRASTRUCTURE<br>AND<br>REAL<br>ASSETS",
                              "VESTAS",
                              "CHART<br>INDUSTRIES",
                              "GREATPOINT<br>ENERGY",
                              "SOUTHERN<br>CALIFORNIA<br>PUBLIC<br>POWER<br>AUTHORITY",
                              "HYDROGEN<br>FUEL<br>CELL<br>BUS<br>COUNCIL",
                              "MITSUBISHI",
                              "EATON",
                              "POTLATCHDELTIC",
                              "MAGNOLIA<br>LNG",
                              "CORNING",
                              "TECO",
                              "NAVIGATOR<br>CO2",
                              "POWERSPAN",
                              "CLEAN<br>AIR<br>TASK<br>FORCE",
                              "SOUTHERN<br>UTE<br>INDIAN<br>TRIBE",
                              "PROJECT<br>CANARY",
                              "WORLD<br>ENERGY",
                              "CLEAN<br>FUELS<br>ALLIANCE<br>AMERICA",
                              "NORTHWESTERN<br>ENERGY",
                              "PEABODY",
                              "ENEL",
                              "FIRSTENERGY",
                              "AMERICAN<br>MUNICIPAL<br>POWER",
                              "NORTHROP<br>GRUMMAN",
                              "ARCH<br>RESOURCES",
                              "BABCOCK<br>WILCOX",
                              "BOARDWALK<br>PIPELINE",
                              "CNX<br>RESOURCES",
                              "TEN08<br>ENERGY",
                              "AIR<br>PRODUCTS<br>AND<br>CHEMICALS",
                              "BASF",
                              "CUMMINS",
                              "REMORA",
                              "HYPERION<br>RESOURCES",
                              "ILLINOIS<br>AGRICULTURAL<br>ASSOCIATION",
                              "HUNTSMAN",
                              "NATIONAL<br>FUEL<br>GAS",
                              "AMERICAN<br>BIOGAS<br>COUNCIL",
                              "SSAB<br>ENTERPRISES",
                              "OX<br>PAPERBOARD",
                              "AMERICAS<br>POWER",
                              "ALLETE",
                              "GENERAL<br>MOTORS",
                              "NUCOR",
                              "DUKE",
                              "NATURAL<br>RESOURCES<br>DEFENSE<br>COUNCIL",
                              "GLENROCK<br>PETROLEUM",
                              "ENBRIDGE",
                              "MARATHON",
                              "ECOLAB",
                              "LARGE<br>PUBLIC<br>POWER<br>COUNCIL",
                              "LANZATECH",
                              "LAND<br>TRUST<br>ALLIANCE",
                              "UNITED<br>STEELWORKERS",
                              "PUBLIC<br>SERVICE<br>ENTERPRISE",
                              "SVANTE",
                              "PRIMIENT",
                              "INTERNATIONAL<br>BROTHERHOOD<br>OF<br>BOILERMAKERS",
                              "PROJECT<br>VESTA",
                              "EDISON<br>ELECTRIC<br>INSTITUTE",
                              "SIERRA<br>CLUB",
                              "SASOL",
                              "ENERGY<br>NORTHWEST",
                              "ENTERGY",
                              "RIO<br>TINTO",
                              "EVERSOURCE",
                              "FIRST<br>SOLAR",
                              "ENABLE<br>MIDSTREAM<br>PARTNERS",
                              "RTI<br>INTERNATIONAL",
                              "WOODWELL<br>CLIMATE<br>RESEARCH<br>CENTER",
                              "SANDRIDGE<br>ENERGY",
                              "RUNNING<br>TIDE",
                              "HOLCIM",
                              "WESTAR<br>ENERGY",
                              "CMS<br>ENERGY",
                              "INTERNATIONAL<br>BROTHERHOOD<br>OF<br>TEAMSTERS",
                              "JACK<br>COOPER<br>TRANSPORT",
                              "CONSOLIDATED<br>METCO",
                              "STRATA<br>CLEAN<br>ENERGY",
                              "CALPINE",
                              "LYONDELL<br>CHEMICAL",
                              "VALERO",
                              "NEW<br>GENERATION<br>BIOFUELS",
                              "BUSINESS<br>ROUNDTABLE",
                              "METHANOL<br>INSTITUTE",
                              "VISTRA",
                              "SOUTHERN<br>COMPANY",
                              "NATIONAL<br>COTTON<br>COUNCIL",
                              "NATIONAL<br>GROUND<br>WATER<br>ASSOCIATION",
                              "ARIZONA<br>STATE<br>UNIVERSITY",
                              "WASTE<br>MANAGEMENT",
                              "WEC<br>ENERGY",
                              "MERCEDESBENZ<br>GROUP",
                              "UTAH<br>ASSOCIATED<br>MUNICIPAL<br>POWER<br>SYSTEMS",
                              "LIGNITE<br>ENERGY<br>COUNCIL",
                              "LEAGUE<br>OF<br>CONSERVATION<br>VOTERS",
                              "FRIENDS<br>COMMITTEE<br>ON<br>NATIONAL<br>LEGISLATION",
                              "FIDELIS<br>NEW<br>ENERGY",
                              "US<br>BIOCHAR<br>COALITION",
                              "NATIONAL<br>RURAL<br>ELECTRIC<br>COOPERATIVE<br>ASSOCIATION",
                              "ARTHUR<br>J<br>GALLAGHER",
                              "ASSOCIATION<br>OF<br>OIL<br>PIPE<br>LINES",
                              "H<br>CYCLE",
                              "SOUTHWEST<br>AIRLINES",
                              "PACIFIC<br>FOREST<br>TRUST",
                              "C2I",
                              "LINDE",
                              "SOLAR<br>ENERGY<br>INDUSTRIES<br>ASSOCIATION",
                              "CASCADES",
                              "THERMOENERGY",
                              "VOLKSWAGEN",
                              "WESTERN<br>ORGANIZATION<br>OF<br>RESOURCE<br>COUNCILS",
                              "GILA<br>COUNTY<br>AZ",
                              "NATIONAL<br>OCEAN<br>INDUSTRIES<br>ASSOCIATION",
                              "WASHINGTON<br>GAS<br>LIGHT",
                              "INTERNATIONAL<br>ASSOCIATION<br>OF<br>MACHINISTS<br>AND<br>AEROSPACE<br>WORKERS",
                              "NATURAL<br>STATE<br>RENEWABLES",
                              "FRIENDS<br>OF<br>EARTH",
                              "COALITION<br>FOR<br>ENERGY<br>EFFICIENT<br>JOBS<br>INVESTMENT",
                              "EARTHJUSTICE",
                              "LEUCADIA<br>NATIONAL",
                              "YUM<br>BRANDS",
                              "WOODSIDE<br>ENERGY",
                              "INTERSECT<br>POWER",
                              "SUNPOWER",
                              "EMPIRE<br>DISTRICT<br>ELECTRIC",
                              "TYSON<br>FOODS",
                              "CCS<br>ALLIANCE",
                              "BASIN<br>ELECTRIC<br>POWER<br>COOPERATIVE",
                              "ZERO<br>EMISSION<br>TRANSPORTATION<br>ASSOCIATION",
                              "SOLAMERICA<br>ENERGY",
                              "ASSOCIATION<br>OF<br>AMERICAN<br>RAILROADS",
                              "ELECTRIC<br>POWER<br>SUPPLY<br>ASSOCIATION",
                              "VOLVO",
                              "US<br>CHAMBER<br>OF<br>COMMERCE",
                              "GREAT<br>PLAINS<br>INSTITUTE",
                              "AMERICAN<br>PUBLIC<br>POWER<br>ASSOCIATION",
                              "ARRIVAL<br>AUTOMOTIVE",
                              "NORFOLK<br>SOUTHERN",
                              "WESTERN<br>BUSINESS<br>ROUNDTABLE",
                              "UNITED<br>MINE<br>WORKERS<br>OF<br>AMERICA",
                              "TELLUS<br>OPERATING",
                              "VISCON",
                              "GLIDEPATH",
                              "STATE<br>OF<br>LOUISIANA",
                              "WHITE<br>OAK<br>INITIATIVE",
                              "EASTMAN<br>CHEMICAL",
                              "PBF",
                              "UNITED<br>ASSOCIATION<br>OF<br>JOURNEYMEN<br>APPRENTICES<br>OF<br>PLUMBING<br>PIPEFITTING<br>INDUSTRY",
                              "NORTH<br>AMERICAN<br>CARBON<br>CAPTURE<br>STORAGE<br>ASSOCIATION<br>NACCSA",
                              "US<br>VENTURE",
                              "FUTUREGEN<br>INDUSTRIAL<br>ALLIANCE",
                              "UNIVERSITY<br>OF<br>ILLINOIS",
                              "WESTROCK",
                              "MINNKOTA<br>POWER<br>COOPERATIVE",
                              "TENNESSEE<br>VALLEY<br>PUBLIC<br>POWER<br>ASSOCIATION",
                              "TALON<br>NICKEL",
                              "GEOTHERMAL<br>EXCHANGE<br>ORGANIZATION",
                              "REPUBLIC",
                              "FLUID<br>MARKET",
                              "SMITHFIELD<br>FOODS",
                              "SUMMIT<br>POWER",
                              "UNIVERSITY<br>OF<br>CALIFORNIA",
                              "NET<br>POWER",
                              "CONSOLIDATED<br>EDISON",
                              "WILLIAMS<br>COMPANIES",
                              "RENEWABLE<br>FUELS<br>ASSOCIATION",
                              "PAPERWORKS<br>INDUSTRIES",
                              "UNION<br>PACIFIC",
                              "OHIO<br>UNIVERSITY",
                              "SAZERAC",
                              "PORTLAND<br>OR",
                              "SCHNEIDER<br>ELECTRIC",
                              "NORTH<br>AMERICAN<br>SUBARU",
                              "UNILEVER<br>UNITED<br>STATES",
                              "PROCESS<br>ENERGY<br>SOLUTIONS",
                              "PUBLIC<br>POWER<br>COUNCIL",
                              "UNITED<br>BROTHERHOOD<br>OF<br>CARPENTERS",
                              "NORTHWEST<br>PUBLIC<br>POWER<br>ASSOCIATION",
                              "RAVEN<br>SR",
                              "MM<br>ENERGY",
                              "ENERGY<br>TRANSFER<br>PARTNERS",
                              "SMURFIT<br>STONE<br>CONTAINER",
                              "GRANT<br>COUNTY<br>PUBLIC<br>UTILITY<br>DISTRICT",
                              "PACIFIC<br>GAS<br>AND<br>ELECTRIC",
                              "LS<br>POWER",
                              "CLEAN<br>COAL<br>TECHNOLOGIES",
                              "INDUSTRIAL<br>ENERGY<br>CONSUMERS<br>OF<br>AMERICA",
                              "BERKSHIRE<br>HATHAWAY<br>ENERGY",
                              "CLINE<br>RESOURCES",
                              "NEBRASKA<br>FARM<br>BUREAU<br>FEDERATION",
                              "AETHON<br>ENERGY",
                              "WEYERHAEUSER",
                              "EOS<br>ENERGY<br>STORAGE",
                              "INTERNATIONAL<br>PAPER",
                              "UNIVERSITY<br>OF<br>TEXAS",
                              "JAMESTOWN<br>BOARD<br>OF<br>PUBLIC<br>UTILITIES",
                              "AMERICAN<br>EXPLORATION<br>PRODUCTION<br>COUNCIL",
                              "AMERICAN<br>FOREST<br>PAPER<br>ASSOCIATION",
                              "BMW",
                              "AMERICAN<br>FOREST<br>RESOURCE<br>COUNCIL",
                              "BLEDSOE<br>ASSOCIATES",
                              "AMERICAN<br>GAS<br>ASSOCIATION",
                              "AMERICAN<br>INTERNATIONAL<br>AUTOMOBILE<br>DEALERS<br>ASSOCIATION",
                              "GPA<br>MIDSTREAM<br>ASSOCIATION",
                              "NEXTERA",
                              "BITUMINOUS<br>COAL<br>OPERATORS<br>ASSOCIATION",
                              "AMERICAN<br>ELECTRIC<br>POWER",
                              "NEXTDECADE",
                              "AMERICANS<br>FOR<br>TAX<br>REFORM",
                              "ANGLO<br>AMERICAN",
                              "APPALACHIAN<br>TRAIL<br>CONSERVANCY",
                              "CSX",
                              "BAYOTECH",
                              "GTA<br>ENERGY",
                              "COLORADO<br>RIVER<br>ENERGY<br>DISTRIBUTORS<br>ASSOCIATION",
                              "COLONIAL<br>PIPELINE",
                              "BANK<br>POLICY<br>INSTITUTE",
                              "HITACHI",
                              "WABASH<br>VALLEY<br>RESOURCES",
                              "GREATER<br>PITTSBURGH<br>CHAMBER<br>OF<br>COMMERCE",
                              "HONEYWELL<br>INTERNATIONAL",
                              "TRISTATE<br>GENERATION<br>AND<br>TRANSMISSION<br>ASSOCIATION",
                              "ONE<br>GAS",
                              "JOY<br>GLOBAL",
                              "QUIDNET<br>ENERGY",
                              "ACCELERGY",
                              "ADVANCED<br>BIOFUELS<br>ASSOCIATION",
                              "ADVANTEK<br>WASTE<br>MANAGEMENT",
                              "IOWA<br>STATE<br>UNIVERSITY",
                              "AEROSEAL",
                              "STEM",
                              "AFLCIO",
                              "ALSTOM",
                              "AMERICAN<br>COALITION<br>FOR<br>CLEAN<br>COAL<br>ELECTRICITY",
                              "DRUMMOND",
                              "CARBONFUTURE",
                              "CARBON<br>ENGINEERING",
                              "DOW",
                              "CARBON<br>ADVOCACY<br>PROJECT",
                              "CAPTURA",
                              "DOUGLAS<br>COUNTY<br>PUBLIC<br>UTILITY<br>DISTRICT",
                              "AMERICAN<br>ASSOCIATION<br>OF<br>PETROLEUM<br>GEOLOGISTS",
                              "AMERICAN<br>CHEMICAL<br>SOCIETY",
                              "CALIFORNIA<br>INSTITUTE<br>OF<br>TECHNOLOGY",
                              "CALERA",
                              "CARBON<br>GEOCAPTURE",
                              "ATLAS<br>AIR<br>WORLDWIDE<br>HOLDINGS",
                              "AMERICAN<br>SOCIETY<br>OF<br>CIVIL<br>ENGINEERS",
                              "NET<br>NEGATIVE<br>CO2<br>BASELOAD<br>POWER",
                              "EXXON<br>MOBIL",
                              "NUCLEAR<br>INNOVATION<br>ALLIANCE",
                              "TOYOTA",
                              "UNITED<br>BIOREFINERIES",
                              "HYDROGEN<br>ADVISORY<br>COUNCIL",
                              "CF<br>INDUSTRIES",
                              "CHARM<br>INDUSTRIAL",
                              "NUCLEAR<br>ENERGY<br>INSTITUTE",
                              "FUEL<br>CELL<br>AND<br>HYDROGEN<br>ENERGY<br>ASSOCIATION",
                              "OPEN<br>SPACE<br>INSTITUTE",
                              "NATIONAL<br>AUDUBON<br>SOCIETY",
                              "EKONA<br>POWER",
                              "ONE<br>EARTH<br>SEQUESTRATION",
                              "INDEPENDENT<br>PETROLEUM<br>ASSOCIATION<br>OF<br>AMERICA",
                              "NISSAN",
                              "AMERICAN<br>TRANSMISSION",
                              "BREAKTHROUGH<br>ENERGY",
                              "BLUE<br>SOURCE",
                              "PUGET<br>SOUND<br>ENERGY",
                              "CENTER<br>FOR<br>TRANSPORTATION<br>AND<br>ENVIRONMENT",
                              "AMERICAS<br>NATURAL<br>GAS<br>ALLIANCE",
                              "OHIO<br>MUNICIPAL<br>ELECTRIC<br>ASSOCIATION",
                              "STATE<br>OF<br>ILLINOIS",
                              "OBSIDIAN<br>RENEWABLES",
                              "NATIONAL<br>PARKS<br>CONSERVATION<br>ASSOCIATION",
                              "SACRAMENTO<br>MUNICIPAL<br>UTILITY<br>DISTRICT",
                              "TES<br>US<br>DEVELOPMENT",
                              "INTL<br>ASSOCIATION<br>OF<br>BRIDGE<br>STRUCTURAL<br>ORNAMENTAL<br>REINFORCING<br>IRON<br>WORKERS",
                              "PORT<br>OF<br>LONG<br>BEACH",
                              "FLUOR",
                              "PORTLAND<br>GENERAL<br>ELECTRIC",
                              "FALCON<br>ENERGY<br>STORAGE<br>HOLDINGS<br>CEI",
                              "CATERPILLAR",
                              "RENEWABLE<br>ENERGY<br>GROUP",
                              "CEMEX",
                              "US<br>STEEL",
                              "SALT<br>RIVER<br>PROJECT",
                              "CHAMPAIGNURBANA<br>MASS<br>TRANSIT<br>DISTRICT",
                              "BROOKFIELD<br>ASSET<br>MANAGEMENT",
                              "NATIONAL<br>ASSOCIATION<br>OF<br>FEDERALLYINSURED<br>CREDIT<br>UNIONS",
                              "NC12",
                              "COLUMBIA<br>PIPELINE",
                              "GREENPEACE",
                              "CNOOC",
                              "COLIBRI<br>ENTERPRISES",
                              "MOVEONORG<br>CIVIC<br>ACTION",
                              "MODERN<br>HYDROGEN",
                              "COUNCIL<br>OF<br>INDUSTRIAL<br>BOILER<br>OWNERS",
                              "GRAPHIC<br>PACKAGING<br>INTERNATIONAL",
                              "CODEXIS",
                              "SUNTORY<br>GLOBAL<br>SPIRITS",
                              "WESTINGHOUSE<br>ELECTRIC",
                              "NATIONAL<br>ASSOCIATION<br>OF<br>CLEAN<br>WATER<br>AGENCIES",
                              "GOODYEAR",
                              "DKRW",
                              "ONE<br>H2",
                              "DNV",
                              "ALPHA<br>NATURAL<br>RESOURCES",
                              "BLACK<br>HILLS",
                              "GENERAL<br>ELECTRIC",
                              "RADIA",
                              "SWIFT<br>SOLAR",
                              "TENASKA",
                              "KANSAS<br>DEPARTMENT<br>OF<br>COMMERCE",
                              "ASME",
                              "KOCH<br>INDUSTRIES",
                              "BAYER",
                              "RHEEM<br>MANUFACTURING",
                              "EVERGY",
                              "NATIONAL<br>MILK<br>PRODUCERS<br>FEDERATION",
                              "CONSTELLATION<br>ENERGY",
                              "CENTER<br>FOR<br>AMERICAN<br>PROGRESS",
                              "PNM<br>RESOURCES",
                              "RENTECH",
                              "TRANS<br>CANADA",
                              "DIFFERENTIATED<br>GAS<br>COORDINATING<br>COUNCIL<br>COALITION",
                              "UNITED<br>AIRLINES",
                              "INDIAN<br>LAND<br>TENURE",
                              "GOVERNMENT<br>ACCOUNTABILITY<br>PROJECT",
                              "CLEARPATH<br>ACTION<br>FOR<br>CONSERVATIVE<br>CLEAN<br>ENERGY",
                              "NISOURCE",
                              "NIKOLA",
                              "CLEAN<br>ENERGY<br>FUELS",
                              "MAINSPRING<br>ENERGY",
                              "WILDERNESS<br>SOCIETY",
                              "HYUNDAI<br>KIA",
                              "INTERSTATE<br>NATURAL<br>GAS<br>ASSOCIATION<br>OF<br>AMERICA",
                              "INTERSTATE<br>OIL<br>AND<br>GAS<br>COMPACT<br>COMMISSION",
                              "ALGONQUIN<br>POWER<br>UTILITIES",
                              "NATIONAL<br>ALLIANCE<br>OF<br>FOREST<br>OWNERS",
                              "UNITED<br>AUTOMOBILE<br>AEROSPACE<br>AGRICULTURAL<br>IMPLEMENT<br>WORKERS",
                              "CLEARWAY<br>ENERGY",
                              "CALIFORNIA<br>STATE<br>ASSOCIATION<br>OF<br>COUNTIES",
                              "SOUTHERN<br>MONTANA<br>ELECTRIC<br>GENERATION<br>TRANSMISSION<br>COOPERATIVE",
                              "MCR<br>OIL<br>TOOLS",
                              "NATIONAL<br>PROPANE<br>GAS<br>ASSOCIATION",
                              "UNIPER<br>GLOBAL<br>COMMODITIES",
                              "TETRA<br>TECHNOLOGIES",
                              "STATE<br>OF<br>NORTH<br>DAKOTA",
                              "SOAP<br>CREEK<br>ENERGY",
                              "ABB",
                              "EVONIK",
                              "AMERICAN<br>WOOD<br>COUNCIL",
                              "ARBOR<br>ENERGY<br>AND<br>RESOURCES",
                              "NEW<br>YORK<br>ASSOCIATION<br>OF<br>PUBLIC<br>POWER",
                              "AMEREN",
                              "INVENERGY",
                              "LONGROAD<br>ENERGY<br>MANAGEMENT",
                              "AKERMIN",
                              "NATURE<br>CONSERVANCY",
                              "ENTERPRISE<br>PRODUCTS<br>PARTNERS<br>LP",
                              "NATIONAL<br>RIGHT<br>TO<br>WORK<br>COMMITTEE",
                              "ENVIRONMENT<br>AMERICA",
                              "MAGELLAN<br>MIDSTREAM<br>PARTNERS",
                              "EOG<br>RESOURCES",
                              "MONOLITH<br>MATERIALS",
                              "GREEN<br>PLAINS",
                              "OKLAHOMA<br>GAS<br>AND<br>ELECTRIC",
                              "ALGAE<br>BIOMASS<br>ORGANIZATION",
                              "DELTA",
                              "BLOOM<br>ENERGY",
                              "ACLIMA",
                              "CLEAN<br>HYDROGEN<br>FUTURE<br>COALITION",
                              "ECOLECTRO",
                              "CARRIER<br>GLOBAL",
                              "METHANEX",
                              "AES",
                              "AECOM",
                              "AEROJET<br>ROCKETDYNE",
                              "WORLD<br>SHIPPING<br>COUNCIL",
                              "LANZAJET",
                              "STELLANTIS",
                              "GEORGIA<br>INSTITUTE<br>OF<br>TECHNOLOGY",
                              "BAKKEN<br>ENERGY",
                              "NATSO",
                              "TACOMA<br>PUBLIC<br>UTILITIES",
                              "CLEAN<br>ENERGY<br>SYSTEMS",
                              "NATIONAL<br>ASSOCIATION<br>OF<br>MANUFACTURERS",
                              "STATE<br>OF<br>INDIANA",
                              "TOTAL",
                              "FERTILIZER<br>INSTITUTE",
                              "VANDERBILT<br>UNIVERSITY",
                              "INTERNATIONAL<br>UNION<br>OF<br>OPERATING<br>ENGINEERS",
                              "NATURAL<br>GAS<br>SUPPLY<br>ASSOCIATION",
                              "SOUTHERN<br>ENVIRONMENTAL<br>LAW<br>CENTER",
                              "ZERO<br>CARBON<br>HYDROGEN<br>COALITION",
                              "COLORADO<br>SPRINGS<br>UTILITIES",
                              "PHILLIPS<br>66",
                              "RWE",
                              "UTILITY<br>WORKERS<br>UNION<br>OF<br>AMERICA",
                              "CARBON<br>ENGINEERING<br>ULC",
                              "SIGNA<br>CHEMISTRY",
                              "SITHE<br>GLOBAL<br>POWER",
                              "UIL-AVANGRID",
                              "ENI",
                              "BLACK<br>VEATCH",
                              "ENERGY<br>STORAGE<br>ITC<br>COALITION",
                              "ENERGY<br>MARKETERS<br>OF<br>AMERICA",
                              "EQUINOR",
                              "FRONTIERAS",
                              "CENTER<br>FOR<br>CLIMATE<br>AND<br>ENERGY<br>SOLUTIONS",
                              "UNIVERSITY<br>OF<br>KENTUCKY",
                              "CALSTART",
                              "CENTER<br>FOR<br>INDIVIDUAL<br>FREEDOM",
                              "BIPARTISAN<br>POLICY<br>CENTER",
                              "POWDER<br>RIVER<br>ENERGY",
                              "AIRCONDITIONING<br>HEATING<br>REFRIGERATION<br>INSTITUTE",
                              "ONEOK",
                              "ALTERNATIVE<br>FUELS<br>CHEMICALS<br>COALITION",
                              "HAWAIIAN<br>AIRLINES",
                              "AMERICAN<br>CHEMISTRY<br>COUNCIL",
                              "NAFA<br>FLEET<br>MANAGEMENT<br>ASSOCIATION",
                              "NEW<br>MEXICO<br>STATE<br>UNIVERSITY",
                              "INTERNATIONAL<br>BROTHERHOOD<br>OF<br>ELECTRICAL<br>WORKERS",
                              "ARCHER<br>DANIELS<br>MIDLAND",
                              "UNIVERSITY<br>OF<br>PITTSBURGH",
                              "UNIVERSITY<br>OF<br>MICHIGAN",
                              "RHODIA",
                              "RICE<br>UNIVERSITY",
                              "US<br>FUEL<br>CELL<br>COUNCIL",
                              "SUNNOVA<br>ENERGY<br>INTERNATIONAL",
                              "BP<br>AMERICA",
                              "KINDER<br>MORGAN",
                              "SKYONIC",
                              "CALIFORNIA<br>AGRICULTURAL<br>COMMISSIONERS<br>AND<br>SEALERS<br>ASSOCIATION",
                              "YALE<br>UNIVERSITY",
                              "POET",
                              "NRG",
                              "WORLD<br>RESOURCES<br>INSTITUTE",
                              "ARKEMA",
                              "CEMVITA",
                              "AMERICAN<br>PUBLIC<br>TRANSPORTATION<br>ASSOCIATION",
                              "BANK<br>OF<br>AMERICA",
                              "APEX<br>CLEAN<br>ENERGY",
                              "CLARK<br>STREET<br>ASSOCIATES",
                              "BRIMSTONE<br>ENERGY",
                              "XCEL<br>ENERGY",
                              "AMERICAN<br>WIND<br>ENERGY<br>ASSOCIATION",
                              "PPL",
                              "CORN<br>REFINERS<br>ASSOCIATION",
                              "INTERNATIONAL<br>UNION<br>OF<br>PAINTERS<br>AND<br>ALLIED<br>TRADES",
                              "MDU<br>RESOURCES",
                              "NATIONAL<br>READY<br>MIXED<br>CONCRETE<br>ASSOCIATION",
                              "NATIONAL<br>SOCIETY<br>OF<br>PROFESSIONAL<br>SURVEYORS",
                              "SIEMENS",
                              "NORTHWEST<br>NATURAL<br>HOLDING<br>COMPANY",
                              "INDIGO",
                              "OHIO<br>FARM<br>BUREAU<br>FEDERATION",
                              "ORMAT<br>NEVADA",
                              "ORSTED",
                              "PACCAR",
                              "PINNACLE<br>WEST<br>CAPITAL",
                              "PLASTIC<br>POLLUTION<br>COALITION",
                              "PLUM<br>CREEK<br>TIMBER",
                              "ORIGIN<br>MATERIALS",
                              "HYLIION",
                              "MISSOURI<br>RIVER<br>ENERGY",
                              "HOWARD<br>ENERGY<br>PARTNERS",
                              "COVESTRO",
                              "GROWTH<br>ENERGY",
                              "DOMINION",
                              "ENVIRONMENTAL<br>DEFENSE<br>FUND",
                              "GLENCORE",
                              "FOSTER<br>WHEELER",
                              "EQT",
                              "FCO<br>ADVISORS",
                              "DTE<br>ENERGY",
                              "PRAIRIE<br>STATE<br>GENERATING",
                              "OREGON<br>FARM<br>BUREAU<br>FEDERATION",
                              "SAN<br>JOAQUIN<br>VALLEY<br>REGIONAL<br>PLANNING<br>AGENCIES<br>POLICY<br>COUNCIL",
                              "WILEY<br>REIN",
                              "NURO",
                              "FORTESCUE",
                              "VERDE<br>CO2",
                              "NATIONAL<br>BUSINESS<br>AVIATION<br>ASSOCIATION",
                              "WESTERN<br>FUELS",
                              "CHENIERE<br>ENERGY",
                              "HYDROGEN<br>ENERGY<br>CALIFORNIA",
                              "ZURICH",
                              "WSP",
                              "HONDA",
                              "POWERTAP",
                              "DEVON"
                           ],
                           "labels": [
                              "CARNEGIE<br>MELLON<br>UNIVERSITY",
                              "AUTOS<br>DRIVE<br>AMERICA",
                              "CROWLEY<br>MARITIME",
                              "FORTERA",
                              "NORTHERN<br>CALIFORNIA<br>POWER<br>AGENCY",
                              "KEURIG<br>DR<br>PEPPER",
                              "ELECTRIC<br>HYDROGEN",
                              "PORTLAND<br>CEMENT<br>ASSOCIATION",
                              "BIOTECHNOLOGY<br>INNOVATION<br>ORGANIZATION",
                              "UNIVERSAL<br>HYDROGEN",
                              "SECURING<br>AMERICAS<br>FUTURE<br>ENERGY",
                              "SUNIVA",
                              "AMERICAN<br>FORESTS",
                              "SEMPRA",
                              "AMERICAN<br>PETROLEUM<br>INSTITUTE",
                              "CLOUD<br>PEAK<br>ENERGY<br>RESOURCES",
                              "IMPERIAL<br>IRRIGATION<br>DISTRICT",
                              "WESTERN<br>MICHIGAN<br>UNIVERSITY",
                              "US<br>WIND",
                              "GULF<br>COAST<br>SEQUESTRATION",
                              "TRUST<br>FOR<br>PUBLIC<br>LAND",
                              "ARCELORMITTAL",
                              "DUPONT",
                              "NATIONAL<br>WASTE<br>RECYCLING<br>ASSOCIATION",
                              "CZERO",
                              "NATIONAL<br>TAXPAYERS<br>UNION",
                              "VERDAGY",
                              "BNSF<br>RAILWAY",
                              "NANO<br>TERRA",
                              "AMERICAN<br>FOREST<br>FOUNDATION",
                              "KP<br>KAUFFMAN",
                              "NLMK<br>PENNSYLVANIA",
                              "ROBERT<br>BOSCH",
                              "REWORLD",
                              "CITIZENS<br>FOR<br>RESPONSIBLE<br>ENERGY<br>SOLUTIONS",
                              "TOPSOE",
                              "IRRIGATION<br>AND<br>ELECTRICAL<br>DISTRICTS<br>ASSOCIATION<br>OF<br>ARIZONA",
                              "JUPITER<br>OXYGEN",
                              "UNIVERSITY<br>OF<br>NORTHERN<br>IOWA",
                              "RIPE<br>ROADMAP",
                              "HARDWOOD<br>FEDERATION",
                              "DYSTAR",
                              "LIQUID<br>ENERGY<br>PIPELINE<br>ASSOCIATION",
                              "AMERICAN<br>FUEL<br>PETROCHEMICAL<br>MANUFACTURERS",
                              "AIR<br>LIQUIDE",
                              "NATIONAL<br>GRID",
                              "INTERNATIONAL<br>ASSOCIATION<br>OF<br>SHEET<br>METAL<br>AIR<br>RAIL<br>TRANSPORTATION<br>WORKERS",
                              "PLUG<br>POWER",
                              "TWELVE<br>BENEFIT",
                              "CROWN<br>AGRO<br>FUELS",
                              "GLOBAL<br>HYDROGEN<br>TECHNOLOGIES",
                              "EV<br>CONNECT",
                              "NATIONAL<br>MINING<br>ASSOCIATION",
                              "HALLIBURTON",
                              "TALLGRASS",
                              "EDISON<br>INTERNATIONAL",
                              "LIEBMAN<br>ASSOCIATES",
                              "OCCIDENTAL<br>PETROLEUM",
                              "NATAT<br>NATIONAL<br>ASSOCIATION<br>OF<br>TOWNS<br>AND<br>TOWNSHIPS",
                              "CLECO<br>POWER",
                              "MILESTONE<br>ENVIRONMENTAL",
                              "GEOS<br>INSTITUTE",
                              "GREIF",
                              "GEODIGITAL<br>INTERNATIONAL",
                              "EION",
                              "GENERATORS<br>FOR<br>CLEAN<br>AIR",
                              "KANSAS<br>FARM<br>BUREAU",
                              "DAIRYLAND<br>POWER<br>COOPERATIVE",
                              "CORPUS<br>CHRISTI<br>TX",
                              "AUSTIN<br>ENERGY",
                              "CITY<br>UTILITIES<br>OF<br>SPRINGFIELD",
                              "HIGHLY<br>INNOVATIVE<br>FUELS",
                              "SOLVAY",
                              "MASSACHUSETTS<br>INSTITUTE<br>OF<br>TECHNOLOGY",
                              "CONOCO<br>PHILLIPS",
                              "ITC<br>HOLDINGS",
                              "DRAX<br>GROUP",
                              "CENTERPOINT",
                              "SUNRUN",
                              "FORD<br>MOTOR",
                              "FRAMATOME",
                              "TESLA",
                              "ELECTRIFY<br>AMERICA",
                              "BIOMASS<br>POWER<br>ASSOCIATION",
                              "COUNTY<br>OF<br>LOS<br>ANGELES",
                              "CALPORTLAND",
                              "ENVIRONMENTAL<br>POWER",
                              "ATMOS<br>ENERGY",
                              "NORTHEAST<br>PUBLIC<br>POWER<br>ASSOCIATION",
                              "OCEAN<br>CONSERVANCY",
                              "ASSOCIATION<br>OF<br>METROPOLITAN<br>WATER<br>AGENCIES",
                              "NEW<br>YORK<br>FARM<br>BUREAU",
                              "CARBON<br>UTILIZATION<br>RESEARCH<br>COUNCIL",
                              "TARGA",
                              "GULFSAFE",
                              "BIAENERGY<br>OPERATING",
                              "AMERICAN<br>FARM<br>BUREAU<br>FED",
                              "AMERICAN<br>CLEAN<br>POWER<br>ASSOCIATION",
                              "AMERICAN<br>BIOMASS<br>ENERGY<br>ASSOCIATION",
                              "SHELL",
                              "RTX",
                              "ENERGY<br>ADVANCE<br>CENTER",
                              "INSTITUTE<br>OF<br>ELECTRICAL<br>AND<br>ELECTRONICS<br>ENGINEERS",
                              "PENNSYLVANIA<br>FARM<br>BUREAU",
                              "CONSOL<br>ENERGY",
                              "CHEMOURS",
                              "ALLIANT<br>ENERGY",
                              "CHEVRON",
                              "ALLIANCE<br>FOR<br>AUTOMOTIVE<br>INNOVATION",
                              "FEDEX",
                              "ALGENOL",
                              "LINDEN<br>TRUST<br>FOR<br>CONSERVATION",
                              "CARBON<br>180",
                              "EXELON",
                              "NATIONAL<br>VENTURE<br>CAPITAL<br>ASSOCIATION",
                              "HEIRLOOM<br>CARBON<br>TECHNOLOGIES",
                              "AMPLE",
                              "BAKER<br>HUGHES",
                              "BWX<br>TECHNOLOGIES",
                              "CLEVELANDCLIFFS",
                              "METALS",
                              "ENGIE",
                              "BLUE<br>GREEN<br>ALLIANCE",
                              "CALIFORNIA<br>STEEL<br>INDUSTRIES",
                              "NEW<br>FORTRESS<br>ENERGY",
                              "MACQUARIE<br>INFRASTRUCTURE<br>AND<br>REAL<br>ASSETS",
                              "VESTAS",
                              "CHART<br>INDUSTRIES",
                              "GREATPOINT<br>ENERGY",
                              "SOUTHERN<br>CALIFORNIA<br>PUBLIC<br>POWER<br>AUTHORITY",
                              "HYDROGEN<br>FUEL<br>CELL<br>BUS<br>COUNCIL",
                              "MITSUBISHI",
                              "EATON",
                              "POTLATCHDELTIC",
                              "MAGNOLIA<br>LNG",
                              "CORNING",
                              "TECO",
                              "NAVIGATOR<br>CO2",
                              "POWERSPAN",
                              "CLEAN<br>AIR<br>TASK<br>FORCE",
                              "SOUTHERN<br>UTE<br>INDIAN<br>TRIBE",
                              "PROJECT<br>CANARY",
                              "WORLD<br>ENERGY",
                              "CLEAN<br>FUELS<br>ALLIANCE<br>AMERICA",
                              "NORTHWESTERN<br>ENERGY",
                              "PEABODY",
                              "ENEL",
                              "FIRSTENERGY",
                              "AMERICAN<br>MUNICIPAL<br>POWER",
                              "NORTHROP<br>GRUMMAN",
                              "ARCH<br>RESOURCES",
                              "BABCOCK<br>WILCOX",
                              "BOARDWALK<br>PIPELINE",
                              "CNX<br>RESOURCES",
                              "TEN08<br>ENERGY",
                              "AIR<br>PRODUCTS<br>AND<br>CHEMICALS",
                              "BASF",
                              "CUMMINS",
                              "REMORA",
                              "HYPERION<br>RESOURCES",
                              "ILLINOIS<br>AGRICULTURAL<br>ASSOCIATION",
                              "HUNTSMAN",
                              "NATIONAL<br>FUEL<br>GAS",
                              "AMERICAN<br>BIOGAS<br>COUNCIL",
                              "SSAB<br>ENTERPRISES",
                              "OX<br>PAPERBOARD",
                              "AMERICAS<br>POWER",
                              "ALLETE",
                              "GENERAL<br>MOTORS",
                              "NUCOR",
                              "DUKE",
                              "NATURAL<br>RESOURCES<br>DEFENSE<br>COUNCIL",
                              "GLENROCK<br>PETROLEUM",
                              "ENBRIDGE",
                              "MARATHON",
                              "ECOLAB",
                              "LARGE<br>PUBLIC<br>POWER<br>COUNCIL",
                              "LANZATECH",
                              "LAND<br>TRUST<br>ALLIANCE",
                              "UNITED<br>STEELWORKERS",
                              "PUBLIC<br>SERVICE<br>ENTERPRISE",
                              "SVANTE",
                              "PRIMIENT",
                              "INTERNATIONAL<br>BROTHERHOOD<br>OF<br>BOILERMAKERS",
                              "PROJECT<br>VESTA",
                              "EDISON<br>ELECTRIC<br>INSTITUTE",
                              "SIERRA<br>CLUB",
                              "SASOL",
                              "ENERGY<br>NORTHWEST",
                              "ENTERGY",
                              "RIO<br>TINTO",
                              "EVERSOURCE",
                              "FIRST<br>SOLAR",
                              "ENABLE<br>MIDSTREAM<br>PARTNERS",
                              "RTI<br>INTERNATIONAL",
                              "WOODWELL<br>CLIMATE<br>RESEARCH<br>CENTER",
                              "SANDRIDGE<br>ENERGY",
                              "RUNNING<br>TIDE",
                              "HOLCIM",
                              "WESTAR<br>ENERGY",
                              "CMS<br>ENERGY",
                              "INTERNATIONAL<br>BROTHERHOOD<br>OF<br>TEAMSTERS",
                              "JACK<br>COOPER<br>TRANSPORT",
                              "CONSOLIDATED<br>METCO",
                              "STRATA<br>CLEAN<br>ENERGY",
                              "CALPINE",
                              "LYONDELL<br>CHEMICAL",
                              "VALERO",
                              "NEW<br>GENERATION<br>BIOFUELS",
                              "BUSINESS<br>ROUNDTABLE",
                              "METHANOL<br>INSTITUTE",
                              "VISTRA",
                              "SOUTHERN<br>COMPANY",
                              "NATIONAL<br>COTTON<br>COUNCIL",
                              "NATIONAL<br>GROUND<br>WATER<br>ASSOCIATION",
                              "ARIZONA<br>STATE<br>UNIVERSITY",
                              "WASTE<br>MANAGEMENT",
                              "WEC<br>ENERGY",
                              "MERCEDESBENZ<br>GROUP",
                              "UTAH<br>ASSOCIATED<br>MUNICIPAL<br>POWER<br>SYSTEMS",
                              "LIGNITE<br>ENERGY<br>COUNCIL",
                              "LEAGUE<br>OF<br>CONSERVATION<br>VOTERS",
                              "FRIENDS<br>COMMITTEE<br>ON<br>NATIONAL<br>LEGISLATION",
                              "FIDELIS<br>NEW<br>ENERGY",
                              "US<br>BIOCHAR<br>COALITION",
                              "NATIONAL<br>RURAL<br>ELECTRIC<br>COOPERATIVE<br>ASSOCIATION",
                              "ARTHUR<br>J<br>GALLAGHER",
                              "ASSOCIATION<br>OF<br>OIL<br>PIPE<br>LINES",
                              "H<br>CYCLE",
                              "SOUTHWEST<br>AIRLINES",
                              "PACIFIC<br>FOREST<br>TRUST",
                              "C2I",
                              "LINDE",
                              "SOLAR<br>ENERGY<br>INDUSTRIES<br>ASSOCIATION",
                              "CASCADES",
                              "THERMOENERGY",
                              "VOLKSWAGEN",
                              "WESTERN<br>ORGANIZATION<br>OF<br>RESOURCE<br>COUNCILS",
                              "GILA<br>COUNTY<br>AZ",
                              "NATIONAL<br>OCEAN<br>INDUSTRIES<br>ASSOCIATION",
                              "WASHINGTON<br>GAS<br>LIGHT",
                              "INTERNATIONAL<br>ASSOCIATION<br>OF<br>MACHINISTS<br>AND<br>AEROSPACE<br>WORKERS",
                              "NATURAL<br>STATE<br>RENEWABLES",
                              "FRIENDS<br>OF<br>EARTH",
                              "COALITION<br>FOR<br>ENERGY<br>EFFICIENT<br>JOBS<br>INVESTMENT",
                              "EARTHJUSTICE",
                              "LEUCADIA<br>NATIONAL",
                              "YUM<br>BRANDS",
                              "WOODSIDE<br>ENERGY",
                              "INTERSECT<br>POWER",
                              "SUNPOWER",
                              "EMPIRE<br>DISTRICT<br>ELECTRIC",
                              "TYSON<br>FOODS",
                              "CCS<br>ALLIANCE",
                              "BASIN<br>ELECTRIC<br>POWER<br>COOPERATIVE",
                              "ZERO<br>EMISSION<br>TRANSPORTATION<br>ASSOCIATION",
                              "SOLAMERICA<br>ENERGY",
                              "ASSOCIATION<br>OF<br>AMERICAN<br>RAILROADS",
                              "ELECTRIC<br>POWER<br>SUPPLY<br>ASSOCIATION",
                              "VOLVO",
                              "US<br>CHAMBER<br>OF<br>COMMERCE",
                              "GREAT<br>PLAINS<br>INSTITUTE",
                              "AMERICAN<br>PUBLIC<br>POWER<br>ASSOCIATION",
                              "ARRIVAL<br>AUTOMOTIVE",
                              "NORFOLK<br>SOUTHERN",
                              "WESTERN<br>BUSINESS<br>ROUNDTABLE",
                              "UNITED<br>MINE<br>WORKERS<br>OF<br>AMERICA",
                              "TELLUS<br>OPERATING",
                              "VISCON",
                              "GLIDEPATH",
                              "STATE<br>OF<br>LOUISIANA",
                              "WHITE<br>OAK<br>INITIATIVE",
                              "EASTMAN<br>CHEMICAL",
                              "PBF",
                              "UNITED<br>ASSOCIATION<br>OF<br>JOURNEYMEN<br>APPRENTICES<br>OF<br>PLUMBING<br>PIPEFITTING<br>INDUSTRY",
                              "NORTH<br>AMERICAN<br>CARBON<br>CAPTURE<br>STORAGE<br>ASSOCIATION<br>NACCSA",
                              "US<br>VENTURE",
                              "FUTUREGEN<br>INDUSTRIAL<br>ALLIANCE",
                              "UNIVERSITY<br>OF<br>ILLINOIS",
                              "WESTROCK",
                              "MINNKOTA<br>POWER<br>COOPERATIVE",
                              "TENNESSEE<br>VALLEY<br>PUBLIC<br>POWER<br>ASSOCIATION",
                              "TALON<br>NICKEL",
                              "GEOTHERMAL<br>EXCHANGE<br>ORGANIZATION",
                              "REPUBLIC",
                              "FLUID<br>MARKET",
                              "SMITHFIELD<br>FOODS",
                              "SUMMIT<br>POWER",
                              "UNIVERSITY<br>OF<br>CALIFORNIA",
                              "NET<br>POWER",
                              "CONSOLIDATED<br>EDISON",
                              "WILLIAMS<br>COMPANIES",
                              "RENEWABLE<br>FUELS<br>ASSOCIATION",
                              "PAPERWORKS<br>INDUSTRIES",
                              "UNION<br>PACIFIC",
                              "OHIO<br>UNIVERSITY",
                              "SAZERAC",
                              "PORTLAND<br>OR",
                              "SCHNEIDER<br>ELECTRIC",
                              "NORTH<br>AMERICAN<br>SUBARU",
                              "UNILEVER<br>UNITED<br>STATES",
                              "PROCESS<br>ENERGY<br>SOLUTIONS",
                              "PUBLIC<br>POWER<br>COUNCIL",
                              "UNITED<br>BROTHERHOOD<br>OF<br>CARPENTERS",
                              "NORTHWEST<br>PUBLIC<br>POWER<br>ASSOCIATION",
                              "RAVEN<br>SR",
                              "MM<br>ENERGY",
                              "ENERGY<br>TRANSFER<br>PARTNERS",
                              "SMURFIT<br>STONE<br>CONTAINER",
                              "GRANT<br>COUNTY<br>PUBLIC<br>UTILITY<br>DISTRICT",
                              "PACIFIC<br>GAS<br>AND<br>ELECTRIC",
                              "LS<br>POWER",
                              "CLEAN<br>COAL<br>TECHNOLOGIES",
                              "INDUSTRIAL<br>ENERGY<br>CONSUMERS<br>OF<br>AMERICA",
                              "BERKSHIRE<br>HATHAWAY<br>ENERGY",
                              "CLINE<br>RESOURCES",
                              "NEBRASKA<br>FARM<br>BUREAU<br>FEDERATION",
                              "AETHON<br>ENERGY",
                              "WEYERHAEUSER",
                              "EOS<br>ENERGY<br>STORAGE",
                              "INTERNATIONAL<br>PAPER",
                              "UNIVERSITY<br>OF<br>TEXAS",
                              "JAMESTOWN<br>BOARD<br>OF<br>PUBLIC<br>UTILITIES",
                              "AMERICAN<br>EXPLORATION<br>PRODUCTION<br>COUNCIL",
                              "AMERICAN<br>FOREST<br>PAPER<br>ASSOCIATION",
                              "BMW",
                              "AMERICAN<br>FOREST<br>RESOURCE<br>COUNCIL",
                              "BLEDSOE<br>ASSOCIATES",
                              "AMERICAN<br>GAS<br>ASSOCIATION",
                              "AMERICAN<br>INTERNATIONAL<br>AUTOMOBILE<br>DEALERS<br>ASSOCIATION",
                              "GPA<br>MIDSTREAM<br>ASSOCIATION",
                              "NEXTERA",
                              "BITUMINOUS<br>COAL<br>OPERATORS<br>ASSOCIATION",
                              "AMERICAN<br>ELECTRIC<br>POWER",
                              "NEXTDECADE",
                              "AMERICANS<br>FOR<br>TAX<br>REFORM",
                              "ANGLO<br>AMERICAN",
                              "APPALACHIAN<br>TRAIL<br>CONSERVANCY",
                              "CSX",
                              "BAYOTECH",
                              "GTA<br>ENERGY",
                              "COLORADO<br>RIVER<br>ENERGY<br>DISTRIBUTORS<br>ASSOCIATION",
                              "COLONIAL<br>PIPELINE",
                              "BANK<br>POLICY<br>INSTITUTE",
                              "HITACHI",
                              "WABASH<br>VALLEY<br>RESOURCES",
                              "GREATER<br>PITTSBURGH<br>CHAMBER<br>OF<br>COMMERCE",
                              "HONEYWELL<br>INTERNATIONAL",
                              "TRISTATE<br>GENERATION<br>AND<br>TRANSMISSION<br>ASSOCIATION",
                              "ONE<br>GAS",
                              "JOY<br>GLOBAL",
                              "QUIDNET<br>ENERGY",
                              "ACCELERGY",
                              "ADVANCED<br>BIOFUELS<br>ASSOCIATION",
                              "ADVANTEK<br>WASTE<br>MANAGEMENT",
                              "IOWA<br>STATE<br>UNIVERSITY",
                              "AEROSEAL",
                              "STEM",
                              "AFLCIO",
                              "ALSTOM",
                              "AMERICAN<br>COALITION<br>FOR<br>CLEAN<br>COAL<br>ELECTRICITY",
                              "DRUMMOND",
                              "CARBONFUTURE",
                              "CARBON<br>ENGINEERING",
                              "DOW",
                              "CARBON<br>ADVOCACY<br>PROJECT",
                              "CAPTURA",
                              "DOUGLAS<br>COUNTY<br>PUBLIC<br>UTILITY<br>DISTRICT",
                              "AMERICAN<br>ASSOCIATION<br>OF<br>PETROLEUM<br>GEOLOGISTS",
                              "AMERICAN<br>CHEMICAL<br>SOCIETY",
                              "CALIFORNIA<br>INSTITUTE<br>OF<br>TECHNOLOGY",
                              "CALERA",
                              "CARBON<br>GEOCAPTURE",
                              "ATLAS<br>AIR<br>WORLDWIDE<br>HOLDINGS",
                              "AMERICAN<br>SOCIETY<br>OF<br>CIVIL<br>ENGINEERS",
                              "NET<br>NEGATIVE<br>CO2<br>BASELOAD<br>POWER",
                              "EXXON<br>MOBIL",
                              "NUCLEAR<br>INNOVATION<br>ALLIANCE",
                              "TOYOTA",
                              "UNITED<br>BIOREFINERIES",
                              "HYDROGEN<br>ADVISORY<br>COUNCIL",
                              "CF<br>INDUSTRIES",
                              "CHARM<br>INDUSTRIAL",
                              "NUCLEAR<br>ENERGY<br>INSTITUTE",
                              "FUEL<br>CELL<br>AND<br>HYDROGEN<br>ENERGY<br>ASSOCIATION",
                              "OPEN<br>SPACE<br>INSTITUTE",
                              "NATIONAL<br>AUDUBON<br>SOCIETY",
                              "EKONA<br>POWER",
                              "ONE<br>EARTH<br>SEQUESTRATION",
                              "INDEPENDENT<br>PETROLEUM<br>ASSOCIATION<br>OF<br>AMERICA",
                              "NISSAN",
                              "AMERICAN<br>TRANSMISSION",
                              "BREAKTHROUGH<br>ENERGY",
                              "BLUE<br>SOURCE",
                              "PUGET<br>SOUND<br>ENERGY",
                              "CENTER<br>FOR<br>TRANSPORTATION<br>AND<br>ENVIRONMENT",
                              "AMERICAS<br>NATURAL<br>GAS<br>ALLIANCE",
                              "OHIO<br>MUNICIPAL<br>ELECTRIC<br>ASSOCIATION",
                              "STATE<br>OF<br>ILLINOIS",
                              "OBSIDIAN<br>RENEWABLES",
                              "NATIONAL<br>PARKS<br>CONSERVATION<br>ASSOCIATION",
                              "SACRAMENTO<br>MUNICIPAL<br>UTILITY<br>DISTRICT",
                              "TES<br>US<br>DEVELOPMENT",
                              "INTL<br>ASSOCIATION<br>OF<br>BRIDGE<br>STRUCTURAL<br>ORNAMENTAL<br>REINFORCING<br>IRON<br>WORKERS",
                              "PORT<br>OF<br>LONG<br>BEACH",
                              "FLUOR",
                              "PORTLAND<br>GENERAL<br>ELECTRIC",
                              "FALCON<br>ENERGY<br>STORAGE<br>HOLDINGS<br>CEI",
                              "CATERPILLAR",
                              "RENEWABLE<br>ENERGY<br>GROUP",
                              "CEMEX",
                              "US<br>STEEL",
                              "SALT<br>RIVER<br>PROJECT",
                              "CHAMPAIGNURBANA<br>MASS<br>TRANSIT<br>DISTRICT",
                              "BROOKFIELD<br>ASSET<br>MANAGEMENT",
                              "NATIONAL<br>ASSOCIATION<br>OF<br>FEDERALLYINSURED<br>CREDIT<br>UNIONS",
                              "NC12",
                              "COLUMBIA<br>PIPELINE",
                              "GREENPEACE",
                              "CNOOC",
                              "COLIBRI<br>ENTERPRISES",
                              "MOVEONORG<br>CIVIC<br>ACTION",
                              "MODERN<br>HYDROGEN",
                              "COUNCIL<br>OF<br>INDUSTRIAL<br>BOILER<br>OWNERS",
                              "GRAPHIC<br>PACKAGING<br>INTERNATIONAL",
                              "CODEXIS",
                              "SUNTORY<br>GLOBAL<br>SPIRITS",
                              "WESTINGHOUSE<br>ELECTRIC",
                              "NATIONAL<br>ASSOCIATION<br>OF<br>CLEAN<br>WATER<br>AGENCIES",
                              "GOODYEAR",
                              "DKRW",
                              "ONE<br>H2",
                              "DNV",
                              "ALPHA<br>NATURAL<br>RESOURCES",
                              "BLACK<br>HILLS",
                              "GENERAL<br>ELECTRIC",
                              "RADIA",
                              "SWIFT<br>SOLAR",
                              "TENASKA",
                              "KANSAS<br>DEPARTMENT<br>OF<br>COMMERCE",
                              "ASME",
                              "KOCH<br>INDUSTRIES",
                              "BAYER",
                              "RHEEM<br>MANUFACTURING",
                              "EVERGY",
                              "NATIONAL<br>MILK<br>PRODUCERS<br>FEDERATION",
                              "CONSTELLATION<br>ENERGY",
                              "CENTER<br>FOR<br>AMERICAN<br>PROGRESS",
                              "PNM<br>RESOURCES",
                              "RENTECH",
                              "TRANS<br>CANADA",
                              "DIFFERENTIATED<br>GAS<br>COORDINATING<br>COUNCIL<br>COALITION",
                              "UNITED<br>AIRLINES",
                              "INDIAN<br>LAND<br>TENURE",
                              "GOVERNMENT<br>ACCOUNTABILITY<br>PROJECT",
                              "CLEARPATH<br>ACTION<br>FOR<br>CONSERVATIVE<br>CLEAN<br>ENERGY",
                              "NISOURCE",
                              "NIKOLA",
                              "CLEAN<br>ENERGY<br>FUELS",
                              "MAINSPRING<br>ENERGY",
                              "WILDERNESS<br>SOCIETY",
                              "HYUNDAI<br>KIA",
                              "INTERSTATE<br>NATURAL<br>GAS<br>ASSOCIATION<br>OF<br>AMERICA",
                              "INTERSTATE<br>OIL<br>AND<br>GAS<br>COMPACT<br>COMMISSION",
                              "ALGONQUIN<br>POWER<br>UTILITIES",
                              "NATIONAL<br>ALLIANCE<br>OF<br>FOREST<br>OWNERS",
                              "UNITED<br>AUTOMOBILE<br>AEROSPACE<br>AGRICULTURAL<br>IMPLEMENT<br>WORKERS",
                              "CLEARWAY<br>ENERGY",
                              "CALIFORNIA<br>STATE<br>ASSOCIATION<br>OF<br>COUNTIES",
                              "SOUTHERN<br>MONTANA<br>ELECTRIC<br>GENERATION<br>TRANSMISSION<br>COOPERATIVE",
                              "MCR<br>OIL<br>TOOLS",
                              "NATIONAL<br>PROPANE<br>GAS<br>ASSOCIATION",
                              "UNIPER<br>GLOBAL<br>COMMODITIES",
                              "TETRA<br>TECHNOLOGIES",
                              "STATE<br>OF<br>NORTH<br>DAKOTA",
                              "SOAP<br>CREEK<br>ENERGY",
                              "ABB",
                              "EVONIK",
                              "AMERICAN<br>WOOD<br>COUNCIL",
                              "ARBOR<br>ENERGY<br>AND<br>RESOURCES",
                              "NEW<br>YORK<br>ASSOCIATION<br>OF<br>PUBLIC<br>POWER",
                              "AMEREN",
                              "INVENERGY",
                              "LONGROAD<br>ENERGY<br>MANAGEMENT",
                              "AKERMIN",
                              "NATURE<br>CONSERVANCY",
                              "ENTERPRISE<br>PRODUCTS<br>PARTNERS<br>LP",
                              "NATIONAL<br>RIGHT<br>TO<br>WORK<br>COMMITTEE",
                              "ENVIRONMENT<br>AMERICA",
                              "MAGELLAN<br>MIDSTREAM<br>PARTNERS",
                              "EOG<br>RESOURCES",
                              "MONOLITH<br>MATERIALS",
                              "GREEN<br>PLAINS",
                              "OKLAHOMA<br>GAS<br>AND<br>ELECTRIC",
                              "ALGAE<br>BIOMASS<br>ORGANIZATION",
                              "DELTA",
                              "BLOOM<br>ENERGY",
                              "ACLIMA",
                              "CLEAN<br>HYDROGEN<br>FUTURE<br>COALITION",
                              "ECOLECTRO",
                              "CARRIER<br>GLOBAL",
                              "METHANEX",
                              "AES",
                              "AECOM",
                              "AEROJET<br>ROCKETDYNE",
                              "WORLD<br>SHIPPING<br>COUNCIL",
                              "LANZAJET",
                              "STELLANTIS",
                              "GEORGIA<br>INSTITUTE<br>OF<br>TECHNOLOGY",
                              "BAKKEN<br>ENERGY",
                              "NATSO",
                              "TACOMA<br>PUBLIC<br>UTILITIES",
                              "CLEAN<br>ENERGY<br>SYSTEMS",
                              "NATIONAL<br>ASSOCIATION<br>OF<br>MANUFACTURERS",
                              "STATE<br>OF<br>INDIANA",
                              "TOTAL",
                              "FERTILIZER<br>INSTITUTE",
                              "VANDERBILT<br>UNIVERSITY",
                              "INTERNATIONAL<br>UNION<br>OF<br>OPERATING<br>ENGINEERS",
                              "NATURAL<br>GAS<br>SUPPLY<br>ASSOCIATION",
                              "SOUTHERN<br>ENVIRONMENTAL<br>LAW<br>CENTER",
                              "ZERO<br>CARBON<br>HYDROGEN<br>COALITION",
                              "COLORADO<br>SPRINGS<br>UTILITIES",
                              "PHILLIPS<br>66",
                              "RWE",
                              "UTILITY<br>WORKERS<br>UNION<br>OF<br>AMERICA",
                              "CARBON<br>ENGINEERING<br>ULC",
                              "SIGNA<br>CHEMISTRY",
                              "SITHE<br>GLOBAL<br>POWER",
                              "UIL-AVANGRID",
                              "ENI",
                              "BLACK<br>VEATCH",
                              "ENERGY<br>STORAGE<br>ITC<br>COALITION",
                              "ENERGY<br>MARKETERS<br>OF<br>AMERICA",
                              "EQUINOR",
                              "FRONTIERAS",
                              "CENTER<br>FOR<br>CLIMATE<br>AND<br>ENERGY<br>SOLUTIONS",
                              "UNIVERSITY<br>OF<br>KENTUCKY",
                              "CALSTART",
                              "CENTER<br>FOR<br>INDIVIDUAL<br>FREEDOM",
                              "BIPARTISAN<br>POLICY<br>CENTER",
                              "POWDER<br>RIVER<br>ENERGY",
                              "AIRCONDITIONING<br>HEATING<br>REFRIGERATION<br>INSTITUTE",
                              "ONEOK",
                              "ALTERNATIVE<br>FUELS<br>CHEMICALS<br>COALITION",
                              "HAWAIIAN<br>AIRLINES",
                              "AMERICAN<br>CHEMISTRY<br>COUNCIL",
                              "NAFA<br>FLEET<br>MANAGEMENT<br>ASSOCIATION",
                              "NEW<br>MEXICO<br>STATE<br>UNIVERSITY",
                              "INTERNATIONAL<br>BROTHERHOOD<br>OF<br>ELECTRICAL<br>WORKERS",
                              "ARCHER<br>DANIELS<br>MIDLAND",
                              "UNIVERSITY<br>OF<br>PITTSBURGH",
                              "UNIVERSITY<br>OF<br>MICHIGAN",
                              "RHODIA",
                              "RICE<br>UNIVERSITY",
                              "US<br>FUEL<br>CELL<br>COUNCIL",
                              "SUNNOVA<br>ENERGY<br>INTERNATIONAL",
                              "BP<br>AMERICA",
                              "KINDER<br>MORGAN",
                              "SKYONIC",
                              "CALIFORNIA<br>AGRICULTURAL<br>COMMISSIONERS<br>AND<br>SEALERS<br>ASSOCIATION",
                              "YALE<br>UNIVERSITY",
                              "POET",
                              "NRG",
                              "WORLD<br>RESOURCES<br>INSTITUTE",
                              "ARKEMA",
                              "CEMVITA",
                              "AMERICAN<br>PUBLIC<br>TRANSPORTATION<br>ASSOCIATION",
                              "BANK<br>OF<br>AMERICA",
                              "APEX<br>CLEAN<br>ENERGY",
                              "CLARK<br>STREET<br>ASSOCIATES",
                              "BRIMSTONE<br>ENERGY",
                              "XCEL<br>ENERGY",
                              "AMERICAN<br>WIND<br>ENERGY<br>ASSOCIATION",
                              "PPL",
                              "CORN<br>REFINERS<br>ASSOCIATION",
                              "INTERNATIONAL<br>UNION<br>OF<br>PAINTERS<br>AND<br>ALLIED<br>TRADES",
                              "MDU<br>RESOURCES",
                              "NATIONAL<br>READY<br>MIXED<br>CONCRETE<br>ASSOCIATION",
                              "NATIONAL<br>SOCIETY<br>OF<br>PROFESSIONAL<br>SURVEYORS",
                              "SIEMENS",
                              "NORTHWEST<br>NATURAL<br>HOLDING<br>COMPANY",
                              "INDIGO",
                              "OHIO<br>FARM<br>BUREAU<br>FEDERATION",
                              "ORMAT<br>NEVADA",
                              "ORSTED",
                              "PACCAR",
                              "PINNACLE<br>WEST<br>CAPITAL",
                              "PLASTIC<br>POLLUTION<br>COALITION",
                              "PLUM<br>CREEK<br>TIMBER",
                              "ORIGIN<br>MATERIALS",
                              "HYLIION",
                              "MISSOURI<br>RIVER<br>ENERGY",
                              "HOWARD<br>ENERGY<br>PARTNERS",
                              "COVESTRO",
                              "GROWTH<br>ENERGY",
                              "DOMINION",
                              "ENVIRONMENTAL<br>DEFENSE<br>FUND",
                              "GLENCORE",
                              "FOSTER<br>WHEELER",
                              "EQT",
                              "FCO<br>ADVISORS",
                              "DTE<br>ENERGY",
                              "PRAIRIE<br>STATE<br>GENERATING",
                              "OREGON<br>FARM<br>BUREAU<br>FEDERATION",
                              "SAN<br>JOAQUIN<br>VALLEY<br>REGIONAL<br>PLANNING<br>AGENCIES<br>POLICY<br>COUNCIL",
                              "WILEY<br>REIN",
                              "NURO",
                              "FORTESCUE",
                              "VERDE<br>CO2",
                              "NATIONAL<br>BUSINESS<br>AVIATION<br>ASSOCIATION",
                              "WESTERN<br>FUELS",
                              "CHENIERE<br>ENERGY",
                              "HYDROGEN<br>ENERGY<br>CALIFORNIA",
                              "ZURICH",
                              "WSP",
                              "HONDA",
                              "POWERTAP",
                              "DEVON"
                           ],
                           "marker": {
                              "colors": [
                                 "cornflowerblue",
                                 "darkgrey",
                                 "darkkhaki",
                                 "firebrick",
                                 "dimgrey",
                                 "darkkhaki",
                                 "darkseagreen",
                                 "firebrick",
                                 "darkgrey",
                                 "darkgrey",
                                 "cornflowerblue",
                                 "darkseagreen",
                                 "darkseagreen",
                                 "dimgrey",
                                 "dimgrey",
                                 "dimgrey",
                                 "darkseagreen",
                                 "cornflowerblue",
                                 "darkseagreen",
                                 "dimgrey",
                                 "darkseagreen",
                                 "firebrick",
                                 "dimgrey",
                                 "darkseagreen",
                                 "dimgrey",
                                 "cornflowerblue",
                                 "dimgrey",
                                 "darkgrey",
                                 "darkkhaki",
                                 "darkseagreen",
                                 "dimgrey",
                                 "firebrick",
                                 "darkkhaki",
                                 "darkgrey",
                                 "darkseagreen",
                                 "darkgrey",
                                 "dimgrey",
                                 "dimgrey",
                                 "cornflowerblue",
                                 "darkseagreen",
                                 "firebrick",
                                 "dimgrey",
                                 "dimgrey",
                                 "dimgrey",
                                 "dimgrey",
                                 "dimgrey",
                                 "cornflowerblue",
                                 "darkgrey",
                                 "darkgrey",
                                 "dimgrey",
                                 "dimgrey",
                                 "darkseagreen",
                                 "firebrick",
                                 "dimgrey",
                                 "dimgrey",
                                 "dimgrey",
                                 "darkkhaki",
                                 "dimgrey",
                                 "cornflowerblue",
                                 "dimgrey",
                                 "dimgrey",
                                 "darkseagreen",
                                 "firebrick",
                                 "darkkhaki",
                                 "darkseagreen",
                                 "dimgrey",
                                 "darkkhaki",
                                 "dimgrey",
                                 "cornflowerblue",
                                 "dimgrey",
                                 "dimgrey",
                                 "darkseagreen",
                                 "dimgrey",
                                 "cornflowerblue",
                                 "dimgrey",
                                 "dimgrey",
                                 "dimgrey",
                                 "dimgrey",
                                 "darkseagreen",
                                 "darkgrey",
                                 "darkseagreen",
                                 "darkseagreen",
                                 "cornflowerblue",
                                 "darkgrey",
                                 "cornflowerblue",
                                 "firebrick",
                                 "darkgrey",
                                 "dimgrey",
                                 "dimgrey",
                                 "darkseagreen",
                                 "darkseagreen",
                                 "darkkhaki",
                                 "dimgrey",
                                 "dimgrey",
                                 "dimgrey",
                                 "darkgrey",
                                 "darkkhaki",
                                 "darkseagreen",
                                 "darkgrey",
                                 "dimgrey",
                                 "darkgrey",
                                 "dimgrey",
                                 "cornflowerblue",
                                 "darkkhaki",
                                 "dimgrey",
                                 "dimgrey",
                                 "dimgrey",
                                 "dimgrey",
                                 "darkgrey",
                                 "darkgrey",
                                 "dimgrey",
                                 "darkseagreen",
                                 "darkseagreen",
                                 "dimgrey",
                                 "darkkhaki",
                                 "darkseagreen",
                                 "darkseagreen",
                                 "dimgrey",
                                 "darkseagreen",
                                 "firebrick",
                                 "firebrick",
                                 "dimgrey",
                                 "darkseagreen",
                                 "firebrick",
                                 "dimgrey",
                                 "darkkhaki",
                                 "darkseagreen",
                                 "dimgrey",
                                 "dimgrey",
                                 "dimgrey",
                                 "darkgrey",
                                 "darkgrey",
                                 "darkgrey",
                                 "firebrick",
                                 "dimgrey",
                                 "darkseagreen",
                                 "dimgrey",
                                 "dimgrey",
                                 "dimgrey",
                                 "darkseagreen",
                                 "cornflowerblue",
                                 "darkseagreen",
                                 "darkseagreen",
                                 "darkgrey",
                                 "dimgrey",
                                 "dimgrey",
                                 "darkseagreen",
                                 "dimgrey",
                                 "dimgrey",
                                 "darkgrey",
                                 "dimgrey",
                                 "darkgrey",
                                 "dimgrey",
                                 "dimgrey",
                                 "dimgrey",
                                 "dimgrey",
                                 "dimgrey",
                                 "darkgrey",
                                 "dimgrey",
                                 "dimgrey",
                                 "darkkhaki",
                                 "dimgrey",
                                 "dimgrey",
                                 "darkgrey",
                                 "firebrick",
                                 "firebrick",
                                 "dimgrey",
                                 "dimgrey",
                                 "darkgrey",
                                 "firebrick",
                                 "dimgrey",
                                 "darkseagreen",
                                 "dimgrey",
                                 "dimgrey",
                                 "dimgrey",
                                 "dimgrey",
                                 "dimgrey",
                                 "darkkhaki",
                                 "darkseagreen",
                                 "cornflowerblue",
                                 "dimgrey",
                                 "dimgrey",
                                 "darkkhaki",
                                 "cornflowerblue",
                                 "darkseagreen",
                                 "dimgrey",
                                 "darkseagreen",
                                 "dimgrey",
                                 "dimgrey",
                                 "dimgrey",
                                 "firebrick",
                                 "dimgrey",
                                 "darkseagreen",
                                 "dimgrey",
                                 "darkkhaki",
                                 "darkkhaki",
                                 "dimgrey",
                                 "darkseagreen",
                                 "firebrick",
                                 "dimgrey",
                                 "dimgrey",
                                 "cornflowerblue",
                                 "darkgrey",
                                 "darkgrey",
                                 "darkseagreen",
                                 "dimgrey",
                                 "dimgrey",
                                 "dimgrey",
                                 "darkgrey",
                                 "cornflowerblue",
                                 "dimgrey",
                                 "dimgrey",
                                 "dimgrey",
                                 "darkkhaki",
                                 "darkseagreen",
                                 "cornflowerblue",
                                 "dimgrey",
                                 "dimgrey",
                                 "darkgrey",
                                 "dimgrey",
                                 "dimgrey",
                                 "darkseagreen",
                                 "darkseagreen",
                                 "dimgrey",
                                 "darkseagreen",
                                 "dimgrey",
                                 "darkkhaki",
                                 "dimgrey",
                                 "darkgrey",
                                 "darkgrey",
                                 "firebrick",
                                 "darkkhaki",
                                 "dimgrey",
                                 "darkseagreen",
                                 "firebrick",
                                 "dimgrey",
                                 "darkgrey",
                                 "darkseagreen",
                                 "cornflowerblue",
                                 "dimgrey",
                                 "dimgrey",
                                 "cornflowerblue",
                                 "darkgrey",
                                 "darkseagreen",
                                 "cornflowerblue",
                                 "darkseagreen",
                                 "darkkhaki",
                                 "darkkhaki",
                                 "dimgrey",
                                 "darkseagreen",
                                 "darkseagreen",
                                 "dimgrey",
                                 "darkkhaki",
                                 "dimgrey",
                                 "dimgrey",
                                 "darkseagreen",
                                 "darkseagreen",
                                 "darkgrey",
                                 "dimgrey",
                                 "darkgrey",
                                 "cornflowerblue",
                                 "darkkhaki",
                                 "dimgrey",
                                 "darkgrey",
                                 "darkgrey",
                                 "cornflowerblue",
                                 "cornflowerblue",
                                 "dimgrey",
                                 "darkkhaki",
                                 "darkseagreen",
                                 "cornflowerblue",
                                 "firebrick",
                                 "dimgrey",
                                 "dimgrey",
                                 "cornflowerblue",
                                 "dimgrey",
                                 "dimgrey",
                                 "dimgrey",
                                 "cornflowerblue",
                                 "cornflowerblue",
                                 "dimgrey",
                                 "dimgrey",
                                 "firebrick",
                                 "darkseagreen",
                                 "dimgrey",
                                 "darkgrey",
                                 "darkkhaki",
                                 "dimgrey",
                                 "cornflowerblue",
                                 "dimgrey",
                                 "dimgrey",
                                 "dimgrey",
                                 "darkgrey",
                                 "firebrick",
                                 "darkgrey",
                                 "cornflowerblue",
                                 "darkkhaki",
                                 "cornflowerblue",
                                 "darkgrey",
                                 "darkgrey",
                                 "darkkhaki",
                                 "darkseagreen",
                                 "dimgrey",
                                 "cornflowerblue",
                                 "dimgrey",
                                 "darkgrey",
                                 "dimgrey",
                                 "dimgrey",
                                 "firebrick",
                                 "dimgrey",
                                 "dimgrey",
                                 "dimgrey",
                                 "dimgrey",
                                 "dimgrey",
                                 "dimgrey",
                                 "dimgrey",
                                 "darkkhaki",
                                 "dimgrey",
                                 "firebrick",
                                 "darkseagreen",
                                 "firebrick",
                                 "cornflowerblue",
                                 "dimgrey",
                                 "dimgrey",
                                 "firebrick",
                                 "darkgrey",
                                 "firebrick",
                                 "darkkhaki",
                                 "dimgrey",
                                 "darkgrey",
                                 "dimgrey",
                                 "darkseagreen",
                                 "dimgrey",
                                 "dimgrey",
                                 "dimgrey",
                                 "cornflowerblue",
                                 "firebrick",
                                 "darkseagreen",
                                 "darkgrey",
                                 "dimgrey",
                                 "darkseagreen",
                                 "dimgrey",
                                 "dimgrey",
                                 "darkkhaki",
                                 "darkgrey",
                                 "dimgrey",
                                 "cornflowerblue",
                                 "darkgrey",
                                 "dimgrey",
                                 "dimgrey",
                                 "firebrick",
                                 "darkseagreen",
                                 "darkgrey",
                                 "darkgrey",
                                 "dimgrey",
                                 "cornflowerblue",
                                 "darkkhaki",
                                 "darkseagreen",
                                 "cornflowerblue",
                                 "darkgrey",
                                 "dimgrey",
                                 "dimgrey",
                                 "darkseagreen",
                                 "dimgrey",
                                 "dimgrey",
                                 "darkseagreen",
                                 "dimgrey",
                                 "dimgrey",
                                 "cornflowerblue",
                                 "dimgrey",
                                 "cornflowerblue",
                                 "darkseagreen",
                                 "dimgrey",
                                 "darkgrey",
                                 "cornflowerblue",
                                 "dimgrey",
                                 "dimgrey",
                                 "darkseagreen",
                                 "darkgrey",
                                 "darkgrey",
                                 "dimgrey",
                                 "dimgrey",
                                 "darkgrey",
                                 "darkseagreen",
                                 "darkgrey",
                                 "darkseagreen",
                                 "darkseagreen",
                                 "dimgrey",
                                 "dimgrey",
                                 "dimgrey",
                                 "darkgrey",
                                 "dimgrey",
                                 "darkkhaki",
                                 "dimgrey",
                                 "dimgrey",
                                 "cornflowerblue",
                                 "dimgrey",
                                 "dimgrey",
                                 "cornflowerblue",
                                 "darkseagreen",
                                 "darkseagreen",
                                 "dimgrey",
                                 "darkseagreen",
                                 "cornflowerblue",
                                 "cornflowerblue",
                                 "darkkhaki",
                                 "dimgrey",
                                 "darkseagreen",
                                 "darkgrey",
                                 "darkseagreen",
                                 "firebrick",
                                 "firebrick",
                                 "dimgrey",
                                 "cornflowerblue",
                                 "darkkhaki",
                                 "darkkhaki",
                                 "dimgrey",
                                 "dimgrey",
                                 "darkseagreen",
                                 "dimgrey",
                                 "darkkhaki",
                                 "cornflowerblue",
                                 "dimgrey",
                                 "darkgrey",
                                 "firebrick",
                                 "darkgrey",
                                 "darkkhaki",
                                 "darkseagreen",
                                 "darkseagreen",
                                 "darkgrey",
                                 "dimgrey",
                                 "dimgrey",
                                 "darkkhaki",
                                 "dimgrey",
                                 "dimgrey",
                                 "darkgrey",
                                 "darkseagreen",
                                 "darkseagreen",
                                 "dimgrey",
                                 "cornflowerblue",
                                 "darkkhaki",
                                 "dimgrey",
                                 "dimgrey",
                                 "darkkhaki",
                                 "dimgrey",
                                 "darkkhaki",
                                 "dimgrey",
                                 "cornflowerblue",
                                 "dimgrey",
                                 "darkgrey",
                                 "dimgrey",
                                 "dimgrey",
                                 "darkgrey",
                                 "darkseagreen",
                                 "cornflowerblue",
                                 "cornflowerblue",
                                 "dimgrey",
                                 "darkgrey",
                                 "darkgrey",
                                 "darkgrey",
                                 "darkseagreen",
                                 "darkgrey",
                                 "dimgrey",
                                 "cornflowerblue",
                                 "dimgrey",
                                 "firebrick",
                                 "cornflowerblue",
                                 "darkseagreen",
                                 "cornflowerblue",
                                 "dimgrey",
                                 "dimgrey",
                                 "dimgrey",
                                 "dimgrey",
                                 "dimgrey",
                                 "cornflowerblue",
                                 "darkkhaki",
                                 "darkkhaki",
                                 "dimgrey",
                                 "firebrick",
                                 "darkgrey",
                                 "dimgrey",
                                 "dimgrey",
                                 "dimgrey",
                                 "darkseagreen",
                                 "dimgrey",
                                 "darkseagreen",
                                 "dimgrey",
                                 "cornflowerblue",
                                 "darkseagreen",
                                 "dimgrey",
                                 "dimgrey",
                                 "dimgrey",
                                 "darkgrey",
                                 "dimgrey",
                                 "dimgrey",
                                 "darkgrey",
                                 "darkgrey",
                                 "darkkhaki",
                                 "dimgrey",
                                 "darkseagreen",
                                 "darkkhaki",
                                 "dimgrey",
                                 "dimgrey",
                                 "darkkhaki",
                                 "darkgrey",
                                 "darkgrey",
                                 "darkgrey",
                                 "darkgrey",
                                 "cornflowerblue",
                                 "dimgrey",
                                 "darkgrey",
                                 "dimgrey",
                                 "dimgrey",
                                 "cornflowerblue",
                                 "cornflowerblue",
                                 "dimgrey",
                                 "dimgrey",
                                 "cornflowerblue",
                                 "cornflowerblue",
                                 "dimgrey",
                                 "darkseagreen",
                                 "dimgrey",
                                 "dimgrey",
                                 "dimgrey",
                                 "dimgrey",
                                 "cornflowerblue",
                                 "dimgrey",
                                 "dimgrey",
                                 "dimgrey",
                                 "dimgrey",
                                 "dimgrey",
                                 "darkkhaki",
                                 "darkseagreen",
                                 "dimgrey",
                                 "dimgrey",
                                 "dimgrey",
                                 "darkseagreen",
                                 "cornflowerblue",
                                 "darkgrey",
                                 "cornflowerblue",
                                 "cornflowerblue",
                                 "dimgrey",
                                 "darkkhaki",
                                 "dimgrey",
                                 "darkgrey",
                                 "darkgrey",
                                 "dimgrey",
                                 "darkgrey",
                                 "cornflowerblue",
                                 "cornflowerblue",
                                 "darkkhaki",
                                 "cornflowerblue",
                                 "cornflowerblue",
                                 "dimgrey",
                                 "cornflowerblue",
                                 "darkgrey",
                                 "darkseagreen",
                                 "dimgrey",
                                 "dimgrey",
                                 "darkseagreen",
                                 "darkkhaki",
                                 "cornflowerblue",
                                 "darkgrey",
                                 "dimgrey",
                                 "darkkhaki",
                                 "dimgrey",
                                 "dimgrey",
                                 "darkgrey",
                                 "darkkhaki",
                                 "darkseagreen",
                                 "darkkhaki",
                                 "firebrick",
                                 "dimgrey",
                                 "darkseagreen",
                                 "dimgrey",
                                 "darkgrey",
                                 "cornflowerblue",
                                 "dimgrey",
                                 "firebrick",
                                 "cornflowerblue",
                                 "darkgrey",
                                 "dimgrey",
                                 "darkkhaki",
                                 "darkkhaki",
                                 "darkseagreen",
                                 "darkseagreen",
                                 "darkgrey",
                                 "dimgrey",
                                 "darkseagreen",
                                 "firebrick",
                                 "dimgrey",
                                 "darkgrey",
                                 "dimgrey",
                                 "dimgrey",
                                 "dimgrey",
                                 "darkgrey",
                                 "dimgrey",
                                 "darkseagreen",
                                 "firebrick",
                                 "darkkhaki",
                                 "dimgrey",
                                 "darkkhaki",
                                 "dimgrey",
                                 "dimgrey",
                                 "darkkhaki",
                                 "cornflowerblue",
                                 "darkkhaki",
                                 "darkgrey",
                                 "firebrick",
                                 "dimgrey",
                                 "darkgrey",
                                 "dimgrey",
                                 "dimgrey",
                                 "dimgrey",
                                 "darkkhaki",
                                 "darkkhaki",
                                 "darkgrey",
                                 "dimgrey",
                                 "dimgrey"
                              ],
                              "line": {
                                 "width": 0.1
                              }
                           },
                           "name": "",
                           "parents": [
                              "",
                              "",
                              "",
                              "",
                              "",
                              "",
                              "",
                              "",
                              "",
                              "",
                              "",
                              "",
                              "",
                              "",
                              "",
                              "",
                              "",
                              "",
                              "",
                              "",
                              "",
                              "",
                              "",
                              "",
                              "",
                              "",
                              "",
                              "",
                              "",
                              "",
                              "",
                              "",
                              "",
                              "",
                              "",
                              "",
                              "",
                              "",
                              "",
                              "",
                              "",
                              "",
                              "",
                              "",
                              "",
                              "",
                              "",
                              "",
                              "",
                              "",
                              "",
                              "",
                              "",
                              "",
                              "",
                              "",
                              "",
                              "",
                              "",
                              "",
                              "",
                              "",
                              "",
                              "",
                              "",
                              "",
                              "",
                              "",
                              "",
                              "",
                              "",
                              "",
                              "",
                              "",
                              "",
                              "",
                              "",
                              "",
                              "",
                              "",
                              "",
                              "",
                              "",
                              "",
                              "",
                              "",
                              "",
                              "",
                              "",
                              "",
                              "",
                              "",
                              "",
                              "",
                              "",
                              "",
                              "",
                              "",
                              "",
                              "",
                              "",
                              "",
                              "",
                              "",
                              "",
                              "",
                              "",
                              "",
                              "",
                              "",
                              "",
                              "",
                              "",
                              "",
                              "",
                              "",
                              "",
                              "",
                              "",
                              "",
                              "",
                              "",
                              "",
                              "",
                              "",
                              "",
                              "",
                              "",
                              "",
                              "",
                              "",
                              "",
                              "",
                              "",
                              "",
                              "",
                              "",
                              "",
                              "",
                              "",
                              "",
                              "",
                              "",
                              "",
                              "",
                              "",
                              "",
                              "",
                              "",
                              "",
                              "",
                              "",
                              "",
                              "",
                              "",
                              "",
                              "",
                              "",
                              "",
                              "",
                              "",
                              "",
                              "",
                              "",
                              "",
                              "",
                              "",
                              "",
                              "",
                              "",
                              "",
                              "",
                              "",
                              "",
                              "",
                              "",
                              "",
                              "",
                              "",
                              "",
                              "",
                              "",
                              "",
                              "",
                              "",
                              "",
                              "",
                              "",
                              "",
                              "",
                              "",
                              "",
                              "",
                              "",
                              "",
                              "",
                              "",
                              "",
                              "",
                              "",
                              "",
                              "",
                              "",
                              "",
                              "",
                              "",
                              "",
                              "",
                              "",
                              "",
                              "",
                              "",
                              "",
                              "",
                              "",
                              "",
                              "",
                              "",
                              "",
                              "",
                              "",
                              "",
                              "",
                              "",
                              "",
                              "",
                              "",
                              "",
                              "",
                              "",
                              "",
                              "",
                              "",
                              "",
                              "",
                              "",
                              "",
                              "",
                              "",
                              "",
                              "",
                              "",
                              "",
                              "",
                              "",
                              "",
                              "",
                              "",
                              "",
                              "",
                              "",
                              "",
                              "",
                              "",
                              "",
                              "",
                              "",
                              "",
                              "",
                              "",
                              "",
                              "",
                              "",
                              "",
                              "",
                              "",
                              "",
                              "",
                              "",
                              "",
                              "",
                              "",
                              "",
                              "",
                              "",
                              "",
                              "",
                              "",
                              "",
                              "",
                              "",
                              "",
                              "",
                              "",
                              "",
                              "",
                              "",
                              "",
                              "",
                              "",
                              "",
                              "",
                              "",
                              "",
                              "",
                              "",
                              "",
                              "",
                              "",
                              "",
                              "",
                              "",
                              "",
                              "",
                              "",
                              "",
                              "",
                              "",
                              "",
                              "",
                              "",
                              "",
                              "",
                              "",
                              "",
                              "",
                              "",
                              "",
                              "",
                              "",
                              "",
                              "",
                              "",
                              "",
                              "",
                              "",
                              "",
                              "",
                              "",
                              "",
                              "",
                              "",
                              "",
                              "",
                              "",
                              "",
                              "",
                              "",
                              "",
                              "",
                              "",
                              "",
                              "",
                              "",
                              "",
                              "",
                              "",
                              "",
                              "",
                              "",
                              "",
                              "",
                              "",
                              "",
                              "",
                              "",
                              "",
                              "",
                              "",
                              "",
                              "",
                              "",
                              "",
                              "",
                              "",
                              "",
                              "",
                              "",
                              "",
                              "",
                              "",
                              "",
                              "",
                              "",
                              "",
                              "",
                              "",
                              "",
                              "",
                              "",
                              "",
                              "",
                              "",
                              "",
                              "",
                              "",
                              "",
                              "",
                              "",
                              "",
                              "",
                              "",
                              "",
                              "",
                              "",
                              "",
                              "",
                              "",
                              "",
                              "",
                              "",
                              "",
                              "",
                              "",
                              "",
                              "",
                              "",
                              "",
                              "",
                              "",
                              "",
                              "",
                              "",
                              "",
                              "",
                              "",
                              "",
                              "",
                              "",
                              "",
                              "",
                              "",
                              "",
                              "",
                              "",
                              "",
                              "",
                              "",
                              "",
                              "",
                              "",
                              "",
                              "",
                              "",
                              "",
                              "",
                              "",
                              "",
                              "",
                              "",
                              "",
                              "",
                              "",
                              "",
                              "",
                              "",
                              "",
                              "",
                              "",
                              "",
                              "",
                              "",
                              "",
                              "",
                              "",
                              "",
                              "",
                              "",
                              "",
                              "",
                              "",
                              "",
                              "",
                              "",
                              "",
                              "",
                              "",
                              "",
                              "",
                              "",
                              "",
                              "",
                              "",
                              "",
                              "",
                              "",
                              "",
                              "",
                              "",
                              "",
                              "",
                              "",
                              "",
                              "",
                              "",
                              "",
                              "",
                              "",
                              "",
                              "",
                              "",
                              "",
                              "",
                              "",
                              "",
                              "",
                              "",
                              "",
                              "",
                              "",
                              "",
                              "",
                              "",
                              "",
                              "",
                              "",
                              "",
                              "",
                              "",
                              "",
                              "",
                              "",
                              "",
                              "",
                              "",
                              "",
                              "",
                              "",
                              "",
                              "",
                              "",
                              "",
                              "",
                              "",
                              "",
                              "",
                              "",
                              "",
                              "",
                              "",
                              "",
                              "",
                              "",
                              "",
                              "",
                              "",
                              "",
                              "",
                              "",
                              "",
                              "",
                              "",
                              "",
                              "",
                              "",
                              "",
                              "",
                              "",
                              "",
                              "",
                              "",
                              "",
                              "",
                              "",
                              "",
                              "",
                              "",
                              "",
                              "",
                              "",
                              "",
                              "",
                              "",
                              "",
                              "",
                              "",
                              "",
                              "",
                              "",
                              "",
                              "",
                              "",
                              "",
                              "",
                              "",
                              "",
                              "",
                              "",
                              "",
                              "",
                              "",
                              "",
                              "",
                              "",
                              "",
                              "",
                              "",
                              "",
                              "",
                              "",
                              "",
                              "",
                              "",
                              "",
                              "",
                              "",
                              "",
                              "",
                              "",
                              "",
                              "",
                              "",
                              "",
                              "",
                              "",
                              "",
                              "",
                              "",
                              "",
                              "",
                              "",
                              "",
                              "",
                              "",
                              "",
                              "",
                              "",
                              "",
                              ""
                           ],
                           "type": "treemap",
                           "values": [
                              40523.80952380953,
                              310000,
                              186666.66666666666,
                              70000,
                              1806282.3285714285,
                              394000,
                              30000,
                              2089496.2227315167,
                              93834.5864661654,
                              300000,
                              37166.666666666664,
                              55000,
                              100000,
                              6271388.687063018,
                              9171349.483509146,
                              615333.3333333334,
                              50000,
                              46666.666666666664,
                              2166.6666666666665,
                              420000,
                              205018.67241747986,
                              3488542.3230020753,
                              589168.8596491228,
                              9381.598793363499,
                              130000,
                              5848.062319979052,
                              119999.99999999999,
                              738571.4285714285,
                              20000,
                              8236.5,
                              170000,
                              12500,
                              151833.33333333334,
                              3684666.6666666665,
                              1341833.3333333333,
                              510000,
                              20000,
                              394000,
                              21818.181818181823,
                              40000,
                              93166.66666666667,
                              96000,
                              217237,
                              1510912.5171428572,
                              4643833.333333333,
                              5471738.410009536,
                              1396640.6214257963,
                              3556833.333333333,
                              219999.99999999997,
                              20000,
                              28000,
                              150000,
                              6444096.925082691,
                              679288.8888888889,
                              880000,
                              1115667.6349965823,
                              450000,
                              69958313.59896816,
                              8333.333333333332,
                              1110000,
                              120000,
                              83482.09,
                              56594.75,
                              45833.33333333333,
                              220000,
                              240000,
                              2000,
                              13000,
                              120000,
                              53800,
                              130000,
                              270000,
                              143978.81066302117,
                              13533.035714285714,
                              9341098.032702075,
                              1065714.2857142857,
                              210000,
                              1437839.4961574373,
                              202000,
                              115000,
                              29333.333333333332,
                              145000,
                              105000,
                              192500,
                              20000,
                              353333.3333333333,
                              10000,
                              170000,
                              40000,
                              169770.8333333333,
                              2222.222222222222,
                              2857.142857142857,
                              2049000,
                              370000,
                              2236.333333333333,
                              35000,
                              1004221.049070846,
                              1364860.7313738891,
                              40000,
                              20775845.40399718,
                              11888.11188811189,
                              740000,
                              2333.333333333333,
                              1333.3333333333333,
                              2343857.1428571427,
                              130000,
                              202500,
                              17721972.634497825,
                              807387.3666666667,
                              111333.33333333333,
                              35833.333333333336,
                              370000,
                              22500,
                              4538888.654563073,
                              1320581.7549171636,
                              255000,
                              322631.2,
                              1941404.761904762,
                              655848.2992666563,
                              200357.14285714284,
                              20000,
                              524571.4285714285,
                              39555.555555555555,
                              16250,
                              490000,
                              30000,
                              190000,
                              210000,
                              77142.85714285713,
                              110000,
                              7777.777777777777,
                              194766.66666666666,
                              201494.36090225563,
                              14000,
                              64285.71428571428,
                              124185.31468531469,
                              2071773.3882117881,
                              1730000,
                              649999.9999999999,
                              2302800.841190476,
                              282000,
                              348166.6553333333,
                              186666.66666666666,
                              742521.5,
                              7500,
                              12178196.16587833,
                              69040.40404040404,
                              3047237.6383644654,
                              157719.78333333333,
                              77142.85714285714,
                              1814167.193917194,
                              516666.6666666667,
                              185000,
                              1520000,
                              50000,
                              8243190.476190476,
                              760866.5501165502,
                              1010044.8630952381,
                              230000,
                              130000,
                              17272.727272727272,
                              1750000,
                              1280000,
                              16666.666666666664,
                              86666.66666666666,
                              1510.5,
                              3754344.833333333,
                              163928.57142857142,
                              237500,
                              70869.5652173913,
                              16850008.59745745,
                              131694.8732718894,
                              24999.999999999996,
                              6243731.486542443,
                              5769807.564561192,
                              367013.1257631257,
                              173333.33333333334,
                              615056.277056277,
                              343333.3333333333,
                              70959.59595959596,
                              3801925.251219369,
                              590000,
                              20000,
                              1471325,
                              100000,
                              27649413.57679477,
                              360972.4457464732,
                              376666.6666666666,
                              40000,
                              4998936.507936507,
                              1570829.365079365,
                              471611.51767676766,
                              200000,
                              50000,
                              4000,
                              10000,
                              360000,
                              420000,
                              1202834.3685300206,
                              10000,
                              2685338.776038776,
                              79136.60869565218,
                              100000,
                              52500,
                              55000,
                              14528628.759398496,
                              1114346.52014652,
                              2848107.1428571427,
                              5000,
                              447500,
                              120000,
                              1766861.1749999998,
                              54554909.353062704,
                              286000,
                              36666.666666666664,
                              51052.08333333333,
                              108000,
                              595731.244949495,
                              616666.6666666666,
                              10000,
                              315000,
                              120140.38151270311,
                              32258.06451612903,
                              550000,
                              15000,
                              7529027.124664065,
                              145000,
                              110000,
                              15000,
                              407500,
                              30000,
                              280000,
                              4458839.682539683,
                              559090.9090909091,
                              29490,
                              24000,
                              231428.57142857142,
                              2755.46,
                              258000,
                              434321.4285714286,
                              1108547.8095238095,
                              62903.22580645161,
                              40000,
                              6666.666666666666,
                              300000,
                              622977.2727894256,
                              220000,
                              90000,
                              490370.3703703704,
                              536666.6666666666,
                              328000,
                              22600,
                              446512.7666451196,
                              860000,
                              343628,
                              290000,
                              32500,
                              2760340.6964285714,
                              1083970.319535537,
                              170065.73251310093,
                              12410253.853246177,
                              353000,
                              934627.1507772855,
                              10000,
                              2299495.133890523,
                              101666.66666666666,
                              3258234.8673809525,
                              140000,
                              30000,
                              60000,
                              12857.142857142855,
                              325000,
                              1336556.3725490198,
                              225000,
                              875857.1428571428,
                              70000,
                              35000,
                              1415000,
                              59838.38383838384,
                              78889.16666666666,
                              195000,
                              40000,
                              160000,
                              60000,
                              275554.44555444556,
                              70000,
                              262216.6666666666,
                              630000,
                              36382.97872340425,
                              110000,
                              167142.85714285713,
                              4842500,
                              2448922.371989079,
                              9650.25,
                              1899691.1746031747,
                              78596.73659673659,
                              100000,
                              59659.02682143091,
                              102352.94117647059,
                              37500,
                              187571.42857142855,
                              20000,
                              79303.40000000001,
                              45454.545454545456,
                              30000,
                              170000,
                              93333.33333333331,
                              1190000,
                              8779.73,
                              15000,
                              13493589.008625012,
                              87000,
                              160000,
                              1405750,
                              4246919.458396155,
                              20000,
                              8000,
                              30000,
                              1093201.589392766,
                              300000,
                              16666.666666666664,
                              73750,
                              100000,
                              65591.54583333334,
                              361530.612244898,
                              1355000,
                              37500,
                              20000,
                              2557764.9359584344,
                              600466.6666666666,
                              83333.33333333333,
                              3245009.0507494863,
                              674415.1666666666,
                              22401908.293380402,
                              480000,
                              49750,
                              280000,
                              9858.666666666666,
                              952757.5598214285,
                              780000,
                              20000,
                              10000,
                              285571.4285714286,
                              60000,
                              41012.98701298701,
                              271750,
                              143880.95238095237,
                              7494232.348404395,
                              657000,
                              80000,
                              20000,
                              119999.99999999999,
                              229444.44444444444,
                              110000,
                              25000,
                              42030.41982295482,
                              30000,
                              229999.99999999997,
                              2957085.1709785243,
                              3511970.7342490843,
                              73333.33333333333,
                              58333.33333333333,
                              524682,
                              279200,
                              1943826.9553975435,
                              320000,
                              278000,
                              190000,
                              2000,
                              85835.77533577534,
                              49500,
                              147142.85714285713,
                              290000,
                              530000,
                              53234.99999999999,
                              18750,
                              39603810.86123359,
                              100000,
                              590226.0529115342,
                              10000,
                              30000,
                              748148.3516483516,
                              625000,
                              1245064.8592033556,
                              237142.85714285713,
                              182500,
                              6567.460317460317,
                              20000,
                              30000,
                              353308.85054945055,
                              993333.3333333333,
                              15000,
                              2145285.714285714,
                              129182.54000000001,
                              1821509.7402597403,
                              70000,
                              112684.18201516791,
                              699466.8333333334,
                              440000,
                              40000,
                              36790.33333333333,
                              240000,
                              310000,
                              107519.48051948052,
                              25000,
                              154289,
                              596545.4545454546,
                              60000,
                              108030.30303030304,
                              350000,
                              2064801,
                              816071.4285714285,
                              2107903.9294039295,
                              10500,
                              26666.666666666664,
                              1020000,
                              90000,
                              370000,
                              6463.5,
                              658333.3333333333,
                              130000,
                              454.54545454545456,
                              90000,
                              26666.666666666664,
                              31961,
                              449500,
                              148500,
                              128000,
                              205000,
                              90000,
                              390000,
                              50000,
                              390598.3333333333,
                              1968523.15,
                              229891.74714174712,
                              5147196.35485217,
                              175000,
                              99999.99999999999,
                              705494.3302087601,
                              3875,
                              435500,
                              5004994.542989031,
                              1239417.7630952275,
                              119166.66666666666,
                              207136.44688644688,
                              174395.85582417581,
                              4592343.636017294,
                              62857.142857142855,
                              236349.20634920633,
                              161428.57142857142,
                              10100000,
                              120000,
                              1700833.3333333333,
                              120000,
                              8511,
                              200000,
                              1559965.3679653679,
                              400000,
                              96000,
                              196666.66666666666,
                              431289.37728937727,
                              612229.4372294372,
                              2320233.3699047617,
                              10000,
                              64357.142857142855,
                              1568798.670175104,
                              284236.6707366707,
                              76666.66666666666,
                              12444.444444444445,
                              80000,
                              152500,
                              326807.64510089456,
                              160000,
                              20000,
                              4285.714285714285,
                              70000,
                              49696.969696969696,
                              57222.22222222222,
                              175808.0808080808,
                              40000,
                              12666.666666666666,
                              4135801.020646693,
                              140000,
                              96666.66666666666,
                              510000,
                              1205652.5919754875,
                              63333.33333333333,
                              452000,
                              29551.28205128205,
                              10000,
                              99428.57142857142,
                              730000,
                              1425699.494949495,
                              45000,
                              21166.666666666664,
                              2019024.4581289357,
                              2195000,
                              258000,
                              235000,
                              20000,
                              238839.22477522478,
                              40000,
                              477179.4871794872,
                              12307.692307692309,
                              52402.5974025974,
                              490000,
                              155555.55555555553,
                              37500,
                              36666.666666666664,
                              360000,
                              26382.978723404252,
                              570000,
                              170000,
                              3863543.0960328383,
                              79008.92857142857,
                              340000,
                              631601.426984127,
                              3333.333333333333,
                              797319.6248196248,
                              83333.33333333331,
                              390857.14285714284,
                              440000,
                              3750,
                              7377503.746253747,
                              190000,
                              64404.7619047619,
                              468000,
                              340000,
                              60000,
                              1307941.5415754681,
                              13333.333333333332,
                              151500,
                              480000,
                              233446.83257918552,
                              3195470.092131857,
                              2500,
                              104166.66666666666,
                              10717.333333333332,
                              40615.38461538462,
                              3540,
                              755625.0598498429,
                              40000,
                              367183.4,
                              1680500,
                              8640,
                              160000,
                              6867742.625795257,
                              19000,
                              13333.333333333332,
                              412598.1106080194,
                              1807217.6951277435,
                              588869.0476190476,
                              67332.01058201058,
                              189500,
                              12500,
                              10000,
                              50000,
                              15532542.688046237,
                              913428.5714285714,
                              55000,
                              5000,
                              86000,
                              4409347.355543008,
                              3842020,
                              179999.99999999997,
                              82904.69416785207,
                              305000,
                              334000,
                              97142.85714285713,
                              356666.6666666666,
                              4444.444444444444,
                              77500,
                              4471609.668109668,
                              60000,
                              1636063.1868131869,
                              79047.61904761905,
                              190152.18115218115,
                              81000,
                              538061.9464285714,
                              72000,
                              2866612.382168725,
                              460000,
                              2100000,
                              14166.666666666666,
                              55681.818181818184,
                              260000,
                              68571.42857142857,
                              1250166.6666666665,
                              40000,
                              594375,
                              8333.333333333332,
                              60000,
                              172406.8333333333,
                              350000,
                              1080209.7331632935,
                              3974027.777777778,
                              2824659.314947921,
                              581357.9954022989,
                              42500,
                              91000,
                              1060000,
                              10000,
                              1787435.5717615718,
                              490000,
                              6673.160173160172,
                              6250,
                              110000,
                              51666.666666666664,
                              336857.14285714284,
                              20000,
                              1062682.5396825396,
                              48000,
                              250000,
                              550000,
                              2082201.7255223456,
                              48000,
                              538844.1515849741,
                              200000,
                              18000
                           ]
                        }
                     ],
                     "layout": {
                        "font": {
                           "size": 60
                        },
                        "height": 800,
                        "legend": {
                           "tracegroupgap": 0
                        },
                        "margin": {
                           "b": 25,
                           "l": 25,
                           "r": 25,
                           "t": 25
                        },
                        "template": {
                           "data": {
                              "bar": [
                                 {
                                    "error_x": {
                                       "color": "#2a3f5f"
                                    },
                                    "error_y": {
                                       "color": "#2a3f5f"
                                    },
                                    "marker": {
                                       "line": {
                                          "color": "#E5ECF6",
                                          "width": 0.5
                                       },
                                       "pattern": {
                                          "fillmode": "overlay",
                                          "size": 10,
                                          "solidity": 0.2
                                       }
                                    },
                                    "type": "bar"
                                 }
                              ],
                              "barpolar": [
                                 {
                                    "marker": {
                                       "line": {
                                          "color": "#E5ECF6",
                                          "width": 0.5
                                       },
                                       "pattern": {
                                          "fillmode": "overlay",
                                          "size": 10,
                                          "solidity": 0.2
                                       }
                                    },
                                    "type": "barpolar"
                                 }
                              ],
                              "carpet": [
                                 {
                                    "aaxis": {
                                       "endlinecolor": "#2a3f5f",
                                       "gridcolor": "white",
                                       "linecolor": "white",
                                       "minorgridcolor": "white",
                                       "startlinecolor": "#2a3f5f"
                                    },
                                    "baxis": {
                                       "endlinecolor": "#2a3f5f",
                                       "gridcolor": "white",
                                       "linecolor": "white",
                                       "minorgridcolor": "white",
                                       "startlinecolor": "#2a3f5f"
                                    },
                                    "type": "carpet"
                                 }
                              ],
                              "choropleth": [
                                 {
                                    "colorbar": {
                                       "outlinewidth": 0,
                                       "ticks": ""
                                    },
                                    "type": "choropleth"
                                 }
                              ],
                              "contour": [
                                 {
                                    "colorbar": {
                                       "outlinewidth": 0,
                                       "ticks": ""
                                    },
                                    "colorscale": [
                                       [
                                          0,
                                          "#0d0887"
                                       ],
                                       [
                                          0.1111111111111111,
                                          "#46039f"
                                       ],
                                       [
                                          0.2222222222222222,
                                          "#7201a8"
                                       ],
                                       [
                                          0.3333333333333333,
                                          "#9c179e"
                                       ],
                                       [
                                          0.4444444444444444,
                                          "#bd3786"
                                       ],
                                       [
                                          0.5555555555555556,
                                          "#d8576b"
                                       ],
                                       [
                                          0.6666666666666666,
                                          "#ed7953"
                                       ],
                                       [
                                          0.7777777777777778,
                                          "#fb9f3a"
                                       ],
                                       [
                                          0.8888888888888888,
                                          "#fdca26"
                                       ],
                                       [
                                          1,
                                          "#f0f921"
                                       ]
                                    ],
                                    "type": "contour"
                                 }
                              ],
                              "contourcarpet": [
                                 {
                                    "colorbar": {
                                       "outlinewidth": 0,
                                       "ticks": ""
                                    },
                                    "type": "contourcarpet"
                                 }
                              ],
                              "heatmap": [
                                 {
                                    "colorbar": {
                                       "outlinewidth": 0,
                                       "ticks": ""
                                    },
                                    "colorscale": [
                                       [
                                          0,
                                          "#0d0887"
                                       ],
                                       [
                                          0.1111111111111111,
                                          "#46039f"
                                       ],
                                       [
                                          0.2222222222222222,
                                          "#7201a8"
                                       ],
                                       [
                                          0.3333333333333333,
                                          "#9c179e"
                                       ],
                                       [
                                          0.4444444444444444,
                                          "#bd3786"
                                       ],
                                       [
                                          0.5555555555555556,
                                          "#d8576b"
                                       ],
                                       [
                                          0.6666666666666666,
                                          "#ed7953"
                                       ],
                                       [
                                          0.7777777777777778,
                                          "#fb9f3a"
                                       ],
                                       [
                                          0.8888888888888888,
                                          "#fdca26"
                                       ],
                                       [
                                          1,
                                          "#f0f921"
                                       ]
                                    ],
                                    "type": "heatmap"
                                 }
                              ],
                              "heatmapgl": [
                                 {
                                    "colorbar": {
                                       "outlinewidth": 0,
                                       "ticks": ""
                                    },
                                    "colorscale": [
                                       [
                                          0,
                                          "#0d0887"
                                       ],
                                       [
                                          0.1111111111111111,
                                          "#46039f"
                                       ],
                                       [
                                          0.2222222222222222,
                                          "#7201a8"
                                       ],
                                       [
                                          0.3333333333333333,
                                          "#9c179e"
                                       ],
                                       [
                                          0.4444444444444444,
                                          "#bd3786"
                                       ],
                                       [
                                          0.5555555555555556,
                                          "#d8576b"
                                       ],
                                       [
                                          0.6666666666666666,
                                          "#ed7953"
                                       ],
                                       [
                                          0.7777777777777778,
                                          "#fb9f3a"
                                       ],
                                       [
                                          0.8888888888888888,
                                          "#fdca26"
                                       ],
                                       [
                                          1,
                                          "#f0f921"
                                       ]
                                    ],
                                    "type": "heatmapgl"
                                 }
                              ],
                              "histogram": [
                                 {
                                    "marker": {
                                       "pattern": {
                                          "fillmode": "overlay",
                                          "size": 10,
                                          "solidity": 0.2
                                       }
                                    },
                                    "type": "histogram"
                                 }
                              ],
                              "histogram2d": [
                                 {
                                    "colorbar": {
                                       "outlinewidth": 0,
                                       "ticks": ""
                                    },
                                    "colorscale": [
                                       [
                                          0,
                                          "#0d0887"
                                       ],
                                       [
                                          0.1111111111111111,
                                          "#46039f"
                                       ],
                                       [
                                          0.2222222222222222,
                                          "#7201a8"
                                       ],
                                       [
                                          0.3333333333333333,
                                          "#9c179e"
                                       ],
                                       [
                                          0.4444444444444444,
                                          "#bd3786"
                                       ],
                                       [
                                          0.5555555555555556,
                                          "#d8576b"
                                       ],
                                       [
                                          0.6666666666666666,
                                          "#ed7953"
                                       ],
                                       [
                                          0.7777777777777778,
                                          "#fb9f3a"
                                       ],
                                       [
                                          0.8888888888888888,
                                          "#fdca26"
                                       ],
                                       [
                                          1,
                                          "#f0f921"
                                       ]
                                    ],
                                    "type": "histogram2d"
                                 }
                              ],
                              "histogram2dcontour": [
                                 {
                                    "colorbar": {
                                       "outlinewidth": 0,
                                       "ticks": ""
                                    },
                                    "colorscale": [
                                       [
                                          0,
                                          "#0d0887"
                                       ],
                                       [
                                          0.1111111111111111,
                                          "#46039f"
                                       ],
                                       [
                                          0.2222222222222222,
                                          "#7201a8"
                                       ],
                                       [
                                          0.3333333333333333,
                                          "#9c179e"
                                       ],
                                       [
                                          0.4444444444444444,
                                          "#bd3786"
                                       ],
                                       [
                                          0.5555555555555556,
                                          "#d8576b"
                                       ],
                                       [
                                          0.6666666666666666,
                                          "#ed7953"
                                       ],
                                       [
                                          0.7777777777777778,
                                          "#fb9f3a"
                                       ],
                                       [
                                          0.8888888888888888,
                                          "#fdca26"
                                       ],
                                       [
                                          1,
                                          "#f0f921"
                                       ]
                                    ],
                                    "type": "histogram2dcontour"
                                 }
                              ],
                              "mesh3d": [
                                 {
                                    "colorbar": {
                                       "outlinewidth": 0,
                                       "ticks": ""
                                    },
                                    "type": "mesh3d"
                                 }
                              ],
                              "parcoords": [
                                 {
                                    "line": {
                                       "colorbar": {
                                          "outlinewidth": 0,
                                          "ticks": ""
                                       }
                                    },
                                    "type": "parcoords"
                                 }
                              ],
                              "pie": [
                                 {
                                    "automargin": true,
                                    "type": "pie"
                                 }
                              ],
                              "scatter": [
                                 {
                                    "fillpattern": {
                                       "fillmode": "overlay",
                                       "size": 10,
                                       "solidity": 0.2
                                    },
                                    "type": "scatter"
                                 }
                              ],
                              "scatter3d": [
                                 {
                                    "line": {
                                       "colorbar": {
                                          "outlinewidth": 0,
                                          "ticks": ""
                                       }
                                    },
                                    "marker": {
                                       "colorbar": {
                                          "outlinewidth": 0,
                                          "ticks": ""
                                       }
                                    },
                                    "type": "scatter3d"
                                 }
                              ],
                              "scattercarpet": [
                                 {
                                    "marker": {
                                       "colorbar": {
                                          "outlinewidth": 0,
                                          "ticks": ""
                                       }
                                    },
                                    "type": "scattercarpet"
                                 }
                              ],
                              "scattergeo": [
                                 {
                                    "marker": {
                                       "colorbar": {
                                          "outlinewidth": 0,
                                          "ticks": ""
                                       }
                                    },
                                    "type": "scattergeo"
                                 }
                              ],
                              "scattergl": [
                                 {
                                    "marker": {
                                       "colorbar": {
                                          "outlinewidth": 0,
                                          "ticks": ""
                                       }
                                    },
                                    "type": "scattergl"
                                 }
                              ],
                              "scattermapbox": [
                                 {
                                    "marker": {
                                       "colorbar": {
                                          "outlinewidth": 0,
                                          "ticks": ""
                                       }
                                    },
                                    "type": "scattermapbox"
                                 }
                              ],
                              "scatterpolar": [
                                 {
                                    "marker": {
                                       "colorbar": {
                                          "outlinewidth": 0,
                                          "ticks": ""
                                       }
                                    },
                                    "type": "scatterpolar"
                                 }
                              ],
                              "scatterpolargl": [
                                 {
                                    "marker": {
                                       "colorbar": {
                                          "outlinewidth": 0,
                                          "ticks": ""
                                       }
                                    },
                                    "type": "scatterpolargl"
                                 }
                              ],
                              "scatterternary": [
                                 {
                                    "marker": {
                                       "colorbar": {
                                          "outlinewidth": 0,
                                          "ticks": ""
                                       }
                                    },
                                    "type": "scatterternary"
                                 }
                              ],
                              "surface": [
                                 {
                                    "colorbar": {
                                       "outlinewidth": 0,
                                       "ticks": ""
                                    },
                                    "colorscale": [
                                       [
                                          0,
                                          "#0d0887"
                                       ],
                                       [
                                          0.1111111111111111,
                                          "#46039f"
                                       ],
                                       [
                                          0.2222222222222222,
                                          "#7201a8"
                                       ],
                                       [
                                          0.3333333333333333,
                                          "#9c179e"
                                       ],
                                       [
                                          0.4444444444444444,
                                          "#bd3786"
                                       ],
                                       [
                                          0.5555555555555556,
                                          "#d8576b"
                                       ],
                                       [
                                          0.6666666666666666,
                                          "#ed7953"
                                       ],
                                       [
                                          0.7777777777777778,
                                          "#fb9f3a"
                                       ],
                                       [
                                          0.8888888888888888,
                                          "#fdca26"
                                       ],
                                       [
                                          1,
                                          "#f0f921"
                                       ]
                                    ],
                                    "type": "surface"
                                 }
                              ],
                              "table": [
                                 {
                                    "cells": {
                                       "fill": {
                                          "color": "#EBF0F8"
                                       },
                                       "line": {
                                          "color": "white"
                                       }
                                    },
                                    "header": {
                                       "fill": {
                                          "color": "#C8D4E3"
                                       },
                                       "line": {
                                          "color": "white"
                                       }
                                    },
                                    "type": "table"
                                 }
                              ]
                           },
                           "layout": {
                              "annotationdefaults": {
                                 "arrowcolor": "#2a3f5f",
                                 "arrowhead": 0,
                                 "arrowwidth": 1
                              },
                              "autotypenumbers": "strict",
                              "coloraxis": {
                                 "colorbar": {
                                    "outlinewidth": 0,
                                    "ticks": ""
                                 }
                              },
                              "colorscale": {
                                 "diverging": [
                                    [
                                       0,
                                       "#8e0152"
                                    ],
                                    [
                                       0.1,
                                       "#c51b7d"
                                    ],
                                    [
                                       0.2,
                                       "#de77ae"
                                    ],
                                    [
                                       0.3,
                                       "#f1b6da"
                                    ],
                                    [
                                       0.4,
                                       "#fde0ef"
                                    ],
                                    [
                                       0.5,
                                       "#f7f7f7"
                                    ],
                                    [
                                       0.6,
                                       "#e6f5d0"
                                    ],
                                    [
                                       0.7,
                                       "#b8e186"
                                    ],
                                    [
                                       0.8,
                                       "#7fbc41"
                                    ],
                                    [
                                       0.9,
                                       "#4d9221"
                                    ],
                                    [
                                       1,
                                       "#276419"
                                    ]
                                 ],
                                 "sequential": [
                                    [
                                       0,
                                       "#0d0887"
                                    ],
                                    [
                                       0.1111111111111111,
                                       "#46039f"
                                    ],
                                    [
                                       0.2222222222222222,
                                       "#7201a8"
                                    ],
                                    [
                                       0.3333333333333333,
                                       "#9c179e"
                                    ],
                                    [
                                       0.4444444444444444,
                                       "#bd3786"
                                    ],
                                    [
                                       0.5555555555555556,
                                       "#d8576b"
                                    ],
                                    [
                                       0.6666666666666666,
                                       "#ed7953"
                                    ],
                                    [
                                       0.7777777777777778,
                                       "#fb9f3a"
                                    ],
                                    [
                                       0.8888888888888888,
                                       "#fdca26"
                                    ],
                                    [
                                       1,
                                       "#f0f921"
                                    ]
                                 ],
                                 "sequentialminus": [
                                    [
                                       0,
                                       "#0d0887"
                                    ],
                                    [
                                       0.1111111111111111,
                                       "#46039f"
                                    ],
                                    [
                                       0.2222222222222222,
                                       "#7201a8"
                                    ],
                                    [
                                       0.3333333333333333,
                                       "#9c179e"
                                    ],
                                    [
                                       0.4444444444444444,
                                       "#bd3786"
                                    ],
                                    [
                                       0.5555555555555556,
                                       "#d8576b"
                                    ],
                                    [
                                       0.6666666666666666,
                                       "#ed7953"
                                    ],
                                    [
                                       0.7777777777777778,
                                       "#fb9f3a"
                                    ],
                                    [
                                       0.8888888888888888,
                                       "#fdca26"
                                    ],
                                    [
                                       1,
                                       "#f0f921"
                                    ]
                                 ]
                              },
                              "colorway": [
                                 "#636efa",
                                 "#EF553B",
                                 "#00cc96",
                                 "#ab63fa",
                                 "#FFA15A",
                                 "#19d3f3",
                                 "#FF6692",
                                 "#B6E880",
                                 "#FF97FF",
                                 "#FECB52"
                              ],
                              "font": {
                                 "color": "#2a3f5f"
                              },
                              "geo": {
                                 "bgcolor": "white",
                                 "lakecolor": "white",
                                 "landcolor": "#E5ECF6",
                                 "showlakes": true,
                                 "showland": true,
                                 "subunitcolor": "white"
                              },
                              "hoverlabel": {
                                 "align": "left"
                              },
                              "hovermode": "closest",
                              "mapbox": {
                                 "style": "light"
                              },
                              "paper_bgcolor": "white",
                              "plot_bgcolor": "#E5ECF6",
                              "polar": {
                                 "angularaxis": {
                                    "gridcolor": "white",
                                    "linecolor": "white",
                                    "ticks": ""
                                 },
                                 "bgcolor": "#E5ECF6",
                                 "radialaxis": {
                                    "gridcolor": "white",
                                    "linecolor": "white",
                                    "ticks": ""
                                 }
                              },
                              "scene": {
                                 "xaxis": {
                                    "backgroundcolor": "#E5ECF6",
                                    "gridcolor": "white",
                                    "gridwidth": 2,
                                    "linecolor": "white",
                                    "showbackground": true,
                                    "ticks": "",
                                    "zerolinecolor": "white"
                                 },
                                 "yaxis": {
                                    "backgroundcolor": "#E5ECF6",
                                    "gridcolor": "white",
                                    "gridwidth": 2,
                                    "linecolor": "white",
                                    "showbackground": true,
                                    "ticks": "",
                                    "zerolinecolor": "white"
                                 },
                                 "zaxis": {
                                    "backgroundcolor": "#E5ECF6",
                                    "gridcolor": "white",
                                    "gridwidth": 2,
                                    "linecolor": "white",
                                    "showbackground": true,
                                    "ticks": "",
                                    "zerolinecolor": "white"
                                 }
                              },
                              "shapedefaults": {
                                 "line": {
                                    "color": "#2a3f5f"
                                 }
                              },
                              "ternary": {
                                 "aaxis": {
                                    "gridcolor": "white",
                                    "linecolor": "white",
                                    "ticks": ""
                                 },
                                 "baxis": {
                                    "gridcolor": "white",
                                    "linecolor": "white",
                                    "ticks": ""
                                 },
                                 "bgcolor": "#E5ECF6",
                                 "caxis": {
                                    "gridcolor": "white",
                                    "linecolor": "white",
                                    "ticks": ""
                                 }
                              },
                              "title": {
                                 "x": 0.05
                              },
                              "xaxis": {
                                 "automargin": true,
                                 "gridcolor": "white",
                                 "linecolor": "white",
                                 "ticks": "",
                                 "title": {
                                    "standoff": 15
                                 },
                                 "zerolinecolor": "white",
                                 "zerolinewidth": 2
                              },
                              "yaxis": {
                                 "automargin": true,
                                 "gridcolor": "white",
                                 "linecolor": "white",
                                 "ticks": "",
                                 "title": {
                                    "standoff": 15
                                 },
                                 "zerolinecolor": "white",
                                 "zerolinewidth": 2
                              }
                           }
                        },
                        "width": 1600
                     }
                  }
               },
               "metadata": {},
               "output_type": "display_data"
            }
         ],
         "source": [
            "color_dict = {\n",
            "    \"oil and gas\": \"dimgrey\",\n",
            "    \"investor owned utilities\": \"dimgrey\",\n",
            "    \"business advocacy\": \"cornflowerblue\",\n",
            "    \"independent power producers\": \"dimgrey\",\n",
            "    \"coal\": \"dimgrey\",\n",
            "    \"pipelines\": \"dimgrey\",\n",
            "    \"chemicals, refining, and plastics\": \"dimgrey\",\n",
            "    \"municipal and cooperative utilities\": \"dimgrey\",\n",
            "    \"energy technology\": \"darkgrey\",\n",
            "    \"mining and metals\": \"firebrick\",\n",
            "    \"biofuels\": \"darkgrey\",\n",
            "    \"railway\": \"darkgrey\",\n",
            "    \"iron and steel\": \"firebrick\",\n",
            "    \"fuel cell\": \"darkgrey\",\n",
            "    \"renewable energy\": \"darkseagreen\",\n",
            "    \"labor union\": \"cornflowerblue\",\n",
            "    \"food and agriculture\": \"darkkhaki\",\n",
            "    \"environmental\": \"darkseagreen\",\n",
            "    \"finance\": \"darkkhaki\",\n",
            "    \"ccs\": \"dimgrey\",\n",
            "    \"cement\": \"firebrick\",\n",
            "    \"paper products\": \"firebrick\",\n",
            "    \"oilfield services\": \"dimgrey\",\n",
            "    \"air transit\": \"darkgrey\",\n",
            "    \"power sector general\": \"dimgrey\",\n",
            "    \"land transit\": \"darkgrey\",\n",
            "    \"nuclear\": \"darkseagreen\",\n",
            "    \"think tanks and issue advocacy\": \"cornflowerblue\",\n",
            "    \"clean hydrogen\": \"dimgrey\",\n",
            "    \"engineering, technology, and consulting\": \"darkkhaki\",\n",
            "    \"higher education\": \"cornflowerblue\",\n",
            "    \"lng\": \"dimgrey\",\n",
            "    \"government\": \"cornflowerblue\",\n",
            "    \"water transit\": \"darkgrey\",\n",
            "    \"carbon\": \"darkseagreen\",\n",
            "    \"hvac\": \"darkkhaki\",\n",
            "    \"independent research organization\": \"darkkhaki\",\n",
            "    \"ev\": \"darkseagreen\",\n",
            "    \"green hydrogen\": \"darkseagreen\",\n",
            "    \"water\": \"darkseagreen\",\n",
            "    \"other\": \"darkkhaki\",\n",
            "    \"law and public policy\": \"darkkhaki\",\n",
            "    \"professional societies\": \"cornflowerblue\",\n",
            "    \"algae\": \"dimgrey\",\n",
            "}\n",
            "# org totals\n",
            "org_df = (\n",
            "    df[[\"organization\", \"lobbying_activity_usd\", \"sector\"]]\n",
            "    .groupby([\"organization\"])\n",
            "    .agg({\"lobbying_activity_usd\": \"sum\", \"sector\": \"first\"})\n",
            "    .sort_values(by=[\"lobbying_activity_usd\"], ascending=False)\n",
            ")\n",
            "org_df = org_df.loc[org_df.lobbying_activity_usd > 0]\n",
            "org_df.reset_index(inplace=True)\n",
            "org_df[\"org_with_returns\"] = [\n",
            "    \"CONOCO<br>PHILLIPS\" if x == \"CONOCOPHILLIPS\" else x.replace(\" \", \"<br>\")\n",
            "    for x in org_df.organization\n",
            "]\n",
            "org_df[\"org_with_returns\"] = [\n",
            "    \"EXXON<br>MOBIL\" if x == \"EXXONMOBIL\" else x for x in org_df[\"org_with_returns\"]\n",
            "]\n",
            "org_df[\"org_with_returns\"] = [\n",
            "    \"TRANS<br>CANADA\" if x == \"TRANSCANADA\" else x for x in org_df[\"org_with_returns\"]\n",
            "]\n",
            "# fig, ax = plt.subplots(1, 1, figsize=(17, 10))\n",
            "import plotly.express as px\n",
            "\n",
            "fig = px.treemap(\n",
            "    org_df,\n",
            "    path=[\"org_with_returns\"],\n",
            "    values=\"lobbying_activity_usd\",\n",
            "    color=\"sector\",\n",
            "    # color_discrete_map=color_dict,\n",
            "    width=1600,\n",
            "    height=800,\n",
            "    color_discrete_map=color_dict,\n",
            ")\n",
            "fig.update_layout(margin=dict(t=25, l=25, r=25, b=25), font_size=60)\n",
            "fig.update_traces(marker_line_width=0.1)\n",
            "fig.show()"
         ]
      },
      {
         "cell_type": "markdown",
         "metadata": {},
         "source": [
            "## Which organizations in other sectors do the most CCS lobbying?"
         ]
      },
      {
         "cell_type": "code",
         "execution_count": 16,
         "metadata": {},
         "outputs": [
            {
               "data": {
                  "text/html": [
                     "<div>\n",
                     "<style scoped>\n",
                     "    .dataframe tbody tr th:only-of-type {\n",
                     "        vertical-align: middle;\n",
                     "    }\n",
                     "\n",
                     "    .dataframe tbody tr th {\n",
                     "        vertical-align: top;\n",
                     "    }\n",
                     "\n",
                     "    .dataframe thead th {\n",
                     "        text-align: right;\n",
                     "    }\n",
                     "</style>\n",
                     "<table border=\"1\" class=\"dataframe\">\n",
                     "  <thead>\n",
                     "    <tr style=\"text-align: right;\">\n",
                     "      <th></th>\n",
                     "      <th>lobbying_activity_usd</th>\n",
                     "    </tr>\n",
                     "    <tr>\n",
                     "      <th>organization</th>\n",
                     "      <th></th>\n",
                     "    </tr>\n",
                     "  </thead>\n",
                     "  <tbody>\n",
                     "    <tr>\n",
                     "      <th>UNIVERSITY OF PITTSBURGH</th>\n",
                     "      <td>588869.047619</td>\n",
                     "    </tr>\n",
                     "    <tr>\n",
                     "      <th>YALE UNIVERSITY</th>\n",
                     "      <td>86000.000000</td>\n",
                     "    </tr>\n",
                     "    <tr>\n",
                     "      <th>OHIO UNIVERSITY</th>\n",
                     "      <td>78596.736597</td>\n",
                     "    </tr>\n",
                     "    <tr>\n",
                     "      <th>UNIVERSITY OF TEXAS</th>\n",
                     "      <td>73750.000000</td>\n",
                     "    </tr>\n",
                     "    <tr>\n",
                     "      <th>UNIVERSITY OF MICHIGAN</th>\n",
                     "      <td>67332.010582</td>\n",
                     "    </tr>\n",
                     "    <tr>\n",
                     "      <th>UNIVERSITY OF ILLINOIS</th>\n",
                     "      <td>59838.383838</td>\n",
                     "    </tr>\n",
                     "    <tr>\n",
                     "      <th>ARIZONA STATE UNIVERSITY</th>\n",
                     "      <td>51052.083333</td>\n",
                     "    </tr>\n",
                     "    <tr>\n",
                     "      <th>CALIFORNIA INSTITUTE OF TECHNOLOGY</th>\n",
                     "      <td>49500.000000</td>\n",
                     "    </tr>\n",
                     "    <tr>\n",
                     "      <th>WESTERN MICHIGAN UNIVERSITY</th>\n",
                     "      <td>46666.666667</td>\n",
                     "    </tr>\n",
                     "    <tr>\n",
                     "      <th>IOWA STATE UNIVERSITY</th>\n",
                     "      <td>42030.419823</td>\n",
                     "    </tr>\n",
                     "    <tr>\n",
                     "      <th>CARNEGIE MELLON UNIVERSITY</th>\n",
                     "      <td>40523.809524</td>\n",
                     "    </tr>\n",
                     "    <tr>\n",
                     "      <th>GEORGIA INSTITUTE OF TECHNOLOGY</th>\n",
                     "      <td>36666.666667</td>\n",
                     "    </tr>\n",
                     "    <tr>\n",
                     "      <th>UNIVERSITY OF CALIFORNIA</th>\n",
                     "      <td>36382.978723</td>\n",
                     "    </tr>\n",
                     "    <tr>\n",
                     "      <th>UNIVERSITY OF NORTHERN IOWA</th>\n",
                     "      <td>21818.181818</td>\n",
                     "    </tr>\n",
                     "    <tr>\n",
                     "      <th>MASSACHUSETTS INSTITUTE OF TECHNOLOGY</th>\n",
                     "      <td>13533.035714</td>\n",
                     "    </tr>\n",
                     "    <tr>\n",
                     "      <th>NEW MEXICO STATE UNIVERSITY</th>\n",
                     "      <td>13333.333333</td>\n",
                     "    </tr>\n",
                     "    <tr>\n",
                     "      <th>RICE UNIVERSITY</th>\n",
                     "      <td>12500.000000</td>\n",
                     "    </tr>\n",
                     "    <tr>\n",
                     "      <th>UNIVERSITY OF KENTUCKY</th>\n",
                     "      <td>10717.333333</td>\n",
                     "    </tr>\n",
                     "    <tr>\n",
                     "      <th>VANDERBILT UNIVERSITY</th>\n",
                     "      <td>3333.333333</td>\n",
                     "    </tr>\n",
                     "  </tbody>\n",
                     "</table>\n",
                     "</div>"
                  ],
                  "text/plain": [
                     "                                       lobbying_activity_usd\n",
                     "organization                                                \n",
                     "UNIVERSITY OF PITTSBURGH                       588869.047619\n",
                     "YALE UNIVERSITY                                 86000.000000\n",
                     "OHIO UNIVERSITY                                 78596.736597\n",
                     "UNIVERSITY OF TEXAS                             73750.000000\n",
                     "UNIVERSITY OF MICHIGAN                          67332.010582\n",
                     "UNIVERSITY OF ILLINOIS                          59838.383838\n",
                     "ARIZONA STATE UNIVERSITY                        51052.083333\n",
                     "CALIFORNIA INSTITUTE OF TECHNOLOGY              49500.000000\n",
                     "WESTERN MICHIGAN UNIVERSITY                     46666.666667\n",
                     "IOWA STATE UNIVERSITY                           42030.419823\n",
                     "CARNEGIE MELLON UNIVERSITY                      40523.809524\n",
                     "GEORGIA INSTITUTE OF TECHNOLOGY                 36666.666667\n",
                     "UNIVERSITY OF CALIFORNIA                        36382.978723\n",
                     "UNIVERSITY OF NORTHERN IOWA                     21818.181818\n",
                     "MASSACHUSETTS INSTITUTE OF TECHNOLOGY           13533.035714\n",
                     "NEW MEXICO STATE UNIVERSITY                     13333.333333\n",
                     "RICE UNIVERSITY                                 12500.000000\n",
                     "UNIVERSITY OF KENTUCKY                          10717.333333\n",
                     "VANDERBILT UNIVERSITY                            3333.333333"
                  ]
               },
               "metadata": {},
               "output_type": "display_data"
            },
            {
               "name": "stdout",
               "output_type": "stream",
               "text": [
                  "lobbying_activity_usd    1.332444e+06\n",
                  "dtype: float64\n"
               ]
            },
            {
               "data": {
                  "text/html": [
                     "<div>\n",
                     "<style scoped>\n",
                     "    .dataframe tbody tr th:only-of-type {\n",
                     "        vertical-align: middle;\n",
                     "    }\n",
                     "\n",
                     "    .dataframe tbody tr th {\n",
                     "        vertical-align: top;\n",
                     "    }\n",
                     "\n",
                     "    .dataframe thead th {\n",
                     "        text-align: right;\n",
                     "    }\n",
                     "</style>\n",
                     "<table border=\"1\" class=\"dataframe\">\n",
                     "  <thead>\n",
                     "    <tr style=\"text-align: right;\">\n",
                     "      <th></th>\n",
                     "      <th>lobbying_activity_usd</th>\n",
                     "    </tr>\n",
                     "    <tr>\n",
                     "      <th>organization</th>\n",
                     "      <th></th>\n",
                     "    </tr>\n",
                     "  </thead>\n",
                     "  <tbody>\n",
                     "    <tr>\n",
                     "      <th>BIPARTISAN POLICY CENTER</th>\n",
                     "      <td>755625.059850</td>\n",
                     "    </tr>\n",
                     "    <tr>\n",
                     "      <th>NATIONAL RIGHT TO WORK COMMITTEE</th>\n",
                     "      <td>452000.000000</td>\n",
                     "    </tr>\n",
                     "    <tr>\n",
                     "      <th>COALITION FOR ENERGY EFFICIENT JOBS INVESTMENT</th>\n",
                     "      <td>300000.000000</td>\n",
                     "    </tr>\n",
                     "    <tr>\n",
                     "      <th>CLEARPATH ACTION FOR CONSERVATIVE CLEAN ENERGY</th>\n",
                     "      <td>200000.000000</td>\n",
                     "    </tr>\n",
                     "    <tr>\n",
                     "      <th>ELECTRIFY AMERICA</th>\n",
                     "      <td>105000.000000</td>\n",
                     "    </tr>\n",
                     "    <tr>\n",
                     "      <th>CENTER FOR TRANSPORTATION AND ENVIRONMENT</th>\n",
                     "      <td>70000.000000</td>\n",
                     "    </tr>\n",
                     "    <tr>\n",
                     "      <th>CENTER FOR AMERICAN PROGRESS</th>\n",
                     "      <td>62857.142857</td>\n",
                     "    </tr>\n",
                     "    <tr>\n",
                     "      <th>AMERICANS FOR TAX REFORM</th>\n",
                     "      <td>49750.000000</td>\n",
                     "    </tr>\n",
                     "    <tr>\n",
                     "      <th>SECURING AMERICAS FUTURE ENERGY</th>\n",
                     "      <td>37166.666667</td>\n",
                     "    </tr>\n",
                     "    <tr>\n",
                     "      <th>GOVERNMENT ACCOUNTABILITY PROJECT</th>\n",
                     "      <td>8511.000000</td>\n",
                     "    </tr>\n",
                     "    <tr>\n",
                     "      <th>NATIONAL TAXPAYERS UNION</th>\n",
                     "      <td>5848.062320</td>\n",
                     "    </tr>\n",
                     "    <tr>\n",
                     "      <th>CENTER FOR INDIVIDUAL FREEDOM</th>\n",
                     "      <td>3540.000000</td>\n",
                     "    </tr>\n",
                     "    <tr>\n",
                     "      <th>MOVEONORG CIVIC ACTION</th>\n",
                     "      <td>454.545455</td>\n",
                     "    </tr>\n",
                     "    <tr>\n",
                     "      <th>ALLIANCE TO SAVE ENERGY</th>\n",
                     "      <td>0.000000</td>\n",
                     "    </tr>\n",
                     "    <tr>\n",
                     "      <th>TAXPAYERS FOR COMMON SENSE</th>\n",
                     "      <td>0.000000</td>\n",
                     "    </tr>\n",
                     "  </tbody>\n",
                     "</table>\n",
                     "</div>"
                  ],
                  "text/plain": [
                     "                                                lobbying_activity_usd\n",
                     "organization                                                         \n",
                     "BIPARTISAN POLICY CENTER                                755625.059850\n",
                     "NATIONAL RIGHT TO WORK COMMITTEE                        452000.000000\n",
                     "COALITION FOR ENERGY EFFICIENT JOBS INVESTMENT          300000.000000\n",
                     "CLEARPATH ACTION FOR CONSERVATIVE CLEAN ENERGY          200000.000000\n",
                     "ELECTRIFY AMERICA                                       105000.000000\n",
                     "CENTER FOR TRANSPORTATION AND ENVIRONMENT                70000.000000\n",
                     "CENTER FOR AMERICAN PROGRESS                             62857.142857\n",
                     "AMERICANS FOR TAX REFORM                                 49750.000000\n",
                     "SECURING AMERICAS FUTURE ENERGY                          37166.666667\n",
                     "GOVERNMENT ACCOUNTABILITY PROJECT                         8511.000000\n",
                     "NATIONAL TAXPAYERS UNION                                  5848.062320\n",
                     "CENTER FOR INDIVIDUAL FREEDOM                             3540.000000\n",
                     "MOVEONORG CIVIC ACTION                                     454.545455\n",
                     "ALLIANCE TO SAVE ENERGY                                      0.000000\n",
                     "TAXPAYERS FOR COMMON SENSE                                   0.000000"
                  ]
               },
               "metadata": {},
               "output_type": "display_data"
            },
            {
               "name": "stdout",
               "output_type": "stream",
               "text": [
                  "lobbying_activity_usd    2.050752e+06\n",
                  "dtype: float64\n"
               ]
            },
            {
               "data": {
                  "text/html": [
                     "<div>\n",
                     "<style scoped>\n",
                     "    .dataframe tbody tr th:only-of-type {\n",
                     "        vertical-align: middle;\n",
                     "    }\n",
                     "\n",
                     "    .dataframe tbody tr th {\n",
                     "        vertical-align: top;\n",
                     "    }\n",
                     "\n",
                     "    .dataframe thead th {\n",
                     "        text-align: right;\n",
                     "    }\n",
                     "</style>\n",
                     "<table border=\"1\" class=\"dataframe\">\n",
                     "  <thead>\n",
                     "    <tr style=\"text-align: right;\">\n",
                     "      <th></th>\n",
                     "      <th>lobbying_activity_usd</th>\n",
                     "    </tr>\n",
                     "    <tr>\n",
                     "      <th>organization</th>\n",
                     "      <th></th>\n",
                     "    </tr>\n",
                     "  </thead>\n",
                     "  <tbody>\n",
                     "    <tr>\n",
                     "      <th>CLEAN AIR TASK FORCE</th>\n",
                     "      <td>2.302801e+06</td>\n",
                     "    </tr>\n",
                     "    <tr>\n",
                     "      <th>CITIZENS FOR RESPONSIBLE ENERGY SOLUTIONS</th>\n",
                     "      <td>1.341833e+06</td>\n",
                     "    </tr>\n",
                     "    <tr>\n",
                     "      <th>NATURE CONSERVANCY</th>\n",
                     "      <td>1.205653e+06</td>\n",
                     "    </tr>\n",
                     "    <tr>\n",
                     "      <th>EARTHJUSTICE</th>\n",
                     "      <td>6.229773e+05</td>\n",
                     "    </tr>\n",
                     "    <tr>\n",
                     "      <th>ENVIRONMENTAL DEFENSE FUND</th>\n",
                     "      <td>5.813580e+05</td>\n",
                     "    </tr>\n",
                     "    <tr>\n",
                     "      <th>WILDERNESS SOCIETY</th>\n",
                     "      <td>4.312894e+05</td>\n",
                     "    </tr>\n",
                     "    <tr>\n",
                     "      <th>SOUTHERN ENVIRONMENTAL LAW CENTER</th>\n",
                     "      <td>3.908571e+05</td>\n",
                     "    </tr>\n",
                     "    <tr>\n",
                     "      <th>LINDEN TRUST FOR CONSERVATION</th>\n",
                     "      <td>3.700000e+05</td>\n",
                     "    </tr>\n",
                     "    <tr>\n",
                     "      <th>SIERRA CLUB</th>\n",
                     "      <td>3.609724e+05</td>\n",
                     "    </tr>\n",
                     "    <tr>\n",
                     "      <th>LAND TRUST ALLIANCE</th>\n",
                     "      <td>3.433333e+05</td>\n",
                     "    </tr>\n",
                     "    <tr>\n",
                     "      <th>CARBON ADVOCACY PROJECT</th>\n",
                     "      <td>3.200000e+05</td>\n",
                     "    </tr>\n",
                     "    <tr>\n",
                     "      <th>TRUST FOR PUBLIC LAND</th>\n",
                     "      <td>2.050187e+05</td>\n",
                     "    </tr>\n",
                     "    <tr>\n",
                     "      <th>OPEN SPACE INSTITUTE</th>\n",
                     "      <td>1.825000e+05</td>\n",
                     "    </tr>\n",
                     "    <tr>\n",
                     "      <th>OCEAN CONSERVANCY</th>\n",
                     "      <td>1.697708e+05</td>\n",
                     "    </tr>\n",
                     "    <tr>\n",
                     "      <th>NATURAL RESOURCES DEFENSE COUNCIL</th>\n",
                     "      <td>1.316949e+05</td>\n",
                     "    </tr>\n",
                     "    <tr>\n",
                     "      <th>LEAGUE OF CONSERVATION VOTERS</th>\n",
                     "      <td>1.201404e+05</td>\n",
                     "    </tr>\n",
                     "    <tr>\n",
                     "      <th>INDIAN LAND TENURE</th>\n",
                     "      <td>1.200000e+05</td>\n",
                     "    </tr>\n",
                     "    <tr>\n",
                     "      <th>CENTER FOR CLIMATE AND ENERGY SOLUTIONS</th>\n",
                     "      <td>1.041667e+05</td>\n",
                     "    </tr>\n",
                     "    <tr>\n",
                     "      <th>AMERICAN FORESTS</th>\n",
                     "      <td>1.000000e+05</td>\n",
                     "    </tr>\n",
                     "    <tr>\n",
                     "      <th>GEOS INSTITUTE</th>\n",
                     "      <td>8.348209e+04</td>\n",
                     "    </tr>\n",
                     "    <tr>\n",
                     "      <th>RIPE ROADMAP</th>\n",
                     "      <td>4.000000e+04</td>\n",
                     "    </tr>\n",
                     "    <tr>\n",
                     "      <th>PLASTIC POLLUTION COALITION</th>\n",
                     "      <td>4.000000e+04</td>\n",
                     "    </tr>\n",
                     "    <tr>\n",
                     "      <th>BLUE GREEN ALLIANCE</th>\n",
                     "      <td>3.955556e+04</td>\n",
                     "    </tr>\n",
                     "    <tr>\n",
                     "      <th>NATIONAL PARKS CONSERVATION ASSOCIATION</th>\n",
                     "      <td>3.679033e+04</td>\n",
                     "    </tr>\n",
                     "    <tr>\n",
                     "      <th>NATIONAL GROUND WATER ASSOCIATION</th>\n",
                     "      <td>3.666667e+04</td>\n",
                     "    </tr>\n",
                     "    <tr>\n",
                     "      <th>FRIENDS COMMITTEE ON NATIONAL LEGISLATION</th>\n",
                     "      <td>3.225806e+04</td>\n",
                     "    </tr>\n",
                     "    <tr>\n",
                     "      <th>ENVIRONMENT AMERICA</th>\n",
                     "      <td>2.955128e+04</td>\n",
                     "    </tr>\n",
                     "    <tr>\n",
                     "      <th>CARBON 180</th>\n",
                     "      <td>2.250000e+04</td>\n",
                     "    </tr>\n",
                     "    <tr>\n",
                     "      <th>APPALACHIAN TRAIL CONSERVANCY</th>\n",
                     "      <td>9.858667e+03</td>\n",
                     "    </tr>\n",
                     "    <tr>\n",
                     "      <th>NATIONAL WASTE RECYCLING ASSOCIATION</th>\n",
                     "      <td>9.381599e+03</td>\n",
                     "    </tr>\n",
                     "    <tr>\n",
                     "      <th>AMERICAN FOREST FOUNDATION</th>\n",
                     "      <td>8.236500e+03</td>\n",
                     "    </tr>\n",
                     "    <tr>\n",
                     "      <th>FRIENDS OF EARTH</th>\n",
                     "      <td>6.666667e+03</td>\n",
                     "    </tr>\n",
                     "    <tr>\n",
                     "      <th>NATIONAL AUDUBON SOCIETY</th>\n",
                     "      <td>6.567460e+03</td>\n",
                     "    </tr>\n",
                     "    <tr>\n",
                     "      <th>GREENPEACE</th>\n",
                     "      <td>6.463500e+03</td>\n",
                     "    </tr>\n",
                     "    <tr>\n",
                     "      <th>WESTERN ORGANIZATION OF RESOURCE COUNCILS</th>\n",
                     "      <td>2.755460e+03</td>\n",
                     "    </tr>\n",
                     "    <tr>\n",
                     "      <th>PROTECT OUR WINTERS ACTION FUND</th>\n",
                     "      <td>0.000000e+00</td>\n",
                     "    </tr>\n",
                     "    <tr>\n",
                     "      <th>FOOD WATER WATCH</th>\n",
                     "      <td>0.000000e+00</td>\n",
                     "    </tr>\n",
                     "  </tbody>\n",
                     "</table>\n",
                     "</div>"
                  ],
                  "text/plain": [
                     "                                           lobbying_activity_usd\n",
                     "organization                                                    \n",
                     "CLEAN AIR TASK FORCE                                2.302801e+06\n",
                     "CITIZENS FOR RESPONSIBLE ENERGY SOLUTIONS           1.341833e+06\n",
                     "NATURE CONSERVANCY                                  1.205653e+06\n",
                     "EARTHJUSTICE                                        6.229773e+05\n",
                     "ENVIRONMENTAL DEFENSE FUND                          5.813580e+05\n",
                     "WILDERNESS SOCIETY                                  4.312894e+05\n",
                     "SOUTHERN ENVIRONMENTAL LAW CENTER                   3.908571e+05\n",
                     "LINDEN TRUST FOR CONSERVATION                       3.700000e+05\n",
                     "SIERRA CLUB                                         3.609724e+05\n",
                     "LAND TRUST ALLIANCE                                 3.433333e+05\n",
                     "CARBON ADVOCACY PROJECT                             3.200000e+05\n",
                     "TRUST FOR PUBLIC LAND                               2.050187e+05\n",
                     "OPEN SPACE INSTITUTE                                1.825000e+05\n",
                     "OCEAN CONSERVANCY                                   1.697708e+05\n",
                     "NATURAL RESOURCES DEFENSE COUNCIL                   1.316949e+05\n",
                     "LEAGUE OF CONSERVATION VOTERS                       1.201404e+05\n",
                     "INDIAN LAND TENURE                                  1.200000e+05\n",
                     "CENTER FOR CLIMATE AND ENERGY SOLUTIONS             1.041667e+05\n",
                     "AMERICAN FORESTS                                    1.000000e+05\n",
                     "GEOS INSTITUTE                                      8.348209e+04\n",
                     "RIPE ROADMAP                                        4.000000e+04\n",
                     "PLASTIC POLLUTION COALITION                         4.000000e+04\n",
                     "BLUE GREEN ALLIANCE                                 3.955556e+04\n",
                     "NATIONAL PARKS CONSERVATION ASSOCIATION             3.679033e+04\n",
                     "NATIONAL GROUND WATER ASSOCIATION                   3.666667e+04\n",
                     "FRIENDS COMMITTEE ON NATIONAL LEGISLATION           3.225806e+04\n",
                     "ENVIRONMENT AMERICA                                 2.955128e+04\n",
                     "CARBON 180                                          2.250000e+04\n",
                     "APPALACHIAN TRAIL CONSERVANCY                       9.858667e+03\n",
                     "NATIONAL WASTE RECYCLING ASSOCIATION                9.381599e+03\n",
                     "AMERICAN FOREST FOUNDATION                          8.236500e+03\n",
                     "FRIENDS OF EARTH                                    6.666667e+03\n",
                     "NATIONAL AUDUBON SOCIETY                            6.567460e+03\n",
                     "GREENPEACE                                          6.463500e+03\n",
                     "WESTERN ORGANIZATION OF RESOURCE COUNCILS           2.755460e+03\n",
                     "PROTECT OUR WINTERS ACTION FUND                     0.000000e+00\n",
                     "FOOD WATER WATCH                                    0.000000e+00"
                  ]
               },
               "metadata": {},
               "output_type": "display_data"
            },
            {
               "name": "stdout",
               "output_type": "stream",
               "text": [
                  "lobbying_activity_usd    9.815100e+06\n",
                  "dtype: float64\n"
               ]
            },
            {
               "data": {
                  "text/html": [
                     "<div>\n",
                     "<style scoped>\n",
                     "    .dataframe tbody tr th:only-of-type {\n",
                     "        vertical-align: middle;\n",
                     "    }\n",
                     "\n",
                     "    .dataframe tbody tr th {\n",
                     "        vertical-align: top;\n",
                     "    }\n",
                     "\n",
                     "    .dataframe thead th {\n",
                     "        text-align: right;\n",
                     "    }\n",
                     "</style>\n",
                     "<table border=\"1\" class=\"dataframe\">\n",
                     "  <thead>\n",
                     "    <tr style=\"text-align: right;\">\n",
                     "      <th></th>\n",
                     "      <th>lobbying_activity_usd</th>\n",
                     "    </tr>\n",
                     "    <tr>\n",
                     "      <th>organization</th>\n",
                     "      <th></th>\n",
                     "    </tr>\n",
                     "  </thead>\n",
                     "  <tbody>\n",
                     "    <tr>\n",
                     "      <th>BREAKTHROUGH ENERGY</th>\n",
                     "      <td>2.145286e+06</td>\n",
                     "    </tr>\n",
                     "    <tr>\n",
                     "      <th>ZURICH</th>\n",
                     "      <td>2.082202e+06</td>\n",
                     "    </tr>\n",
                     "    <tr>\n",
                     "      <th>NATIONAL VENTURE CAPITAL ASSOCIATION</th>\n",
                     "      <td>1.320582e+06</td>\n",
                     "    </tr>\n",
                     "    <tr>\n",
                     "      <th>NATIONAL ASSOCIATION OF FEDERALLYINSURED CREDIT UNIONS</th>\n",
                     "      <td>1.020000e+06</td>\n",
                     "    </tr>\n",
                     "    <tr>\n",
                     "      <th>LEUCADIA NATIONAL</th>\n",
                     "      <td>2.200000e+05</td>\n",
                     "    </tr>\n",
                     "    <tr>\n",
                     "      <th>ARTHUR J GALLAGHER</th>\n",
                     "      <td>1.450000e+05</td>\n",
                     "    </tr>\n",
                     "    <tr>\n",
                     "      <th>BANK OF AMERICA</th>\n",
                     "      <td>9.714286e+04</td>\n",
                     "    </tr>\n",
                     "    <tr>\n",
                     "      <th>BANK POLICY INSTITUTE</th>\n",
                     "      <td>6.000000e+04</td>\n",
                     "    </tr>\n",
                     "    <tr>\n",
                     "      <th>MACQUARIE INFRASTRUCTURE AND REAL ASSETS</th>\n",
                     "      <td>3.000000e+04</td>\n",
                     "    </tr>\n",
                     "    <tr>\n",
                     "      <th>BROOKFIELD ASSET MANAGEMENT</th>\n",
                     "      <td>2.666667e+04</td>\n",
                     "    </tr>\n",
                     "    <tr>\n",
                     "      <th>FCO ADVISORS</th>\n",
                     "      <td>1.000000e+04</td>\n",
                     "    </tr>\n",
                     "    <tr>\n",
                     "      <th>EXCELSIOR ENERGY</th>\n",
                     "      <td>0.000000e+00</td>\n",
                     "    </tr>\n",
                     "    <tr>\n",
                     "      <th>HUDSON CLEAN ENERGY PARTNERS</th>\n",
                     "      <td>0.000000e+00</td>\n",
                     "    </tr>\n",
                     "  </tbody>\n",
                     "</table>\n",
                     "</div>"
                  ],
                  "text/plain": [
                     "                                                    lobbying_activity_usd\n",
                     "organization                                                             \n",
                     "BREAKTHROUGH ENERGY                                          2.145286e+06\n",
                     "ZURICH                                                       2.082202e+06\n",
                     "NATIONAL VENTURE CAPITAL ASSOCIATION                         1.320582e+06\n",
                     "NATIONAL ASSOCIATION OF FEDERALLYINSURED CREDIT...           1.020000e+06\n",
                     "LEUCADIA NATIONAL                                            2.200000e+05\n",
                     "ARTHUR J GALLAGHER                                           1.450000e+05\n",
                     "BANK OF AMERICA                                              9.714286e+04\n",
                     "BANK POLICY INSTITUTE                                        6.000000e+04\n",
                     "MACQUARIE INFRASTRUCTURE AND REAL ASSETS                     3.000000e+04\n",
                     "BROOKFIELD ASSET MANAGEMENT                                  2.666667e+04\n",
                     "FCO ADVISORS                                                 1.000000e+04\n",
                     "EXCELSIOR ENERGY                                             0.000000e+00\n",
                     "HUDSON CLEAN ENERGY PARTNERS                                 0.000000e+00"
                  ]
               },
               "metadata": {},
               "output_type": "display_data"
            },
            {
               "name": "stdout",
               "output_type": "stream",
               "text": [
                  "lobbying_activity_usd    7.156879e+06\n",
                  "dtype: float64\n"
               ]
            },
            {
               "data": {
                  "text/html": [
                     "<div>\n",
                     "<style scoped>\n",
                     "    .dataframe tbody tr th:only-of-type {\n",
                     "        vertical-align: middle;\n",
                     "    }\n",
                     "\n",
                     "    .dataframe tbody tr th {\n",
                     "        vertical-align: top;\n",
                     "    }\n",
                     "\n",
                     "    .dataframe thead th {\n",
                     "        text-align: right;\n",
                     "    }\n",
                     "</style>\n",
                     "<table border=\"1\" class=\"dataframe\">\n",
                     "  <thead>\n",
                     "    <tr style=\"text-align: right;\">\n",
                     "      <th></th>\n",
                     "      <th>lobbying_activity_usd</th>\n",
                     "    </tr>\n",
                     "    <tr>\n",
                     "      <th>organization</th>\n",
                     "      <th></th>\n",
                     "    </tr>\n",
                     "  </thead>\n",
                     "  <tbody>\n",
                     "    <tr>\n",
                     "      <th>GREAT PLAINS INSTITUTE</th>\n",
                     "      <td>353000.0</td>\n",
                     "    </tr>\n",
                     "    <tr>\n",
                     "      <th>WORLD RESOURCES INSTITUTE</th>\n",
                     "      <td>180000.0</td>\n",
                     "    </tr>\n",
                     "    <tr>\n",
                     "      <th>WOODWELL CLIMATE RESEARCH CENTER</th>\n",
                     "      <td>10000.0</td>\n",
                     "    </tr>\n",
                     "    <tr>\n",
                     "      <th>RTI INTERNATIONAL</th>\n",
                     "      <td>4000.0</td>\n",
                     "    </tr>\n",
                     "  </tbody>\n",
                     "</table>\n",
                     "</div>"
                  ],
                  "text/plain": [
                     "                                  lobbying_activity_usd\n",
                     "organization                                           \n",
                     "GREAT PLAINS INSTITUTE                         353000.0\n",
                     "WORLD RESOURCES INSTITUTE                      180000.0\n",
                     "WOODWELL CLIMATE RESEARCH CENTER                10000.0\n",
                     "RTI INTERNATIONAL                                4000.0"
                  ]
               },
               "metadata": {},
               "output_type": "display_data"
            },
            {
               "name": "stdout",
               "output_type": "stream",
               "text": [
                  "lobbying_activity_usd    547000.0\n",
                  "dtype: float64\n"
               ]
            },
            {
               "data": {
                  "text/html": [
                     "<div>\n",
                     "<style scoped>\n",
                     "    .dataframe tbody tr th:only-of-type {\n",
                     "        vertical-align: middle;\n",
                     "    }\n",
                     "\n",
                     "    .dataframe tbody tr th {\n",
                     "        vertical-align: top;\n",
                     "    }\n",
                     "\n",
                     "    .dataframe thead th {\n",
                     "        text-align: right;\n",
                     "    }\n",
                     "</style>\n",
                     "<table border=\"1\" class=\"dataframe\">\n",
                     "  <thead>\n",
                     "    <tr style=\"text-align: right;\">\n",
                     "      <th></th>\n",
                     "      <th>lobbying_activity_usd</th>\n",
                     "    </tr>\n",
                     "    <tr>\n",
                     "      <th>organization</th>\n",
                     "      <th></th>\n",
                     "    </tr>\n",
                     "  </thead>\n",
                     "  <tbody>\n",
                     "    <tr>\n",
                     "      <th>US CHAMBER OF COMMERCE</th>\n",
                     "      <td>1.241025e+07</td>\n",
                     "    </tr>\n",
                     "    <tr>\n",
                     "      <th>NATIONAL ASSOCIATION OF MANUFACTURERS</th>\n",
                     "      <td>3.863543e+06</td>\n",
                     "    </tr>\n",
                     "    <tr>\n",
                     "      <th>BUSINESS ROUNDTABLE</th>\n",
                     "      <td>4.475000e+05</td>\n",
                     "    </tr>\n",
                     "    <tr>\n",
                     "      <th>GREATER PITTSBURGH CHAMBER OF COMMERCE</th>\n",
                     "      <td>1.438810e+05</td>\n",
                     "    </tr>\n",
                     "    <tr>\n",
                     "      <th>WESTERN BUSINESS ROUNDTABLE</th>\n",
                     "      <td>1.016667e+05</td>\n",
                     "    </tr>\n",
                     "  </tbody>\n",
                     "</table>\n",
                     "</div>"
                  ],
                  "text/plain": [
                     "                                        lobbying_activity_usd\n",
                     "organization                                                 \n",
                     "US CHAMBER OF COMMERCE                           1.241025e+07\n",
                     "NATIONAL ASSOCIATION OF MANUFACTURERS            3.863543e+06\n",
                     "BUSINESS ROUNDTABLE                              4.475000e+05\n",
                     "GREATER PITTSBURGH CHAMBER OF COMMERCE           1.438810e+05\n",
                     "WESTERN BUSINESS ROUNDTABLE                      1.016667e+05"
                  ]
               },
               "metadata": {},
               "output_type": "display_data"
            },
            {
               "name": "stdout",
               "output_type": "stream",
               "text": [
                  "lobbying_activity_usd    1.696684e+07\n",
                  "dtype: float64\n"
               ]
            },
            {
               "data": {
                  "text/html": [
                     "<div>\n",
                     "<style scoped>\n",
                     "    .dataframe tbody tr th:only-of-type {\n",
                     "        vertical-align: middle;\n",
                     "    }\n",
                     "\n",
                     "    .dataframe tbody tr th {\n",
                     "        vertical-align: top;\n",
                     "    }\n",
                     "\n",
                     "    .dataframe thead th {\n",
                     "        text-align: right;\n",
                     "    }\n",
                     "</style>\n",
                     "<table border=\"1\" class=\"dataframe\">\n",
                     "  <thead>\n",
                     "    <tr style=\"text-align: right;\">\n",
                     "      <th></th>\n",
                     "      <th>lobbying_activity_usd</th>\n",
                     "    </tr>\n",
                     "    <tr>\n",
                     "      <th>organization</th>\n",
                     "      <th></th>\n",
                     "    </tr>\n",
                     "  </thead>\n",
                     "  <tbody>\n",
                     "    <tr>\n",
                     "      <th>NUCLEAR ENERGY INSTITUTE</th>\n",
                     "      <td>1.245065e+06</td>\n",
                     "    </tr>\n",
                     "    <tr>\n",
                     "      <th>BWX TECHNOLOGIES</th>\n",
                     "      <td>6.558483e+05</td>\n",
                     "    </tr>\n",
                     "    <tr>\n",
                     "      <th>WESTINGHOUSE ELECTRIC</th>\n",
                     "      <td>1.280000e+05</td>\n",
                     "    </tr>\n",
                     "    <tr>\n",
                     "      <th>NUCLEAR INNOVATION ALLIANCE</th>\n",
                     "      <td>1.000000e+05</td>\n",
                     "    </tr>\n",
                     "    <tr>\n",
                     "      <th>FRAMATOME</th>\n",
                     "      <td>2.933333e+04</td>\n",
                     "    </tr>\n",
                     "  </tbody>\n",
                     "</table>\n",
                     "</div>"
                  ],
                  "text/plain": [
                     "                             lobbying_activity_usd\n",
                     "organization                                      \n",
                     "NUCLEAR ENERGY INSTITUTE              1.245065e+06\n",
                     "BWX TECHNOLOGIES                      6.558483e+05\n",
                     "WESTINGHOUSE ELECTRIC                 1.280000e+05\n",
                     "NUCLEAR INNOVATION ALLIANCE           1.000000e+05\n",
                     "FRAMATOME                             2.933333e+04"
                  ]
               },
               "metadata": {},
               "output_type": "display_data"
            },
            {
               "name": "stdout",
               "output_type": "stream",
               "text": [
                  "lobbying_activity_usd    2.158246e+06\n",
                  "dtype: float64\n"
               ]
            },
            {
               "data": {
                  "text/html": [
                     "<div>\n",
                     "<style scoped>\n",
                     "    .dataframe tbody tr th:only-of-type {\n",
                     "        vertical-align: middle;\n",
                     "    }\n",
                     "\n",
                     "    .dataframe tbody tr th {\n",
                     "        vertical-align: top;\n",
                     "    }\n",
                     "\n",
                     "    .dataframe thead th {\n",
                     "        text-align: right;\n",
                     "    }\n",
                     "</style>\n",
                     "<table border=\"1\" class=\"dataframe\">\n",
                     "  <thead>\n",
                     "    <tr style=\"text-align: right;\">\n",
                     "      <th></th>\n",
                     "      <th>lobbying_activity_usd</th>\n",
                     "    </tr>\n",
                     "    <tr>\n",
                     "      <th>organization</th>\n",
                     "      <th></th>\n",
                     "    </tr>\n",
                     "  </thead>\n",
                     "  <tbody>\n",
                     "    <tr>\n",
                     "      <th>SWAMPLAND RESOURCES</th>\n",
                     "      <td>0.0</td>\n",
                     "    </tr>\n",
                     "  </tbody>\n",
                     "</table>\n",
                     "</div>"
                  ],
                  "text/plain": [
                     "                     lobbying_activity_usd\n",
                     "organization                              \n",
                     "SWAMPLAND RESOURCES                    0.0"
                  ]
               },
               "metadata": {},
               "output_type": "display_data"
            },
            {
               "name": "stdout",
               "output_type": "stream",
               "text": [
                  "lobbying_activity_usd    0.0\n",
                  "dtype: float64\n"
               ]
            }
         ],
         "source": [
            "# Overviews of 'all those other' sectors\n",
            "for sector in [\n",
            "    \"higher education\",\n",
            "    \"think tanks and issue advocacy\",\n",
            "    \"environmental\",\n",
            "    \"finance\",\n",
            "    \"independent research organization\",\n",
            "    \"business advocacy\",\n",
            "    \"nuclear\",\n",
            "    \"other\",\n",
            "]:\n",
            "    ccs_sector_df = (\n",
            "        df[[\"organization\", \"lobbying_activity_usd\"]]\n",
            "        .loc[df.sector == sector]\n",
            "        .groupby([\"organization\"])\n",
            "        .sum()\n",
            "        .sort_values(by=[\"lobbying_activity_usd\"], ascending=False)\n",
            "    )\n",
            "    display(ccs_sector_df)\n",
            "    print(ccs_sector_df.sum())"
         ]
      },
      {
         "cell_type": "markdown",
         "metadata": {},
         "source": [
            "### University CCS lobbying summary"
         ]
      },
      {
         "cell_type": "code",
         "execution_count": 17,
         "metadata": {},
         "outputs": [],
         "source": [
            "# load the higher ed data\n",
            "\n",
            "he_df = trim_dates(\n",
            "    pd.read_csv(PATH_TO_HIGHER_EDUCATION_POSTPROC_LOBBYING_FILINGS, index_col=[0]),\n",
            "    yr=2024,\n",
            "    period=3,\n",
            "    how=\"lte\",\n",
            "    yr_col=\"filing_year\",\n",
            "    period_col=\"filing_period\",\n",
            ")"
         ]
      },
      {
         "cell_type": "code",
         "execution_count": 19,
         "metadata": {},
         "outputs": [
            {
               "data": {
                  "text/plain": [
                     "lobbying_activity_usd            1.496602e+06\n",
                     "n_entities_lobbied               6.170000e+02\n",
                     "legistlative_entities_lobbied    2.610000e+02\n",
                     "executive_entities_lobbied       3.560000e+02\n",
                     "dtype: float64"
                  ]
               },
               "execution_count": 19,
               "metadata": {},
               "output_type": "execute_result"
            }
         ],
         "source": [
            "# print the sector summary info\n",
            "he_df.loc[(he_df[\"definitely_ccs\"] == 1)][\n",
            "    [\n",
            "        \"lobbying_activity_usd\",\n",
            "        \"n_entities_lobbied\",\n",
            "        \"legistlative_entities_lobbied\",\n",
            "        \"executive_entities_lobbied\",\n",
            "    ]\n",
            "].sum()"
         ]
      },
      {
         "cell_type": "markdown",
         "metadata": {},
         "source": [
            "#### Export result-summary tables to Excel/clipboard"
         ]
      },
      {
         "cell_type": "code",
         "execution_count": 20,
         "metadata": {},
         "outputs": [],
         "source": [
            "# tally CCS lobbying by organization\n",
            "he_df.loc[he_df.definitely_ccs == 1].lobbying_activity_usd.sum()\n",
            "df[[\"organization\", \"lobbying_activity_usd\"]].loc[\n",
            "    df.sector == \"higher education\"\n",
            "].groupby(\"organization\").sum().sort_values(\n",
            "    by=\"lobbying_activity_usd\", ascending=False\n",
            ").to_clipboard()"
         ]
      },
      {
         "cell_type": "code",
         "execution_count": 21,
         "metadata": {},
         "outputs": [],
         "source": [
            "# Write out details from lobbying disclosures for each university/higher ed institution lobbying for CCS\n",
            "he_df.loc[he_df[\"definitely_ccs\"] == 1][\n",
            "    [\n",
            "        \"organization\",\n",
            "        \"registrant_name\",\n",
            "        \"filing_year\",\n",
            "        \"lobbying_activity_usd\",\n",
            "        \"n_entities_lobbied\",\n",
            "        \"activity_description_on_filing\",\n",
            "    ]\n",
            "].to_clipboard()"
         ]
      },
      {
         "cell_type": "code",
         "execution_count": 22,
         "metadata": {},
         "outputs": [],
         "source": [
            "ff_funding_univ_df = pd.read_csv(\n",
            "    \"/Volumes/Samsung_T5/data/lobbying/university_ff_funding_with_rename.csv\"\n",
            ")\n",
            "he_totals_df = (\n",
            "    he_df[[\"organization\", \"lobbying_activity_usd\", \"n_entities_lobbied\"]]\n",
            "    .loc[(he_df.definitely_ccs == 1)]\n",
            "    .groupby(\"organization\")\n",
            "    .sum()\n",
            "    .reset_index()\n",
            ")"
         ]
      },
      {
         "cell_type": "code",
         "execution_count": 23,
         "metadata": {},
         "outputs": [],
         "source": [
            "ccs_colleges = list(he_df.loc[he_df[\"definitely_ccs\"] == 1][\"organization\"].unique())\n",
            "he_df.cleaned_activity_description = he_df.cleaned_activity_description.astype(str)\n",
            "he_df.cleaned_activity_description = he_df.cleaned_activity_description.fillna(\"\")\n",
            "he_activity_df = (\n",
            "    he_df[\n",
            "        [\n",
            "            \"organization\",\n",
            "            \"activity_description_on_filing\",\n",
            "            \"filing_year\",\n",
            "            \"lobbying_activity_usd\",\n",
            "        ]\n",
            "    ]\n",
            "    .loc[(he_df.organization.isin(ccs_colleges)) & (he_df.definitely_ccs == 1)]\n",
            "    .groupby([\"organization\", \"filing_year\", \"activity_description_on_filing\"])\n",
            "    .sum()\n",
            ").reset_index()\n",
            "he_activity_df.to_clipboard()"
         ]
      },
      {
         "cell_type": "code",
         "execution_count": 24,
         "metadata": {},
         "outputs": [],
         "source": [
            "total_he_df = (\n",
            "    he_df[[\"organization\", \"definitely_ccs\", \"lobbying_activity_usd\"]]\n",
            "    .loc[he_df.organization.isin(ccs_colleges)]\n",
            "    .groupby([\"organization\", \"definitely_ccs\"])\n",
            "    .sum()\n",
            "    .reset_index()\n",
            "    .pivot(index=[\"organization\"], columns=\"definitely_ccs\")\n",
            "    .reset_index()\n",
            ")\n",
            "total_he_df.columns = [\"organization\", \"other_lobbying_usd\", \"ccs_lobbying_usd\"]\n",
            "total_he_df[\"total_lobbying\"] = (\n",
            "    total_he_df[\"other_lobbying_usd\"] + total_he_df[\"ccs_lobbying_usd\"]\n",
            ")\n",
            "total_he_df[\"ccs_frac\"] = (\n",
            "    total_he_df[\"ccs_lobbying_usd\"] / total_he_df[\"total_lobbying\"]\n",
            ")\n",
            "total_he_df.to_clipboard()"
         ]
      },
      {
         "cell_type": "markdown",
         "metadata": {},
         "source": [
            "## Summary tables"
         ]
      },
      {
         "cell_type": "markdown",
         "metadata": {},
         "source": [
            "### Excel Table of sector totals, including since 2019"
         ]
      },
      {
         "cell_type": "code",
         "execution_count": 25,
         "metadata": {},
         "outputs": [],
         "source": [
            "# subset data looking only at definitely ccs and that occuring 2019 and later\n",
            "since_2019_df = (\n",
            "    df[\n",
            "        [\n",
            "            \"filing_year\",\n",
            "            \"sector\",\n",
            "            \"very_lumped_sector\",\n",
            "            \"lobbying_activity_usd\",\n",
            "            \"n_entities_lobbied\",\n",
            "        ]\n",
            "    ]\n",
            "    .loc[(df.definitely_ccs == 1) & (df.filing_year > 2018)]\n",
            "    .groupby([\"sector\"])\n",
            "    .agg(\n",
            "        {\n",
            "            \"very_lumped_sector\": \"first\",\n",
            "            \"lobbying_activity_usd\": np.sum,\n",
            "            \"n_entities_lobbied\": np.sum,\n",
            "        }\n",
            "    )\n",
            ")\n",
            "since_2019_df.columns = [\n",
            "    \"General sector\",\n",
            "    \"total_ccs_lobbying_usd_2019_to_mid_2024\",\n",
            "    \"total_ccs_lobbying_contacts_2019_to_mid_2024\",\n",
            "]\n",
            "# get all years' data\n",
            "total_df = (\n",
            "    df[\n",
            "        [\n",
            "            \"sector\",\n",
            "            \"lobbying_activity_usd\",\n",
            "            \"n_entities_lobbied\",\n",
            "        ]\n",
            "    ]\n",
            "    .loc[(df.definitely_ccs == 1)]\n",
            "    .groupby([\"sector\"])\n",
            "    .agg(\n",
            "        {\n",
            "            \"lobbying_activity_usd\": np.sum,\n",
            "            \"n_entities_lobbied\": np.sum,\n",
            "        }\n",
            "    )\n",
            ")\n",
            "total_df.columns = [\n",
            "    \"total_ccs_lobbying_usd_2005_to_mid2024\",\n",
            "    \"total_ccs_lobbying_contacts_2005_to_mid2024\",\n",
            "]\n",
            "# summarize, grouping by detailed sector\n",
            "sector_summary_df = since_2019_df.merge(total_df, left_index=True, right_index=True)\n",
            "sector_summary_df.sort_values(\n",
            "    by=\"total_ccs_lobbying_usd_2019_to_mid_2024\", ascending=False, inplace=True\n",
            ")\n",
            "sector_summary_df = sector_summary_df[\n",
            "    [\n",
            "        \"General sector\",\n",
            "        \"total_ccs_lobbying_usd_2019_to_mid_2024\",\n",
            "        \"total_ccs_lobbying_usd_2005_to_mid2024\",\n",
            "        \"total_ccs_lobbying_contacts_2019_to_mid_2024\",\n",
            "        \"total_ccs_lobbying_contacts_2005_to_mid2024\",\n",
            "    ]\n",
            "].to_clipboard()"
         ]
      },
      {
         "cell_type": "markdown",
         "metadata": {},
         "source": [
            "### Excel Table of lobbying dollars and contacts by year and quarter (filing period)"
         ]
      },
      {
         "cell_type": "code",
         "execution_count": 26,
         "metadata": {},
         "outputs": [],
         "source": [
            "# Table of temporal totals (by quarters)\n",
            "numeric_quarter_dict = {\n",
            "    \"first_quarter\": 1,\n",
            "    \"second_quarter\": 2,\n",
            "    \"fourth_quarter\": 4,\n",
            "    \"third_quarter\": 3,\n",
            "    \"year_end\": 4,\n",
            "    \"mid_year\": 2,\n",
            "}\n",
            "df[\"numeric_filing_period\"] = [numeric_quarter_dict[x] for x in df.filing_period]\n",
            "\n",
            "\n",
            "through_time_df = (\n",
            "    df[\n",
            "        [\n",
            "            \"filing_year\",\n",
            "            \"numeric_filing_period\",\n",
            "            \"lobbying_activity_usd\",\n",
            "            \"n_entities_lobbied\",\n",
            "        ]\n",
            "    ]\n",
            "    .loc[(df.definitely_ccs == 1)]\n",
            "    .groupby([\"filing_year\", \"numeric_filing_period\"])\n",
            "    .agg(\n",
            "        {\n",
            "            \"lobbying_activity_usd\": np.sum,\n",
            "            \"n_entities_lobbied\": np.sum,\n",
            "        }\n",
            "    )\n",
            "    .reset_index()\n",
            ")\n",
            "through_time_df.columns = [\n",
            "    \"filing_year\",\n",
            "    \"filing_period\",\n",
            "    \"total_ccs_lobbying_usd\",\n",
            "    \"total_ccs_lobbying_contacts\",\n",
            "]\n",
            "through_time_df.sort_values(\n",
            "    by=[\"filing_year\", \"filing_period\"], ascending=True, inplace=True\n",
            ")\n",
            "through_time_df.to_clipboard()"
         ]
      },
      {
         "cell_type": "markdown",
         "metadata": {},
         "source": [
            "### Excel Table of organization totals, including since 2019"
         ]
      },
      {
         "cell_type": "code",
         "execution_count": 27,
         "metadata": {},
         "outputs": [],
         "source": [
            "# subset data looking only at definitely ccs and that occuring 2019 and later\n",
            "since_2019_df = (\n",
            "    df[\n",
            "        [\n",
            "            \"filing_year\",\n",
            "            \"sector\",\n",
            "            \"very_lumped_sector\",\n",
            "            \"uber_lumped_sector\",\n",
            "            \"organization\",\n",
            "            \"lobbying_activity_usd\",\n",
            "            \"n_entities_lobbied\",\n",
            "            \"filing_year\",\n",
            "        ]\n",
            "    ]\n",
            "    .loc[(df.definitely_ccs == 1) & (df.filing_year > 2018)]\n",
            "    .groupby([\"organization\"])\n",
            "    .agg(\n",
            "        {\n",
            "            \"sector\": \"first\",\n",
            "            \"very_lumped_sector\": \"first\",\n",
            "            \"lobbying_activity_usd\": np.sum,\n",
            "            \"n_entities_lobbied\": np.sum,\n",
            "        }\n",
            "    )\n",
            ")\n",
            "since_2019_df.columns = [\n",
            "    \"Detailed sector\",\n",
            "    \"General sector\",\n",
            "    \"total_ccs_lobbying_usd_2019_to_mid_2024\",\n",
            "    \"total_ccs_lobbying_contacts_2019_to_mid_2024\",\n",
            "]\n",
            "# total for all years\n",
            "total_df = (\n",
            "    df[\n",
            "        [\n",
            "            \"filing_year\",\n",
            "            \"organization\",\n",
            "            \"lobbying_activity_usd\",\n",
            "            \"n_entities_lobbied\",\n",
            "            \"filing_year\",\n",
            "        ]\n",
            "    ]\n",
            "    .loc[(df.definitely_ccs == 1)]\n",
            "    .groupby([\"organization\"])\n",
            "    .agg(\n",
            "        {\n",
            "            \"lobbying_activity_usd\": np.sum,\n",
            "            \"n_entities_lobbied\": np.sum,\n",
            "        }\n",
            "    )\n",
            ")\n",
            "total_df.columns = [\n",
            "    \"total_ccs_lobbying_usd_2005_to_mid2024\",\n",
            "    \"total_ccs_lobbying_contacts_2005_to_mid2024\",\n",
            "]\n",
            "\n",
            "company_summary_df = since_2019_df.merge(total_df, left_index=True, right_index=True)\n",
            "company_summary_df.sort_values(\n",
            "    by=\"total_ccs_lobbying_usd_2019_to_mid_2024\", ascending=False, inplace=True\n",
            ")\n",
            "company_summary_df = company_summary_df[\n",
            "    [\n",
            "        \"General sector\",\n",
            "        \"Detailed sector\",\n",
            "        \"total_ccs_lobbying_usd_2019_to_mid_2024\",\n",
            "        \"total_ccs_lobbying_usd_2005_to_mid2024\",\n",
            "        \"total_ccs_lobbying_contacts_2019_to_mid_2024\",\n",
            "        \"total_ccs_lobbying_contacts_2005_to_mid2024\",\n",
            "    ]\n",
            "].to_clipboard()"
         ]
      },
      {
         "cell_type": "markdown",
         "metadata": {},
         "source": [
            "## Summarize lobbying-count and dollars spent for all organizations"
         ]
      },
      {
         "cell_type": "code",
         "execution_count": 28,
         "metadata": {},
         "outputs": [
            {
               "name": "stdout",
               "output_type": "stream",
               "text": [
                  " *** All organizations, 2005-2024 ***\n",
                  "lobbying_activity_usd                    7.578528e+08\n",
                  "n_entities_lobbied                       5.756400e+04\n",
                  "legistlative_entities_lobbied            2.704600e+04\n",
                  "executive_entities_lobbied               3.051800e+04\n",
                  "energy, dept of                          4.832000e+03\n",
                  "environmental protection agency (epa)    3.192000e+03\n",
                  "dtype: float64\n",
                  "\n",
                  " *** All organizations, 2019-2024 ***\n",
                  "lobbying_activity_usd                    4.383322e+08\n",
                  "n_entities_lobbied                       3.410900e+04\n",
                  "legistlative_entities_lobbied            1.709500e+04\n",
                  "executive_entities_lobbied               1.701400e+04\n",
                  "energy, dept of                          2.940000e+03\n",
                  "environmental protection agency (epa)    1.661000e+03\n",
                  "dtype: float64\n"
               ]
            }
         ],
         "source": [
            "total_series = (\n",
            "    df[\n",
            "        [\n",
            "            \"organization\",\n",
            "            \"lobbying_activity_usd\",\n",
            "            \"n_entities_lobbied\",\n",
            "            \"legistlative_entities_lobbied\",\n",
            "            \"executive_entities_lobbied\",\n",
            "            \"energy, dept of\",\n",
            "            \"environmental protection agency (epa)\",\n",
            "        ]\n",
            "    ]\n",
            "    .loc[df.definitely_ccs == 1]\n",
            "    .groupby([\"organization\"])\n",
            "    .sum()\n",
            "    .sort_values(\n",
            "        by=[\"lobbying_activity_usd\"],\n",
            "        ascending=False,\n",
            "    )\n",
            "    .sum()\n",
            ")\n",
            "since_2019_series = (\n",
            "    df[\n",
            "        [\n",
            "            \"organization\",\n",
            "            \"lobbying_activity_usd\",\n",
            "            \"n_entities_lobbied\",\n",
            "            \"legistlative_entities_lobbied\",\n",
            "            \"executive_entities_lobbied\",\n",
            "            \"energy, dept of\",\n",
            "            \"environmental protection agency (epa)\",\n",
            "        ]\n",
            "    ]\n",
            "    .loc[(df.definitely_ccs == 1) & (df.filing_year > 2018)]\n",
            "    .groupby([\"organization\"])\n",
            "    .sum()\n",
            "    .sort_values(\n",
            "        by=[\"lobbying_activity_usd\"],\n",
            "        ascending=False,\n",
            "    )\n",
            "    .sum()\n",
            ")\n",
            "print(\" *** All organizations, 2005-2024 ***\")\n",
            "print(total_series)\n",
            "print(\"\")\n",
            "print(\" *** All organizations, 2019-2024 ***\")\n",
            "print(since_2019_series)"
         ]
      },
      {
         "cell_type": "markdown",
         "metadata": {},
         "source": [
            "### Summarize lobbying-count and dollars spent for the 'heavy hitting' organizations (responsible for 50 percent of federal CCS lobbying)"
         ]
      },
      {
         "cell_type": "code",
         "execution_count": 29,
         "metadata": {},
         "outputs": [
            {
               "name": "stdout",
               "output_type": "stream",
               "text": [
                  " *** Heavy-hitting organizations, 2005-2024 ***\n",
                  "lobbying_activity_usd                     3.820441e+08\n",
                  "pct_of_lobbying_dollars_definitely_ccs    5.041138e+01\n",
                  "n_entities_lobbied                        1.290000e+04\n",
                  "energy, dept of                           1.029000e+03\n",
                  "environmental protection agency (epa)     1.000000e+03\n",
                  "legistlative_entities_lobbied             5.142000e+03\n",
                  "executive_entities_lobbied                7.758000e+03\n",
                  "dtype: float64\n",
                  "\n",
                  " *** Heavy-hitting organizations, 2019-2024 ***\n",
                  "lobbying_activity_usd                                2.184447e+08\n",
                  "pct_of_lobbying_dollars_definitely_ccs_since_2019    4.983542e+01\n",
                  "n_entities_lobbied                                   7.579000e+03\n",
                  "energy, dept of                                      6.020000e+02\n",
                  "environmental protection agency (epa)                4.990000e+02\n",
                  "legistlative_entities_lobbied                        3.074000e+03\n",
                  "executive_entities_lobbied                           4.505000e+03\n",
                  "dtype: float64\n"
               ]
            }
         ],
         "source": [
            "# get all-organization totals for past 20 years and past 5: find the number of organizations responsible for 50 percent of lobbying\n",
            "total_series = (\n",
            "    df[\n",
            "        [\n",
            "            \"organization\",\n",
            "            \"lobbying_activity_usd\",\n",
            "            \"pct_of_lobbying_dollars_definitely_ccs\",\n",
            "            \"n_entities_lobbied\",\n",
            "            \"energy, dept of\",\n",
            "            \"environmental protection agency (epa)\",\n",
            "            \"legistlative_entities_lobbied\",\n",
            "            \"executive_entities_lobbied\",\n",
            "        ]\n",
            "    ]\n",
            "    .loc[df.definitely_ccs == 1]\n",
            "    .groupby([\"organization\"])\n",
            "    .sum()\n",
            "    .sort_values(\n",
            "        by=[\"lobbying_activity_usd\"],\n",
            "        ascending=False,\n",
            "    )\n",
            "    .head(18)\n",
            "    .sum()\n",
            ")\n",
            "since_2019_series = (\n",
            "    df[\n",
            "        [\n",
            "            \"organization\",\n",
            "            \"lobbying_activity_usd\",\n",
            "            \"pct_of_lobbying_dollars_definitely_ccs_since_2019\",\n",
            "            \"n_entities_lobbied\",\n",
            "            \"energy, dept of\",\n",
            "            \"environmental protection agency (epa)\",\n",
            "            \"legistlative_entities_lobbied\",\n",
            "            \"executive_entities_lobbied\",\n",
            "        ]\n",
            "    ]\n",
            "    .loc[(df.definitely_ccs == 1) & (df.filing_year > 2018)]\n",
            "    .groupby([\"organization\"])\n",
            "    .sum()\n",
            "    .sort_values(\n",
            "        by=[\"lobbying_activity_usd\"],\n",
            "        ascending=False,\n",
            "    )\n",
            "    .head(22)\n",
            "    .sum()\n",
            ")\n",
            "print(\" *** Heavy-hitting organizations, 2005-2024 ***\")\n",
            "print(total_series)\n",
            "print(\"\")\n",
            "print(\" *** Heavy-hitting organizations, 2019-2024 ***\")\n",
            "print(since_2019_series)"
         ]
      },
      {
         "cell_type": "markdown",
         "metadata": {},
         "source": [
            "### Summary figure: definite CCS lobbying by sector, through time"
         ]
      },
      {
         "cell_type": "code",
         "execution_count": 30,
         "metadata": {},
         "outputs": [
            {
               "data": {
                  "text/plain": [
                     "Text(0.5, 1.0, 'Dollars spent lobbying the US Federal Government regarding CCS')"
                  ]
               },
               "execution_count": 30,
               "metadata": {},
               "output_type": "execute_result"
            },
            {
               "data": {
                  "image/png": "[encoded data removed]",
                  "text/plain": [
                     "<Figure size 1700x500 with 1 Axes>"
                  ]
               },
               "metadata": {},
               "output_type": "display_data"
            }
         ],
         "source": [
            "# for histogram hue ordering:\n",
            "sector_for_group = \"very_lumped_sector\"\n",
            "sector_order = list(\n",
            "    df[[sector_for_group, \"lobbying_activity_usd\"]]\n",
            "    .groupby(sector_for_group)\n",
            "    .sum()\n",
            "    .sort_values(by=\"lobbying_activity_usd\", ascending=False)\n",
            "    .index\n",
            ")\n",
            "\n",
            "# lobbying_activity_usd\n",
            "years = list(range(2004, 2025))\n",
            "\n",
            "tmp_df = (\n",
            "    df[[\"filing_year\", \"lobbying_activity_usd\", sector_for_group]]\n",
            "    .loc[(df.definitely_ccs == 1)]\n",
            "    .groupby([sector_for_group, \"filing_year\"])\n",
            "    .sum()\n",
            "    .sort_values(by=\"lobbying_activity_usd\", ascending=False)\n",
            "    .reset_index()\n",
            ").copy(deep=True)\n",
            "tmp_df.rename(columns={\"very_lumped_sector\": \"Sector\"}, inplace=True)\n",
            "fig, ax = plt.subplots(1, 1, figsize=(17, 5))\n",
            "ax = sns.histplot(\n",
            "    data=tmp_df,\n",
            "    x=\"filing_year\",\n",
            "    bins=[0.5 + x for x in years],\n",
            "    hue=\"Sector\",\n",
            "    hue_order=sector_order,\n",
            "    shrink=0.9,\n",
            "    weights=\"lobbying_activity_usd\",\n",
            "    multiple=\"stack\",\n",
            "    palette=\"tab10\",\n",
            ")\n",
            "ax.set_xticks(years)\n",
            "ax.set_xticklabels([str(x) for x in years], fontsize=13)\n",
            "ax.set_yticks([0.0e8, 0.2e8, 0.4e8, 0.6e8, 0.8e8, 1e8, 1.2e8])\n",
            "ax.set_yticklabels([0, 20, 40, 60, 80, 100, 120], fontsize=14)\n",
            "ax.set_axisbelow(True)\n",
            "ax.yaxis.grid()\n",
            "ax.set_ylabel(\"Million USD ($)\", fontsize=14)\n",
            "ax.set_xlabel(\"\")\n",
            "# ax.legend(ncols=3, loc=\"upper center\")\n",
            "ax.set_title(\n",
            "    \"Dollars spent lobbying the US Federal Government regarding CCS\", fontsize=18\n",
            ")"
         ]
      },
      {
         "cell_type": "markdown",
         "metadata": {},
         "source": [
            "## Uber-lumped summary figure of lobbying through time \n",
            "same as above, but with even-more-lumped data. matches treemap"
         ]
      },
      {
         "cell_type": "code",
         "execution_count": 31,
         "metadata": {},
         "outputs": [
            {
               "data": {
                  "text/plain": [
                     "Text(0.5, 1.0, 'Dollars spent lobbying the US Federal Government regarding CCS')"
                  ]
               },
               "execution_count": 31,
               "metadata": {},
               "output_type": "execute_result"
            },
            {
               "data": {
                  "image/png": "[encoded data removed]",
                  "text/plain": [
                     "<Figure size 1500x500 with 1 Axes>"
                  ]
               },
               "metadata": {},
               "output_type": "display_data"
            }
         ],
         "source": [
            "sns.set_context(\"talk\")  # for histogram hue ordering\n",
            "sector_for_group = \"uber_lumped_sector\"\n",
            "\n",
            "# assign colors to sector groups:\n",
            "uber_lumped_color_dict = {\n",
            "    '\"Green\"': \"darkseagreen\",\n",
            "    \"Other\": \"darkkhaki\",\n",
            "    \"Non-FF Industry\": \"firebrick\",\n",
            "    \"Core Fossil Fuels\": \"dimgrey\",\n",
            "    \"Fossil-Fuel Adjacent\": \"darkgrey\",\n",
            "    \"Nonprofit/Issue Advocacy\": \"cornflowerblue\",\n",
            "}\n",
            "sector_order = list(\n",
            "    df[[sector_for_group, \"lobbying_activity_usd\"]]\n",
            "    .groupby(sector_for_group)\n",
            "    .sum()\n",
            "    .sort_values(by=\"lobbying_activity_usd\", ascending=False)\n",
            "    .index\n",
            ")\n",
            "\n",
            "# lobbying_activity_usd\n",
            "years = list(range(2005, 2025))\n",
            "\n",
            "tmp_df = (\n",
            "    df[[\"filing_year\", \"lobbying_activity_usd\", sector_for_group]]\n",
            "    .loc[(df.definitely_ccs == 1)]\n",
            "    .groupby([sector_for_group, \"filing_year\"])\n",
            "    .sum()\n",
            "    .sort_values(by=\"lobbying_activity_usd\", ascending=False)\n",
            "    .reset_index()\n",
            ").copy(deep=True)\n",
            "tmp_df.rename(columns={sector_for_group: \"Sector\"}, inplace=True)\n",
            "# fig, ax = plt.subplots(\n",
            "#    1, 1, figsize=(15, 7)\n",
            "# )  # bigger for paper plot (also change legend line below)\n",
            "fig, ax = plt.subplots(\n",
            "    1, 1, figsize=(15, 5)\n",
            ")  # thinner for presentation (also change legend line below)\n",
            "ax = sns.histplot(\n",
            "    data=tmp_df,\n",
            "    x=\"filing_year\",\n",
            "    bins=[0.5 + x for x in years],\n",
            "    hue=\"Sector\",\n",
            "    hue_order=sector_order,\n",
            "    shrink=0.9,\n",
            "    alpha=1,\n",
            "    weights=\"lobbying_activity_usd\",\n",
            "    multiple=\"stack\",\n",
            "    palette=uber_lumped_color_dict,\n",
            ")\n",
            "ax.set_xticks(years)\n",
            "ax.set_xticklabels([str(x) for x in years], fontsize=13)\n",
            "ax.set_yticks([0.0e8, 0.2e8, 0.4e8, 0.6e8, 0.8e8, 1e8, 1.2e8])\n",
            "ax.set_yticklabels([0, 20, 40, 60, 80, 100, 120], fontsize=14)\n",
            "ax.set_axisbelow(True)\n",
            "ax.yaxis.grid()\n",
            "ax.set_ylabel(\"Million USD ($)\", fontsize=14)\n",
            "ax.set_xlabel(\"\")\n",
            "# ax.legend(\"\")\n",
            "ax.set_title(\n",
            "    \"Dollars spent lobbying the US Federal Government regarding CCS\", fontsize=18\n",
            ")"
         ]
      },
      {
         "cell_type": "markdown",
         "metadata": {},
         "source": [
            "### Figure showing higher education CCS lobbying through time"
         ]
      },
      {
         "cell_type": "code",
         "execution_count": 32,
         "metadata": {},
         "outputs": [
            {
               "data": {
                  "text/plain": [
                     "Text(0.5, 1.0, 'University federal CCUS lobbying efforts')"
                  ]
               },
               "execution_count": 32,
               "metadata": {},
               "output_type": "execute_result"
            },
            {
               "data": {
                  "image/png": "[encoded data removed]",
                  "text/plain": [
                     "<Figure size 1500x500 with 2 Axes>"
                  ]
               },
               "metadata": {},
               "output_type": "display_data"
            }
         ],
         "source": [
            "sns.set_context(\"talk\")  # for histogram hue ordering:\n",
            "\n",
            "# lobbying_activity_usd\n",
            "years = list(range(2005, 2025))\n",
            "\n",
            "tmp_df = (\n",
            "    df[[\"filing_year\", \"lobbying_activity_usd\", \"n_entities_lobbied\"]]\n",
            "    .loc[(df.definitely_ccs == 1) & (df.sector == \"higher education\")]\n",
            "    .groupby(\"filing_year\")\n",
            "    .sum()\n",
            "    .reset_index()\n",
            ").copy(deep=True)\n",
            "\n",
            "fig, ax = plt.subplots(1, 1, figsize=(15, 5))\n",
            "ax2 = ax.twinx()\n",
            "ax.bar(\n",
            "    x=tmp_df.filing_year,\n",
            "    height=tmp_df.lobbying_activity_usd,\n",
            ")\n",
            "ax2.plot(tmp_df.filing_year, tmp_df.n_entities_lobbied, \"r.--\")\n",
            "ax2.set_ylabel(\"Number of lobbying contacts\", fontsize=14)\n",
            "ax.set_xticks(years)\n",
            "ax.set_xticklabels([str(x) for x in years], fontsize=13)\n",
            "ax.yaxis.grid()\n",
            "ax.set_ylabel(\"USD spent lobbying US govt.\", fontsize=14)\n",
            "ax.set_xlabel(\"\")\n",
            "# ax.legend(ncols=3, loc=\"upper center\")#\n",
            "ax.set_title(\"University federal CCUS lobbying efforts\", fontsize=18)"
         ]
      },
      {
         "cell_type": "markdown",
         "metadata": {},
         "source": [
            "### Figure showing major CCS lobbiers lobbying dollars spent through time"
         ]
      },
      {
         "cell_type": "code",
         "execution_count": 33,
         "metadata": {},
         "outputs": [
            {
               "data": {
                  "text/plain": [
                     "Text(0.5, 0, '')"
                  ]
               },
               "execution_count": 33,
               "metadata": {},
               "output_type": "execute_result"
            },
            {
               "data": {
                  "image/png": "[encoded data removed]",
                  "text/plain": [
                     "<Figure size 1700x500 with 1 Axes>"
                  ]
               },
               "metadata": {},
               "output_type": "display_data"
            }
         ],
         "source": [
            "top_10 = [\n",
            "    \"OCCIDENTAL PETROLEUM\",\n",
            "    \"SOUTHERN COMPANY\",\n",
            "    \"EXXONMOBIL\",\n",
            "    \"EDISON ELECTRIC INSTITUTE\",\n",
            "    \"AMERICAN ELECTRIC POWER\",\n",
            "    \"US CHAMBER OF COMMERCE\",\n",
            "    \"SHELL\",\n",
            "    \"DUKE\",\n",
            "    \"BP AMERICA\",\n",
            "    \"CHEVRON\",\n",
            "]\n",
            "top_3 = [\"EXXONMOBIL\", \"OCCIDENTAL PETROLEUM\", \"SOUTHERN COMPANY\"]\n",
            "top_5 = [\n",
            "    \"OCCIDENTAL PETROLEUM\",\n",
            "    \"SOUTHERN COMPANY\",\n",
            "    \"EXXONMOBIL\",\n",
            "    \"EDISON ELECTRIC INSTITUTE\",\n",
            "    \"AMERICAN ELECTRIC POWER\",\n",
            "]\n",
            "top_df = (\n",
            "    df[[\"lobbying_activity_usd\", \"n_entities_lobbied\", \"organization\", \"filing_year\"]]\n",
            "    .loc[(df.very_likely_ccs == 1) & (df.organization.isin(top_5))]\n",
            "    .groupby([\"filing_year\", \"organization\"])\n",
            "    .sum()\n",
            "    .sort_values(by=\"lobbying_activity_usd\", ascending=False)\n",
            ")\n",
            "\n",
            "years = list(range(2005, 2025))\n",
            "\n",
            "fig, ax = plt.subplots(1, 1, figsize=(17, 5))\n",
            "ax = sns.histplot(\n",
            "    data=top_df,\n",
            "    x=\"filing_year\",\n",
            "    bins=[0.5 + x for x in years],\n",
            "    hue=\"organization\",\n",
            "    shrink=0.9,\n",
            "    weights=\"lobbying_activity_usd\",\n",
            "    multiple=\"stack\",\n",
            ")\n",
            "ax.set_xticks(years)\n",
            "ax.set_xticklabels([str(x) for x in years], fontsize=13)\n",
            "ax.set_yticks(\n",
            "    [\n",
            "        0,\n",
            "        0.05e8,\n",
            "        0.1e8,\n",
            "        0.15e8,\n",
            "        0.20e8,\n",
            "        0.25e8,\n",
            "    ]\n",
            ")\n",
            "ax.set_yticklabels([0, 5, 10, 15, 20, 25], fontsize=14)\n",
            "ax.set_axisbelow(True)\n",
            "ax.yaxis.grid()\n",
            "ax.set_ylabel(\"Million USD ($)\", fontsize=14)\n",
            "ax.set_xlabel(\"\")\n",
            "# ax.legend(ncols=3, loc=\"upper center\")"
         ]
      },
      {
         "cell_type": "markdown",
         "metadata": {},
         "source": [
            "### Quantify steel industry's environmental lobbying that *DOESNT* relate to CCS"
         ]
      },
      {
         "cell_type": "code",
         "execution_count": 34,
         "metadata": {},
         "outputs": [
            {
               "name": "stdout",
               "output_type": "stream",
               "text": [
                  "We'll focus on activities that are not even potentially CCS activities: \n"
               ]
            },
            {
               "data": {
                  "text/plain": [
                     "potentially_ccs\n",
                     "0    6087\n",
                     "1     232\n",
                     "Name: count, dtype: int64"
                  ]
               },
               "execution_count": 34,
               "metadata": {},
               "output_type": "execute_result"
            }
         ],
         "source": [
            "steel_df = trim_dates(\n",
            "    pd.read_csv(PATH_TO_POSTPROCESSED_STEEL_INDUSTRY_FILINGS),\n",
            "    yr=2024,\n",
            "    period=3,\n",
            "    how=\"lte\",\n",
            "    yr_col=\"filing_year\",\n",
            "    period_col=\"filing_period\",\n",
            ")\n",
            "print(\"We'll focus on activities that are not even potentially CCS activities: \")\n",
            "steel_df.potentially_ccs.value_counts()"
         ]
      },
      {
         "cell_type": "code",
         "execution_count": 35,
         "metadata": {},
         "outputs": [],
         "source": [
            "# identify lobbying activities dealing with 'environmental' subjects\n",
            "steel_df[\"environmental\"] = [\n",
            "    1\n",
            "    if terms_present(\n",
            "        x,\n",
            "        [\n",
            "            \"environment\",\n",
            "            \"sustainability\",\n",
            "            \"sustain\",\n",
            "            \"renewable\",\n",
            "            \"climate\",\n",
            "            \"net zero\",\n",
            "            \"greenhouse\",\n",
            "            \"paris accord\",\n",
            "            \"low carbon\",\n",
            "            \"carbon neutral\",\n",
            "            \"carbon-neutral\",\n",
            "            \"emission\",\n",
            "            \"air quality\",\n",
            "            \"recycle\",\n",
            "            \"recycled\",\n",
            "            \"recycling\",\n",
            "            \"carbon dioxide\",\n",
            "            \"solar\",\n",
            "            \"wind\",\n",
            "            \"clean air\",\n",
            "            \"co2\",\n",
            "            \"green hydrogen\",\n",
            "            \"carbondioxide\",\n",
            "            \"GHG\",\n",
            "            \"pollution\",\n",
            "            \"green steel\",\n",
            "            \"pollutant\",\n",
            "            \"green h2\",\n",
            "            \"zero emission\",\n",
            "            \"reduced carbon\",\n",
            "            \"zero-emission\",\n",
            "            \"zero carbon\",\n",
            "            \"zerocarbon\",\n",
            "            \"lowcarbon\",\n",
            "            \"carbonneutral\",\n",
            "            \"earth friendly\",\n",
            "            \"cafe standard\",\n",
            "            \"low waste\",\n",
            "        ],\n",
            "    )\n",
            "    else 0\n",
            "    for x in steel_df.cleaned_activity_description\n",
            "]\n",
            "# steel_df.loc[steel_df.potentially_ccs == 0].environmental.value_counts()"
         ]
      },
      {
         "cell_type": "code",
         "execution_count": 36,
         "metadata": {},
         "outputs": [
            {
               "name": "stdout",
               "output_type": "stream",
               "text": [
                  "The steel industry spent $53302725 between 2005 and 2024 lobbying regarding non-CCS environmental topics\n",
                  "The steel industry spent $5064781 between 2005 and 2024 lobbying about CCS\n",
                  "That's a 10:1 difference.\n"
               ]
            }
         ],
         "source": [
            "total_non_ccs_environmental_dollars_steel = steel_df.loc[\n",
            "    (steel_df.environmental == 1)\n",
            "    & (steel_df.potentially_ccs == 0)\n",
            "    & (steel_df.sector == \"iron and steel\")\n",
            "].lobbying_activity_usd.sum()\n",
            "\n",
            "total_ccs_dollars_steel = steel_df.loc[\n",
            "    (steel_df.definitely_ccs == 1) & (steel_df.sector == \"iron and steel\")\n",
            "].lobbying_activity_usd.sum()\n",
            "print(\n",
            "    f\"The steel industry spent ${total_non_ccs_environmental_dollars_steel:.0f} between 2005 and 2024 lobbying regarding non-CCS environmental topics\"\n",
            ")\n",
            "print(\n",
            "    f\"The steel industry spent ${total_ccs_dollars_steel:.0f} between 2005 and 2024 lobbying about CCS\"\n",
            ")\n",
            "print(\n",
            "    f\"That's a {int(total_non_ccs_environmental_dollars_steel/total_ccs_dollars_steel)}:1 difference.\"\n",
            ")"
         ]
      },
      {
         "cell_type": "markdown",
         "metadata": {},
         "source": [
            "### Compute the fraction of the total CCS lobbying"
         ]
      },
      {
         "cell_type": "code",
         "execution_count": 37,
         "metadata": {},
         "outputs": [],
         "source": [
            "big_spenders_total_df = trim_dates(\n",
            "    pd.read_csv(PATH_TO_POSTPROCESSED_BIG_SPENDERS_FILINGS),\n",
            "    yr=2024,\n",
            "    period=3,\n",
            "    how=\"lte\",\n",
            "    yr_col=\"filing_year\",\n",
            "    period_col=\"filing_period\",\n",
            ")\n",
            "\n",
            "big_spenders_total_df.lobbying_activity_usd.fillna(0, inplace=True)"
         ]
      },
      {
         "cell_type": "code",
         "execution_count": 38,
         "metadata": {},
         "outputs": [
            {
               "data": {
                  "text/html": [
                     "<div>\n",
                     "<style scoped>\n",
                     "    .dataframe tbody tr th:only-of-type {\n",
                     "        vertical-align: middle;\n",
                     "    }\n",
                     "\n",
                     "    .dataframe tbody tr th {\n",
                     "        vertical-align: top;\n",
                     "    }\n",
                     "\n",
                     "    .dataframe thead th {\n",
                     "        text-align: right;\n",
                     "    }\n",
                     "</style>\n",
                     "<table border=\"1\" class=\"dataframe\">\n",
                     "  <thead>\n",
                     "    <tr style=\"text-align: right;\">\n",
                     "      <th></th>\n",
                     "      <th>ccs_fraction</th>\n",
                     "      <th>all_lobbying_activity_usd_2005_2024</th>\n",
                     "      <th>ccs_lobbying_activity_usd_2005_2024</th>\n",
                     "    </tr>\n",
                     "    <tr>\n",
                     "      <th>organization</th>\n",
                     "      <th></th>\n",
                     "      <th></th>\n",
                     "      <th></th>\n",
                     "    </tr>\n",
                     "  </thead>\n",
                     "  <tbody>\n",
                     "    <tr>\n",
                     "      <th>OCCIDENTAL PETROLEUM</th>\n",
                     "      <td>0.344055</td>\n",
                     "      <td>2.033345e+08</td>\n",
                     "      <td>6.995831e+07</td>\n",
                     "    </tr>\n",
                     "    <tr>\n",
                     "      <th>SOUTHERN COMPANY</th>\n",
                     "      <td>0.181214</td>\n",
                     "      <td>3.018945e+08</td>\n",
                     "      <td>5.470742e+07</td>\n",
                     "    </tr>\n",
                     "    <tr>\n",
                     "      <th>EXXONMOBIL</th>\n",
                     "      <td>0.116789</td>\n",
                     "      <td>3.427125e+08</td>\n",
                     "      <td>4.002514e+07</td>\n",
                     "    </tr>\n",
                     "    <tr>\n",
                     "      <th>EDISON ELECTRIC INSTITUTE</th>\n",
                     "      <td>0.087819</td>\n",
                     "      <td>3.149479e+08</td>\n",
                     "      <td>2.765837e+07</td>\n",
                     "    </tr>\n",
                     "    <tr>\n",
                     "      <th>AMERICAN ELECTRIC POWER</th>\n",
                     "      <td>0.155154</td>\n",
                     "      <td>1.479940e+08</td>\n",
                     "      <td>2.296191e+07</td>\n",
                     "    </tr>\n",
                     "    <tr>\n",
                     "      <th>SHELL</th>\n",
                     "      <td>0.104471</td>\n",
                     "      <td>2.005255e+08</td>\n",
                     "      <td>2.094918e+07</td>\n",
                     "    </tr>\n",
                     "    <tr>\n",
                     "      <th>CHEVRON</th>\n",
                     "      <td>0.060841</td>\n",
                     "      <td>2.998302e+08</td>\n",
                     "      <td>1.824197e+07</td>\n",
                     "    </tr>\n",
                     "    <tr>\n",
                     "      <th>DUKE</th>\n",
                     "      <td>0.089601</td>\n",
                     "      <td>1.882239e+08</td>\n",
                     "      <td>1.686501e+07</td>\n",
                     "    </tr>\n",
                     "    <tr>\n",
                     "      <th>BP AMERICA</th>\n",
                     "      <td>0.094566</td>\n",
                     "      <td>1.642511e+08</td>\n",
                     "      <td>1.553254e+07</td>\n",
                     "    </tr>\n",
                     "    <tr>\n",
                     "      <th>CALPINE</th>\n",
                     "      <td>0.287490</td>\n",
                     "      <td>5.241438e+07</td>\n",
                     "      <td>1.506863e+07</td>\n",
                     "    </tr>\n",
                     "    <tr>\n",
                     "      <th>PACIFIC GAS AND ELECTRIC</th>\n",
                     "      <td>0.073725</td>\n",
                     "      <td>1.830250e+08</td>\n",
                     "      <td>1.349359e+07</td>\n",
                     "    </tr>\n",
                     "    <tr>\n",
                     "      <th>US CHAMBER OF COMMERCE</th>\n",
                     "      <td>0.008274</td>\n",
                     "      <td>1.499999e+09</td>\n",
                     "      <td>1.241025e+07</td>\n",
                     "    </tr>\n",
                     "    <tr>\n",
                     "      <th>PEABODY</th>\n",
                     "      <td>0.178667</td>\n",
                     "      <td>6.773408e+07</td>\n",
                     "      <td>1.210186e+07</td>\n",
                     "    </tr>\n",
                     "    <tr>\n",
                     "      <th>TRANSCANADA</th>\n",
                     "      <td>0.385061</td>\n",
                     "      <td>2.677500e+07</td>\n",
                     "      <td>1.031000e+07</td>\n",
                     "    </tr>\n",
                     "    <tr>\n",
                     "      <th>CONOCOPHILLIPS</th>\n",
                     "      <td>0.060964</td>\n",
                     "      <td>1.547707e+08</td>\n",
                     "      <td>9.435384e+06</td>\n",
                     "    </tr>\n",
                     "    <tr>\n",
                     "      <th>AMERICAN PETROLEUM INSTITUTE</th>\n",
                     "      <td>0.054209</td>\n",
                     "      <td>1.691859e+08</td>\n",
                     "      <td>9.171349e+06</td>\n",
                     "    </tr>\n",
                     "    <tr>\n",
                     "      <th>AIR PRODUCTS AND CHEMICALS</th>\n",
                     "      <td>0.346762</td>\n",
                     "      <td>2.414100e+07</td>\n",
                     "      <td>8.371190e+06</td>\n",
                     "    </tr>\n",
                     "    <tr>\n",
                     "      <th>NATIONAL RURAL ELECTRIC COOPERATIVE ASSOCIATION</th>\n",
                     "      <td>0.084231</td>\n",
                     "      <td>8.938548e+07</td>\n",
                     "      <td>7.529027e+06</td>\n",
                     "    </tr>\n",
                     "    <tr>\n",
                     "      <th>HONEYWELL INTERNATIONAL</th>\n",
                     "      <td>0.044269</td>\n",
                     "      <td>1.692880e+08</td>\n",
                     "      <td>7.494232e+06</td>\n",
                     "    </tr>\n",
                     "    <tr>\n",
                     "      <th>PHILLIPS 66</th>\n",
                     "      <td>0.144884</td>\n",
                     "      <td>5.092000e+07</td>\n",
                     "      <td>7.377504e+06</td>\n",
                     "    </tr>\n",
                     "    <tr>\n",
                     "      <th>AMERICAN CHEMISTRY COUNCIL</th>\n",
                     "      <td>0.027204</td>\n",
                     "      <td>2.524542e+08</td>\n",
                     "      <td>6.867743e+06</td>\n",
                     "    </tr>\n",
                     "    <tr>\n",
                     "      <th>SEMPRA</th>\n",
                     "      <td>0.100457</td>\n",
                     "      <td>6.222923e+07</td>\n",
                     "      <td>6.251389e+06</td>\n",
                     "    </tr>\n",
                     "    <tr>\n",
                     "      <th>MARATHON</th>\n",
                     "      <td>0.042537</td>\n",
                     "      <td>1.356428e+08</td>\n",
                     "      <td>5.769808e+06</td>\n",
                     "    </tr>\n",
                     "    <tr>\n",
                     "      <th>NATIONAL GRID</th>\n",
                     "      <td>0.096408</td>\n",
                     "      <td>5.675620e+07</td>\n",
                     "      <td>5.471738e+06</td>\n",
                     "    </tr>\n",
                     "    <tr>\n",
                     "      <th>KOCH INDUSTRIES</th>\n",
                     "      <td>0.021772</td>\n",
                     "      <td>2.298855e+08</td>\n",
                     "      <td>5.004995e+06</td>\n",
                     "    </tr>\n",
                     "    <tr>\n",
                     "      <th>WILLIAMS COMPANIES</th>\n",
                     "      <td>0.091374</td>\n",
                     "      <td>5.299662e+07</td>\n",
                     "      <td>4.842500e+06</td>\n",
                     "    </tr>\n",
                     "    <tr>\n",
                     "      <th>AIR LIQUIDE</th>\n",
                     "      <td>0.382366</td>\n",
                     "      <td>1.214500e+07</td>\n",
                     "      <td>4.643833e+06</td>\n",
                     "    </tr>\n",
                     "    <tr>\n",
                     "      <th>ENBRIDGE</th>\n",
                     "      <td>0.163064</td>\n",
                     "      <td>2.840500e+07</td>\n",
                     "      <td>4.631825e+06</td>\n",
                     "    </tr>\n",
                     "    <tr>\n",
                     "      <th>POET</th>\n",
                     "      <td>0.134588</td>\n",
                     "      <td>3.276190e+07</td>\n",
                     "      <td>4.409347e+06</td>\n",
                     "    </tr>\n",
                     "    <tr>\n",
                     "      <th>EQUINOR</th>\n",
                     "      <td>0.177444</td>\n",
                     "      <td>1.840280e+07</td>\n",
                     "      <td>3.265470e+06</td>\n",
                     "    </tr>\n",
                     "  </tbody>\n",
                     "</table>\n",
                     "</div>"
                  ],
                  "text/plain": [
                     "                                                 ccs_fraction  \\\n",
                     "organization                                                    \n",
                     "OCCIDENTAL PETROLEUM                                 0.344055   \n",
                     "SOUTHERN COMPANY                                     0.181214   \n",
                     "EXXONMOBIL                                           0.116789   \n",
                     "EDISON ELECTRIC INSTITUTE                            0.087819   \n",
                     "AMERICAN ELECTRIC POWER                              0.155154   \n",
                     "SHELL                                                0.104471   \n",
                     "CHEVRON                                              0.060841   \n",
                     "DUKE                                                 0.089601   \n",
                     "BP AMERICA                                           0.094566   \n",
                     "CALPINE                                              0.287490   \n",
                     "PACIFIC GAS AND ELECTRIC                             0.073725   \n",
                     "US CHAMBER OF COMMERCE                               0.008274   \n",
                     "PEABODY                                              0.178667   \n",
                     "TRANSCANADA                                          0.385061   \n",
                     "CONOCOPHILLIPS                                       0.060964   \n",
                     "AMERICAN PETROLEUM INSTITUTE                         0.054209   \n",
                     "AIR PRODUCTS AND CHEMICALS                           0.346762   \n",
                     "NATIONAL RURAL ELECTRIC COOPERATIVE ASSOCIATION      0.084231   \n",
                     "HONEYWELL INTERNATIONAL                              0.044269   \n",
                     "PHILLIPS 66                                          0.144884   \n",
                     "AMERICAN CHEMISTRY COUNCIL                           0.027204   \n",
                     "SEMPRA                                               0.100457   \n",
                     "MARATHON                                             0.042537   \n",
                     "NATIONAL GRID                                        0.096408   \n",
                     "KOCH INDUSTRIES                                      0.021772   \n",
                     "WILLIAMS COMPANIES                                   0.091374   \n",
                     "AIR LIQUIDE                                          0.382366   \n",
                     "ENBRIDGE                                             0.163064   \n",
                     "POET                                                 0.134588   \n",
                     "EQUINOR                                              0.177444   \n",
                     "\n",
                     "                                                 all_lobbying_activity_usd_2005_2024  \\\n",
                     "organization                                                                           \n",
                     "OCCIDENTAL PETROLEUM                                                    2.033345e+08   \n",
                     "SOUTHERN COMPANY                                                        3.018945e+08   \n",
                     "EXXONMOBIL                                                              3.427125e+08   \n",
                     "EDISON ELECTRIC INSTITUTE                                               3.149479e+08   \n",
                     "AMERICAN ELECTRIC POWER                                                 1.479940e+08   \n",
                     "SHELL                                                                   2.005255e+08   \n",
                     "CHEVRON                                                                 2.998302e+08   \n",
                     "DUKE                                                                    1.882239e+08   \n",
                     "BP AMERICA                                                              1.642511e+08   \n",
                     "CALPINE                                                                 5.241438e+07   \n",
                     "PACIFIC GAS AND ELECTRIC                                                1.830250e+08   \n",
                     "US CHAMBER OF COMMERCE                                                  1.499999e+09   \n",
                     "PEABODY                                                                 6.773408e+07   \n",
                     "TRANSCANADA                                                             2.677500e+07   \n",
                     "CONOCOPHILLIPS                                                          1.547707e+08   \n",
                     "AMERICAN PETROLEUM INSTITUTE                                            1.691859e+08   \n",
                     "AIR PRODUCTS AND CHEMICALS                                              2.414100e+07   \n",
                     "NATIONAL RURAL ELECTRIC COOPERATIVE ASSOCIATION                         8.938548e+07   \n",
                     "HONEYWELL INTERNATIONAL                                                 1.692880e+08   \n",
                     "PHILLIPS 66                                                             5.092000e+07   \n",
                     "AMERICAN CHEMISTRY COUNCIL                                              2.524542e+08   \n",
                     "SEMPRA                                                                  6.222923e+07   \n",
                     "MARATHON                                                                1.356428e+08   \n",
                     "NATIONAL GRID                                                           5.675620e+07   \n",
                     "KOCH INDUSTRIES                                                         2.298855e+08   \n",
                     "WILLIAMS COMPANIES                                                      5.299662e+07   \n",
                     "AIR LIQUIDE                                                             1.214500e+07   \n",
                     "ENBRIDGE                                                                2.840500e+07   \n",
                     "POET                                                                    3.276190e+07   \n",
                     "EQUINOR                                                                 1.840280e+07   \n",
                     "\n",
                     "                                                 ccs_lobbying_activity_usd_2005_2024  \n",
                     "organization                                                                          \n",
                     "OCCIDENTAL PETROLEUM                                                    6.995831e+07  \n",
                     "SOUTHERN COMPANY                                                        5.470742e+07  \n",
                     "EXXONMOBIL                                                              4.002514e+07  \n",
                     "EDISON ELECTRIC INSTITUTE                                               2.765837e+07  \n",
                     "AMERICAN ELECTRIC POWER                                                 2.296191e+07  \n",
                     "SHELL                                                                   2.094918e+07  \n",
                     "CHEVRON                                                                 1.824197e+07  \n",
                     "DUKE                                                                    1.686501e+07  \n",
                     "BP AMERICA                                                              1.553254e+07  \n",
                     "CALPINE                                                                 1.506863e+07  \n",
                     "PACIFIC GAS AND ELECTRIC                                                1.349359e+07  \n",
                     "US CHAMBER OF COMMERCE                                                  1.241025e+07  \n",
                     "PEABODY                                                                 1.210186e+07  \n",
                     "TRANSCANADA                                                             1.031000e+07  \n",
                     "CONOCOPHILLIPS                                                          9.435384e+06  \n",
                     "AMERICAN PETROLEUM INSTITUTE                                            9.171349e+06  \n",
                     "AIR PRODUCTS AND CHEMICALS                                              8.371190e+06  \n",
                     "NATIONAL RURAL ELECTRIC COOPERATIVE ASSOCIATION                         7.529027e+06  \n",
                     "HONEYWELL INTERNATIONAL                                                 7.494232e+06  \n",
                     "PHILLIPS 66                                                             7.377504e+06  \n",
                     "AMERICAN CHEMISTRY COUNCIL                                              6.867743e+06  \n",
                     "SEMPRA                                                                  6.251389e+06  \n",
                     "MARATHON                                                                5.769808e+06  \n",
                     "NATIONAL GRID                                                           5.471738e+06  \n",
                     "KOCH INDUSTRIES                                                         5.004995e+06  \n",
                     "WILLIAMS COMPANIES                                                      4.842500e+06  \n",
                     "AIR LIQUIDE                                                             4.643833e+06  \n",
                     "ENBRIDGE                                                                4.631825e+06  \n",
                     "POET                                                                    4.409347e+06  \n",
                     "EQUINOR                                                                 3.265470e+06  "
                  ]
               },
               "execution_count": 38,
               "metadata": {},
               "output_type": "execute_result"
            }
         ],
         "source": [
            "ccs_lobbying_df = (\n",
            "    big_spenders_total_df[[\"organization\", \"lobbying_activity_usd\"]]\n",
            "    .loc[big_spenders_total_df.definitely_ccs == 1]\n",
            "    .groupby(\"organization\")\n",
            "    .sum()\n",
            "    .sort_values(by=\"lobbying_activity_usd\", ascending=False)\n",
            ")\n",
            "ccs_lobbying_df.columns = [\"ccs_lobbying_activity_usd_2005_2024\"]\n",
            "total_lobbying_df = (\n",
            "    big_spenders_total_df[[\"organization\", \"lobbying_activity_usd\"]]\n",
            "    .groupby(\"organization\")\n",
            "    .sum()\n",
            "    .sort_values(by=\"lobbying_activity_usd\", ascending=False)\n",
            ")\n",
            "total_lobbying_df.columns = [\"all_lobbying_activity_usd_2005_2024\"]\n",
            "ccs_fraction_df = total_lobbying_df.merge(\n",
            "    ccs_lobbying_df, left_index=True, right_index=True, how=\"right\"\n",
            ")\n",
            "ccs_fraction_df[\"ccs_fraction\"] = [\n",
            "    ccs / a if a > 0 else 0\n",
            "    for ccs, a in zip(\n",
            "        ccs_fraction_df[\"ccs_lobbying_activity_usd_2005_2024\"],\n",
            "        ccs_fraction_df[\"all_lobbying_activity_usd_2005_2024\"],\n",
            "    )\n",
            "]\n",
            "ccs_fraction_df = ccs_fraction_df[\n",
            "    [\n",
            "        \"ccs_fraction\",\n",
            "        \"all_lobbying_activity_usd_2005_2024\",\n",
            "        \"ccs_lobbying_activity_usd_2005_2024\",\n",
            "    ]\n",
            "].sort_values(\n",
            "    by=\"ccs_lobbying_activity_usd_2005_2024\",\n",
            "    ascending=False,\n",
            ")\n",
            "ccs_fraction_df.head(30).to_clipboard()\n",
            "ccs_fraction_df.head(30)"
         ]
      },
      {
         "cell_type": "code",
         "execution_count": null,
         "metadata": {},
         "outputs": [],
         "source": []
      },
      {
         "cell_type": "code",
         "execution_count": null,
         "metadata": {},
         "outputs": [],
         "source": []
      }
   ],
   "metadata": {
      "kernelspec": {
         "display_name": "projects-7_KjhAaO-py3.12",
         "language": "python",
         "name": "projects-7_kjhaao-py3.12"
      },
      "language_info": {
         "codemirror_mode": {
            "name": "ipython",
            "version": 3
         },
         "file_extension": ".py",
         "mimetype": "text/x-python",
         "name": "python",
         "nbconvert_exporter": "python",
         "pygments_lexer": "ipython3",
         "version": "3.12.6"
      }
   },
   "nbformat": 4,
   "nbformat_minor": 2
}
