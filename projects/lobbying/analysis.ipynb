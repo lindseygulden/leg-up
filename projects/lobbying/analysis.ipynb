{
 "cells": [
  {
   "cell_type": "markdown",
   "metadata": {},
   "source": [
    "## Tabulations and figures for CCS-lobbying-activity analysis\n",
    "Lindsey Gulden, lindsey@legupdata.com\n",
    "October 2024, updated February 2025\n",
    "Contains general summary information as well as tables and figures used for Gulden and Harvey ES&P paper, submitted Feb 2025"
   ]
  },
  {
   "cell_type": "code",
   "execution_count": 1,
   "metadata": {},
   "outputs": [
    {
     "data": {
      "text/html": [
       "\n",
       "                <script type=\"application/javascript\" id=\"jupyter_black\">\n",
       "                (function() {\n",
       "                    if (window.IPython === undefined) {\n",
       "                        return\n",
       "                    }\n",
       "                    var msg = \"WARNING: it looks like you might have loaded \" +\n",
       "                        \"jupyter_black in a non-lab notebook with \" +\n",
       "                        \"`is_lab=True`. Please double check, and if \" +\n",
       "                        \"loading with `%load_ext` please review the README!\"\n",
       "                    console.log(msg)\n",
       "                    alert(msg)\n",
       "                })()\n",
       "                </script>\n",
       "                "
      ],
      "text/plain": [
       "<IPython.core.display.HTML object>"
      ]
     },
     "metadata": {},
     "output_type": "display_data"
    }
   ],
   "source": [
    "\n",
    "import pandas as pd\n",
    "from math import ceil\n",
    "\n",
    "from utils.io import yaml_to_dict\n",
    "from projects.lobbying.postproc_utils import terms_present\n",
    "import numpy as np\n",
    "\n",
    "import matplotlib.pyplot as plt\n",
    "import seaborn as sns\n",
    "from matplotlib.patches import Patch\n",
    "from plotly.subplots import make_subplots\n",
    "\n",
    "import plotly.graph_objects as go\n",
    "\n",
    "\n",
    "import re\n",
    "import matplotlib.patheffects as pe\n",
    "from pathlib import Path\n",
    "import plotly.express as px\n",
    "\n",
    "import warnings\n",
    "\n",
    "warnings.filterwarnings(\"ignore\")\n",
    "%load_ext jupyter_black"
   ]
  },
  {
   "cell_type": "markdown",
   "metadata": {},
   "source": [
    "### Define bespoke functions for data processing and analysis"
   ]
  },
  {
   "cell_type": "code",
   "execution_count": 2,
   "metadata": {},
   "outputs": [],
   "source": [
    "def split_on_char(x: str, character=\"\\n\"):\n",
    "    n_char = x.count(character)\n",
    "    if n_char == 0:\n",
    "        return (x, \"\")\n",
    "\n",
    "    indiv_orgs = x.split(character)\n",
    "    first_group = character.join(indiv_orgs[: (ceil((n_char + 1) / 2))])\n",
    "    second_group = character.join(indiv_orgs[(ceil((n_char + 1) / 2)) :])\n",
    "    return (first_group, second_group)\n",
    "\n",
    "\n",
    "def split_on_char3(x: str, character=\"\\n\"):\n",
    "    n_char = x.count(character)\n",
    "    if n_char == 0:\n",
    "        return (x, \"\")\n",
    "\n",
    "    indiv_orgs = x.split(character)\n",
    "    first_group = character.join(indiv_orgs[: (ceil((n_char + 1) / 3))])\n",
    "    second_group = character.join(\n",
    "        indiv_orgs[(ceil((n_char + 1) / 3)) : 2 * (ceil((n_char + 1) / 3))]\n",
    "    )\n",
    "    third_group = character.join(indiv_orgs[2 * (ceil((n_char + 1) / 3)) :])\n",
    "    return (first_group, second_group, third_group)\n",
    "\n",
    "\n",
    "## Bespoke funciton to trim dates treated when importing files (to avoid roping in data from years outside of desired\n",
    "def trim_dates(\n",
    "    df: pd.DataFrame,\n",
    "    yr: int,\n",
    "    period: int,\n",
    "    yr_col: str,\n",
    "    period_col: str,\n",
    "    how: str = \"lte\",\n",
    "):\n",
    "    num_period_col = \"numeric_filing_period\"\n",
    "    df[num_period_col] = df[period_col].replace(\n",
    "        {\n",
    "            \"first_quarter\": 1,\n",
    "            \"second_quarter\": 2,\n",
    "            \"third_quarter\": 3,\n",
    "            \"fourth_quarter\": 4,\n",
    "            \"mid_year\": 2,\n",
    "            \"year_end\": 4,\n",
    "        }\n",
    "    )\n",
    "    df[yr_col] = df[yr_col].astype(int)\n",
    "    if how == \"lte\":\n",
    "        return df.loc[\n",
    "            (df[yr_col] < yr) | ((df[yr_col] == yr) & df[num_period_col] <= period)\n",
    "        ]\n",
    "    elif how == \"lt\":\n",
    "        return df.loc[\n",
    "            (df[yr_col] < yr) | ((df[yr_col] == yr) & df[num_period_col] < period)\n",
    "        ]\n",
    "    elif how == \"gte\":\n",
    "        return df.loc[\n",
    "            (df[yr_col] > yr) | ((df[yr_col] == yr) & df[num_period_col] >= period)\n",
    "        ]\n",
    "    elif how == \"gt\":\n",
    "        return df.loc[\n",
    "            (df[yr_col] > yr) | ((df[yr_col] == yr) & df[num_period_col] > period)\n",
    "        ]\n",
    "    else:\n",
    "        raise ValueError(\n",
    "            'trim_dates paramter how must be one of the following strings: \"lte\", \"lt\", \"gte\", \"gt\"'\n",
    "        )"
   ]
  },
  {
   "cell_type": "markdown",
   "metadata": {},
   "source": [
    "### PATHS TO POSTPROCESSED DATA, YAML CONFIGURATIONS"
   ]
  },
  {
   "cell_type": "code",
   "execution_count": 3,
   "metadata": {},
   "outputs": [],
   "source": [
    "DATA_DIR = Path(\"/Volumes/Samsung_T5/data/lobbying/data_for_lobbying_paper/\")\n",
    "PATH_TO_POSTPROCESSED_FILINGS = DATA_DIR / Path(\"all_ccs_postprocessed_filings.csv\")\n",
    "PATH_TO_POSTPROCESSED_STEEL_INDUSTRY_FILINGS = DATA_DIR / Path(\n",
    "    \"steel_iron_orgs_postprocessed_filings.csv\"\n",
    ")\n",
    "PATH_TO_POSTPROCESSED_BIG_SPENDERS_FILINGS = DATA_DIR / Path(\n",
    "    \"oil_and_gas_orgs_postprocessed_filings.csv\"\n",
    ")\n",
    "PATH_TO_POSTPROC_SPECS_YAML = \"/Users/lindseygulden/dev/leg-up-private/projects/lobbying/definitions/ccs_postproc_specifications.yml\"\n",
    "\n",
    "PATH_TO_HIGHER_EDUCATION_POSTPROC_LOBBYING_FILINGS = DATA_DIR / Path(\n",
    "    \"university_postprocessed_filings.csv\"\n",
    ")"
   ]
  },
  {
   "cell_type": "markdown",
   "metadata": {},
   "source": [
    "### Load postprocessed data, summarize general counts"
   ]
  },
  {
   "cell_type": "code",
   "execution_count": 6,
   "metadata": {},
   "outputs": [
    {
     "data": {
      "text/plain": [
       "ccs_company                1019\n",
       "contains_description       9604\n",
       "ccs_bills                  2899\n",
       "ccs_bills_number_only      3411\n",
       "bills_with_ccs_terms       4020\n",
       "definitely_ccs            12383\n",
       "very_likely_ccs           14174\n",
       "likely_ccs                14742\n",
       "h2_mention_core_ff         2460\n",
       "potentially_ccs           35765\n",
       "ccs_sections_of_bills        91\n",
       "biofuel_with_ccs_terms      805\n",
       "dtype: int64"
      ]
     },
     "execution_count": 6,
     "metadata": {},
     "output_type": "execute_result"
    }
   ],
   "source": [
    "df = trim_dates(\n",
    "    pd.read_csv(PATH_TO_POSTPROCESSED_FILINGS),\n",
    "    yr=2024,\n",
    "    period=4,\n",
    "    how=\"lte\",\n",
    "    yr_col=\"filing_year\",\n",
    "    period_col=\"filing_period\",\n",
    ")\n",
    "df = df.loc[df.organization != \"UNCATEGORIZED\"]\n",
    "df[\n",
    "    [\n",
    "        \"ccs_company\",\n",
    "        \"contains_description\",\n",
    "        \"ccs_bills\",\n",
    "        \"ccs_bills_number_only\",\n",
    "        \"bills_with_ccs_terms\",\n",
    "        \"definitely_ccs\",\n",
    "        \"very_likely_ccs\",\n",
    "        \"likely_ccs\",\n",
    "        \"h2_mention_core_ff\",\n",
    "        \"potentially_ccs\",\n",
    "        \"ccs_sections_of_bills\",\n",
    "        \"biofuel_with_ccs_terms\",\n",
    "    ]\n",
    "].sum()"
   ]
  },
  {
   "cell_type": "markdown",
   "metadata": {},
   "source": [
    "### Subset data to lobbying activities identified as 'definitely CCS'."
   ]
  },
  {
   "cell_type": "code",
   "execution_count": 7,
   "metadata": {},
   "outputs": [],
   "source": [
    "df = df.loc[df.definitely_ccs == 1]"
   ]
  },
  {
   "cell_type": "markdown",
   "metadata": {},
   "source": [
    "### Compute percentages of total dollars and lobbying/entity contacts"
   ]
  },
  {
   "cell_type": "code",
   "execution_count": 8,
   "metadata": {},
   "outputs": [],
   "source": [
    "# compute total dollars spent and contacts made for the purposes of computing percentages\n",
    "\n",
    "tot_dollars = df.lobbying_activity_usd.sum()\n",
    "\n",
    "tot_contacts = df.n_entities_lobbied.sum()\n",
    "\n",
    "tot_dollars_since_2019 = df.loc[df.filing_year > 2018].lobbying_activity_usd.sum()\n",
    "\n",
    "tot_contacts_since_2019 = df.loc[df.filing_year > 2018].n_entities_lobbied.sum()\n",
    "\n",
    "\n",
    "# compute percentages of total dollars and entity contacts for all years\n",
    "df[\"pct_of_lobbying_dollars_definitely_ccs\"] = [\n",
    "    100 * x / tot_dollars for x in df.lobbying_activity_usd\n",
    "]\n",
    "\n",
    "df[\"pct_of_entity_contacts_definitely_ccs\"] = [\n",
    "    100 * x / tot_contacts for x in df.n_entities_lobbied\n",
    "]\n",
    "\n",
    "# compute percentages of total dollars and entity contacts since 2019\n",
    "df[\"pct_of_lobbying_dollars_definitely_ccs_since_2019\"] = [\n",
    "    100 * x / tot_dollars_since_2019 if y > 2018 else 0\n",
    "    for x, y in zip(df.lobbying_activity_usd, df.filing_year)\n",
    "]\n",
    "\n",
    "df[\"pct_of_entity_contacts_definitely_ccs_since_2019\"] = [\n",
    "    100 * x / tot_contacts_since_2019 if y > 2018 else 0\n",
    "    for x, y in zip(df.n_entities_lobbied, df.filing_year)\n",
    "]"
   ]
  },
  {
   "cell_type": "markdown",
   "metadata": {},
   "source": [
    "## Report summary statistics for entire dataset"
   ]
  },
  {
   "cell_type": "code",
   "execution_count": 9,
   "metadata": {},
   "outputs": [
    {
     "name": "stdout",
     "output_type": "stream",
     "text": [
      " --- SUMMARY DATA FOR CCS LOBBYING EFFORT ---\n",
      "\n",
      "Dollars spent:\n",
      "From Jan 1 2019 through December 31 2024 $476122043\n",
      "From Jan 1 2005 through December 31 2024: $786440445\n",
      "\n",
      "Contacts made:\n",
      "From Jan 1 2019 through December 31 2024: 30788\n",
      "From Jan 1 2005 through December 31 2024: 54243\n",
      "\n",
      "CCS lobbying contacts per work day since start of 2019: 20.5\n",
      "\n",
      " --- Sector-specific comparisons of lobbying dollars spent ---\n",
      "Core fossil-fuel-sector industry is responsible for 77% of CCS lobbying dollars\n",
      "Core FF + FF-adjacent industry is responsible for 89% of CCS lobbying dollars\n",
      "Non-fossil-fuel-sector industry is responsible for 3% of CCS lobbying dollars\n",
      "Industry that directly profits from selling or burning fossil fuels spends 24 times as much as non-FF industry on CCS lobbying\n",
      "Fraction of core FF CCS lobbying dollars spent by 'hard to abate' industries' is 0.04\n",
      "\n",
      " --- Sector-specific comparisons of number of entities contacted ---\n",
      "Core fossil-fuel-sector industry is responsible for 58% of CCS lobbying contacts\n",
      "Core FF + FF-adjacent industry is responsible for 75% of CCS lobbying contacts\n",
      "Non-fossil-fuel-sector industry is responsible for 6% of CCS lobbying contacts\n",
      "Industry that directly profits from selling or burning fossil fuels contacts the federal government 9 times as much as non-FF industry on CCS lobbying\n"
     ]
    }
   ],
   "source": [
    "print(\" --- SUMMARY DATA FOR CCS LOBBYING EFFORT ---\")\n",
    "print(\"\")\n",
    "print(\"Dollars spent:\")\n",
    "since_2019 = df.loc[\n",
    "    (df.definitely_ccs == 1) & (df.filing_year > 2018)\n",
    "].lobbying_activity_usd.sum()\n",
    "print(f\"From Jan 1 2019 through December 31 2024 ${since_2019:.0f}\")\n",
    "allyears = df.loc[(df.definitely_ccs == 1)].lobbying_activity_usd.sum()\n",
    "print(f\"From Jan 1 2005 through December 31 2024: ${allyears:.0f}\")\n",
    "print(\"\")\n",
    "print(\"Contacts made:\")\n",
    "since_2019 = df.loc[\n",
    "    (df.definitely_ccs == 1) & (df.filing_year > 2018)\n",
    "].n_entities_lobbied.sum()\n",
    "print(f\"From Jan 1 2019 through December 31 2024: {since_2019}\")\n",
    "allyears = df.loc[(df.definitely_ccs == 1)].n_entities_lobbied.sum()\n",
    "print(f\"From Jan 1 2005 through December 31 2024: {allyears}\")\n",
    "print(\"\")\n",
    "print(\n",
    "    f\"CCS lobbying contacts per work day since start of 2019: {since_2019 / (50 * 5 * 6):.1f}\"\n",
    ")\n",
    "# look at core ff sectors, ff adjacent sectors, and 'hard to abagte' industries\n",
    "core_ff_sectors = yaml_to_dict(PATH_TO_POSTPROC_SPECS_YAML)[\"core_industry_sectors\"]\n",
    "ff_adjacent_sectors = yaml_to_dict(PATH_TO_POSTPROC_SPECS_YAML)[\n",
    "    \"industry_adjacent_sectors\"\n",
    "]\n",
    "print(\"\\n --- Sector-specific comparisons of lobbying dollars spent ---\")\n",
    "pct_core_ff = df.loc[\n",
    "    df.sector.isin(core_ff_sectors) & (df.definitely_ccs == 1)\n",
    "].pct_of_lobbying_dollars_definitely_ccs.sum()\n",
    "pct_ff_adjacent = df.loc[\n",
    "    df.sector.isin(ff_adjacent_sectors) & (df.definitely_ccs == 1)\n",
    "].pct_of_lobbying_dollars_definitely_ccs.sum()\n",
    "pct_non_ff_industry = df.loc[\n",
    "    (df.very_lumped_sector == \"NON-FF-INDUSTRY\") & (df.definitely_ccs == 1)\n",
    "].pct_of_lobbying_dollars_definitely_ccs.sum()\n",
    "print(\n",
    "    f\"Core fossil-fuel-sector industry is responsible for {pct_core_ff:.0f}% of CCS lobbying dollars\"\n",
    ")\n",
    "print(\n",
    "    f\"Core FF + FF-adjacent industry is responsible for {pct_ff_adjacent:.0f}% of CCS lobbying dollars\"\n",
    ")\n",
    "print(\n",
    "    f\"Non-fossil-fuel-sector industry is responsible for {pct_non_ff_industry:.0f}% of CCS lobbying dollars\"\n",
    ")\n",
    "ratio_of_ff_to_non_ff_industry_spending = pct_core_ff / pct_non_ff_industry\n",
    "print(\n",
    "    f\"Industry that directly profits from selling or burning fossil fuels spends {ratio_of_ff_to_non_ff_industry_spending:.0f} times as much as non-FF industry on CCS lobbying\"\n",
    ")\n",
    "print(\n",
    "    f\"Fraction of core FF CCS lobbying dollars spent by 'hard to abate' industries' is {pct_non_ff_industry / pct_core_ff:.2f}\"\n",
    ")\n",
    "\n",
    "print(\"\\n --- Sector-specific comparisons of number of entities contacted ---\")\n",
    "pct_core_ff = df.loc[\n",
    "    df.sector.isin(core_ff_sectors) & (df.definitely_ccs == 1)\n",
    "].pct_of_entity_contacts_definitely_ccs.sum()\n",
    "pct_ff_adjacent = df.loc[\n",
    "    df.sector.isin(ff_adjacent_sectors) & (df.definitely_ccs == 1)\n",
    "].pct_of_entity_contacts_definitely_ccs.sum()\n",
    "pct_non_ff_industry = df.loc[\n",
    "    (df.very_lumped_sector == \"NON-FF-INDUSTRY\") & (df.definitely_ccs == 1)\n",
    "].pct_of_entity_contacts_definitely_ccs.sum()\n",
    "print(\n",
    "    f\"Core fossil-fuel-sector industry is responsible for {pct_core_ff:.0f}% of CCS lobbying contacts\"\n",
    ")\n",
    "print(\n",
    "    f\"Core FF + FF-adjacent industry is responsible for {pct_ff_adjacent:.0f}% of CCS lobbying contacts\"\n",
    ")\n",
    "print(\n",
    "    f\"Non-fossil-fuel-sector industry is responsible for {pct_non_ff_industry:.0f}% of CCS lobbying contacts\"\n",
    ")\n",
    "ratio_of_ff_to_non_ff_industry_spending = pct_core_ff / pct_non_ff_industry\n",
    "print(\n",
    "    f\"Industry that directly profits from selling or burning fossil fuels contacts the federal government {ratio_of_ff_to_non_ff_industry_spending:.0f} times as much as non-FF industry on CCS lobbying\"\n",
    ")"
   ]
  },
  {
   "cell_type": "markdown",
   "metadata": {},
   "source": [
    "### Which organizations do the most lobbying for CCS?"
   ]
  },
  {
   "cell_type": "code",
   "execution_count": 10,
   "metadata": {},
   "outputs": [
    {
     "data": {
      "text/html": [
       "<div>\n",
       "<style scoped>\n",
       "    .dataframe tbody tr th:only-of-type {\n",
       "        vertical-align: middle;\n",
       "    }\n",
       "\n",
       "    .dataframe tbody tr th {\n",
       "        vertical-align: top;\n",
       "    }\n",
       "\n",
       "    .dataframe thead th {\n",
       "        text-align: right;\n",
       "    }\n",
       "</style>\n",
       "<table border=\"1\" class=\"dataframe\">\n",
       "  <thead>\n",
       "    <tr style=\"text-align: right;\">\n",
       "      <th></th>\n",
       "      <th>lobbying_activity_usd</th>\n",
       "    </tr>\n",
       "    <tr>\n",
       "      <th>organization</th>\n",
       "      <th></th>\n",
       "    </tr>\n",
       "  </thead>\n",
       "  <tbody>\n",
       "    <tr>\n",
       "      <th>OCCIDENTAL PETROLEUM</th>\n",
       "      <td>7.660287e+07</td>\n",
       "    </tr>\n",
       "    <tr>\n",
       "      <th>SOUTHERN COMPANY</th>\n",
       "      <td>5.512273e+07</td>\n",
       "    </tr>\n",
       "    <tr>\n",
       "      <th>EXXONMOBIL</th>\n",
       "      <td>4.266299e+07</td>\n",
       "    </tr>\n",
       "    <tr>\n",
       "      <th>AMERICAN CHEMISTRY COUNCIL</th>\n",
       "      <td>2.730409e+07</td>\n",
       "    </tr>\n",
       "    <tr>\n",
       "      <th>CHEVRON</th>\n",
       "      <td>2.423867e+07</td>\n",
       "    </tr>\n",
       "    <tr>\n",
       "      <th>SHELL</th>\n",
       "      <td>2.250166e+07</td>\n",
       "    </tr>\n",
       "    <tr>\n",
       "      <th>EDISON ELECTRIC INSTITUTE</th>\n",
       "      <td>2.005667e+07</td>\n",
       "    </tr>\n",
       "    <tr>\n",
       "      <th>BP AMERICA</th>\n",
       "      <td>1.827913e+07</td>\n",
       "    </tr>\n",
       "    <tr>\n",
       "      <th>AMERICAN ELECTRIC POWER</th>\n",
       "      <td>1.814972e+07</td>\n",
       "    </tr>\n",
       "    <tr>\n",
       "      <th>US CHAMBER OF COMMERCE</th>\n",
       "      <td>1.737725e+07</td>\n",
       "    </tr>\n",
       "    <tr>\n",
       "      <th>CALPINE</th>\n",
       "      <td>1.669863e+07</td>\n",
       "    </tr>\n",
       "    <tr>\n",
       "      <th>DUKE</th>\n",
       "      <td>1.423178e+07</td>\n",
       "    </tr>\n",
       "    <tr>\n",
       "      <th>PEABODY</th>\n",
       "      <td>1.422086e+07</td>\n",
       "    </tr>\n",
       "    <tr>\n",
       "      <th>AMERICAN FUEL PETROCHEMICAL MANUFACTURERS</th>\n",
       "      <td>1.155701e+07</td>\n",
       "    </tr>\n",
       "    <tr>\n",
       "      <th>TRANSCANADA</th>\n",
       "      <td>1.091000e+07</td>\n",
       "    </tr>\n",
       "    <tr>\n",
       "      <th>CONOCOPHILLIPS</th>\n",
       "      <td>1.031411e+07</td>\n",
       "    </tr>\n",
       "    <tr>\n",
       "      <th>AMERICAN PETROLEUM INSTITUTE</th>\n",
       "      <td>9.734589e+06</td>\n",
       "    </tr>\n",
       "    <tr>\n",
       "      <th>PACIFIC GAS AND ELECTRIC</th>\n",
       "      <td>9.035753e+06</td>\n",
       "    </tr>\n",
       "  </tbody>\n",
       "</table>\n",
       "</div>"
      ],
      "text/plain": [
       "                                           lobbying_activity_usd\n",
       "organization                                                    \n",
       "OCCIDENTAL PETROLEUM                                7.660287e+07\n",
       "SOUTHERN COMPANY                                    5.512273e+07\n",
       "EXXONMOBIL                                          4.266299e+07\n",
       "AMERICAN CHEMISTRY COUNCIL                          2.730409e+07\n",
       "CHEVRON                                             2.423867e+07\n",
       "SHELL                                               2.250166e+07\n",
       "EDISON ELECTRIC INSTITUTE                           2.005667e+07\n",
       "BP AMERICA                                          1.827913e+07\n",
       "AMERICAN ELECTRIC POWER                             1.814972e+07\n",
       "US CHAMBER OF COMMERCE                              1.737725e+07\n",
       "CALPINE                                             1.669863e+07\n",
       "DUKE                                                1.423178e+07\n",
       "PEABODY                                             1.422086e+07\n",
       "AMERICAN FUEL PETROCHEMICAL MANUFACTURERS           1.155701e+07\n",
       "TRANSCANADA                                         1.091000e+07\n",
       "CONOCOPHILLIPS                                      1.031411e+07\n",
       "AMERICAN PETROLEUM INSTITUTE                        9.734589e+06\n",
       "PACIFIC GAS AND ELECTRIC                            9.035753e+06"
      ]
     },
     "execution_count": 10,
     "metadata": {},
     "output_type": "execute_result"
    }
   ],
   "source": [
    "df[[\"organization\", \"lobbying_activity_usd\"]].groupby(\n",
    "    [\"organization\"]\n",
    ").sum().sort_values(by=[\"lobbying_activity_usd\"], ascending=False).head(18)"
   ]
  },
  {
   "cell_type": "markdown",
   "metadata": {},
   "source": [
    "## Which organizations in other sectors do the most CCS lobbying?"
   ]
  },
  {
   "cell_type": "code",
   "execution_count": 11,
   "metadata": {},
   "outputs": [
    {
     "data": {
      "text/html": [
       "<div>\n",
       "<style scoped>\n",
       "    .dataframe tbody tr th:only-of-type {\n",
       "        vertical-align: middle;\n",
       "    }\n",
       "\n",
       "    .dataframe tbody tr th {\n",
       "        vertical-align: top;\n",
       "    }\n",
       "\n",
       "    .dataframe thead th {\n",
       "        text-align: right;\n",
       "    }\n",
       "</style>\n",
       "<table border=\"1\" class=\"dataframe\">\n",
       "  <thead>\n",
       "    <tr style=\"text-align: right;\">\n",
       "      <th></th>\n",
       "      <th>lobbying_activity_usd</th>\n",
       "    </tr>\n",
       "    <tr>\n",
       "      <th>organization</th>\n",
       "      <th></th>\n",
       "    </tr>\n",
       "  </thead>\n",
       "  <tbody>\n",
       "    <tr>\n",
       "      <th>UNIVERSITY OF PITTSBURGH</th>\n",
       "      <td>588869.047619</td>\n",
       "    </tr>\n",
       "    <tr>\n",
       "      <th>OHIO UNIVERSITY</th>\n",
       "      <td>181098.901099</td>\n",
       "    </tr>\n",
       "    <tr>\n",
       "      <th>NATIONAL ASSOCIATION OF INDEPENDENT COLLEGES UNIVERSITIES</th>\n",
       "      <td>167000.000000</td>\n",
       "    </tr>\n",
       "    <tr>\n",
       "      <th>UNIVERSITY OF KENTUCKY</th>\n",
       "      <td>110076.596667</td>\n",
       "    </tr>\n",
       "    <tr>\n",
       "      <th>UNIVERSITY OF CALIFORNIA</th>\n",
       "      <td>87632.978723</td>\n",
       "    </tr>\n",
       "    <tr>\n",
       "      <th>YALE UNIVERSITY</th>\n",
       "      <td>86000.000000</td>\n",
       "    </tr>\n",
       "    <tr>\n",
       "      <th>UNIVERSITY OF ILLINOIS</th>\n",
       "      <td>84282.828283</td>\n",
       "    </tr>\n",
       "    <tr>\n",
       "      <th>UNIVERSITY OF TEXAS</th>\n",
       "      <td>73750.000000</td>\n",
       "    </tr>\n",
       "    <tr>\n",
       "      <th>UNIVERSITY OF MICHIGAN</th>\n",
       "      <td>72517.195767</td>\n",
       "    </tr>\n",
       "    <tr>\n",
       "      <th>ARIZONA STATE UNIVERSITY</th>\n",
       "      <td>64072.916667</td>\n",
       "    </tr>\n",
       "    <tr>\n",
       "      <th>WESTERN MICHIGAN UNIVERSITY</th>\n",
       "      <td>51666.666667</td>\n",
       "    </tr>\n",
       "    <tr>\n",
       "      <th>CALIFORNIA INSTITUTE OF TECHNOLOGY</th>\n",
       "      <td>49500.000000</td>\n",
       "    </tr>\n",
       "    <tr>\n",
       "      <th>CARNEGIE MELLON UNIVERSITY</th>\n",
       "      <td>40523.809524</td>\n",
       "    </tr>\n",
       "    <tr>\n",
       "      <th>GEORGIA INSTITUTE OF TECHNOLOGY</th>\n",
       "      <td>36666.666667</td>\n",
       "    </tr>\n",
       "    <tr>\n",
       "      <th>RICE UNIVERSITY</th>\n",
       "      <td>26500.000000</td>\n",
       "    </tr>\n",
       "    <tr>\n",
       "      <th>UNIVERSITY OF ALASKA</th>\n",
       "      <td>22690.476190</td>\n",
       "    </tr>\n",
       "    <tr>\n",
       "      <th>UNIVERSITY OF WASHINGTON</th>\n",
       "      <td>20000.000000</td>\n",
       "    </tr>\n",
       "    <tr>\n",
       "      <th>IOWA STATE UNIVERSITY</th>\n",
       "      <td>18504.286667</td>\n",
       "    </tr>\n",
       "    <tr>\n",
       "      <th>MASSACHUSETTS INSTITUTE OF TECHNOLOGY</th>\n",
       "      <td>13533.035714</td>\n",
       "    </tr>\n",
       "    <tr>\n",
       "      <th>NEW MEXICO STATE UNIVERSITY</th>\n",
       "      <td>13333.333333</td>\n",
       "    </tr>\n",
       "    <tr>\n",
       "      <th>UNIVERSITY OF DELAWARE</th>\n",
       "      <td>12000.000000</td>\n",
       "    </tr>\n",
       "    <tr>\n",
       "      <th>VANDERBILT UNIVERSITY</th>\n",
       "      <td>3333.333333</td>\n",
       "    </tr>\n",
       "  </tbody>\n",
       "</table>\n",
       "</div>"
      ],
      "text/plain": [
       "                                                    lobbying_activity_usd\n",
       "organization                                                             \n",
       "UNIVERSITY OF PITTSBURGH                                    588869.047619\n",
       "OHIO UNIVERSITY                                             181098.901099\n",
       "NATIONAL ASSOCIATION OF INDEPENDENT COLLEGES UN...          167000.000000\n",
       "UNIVERSITY OF KENTUCKY                                      110076.596667\n",
       "UNIVERSITY OF CALIFORNIA                                     87632.978723\n",
       "YALE UNIVERSITY                                              86000.000000\n",
       "UNIVERSITY OF ILLINOIS                                       84282.828283\n",
       "UNIVERSITY OF TEXAS                                          73750.000000\n",
       "UNIVERSITY OF MICHIGAN                                       72517.195767\n",
       "ARIZONA STATE UNIVERSITY                                     64072.916667\n",
       "WESTERN MICHIGAN UNIVERSITY                                  51666.666667\n",
       "CALIFORNIA INSTITUTE OF TECHNOLOGY                           49500.000000\n",
       "CARNEGIE MELLON UNIVERSITY                                   40523.809524\n",
       "GEORGIA INSTITUTE OF TECHNOLOGY                              36666.666667\n",
       "RICE UNIVERSITY                                              26500.000000\n",
       "UNIVERSITY OF ALASKA                                         22690.476190\n",
       "UNIVERSITY OF WASHINGTON                                     20000.000000\n",
       "IOWA STATE UNIVERSITY                                        18504.286667\n",
       "MASSACHUSETTS INSTITUTE OF TECHNOLOGY                        13533.035714\n",
       "NEW MEXICO STATE UNIVERSITY                                  13333.333333\n",
       "UNIVERSITY OF DELAWARE                                       12000.000000\n",
       "VANDERBILT UNIVERSITY                                         3333.333333"
      ]
     },
     "metadata": {},
     "output_type": "display_data"
    },
    {
     "name": "stdout",
     "output_type": "stream",
     "text": [
      "lobbying_activity_usd    1.823552e+06\n",
      "dtype: float64\n"
     ]
    },
    {
     "data": {
      "text/html": [
       "<div>\n",
       "<style scoped>\n",
       "    .dataframe tbody tr th:only-of-type {\n",
       "        vertical-align: middle;\n",
       "    }\n",
       "\n",
       "    .dataframe tbody tr th {\n",
       "        vertical-align: top;\n",
       "    }\n",
       "\n",
       "    .dataframe thead th {\n",
       "        text-align: right;\n",
       "    }\n",
       "</style>\n",
       "<table border=\"1\" class=\"dataframe\">\n",
       "  <thead>\n",
       "    <tr style=\"text-align: right;\">\n",
       "      <th></th>\n",
       "      <th>lobbying_activity_usd</th>\n",
       "    </tr>\n",
       "    <tr>\n",
       "      <th>organization</th>\n",
       "      <th></th>\n",
       "    </tr>\n",
       "  </thead>\n",
       "  <tbody>\n",
       "    <tr>\n",
       "      <th>BIPARTISAN POLICY CENTER</th>\n",
       "      <td>803806.878032</td>\n",
       "    </tr>\n",
       "    <tr>\n",
       "      <th>PARTNERSHIP FOR JOB CREATION</th>\n",
       "      <td>800000.000000</td>\n",
       "    </tr>\n",
       "    <tr>\n",
       "      <th>CLEARPATH ACTION FOR CONSERVATIVE CLEAN ENERGY</th>\n",
       "      <td>140000.000000</td>\n",
       "    </tr>\n",
       "    <tr>\n",
       "      <th>CENTER FOR TRANSPORTATION AND ENVIRONMENT</th>\n",
       "      <td>80000.000000</td>\n",
       "    </tr>\n",
       "    <tr>\n",
       "      <th>AMERICANS FOR TAX REFORM</th>\n",
       "      <td>49750.000000</td>\n",
       "    </tr>\n",
       "    <tr>\n",
       "      <th>ASSOCIATION FOR IMPROVEMENT OF AMERICAN INFRASTRUCTURE</th>\n",
       "      <td>19047.619048</td>\n",
       "    </tr>\n",
       "    <tr>\n",
       "      <th>CONSERVATION ALLIANCE</th>\n",
       "      <td>14000.000000</td>\n",
       "    </tr>\n",
       "    <tr>\n",
       "      <th>CENTER FOR AMERICAN PROGRESS</th>\n",
       "      <td>12857.142857</td>\n",
       "    </tr>\n",
       "    <tr>\n",
       "      <th>CENTER FOR INDIVIDUAL FREEDOM</th>\n",
       "      <td>3540.000000</td>\n",
       "    </tr>\n",
       "    <tr>\n",
       "      <th>TAXPAYERS FOR COMMON SENSE</th>\n",
       "      <td>0.000000</td>\n",
       "    </tr>\n",
       "  </tbody>\n",
       "</table>\n",
       "</div>"
      ],
      "text/plain": [
       "                                                    lobbying_activity_usd\n",
       "organization                                                             \n",
       "BIPARTISAN POLICY CENTER                                    803806.878032\n",
       "PARTNERSHIP FOR JOB CREATION                                800000.000000\n",
       "CLEARPATH ACTION FOR CONSERVATIVE CLEAN ENERGY              140000.000000\n",
       "CENTER FOR TRANSPORTATION AND ENVIRONMENT                    80000.000000\n",
       "AMERICANS FOR TAX REFORM                                     49750.000000\n",
       "ASSOCIATION FOR IMPROVEMENT OF AMERICAN INFRAST...           19047.619048\n",
       "CONSERVATION ALLIANCE                                        14000.000000\n",
       "CENTER FOR AMERICAN PROGRESS                                 12857.142857\n",
       "CENTER FOR INDIVIDUAL FREEDOM                                 3540.000000\n",
       "TAXPAYERS FOR COMMON SENSE                                       0.000000"
      ]
     },
     "metadata": {},
     "output_type": "display_data"
    },
    {
     "name": "stdout",
     "output_type": "stream",
     "text": [
      "lobbying_activity_usd    1.923002e+06\n",
      "dtype: float64\n"
     ]
    },
    {
     "data": {
      "text/html": [
       "<div>\n",
       "<style scoped>\n",
       "    .dataframe tbody tr th:only-of-type {\n",
       "        vertical-align: middle;\n",
       "    }\n",
       "\n",
       "    .dataframe tbody tr th {\n",
       "        vertical-align: top;\n",
       "    }\n",
       "\n",
       "    .dataframe thead th {\n",
       "        text-align: right;\n",
       "    }\n",
       "</style>\n",
       "<table border=\"1\" class=\"dataframe\">\n",
       "  <thead>\n",
       "    <tr style=\"text-align: right;\">\n",
       "      <th></th>\n",
       "      <th>lobbying_activity_usd</th>\n",
       "    </tr>\n",
       "    <tr>\n",
       "      <th>organization</th>\n",
       "      <th></th>\n",
       "    </tr>\n",
       "  </thead>\n",
       "  <tbody>\n",
       "    <tr>\n",
       "      <th>CLEAN AIR TASK FORCE</th>\n",
       "      <td>2.231134e+06</td>\n",
       "    </tr>\n",
       "    <tr>\n",
       "      <th>CITIZENS FOR RESPONSIBLE ENERGY SOLUTIONS</th>\n",
       "      <td>1.491167e+06</td>\n",
       "    </tr>\n",
       "    <tr>\n",
       "      <th>NATURE CONSERVANCY</th>\n",
       "      <td>1.333046e+06</td>\n",
       "    </tr>\n",
       "    <tr>\n",
       "      <th>EARTHJUSTICE</th>\n",
       "      <td>7.276852e+05</td>\n",
       "    </tr>\n",
       "    <tr>\n",
       "      <th>ENVIRONMENTAL DEFENSE FUND</th>\n",
       "      <td>6.002784e+05</td>\n",
       "    </tr>\n",
       "    <tr>\n",
       "      <th>SOUTHERN ENVIRONMENTAL LAW CENTER</th>\n",
       "      <td>4.408571e+05</td>\n",
       "    </tr>\n",
       "    <tr>\n",
       "      <th>WILDERNESS SOCIETY</th>\n",
       "      <td>4.312894e+05</td>\n",
       "    </tr>\n",
       "    <tr>\n",
       "      <th>LAND TRUST ALLIANCE</th>\n",
       "      <td>3.933333e+05</td>\n",
       "    </tr>\n",
       "    <tr>\n",
       "      <th>LINDEN TRUST FOR CONSERVATION</th>\n",
       "      <td>3.700000e+05</td>\n",
       "    </tr>\n",
       "    <tr>\n",
       "      <th>CARBON ADVOCACY PROJECT</th>\n",
       "      <td>3.500000e+05</td>\n",
       "    </tr>\n",
       "    <tr>\n",
       "      <th>SIERRA CLUB</th>\n",
       "      <td>3.204884e+05</td>\n",
       "    </tr>\n",
       "    <tr>\n",
       "      <th>TRUST FOR PUBLIC LAND</th>\n",
       "      <td>2.050187e+05</td>\n",
       "    </tr>\n",
       "    <tr>\n",
       "      <th>OPEN SPACE INSTITUTE</th>\n",
       "      <td>1.825000e+05</td>\n",
       "    </tr>\n",
       "    <tr>\n",
       "      <th>OCEAN CONSERVANCY</th>\n",
       "      <td>1.697708e+05</td>\n",
       "    </tr>\n",
       "    <tr>\n",
       "      <th>NATURAL RESOURCES DEFENSE COUNCIL</th>\n",
       "      <td>1.316949e+05</td>\n",
       "    </tr>\n",
       "    <tr>\n",
       "      <th>INDIAN LAND TENURE</th>\n",
       "      <td>1.200000e+05</td>\n",
       "    </tr>\n",
       "    <tr>\n",
       "      <th>LEAGUE OF CONSERVATION VOTERS</th>\n",
       "      <td>1.080086e+05</td>\n",
       "    </tr>\n",
       "    <tr>\n",
       "      <th>CENTER FOR CLIMATE AND ENERGY SOLUTIONS</th>\n",
       "      <td>1.041667e+05</td>\n",
       "    </tr>\n",
       "    <tr>\n",
       "      <th>AMERICAN FORESTS</th>\n",
       "      <td>1.000000e+05</td>\n",
       "    </tr>\n",
       "    <tr>\n",
       "      <th>NATIONAL GROUND WATER ASSOCIATION</th>\n",
       "      <td>8.555556e+04</td>\n",
       "    </tr>\n",
       "    <tr>\n",
       "      <th>GEOS INSTITUTE</th>\n",
       "      <td>8.348209e+04</td>\n",
       "    </tr>\n",
       "    <tr>\n",
       "      <th>BLUE GREEN ALLIANCE</th>\n",
       "      <td>4.288889e+04</td>\n",
       "    </tr>\n",
       "    <tr>\n",
       "      <th>PLASTIC POLLUTION COALITION</th>\n",
       "      <td>4.000000e+04</td>\n",
       "    </tr>\n",
       "    <tr>\n",
       "      <th>RIPE ROADMAP</th>\n",
       "      <td>4.000000e+04</td>\n",
       "    </tr>\n",
       "    <tr>\n",
       "      <th>PARTNERSHIP FOR CONSERVATION</th>\n",
       "      <td>4.000000e+04</td>\n",
       "    </tr>\n",
       "    <tr>\n",
       "      <th>NATIONAL PARKS CONSERVATION ASSOCIATION</th>\n",
       "      <td>3.679033e+04</td>\n",
       "    </tr>\n",
       "    <tr>\n",
       "      <th>FRIENDS COMMITTEE ON NATIONAL LEGISLATION</th>\n",
       "      <td>3.225806e+04</td>\n",
       "    </tr>\n",
       "    <tr>\n",
       "      <th>CARBON 180</th>\n",
       "      <td>2.250000e+04</td>\n",
       "    </tr>\n",
       "    <tr>\n",
       "      <th>APPALACHIAN TRAIL CONSERVANCY</th>\n",
       "      <td>9.858667e+03</td>\n",
       "    </tr>\n",
       "    <tr>\n",
       "      <th>NATIONAL WASTE RECYCLING ASSOCIATION</th>\n",
       "      <td>9.381599e+03</td>\n",
       "    </tr>\n",
       "    <tr>\n",
       "      <th>AMERICAN FOREST FOUNDATION</th>\n",
       "      <td>8.236500e+03</td>\n",
       "    </tr>\n",
       "    <tr>\n",
       "      <th>NATIONAL AUDUBON SOCIETY</th>\n",
       "      <td>6.567460e+03</td>\n",
       "    </tr>\n",
       "    <tr>\n",
       "      <th>GREENPEACE</th>\n",
       "      <td>6.463500e+03</td>\n",
       "    </tr>\n",
       "    <tr>\n",
       "      <th>APPALACHIAN VOICES</th>\n",
       "      <td>6.187375e+03</td>\n",
       "    </tr>\n",
       "    <tr>\n",
       "      <th>SCENIC VISTAS</th>\n",
       "      <td>5.000000e+03</td>\n",
       "    </tr>\n",
       "    <tr>\n",
       "      <th>FRIENDS OF EARTH</th>\n",
       "      <td>3.333333e+03</td>\n",
       "    </tr>\n",
       "    <tr>\n",
       "      <th>WESTERN ORGANIZATION OF RESOURCE COUNCILS</th>\n",
       "      <td>2.755460e+03</td>\n",
       "    </tr>\n",
       "    <tr>\n",
       "      <th>FOOD WATER WATCH</th>\n",
       "      <td>0.000000e+00</td>\n",
       "    </tr>\n",
       "  </tbody>\n",
       "</table>\n",
       "</div>"
      ],
      "text/plain": [
       "                                           lobbying_activity_usd\n",
       "organization                                                    \n",
       "CLEAN AIR TASK FORCE                                2.231134e+06\n",
       "CITIZENS FOR RESPONSIBLE ENERGY SOLUTIONS           1.491167e+06\n",
       "NATURE CONSERVANCY                                  1.333046e+06\n",
       "EARTHJUSTICE                                        7.276852e+05\n",
       "ENVIRONMENTAL DEFENSE FUND                          6.002784e+05\n",
       "SOUTHERN ENVIRONMENTAL LAW CENTER                   4.408571e+05\n",
       "WILDERNESS SOCIETY                                  4.312894e+05\n",
       "LAND TRUST ALLIANCE                                 3.933333e+05\n",
       "LINDEN TRUST FOR CONSERVATION                       3.700000e+05\n",
       "CARBON ADVOCACY PROJECT                             3.500000e+05\n",
       "SIERRA CLUB                                         3.204884e+05\n",
       "TRUST FOR PUBLIC LAND                               2.050187e+05\n",
       "OPEN SPACE INSTITUTE                                1.825000e+05\n",
       "OCEAN CONSERVANCY                                   1.697708e+05\n",
       "NATURAL RESOURCES DEFENSE COUNCIL                   1.316949e+05\n",
       "INDIAN LAND TENURE                                  1.200000e+05\n",
       "LEAGUE OF CONSERVATION VOTERS                       1.080086e+05\n",
       "CENTER FOR CLIMATE AND ENERGY SOLUTIONS             1.041667e+05\n",
       "AMERICAN FORESTS                                    1.000000e+05\n",
       "NATIONAL GROUND WATER ASSOCIATION                   8.555556e+04\n",
       "GEOS INSTITUTE                                      8.348209e+04\n",
       "BLUE GREEN ALLIANCE                                 4.288889e+04\n",
       "PLASTIC POLLUTION COALITION                         4.000000e+04\n",
       "RIPE ROADMAP                                        4.000000e+04\n",
       "PARTNERSHIP FOR CONSERVATION                        4.000000e+04\n",
       "NATIONAL PARKS CONSERVATION ASSOCIATION             3.679033e+04\n",
       "FRIENDS COMMITTEE ON NATIONAL LEGISLATION           3.225806e+04\n",
       "CARBON 180                                          2.250000e+04\n",
       "APPALACHIAN TRAIL CONSERVANCY                       9.858667e+03\n",
       "NATIONAL WASTE RECYCLING ASSOCIATION                9.381599e+03\n",
       "AMERICAN FOREST FOUNDATION                          8.236500e+03\n",
       "NATIONAL AUDUBON SOCIETY                            6.567460e+03\n",
       "GREENPEACE                                          6.463500e+03\n",
       "APPALACHIAN VOICES                                  6.187375e+03\n",
       "SCENIC VISTAS                                       5.000000e+03\n",
       "FRIENDS OF EARTH                                    3.333333e+03\n",
       "WESTERN ORGANIZATION OF RESOURCE COUNCILS           2.755460e+03\n",
       "FOOD WATER WATCH                                    0.000000e+00"
      ]
     },
     "metadata": {},
     "output_type": "display_data"
    },
    {
     "name": "stdout",
     "output_type": "stream",
     "text": [
      "lobbying_activity_usd    1.029170e+07\n",
      "dtype: float64\n"
     ]
    },
    {
     "data": {
      "text/html": [
       "<div>\n",
       "<style scoped>\n",
       "    .dataframe tbody tr th:only-of-type {\n",
       "        vertical-align: middle;\n",
       "    }\n",
       "\n",
       "    .dataframe tbody tr th {\n",
       "        vertical-align: top;\n",
       "    }\n",
       "\n",
       "    .dataframe thead th {\n",
       "        text-align: right;\n",
       "    }\n",
       "</style>\n",
       "<table border=\"1\" class=\"dataframe\">\n",
       "  <thead>\n",
       "    <tr style=\"text-align: right;\">\n",
       "      <th></th>\n",
       "      <th>lobbying_activity_usd</th>\n",
       "    </tr>\n",
       "    <tr>\n",
       "      <th>organization</th>\n",
       "      <th></th>\n",
       "    </tr>\n",
       "  </thead>\n",
       "  <tbody>\n",
       "    <tr>\n",
       "      <th>ZURICH</th>\n",
       "      <td>2.082202e+06</td>\n",
       "    </tr>\n",
       "    <tr>\n",
       "      <th>BREAKTHROUGH ENERGY</th>\n",
       "      <td>2.034000e+06</td>\n",
       "    </tr>\n",
       "    <tr>\n",
       "      <th>NATIONAL ASSOCIATION OF FEDERALLYINSURED CREDIT UNIONS</th>\n",
       "      <td>1.020000e+06</td>\n",
       "    </tr>\n",
       "    <tr>\n",
       "      <th>NATIONAL VENTURE CAPITAL ASSOCIATION</th>\n",
       "      <td>1.012692e+06</td>\n",
       "    </tr>\n",
       "    <tr>\n",
       "      <th>FINANCIAL FORUM</th>\n",
       "      <td>2.800000e+05</td>\n",
       "    </tr>\n",
       "    <tr>\n",
       "      <th>LEUCADIA NATIONAL</th>\n",
       "      <td>2.200000e+05</td>\n",
       "    </tr>\n",
       "    <tr>\n",
       "      <th>ARTHUR J GALLAGHER</th>\n",
       "      <td>1.450000e+05</td>\n",
       "    </tr>\n",
       "    <tr>\n",
       "      <th>BANK OF AMERICA</th>\n",
       "      <td>9.714286e+04</td>\n",
       "    </tr>\n",
       "    <tr>\n",
       "      <th>BANK POLICY INSTITUTE</th>\n",
       "      <td>6.000000e+04</td>\n",
       "    </tr>\n",
       "    <tr>\n",
       "      <th>HARTFORD FINANCIAL</th>\n",
       "      <td>5.625000e+04</td>\n",
       "    </tr>\n",
       "    <tr>\n",
       "      <th>ARA PARTNERS</th>\n",
       "      <td>4.000000e+04</td>\n",
       "    </tr>\n",
       "    <tr>\n",
       "      <th>MACQUARIE INFRASTRUCTURE AND REAL ASSETS</th>\n",
       "      <td>3.000000e+04</td>\n",
       "    </tr>\n",
       "    <tr>\n",
       "      <th>EXCELSIOR ENERGY</th>\n",
       "      <td>0.000000e+00</td>\n",
       "    </tr>\n",
       "    <tr>\n",
       "      <th>HUDSON CLEAN ENERGY PARTNERS</th>\n",
       "      <td>0.000000e+00</td>\n",
       "    </tr>\n",
       "  </tbody>\n",
       "</table>\n",
       "</div>"
      ],
      "text/plain": [
       "                                                    lobbying_activity_usd\n",
       "organization                                                             \n",
       "ZURICH                                                       2.082202e+06\n",
       "BREAKTHROUGH ENERGY                                          2.034000e+06\n",
       "NATIONAL ASSOCIATION OF FEDERALLYINSURED CREDIT...           1.020000e+06\n",
       "NATIONAL VENTURE CAPITAL ASSOCIATION                         1.012692e+06\n",
       "FINANCIAL FORUM                                              2.800000e+05\n",
       "LEUCADIA NATIONAL                                            2.200000e+05\n",
       "ARTHUR J GALLAGHER                                           1.450000e+05\n",
       "BANK OF AMERICA                                              9.714286e+04\n",
       "BANK POLICY INSTITUTE                                        6.000000e+04\n",
       "HARTFORD FINANCIAL                                           5.625000e+04\n",
       "ARA PARTNERS                                                 4.000000e+04\n",
       "MACQUARIE INFRASTRUCTURE AND REAL ASSETS                     3.000000e+04\n",
       "EXCELSIOR ENERGY                                             0.000000e+00\n",
       "HUDSON CLEAN ENERGY PARTNERS                                 0.000000e+00"
      ]
     },
     "metadata": {},
     "output_type": "display_data"
    },
    {
     "name": "stdout",
     "output_type": "stream",
     "text": [
      "lobbying_activity_usd    7.077286e+06\n",
      "dtype: float64\n"
     ]
    },
    {
     "data": {
      "text/html": [
       "<div>\n",
       "<style scoped>\n",
       "    .dataframe tbody tr th:only-of-type {\n",
       "        vertical-align: middle;\n",
       "    }\n",
       "\n",
       "    .dataframe tbody tr th {\n",
       "        vertical-align: top;\n",
       "    }\n",
       "\n",
       "    .dataframe thead th {\n",
       "        text-align: right;\n",
       "    }\n",
       "</style>\n",
       "<table border=\"1\" class=\"dataframe\">\n",
       "  <thead>\n",
       "    <tr style=\"text-align: right;\">\n",
       "      <th></th>\n",
       "      <th>lobbying_activity_usd</th>\n",
       "    </tr>\n",
       "    <tr>\n",
       "      <th>organization</th>\n",
       "      <th></th>\n",
       "    </tr>\n",
       "  </thead>\n",
       "  <tbody>\n",
       "    <tr>\n",
       "      <th>GREAT PLAINS INSTITUTE</th>\n",
       "      <td>379666.666667</td>\n",
       "    </tr>\n",
       "    <tr>\n",
       "      <th>WOODWELL CLIMATE RESEARCH CENTER</th>\n",
       "      <td>10000.000000</td>\n",
       "    </tr>\n",
       "    <tr>\n",
       "      <th>RTI INTERNATIONAL</th>\n",
       "      <td>4000.000000</td>\n",
       "    </tr>\n",
       "  </tbody>\n",
       "</table>\n",
       "</div>"
      ],
      "text/plain": [
       "                                  lobbying_activity_usd\n",
       "organization                                           \n",
       "GREAT PLAINS INSTITUTE                    379666.666667\n",
       "WOODWELL CLIMATE RESEARCH CENTER           10000.000000\n",
       "RTI INTERNATIONAL                           4000.000000"
      ]
     },
     "metadata": {},
     "output_type": "display_data"
    },
    {
     "name": "stdout",
     "output_type": "stream",
     "text": [
      "lobbying_activity_usd    393666.666667\n",
      "dtype: float64\n"
     ]
    },
    {
     "data": {
      "text/html": [
       "<div>\n",
       "<style scoped>\n",
       "    .dataframe tbody tr th:only-of-type {\n",
       "        vertical-align: middle;\n",
       "    }\n",
       "\n",
       "    .dataframe tbody tr th {\n",
       "        vertical-align: top;\n",
       "    }\n",
       "\n",
       "    .dataframe thead th {\n",
       "        text-align: right;\n",
       "    }\n",
       "</style>\n",
       "<table border=\"1\" class=\"dataframe\">\n",
       "  <thead>\n",
       "    <tr style=\"text-align: right;\">\n",
       "      <th></th>\n",
       "      <th>lobbying_activity_usd</th>\n",
       "    </tr>\n",
       "    <tr>\n",
       "      <th>organization</th>\n",
       "      <th></th>\n",
       "    </tr>\n",
       "  </thead>\n",
       "  <tbody>\n",
       "    <tr>\n",
       "      <th>US CHAMBER OF COMMERCE</th>\n",
       "      <td>1.737725e+07</td>\n",
       "    </tr>\n",
       "    <tr>\n",
       "      <th>NATIONAL ASSOCIATION OF MANUFACTURERS</th>\n",
       "      <td>4.158197e+06</td>\n",
       "    </tr>\n",
       "    <tr>\n",
       "      <th>BUSINESS ROUNDTABLE</th>\n",
       "      <td>4.775000e+05</td>\n",
       "    </tr>\n",
       "    <tr>\n",
       "      <th>GREATER PITTSBURGH CHAMBER OF COMMERCE</th>\n",
       "      <td>1.518810e+05</td>\n",
       "    </tr>\n",
       "    <tr>\n",
       "      <th>WESTERN BUSINESS ROUNDTABLE</th>\n",
       "      <td>1.016667e+05</td>\n",
       "    </tr>\n",
       "  </tbody>\n",
       "</table>\n",
       "</div>"
      ],
      "text/plain": [
       "                                        lobbying_activity_usd\n",
       "organization                                                 \n",
       "US CHAMBER OF COMMERCE                           1.737725e+07\n",
       "NATIONAL ASSOCIATION OF MANUFACTURERS            4.158197e+06\n",
       "BUSINESS ROUNDTABLE                              4.775000e+05\n",
       "GREATER PITTSBURGH CHAMBER OF COMMERCE           1.518810e+05\n",
       "WESTERN BUSINESS ROUNDTABLE                      1.016667e+05"
      ]
     },
     "metadata": {},
     "output_type": "display_data"
    },
    {
     "name": "stdout",
     "output_type": "stream",
     "text": [
      "lobbying_activity_usd    2.226650e+07\n",
      "dtype: float64\n"
     ]
    },
    {
     "data": {
      "text/html": [
       "<div>\n",
       "<style scoped>\n",
       "    .dataframe tbody tr th:only-of-type {\n",
       "        vertical-align: middle;\n",
       "    }\n",
       "\n",
       "    .dataframe tbody tr th {\n",
       "        vertical-align: top;\n",
       "    }\n",
       "\n",
       "    .dataframe thead th {\n",
       "        text-align: right;\n",
       "    }\n",
       "</style>\n",
       "<table border=\"1\" class=\"dataframe\">\n",
       "  <thead>\n",
       "    <tr style=\"text-align: right;\">\n",
       "      <th></th>\n",
       "      <th>lobbying_activity_usd</th>\n",
       "    </tr>\n",
       "    <tr>\n",
       "      <th>organization</th>\n",
       "      <th></th>\n",
       "    </tr>\n",
       "  </thead>\n",
       "  <tbody>\n",
       "    <tr>\n",
       "      <th>NUCLEAR ENERGY INSTITUTE</th>\n",
       "      <td>1.087961e+06</td>\n",
       "    </tr>\n",
       "    <tr>\n",
       "      <th>BWX TECHNOLOGIES</th>\n",
       "      <td>6.558483e+05</td>\n",
       "    </tr>\n",
       "    <tr>\n",
       "      <th>NUCLEAR INNOVATION ALLIANCE</th>\n",
       "      <td>1.000000e+05</td>\n",
       "    </tr>\n",
       "  </tbody>\n",
       "</table>\n",
       "</div>"
      ],
      "text/plain": [
       "                             lobbying_activity_usd\n",
       "organization                                      \n",
       "NUCLEAR ENERGY INSTITUTE              1.087961e+06\n",
       "BWX TECHNOLOGIES                      6.558483e+05\n",
       "NUCLEAR INNOVATION ALLIANCE           1.000000e+05"
      ]
     },
     "metadata": {},
     "output_type": "display_data"
    },
    {
     "name": "stdout",
     "output_type": "stream",
     "text": [
      "lobbying_activity_usd    1.843809e+06\n",
      "dtype: float64\n"
     ]
    },
    {
     "data": {
      "text/html": [
       "<div>\n",
       "<style scoped>\n",
       "    .dataframe tbody tr th:only-of-type {\n",
       "        vertical-align: middle;\n",
       "    }\n",
       "\n",
       "    .dataframe tbody tr th {\n",
       "        vertical-align: top;\n",
       "    }\n",
       "\n",
       "    .dataframe thead th {\n",
       "        text-align: right;\n",
       "    }\n",
       "</style>\n",
       "<table border=\"1\" class=\"dataframe\">\n",
       "  <thead>\n",
       "    <tr style=\"text-align: right;\">\n",
       "      <th></th>\n",
       "      <th>lobbying_activity_usd</th>\n",
       "    </tr>\n",
       "    <tr>\n",
       "      <th>organization</th>\n",
       "      <th></th>\n",
       "    </tr>\n",
       "  </thead>\n",
       "  <tbody>\n",
       "    <tr>\n",
       "      <th>SWAMPLAND RESOURCES</th>\n",
       "      <td>0.0</td>\n",
       "    </tr>\n",
       "  </tbody>\n",
       "</table>\n",
       "</div>"
      ],
      "text/plain": [
       "                     lobbying_activity_usd\n",
       "organization                              \n",
       "SWAMPLAND RESOURCES                    0.0"
      ]
     },
     "metadata": {},
     "output_type": "display_data"
    },
    {
     "name": "stdout",
     "output_type": "stream",
     "text": [
      "lobbying_activity_usd    0.0\n",
      "dtype: float64\n"
     ]
    }
   ],
   "source": [
    "# Overviews of 'all those other' sectors\n",
    "for sector in [\n",
    "    \"higher education\",\n",
    "    \"think tanks and issue advocacy\",\n",
    "    \"environmental\",\n",
    "    \"finance\",\n",
    "    \"independent research organization\",\n",
    "    \"business advocacy\",\n",
    "    \"nuclear\",\n",
    "    \"other\",\n",
    "]:\n",
    "    ccs_sector_df = (\n",
    "        df[[\"organization\", \"lobbying_activity_usd\"]]\n",
    "        .loc[df.sector == sector]\n",
    "        .groupby([\"organization\"])\n",
    "        .sum()\n",
    "        .sort_values(by=[\"lobbying_activity_usd\"], ascending=False)\n",
    "    )\n",
    "    display(ccs_sector_df)\n",
    "    print(ccs_sector_df.sum())"
   ]
  },
  {
   "cell_type": "markdown",
   "metadata": {},
   "source": [
    "### University CCS lobbying summary"
   ]
  },
  {
   "cell_type": "code",
   "execution_count": 12,
   "metadata": {},
   "outputs": [
    {
     "name": "stdout",
     "output_type": "stream",
     "text": [
      "Universities lobbied federal officials at least 595 times about CCUS.\n"
     ]
    }
   ],
   "source": [
    "n_univ_contacts = df.loc[df.sector == \"higher education\"].n_entities_lobbied.sum()\n",
    "print(\n",
    "    f\"Universities lobbied federal officials at least {n_univ_contacts} times about CCUS.\"\n",
    ")"
   ]
  },
  {
   "cell_type": "code",
   "execution_count": 13,
   "metadata": {},
   "outputs": [],
   "source": [
    "# load the higher ed data\n",
    "\n",
    "he_df = trim_dates(\n",
    "    pd.read_csv(PATH_TO_HIGHER_EDUCATION_POSTPROC_LOBBYING_FILINGS, index_col=[0]),\n",
    "    yr=2024,\n",
    "    period=4,\n",
    "    how=\"lte\",\n",
    "    yr_col=\"filing_year\",\n",
    "    period_col=\"filing_period\",\n",
    ")"
   ]
  },
  {
   "cell_type": "markdown",
   "metadata": {},
   "source": [
    "#### Export result-summary tables to Excel/clipboard"
   ]
  },
  {
   "cell_type": "code",
   "execution_count": 14,
   "metadata": {},
   "outputs": [],
   "source": [
    "# print the sector summary info\n",
    "he_df.loc[(he_df[\"definitely_ccs\"] == 1)][\n",
    "    [\n",
    "        \"organization\",\n",
    "        \"lobbying_activity_usd\",\n",
    "        \"n_entities_lobbied\",\n",
    "        \"legistlative_entities_lobbied\",\n",
    "        \"executive_entities_lobbied\",\n",
    "    ]\n",
    "].groupby(\"organization\").sum().sort_values(by=\"lobbying_activity_usd\", ascending=False)\n",
    "\n",
    "# tally CCS lobbying by university and write to clipboard\n",
    "df[[\"organization\", \"lobbying_activity_usd\"]].loc[\n",
    "    df.sector == \"higher education\"\n",
    "].groupby(\"organization\").sum().sort_values(\n",
    "    by=\"lobbying_activity_usd\", ascending=False\n",
    ").to_clipboard()"
   ]
  },
  {
   "cell_type": "markdown",
   "metadata": {},
   "source": [
    "## Summary tables"
   ]
  },
  {
   "cell_type": "markdown",
   "metadata": {},
   "source": [
    "### Excel Table of sector totals, including since 2019"
   ]
  },
  {
   "cell_type": "code",
   "execution_count": 14,
   "metadata": {},
   "outputs": [],
   "source": [
    "# subset data looking only at definitely ccs and that occuring 2019 and later\n",
    "since_2019_df = (\n",
    "    df[\n",
    "        [\n",
    "            \"filing_year\",\n",
    "            \"sector\",\n",
    "            \"very_lumped_sector\",\n",
    "            \"lobbying_activity_usd\",\n",
    "            \"n_entities_lobbied\",\n",
    "        ]\n",
    "    ]\n",
    "    .loc[(df.definitely_ccs == 1) & (df.filing_year > 2018)]\n",
    "    .groupby([\"sector\"])\n",
    "    .agg(\n",
    "        {\n",
    "            \"very_lumped_sector\": \"first\",\n",
    "            \"lobbying_activity_usd\": np.sum,\n",
    "            \"n_entities_lobbied\": np.sum,\n",
    "        }\n",
    "    )\n",
    ")\n",
    "since_2019_df.columns = [\n",
    "    \"General sector\",\n",
    "    \"total_ccs_lobbying_usd_2019_to_2024\",\n",
    "    \"total_ccs_lobbying_contacts_2019_to_2024\",\n",
    "]\n",
    "# get all years' data\n",
    "total_df = (\n",
    "    df[\n",
    "        [\n",
    "            \"sector\",\n",
    "            \"lobbying_activity_usd\",\n",
    "            \"n_entities_lobbied\",\n",
    "        ]\n",
    "    ]\n",
    "    .loc[(df.definitely_ccs == 1)]\n",
    "    .groupby([\"sector\"])\n",
    "    .agg(\n",
    "        {\n",
    "            \"lobbying_activity_usd\": np.sum,\n",
    "            \"n_entities_lobbied\": np.sum,\n",
    "        }\n",
    "    )\n",
    ")\n",
    "total_df.columns = [\n",
    "    \"total_ccs_lobbying_usd_2005_to_2024\",\n",
    "    \"total_ccs_lobbying_contacts_2005_to_2024\",\n",
    "]\n",
    "# summarize, grouping by detailed sector\n",
    "sector_summary_df = since_2019_df.merge(total_df, left_index=True, right_index=True)\n",
    "sector_summary_df.sort_values(\n",
    "    by=\"total_ccs_lobbying_usd_2019_to_2024\", ascending=False, inplace=True\n",
    ")\n",
    "sector_summary_df = sector_summary_df[\n",
    "    [\n",
    "        \"General sector\",\n",
    "        \"total_ccs_lobbying_usd_2019_to_2024\",\n",
    "        \"total_ccs_lobbying_usd_2005_to_2024\",\n",
    "        \"total_ccs_lobbying_contacts_2019_to_2024\",\n",
    "        \"total_ccs_lobbying_contacts_2005_to_2024\",\n",
    "    ]\n",
    "].to_clipboard()"
   ]
  },
  {
   "cell_type": "markdown",
   "metadata": {},
   "source": [
    "### Excel Table of lobbying dollars and contacts by year and quarter (filing period)"
   ]
  },
  {
   "cell_type": "code",
   "execution_count": 15,
   "metadata": {},
   "outputs": [],
   "source": [
    "# Table of temporal totals (by quarters)\n",
    "numeric_quarter_dict = {\n",
    "    \"first_quarter\": 1,\n",
    "    \"second_quarter\": 2,\n",
    "    \"fourth_quarter\": 4,\n",
    "    \"third_quarter\": 3,\n",
    "    \"year_end\": 4,\n",
    "    \"mid_year\": 2,\n",
    "}\n",
    "df[\"numeric_filing_period\"] = [numeric_quarter_dict[x] for x in df.filing_period]\n",
    "\n",
    "\n",
    "through_time_df = (\n",
    "    df[\n",
    "        [\n",
    "            \"filing_year\",\n",
    "            \"numeric_filing_period\",\n",
    "            \"lobbying_activity_usd\",\n",
    "            \"n_entities_lobbied\",\n",
    "        ]\n",
    "    ]\n",
    "    .loc[(df.definitely_ccs == 1)]\n",
    "    .groupby([\"filing_year\", \"numeric_filing_period\"])\n",
    "    .agg(\n",
    "        {\n",
    "            \"lobbying_activity_usd\": np.sum,\n",
    "            \"n_entities_lobbied\": np.sum,\n",
    "        }\n",
    "    )\n",
    "    .reset_index()\n",
    ")\n",
    "through_time_df.columns = [\n",
    "    \"filing_year\",\n",
    "    \"filing_period\",\n",
    "    \"total_ccs_lobbying_usd\",\n",
    "    \"total_ccs_lobbying_contacts\",\n",
    "]\n",
    "through_time_df.sort_values(\n",
    "    by=[\"filing_year\", \"filing_period\"], ascending=True, inplace=True\n",
    ")\n",
    "through_time_df.to_clipboard()"
   ]
  },
  {
   "cell_type": "markdown",
   "metadata": {},
   "source": [
    "### Excel Table of organization totals, including since 2019"
   ]
  },
  {
   "cell_type": "code",
   "execution_count": 26,
   "metadata": {},
   "outputs": [],
   "source": [
    "# subset data looking only at definitely ccs and that occuring 2019 and later\n",
    "since_2019_df = (\n",
    "    df[\n",
    "        [\n",
    "            \"filing_year\",\n",
    "            \"sector\",\n",
    "            \"very_lumped_sector\",\n",
    "            \"uber_lumped_sector\",\n",
    "            \"organization\",\n",
    "            \"lobbying_activity_usd\",\n",
    "            \"n_entities_lobbied\",\n",
    "            \"filing_year\",\n",
    "        ]\n",
    "    ]\n",
    "    .loc[(df.definitely_ccs == 1) & (df.filing_year > 2018)]\n",
    "    .copy()\n",
    "    .groupby([\"organization\"])\n",
    "    .agg(\n",
    "        {\n",
    "            \"sector\": \"first\",\n",
    "            \"very_lumped_sector\": \"first\",\n",
    "            \"lobbying_activity_usd\": np.sum,\n",
    "            \"n_entities_lobbied\": np.sum,\n",
    "        }\n",
    "    )\n",
    ").reset_index()\n",
    "since_2019_df.columns = [\n",
    "    \"organization\",\n",
    "    \"sector\",\n",
    "    \"very_lumped_sector\",\n",
    "    \"total_ccs_lobbying_usd_2019_to_2024\",\n",
    "    \"total_ccs_lobbying_contacts_2019_to_2024\",\n",
    "]\n",
    "# total for all years\n",
    "total_df = (\n",
    "    df[\n",
    "        [\n",
    "            \"sector\",\n",
    "            \"very_lumped_sector\",\n",
    "            \"filing_year\",\n",
    "            \"organization\",\n",
    "            \"lobbying_activity_usd\",\n",
    "            \"n_entities_lobbied\",\n",
    "            \"filing_year\",\n",
    "        ]\n",
    "    ]\n",
    "    .loc[(df.definitely_ccs == 1)]\n",
    "    .groupby([\"organization\"])\n",
    "    .agg(\n",
    "        {\n",
    "            \"sector\": \"first\",\n",
    "            \"very_lumped_sector\": \"first\",\n",
    "            \"lobbying_activity_usd\": sum,\n",
    "            \"n_entities_lobbied\": sum,\n",
    "        }\n",
    "    )\n",
    ").reset_index()\n",
    "\n",
    "total_df.columns = [\n",
    "    \"organization\",\n",
    "    \"sector\",\n",
    "    \"very_lumped_sector\",\n",
    "    \"total_ccs_lobbying_usd_2005_to_2024\",\n",
    "    \"total_ccs_lobbying_contacts_2005_to_2024\",\n",
    "]\n",
    "\n",
    "company_summary_df = since_2019_df.merge(\n",
    "    total_df, on=[\"organization\", \"sector\", \"very_lumped_sector\"], how=\"outer\"\n",
    ")\n",
    "company_summary_df.sort_values(\n",
    "    by=\"total_ccs_lobbying_usd_2005_to_2024\", ascending=False, inplace=True\n",
    ")\n",
    "# fill in nan values (which should be zeros)\n",
    "for c in [\n",
    "    \"total_ccs_lobbying_usd_2019_to_2024\",\n",
    "    \"total_ccs_lobbying_usd_2005_to_2024\",\n",
    "    \"total_ccs_lobbying_contacts_2019_to_2024\",\n",
    "    \"total_ccs_lobbying_contacts_2005_to_2024\",\n",
    "]:\n",
    "    company_summary_df[c] = company_summary_df[c].fillna(0)\n",
    "\n",
    "company_summary_df = company_summary_df[\n",
    "    [\n",
    "        \"organization\",\n",
    "        \"sector\",\n",
    "        \"very_lumped_sector\",\n",
    "        \"total_ccs_lobbying_usd_2019_to_2024\",\n",
    "        \"total_ccs_lobbying_usd_2005_to_2024\",\n",
    "        \"total_ccs_lobbying_contacts_2019_to_2024\",\n",
    "        \"total_ccs_lobbying_contacts_2005_to_2024\",\n",
    "    ]\n",
    "].to_clipboard()"
   ]
  },
  {
   "cell_type": "code",
   "execution_count": 27,
   "metadata": {},
   "outputs": [
    {
     "data": {
      "text/html": [
       "<div>\n",
       "<style scoped>\n",
       "    .dataframe tbody tr th:only-of-type {\n",
       "        vertical-align: middle;\n",
       "    }\n",
       "\n",
       "    .dataframe tbody tr th {\n",
       "        vertical-align: top;\n",
       "    }\n",
       "\n",
       "    .dataframe thead th {\n",
       "        text-align: right;\n",
       "    }\n",
       "</style>\n",
       "<table border=\"1\" class=\"dataframe\">\n",
       "  <thead>\n",
       "    <tr style=\"text-align: right;\">\n",
       "      <th></th>\n",
       "      <th>organization</th>\n",
       "      <th>sector</th>\n",
       "      <th>very_lumped_sector</th>\n",
       "      <th>total_ccs_lobbying_usd_2005_to_2024</th>\n",
       "      <th>total_ccs_lobbying_contacts_2005_to_2024</th>\n",
       "    </tr>\n",
       "  </thead>\n",
       "  <tbody>\n",
       "    <tr>\n",
       "      <th>0</th>\n",
       "      <td>ACCELERGY</td>\n",
       "      <td>biofuels</td>\n",
       "      <td>BIOFUEL-SYNFUEL</td>\n",
       "      <td>2.294444e+05</td>\n",
       "      <td>28</td>\n",
       "    </tr>\n",
       "    <tr>\n",
       "      <th>1</th>\n",
       "      <td>ADVANTEK WASTE MANAGEMENT</td>\n",
       "      <td>oilfield services</td>\n",
       "      <td>FOSSIL-FUEL</td>\n",
       "      <td>2.500000e+04</td>\n",
       "      <td>3</td>\n",
       "    </tr>\n",
       "    <tr>\n",
       "      <th>2</th>\n",
       "      <td>AECOM</td>\n",
       "      <td>engineering, technology, and consulting</td>\n",
       "      <td>ENGINEERING-TECH</td>\n",
       "      <td>1.230769e+04</td>\n",
       "      <td>3</td>\n",
       "    </tr>\n",
       "    <tr>\n",
       "      <th>3</th>\n",
       "      <td>AEROJET ROCKETDYNE</td>\n",
       "      <td>air transit</td>\n",
       "      <td>TRANSPORT</td>\n",
       "      <td>5.240260e+04</td>\n",
       "      <td>8</td>\n",
       "    </tr>\n",
       "    <tr>\n",
       "      <th>4</th>\n",
       "      <td>AES</td>\n",
       "      <td>investor owned utilities</td>\n",
       "      <td>POWER-UTILITIES</td>\n",
       "      <td>4.346795e+05</td>\n",
       "      <td>52</td>\n",
       "    </tr>\n",
       "    <tr>\n",
       "      <th>...</th>\n",
       "      <td>...</td>\n",
       "      <td>...</td>\n",
       "      <td>...</td>\n",
       "      <td>...</td>\n",
       "      <td>...</td>\n",
       "    </tr>\n",
       "    <tr>\n",
       "      <th>561</th>\n",
       "      <td>XCEL ENERGY</td>\n",
       "      <td>investor owned utilities</td>\n",
       "      <td>POWER-UTILITIES</td>\n",
       "      <td>3.562966e+06</td>\n",
       "      <td>466</td>\n",
       "    </tr>\n",
       "    <tr>\n",
       "      <th>562</th>\n",
       "      <td>YALE UNIVERSITY</td>\n",
       "      <td>higher education</td>\n",
       "      <td>OTHER</td>\n",
       "      <td>8.600000e+04</td>\n",
       "      <td>6</td>\n",
       "    </tr>\n",
       "    <tr>\n",
       "      <th>563</th>\n",
       "      <td>ZERO CARBON HYDROGEN COALITION</td>\n",
       "      <td>clean hydrogen</td>\n",
       "      <td>FOSSIL-FUEL</td>\n",
       "      <td>4.400000e+05</td>\n",
       "      <td>14</td>\n",
       "    </tr>\n",
       "    <tr>\n",
       "      <th>564</th>\n",
       "      <td>ZEROAVIA</td>\n",
       "      <td>fuel cell</td>\n",
       "      <td>TRANSPORT</td>\n",
       "      <td>8.068966e+03</td>\n",
       "      <td>24</td>\n",
       "    </tr>\n",
       "    <tr>\n",
       "      <th>565</th>\n",
       "      <td>ZURICH</td>\n",
       "      <td>finance</td>\n",
       "      <td>OTHER</td>\n",
       "      <td>2.082202e+06</td>\n",
       "      <td>187</td>\n",
       "    </tr>\n",
       "  </tbody>\n",
       "</table>\n",
       "<p>566 rows × 5 columns</p>\n",
       "</div>"
      ],
      "text/plain": [
       "                       organization                                   sector  \\\n",
       "0                         ACCELERGY                                 biofuels   \n",
       "1         ADVANTEK WASTE MANAGEMENT                        oilfield services   \n",
       "2                             AECOM  engineering, technology, and consulting   \n",
       "3                AEROJET ROCKETDYNE                              air transit   \n",
       "4                               AES                 investor owned utilities   \n",
       "..                              ...                                      ...   \n",
       "561                     XCEL ENERGY                 investor owned utilities   \n",
       "562                 YALE UNIVERSITY                         higher education   \n",
       "563  ZERO CARBON HYDROGEN COALITION                           clean hydrogen   \n",
       "564                        ZEROAVIA                                fuel cell   \n",
       "565                          ZURICH                                  finance   \n",
       "\n",
       "    very_lumped_sector  total_ccs_lobbying_usd_2005_to_2024  \\\n",
       "0      BIOFUEL-SYNFUEL                         2.294444e+05   \n",
       "1          FOSSIL-FUEL                         2.500000e+04   \n",
       "2     ENGINEERING-TECH                         1.230769e+04   \n",
       "3            TRANSPORT                         5.240260e+04   \n",
       "4      POWER-UTILITIES                         4.346795e+05   \n",
       "..                 ...                                  ...   \n",
       "561    POWER-UTILITIES                         3.562966e+06   \n",
       "562              OTHER                         8.600000e+04   \n",
       "563        FOSSIL-FUEL                         4.400000e+05   \n",
       "564          TRANSPORT                         8.068966e+03   \n",
       "565              OTHER                         2.082202e+06   \n",
       "\n",
       "     total_ccs_lobbying_contacts_2005_to_2024  \n",
       "0                                          28  \n",
       "1                                           3  \n",
       "2                                           3  \n",
       "3                                           8  \n",
       "4                                          52  \n",
       "..                                        ...  \n",
       "561                                       466  \n",
       "562                                         6  \n",
       "563                                        14  \n",
       "564                                        24  \n",
       "565                                       187  \n",
       "\n",
       "[566 rows x 5 columns]"
      ]
     },
     "execution_count": 27,
     "metadata": {},
     "output_type": "execute_result"
    }
   ],
   "source": [
    "total_df"
   ]
  },
  {
   "cell_type": "markdown",
   "metadata": {},
   "source": [
    "### Summarize the mapping of names of organizations used on filing documents to single names \n",
    "(e.g. \"EXXON MOBIL CORPORATION\" and \"EXXONMOBIL\" are both mapped to \"EXXONMOBIL\")"
   ]
  },
  {
   "cell_type": "code",
   "execution_count": 43,
   "metadata": {},
   "outputs": [],
   "source": [
    "companies_df = (\n",
    "    df[\n",
    "        [\n",
    "            \"client_name_on_filing_document\",\n",
    "            \"client_id\",\n",
    "            \"organization\",\n",
    "            \"sector\",\n",
    "            \"lumped_sector\",\n",
    "            \"very_lumped_sector\",\n",
    "            \"definitely_ccs\",\n",
    "        ]\n",
    "    ]\n",
    "    .groupby([\"client_name_on_filing_document\", \"client_id\"])\n",
    "    .agg(\n",
    "        {\n",
    "            \"definitely_ccs\": \"max\",\n",
    "            \"organization\": \"first\",\n",
    "            \"sector\": \"first\",\n",
    "            \"lumped_sector\": \"first\",\n",
    "            \"very_lumped_sector\": \"first\",\n",
    "        }\n",
    "    )\n",
    ")\n",
    "companies_df.reset_index(inplace=True)\n",
    "companies_df.sort_values(\n",
    "    by=[\"organization\", \"client_name_on_filing_document\", \"client_id\"], ascending=True\n",
    ").to_clipboard()"
   ]
  },
  {
   "cell_type": "markdown",
   "metadata": {},
   "source": [
    "## Summarize lobbying-count and dollars spent for all organizations"
   ]
  },
  {
   "cell_type": "code",
   "execution_count": 29,
   "metadata": {},
   "outputs": [
    {
     "name": "stdout",
     "output_type": "stream",
     "text": [
      " *** All organizations, 2005-2024 ***\n",
      "lobbying_activity_usd                    7.864404e+08\n",
      "n_entities_lobbied                       5.424300e+04\n",
      "legistlative_entities_lobbied            2.521400e+04\n",
      "executive_entities_lobbied               2.902900e+04\n",
      "energy, dept of                          4.629000e+03\n",
      "environmental protection agency (epa)    3.062000e+03\n",
      "dtype: float64\n",
      "\n",
      " *** All organizations, 2019-2024 ***\n",
      "lobbying_activity_usd                    4.761220e+08\n",
      "n_entities_lobbied                       3.078800e+04\n",
      "legistlative_entities_lobbied            1.552000e+04\n",
      "executive_entities_lobbied               1.526800e+04\n",
      "energy, dept of                          2.712000e+03\n",
      "environmental protection agency (epa)    1.517000e+03\n",
      "dtype: float64\n"
     ]
    }
   ],
   "source": [
    "total_series = (\n",
    "    df[\n",
    "        [\n",
    "            \"organization\",\n",
    "            \"lobbying_activity_usd\",\n",
    "            \"n_entities_lobbied\",\n",
    "            \"legistlative_entities_lobbied\",\n",
    "            \"executive_entities_lobbied\",\n",
    "            \"energy, dept of\",\n",
    "            \"environmental protection agency (epa)\",\n",
    "        ]\n",
    "    ]\n",
    "    .loc[df.definitely_ccs == 1]\n",
    "    .groupby([\"organization\"])\n",
    "    .sum()\n",
    "    .sort_values(\n",
    "        by=[\"lobbying_activity_usd\"],\n",
    "        ascending=False,\n",
    "    )\n",
    "    .sum()\n",
    ")\n",
    "since_2019_series = (\n",
    "    df[\n",
    "        [\n",
    "            \"organization\",\n",
    "            \"lobbying_activity_usd\",\n",
    "            \"n_entities_lobbied\",\n",
    "            \"legistlative_entities_lobbied\",\n",
    "            \"executive_entities_lobbied\",\n",
    "            \"energy, dept of\",\n",
    "            \"environmental protection agency (epa)\",\n",
    "        ]\n",
    "    ]\n",
    "    .loc[(df.definitely_ccs == 1) & (df.filing_year > 2018)]\n",
    "    .groupby([\"organization\"])\n",
    "    .sum()\n",
    "    .sort_values(\n",
    "        by=[\"lobbying_activity_usd\"],\n",
    "        ascending=False,\n",
    "    )\n",
    "    .sum()\n",
    ")\n",
    "print(\" *** All organizations, 2005-2024 ***\")\n",
    "print(total_series)\n",
    "print(\"\")\n",
    "print(\" *** All organizations, 2019-2024 ***\")\n",
    "print(since_2019_series)"
   ]
  },
  {
   "cell_type": "markdown",
   "metadata": {},
   "source": [
    "### Summarize lobbying-count and dollars spent for the 'heavy hitting' organizations (responsible for 50 percent of federal CCS lobbying)"
   ]
  },
  {
   "cell_type": "code",
   "execution_count": 30,
   "metadata": {},
   "outputs": [
    {
     "name": "stdout",
     "output_type": "stream",
     "text": [
      " *** Heavy-hitting organizations, 2005-2024 ***\n",
      "lobbying_activity_usd                     3.899141e+08\n",
      "pct_of_lobbying_dollars_definitely_ccs    4.957960e+01\n",
      "n_entities_lobbied                        1.252200e+04\n",
      "energy, dept of                           1.047000e+03\n",
      "environmental protection agency (epa)     9.300000e+02\n",
      "legistlative_entities_lobbied             4.623000e+03\n",
      "executive_entities_lobbied                7.899000e+03\n",
      "dtype: float64\n",
      "\n",
      " *** Heavy-hitting organizations, 2019-2024 ***\n",
      "lobbying_activity_usd                                2.394865e+08\n",
      "pct_of_lobbying_dollars_definitely_ccs_since_2019    5.029940e+01\n",
      "n_entities_lobbied                                   6.048000e+03\n",
      "energy, dept of                                      4.700000e+02\n",
      "environmental protection agency (epa)                4.700000e+02\n",
      "legistlative_entities_lobbied                        2.301000e+03\n",
      "executive_entities_lobbied                           3.747000e+03\n",
      "dtype: float64\n"
     ]
    }
   ],
   "source": [
    "# get all-organization totals for past 20 years and past 5: find the number of organizations responsible for 50 percent of lobbying\n",
    "total_series = (\n",
    "    df[\n",
    "        [\n",
    "            \"organization\",\n",
    "            \"lobbying_activity_usd\",\n",
    "            \"pct_of_lobbying_dollars_definitely_ccs\",\n",
    "            \"n_entities_lobbied\",\n",
    "            \"energy, dept of\",\n",
    "            \"environmental protection agency (epa)\",\n",
    "            \"legistlative_entities_lobbied\",\n",
    "            \"executive_entities_lobbied\",\n",
    "        ]\n",
    "    ]\n",
    "    .loc[df.definitely_ccs == 1]\n",
    "    .groupby([\"organization\"])\n",
    "    .sum()\n",
    "    .sort_values(\n",
    "        by=[\"lobbying_activity_usd\"],\n",
    "        ascending=False,\n",
    "    )\n",
    "    .head(15)\n",
    "    .sum()\n",
    ")\n",
    "since_2019_series = (\n",
    "    df[\n",
    "        [\n",
    "            \"organization\",\n",
    "            \"lobbying_activity_usd\",\n",
    "            \"pct_of_lobbying_dollars_definitely_ccs_since_2019\",\n",
    "            \"n_entities_lobbied\",\n",
    "            \"energy, dept of\",\n",
    "            \"environmental protection agency (epa)\",\n",
    "            \"legistlative_entities_lobbied\",\n",
    "            \"executive_entities_lobbied\",\n",
    "        ]\n",
    "    ]\n",
    "    .loc[(df.definitely_ccs == 1) & (df.filing_year > 2018)]\n",
    "    .groupby([\"organization\"])\n",
    "    .sum()\n",
    "    .sort_values(\n",
    "        by=[\"lobbying_activity_usd\"],\n",
    "        ascending=False,\n",
    "    )\n",
    "    .head(16)\n",
    "    .sum()\n",
    ")\n",
    "print(\" *** Heavy-hitting organizations, 2005-2024 ***\")\n",
    "print(total_series)\n",
    "print(\"\")\n",
    "print(\" *** Heavy-hitting organizations, 2019-2024 ***\")\n",
    "print(since_2019_series)"
   ]
  },
  {
   "cell_type": "markdown",
   "metadata": {},
   "source": [
    "### Summary figure: definite CCS lobbying by sector, through time"
   ]
  },
  {
   "cell_type": "code",
   "execution_count": 31,
   "metadata": {},
   "outputs": [
    {
     "data": {
      "text/plain": [
       "Text(0.5, 1.0, 'Dollars spent lobbying the US Federal Government regarding CCS')"
      ]
     },
     "execution_count": 31,
     "metadata": {},
     "output_type": "execute_result"
    },
    {
     "data": {
      "image/png": "[encoded data removed]",
      "text/plain": [
       "<Figure size 1700x500 with 1 Axes>"
      ]
     },
     "metadata": {},
     "output_type": "display_data"
    }
   ],
   "source": [
    "# for histogram hue ordering:\n",
    "sector_for_group = \"very_lumped_sector\"\n",
    "sector_order = list(\n",
    "    df[[sector_for_group, \"lobbying_activity_usd\"]]\n",
    "    .groupby(sector_for_group)\n",
    "    .sum()\n",
    "    .sort_values(by=\"lobbying_activity_usd\", ascending=False)\n",
    "    .index\n",
    ")\n",
    "\n",
    "# lobbying_activity_usd\n",
    "years = list(range(2004, 2025))\n",
    "\n",
    "tmp_df = (\n",
    "    df[[\"filing_year\", \"lobbying_activity_usd\", sector_for_group]]\n",
    "    .loc[(df.definitely_ccs == 1)]\n",
    "    .groupby([sector_for_group, \"filing_year\"])\n",
    "    .sum()\n",
    "    .sort_values(by=\"lobbying_activity_usd\", ascending=False)\n",
    "    .reset_index()\n",
    ").copy(deep=True)\n",
    "tmp_df.rename(columns={\"very_lumped_sector\": \"Sector\"}, inplace=True)\n",
    "fig, ax = plt.subplots(1, 1, figsize=(17, 5))\n",
    "ax = sns.histplot(\n",
    "    data=tmp_df,\n",
    "    x=\"filing_year\",\n",
    "    bins=[0.5 + x for x in years],\n",
    "    hue=\"Sector\",\n",
    "    hue_order=sector_order,\n",
    "    shrink=0.9,\n",
    "    weights=\"lobbying_activity_usd\",\n",
    "    multiple=\"stack\",\n",
    "    palette=\"tab10\",\n",
    ")\n",
    "ax.set_xticks(years)\n",
    "ax.set_xticklabels([str(x) for x in years], fontsize=13)\n",
    "ax.set_yticks([0.0e8, 0.2e8, 0.4e8, 0.6e8, 0.8e8, 1e8, 1.2e8])\n",
    "ax.set_yticklabels([0, 20, 40, 60, 80, 100, 120], fontsize=14)\n",
    "ax.set_axisbelow(True)\n",
    "ax.yaxis.grid()\n",
    "ax.set_ylabel(\"Million USD ($)\", fontsize=14)\n",
    "ax.set_xlabel(\"\")\n",
    "# ax.legend(ncols=3, loc=\"upper center\")\n",
    "ax.set_title(\n",
    "    \"Dollars spent lobbying the US Federal Government regarding CCS\", fontsize=18\n",
    ")"
   ]
  },
  {
   "cell_type": "markdown",
   "metadata": {},
   "source": [
    "### Figure 1: Summary figure of CCUS lobbying efforts, by uber-lumped sector, through time, annotated with key legislative events\n",
    "Same info as above, but with even-more-lumped data. Colorbar matches treemap"
   ]
  },
  {
   "cell_type": "code",
   "execution_count": 32,
   "metadata": {},
   "outputs": [
    {
     "data": {
      "image/png": "[encoded data removed]",
      "text/plain": [
       "<Figure size 1600x700 with 1 Axes>"
      ]
     },
     "metadata": {},
     "output_type": "display_data"
    }
   ],
   "source": [
    "arrowhead_width = 0.2\n",
    "arrowhead_length = 5000000\n",
    "arrow_linewidth = 1.5\n",
    "facecolor = \"black\"\n",
    "edgecolor = \"black\"\n",
    "annotation_fontsize = 20\n",
    "\n",
    "sns.set_context(\"talk\")  # for histogram hue ordering\n",
    "sector_for_group = \"uber_lumped_sector\"\n",
    "\n",
    "# assign colors to sector groups:\n",
    "uber_lumped_color_dict = {\n",
    "    \"Core Fossil Fuels\": \"dimgrey\",\n",
    "    \"Fossil-Fuel Adjacent\": \"darkgrey\",\n",
    "    \"Nonprofit/Issue Advocacy\": \"cornflowerblue\",\n",
    "    '\"Green\"': \"darkseagreen\",\n",
    "    \"Non-FF Industry\": \"firebrick\",\n",
    "    \"Other\": \"darkkhaki\",\n",
    "    # \"UNCATEGORIZED\": \"darkkhaki\",\n",
    "}\n",
    "sector_order = list(\n",
    "    df[[sector_for_group, \"lobbying_activity_usd\"]]\n",
    "    .loc[df[sector_for_group] != \"UNCATEGORIZED\"]\n",
    "    .groupby(sector_for_group)\n",
    "    .sum()\n",
    "    .sort_values(by=\"lobbying_activity_usd\", ascending=False)\n",
    "    .index\n",
    ")\n",
    "\n",
    "# lobbying_activity_usd\n",
    "years = list(range(2005, 2025))\n",
    "\n",
    "tmp_df = (\n",
    "    df[[\"filing_year\", \"lobbying_activity_usd\", sector_for_group]]\n",
    "    .loc[(df.definitely_ccs == 1)]\n",
    "    .groupby([sector_for_group, \"filing_year\"])\n",
    "    .sum()\n",
    "    .sort_values(by=\"lobbying_activity_usd\", ascending=False)\n",
    "    .reset_index()\n",
    ").copy(deep=True)\n",
    "tmp_df.rename(columns={sector_for_group: \"Sector\"}, inplace=True)\n",
    "# fig, ax = plt.subplots(\n",
    "#    1, 1, figsize=(15, 7)\n",
    "# )  # bigger for paper plot (also change legend line below)\n",
    "fig, ax = plt.subplots(\n",
    "    1, 1, figsize=(16, 7)\n",
    ")  # thinner for presentation (also change legend line below)\n",
    "ax = sns.histplot(\n",
    "    data=tmp_df,\n",
    "    x=\"filing_year\",\n",
    "    bins=[0.5 + x for x in years],\n",
    "    hue=\"Sector\",\n",
    "    hue_order=sector_order,\n",
    "    shrink=0.9,\n",
    "    alpha=1,\n",
    "    weights=\"lobbying_activity_usd\",\n",
    "    multiple=\"stack\",\n",
    "    palette=uber_lumped_color_dict,\n",
    ")\n",
    "ax.set_xticks(years)\n",
    "ax.set_xticklabels([str(x) for x in years], fontsize=15)\n",
    "ax.set_yticks([0.0e8, 0.2e8, 0.4e8, 0.6e8, 0.8e8, 1e8, 1.2e8])\n",
    "ax.set_yticklabels([0, 20, 40, 60, 80, 100, 120], fontsize=15)\n",
    "ax.set_axisbelow(True)\n",
    "ax.yaxis.grid()\n",
    "ax.set_ylabel(\"Million USD ($)\", fontsize=18)\n",
    "ax.set_xlabel(\"\")\n",
    "ax.set_xlim([2004.5, 2025])\n",
    "ax.set_title(\n",
    "    \"Dollars spent lobbying the US Federal Government regarding CCS\", fontsize=20\n",
    ")\n",
    "\n",
    "\n",
    "# Create rectangular patches\n",
    "patches = [\n",
    "    Patch(\n",
    "        edgecolor=\"black\",\n",
    "        facecolor=c,\n",
    "        label=\"\\n\".join(re.findall(r\"[^ /]{1,13}(?:[ /]|$)\", l.upper())),\n",
    "    )\n",
    "    for l, c in uber_lumped_color_dict.items()\n",
    "]\n",
    "# scootch the plot so that there is room outside the plot for the legend\n",
    "box = ax.get_position()\n",
    "ax.set_position([box.x0, box.y0, box.width * 0.85, box.height])\n",
    "\n",
    "ax.legend(\n",
    "    handles=patches,\n",
    "    bbox_to_anchor=(1.01, 0.95),\n",
    "    loc=\"upper left\",\n",
    "    borderaxespad=0.0,\n",
    "    labelspacing=1.2,\n",
    "    frameon=False,\n",
    "    prop={\"family\": \"Arial Narrow\", \"weight\": \"semibold\", \"size\": 19},\n",
    ")\n",
    "\n",
    "# --- Add arrows/annotations to the plot ---\n",
    "\n",
    "# 45Q introduced in the tax code\n",
    "plt.arrow(\n",
    "    2008 + 5 / 6 - 0.5,\n",
    "    90 * 1e6,\n",
    "    0,\n",
    "    -19 * 1e6,  # x, y, dx, dy\n",
    "    lw=1.5,\n",
    "    head_width=arrowhead_width,\n",
    "    head_length=arrowhead_length,\n",
    "    overhang=0,\n",
    "    fc=facecolor,\n",
    "    ec=edgecolor,\n",
    ")\n",
    "ax.text(\n",
    "    2008 + 5 / 6 - 0.6,\n",
    "    82 * 1e6,\n",
    "    \"45Q CCS tax credit\\nadded to tax code\",\n",
    "    font=\"Arial narrow\",\n",
    "    fontsize=annotation_fontsize,\n",
    "    color=\"k\",\n",
    "    horizontalalignment=\"right\",\n",
    "    path_effects=[pe.withStroke(linewidth=5, foreground=\"w\", alpha=0.9)],\n",
    ")\n",
    "\n",
    "# Billions in appropriations\n",
    "plt.arrow(\n",
    "    2009,\n",
    "    67 * 1e6,\n",
    "    0,\n",
    "    -18 * 1e6,  # x, y, dx, dy\n",
    "    lw=arrow_linewidth,\n",
    "    head_width=arrowhead_width,\n",
    "    head_length=arrowhead_length,\n",
    "    overhang=0,\n",
    "    fc=facecolor,\n",
    "    ec=edgecolor,\n",
    ")\n",
    "ax.text(\n",
    "    2009.15,\n",
    "    57 * 1e6,\n",
    "    \"Billions appropriated\\nto CCS projects\",\n",
    "    font=\"Arial narrow\",\n",
    "    fontsize=annotation_fontsize,\n",
    "    color=\"k\",\n",
    "    horizontalalignment=\"left\",\n",
    "    path_effects=[pe.withStroke(linewidth=5, foreground=\"w\", alpha=0.9)],\n",
    ")\n",
    "\n",
    "# IIJA increases apprpriated bucks for ccs\n",
    "plt.arrow(\n",
    "    2021 + 5 / 6 - 0.5,\n",
    "    106 * 1e6,\n",
    "    0,\n",
    "    -7.5 * 1e6,  # x, y, dx, dy\n",
    "    lw=arrow_linewidth,\n",
    "    head_width=arrowhead_width,\n",
    "    head_length=arrowhead_length,\n",
    "    overhang=0,\n",
    "    fc=facecolor,\n",
    "    ec=edgecolor,\n",
    ")\n",
    "ax.text(\n",
    "    2015.9,\n",
    "    101 * 1e6,\n",
    "    \"IIJA appropriates $8.2 billion to CCS\",\n",
    "    font=\"Arial narrow\",\n",
    "    fontsize=annotation_fontsize,\n",
    "    color=\"k\",\n",
    "    horizontalalignment=\"left\",\n",
    "    path_effects=[pe.withStroke(linewidth=5, foreground=\"w\", alpha=0.9)],\n",
    ")\n",
    "\n",
    "# IRA increases 45Q\n",
    "plt.arrow(\n",
    "    2022 + 2 / 3 - 0.5,\n",
    "    120 * 1e6,\n",
    "    0,\n",
    "    -14 * 1e6,  # x, y, dx, dy\n",
    "    lw=arrow_linewidth,\n",
    "    head_width=arrowhead_width,\n",
    "    head_length=arrowhead_length,\n",
    "    overhang=0,\n",
    "    fc=facecolor,\n",
    "    ec=edgecolor,\n",
    ")\n",
    "ax.text(\n",
    "    2022.1,\n",
    "    116 * 1e6,\n",
    "    \"IRA significantly increases 45Q tax credits\",\n",
    "    font=\"Arial narrow\",\n",
    "    fontsize=annotation_fontsize,\n",
    "    color=\"k\",\n",
    "    horizontalalignment=\"right\",\n",
    "    path_effects=[pe.withStroke(linewidth=5, foreground=\"w\", alpha=0.9)],\n",
    ")\n",
    "fig.tight_layout()\n",
    "plt.savefig(\"figure_1.pdf\", bbox_inches=\"tight\")"
   ]
  },
  {
   "cell_type": "markdown",
   "metadata": {},
   "source": [
    "#### Figure 2: Treemap figure that uses area to show relative CCUS-lobbying expenditures of different organizations"
   ]
  },
  {
   "cell_type": "code",
   "execution_count": 33,
   "metadata": {},
   "outputs": [
    {
     "data": {
      "application/vnd.plotly.v1+json": {
       "config": {
        "plotlyServerURL": "https://plot.ly"
       },
       "data": [
        {
         "branchvalues": "total",
         "customdata": [
          [
           "environmental"
          ],
          [
           "pipelines"
          ],
          [
           "environmental"
          ],
          [
           "higher education"
          ],
          [
           "think tanks and issue advocacy"
          ],
          [
           "government"
          ],
          [
           "pipelines"
          ],
          [
           "engineering, technology, and consulting"
          ],
          [
           "professional societies"
          ],
          [
           "higher education"
          ],
          [
           "fuel cell"
          ],
          [
           "oil and gas"
          ],
          [
           "iron and steel"
          ],
          [
           "chemicals, refining, and plastics"
          ],
          [
           "fuel cell"
          ],
          [
           "higher education"
          ],
          [
           "food and agriculture"
          ],
          [
           "environmental"
          ],
          [
           "investor owned utilities"
          ],
          [
           "professional societies"
          ],
          [
           "think tanks and issue advocacy"
          ],
          [
           "higher education"
          ],
          [
           "paper products"
          ],
          [
           "oil and gas"
          ],
          [
           "higher education"
          ],
          [
           "carbon"
          ],
          [
           "clean hydrogen"
          ],
          [
           "food and agriculture"
          ],
          [
           "chemicals, refining, and plastics"
          ],
          [
           "food and agriculture"
          ],
          [
           "railway"
          ],
          [
           "investor owned utilities"
          ],
          [
           "nuclear"
          ],
          [
           "investor owned utilities"
          ],
          [
           "government"
          ],
          [
           "government"
          ],
          [
           "iron and steel"
          ],
          [
           "mining and metals"
          ],
          [
           "ccs"
          ],
          [
           "investor owned utilities"
          ],
          [
           "clean hydrogen"
          ],
          [
           "chemicals, refining, and plastics"
          ],
          [
           "air transit"
          ],
          [
           "food and agriculture"
          ],
          [
           "environmental"
          ],
          [
           "municipal and cooperative utilities"
          ],
          [
           "independent research organization"
          ],
          [
           "government"
          ],
          [
           "oil and gas"
          ],
          [
           "municipal and cooperative utilities"
          ],
          [
           "pipelines"
          ],
          [
           "investor owned utilities"
          ],
          [
           "land transit"
          ],
          [
           "paper products"
          ],
          [
           "food and agriculture"
          ],
          [
           "environmental"
          ],
          [
           "energy technology"
          ],
          [
           "labor union"
          ],
          [
           "iron and steel"
          ],
          [
           "engineering, technology, and consulting"
          ],
          [
           "oil and gas"
          ],
          [
           "clean hydrogen"
          ],
          [
           "investor owned utilities"
          ],
          [
           "finance"
          ],
          [
           "oil and gas"
          ],
          [
           "engineering, technology, and consulting"
          ],
          [
           "coal"
          ],
          [
           "ccs"
          ],
          [
           "chemicals, refining, and plastics"
          ],
          [
           "chemicals, refining, and plastics"
          ],
          [
           "UNCATEGORIZED"
          ],
          [
           "ccs"
          ],
          [
           "oil and gas"
          ],
          [
           "investor owned utilities"
          ],
          [
           "environmental"
          ],
          [
           "finance"
          ],
          [
           "engineering, technology, and consulting"
          ],
          [
           "government"
          ],
          [
           "mining and metals"
          ],
          [
           "independent research organization"
          ],
          [
           "government"
          ],
          [
           "independent power producers"
          ],
          [
           "higher education"
          ],
          [
           "chemicals, refining, and plastics"
          ],
          [
           "biofuels"
          ],
          [
           "green hydrogen"
          ],
          [
           "municipal and cooperative utilities"
          ],
          [
           "oil and gas"
          ],
          [
           "ccs"
          ],
          [
           "pipelines"
          ],
          [
           "nuclear"
          ],
          [
           "investor owned utilities"
          ],
          [
           "water"
          ],
          [
           "chemicals, refining, and plastics"
          ],
          [
           "oil and gas"
          ],
          [
           "environmental"
          ],
          [
           "think tanks and issue advocacy"
          ],
          [
           "government"
          ],
          [
           "environmental"
          ],
          [
           "renewable energy"
          ],
          [
           "municipal and cooperative utilities"
          ],
          [
           "municipal and cooperative utilities"
          ],
          [
           "lng"
          ],
          [
           "paper products"
          ],
          [
           "carbon"
          ],
          [
           "air transit"
          ],
          [
           "clean hydrogen"
          ],
          [
           "investor owned utilities"
          ],
          [
           "higher education"
          ],
          [
           "biofuels"
          ],
          [
           "biofuels"
          ],
          [
           "coal"
          ],
          [
           "coal"
          ],
          [
           "paper products"
          ],
          [
           "environmental"
          ],
          [
           "engineering, technology, and consulting"
          ],
          [
           "renewable energy"
          ],
          [
           "oilfield services"
          ],
          [
           "government"
          ],
          [
           "food and agriculture"
          ],
          [
           "iron and steel"
          ],
          [
           "chemicals, refining, and plastics"
          ],
          [
           "oilfield services"
          ],
          [
           "higher education"
          ],
          [
           "labor union"
          ],
          [
           "engineering, technology, and consulting"
          ],
          [
           "coal"
          ],
          [
           "municipal and cooperative utilities"
          ],
          [
           "investor owned utilities"
          ],
          [
           "investor owned utilities"
          ],
          [
           "land transit"
          ],
          [
           "food and agriculture"
          ],
          [
           "air transit"
          ],
          [
           "municipal and cooperative utilities"
          ],
          [
           "renewable energy"
          ],
          [
           "finance"
          ],
          [
           "ccs"
          ],
          [
           "investor owned utilities"
          ],
          [
           "labor union"
          ],
          [
           "mining and metals"
          ],
          [
           "law and public policy"
          ],
          [
           "municipal and cooperative utilities"
          ],
          [
           "carbon"
          ],
          [
           "government"
          ],
          [
           "cement"
          ],
          [
           "oilfield services"
          ],
          [
           "investor owned utilities"
          ],
          [
           "coal"
          ],
          [
           "think tanks and issue advocacy"
          ],
          [
           "finance"
          ],
          [
           "coal"
          ],
          [
           "engineering, technology, and consulting"
          ],
          [
           "food and agriculture"
          ],
          [
           "oil and gas"
          ],
          [
           "fuel cell"
          ],
          [
           "coal"
          ],
          [
           "clean hydrogen"
          ],
          [
           "engineering, technology, and consulting"
          ],
          [
           "algae"
          ],
          [
           "professional societies"
          ],
          [
           "clean hydrogen"
          ],
          [
           "labor union"
          ],
          [
           "land transit"
          ],
          [
           "paper products"
          ],
          [
           "oil and gas"
          ],
          [
           "food and agriculture"
          ],
          [
           "chemicals, refining, and plastics"
          ],
          [
           "investor owned utilities"
          ],
          [
           "investor owned utilities"
          ],
          [
           "investor owned utilities"
          ],
          [
           "municipal and cooperative utilities"
          ],
          [
           "environmental"
          ],
          [
           "environmental"
          ],
          [
           "biofuels"
          ],
          [
           "environmental"
          ],
          [
           "oil and gas"
          ],
          [
           "investor owned utilities"
          ],
          [
           "land transit"
          ],
          [
           "mining and metals"
          ],
          [
           "food and agriculture"
          ],
          [
           "food and agriculture"
          ],
          [
           "labor union"
          ],
          [
           "ccs"
          ],
          [
           "chemicals, refining, and plastics"
          ],
          [
           "pipelines"
          ],
          [
           "environmental"
          ],
          [
           "ccs"
          ],
          [
           "coal"
          ],
          [
           "engineering, technology, and consulting"
          ],
          [
           "carbon"
          ],
          [
           "business advocacy"
          ],
          [
           "government"
          ],
          [
           "professional societies"
          ],
          [
           "investor owned utilities"
          ],
          [
           "independent research organization"
          ],
          [
           "renewable energy"
          ],
          [
           "fuel cell"
          ],
          [
           "municipal and cooperative utilities"
          ],
          [
           "clean hydrogen"
          ],
          [
           "investor owned utilities"
          ],
          [
           "water transit"
          ],
          [
           "investor owned utilities"
          ],
          [
           "mining and metals"
          ],
          [
           "professional societies"
          ],
          [
           "cement"
          ],
          [
           "oil and gas"
          ],
          [
           "carbon"
          ],
          [
           "cement"
          ],
          [
           "biofuels"
          ],
          [
           "oilfield services"
          ],
          [
           "investor owned utilities"
          ],
          [
           "biofuels"
          ],
          [
           "environmental"
          ],
          [
           "food and agriculture"
          ],
          [
           "investor owned utilities"
          ],
          [
           "municipal and cooperative utilities"
          ],
          [
           "investor owned utilities"
          ],
          [
           "think tanks and issue advocacy"
          ],
          [
           "energy technology"
          ],
          [
           "renewable energy"
          ],
          [
           "oil and gas"
          ],
          [
           "finance"
          ],
          [
           "oilfield services"
          ],
          [
           "land transit"
          ],
          [
           "think tanks and issue advocacy"
          ],
          [
           "energy technology"
          ],
          [
           "biofuels"
          ],
          [
           "environmental"
          ],
          [
           "government"
          ],
          [
           "finance"
          ],
          [
           "chemicals, refining, and plastics"
          ],
          [
           "fuel cell"
          ],
          [
           "higher education"
          ],
          [
           "paper products"
          ],
          [
           "carbon"
          ],
          [
           "ccs"
          ],
          [
           "food and agriculture"
          ],
          [
           "pipelines"
          ],
          [
           "fuel cell"
          ],
          [
           "independent power producers"
          ],
          [
           "labor union"
          ],
          [
           "air transit"
          ],
          [
           "finance"
          ],
          [
           "business advocacy"
          ],
          [
           "food and agriculture"
          ],
          [
           "ccs"
          ],
          [
           "oil and gas"
          ],
          [
           "finance"
          ],
          [
           "biofuels"
          ],
          [
           "green hydrogen"
          ],
          [
           "pipelines"
          ],
          [
           "ccs"
          ],
          [
           "finance"
          ],
          [
           "investor owned utilities"
          ],
          [
           "renewable energy"
          ],
          [
           "business advocacy"
          ],
          [
           "paper products"
          ],
          [
           "air transit"
          ],
          [
           "investor owned utilities"
          ],
          [
           "investor owned utilities"
          ],
          [
           "oil and gas"
          ],
          [
           "higher education"
          ],
          [
           "clean hydrogen"
          ],
          [
           "energy technology"
          ],
          [
           "UNCATEGORIZED"
          ],
          [
           "law and public policy"
          ],
          [
           "clean hydrogen"
          ],
          [
           "paper products"
          ],
          [
           "nuclear"
          ],
          [
           "oilfield services"
          ],
          [
           "oilfield services"
          ],
          [
           "UNCATEGORIZED"
          ],
          [
           "chemicals, refining, and plastics"
          ],
          [
           "chemicals, refining, and plastics"
          ],
          [
           "independent power producers"
          ],
          [
           "investor owned utilities"
          ],
          [
           "higher education"
          ],
          [
           "labor union"
          ],
          [
           "higher education"
          ],
          [
           "independent power producers"
          ],
          [
           "chemicals, refining, and plastics"
          ],
          [
           "environmental"
          ],
          [
           "paper products"
          ],
          [
           "oil and gas"
          ],
          [
           "ccs"
          ],
          [
           "municipal and cooperative utilities"
          ],
          [
           "chemicals, refining, and plastics"
          ],
          [
           "biofuels"
          ],
          [
           "cement"
          ],
          [
           "municipal and cooperative utilities"
          ],
          [
           "chemicals, refining, and plastics"
          ],
          [
           "municipal and cooperative utilities"
          ],
          [
           "environmental"
          ],
          [
           "lng"
          ],
          [
           "biofuels"
          ],
          [
           "ccs"
          ],
          [
           "municipal and cooperative utilities"
          ],
          [
           "engineering, technology, and consulting"
          ],
          [
           "engineering, technology, and consulting"
          ],
          [
           "investor owned utilities"
          ],
          [
           "oil and gas"
          ],
          [
           "mining and metals"
          ],
          [
           "iron and steel"
          ],
          [
           "pipelines"
          ],
          [
           "air transit"
          ],
          [
           "labor union"
          ],
          [
           "air transit"
          ],
          [
           "oil and gas"
          ],
          [
           "environmental"
          ],
          [
           "pipelines"
          ],
          [
           "ccs"
          ],
          [
           "investor owned utilities"
          ],
          [
           "chemicals, refining, and plastics"
          ],
          [
           "oil and gas"
          ],
          [
           "coal"
          ],
          [
           "higher education"
          ],
          [
           "environmental"
          ],
          [
           "carbon"
          ],
          [
           "food and agriculture"
          ],
          [
           "land transit"
          ],
          [
           "ccs"
          ],
          [
           "chemicals, refining, and plastics"
          ],
          [
           "carbon"
          ],
          [
           "ccs"
          ],
          [
           "environmental"
          ],
          [
           "investor owned utilities"
          ],
          [
           "paper products"
          ],
          [
           "ccs"
          ],
          [
           "municipal and cooperative utilities"
          ],
          [
           "clean hydrogen"
          ],
          [
           "investor owned utilities"
          ],
          [
           "investor owned utilities"
          ],
          [
           "ccs"
          ],
          [
           "chemicals, refining, and plastics"
          ],
          [
           "government"
          ],
          [
           "municipal and cooperative utilities"
          ],
          [
           "investor owned utilities"
          ],
          [
           "oil and gas"
          ],
          [
           "land transit"
          ],
          [
           "engineering, technology, and consulting"
          ],
          [
           "chemicals, refining, and plastics"
          ],
          [
           "government"
          ],
          [
           "power sector general"
          ],
          [
           "coal"
          ],
          [
           "energy technology"
          ],
          [
           "oil and gas"
          ],
          [
           "labor union"
          ],
          [
           "finance"
          ],
          [
           "chemicals, refining, and plastics"
          ],
          [
           "law and public policy"
          ],
          [
           "ccs"
          ],
          [
           "investor owned utilities"
          ],
          [
           "investor owned utilities"
          ],
          [
           "think tanks and issue advocacy"
          ],
          [
           "carbon"
          ],
          [
           "carbon"
          ],
          [
           "paper products"
          ],
          [
           "independent power producers"
          ],
          [
           "chemicals, refining, and plastics"
          ],
          [
           "paper products"
          ],
          [
           "food and agriculture"
          ],
          [
           "chemicals, refining, and plastics"
          ],
          [
           "coal"
          ],
          [
           "green hydrogen"
          ],
          [
           "algae"
          ],
          [
           "investor owned utilities"
          ],
          [
           "air transit"
          ],
          [
           "labor union"
          ],
          [
           "energy technology"
          ],
          [
           "railway"
          ],
          [
           "oilfield services"
          ],
          [
           "biofuels"
          ],
          [
           "lng"
          ],
          [
           "oil and gas"
          ],
          [
           "fuel cell"
          ],
          [
           "investor owned utilities"
          ],
          [
           "cement"
          ],
          [
           "ccs"
          ],
          [
           "business advocacy"
          ],
          [
           "environmental"
          ],
          [
           "chemicals, refining, and plastics"
          ],
          [
           "renewable energy"
          ],
          [
           "environmental"
          ],
          [
           "higher education"
          ],
          [
           "oil and gas"
          ],
          [
           "environmental"
          ],
          [
           "environmental"
          ],
          [
           "investor owned utilities"
          ],
          [
           "investor owned utilities"
          ],
          [
           "environmental"
          ],
          [
           "pipelines"
          ],
          [
           "clean hydrogen"
          ],
          [
           "investor owned utilities"
          ],
          [
           "coal"
          ],
          [
           "ccs"
          ],
          [
           "oil and gas"
          ],
          [
           "power sector general"
          ],
          [
           "food and agriculture"
          ],
          [
           "ccs"
          ],
          [
           "municipal and cooperative utilities"
          ],
          [
           "investor owned utilities"
          ],
          [
           "think tanks and issue advocacy"
          ],
          [
           "government"
          ],
          [
           "ccs"
          ],
          [
           "environmental"
          ],
          [
           "environmental"
          ],
          [
           "chemicals, refining, and plastics"
          ],
          [
           "ccs"
          ],
          [
           "government"
          ],
          [
           "investor owned utilities"
          ],
          [
           "oilfield services"
          ],
          [
           "railway"
          ],
          [
           "biofuels"
          ],
          [
           "coal"
          ],
          [
           "chemicals, refining, and plastics"
          ],
          [
           "ccs"
          ],
          [
           "environmental"
          ],
          [
           "chemicals, refining, and plastics"
          ],
          [
           "labor union"
          ],
          [
           "food and agriculture"
          ],
          [
           "environmental"
          ],
          [
           "oil and gas"
          ],
          [
           "carbon"
          ],
          [
           "food and agriculture"
          ],
          [
           "environmental"
          ],
          [
           "chemicals, refining, and plastics"
          ],
          [
           "biofuels"
          ],
          [
           "carbon"
          ],
          [
           "higher education"
          ],
          [
           "biofuels"
          ],
          [
           "biofuels"
          ],
          [
           "food and agriculture"
          ],
          [
           "fuel cell"
          ],
          [
           "land transit"
          ],
          [
           "green hydrogen"
          ],
          [
           "oil and gas"
          ],
          [
           "oil and gas"
          ],
          [
           "higher education"
          ],
          [
           "renewable energy"
          ],
          [
           "cement"
          ],
          [
           "biofuels"
          ],
          [
           "higher education"
          ],
          [
           "renewable energy"
          ],
          [
           "oil and gas"
          ],
          [
           "investor owned utilities"
          ],
          [
           "engineering, technology, and consulting"
          ],
          [
           "coal"
          ],
          [
           "pipelines"
          ],
          [
           "biofuels"
          ],
          [
           "chemicals, refining, and plastics"
          ],
          [
           "investor owned utilities"
          ],
          [
           "chemicals, refining, and plastics"
          ],
          [
           "biofuels"
          ],
          [
           "UNCATEGORIZED"
          ],
          [
           "chemicals, refining, and plastics"
          ],
          [
           "finance"
          ],
          [
           "carbon"
          ],
          [
           "pipelines"
          ],
          [
           "chemicals, refining, and plastics"
          ],
          [
           "energy technology"
          ],
          [
           "higher education"
          ],
          [
           "investor owned utilities"
          ],
          [
           "biofuels"
          ],
          [
           "oil and gas"
          ],
          [
           "biofuels"
          ],
          [
           "labor union"
          ],
          [
           "investor owned utilities"
          ],
          [
           "ccs"
          ],
          [
           "chemicals, refining, and plastics"
          ],
          [
           "higher education"
          ],
          [
           "cement"
          ],
          [
           "engineering, technology, and consulting"
          ],
          [
           "land transit"
          ],
          [
           "ccs"
          ],
          [
           "environmental"
          ],
          [
           "municipal and cooperative utilities"
          ],
          [
           "independent power producers"
          ],
          [
           "environmental"
          ],
          [
           "labor union"
          ],
          [
           "municipal and cooperative utilities"
          ],
          [
           "chemicals, refining, and plastics"
          ],
          [
           "clean hydrogen"
          ],
          [
           "land transit"
          ],
          [
           "biofuels"
          ],
          [
           "power sector general"
          ],
          [
           "ccs"
          ],
          [
           "iron and steel"
          ],
          [
           "municipal and cooperative utilities"
          ],
          [
           "labor union"
          ],
          [
           "environmental"
          ],
          [
           "investor owned utilities"
          ],
          [
           "government"
          ],
          [
           "biofuels"
          ],
          [
           "oil and gas"
          ],
          [
           "carbon"
          ],
          [
           "environmental"
          ],
          [
           "chemicals, refining, and plastics"
          ],
          [
           "oil and gas"
          ],
          [
           "higher education"
          ],
          [
           "finance"
          ],
          [
           "municipal and cooperative utilities"
          ],
          [
           "paper products"
          ],
          [
           "biofuels"
          ],
          [
           "investor owned utilities"
          ],
          [
           "municipal and cooperative utilities"
          ],
          [
           "pipelines"
          ],
          [
           "investor owned utilities"
          ],
          [
           "carbon"
          ],
          [
           "investor owned utilities"
          ],
          [
           "energy technology"
          ],
          [
           "food and agriculture"
          ],
          [
           "pipelines"
          ],
          [
           "food and agriculture"
          ],
          [
           "air transit"
          ],
          [
           "clean hydrogen"
          ],
          [
           "investor owned utilities"
          ],
          [
           "higher education"
          ],
          [
           "food and agriculture"
          ],
          [
           "biofuels"
          ],
          [
           "biofuels"
          ],
          [
           "coal"
          ],
          [
           "clean hydrogen"
          ],
          [
           "railway"
          ],
          [
           "think tanks and issue advocacy"
          ],
          [
           "environmental"
          ],
          [
           "environmental"
          ],
          [
           "green hydrogen"
          ],
          [
           "food and agriculture"
          ],
          [
           "government"
          ],
          [
           "business advocacy"
          ],
          [
           "coal"
          ],
          [
           "mining and metals"
          ],
          [
           "government"
          ],
          [
           "labor union"
          ],
          [
           "environmental"
          ],
          [
           "pipelines"
          ],
          [
           "chemicals, refining, and plastics"
          ],
          [
           "biofuels"
          ],
          [
           "investor owned utilities"
          ],
          [
           "railway"
          ],
          [
           "municipal and cooperative utilities"
          ],
          [
           "investor owned utilities"
          ],
          [
           "higher education"
          ],
          [
           "railway"
          ]
         ],
         "domain": {
          "x": [
           0,
           1
          ],
          "y": [
           0,
           1
          ]
         },
         "hovertemplate": "labels=%{label}<br>lobbying_activity_usd=%{value}<br>parent=%{parent}<br>id=%{id}<br>sector=%{customdata[0]}<extra></extra>",
         "ids": [
          "FRIENDS<br>COMMITTEE<br>ON<br>NATIONAL<br>LEGISLATION",
          "KINDER<br>MORGAN",
          "TRUST<br>FOR<br>PUBLIC<br>LAND",
          "UNIVERSITY<br>OF<br>MICHIGAN",
          "ASSOCIATION<br>FOR<br>IMPROVEMENT<br>OF<br>AMERICAN<br>INFRASTRUCTURE",
          "PORT<br>OF<br>TACOMA",
          "TARGA",
          "DNV",
          "AMERICAN<br>ASSOCIATION<br>OF<br>PETROLEUM<br>GEOLOGISTS",
          "UNIVERSITY<br>OF<br>ALASKA",
          "BLOOM<br>ENERGY",
          "GLENROCK<br>PETROLEUM",
          "NUCOR",
          "SASOL",
          "HYDROGEN<br>FUEL<br>CELL<br>BUS<br>COUNCIL",
          "ARIZONA<br>STATE<br>UNIVERSITY",
          "TYSON<br>FOODS",
          "SOUTHERN<br>ENVIRONMENTAL<br>LAW<br>CENTER",
          "NRG",
          "AMERICAN<br>SOCIETY<br>OF<br>MECHANICAL<br>ENGINEERS",
          "CENTER<br>FOR<br>INDIVIDUAL<br>FREEDOM",
          "UNIVERSITY<br>OF<br>ILLINOIS",
          "INTERNATIONAL<br>PAPER",
          "AMERICAN<br>PETROLEUM<br>INSTITUTE",
          "UNIVERSITY<br>OF<br>PITTSBURGH",
          "EION",
          "POWERTAP",
          "MICHIGAN<br>FARM<br>BUREAU",
          "US<br>VENTURE",
          "ILLINOIS<br>AGRICULTURAL<br>ASSOCIATION",
          "NORFOLK<br>SOUTHERN",
          "PNM<br>RESOURCES",
          "BWX<br>TECHNOLOGIES",
          "ITC<br>HOLDINGS",
          "KANSAS<br>DEPARTMENT<br>OF<br>COMMERCE",
          "PORT<br>OF<br>LONG<br>BEACH",
          "CLEVELANDCLIFFS",
          "ANGLO<br>AMERICAN",
          "POWERSPAN",
          "CLECO<br>POWER",
          "HYDROGEN<br>ADVISORY<br>COUNCIL",
          "ECOLAB",
          "AIRLINES<br>FOR<br>AMERICA",
          "LANZATECH",
          "NATIONAL<br>PARKS<br>CONSERVATION<br>ASSOCIATION",
          "AMERICAN<br>MUNICIPAL<br>POWER",
          "RTI<br>INTERNATIONAL",
          "STATE<br>OF<br>LOUISIANA",
          "SHELL",
          "ENERGY<br>NORTHWEST",
          "TALLGRASS",
          "DOMINION",
          "HYUNDAI<br>KIA",
          "PLUM<br>CREEK<br>TIMBER",
          "SUNTORY<br>GLOBAL<br>SPIRITS",
          "INDIAN<br>LAND<br>TENURE",
          "GENERAL<br>ELECTRIC",
          "NATIONAL<br>TREASURY<br>EMPLOYEES<br>UNION",
          "FORTESCUE",
          "LIEBMAN<br>ASSOCIATES",
          "ENERGY<br>MARKETERS<br>OF<br>AMERICA",
          "CZERO",
          "EDISON<br>ELECTRIC<br>INSTITUTE",
          "BREAKTHROUGH<br>ENERGY",
          "KP<br>KAUFFMAN",
          "BLACK<br>VEATCH",
          "DRUMMOND",
          "DRAX<br>GROUP",
          "METHANOL<br>INSTITUTE",
          "COVESTRO",
          "STRATEGIC",
          "NORTH<br>AMERICAN<br>CARBON<br>CAPTURE<br>STORAGE<br>ASSOCIATION<br>NACCSA",
          "NC12",
          "GENERATORS<br>FOR<br>CLEAN<br>AIR",
          "FRIENDS<br>OF<br>EARTH",
          "HARTFORD<br>FINANCIAL",
          "COLIBRI<br>ENTERPRISES",
          "GILA<br>COUNTY<br>AZ",
          "GLENCORE",
          "GREAT<br>PLAINS<br>INSTITUTE",
          "INTERSTATE<br>OIL<br>AND<br>GAS<br>COMPACT<br>COMMISSION",
          "INVENERGY",
          "IOWA<br>STATE<br>UNIVERSITY",
          "HUNTSMAN",
          "GROWTH<br>ENERGY",
          "GTA<br>ENERGY",
          "AUSTIN<br>ENERGY",
          "CHEVRON",
          "CARBON<br>ENGINEERING<br>ULC",
          "ENERGY<br>TRANSFER<br>PARTNERS",
          "NUCLEAR<br>INNOVATION<br>ALLIANCE",
          "ONE<br>GAS",
          "ASSOCIATION<br>OF<br>METROPOLITAN<br>WATER<br>AGENCIES",
          "BAYER",
          "DIFFERENTIATED<br>GAS<br>COORDINATING<br>COUNCIL<br>COALITION",
          "PLASTIC<br>POLLUTION<br>COALITION",
          "CENTER<br>FOR<br>AMERICAN<br>PROGRESS",
          "NATAT<br>NATIONAL<br>ASSOCIATION<br>OF<br>TOWNS<br>AND<br>TOWNSHIPS",
          "CARBON<br>ADVOCACY<br>PROJECT",
          "CLEARWAY<br>ENERGY",
          "MINNKOTA<br>POWER<br>COOPERATIVE",
          "NEW<br>YORK<br>ASSOCIATION<br>OF<br>PUBLIC<br>POWER",
          "CHENIERE<br>ENERGY",
          "HARDWOOD<br>FEDERATION",
          "PROCESS<br>ENERGY<br>SOLUTIONS",
          "AEROJET<br>ROCKETDYNE",
          "HYDROGEN<br>ENERGY<br>CALIFORNIA",
          "ALGONQUIN<br>POWER<br>UTILITIES",
          "VANDERBILT<br>UNIVERSITY",
          "ALTERNATIVE<br>FUELS<br>CHEMICALS<br>COALITION",
          "AMERICAN<br>BIOMASS<br>ENERGY<br>ASSOCIATION",
          "AMERICAN<br>COALITION<br>FOR<br>CLEAN<br>COAL<br>ELECTRICITY",
          "FRONTIERAS",
          "AMERICAN<br>FOREST<br>RESOURCE<br>COUNCIL",
          "AMERICAN<br>FORESTS",
          "FOSTER<br>WHEELER",
          "AMERICAN<br>WIND<br>ENERGY<br>ASSOCIATION",
          "THERMOENERGY",
          "CALIFORNIA<br>STATE<br>ASSOCIATION<br>OF<br>COUNTIES",
          "INDIGO",
          "ARCELORMITTAL",
          "DUPONT",
          "REPUBLIC",
          "RICE<br>UNIVERSITY",
          "INTERNATIONAL<br>UNION<br>OF<br>OPERATING<br>ENGINEERS",
          "ROBERT<br>BOSCH",
          "LIGNITE<br>ENERGY<br>COUNCIL",
          "BASIN<br>ELECTRIC<br>POWER<br>COOPERATIVE",
          "EVERGY",
          "EXELON",
          "NATSO",
          "KEURIG<br>DR<br>PEPPER",
          "DELTA",
          "NATIONAL<br>RURAL<br>ELECTRIC<br>COOPERATIVE<br>ASSOCIATION",
          "LONGROAD<br>ENERGY<br>MANAGEMENT",
          "MACQUARIE<br>INFRASTRUCTURE<br>AND<br>REAL<br>ASSETS",
          "GULF<br>COAST<br>SEQUESTRATION",
          "ELECTRIC<br>POWER<br>SUPPLY<br>ASSOCIATION",
          "INTERNATIONAL<br>BROTHERHOOD<br>OF<br>BOILERMAKERS",
          "RIO<br>TINTO",
          "CLARK<br>STREET<br>ASSOCIATES",
          "POWDER<br>RIVER<br>ENERGY",
          "SKYONIC",
          "SEWARD<br>AK",
          "CEMEX",
          "ORIGINOIL",
          "PINNACLE<br>WEST<br>CAPITAL",
          "FUTUREGEN<br>INDUSTRIAL<br>ALLIANCE",
          "CONSERVATION<br>ALLIANCE",
          "ARTHUR<br>J<br>GALLAGHER",
          "BITUMINOUS<br>COAL<br>OPERATORS<br>ASSOCIATION",
          "WSP",
          "OHIO<br>FARM<br>BUREAU<br>FEDERATION",
          "EOG<br>RESOURCES",
          "NUVERA<br>FUEL<br>CELLS",
          "CLOUD<br>PEAK<br>ENERGY<br>RESOURCES",
          "BAYOTECH",
          "C2I",
          "ALGENOL",
          "AMERICAN<br>SOCIETY<br>OF<br>CIVIL<br>ENGINEERS",
          "TEN08<br>ENERGY",
          "INTERNATIONAL<br>BROTHERHOOD<br>OF<br>TEAMSTERS",
          "CUMMINS",
          "NATIONAL<br>ALLIANCE<br>OF<br>FOREST<br>OWNERS",
          "AMERICAN<br>GAS<br>ASSOCIATION",
          "SMITHFIELD<br>FOODS",
          "SOLVAY",
          "AMEREN",
          "BERKSHIRE<br>HATHAWAY<br>ENERGY",
          "EDISON<br>INTERNATIONAL",
          "LARGE<br>PUBLIC<br>POWER<br>COUNCIL",
          "LEAGUE<br>OF<br>CONSERVATION<br>VOTERS",
          "NATURE<br>CONSERVANCY",
          "ENVIRONMENTAL<br>POWER",
          "GREENPEACE",
          "OCCIDENTAL<br>PETROLEUM",
          "MDU<br>RESOURCES",
          "HONDA",
          "TALON<br>NICKEL",
          "PRIMIENT",
          "PENNSYLVANIA<br>FARM<br>BUREAU",
          "UNITED<br>STEELWORKERS",
          "ONE<br>EARTH<br>SEQUESTRATION",
          "EVONIK",
          "ASSOCIATION<br>OF<br>OIL<br>PIPE<br>LINES",
          "ENVIRONMENTAL<br>DEFENSE<br>FUND",
          "WABASH<br>VALLEY<br>RESOURCES",
          "WESTERN<br>FUELS",
          "GEODIGITAL<br>INTERNATIONAL",
          "VAULTED<br>DEEP",
          "US<br>CHAMBER<br>OF<br>COMMERCE",
          "STATE<br>OF<br>INDIANA",
          "INSTITUTE<br>OF<br>ELECTRICAL<br>AND<br>ELECTRONICS<br>ENGINEERS",
          "FIRSTENERGY",
          "WOODWELL<br>CLIMATE<br>RESEARCH<br>CENTER",
          "INTERSECT<br>POWER",
          "US<br>FUEL<br>CELL<br>COUNCIL",
          "JAMESTOWN<br>BOARD<br>OF<br>PUBLIC<br>UTILITIES",
          "EKONA<br>POWER",
          "WEC<br>ENERGY",
          "WORLD<br>SHIPPING<br>COUNCIL",
          "NATIONAL<br>GRID",
          "NATIONAL<br>MINING<br>ASSOCIATION",
          "NATIONAL<br>SOCIETY<br>OF<br>PROFESSIONAL<br>SURVEYORS",
          "CALPORTLAND",
          "MARATHON",
          "PROJECT<br>VESTA",
          "BRIMSTONE<br>ENERGY",
          "RENEWABLE<br>FUELS<br>ASSOCIATION",
          "MM<br>ENERGY",
          "CONSTELLATION<br>ENERGY",
          "RENTECH",
          "RIPE<br>ROADMAP",
          "NEW<br>YORK<br>FARM<br>BUREAU",
          "WASHINGTON<br>GAS<br>LIGHT",
          "SACRAMENTO<br>MUNICIPAL<br>UTILITY<br>DISTRICT",
          "EMPIRE<br>DISTRICT<br>ELECTRIC",
          "CLEARPATH<br>ACTION<br>FOR<br>CONSERVATIVE<br>CLEAN<br>ENERGY",
          "SCHNEIDER<br>ELECTRIC",
          "NEXTERA",
          "HYPERION<br>RESOURCES",
          "NATIONAL<br>VENTURE<br>CAPITAL<br>ASSOCIATION",
          "BAKER<br>HUGHES",
          "CATERPILLAR",
          "PARTNERSHIP<br>FOR<br>JOB<br>CREATION",
          "SIEMENS",
          "GREEN<br>PLAINS",
          "LINDEN<br>TRUST<br>FOR<br>CONSERVATION",
          "ROSEVILLE<br>CA",
          "BANK<br>POLICY<br>INSTITUTE",
          "CELANESE",
          "PLUG<br>POWER",
          "WESTERN<br>MICHIGAN<br>UNIVERSITY",
          "WEYERHAEUSER",
          "WORLD<br>ENERGY",
          "NAVIGATOR<br>CO2",
          "UNILEVER<br>UNITED<br>STATES",
          "TRANS<br>CANADA",
          "ZEROAVIA",
          "SUMMIT<br>POWER",
          "INTERNATIONAL<br>UNION<br>OF<br>PAINTERS<br>AND<br>ALLIED<br>TRADES",
          "RTX",
          "LEUCADIA<br>NATIONAL",
          "NATIONAL<br>ASSOCIATION<br>OF<br>MANUFACTURERS",
          "NATIONAL<br>PORK<br>PRODUCERS<br>COUNCIL",
          "VERDE<br>CO2",
          "SANDRIDGE<br>ENERGY",
          "ZURICH",
          "H<br>CYCLE",
          "ECOLECTRO",
          "COLONIAL<br>PIPELINE",
          "CEMVITA",
          "BANK<br>OF<br>AMERICA",
          "ATMOS<br>ENERGY",
          "ENEL",
          "GREATER<br>PITTSBURGH<br>CHAMBER<br>OF<br>COMMERCE",
          "POTLATCHDELTIC",
          "ATLAS<br>AIR<br>WORLDWIDE<br>HOLDINGS",
          "UIL-AVANGRID",
          "AMERICAN<br>TRANSMISSION",
          "ENI",
          "UNIVERSITY<br>OF<br>KENTUCKY",
          "VERDAGY",
          "HITACHI",
          "ELECTRONIC<br>TRANSACTIONS<br>ASSOCIATION",
          "WILEY<br>REIN",
          "MODERN<br>HYDROGEN",
          "WHITE<br>OAK<br>INITIATIVE",
          "NUCLEAR<br>ENERGY<br>INSTITUTE",
          "WASTE<br>MANAGEMENT",
          "HALLIBURTON",
          "UNITED<br>PHOSPHORUS",
          "VALERO",
          "SIGNA<br>CHEMISTRY",
          "SITHE<br>GLOBAL<br>POWER",
          "SOUTHERN<br>COMPANY",
          "UNIVERSITY<br>OF<br>WASHINGTON",
          "UNITED<br>MINE<br>WORKERS<br>OF<br>AMERICA",
          "UNIVERSITY<br>OF<br>CALIFORNIA",
          "VISTRA",
          "PHILLIPS<br>66",
          "GEOS<br>INSTITUTE",
          "GLASS<br>PACKAGING<br>INSTITUTE<br>GPI",
          "TELLUS<br>OPERATING",
          "REMORA",
          "GRANT<br>COUNTY<br>PUBLIC<br>UTILITY<br>DISTRICT",
          "PBF",
          "RAVEN<br>SR",
          "PORTLAND<br>CEMENT<br>ASSOCIATION",
          "PRAIRIE<br>STATE<br>GENERATING",
          "ORIGIN<br>MATERIALS",
          "OHIO<br>MUNICIPAL<br>ELECTRIC<br>ASSOCIATION",
          "OCEAN<br>CONSERVANCY",
          "NEXTDECADE",
          "NEW<br>GENERATION<br>BIOFUELS",
          "NET<br>POWER",
          "SALT<br>RIVER<br>PROJECT",
          "CROWLEY<br>MARITIME",
          "SOAP<br>CREEK<br>ENERGY",
          "TECO",
          "WOODSIDE<br>ENERGY",
          "JOY<br>GLOBAL",
          "SSAB<br>ENTERPRISES",
          "INTERSTATE<br>NATURAL<br>GAS<br>ASSOCIATION<br>OF<br>AMERICA",
          "UNIVERSAL<br>HYDROGEN",
          "UNITED<br>ASSOCIATION<br>OF<br>JOURNEYMEN<br>APPRENTICES<br>OF<br>PLUMBING<br>PIPEFITTING<br>INDUSTRY",
          "UNITED<br>AIRLINES",
          "TOTAL",
          "NATIONAL<br>AUDUBON<br>SOCIETY",
          "MAGELLAN<br>MIDSTREAM<br>PARTNERS",
          "AKERMIN",
          "BLACK<br>HILLS",
          "CROWN<br>AGRO<br>FUELS",
          "CONOCO<br>PHILLIPS",
          "PEABODY",
          "UNIVERSITY<br>OF<br>TEXAS",
          "WILDERNESS<br>SOCIETY",
          "EQUATIC<br>TECH",
          "AMERICAN<br>FARM<br>BUREAU<br>FEDERATION",
          "AMERICAN<br>PUBLIC<br>TRANSPORTATION<br>ASSOCIATION",
          "CAPTURA",
          "AMERICAN<br>FUEL<br>PETROCHEMICAL<br>MANUFACTURERS",
          "CARBON<br>UPCYCLING",
          "CARBON<br>UTILIZATION<br>RESEARCH<br>COUNCIL",
          "AMERICAN<br>FOREST<br>FOUNDATION",
          "PACIFIC<br>GAS<br>AND<br>ELECTRIC",
          "PACIFIC<br>FOREST<br>TRUST",
          "CCS<br>ALLIANCE",
          "DOUGLAS<br>COUNTY<br>PUBLIC<br>UTILITY<br>DISTRICT",
          "ONE<br>H2",
          "AMERICAN<br>ELECTRIC<br>POWER",
          "CENTERPOINT",
          "JUPITER<br>OXYGEN",
          "CF<br>INDUSTRIES",
          "CHAMPAIGNURBANA<br>MASS<br>TRANSIT<br>DISTRICT",
          "NORTHERN<br>CALIFORNIA<br>POWER<br>AGENCY",
          "PORTLAND<br>GENERAL<br>ELECTRIC",
          "CHESAPEAKE<br>ENERGY",
          "CALSTART",
          "EMERSON",
          "ARKEMA",
          "STATE<br>OF<br>ILLINOIS",
          "INDUSTRIAL<br>ENERGY<br>CONSUMERS<br>OF<br>AMERICA",
          "ARCH<br>RESOURCES",
          "BABCOCK<br>WILCOX",
          "BAKKEN<br>ENERGY",
          "INTERNATIONAL<br>ASSOCIATION<br>OF<br>MACHINISTS<br>AND<br>AEROSPACE<br>WORKERS",
          "ARA<br>PARTNERS",
          "LINDE",
          "BLEDSOE<br>ASSOCIATES",
          "BLUE<br>SOURCE",
          "EVERSOURCE",
          "DUKE",
          "AMERICANS<br>FOR<br>TAX<br>REFORM",
          "PROJECT<br>CANARY",
          "CALERA",
          "AMERICAN<br>WOOD<br>COUNCIL",
          "CALPINE",
          "AMERICAN<br>CHEMICAL<br>SOCIETY",
          "SMURFIT<br>STONE<br>CONTAINER",
          "VISCON",
          "AIR<br>PRODUCTS<br>AND<br>CHEMICALS",
          "CLINE<br>RESOURCES",
          "HIGHLY<br>INNOVATIVE<br>FUELS",
          "ALGAE<br>BIOMASS<br>ORGANIZATION",
          "CONSOLIDATED<br>EDISON",
          "HAWAIIAN<br>AIRLINES",
          "AFLCIO",
          "HONEYWELL<br>INTERNATIONAL",
          "ALSTOM",
          "ADVANTEK<br>WASTE<br>MANAGEMENT",
          "CHARM<br>INDUSTRIAL",
          "NEW<br>FORTRESS<br>ENERGY",
          "AMERICAS<br>NATURAL<br>GAS<br>ALLIANCE",
          "FUEL<br>CELL<br>AND<br>HYDROGEN<br>ENERGY<br>ASSOCIATION",
          "OKLAHOMA<br>GAS<br>AND<br>ELECTRIC",
          "HOLCIM",
          "FIDELIS<br>NEW<br>ENERGY",
          "WESTERN<br>BUSINESS<br>ROUNDTABLE",
          "LAND<br>TRUST<br>ALLIANCE",
          "CHEMOURS",
          "ORSTED",
          "OPEN<br>SPACE<br>INSTITUTE",
          "CALIFORNIA<br>INSTITUTE<br>OF<br>TECHNOLOGY",
          "BP<br>AMERICA",
          "APPALACHIAN<br>TRAIL<br>CONSERVANCY",
          "APPALACHIAN<br>VOICES",
          "ENGIE",
          "NORTHWESTERN<br>ENERGY",
          "CLEAN<br>AIR<br>TASK<br>FORCE",
          "ONEOK",
          "MONOLITH<br>MATERIALS",
          "CMS<br>ENERGY",
          "CONSOL<br>ENERGY",
          "CARBON<br>GEOCAPTURE",
          "EQUINOR",
          "NATIONAL<br>FUEL<br>GAS",
          "SAZERAC",
          "ENERGY<br>ADVANCE<br>CENTER",
          "TACOMA<br>PUBLIC<br>UTILITIES",
          "PUGET<br>SOUND<br>ENERGY",
          "BIPARTISAN<br>POLICY<br>CENTER",
          "PORTLAND<br>OR",
          "SVANTE",
          "WESTERN<br>ORGANIZATION<br>OF<br>RESOURCE<br>COUNCILS",
          "EARTHJUSTICE",
          "EASTMAN<br>CHEMICAL",
          "MILESTONE<br>ENVIRONMENTAL",
          "STATE<br>OF<br>NORTH<br>DAKOTA",
          "PUBLIC<br>SERVICE<br>ENTERPRISE",
          "TETRA<br>TECHNOLOGIES",
          "BNSF<br>RAILWAY",
          "AMERICAN<br>BIOGAS<br>COUNCIL",
          "GREATPOINT<br>ENERGY",
          "KOCH<br>INDUSTRIES",
          "CLEAN<br>ENERGY<br>SYSTEMS",
          "CENTER<br>FOR<br>CLIMATE<br>AND<br>ENERGY<br>SOLUTIONS",
          "DYSTAR",
          "INTERNATIONAL<br>BROTHERHOOD<br>OF<br>ELECTRICAL<br>WORKERS",
          "NEBRASKA<br>FARM<br>BUREAU<br>FEDERATION",
          "SCENIC<br>VISTAS",
          "EQT",
          "HEIRLOOM<br>CARBON<br>TECHNOLOGIES",
          "NATIONAL<br>COTTON<br>COUNCIL",
          "BLUE<br>GREEN<br>ALLIANCE",
          "RHODIA",
          "REWORLD",
          "US<br>BIOCHAR<br>COALITION",
          "GEORGIA<br>INSTITUTE<br>OF<br>TECHNOLOGY",
          "POET",
          "TWELVE<br>BENEFIT",
          "NATIONAL<br>MILK<br>PRODUCERS<br>FEDERATION",
          "NIKOLA",
          "GENERAL<br>MOTORS",
          "TES<br>US<br>DEVELOPMENT",
          "CNX<br>RESOURCES",
          "NATIONAL<br>OCEAN<br>INDUSTRIES<br>ASSOCIATION",
          "MASSACHUSETTS<br>INSTITUTE<br>OF<br>TECHNOLOGY",
          "AMERICAN<br>CLEAN<br>POWER<br>ASSOCIATION",
          "NATIONAL<br>READY<br>MIXED<br>CONCRETE<br>ASSOCIATION",
          "CODEXIS",
          "CARNEGIE<br>MELLON<br>UNIVERSITY",
          "APEX<br>CLEAN<br>ENERGY",
          "AETHON<br>ENERGY",
          "AES",
          "AECOM",
          "ALPHA<br>NATURAL<br>RESOURCES",
          "HOWARD<br>ENERGY<br>PARTNERS",
          "UNITED<br>BIOREFINERIES",
          "AMERICAN<br>CHEMISTRY<br>COUNCIL",
          "ALLIANT<br>ENERGY",
          "AIR<br>LIQUIDE",
          "ACCELERGY",
          "ASCD",
          "FERTILIZER<br>INSTITUTE",
          "FINANCIAL<br>FORUM",
          "CARBONFUTURE",
          "LIQUID<br>ENERGY<br>PIPELINE<br>ASSOCIATION",
          "DOW",
          "MITSUBISHI",
          "NATIONAL<br>ASSOCIATION<br>OF<br>INDEPENDENT<br>COLLEGES<br>UNIVERSITIES",
          "DTE<br>ENERGY",
          "BIOMASS<br>POWER<br>ASSOCIATION",
          "CNOOC",
          "CORN<br>REFINERS<br>ASSOCIATION",
          "INTERNATIONAL<br>ASSOCIATION<br>OF<br>SHEET<br>METAL<br>AIR<br>RAIL<br>TRANSPORTATION<br>WORKERS",
          "SEMPRA",
          "NET<br>NEGATIVE<br>CO2<br>BASELOAD<br>POWER",
          "METHANEX",
          "NEW<br>MEXICO<br>STATE<br>UNIVERSITY",
          "FORTERA",
          "NANO<br>TERRA",
          "FEDEX",
          "CLEAN<br>COAL<br>TECHNOLOGIES",
          "NATURAL<br>RESOURCES<br>DEFENSE<br>COUNCIL",
          "SOUTHERN<br>MONTANA<br>ELECTRIC<br>GENERATION<br>TRANSMISSION<br>COOPERATIVE",
          "TENASKA",
          "NATIONAL<br>GROUND<br>WATER<br>ASSOCIATION",
          "UTILITY<br>WORKERS<br>UNION<br>OF<br>AMERICA",
          "SOUTHERN<br>CALIFORNIA<br>PUBLIC<br>POWER<br>AUTHORITY",
          "BASF",
          "GLOBAL<br>HYDROGEN<br>TECHNOLOGIES",
          "TOYOTA",
          "NATURAL<br>STATE<br>RENEWABLES",
          "UNIPER<br>GLOBAL<br>COMMODITIES",
          "CARBON<br>ENGINEERING",
          "US<br>STEEL",
          "TRISTATE<br>GENERATION<br>AND<br>TRANSMISSION<br>ASSOCIATION",
          "INTL<br>ASSOCIATION<br>OF<br>BRIDGE<br>STRUCTURAL<br>ORNAMENTAL<br>REINFORCING<br>IRON<br>WORKERS",
          "SIERRA<br>CLUB",
          "FLORIDA<br>POWER<br>LIGHT",
          "CORPUS<br>CHRISTI<br>TX",
          "BIAENERGY<br>OPERATING",
          "EXXON<br>MOBIL",
          "RUNNING<br>TIDE",
          "CARBON<br>180",
          "CHART<br>INDUSTRIES",
          "INDEPENDENT<br>PETROLEUM<br>ASSOCIATION<br>OF<br>AMERICA",
          "UNIVERSITY<br>OF<br>DELAWARE",
          "NATIONAL<br>ASSOCIATION<br>OF<br>FEDERALLYINSURED<br>CREDIT<br>UNIONS",
          "AMERICAN<br>PUBLIC<br>POWER<br>ASSOCIATION",
          "AMERICAN<br>FOREST<br>PAPER<br>ASSOCIATION",
          "CLEAN<br>ENERGY<br>FUELS",
          "ENTERGY",
          "MISSOURI<br>RIVER<br>ENERGY",
          "ENBRIDGE",
          "NORTHWEST<br>NATURAL<br>HOLDING<br>COMPANY",
          "CARBON<br>MANAGEMENT<br>ALLIANCE",
          "ALLETE",
          "COUNCIL<br>OF<br>INDUSTRIAL<br>BOILER<br>OWNERS",
          "KANSAS<br>FARM<br>BUREAU",
          "BOARDWALK<br>PIPELINE",
          "CALIFORNIA<br>AGRICULTURAL<br>COMMISSIONERS<br>AND<br>SEALERS<br>ASSOCIATION",
          "NORTHROP<br>GRUMMAN",
          "ZERO<br>CARBON<br>HYDROGEN<br>COALITION",
          "XCEL<br>ENERGY",
          "OHIO<br>UNIVERSITY",
          "OREGON<br>FARM<br>BUREAU<br>FEDERATION",
          "ARBOR<br>ENERGY<br>AND<br>RESOURCES",
          "BIOTECHNOLOGY<br>INNOVATION<br>ORGANIZATION",
          "AMERICAS<br>POWER",
          "CLEAN<br>HYDROGEN<br>FUTURE<br>COALITION",
          "ASSOCIATION<br>OF<br>AMERICAN<br>RAILROADS",
          "CENTER<br>FOR<br>TRANSPORTATION<br>AND<br>ENVIRONMENT",
          "PARTNERSHIP<br>FOR<br>CONSERVATION",
          "NATIONAL<br>WASTE<br>RECYCLING<br>ASSOCIATION",
          "OBSIDIAN<br>RENEWABLES",
          "ARCHER<br>DANIELS<br>MIDLAND",
          "SOUTHERN<br>UTE<br>INDIAN<br>TRIBE",
          "BUSINESS<br>ROUNDTABLE",
          "DKRW",
          "METALS",
          "SAN<br>JOAQUIN<br>VALLEY<br>REGIONAL<br>PLANNING<br>AGENCIES<br>POLICY<br>COUNCIL",
          "UNITED<br>BROTHERHOOD<br>OF<br>CARPENTERS",
          "CITIZENS<br>FOR<br>RESPONSIBLE<br>ENERGY<br>SOLUTIONS",
          "WILLIAMS<br>COMPANIES",
          "LYONDELL<br>CHEMICAL",
          "TOPSOE",
          "NISOURCE",
          "UNION<br>PACIFIC",
          "CITY<br>UTILITIES<br>OF<br>SPRINGFIELD",
          "PPL",
          "YALE<br>UNIVERSITY",
          "CSX"
         ],
         "labels": [
          "FRIENDS<br>COMMITTEE<br>ON<br>NATIONAL<br>LEGISLATION",
          "KINDER<br>MORGAN",
          "TRUST<br>FOR<br>PUBLIC<br>LAND",
          "UNIVERSITY<br>OF<br>MICHIGAN",
          "ASSOCIATION<br>FOR<br>IMPROVEMENT<br>OF<br>AMERICAN<br>INFRASTRUCTURE",
          "PORT<br>OF<br>TACOMA",
          "TARGA",
          "DNV",
          "AMERICAN<br>ASSOCIATION<br>OF<br>PETROLEUM<br>GEOLOGISTS",
          "UNIVERSITY<br>OF<br>ALASKA",
          "BLOOM<br>ENERGY",
          "GLENROCK<br>PETROLEUM",
          "NUCOR",
          "SASOL",
          "HYDROGEN<br>FUEL<br>CELL<br>BUS<br>COUNCIL",
          "ARIZONA<br>STATE<br>UNIVERSITY",
          "TYSON<br>FOODS",
          "SOUTHERN<br>ENVIRONMENTAL<br>LAW<br>CENTER",
          "NRG",
          "AMERICAN<br>SOCIETY<br>OF<br>MECHANICAL<br>ENGINEERS",
          "CENTER<br>FOR<br>INDIVIDUAL<br>FREEDOM",
          "UNIVERSITY<br>OF<br>ILLINOIS",
          "INTERNATIONAL<br>PAPER",
          "AMERICAN<br>PETROLEUM<br>INSTITUTE",
          "UNIVERSITY<br>OF<br>PITTSBURGH",
          "EION",
          "POWERTAP",
          "MICHIGAN<br>FARM<br>BUREAU",
          "US<br>VENTURE",
          "ILLINOIS<br>AGRICULTURAL<br>ASSOCIATION",
          "NORFOLK<br>SOUTHERN",
          "PNM<br>RESOURCES",
          "BWX<br>TECHNOLOGIES",
          "ITC<br>HOLDINGS",
          "KANSAS<br>DEPARTMENT<br>OF<br>COMMERCE",
          "PORT<br>OF<br>LONG<br>BEACH",
          "CLEVELANDCLIFFS",
          "ANGLO<br>AMERICAN",
          "POWERSPAN",
          "CLECO<br>POWER",
          "HYDROGEN<br>ADVISORY<br>COUNCIL",
          "ECOLAB",
          "AIRLINES<br>FOR<br>AMERICA",
          "LANZATECH",
          "NATIONAL<br>PARKS<br>CONSERVATION<br>ASSOCIATION",
          "AMERICAN<br>MUNICIPAL<br>POWER",
          "RTI<br>INTERNATIONAL",
          "STATE<br>OF<br>LOUISIANA",
          "SHELL",
          "ENERGY<br>NORTHWEST",
          "TALLGRASS",
          "DOMINION",
          "HYUNDAI<br>KIA",
          "PLUM<br>CREEK<br>TIMBER",
          "SUNTORY<br>GLOBAL<br>SPIRITS",
          "INDIAN<br>LAND<br>TENURE",
          "GENERAL<br>ELECTRIC",
          "NATIONAL<br>TREASURY<br>EMPLOYEES<br>UNION",
          "FORTESCUE",
          "LIEBMAN<br>ASSOCIATES",
          "ENERGY<br>MARKETERS<br>OF<br>AMERICA",
          "CZERO",
          "EDISON<br>ELECTRIC<br>INSTITUTE",
          "BREAKTHROUGH<br>ENERGY",
          "KP<br>KAUFFMAN",
          "BLACK<br>VEATCH",
          "DRUMMOND",
          "DRAX<br>GROUP",
          "METHANOL<br>INSTITUTE",
          "COVESTRO",
          "STRATEGIC",
          "NORTH<br>AMERICAN<br>CARBON<br>CAPTURE<br>STORAGE<br>ASSOCIATION<br>NACCSA",
          "NC12",
          "GENERATORS<br>FOR<br>CLEAN<br>AIR",
          "FRIENDS<br>OF<br>EARTH",
          "HARTFORD<br>FINANCIAL",
          "COLIBRI<br>ENTERPRISES",
          "GILA<br>COUNTY<br>AZ",
          "GLENCORE",
          "GREAT<br>PLAINS<br>INSTITUTE",
          "INTERSTATE<br>OIL<br>AND<br>GAS<br>COMPACT<br>COMMISSION",
          "INVENERGY",
          "IOWA<br>STATE<br>UNIVERSITY",
          "HUNTSMAN",
          "GROWTH<br>ENERGY",
          "GTA<br>ENERGY",
          "AUSTIN<br>ENERGY",
          "CHEVRON",
          "CARBON<br>ENGINEERING<br>ULC",
          "ENERGY<br>TRANSFER<br>PARTNERS",
          "NUCLEAR<br>INNOVATION<br>ALLIANCE",
          "ONE<br>GAS",
          "ASSOCIATION<br>OF<br>METROPOLITAN<br>WATER<br>AGENCIES",
          "BAYER",
          "DIFFERENTIATED<br>GAS<br>COORDINATING<br>COUNCIL<br>COALITION",
          "PLASTIC<br>POLLUTION<br>COALITION",
          "CENTER<br>FOR<br>AMERICAN<br>PROGRESS",
          "NATAT<br>NATIONAL<br>ASSOCIATION<br>OF<br>TOWNS<br>AND<br>TOWNSHIPS",
          "CARBON<br>ADVOCACY<br>PROJECT",
          "CLEARWAY<br>ENERGY",
          "MINNKOTA<br>POWER<br>COOPERATIVE",
          "NEW<br>YORK<br>ASSOCIATION<br>OF<br>PUBLIC<br>POWER",
          "CHENIERE<br>ENERGY",
          "HARDWOOD<br>FEDERATION",
          "PROCESS<br>ENERGY<br>SOLUTIONS",
          "AEROJET<br>ROCKETDYNE",
          "HYDROGEN<br>ENERGY<br>CALIFORNIA",
          "ALGONQUIN<br>POWER<br>UTILITIES",
          "VANDERBILT<br>UNIVERSITY",
          "ALTERNATIVE<br>FUELS<br>CHEMICALS<br>COALITION",
          "AMERICAN<br>BIOMASS<br>ENERGY<br>ASSOCIATION",
          "AMERICAN<br>COALITION<br>FOR<br>CLEAN<br>COAL<br>ELECTRICITY",
          "FRONTIERAS",
          "AMERICAN<br>FOREST<br>RESOURCE<br>COUNCIL",
          "AMERICAN<br>FORESTS",
          "FOSTER<br>WHEELER",
          "AMERICAN<br>WIND<br>ENERGY<br>ASSOCIATION",
          "THERMOENERGY",
          "CALIFORNIA<br>STATE<br>ASSOCIATION<br>OF<br>COUNTIES",
          "INDIGO",
          "ARCELORMITTAL",
          "DUPONT",
          "REPUBLIC",
          "RICE<br>UNIVERSITY",
          "INTERNATIONAL<br>UNION<br>OF<br>OPERATING<br>ENGINEERS",
          "ROBERT<br>BOSCH",
          "LIGNITE<br>ENERGY<br>COUNCIL",
          "BASIN<br>ELECTRIC<br>POWER<br>COOPERATIVE",
          "EVERGY",
          "EXELON",
          "NATSO",
          "KEURIG<br>DR<br>PEPPER",
          "DELTA",
          "NATIONAL<br>RURAL<br>ELECTRIC<br>COOPERATIVE<br>ASSOCIATION",
          "LONGROAD<br>ENERGY<br>MANAGEMENT",
          "MACQUARIE<br>INFRASTRUCTURE<br>AND<br>REAL<br>ASSETS",
          "GULF<br>COAST<br>SEQUESTRATION",
          "ELECTRIC<br>POWER<br>SUPPLY<br>ASSOCIATION",
          "INTERNATIONAL<br>BROTHERHOOD<br>OF<br>BOILERMAKERS",
          "RIO<br>TINTO",
          "CLARK<br>STREET<br>ASSOCIATES",
          "POWDER<br>RIVER<br>ENERGY",
          "SKYONIC",
          "SEWARD<br>AK",
          "CEMEX",
          "ORIGINOIL",
          "PINNACLE<br>WEST<br>CAPITAL",
          "FUTUREGEN<br>INDUSTRIAL<br>ALLIANCE",
          "CONSERVATION<br>ALLIANCE",
          "ARTHUR<br>J<br>GALLAGHER",
          "BITUMINOUS<br>COAL<br>OPERATORS<br>ASSOCIATION",
          "WSP",
          "OHIO<br>FARM<br>BUREAU<br>FEDERATION",
          "EOG<br>RESOURCES",
          "NUVERA<br>FUEL<br>CELLS",
          "CLOUD<br>PEAK<br>ENERGY<br>RESOURCES",
          "BAYOTECH",
          "C2I",
          "ALGENOL",
          "AMERICAN<br>SOCIETY<br>OF<br>CIVIL<br>ENGINEERS",
          "TEN08<br>ENERGY",
          "INTERNATIONAL<br>BROTHERHOOD<br>OF<br>TEAMSTERS",
          "CUMMINS",
          "NATIONAL<br>ALLIANCE<br>OF<br>FOREST<br>OWNERS",
          "AMERICAN<br>GAS<br>ASSOCIATION",
          "SMITHFIELD<br>FOODS",
          "SOLVAY",
          "AMEREN",
          "BERKSHIRE<br>HATHAWAY<br>ENERGY",
          "EDISON<br>INTERNATIONAL",
          "LARGE<br>PUBLIC<br>POWER<br>COUNCIL",
          "LEAGUE<br>OF<br>CONSERVATION<br>VOTERS",
          "NATURE<br>CONSERVANCY",
          "ENVIRONMENTAL<br>POWER",
          "GREENPEACE",
          "OCCIDENTAL<br>PETROLEUM",
          "MDU<br>RESOURCES",
          "HONDA",
          "TALON<br>NICKEL",
          "PRIMIENT",
          "PENNSYLVANIA<br>FARM<br>BUREAU",
          "UNITED<br>STEELWORKERS",
          "ONE<br>EARTH<br>SEQUESTRATION",
          "EVONIK",
          "ASSOCIATION<br>OF<br>OIL<br>PIPE<br>LINES",
          "ENVIRONMENTAL<br>DEFENSE<br>FUND",
          "WABASH<br>VALLEY<br>RESOURCES",
          "WESTERN<br>FUELS",
          "GEODIGITAL<br>INTERNATIONAL",
          "VAULTED<br>DEEP",
          "US<br>CHAMBER<br>OF<br>COMMERCE",
          "STATE<br>OF<br>INDIANA",
          "INSTITUTE<br>OF<br>ELECTRICAL<br>AND<br>ELECTRONICS<br>ENGINEERS",
          "FIRSTENERGY",
          "WOODWELL<br>CLIMATE<br>RESEARCH<br>CENTER",
          "INTERSECT<br>POWER",
          "US<br>FUEL<br>CELL<br>COUNCIL",
          "JAMESTOWN<br>BOARD<br>OF<br>PUBLIC<br>UTILITIES",
          "EKONA<br>POWER",
          "WEC<br>ENERGY",
          "WORLD<br>SHIPPING<br>COUNCIL",
          "NATIONAL<br>GRID",
          "NATIONAL<br>MINING<br>ASSOCIATION",
          "NATIONAL<br>SOCIETY<br>OF<br>PROFESSIONAL<br>SURVEYORS",
          "CALPORTLAND",
          "MARATHON",
          "PROJECT<br>VESTA",
          "BRIMSTONE<br>ENERGY",
          "RENEWABLE<br>FUELS<br>ASSOCIATION",
          "MM<br>ENERGY",
          "CONSTELLATION<br>ENERGY",
          "RENTECH",
          "RIPE<br>ROADMAP",
          "NEW<br>YORK<br>FARM<br>BUREAU",
          "WASHINGTON<br>GAS<br>LIGHT",
          "SACRAMENTO<br>MUNICIPAL<br>UTILITY<br>DISTRICT",
          "EMPIRE<br>DISTRICT<br>ELECTRIC",
          "CLEARPATH<br>ACTION<br>FOR<br>CONSERVATIVE<br>CLEAN<br>ENERGY",
          "SCHNEIDER<br>ELECTRIC",
          "NEXTERA",
          "HYPERION<br>RESOURCES",
          "NATIONAL<br>VENTURE<br>CAPITAL<br>ASSOCIATION",
          "BAKER<br>HUGHES",
          "CATERPILLAR",
          "PARTNERSHIP<br>FOR<br>JOB<br>CREATION",
          "SIEMENS",
          "GREEN<br>PLAINS",
          "LINDEN<br>TRUST<br>FOR<br>CONSERVATION",
          "ROSEVILLE<br>CA",
          "BANK<br>POLICY<br>INSTITUTE",
          "CELANESE",
          "PLUG<br>POWER",
          "WESTERN<br>MICHIGAN<br>UNIVERSITY",
          "WEYERHAEUSER",
          "WORLD<br>ENERGY",
          "NAVIGATOR<br>CO2",
          "UNILEVER<br>UNITED<br>STATES",
          "TRANS<br>CANADA",
          "ZEROAVIA",
          "SUMMIT<br>POWER",
          "INTERNATIONAL<br>UNION<br>OF<br>PAINTERS<br>AND<br>ALLIED<br>TRADES",
          "RTX",
          "LEUCADIA<br>NATIONAL",
          "NATIONAL<br>ASSOCIATION<br>OF<br>MANUFACTURERS",
          "NATIONAL<br>PORK<br>PRODUCERS<br>COUNCIL",
          "VERDE<br>CO2",
          "SANDRIDGE<br>ENERGY",
          "ZURICH",
          "H<br>CYCLE",
          "ECOLECTRO",
          "COLONIAL<br>PIPELINE",
          "CEMVITA",
          "BANK<br>OF<br>AMERICA",
          "ATMOS<br>ENERGY",
          "ENEL",
          "GREATER<br>PITTSBURGH<br>CHAMBER<br>OF<br>COMMERCE",
          "POTLATCHDELTIC",
          "ATLAS<br>AIR<br>WORLDWIDE<br>HOLDINGS",
          "UIL-AVANGRID",
          "AMERICAN<br>TRANSMISSION",
          "ENI",
          "UNIVERSITY<br>OF<br>KENTUCKY",
          "VERDAGY",
          "HITACHI",
          "ELECTRONIC<br>TRANSACTIONS<br>ASSOCIATION",
          "WILEY<br>REIN",
          "MODERN<br>HYDROGEN",
          "WHITE<br>OAK<br>INITIATIVE",
          "NUCLEAR<br>ENERGY<br>INSTITUTE",
          "WASTE<br>MANAGEMENT",
          "HALLIBURTON",
          "UNITED<br>PHOSPHORUS",
          "VALERO",
          "SIGNA<br>CHEMISTRY",
          "SITHE<br>GLOBAL<br>POWER",
          "SOUTHERN<br>COMPANY",
          "UNIVERSITY<br>OF<br>WASHINGTON",
          "UNITED<br>MINE<br>WORKERS<br>OF<br>AMERICA",
          "UNIVERSITY<br>OF<br>CALIFORNIA",
          "VISTRA",
          "PHILLIPS<br>66",
          "GEOS<br>INSTITUTE",
          "GLASS<br>PACKAGING<br>INSTITUTE<br>GPI",
          "TELLUS<br>OPERATING",
          "REMORA",
          "GRANT<br>COUNTY<br>PUBLIC<br>UTILITY<br>DISTRICT",
          "PBF",
          "RAVEN<br>SR",
          "PORTLAND<br>CEMENT<br>ASSOCIATION",
          "PRAIRIE<br>STATE<br>GENERATING",
          "ORIGIN<br>MATERIALS",
          "OHIO<br>MUNICIPAL<br>ELECTRIC<br>ASSOCIATION",
          "OCEAN<br>CONSERVANCY",
          "NEXTDECADE",
          "NEW<br>GENERATION<br>BIOFUELS",
          "NET<br>POWER",
          "SALT<br>RIVER<br>PROJECT",
          "CROWLEY<br>MARITIME",
          "SOAP<br>CREEK<br>ENERGY",
          "TECO",
          "WOODSIDE<br>ENERGY",
          "JOY<br>GLOBAL",
          "SSAB<br>ENTERPRISES",
          "INTERSTATE<br>NATURAL<br>GAS<br>ASSOCIATION<br>OF<br>AMERICA",
          "UNIVERSAL<br>HYDROGEN",
          "UNITED<br>ASSOCIATION<br>OF<br>JOURNEYMEN<br>APPRENTICES<br>OF<br>PLUMBING<br>PIPEFITTING<br>INDUSTRY",
          "UNITED<br>AIRLINES",
          "TOTAL",
          "NATIONAL<br>AUDUBON<br>SOCIETY",
          "MAGELLAN<br>MIDSTREAM<br>PARTNERS",
          "AKERMIN",
          "BLACK<br>HILLS",
          "CROWN<br>AGRO<br>FUELS",
          "CONOCO<br>PHILLIPS",
          "PEABODY",
          "UNIVERSITY<br>OF<br>TEXAS",
          "WILDERNESS<br>SOCIETY",
          "EQUATIC<br>TECH",
          "AMERICAN<br>FARM<br>BUREAU<br>FEDERATION",
          "AMERICAN<br>PUBLIC<br>TRANSPORTATION<br>ASSOCIATION",
          "CAPTURA",
          "AMERICAN<br>FUEL<br>PETROCHEMICAL<br>MANUFACTURERS",
          "CARBON<br>UPCYCLING",
          "CARBON<br>UTILIZATION<br>RESEARCH<br>COUNCIL",
          "AMERICAN<br>FOREST<br>FOUNDATION",
          "PACIFIC<br>GAS<br>AND<br>ELECTRIC",
          "PACIFIC<br>FOREST<br>TRUST",
          "CCS<br>ALLIANCE",
          "DOUGLAS<br>COUNTY<br>PUBLIC<br>UTILITY<br>DISTRICT",
          "ONE<br>H2",
          "AMERICAN<br>ELECTRIC<br>POWER",
          "CENTERPOINT",
          "JUPITER<br>OXYGEN",
          "CF<br>INDUSTRIES",
          "CHAMPAIGNURBANA<br>MASS<br>TRANSIT<br>DISTRICT",
          "NORTHERN<br>CALIFORNIA<br>POWER<br>AGENCY",
          "PORTLAND<br>GENERAL<br>ELECTRIC",
          "CHESAPEAKE<br>ENERGY",
          "CALSTART",
          "EMERSON",
          "ARKEMA",
          "STATE<br>OF<br>ILLINOIS",
          "INDUSTRIAL<br>ENERGY<br>CONSUMERS<br>OF<br>AMERICA",
          "ARCH<br>RESOURCES",
          "BABCOCK<br>WILCOX",
          "BAKKEN<br>ENERGY",
          "INTERNATIONAL<br>ASSOCIATION<br>OF<br>MACHINISTS<br>AND<br>AEROSPACE<br>WORKERS",
          "ARA<br>PARTNERS",
          "LINDE",
          "BLEDSOE<br>ASSOCIATES",
          "BLUE<br>SOURCE",
          "EVERSOURCE",
          "DUKE",
          "AMERICANS<br>FOR<br>TAX<br>REFORM",
          "PROJECT<br>CANARY",
          "CALERA",
          "AMERICAN<br>WOOD<br>COUNCIL",
          "CALPINE",
          "AMERICAN<br>CHEMICAL<br>SOCIETY",
          "SMURFIT<br>STONE<br>CONTAINER",
          "VISCON",
          "AIR<br>PRODUCTS<br>AND<br>CHEMICALS",
          "CLINE<br>RESOURCES",
          "HIGHLY<br>INNOVATIVE<br>FUELS",
          "ALGAE<br>BIOMASS<br>ORGANIZATION",
          "CONSOLIDATED<br>EDISON",
          "HAWAIIAN<br>AIRLINES",
          "AFLCIO",
          "HONEYWELL<br>INTERNATIONAL",
          "ALSTOM",
          "ADVANTEK<br>WASTE<br>MANAGEMENT",
          "CHARM<br>INDUSTRIAL",
          "NEW<br>FORTRESS<br>ENERGY",
          "AMERICAS<br>NATURAL<br>GAS<br>ALLIANCE",
          "FUEL<br>CELL<br>AND<br>HYDROGEN<br>ENERGY<br>ASSOCIATION",
          "OKLAHOMA<br>GAS<br>AND<br>ELECTRIC",
          "HOLCIM",
          "FIDELIS<br>NEW<br>ENERGY",
          "WESTERN<br>BUSINESS<br>ROUNDTABLE",
          "LAND<br>TRUST<br>ALLIANCE",
          "CHEMOURS",
          "ORSTED",
          "OPEN<br>SPACE<br>INSTITUTE",
          "CALIFORNIA<br>INSTITUTE<br>OF<br>TECHNOLOGY",
          "BP<br>AMERICA",
          "APPALACHIAN<br>TRAIL<br>CONSERVANCY",
          "APPALACHIAN<br>VOICES",
          "ENGIE",
          "NORTHWESTERN<br>ENERGY",
          "CLEAN<br>AIR<br>TASK<br>FORCE",
          "ONEOK",
          "MONOLITH<br>MATERIALS",
          "CMS<br>ENERGY",
          "CONSOL<br>ENERGY",
          "CARBON<br>GEOCAPTURE",
          "EQUINOR",
          "NATIONAL<br>FUEL<br>GAS",
          "SAZERAC",
          "ENERGY<br>ADVANCE<br>CENTER",
          "TACOMA<br>PUBLIC<br>UTILITIES",
          "PUGET<br>SOUND<br>ENERGY",
          "BIPARTISAN<br>POLICY<br>CENTER",
          "PORTLAND<br>OR",
          "SVANTE",
          "WESTERN<br>ORGANIZATION<br>OF<br>RESOURCE<br>COUNCILS",
          "EARTHJUSTICE",
          "EASTMAN<br>CHEMICAL",
          "MILESTONE<br>ENVIRONMENTAL",
          "STATE<br>OF<br>NORTH<br>DAKOTA",
          "PUBLIC<br>SERVICE<br>ENTERPRISE",
          "TETRA<br>TECHNOLOGIES",
          "BNSF<br>RAILWAY",
          "AMERICAN<br>BIOGAS<br>COUNCIL",
          "GREATPOINT<br>ENERGY",
          "KOCH<br>INDUSTRIES",
          "CLEAN<br>ENERGY<br>SYSTEMS",
          "CENTER<br>FOR<br>CLIMATE<br>AND<br>ENERGY<br>SOLUTIONS",
          "DYSTAR",
          "INTERNATIONAL<br>BROTHERHOOD<br>OF<br>ELECTRICAL<br>WORKERS",
          "NEBRASKA<br>FARM<br>BUREAU<br>FEDERATION",
          "SCENIC<br>VISTAS",
          "EQT",
          "HEIRLOOM<br>CARBON<br>TECHNOLOGIES",
          "NATIONAL<br>COTTON<br>COUNCIL",
          "BLUE<br>GREEN<br>ALLIANCE",
          "RHODIA",
          "REWORLD",
          "US<br>BIOCHAR<br>COALITION",
          "GEORGIA<br>INSTITUTE<br>OF<br>TECHNOLOGY",
          "POET",
          "TWELVE<br>BENEFIT",
          "NATIONAL<br>MILK<br>PRODUCERS<br>FEDERATION",
          "NIKOLA",
          "GENERAL<br>MOTORS",
          "TES<br>US<br>DEVELOPMENT",
          "CNX<br>RESOURCES",
          "NATIONAL<br>OCEAN<br>INDUSTRIES<br>ASSOCIATION",
          "MASSACHUSETTS<br>INSTITUTE<br>OF<br>TECHNOLOGY",
          "AMERICAN<br>CLEAN<br>POWER<br>ASSOCIATION",
          "NATIONAL<br>READY<br>MIXED<br>CONCRETE<br>ASSOCIATION",
          "CODEXIS",
          "CARNEGIE<br>MELLON<br>UNIVERSITY",
          "APEX<br>CLEAN<br>ENERGY",
          "AETHON<br>ENERGY",
          "AES",
          "AECOM",
          "ALPHA<br>NATURAL<br>RESOURCES",
          "HOWARD<br>ENERGY<br>PARTNERS",
          "UNITED<br>BIOREFINERIES",
          "AMERICAN<br>CHEMISTRY<br>COUNCIL",
          "ALLIANT<br>ENERGY",
          "AIR<br>LIQUIDE",
          "ACCELERGY",
          "ASCD",
          "FERTILIZER<br>INSTITUTE",
          "FINANCIAL<br>FORUM",
          "CARBONFUTURE",
          "LIQUID<br>ENERGY<br>PIPELINE<br>ASSOCIATION",
          "DOW",
          "MITSUBISHI",
          "NATIONAL<br>ASSOCIATION<br>OF<br>INDEPENDENT<br>COLLEGES<br>UNIVERSITIES",
          "DTE<br>ENERGY",
          "BIOMASS<br>POWER<br>ASSOCIATION",
          "CNOOC",
          "CORN<br>REFINERS<br>ASSOCIATION",
          "INTERNATIONAL<br>ASSOCIATION<br>OF<br>SHEET<br>METAL<br>AIR<br>RAIL<br>TRANSPORTATION<br>WORKERS",
          "SEMPRA",
          "NET<br>NEGATIVE<br>CO2<br>BASELOAD<br>POWER",
          "METHANEX",
          "NEW<br>MEXICO<br>STATE<br>UNIVERSITY",
          "FORTERA",
          "NANO<br>TERRA",
          "FEDEX",
          "CLEAN<br>COAL<br>TECHNOLOGIES",
          "NATURAL<br>RESOURCES<br>DEFENSE<br>COUNCIL",
          "SOUTHERN<br>MONTANA<br>ELECTRIC<br>GENERATION<br>TRANSMISSION<br>COOPERATIVE",
          "TENASKA",
          "NATIONAL<br>GROUND<br>WATER<br>ASSOCIATION",
          "UTILITY<br>WORKERS<br>UNION<br>OF<br>AMERICA",
          "SOUTHERN<br>CALIFORNIA<br>PUBLIC<br>POWER<br>AUTHORITY",
          "BASF",
          "GLOBAL<br>HYDROGEN<br>TECHNOLOGIES",
          "TOYOTA",
          "NATURAL<br>STATE<br>RENEWABLES",
          "UNIPER<br>GLOBAL<br>COMMODITIES",
          "CARBON<br>ENGINEERING",
          "US<br>STEEL",
          "TRISTATE<br>GENERATION<br>AND<br>TRANSMISSION<br>ASSOCIATION",
          "INTL<br>ASSOCIATION<br>OF<br>BRIDGE<br>STRUCTURAL<br>ORNAMENTAL<br>REINFORCING<br>IRON<br>WORKERS",
          "SIERRA<br>CLUB",
          "FLORIDA<br>POWER<br>LIGHT",
          "CORPUS<br>CHRISTI<br>TX",
          "BIAENERGY<br>OPERATING",
          "EXXON<br>MOBIL",
          "RUNNING<br>TIDE",
          "CARBON<br>180",
          "CHART<br>INDUSTRIES",
          "INDEPENDENT<br>PETROLEUM<br>ASSOCIATION<br>OF<br>AMERICA",
          "UNIVERSITY<br>OF<br>DELAWARE",
          "NATIONAL<br>ASSOCIATION<br>OF<br>FEDERALLYINSURED<br>CREDIT<br>UNIONS",
          "AMERICAN<br>PUBLIC<br>POWER<br>ASSOCIATION",
          "AMERICAN<br>FOREST<br>PAPER<br>ASSOCIATION",
          "CLEAN<br>ENERGY<br>FUELS",
          "ENTERGY",
          "MISSOURI<br>RIVER<br>ENERGY",
          "ENBRIDGE",
          "NORTHWEST<br>NATURAL<br>HOLDING<br>COMPANY",
          "CARBON<br>MANAGEMENT<br>ALLIANCE",
          "ALLETE",
          "COUNCIL<br>OF<br>INDUSTRIAL<br>BOILER<br>OWNERS",
          "KANSAS<br>FARM<br>BUREAU",
          "BOARDWALK<br>PIPELINE",
          "CALIFORNIA<br>AGRICULTURAL<br>COMMISSIONERS<br>AND<br>SEALERS<br>ASSOCIATION",
          "NORTHROP<br>GRUMMAN",
          "ZERO<br>CARBON<br>HYDROGEN<br>COALITION",
          "XCEL<br>ENERGY",
          "OHIO<br>UNIVERSITY",
          "OREGON<br>FARM<br>BUREAU<br>FEDERATION",
          "ARBOR<br>ENERGY<br>AND<br>RESOURCES",
          "BIOTECHNOLOGY<br>INNOVATION<br>ORGANIZATION",
          "AMERICAS<br>POWER",
          "CLEAN<br>HYDROGEN<br>FUTURE<br>COALITION",
          "ASSOCIATION<br>OF<br>AMERICAN<br>RAILROADS",
          "CENTER<br>FOR<br>TRANSPORTATION<br>AND<br>ENVIRONMENT",
          "PARTNERSHIP<br>FOR<br>CONSERVATION",
          "NATIONAL<br>WASTE<br>RECYCLING<br>ASSOCIATION",
          "OBSIDIAN<br>RENEWABLES",
          "ARCHER<br>DANIELS<br>MIDLAND",
          "SOUTHERN<br>UTE<br>INDIAN<br>TRIBE",
          "BUSINESS<br>ROUNDTABLE",
          "DKRW",
          "METALS",
          "SAN<br>JOAQUIN<br>VALLEY<br>REGIONAL<br>PLANNING<br>AGENCIES<br>POLICY<br>COUNCIL",
          "UNITED<br>BROTHERHOOD<br>OF<br>CARPENTERS",
          "CITIZENS<br>FOR<br>RESPONSIBLE<br>ENERGY<br>SOLUTIONS",
          "WILLIAMS<br>COMPANIES",
          "LYONDELL<br>CHEMICAL",
          "TOPSOE",
          "NISOURCE",
          "UNION<br>PACIFIC",
          "CITY<br>UTILITIES<br>OF<br>SPRINGFIELD",
          "PPL",
          "YALE<br>UNIVERSITY",
          "CSX"
         ],
         "marker": {
          "colors": [
           "darkseagreen",
           "dimgrey",
           "darkseagreen",
           "cornflowerblue",
           "cornflowerblue",
           "cornflowerblue",
           "dimgrey",
           "darkkhaki",
           "cornflowerblue",
           "cornflowerblue",
           "darkgrey",
           "dimgrey",
           "firebrick",
           "dimgrey",
           "darkgrey",
           "cornflowerblue",
           "darkkhaki",
           "darkseagreen",
           "dimgrey",
           "cornflowerblue",
           "cornflowerblue",
           "cornflowerblue",
           "firebrick",
           "dimgrey",
           "cornflowerblue",
           "darkseagreen",
           "dimgrey",
           "darkkhaki",
           "dimgrey",
           "darkkhaki",
           "darkgrey",
           "dimgrey",
           "darkseagreen",
           "dimgrey",
           "cornflowerblue",
           "cornflowerblue",
           "firebrick",
           "firebrick",
           "dimgrey",
           "dimgrey",
           "dimgrey",
           "dimgrey",
           "darkgrey",
           "darkkhaki",
           "darkseagreen",
           "dimgrey",
           "darkkhaki",
           "cornflowerblue",
           "dimgrey",
           "dimgrey",
           "dimgrey",
           "dimgrey",
           "darkgrey",
           "firebrick",
           "darkkhaki",
           "darkseagreen",
           "darkgrey",
           "cornflowerblue",
           "firebrick",
           "darkkhaki",
           "dimgrey",
           "dimgrey",
           "dimgrey",
           "darkkhaki",
           "dimgrey",
           "darkkhaki",
           "dimgrey",
           "dimgrey",
           "dimgrey",
           "dimgrey",
           "#FFA15A",
           "dimgrey",
           "dimgrey",
           "dimgrey",
           "darkseagreen",
           "darkkhaki",
           "darkkhaki",
           "cornflowerblue",
           "firebrick",
           "darkkhaki",
           "cornflowerblue",
           "dimgrey",
           "cornflowerblue",
           "dimgrey",
           "darkgrey",
           "darkseagreen",
           "dimgrey",
           "dimgrey",
           "dimgrey",
           "dimgrey",
           "darkseagreen",
           "dimgrey",
           "darkseagreen",
           "dimgrey",
           "dimgrey",
           "darkseagreen",
           "cornflowerblue",
           "cornflowerblue",
           "darkseagreen",
           "darkseagreen",
           "dimgrey",
           "dimgrey",
           "dimgrey",
           "firebrick",
           "darkseagreen",
           "darkgrey",
           "dimgrey",
           "dimgrey",
           "cornflowerblue",
           "darkgrey",
           "darkgrey",
           "dimgrey",
           "dimgrey",
           "firebrick",
           "darkseagreen",
           "darkkhaki",
           "darkseagreen",
           "dimgrey",
           "cornflowerblue",
           "darkkhaki",
           "firebrick",
           "dimgrey",
           "dimgrey",
           "cornflowerblue",
           "cornflowerblue",
           "darkkhaki",
           "dimgrey",
           "dimgrey",
           "dimgrey",
           "dimgrey",
           "darkgrey",
           "darkkhaki",
           "darkgrey",
           "dimgrey",
           "darkseagreen",
           "darkkhaki",
           "dimgrey",
           "dimgrey",
           "cornflowerblue",
           "firebrick",
           "darkkhaki",
           "dimgrey",
           "darkseagreen",
           "cornflowerblue",
           "firebrick",
           "dimgrey",
           "dimgrey",
           "dimgrey",
           "cornflowerblue",
           "darkkhaki",
           "dimgrey",
           "darkkhaki",
           "darkkhaki",
           "dimgrey",
           "darkgrey",
           "dimgrey",
           "dimgrey",
           "darkkhaki",
           "dimgrey",
           "cornflowerblue",
           "dimgrey",
           "cornflowerblue",
           "darkgrey",
           "firebrick",
           "dimgrey",
           "darkkhaki",
           "dimgrey",
           "dimgrey",
           "dimgrey",
           "dimgrey",
           "dimgrey",
           "darkseagreen",
           "darkseagreen",
           "darkgrey",
           "darkseagreen",
           "dimgrey",
           "dimgrey",
           "darkgrey",
           "firebrick",
           "darkkhaki",
           "darkkhaki",
           "cornflowerblue",
           "dimgrey",
           "dimgrey",
           "dimgrey",
           "darkseagreen",
           "dimgrey",
           "dimgrey",
           "darkkhaki",
           "darkseagreen",
           "cornflowerblue",
           "cornflowerblue",
           "cornflowerblue",
           "dimgrey",
           "darkkhaki",
           "darkseagreen",
           "darkgrey",
           "dimgrey",
           "dimgrey",
           "dimgrey",
           "darkgrey",
           "dimgrey",
           "firebrick",
           "cornflowerblue",
           "firebrick",
           "dimgrey",
           "darkseagreen",
           "firebrick",
           "darkgrey",
           "dimgrey",
           "dimgrey",
           "darkgrey",
           "darkseagreen",
           "darkkhaki",
           "dimgrey",
           "dimgrey",
           "dimgrey",
           "cornflowerblue",
           "darkgrey",
           "darkseagreen",
           "dimgrey",
           "darkkhaki",
           "dimgrey",
           "darkgrey",
           "cornflowerblue",
           "darkgrey",
           "darkgrey",
           "darkseagreen",
           "cornflowerblue",
           "darkkhaki",
           "dimgrey",
           "darkgrey",
           "cornflowerblue",
           "firebrick",
           "darkseagreen",
           "dimgrey",
           "darkkhaki",
           "dimgrey",
           "darkgrey",
           "dimgrey",
           "cornflowerblue",
           "darkgrey",
           "darkkhaki",
           "cornflowerblue",
           "darkkhaki",
           "dimgrey",
           "dimgrey",
           "darkkhaki",
           "darkgrey",
           "darkseagreen",
           "dimgrey",
           "dimgrey",
           "darkkhaki",
           "dimgrey",
           "darkseagreen",
           "cornflowerblue",
           "firebrick",
           "darkgrey",
           "dimgrey",
           "dimgrey",
           "dimgrey",
           "cornflowerblue",
           "dimgrey",
           "darkgrey",
           "#FFA15A",
           "darkkhaki",
           "dimgrey",
           "firebrick",
           "darkseagreen",
           "dimgrey",
           "dimgrey",
           "#FFA15A",
           "dimgrey",
           "dimgrey",
           "dimgrey",
           "dimgrey",
           "cornflowerblue",
           "cornflowerblue",
           "cornflowerblue",
           "dimgrey",
           "dimgrey",
           "darkseagreen",
           "firebrick",
           "dimgrey",
           "dimgrey",
           "dimgrey",
           "dimgrey",
           "darkgrey",
           "firebrick",
           "dimgrey",
           "dimgrey",
           "dimgrey",
           "darkseagreen",
           "dimgrey",
           "darkgrey",
           "dimgrey",
           "dimgrey",
           "darkkhaki",
           "darkkhaki",
           "dimgrey",
           "dimgrey",
           "firebrick",
           "firebrick",
           "dimgrey",
           "darkgrey",
           "cornflowerblue",
           "darkgrey",
           "dimgrey",
           "darkseagreen",
           "dimgrey",
           "dimgrey",
           "dimgrey",
           "dimgrey",
           "dimgrey",
           "dimgrey",
           "cornflowerblue",
           "darkseagreen",
           "darkseagreen",
           "darkkhaki",
           "darkgrey",
           "dimgrey",
           "dimgrey",
           "darkseagreen",
           "dimgrey",
           "darkseagreen",
           "dimgrey",
           "firebrick",
           "dimgrey",
           "dimgrey",
           "dimgrey",
           "dimgrey",
           "dimgrey",
           "dimgrey",
           "dimgrey",
           "cornflowerblue",
           "dimgrey",
           "dimgrey",
           "dimgrey",
           "darkgrey",
           "darkkhaki",
           "dimgrey",
           "cornflowerblue",
           "dimgrey",
           "dimgrey",
           "darkgrey",
           "dimgrey",
           "cornflowerblue",
           "darkkhaki",
           "dimgrey",
           "darkkhaki",
           "dimgrey",
           "dimgrey",
           "dimgrey",
           "cornflowerblue",
           "darkseagreen",
           "darkseagreen",
           "firebrick",
           "dimgrey",
           "dimgrey",
           "firebrick",
           "darkkhaki",
           "dimgrey",
           "dimgrey",
           "darkseagreen",
           "dimgrey",
           "dimgrey",
           "darkgrey",
           "cornflowerblue",
           "darkgrey",
           "darkgrey",
           "dimgrey",
           "darkgrey",
           "dimgrey",
           "dimgrey",
           "darkgrey",
           "dimgrey",
           "firebrick",
           "dimgrey",
           "cornflowerblue",
           "darkseagreen",
           "dimgrey",
           "darkseagreen",
           "darkseagreen",
           "cornflowerblue",
           "dimgrey",
           "darkseagreen",
           "darkseagreen",
           "dimgrey",
           "dimgrey",
           "darkseagreen",
           "dimgrey",
           "dimgrey",
           "dimgrey",
           "dimgrey",
           "dimgrey",
           "dimgrey",
           "dimgrey",
           "darkkhaki",
           "dimgrey",
           "dimgrey",
           "dimgrey",
           "cornflowerblue",
           "cornflowerblue",
           "dimgrey",
           "darkseagreen",
           "darkseagreen",
           "dimgrey",
           "dimgrey",
           "cornflowerblue",
           "dimgrey",
           "dimgrey",
           "darkgrey",
           "darkgrey",
           "dimgrey",
           "dimgrey",
           "dimgrey",
           "darkseagreen",
           "dimgrey",
           "cornflowerblue",
           "darkkhaki",
           "darkseagreen",
           "dimgrey",
           "darkseagreen",
           "darkkhaki",
           "darkseagreen",
           "dimgrey",
           "darkgrey",
           "darkseagreen",
           "cornflowerblue",
           "darkgrey",
           "darkgrey",
           "darkkhaki",
           "darkgrey",
           "darkgrey",
           "darkseagreen",
           "dimgrey",
           "dimgrey",
           "cornflowerblue",
           "darkseagreen",
           "firebrick",
           "darkgrey",
           "cornflowerblue",
           "darkseagreen",
           "dimgrey",
           "dimgrey",
           "darkkhaki",
           "dimgrey",
           "dimgrey",
           "darkgrey",
           "dimgrey",
           "dimgrey",
           "dimgrey",
           "darkgrey",
           "#FFA15A",
           "dimgrey",
           "darkkhaki",
           "darkseagreen",
           "dimgrey",
           "dimgrey",
           "darkgrey",
           "cornflowerblue",
           "dimgrey",
           "darkgrey",
           "dimgrey",
           "darkgrey",
           "cornflowerblue",
           "dimgrey",
           "dimgrey",
           "dimgrey",
           "cornflowerblue",
           "firebrick",
           "darkkhaki",
           "darkgrey",
           "dimgrey",
           "darkseagreen",
           "dimgrey",
           "dimgrey",
           "darkseagreen",
           "cornflowerblue",
           "dimgrey",
           "dimgrey",
           "dimgrey",
           "darkgrey",
           "darkgrey",
           "dimgrey",
           "dimgrey",
           "firebrick",
           "dimgrey",
           "cornflowerblue",
           "darkseagreen",
           "dimgrey",
           "cornflowerblue",
           "darkgrey",
           "dimgrey",
           "darkseagreen",
           "darkseagreen",
           "dimgrey",
           "dimgrey",
           "cornflowerblue",
           "darkkhaki",
           "dimgrey",
           "firebrick",
           "darkgrey",
           "dimgrey",
           "dimgrey",
           "dimgrey",
           "dimgrey",
           "darkseagreen",
           "dimgrey",
           "darkgrey",
           "darkkhaki",
           "dimgrey",
           "darkkhaki",
           "darkgrey",
           "dimgrey",
           "dimgrey",
           "cornflowerblue",
           "darkkhaki",
           "darkgrey",
           "darkgrey",
           "dimgrey",
           "dimgrey",
           "darkgrey",
           "cornflowerblue",
           "darkseagreen",
           "darkseagreen",
           "darkseagreen",
           "darkkhaki",
           "cornflowerblue",
           "cornflowerblue",
           "dimgrey",
           "firebrick",
           "cornflowerblue",
           "cornflowerblue",
           "darkseagreen",
           "dimgrey",
           "dimgrey",
           "darkgrey",
           "dimgrey",
           "darkgrey",
           "dimgrey",
           "dimgrey",
           "cornflowerblue",
           "darkgrey"
          ],
          "line": {
           "width": 0.05
          }
         },
         "name": "",
         "parents": [
          "",
          "",
          "",
          "",
          "",
          "",
          "",
          "",
          "",
          "",
          "",
          "",
          "",
          "",
          "",
          "",
          "",
          "",
          "",
          "",
          "",
          "",
          "",
          "",
          "",
          "",
          "",
          "",
          "",
          "",
          "",
          "",
          "",
          "",
          "",
          "",
          "",
          "",
          "",
          "",
          "",
          "",
          "",
          "",
          "",
          "",
          "",
          "",
          "",
          "",
          "",
          "",
          "",
          "",
          "",
          "",
          "",
          "",
          "",
          "",
          "",
          "",
          "",
          "",
          "",
          "",
          "",
          "",
          "",
          "",
          "",
          "",
          "",
          "",
          "",
          "",
          "",
          "",
          "",
          "",
          "",
          "",
          "",
          "",
          "",
          "",
          "",
          "",
          "",
          "",
          "",
          "",
          "",
          "",
          "",
          "",
          "",
          "",
          "",
          "",
          "",
          "",
          "",
          "",
          "",
          "",
          "",
          "",
          "",
          "",
          "",
          "",
          "",
          "",
          "",
          "",
          "",
          "",
          "",
          "",
          "",
          "",
          "",
          "",
          "",
          "",
          "",
          "",
          "",
          "",
          "",
          "",
          "",
          "",
          "",
          "",
          "",
          "",
          "",
          "",
          "",
          "",
          "",
          "",
          "",
          "",
          "",
          "",
          "",
          "",
          "",
          "",
          "",
          "",
          "",
          "",
          "",
          "",
          "",
          "",
          "",
          "",
          "",
          "",
          "",
          "",
          "",
          "",
          "",
          "",
          "",
          "",
          "",
          "",
          "",
          "",
          "",
          "",
          "",
          "",
          "",
          "",
          "",
          "",
          "",
          "",
          "",
          "",
          "",
          "",
          "",
          "",
          "",
          "",
          "",
          "",
          "",
          "",
          "",
          "",
          "",
          "",
          "",
          "",
          "",
          "",
          "",
          "",
          "",
          "",
          "",
          "",
          "",
          "",
          "",
          "",
          "",
          "",
          "",
          "",
          "",
          "",
          "",
          "",
          "",
          "",
          "",
          "",
          "",
          "",
          "",
          "",
          "",
          "",
          "",
          "",
          "",
          "",
          "",
          "",
          "",
          "",
          "",
          "",
          "",
          "",
          "",
          "",
          "",
          "",
          "",
          "",
          "",
          "",
          "",
          "",
          "",
          "",
          "",
          "",
          "",
          "",
          "",
          "",
          "",
          "",
          "",
          "",
          "",
          "",
          "",
          "",
          "",
          "",
          "",
          "",
          "",
          "",
          "",
          "",
          "",
          "",
          "",
          "",
          "",
          "",
          "",
          "",
          "",
          "",
          "",
          "",
          "",
          "",
          "",
          "",
          "",
          "",
          "",
          "",
          "",
          "",
          "",
          "",
          "",
          "",
          "",
          "",
          "",
          "",
          "",
          "",
          "",
          "",
          "",
          "",
          "",
          "",
          "",
          "",
          "",
          "",
          "",
          "",
          "",
          "",
          "",
          "",
          "",
          "",
          "",
          "",
          "",
          "",
          "",
          "",
          "",
          "",
          "",
          "",
          "",
          "",
          "",
          "",
          "",
          "",
          "",
          "",
          "",
          "",
          "",
          "",
          "",
          "",
          "",
          "",
          "",
          "",
          "",
          "",
          "",
          "",
          "",
          "",
          "",
          "",
          "",
          "",
          "",
          "",
          "",
          "",
          "",
          "",
          "",
          "",
          "",
          "",
          "",
          "",
          "",
          "",
          "",
          "",
          "",
          "",
          "",
          "",
          "",
          "",
          "",
          "",
          "",
          "",
          "",
          "",
          "",
          "",
          "",
          "",
          "",
          "",
          "",
          "",
          "",
          "",
          "",
          "",
          "",
          "",
          "",
          "",
          "",
          "",
          "",
          "",
          "",
          "",
          "",
          "",
          "",
          "",
          "",
          "",
          "",
          "",
          "",
          "",
          "",
          "",
          "",
          "",
          "",
          "",
          "",
          "",
          "",
          "",
          "",
          "",
          "",
          "",
          "",
          "",
          "",
          "",
          "",
          "",
          "",
          "",
          "",
          "",
          "",
          "",
          "",
          "",
          "",
          "",
          "",
          "",
          "",
          "",
          "",
          "",
          "",
          "",
          "",
          "",
          "",
          "",
          "",
          "",
          "",
          "",
          "",
          "",
          "",
          "",
          "",
          "",
          "",
          "",
          "",
          "",
          "",
          "",
          "",
          "",
          "",
          "",
          "",
          "",
          "",
          "",
          "",
          "",
          "",
          "",
          "",
          "",
          "",
          "",
          "",
          "",
          "",
          "",
          "",
          "",
          "",
          "",
          "",
          "",
          "",
          "",
          "",
          "",
          "",
          "",
          "",
          "",
          "",
          "",
          "",
          "",
          "",
          "",
          "",
          "",
          "",
          "",
          "",
          "",
          "",
          "",
          "",
          "",
          "",
          "",
          "",
          "",
          "",
          "",
          "",
          ""
         ],
         "type": "treemap",
         "values": [
          32258.06451612903,
          755428.5714285714,
          205018.67241747986,
          72517.19576719576,
          19047.619047619046,
          28235.294117647056,
          430000,
          390598.3333333333,
          2000,
          22690.47619047619,
          2195000,
          116666.66666666666,
          70869.5652173913,
          376666.6666666666,
          14920.634920634919,
          64072.916666666664,
          472762.7666451196,
          440857.14285714284,
          3595686.6666666665,
          80000,
          3540,
          84282.82828282828,
          16666.666666666664,
          9734588.701625256,
          588869.0476190476,
          220000,
          200000,
          39999.99999999999,
          40000,
          17272.727272727272,
          2299495.133890523,
          236349.20634920633,
          655848.2992666563,
          898365,
          3875,
          25000,
          237023.80952380953,
          280000,
          649999.9999999999,
          1140000,
          30000,
          367013.1257631257,
          7022400,
          636874.4588744589,
          36790.33333333333,
          102527.53333333333,
          4000,
          12857.142857142855,
          22501662.93174022,
          20000,
          915000,
          1351131.5496098106,
          612229.4372294372,
          594375,
          148500,
          120000,
          4264394.096979323,
          152500,
          336857.14285714284,
          450000,
          233446.83257918552,
          140000,
          20056668.380378596,
          2034000,
          200000,
          151500,
          58333.33333333333,
          250000,
          120000,
          899430.9154897389,
          160000,
          90000,
          90000,
          240000,
          3333.333333333333,
          56250,
          130000,
          258000,
          42500,
          379666.6666666666,
          10000,
          140000,
          18504.286666666667,
          40000,
          3744027.777777778,
          20000,
          53800,
          24238665.85444074,
          504000,
          590000,
          100000,
          80000,
          2222.222222222222,
          1239417.7630952275,
          120000,
          40000,
          12857.142857142857,
          8333.333333333332,
          350000,
          76666.66666666666,
          195000,
          10000,
          125000,
          93166.66666666667,
          20000,
          52402.5974025974,
          550000,
          61500,
          3333.333333333333,
          8640,
          53333.33333333333,
          73333.33333333333,
          2500,
          37500,
          100000,
          91000,
          60000,
          24000,
          12444.444444444445,
          2100000,
          3534256.6087163608,
          45000,
          295554.44555444556,
          26500,
          908317.4603174602,
          151833.33333333334,
          330000,
          323628,
          207136.44688644688,
          4540624.846611765,
          33824.839188520535,
          426500,
          2302660.8217652994,
          5964757.182745109,
          96666.66666666666,
          30000,
          450000,
          1016636.9862022037,
          1501325,
          1570829.365079365,
          4444.444444444444,
          40000,
          55000,
          6666.666666666666,
          2235651.75,
          8571.42857142857,
          1406833.3333333333,
          1415000,
          14000,
          145000,
          674415.1666666666,
          60000,
          14166.666666666666,
          349714.2857142857,
          50000,
          628666.6666666666,
          780000,
          280000,
          35833.333333333336,
          64205.79545454545,
          100000,
          79136.60869565218,
          661761.5773809523,
          1950120.4712088674,
          2325461.609907121,
          262216.6666666666,
          146835.95352016404,
          3757533.046790484,
          3017637.116342074,
          933891.3192071086,
          33333.33333333333,
          108008.55657380317,
          1333046.1608160671,
          10000,
          6463.5,
          76602872.27640913,
          69000,
          425900,
          160000,
          20000,
          1333.3333333333333,
          65959.59595959596,
          80000,
          57222.22222222222,
          80000,
          600278.4499477535,
          271750,
          64000,
          45833.33333333333,
          20000,
          17377254.026922237,
          79008.92857142857,
          2333.333333333333,
          2489012.1620832863,
          10000,
          536666.6666666666,
          10000,
          90000,
          40000,
          601973.6691919192,
          560000,
          5293505.538003136,
          7011909.727389648,
          72000,
          419047.619047619,
          6409175.696429324,
          100000,
          77500,
          2576566.2053224123,
          93333.33333333331,
          5527141.021638208,
          161428.57142857142,
          40000,
          2857.142857142857,
          1309345.5238095238,
          240000,
          22600,
          140000,
          114705.88235294117,
          2804565.3278057636,
          130000,
          1012691.82129523,
          2025470.695970696,
          108030.30303030304,
          800000,
          1962616.1221911353,
          1456949.494949495,
          370000,
          29333.333333333332,
          60000,
          115666.66666666666,
          3733333.333333333,
          51666.666666666664,
          1212646.0338372104,
          213333.3333333333,
          1730000,
          187571.42857142855,
          10910000,
          8068.965517241379,
          630000,
          353517.56576756574,
          11888.11188811189,
          220000,
          4158196.919031032,
          110521.00840336134,
          20000,
          360000,
          2082201.7255223456,
          15000,
          60000,
          120000,
          305000,
          97142.85714285713,
          50000,
          23838.383838383837,
          151880.95238095237,
          14000,
          530000,
          1121686.3156186293,
          60000,
          13333.333333333332,
          110076.59666666666,
          160000,
          26012.987012987014,
          342500,
          50000,
          140000,
          350000,
          1087961.0340667435,
          108000,
          759288.8888888889,
          10000,
          2848107.1428571427,
          340000,
          60000,
          55122727.53488089,
          20000,
          3298376.3673809525,
          87632.97872340426,
          1793527.8416666666,
          6560965.284715285,
          83482.09,
          17500,
          140000,
          230000,
          15000,
          255000,
          170000,
          1996281.937017231,
          490000,
          8333.333333333332,
          384053.3333333333,
          169770.8333333333,
          480000,
          50000,
          170000,
          983265.5677655678,
          236666.66666666666,
          70000,
          2084772.0167832167,
          518791.4230019493,
          20000,
          86666.66666666666,
          1149980.9706666665,
          300000,
          777571.4285714285,
          1700833.3333333333,
          500000,
          6567.460317460317,
          10000,
          510000,
          248498.41824841825,
          20000,
          10314113.905717948,
          14220862.832544995,
          73750,
          431289.37728937727,
          40000,
          1004221.049070846,
          378000,
          323000,
          11557006.392549556,
          30000,
          2090000,
          8236.5,
          9035753.353794347,
          30000,
          860000,
          40000,
          50000,
          18149718.854086086,
          1302229.060939061,
          1499000,
          724071.4285714285,
          10500,
          1696884.5952380951,
          682954.5454545454,
          86000,
          40615.38461538462,
          76000,
          227190.33478370012,
          440000,
          1405750,
          1799332.0290820291,
          556666.6666666666,
          360000,
          62903.22580645161,
          40000,
          4550719.624819625,
          20000,
          129182.54000000001,
          370934.75,
          14231775.041714832,
          49750,
          348166.6553333333,
          147142.85714285713,
          175808.0808080808,
          16698628.759398496,
          85835.77533577534,
          8779.73,
          36000,
          8701190.476190476,
          20000,
          290000,
          224703.4632034632,
          26666.666666666664,
          20000,
          3102543.773608339,
          7683463.117635164,
          2999113.5913919415,
          25000,
          691666.6666666666,
          490000,
          112684.18201516791,
          237142.85714285713,
          45000,
          1206144.927536232,
          550000,
          101666.66666666666,
          393333.3333333333,
          346000,
          130000,
          182500,
          49500,
          18279128.472359963,
          9858.666666666666,
          6187.375415282392,
          524571.4285714285,
          7500,
          2231134.1745238095,
          1288000,
          1010000,
          2063041.5843415842,
          2473857.1428571427,
          310000,
          3368803.4254651903,
          1510000,
          100000,
          340000,
          320000,
          947678.5714285714,
          803806.878031661,
          59659.02682143091,
          590000,
          2755.46,
          727685.1938228505,
          1373485.552115583,
          180000,
          4285.714285714285,
          2843341.2176059233,
          20000,
          738571.4285714285,
          24166.666666666664,
          77142.85714285713,
          3607021.4930262645,
          170000,
          104166.66666666666,
          96000,
          412598.1106080194,
          8000,
          5000,
          1090000,
          325000,
          286000,
          42888.88888888889,
          189500,
          3406666.6666666665,
          22500,
          36666.666666666664,
          4003966.9207603987,
          219999.99999999997,
          90721.57142857142,
          400000,
          20000,
          310000,
          1935000,
          596916.6666666666,
          13533.035714285714,
          1487885.0108225108,
          546101.9464285714,
          449500,
          40523.80952380953,
          36666.666666666664,
          30000,
          434679.4871794872,
          12307.692307692309,
          1968523.15,
          400000,
          10000,
          27304093.89885477,
          202500,
          5761333.333333333,
          229444.44444444444,
          15000,
          491985.7,
          280000,
          524682,
          217237,
          2024541.2411118292,
          194766.66666666666,
          167000,
          1704610.1749361749,
          192500,
          658333.3333333333,
          79047.61904761905,
          1393307.288092463,
          6422948.023559854,
          288750,
          40000,
          13333.333333333332,
          70000,
          20000,
          1175756.1633281973,
          160000,
          131694.8732718894,
          80000,
          570494.3302087601,
          85555.55555555556,
          64404.7619047619,
          110000,
          989342.4859454271,
          28000,
          1860809.0106955366,
          50000,
          160000,
          279200,
          928571.4285714285,
          657000,
          118352.81385281385,
          320488.4004884005,
          145714.2857142857,
          120000,
          55000,
          42662988.280115105,
          420000,
          22500,
          210000,
          353308.85054945055,
          12000,
          1020000,
          740290.5089881181,
          361530.612244898,
          128000,
          5462893.65079365,
          105812.58333333333,
          3953374.9151138715,
          500000,
          420000,
          163928.57142857142,
          26666.666666666664,
          2000,
          113333.33333333333,
          5000,
          77142.85714285714,
          440000,
          3562966.0894660894,
          181098.9010989011,
          4363.636363636364,
          80000,
          981986.6805506739,
          3754344.833333333,
          265000,
          3498718,
          80000,
          40000,
          9381.598793363499,
          40000,
          2061763.1496731981,
          312000,
          477500,
          390000,
          20000,
          6250,
          5454.545454545455,
          1491166.6666666667,
          4845833.333333333,
          4833479.278277447,
          700000,
          948171.2662337662,
          1899691.1746031747,
          130000,
          1625952.0757020756,
          86000,
          952757.5598214285
         ]
        },
        {
         "marker": {
          "color": "#FFFFFF",
          "line": {
           "color": "white",
           "width": 0.05
          },
          "size": 25,
          "symbol": "square"
         },
         "mode": "markers",
         "name": "",
         "textfont": {
          "size": 10
         },
         "textposition": "middle right",
         "type": "scatter",
         "x": [
          null
         ],
         "y": [
          null
         ]
        },
        {
         "marker": {
          "color": "#696969",
          "line": {
           "color": "white",
           "width": 0.05
          },
          "size": 25,
          "symbol": "square"
         },
         "mode": "markers",
         "name": "Core Fossil Fuels",
         "textfont": {
          "size": 10
         },
         "textposition": "middle right",
         "type": "scatter",
         "x": [
          null
         ],
         "y": [
          null
         ]
        },
        {
         "marker": {
          "color": "#A9A9A9",
          "line": {
           "color": "white",
           "width": 0.05
          },
          "size": 25,
          "symbol": "square"
         },
         "mode": "markers",
         "name": "Fossil-Fuel Adjacent",
         "textfont": {
          "size": 10
         },
         "textposition": "middle right",
         "type": "scatter",
         "x": [
          null
         ],
         "y": [
          null
         ]
        },
        {
         "marker": {
          "color": "#6495ED",
          "line": {
           "color": "white",
           "width": 0.05
          },
          "size": 25,
          "symbol": "square"
         },
         "mode": "markers",
         "name": "Nonprofit/Issue Advocacy",
         "textfont": {
          "size": 10
         },
         "textposition": "middle right",
         "type": "scatter",
         "x": [
          null
         ],
         "y": [
          null
         ]
        },
        {
         "marker": {
          "color": "#8FBC8F",
          "line": {
           "color": "white",
           "width": 0.05
          },
          "size": 25,
          "symbol": "square"
         },
         "mode": "markers",
         "name": "\"Green\"",
         "textfont": {
          "size": 10
         },
         "textposition": "middle right",
         "type": "scatter",
         "x": [
          null
         ],
         "y": [
          null
         ]
        },
        {
         "marker": {
          "color": "#B22222",
          "line": {
           "color": "white",
           "width": 0.05
          },
          "size": 25,
          "symbol": "square"
         },
         "mode": "markers",
         "name": "Non-FF Industry",
         "textfont": {
          "size": 10
         },
         "textposition": "middle right",
         "type": "scatter",
         "x": [
          null
         ],
         "y": [
          null
         ]
        },
        {
         "marker": {
          "color": "#BDB76B",
          "line": {
           "color": "white",
           "width": 0.05
          },
          "size": 25,
          "symbol": "square"
         },
         "mode": "markers",
         "name": "Other",
         "textfont": {
          "size": 10
         },
         "textposition": "middle right",
         "type": "scatter",
         "x": [
          null
         ],
         "y": [
          null
         ]
        }
       ],
       "layout": {
        "autosize": true,
        "font": {
         "size": 20
        },
        "margin": {
         "b": 15,
         "l": 15,
         "r": 15,
         "t": 1
        },
        "paper_bgcolor": "white",
        "plot_bgcolor": "white",
        "template": {
         "data": {
          "bar": [
           {
            "error_x": {
             "color": "#2a3f5f"
            },
            "error_y": {
             "color": "#2a3f5f"
            },
            "marker": {
             "line": {
              "color": "#E5ECF6",
              "width": 0.5
             },
             "pattern": {
              "fillmode": "overlay",
              "size": 10,
              "solidity": 0.2
             }
            },
            "type": "bar"
           }
          ],
          "barpolar": [
           {
            "marker": {
             "line": {
              "color": "#E5ECF6",
              "width": 0.5
             },
             "pattern": {
              "fillmode": "overlay",
              "size": 10,
              "solidity": 0.2
             }
            },
            "type": "barpolar"
           }
          ],
          "carpet": [
           {
            "aaxis": {
             "endlinecolor": "#2a3f5f",
             "gridcolor": "white",
             "linecolor": "white",
             "minorgridcolor": "white",
             "startlinecolor": "#2a3f5f"
            },
            "baxis": {
             "endlinecolor": "#2a3f5f",
             "gridcolor": "white",
             "linecolor": "white",
             "minorgridcolor": "white",
             "startlinecolor": "#2a3f5f"
            },
            "type": "carpet"
           }
          ],
          "choropleth": [
           {
            "colorbar": {
             "outlinewidth": 0,
             "ticks": ""
            },
            "type": "choropleth"
           }
          ],
          "contour": [
           {
            "colorbar": {
             "outlinewidth": 0,
             "ticks": ""
            },
            "colorscale": [
             [
              0,
              "#0d0887"
             ],
             [
              0.1111111111111111,
              "#46039f"
             ],
             [
              0.2222222222222222,
              "#7201a8"
             ],
             [
              0.3333333333333333,
              "#9c179e"
             ],
             [
              0.4444444444444444,
              "#bd3786"
             ],
             [
              0.5555555555555556,
              "#d8576b"
             ],
             [
              0.6666666666666666,
              "#ed7953"
             ],
             [
              0.7777777777777778,
              "#fb9f3a"
             ],
             [
              0.8888888888888888,
              "#fdca26"
             ],
             [
              1,
              "#f0f921"
             ]
            ],
            "type": "contour"
           }
          ],
          "contourcarpet": [
           {
            "colorbar": {
             "outlinewidth": 0,
             "ticks": ""
            },
            "type": "contourcarpet"
           }
          ],
          "heatmap": [
           {
            "colorbar": {
             "outlinewidth": 0,
             "ticks": ""
            },
            "colorscale": [
             [
              0,
              "#0d0887"
             ],
             [
              0.1111111111111111,
              "#46039f"
             ],
             [
              0.2222222222222222,
              "#7201a8"
             ],
             [
              0.3333333333333333,
              "#9c179e"
             ],
             [
              0.4444444444444444,
              "#bd3786"
             ],
             [
              0.5555555555555556,
              "#d8576b"
             ],
             [
              0.6666666666666666,
              "#ed7953"
             ],
             [
              0.7777777777777778,
              "#fb9f3a"
             ],
             [
              0.8888888888888888,
              "#fdca26"
             ],
             [
              1,
              "#f0f921"
             ]
            ],
            "type": "heatmap"
           }
          ],
          "heatmapgl": [
           {
            "colorbar": {
             "outlinewidth": 0,
             "ticks": ""
            },
            "colorscale": [
             [
              0,
              "#0d0887"
             ],
             [
              0.1111111111111111,
              "#46039f"
             ],
             [
              0.2222222222222222,
              "#7201a8"
             ],
             [
              0.3333333333333333,
              "#9c179e"
             ],
             [
              0.4444444444444444,
              "#bd3786"
             ],
             [
              0.5555555555555556,
              "#d8576b"
             ],
             [
              0.6666666666666666,
              "#ed7953"
             ],
             [
              0.7777777777777778,
              "#fb9f3a"
             ],
             [
              0.8888888888888888,
              "#fdca26"
             ],
             [
              1,
              "#f0f921"
             ]
            ],
            "type": "heatmapgl"
           }
          ],
          "histogram": [
           {
            "marker": {
             "pattern": {
              "fillmode": "overlay",
              "size": 10,
              "solidity": 0.2
             }
            },
            "type": "histogram"
           }
          ],
          "histogram2d": [
           {
            "colorbar": {
             "outlinewidth": 0,
             "ticks": ""
            },
            "colorscale": [
             [
              0,
              "#0d0887"
             ],
             [
              0.1111111111111111,
              "#46039f"
             ],
             [
              0.2222222222222222,
              "#7201a8"
             ],
             [
              0.3333333333333333,
              "#9c179e"
             ],
             [
              0.4444444444444444,
              "#bd3786"
             ],
             [
              0.5555555555555556,
              "#d8576b"
             ],
             [
              0.6666666666666666,
              "#ed7953"
             ],
             [
              0.7777777777777778,
              "#fb9f3a"
             ],
             [
              0.8888888888888888,
              "#fdca26"
             ],
             [
              1,
              "#f0f921"
             ]
            ],
            "type": "histogram2d"
           }
          ],
          "histogram2dcontour": [
           {
            "colorbar": {
             "outlinewidth": 0,
             "ticks": ""
            },
            "colorscale": [
             [
              0,
              "#0d0887"
             ],
             [
              0.1111111111111111,
              "#46039f"
             ],
             [
              0.2222222222222222,
              "#7201a8"
             ],
             [
              0.3333333333333333,
              "#9c179e"
             ],
             [
              0.4444444444444444,
              "#bd3786"
             ],
             [
              0.5555555555555556,
              "#d8576b"
             ],
             [
              0.6666666666666666,
              "#ed7953"
             ],
             [
              0.7777777777777778,
              "#fb9f3a"
             ],
             [
              0.8888888888888888,
              "#fdca26"
             ],
             [
              1,
              "#f0f921"
             ]
            ],
            "type": "histogram2dcontour"
           }
          ],
          "mesh3d": [
           {
            "colorbar": {
             "outlinewidth": 0,
             "ticks": ""
            },
            "type": "mesh3d"
           }
          ],
          "parcoords": [
           {
            "line": {
             "colorbar": {
              "outlinewidth": 0,
              "ticks": ""
             }
            },
            "type": "parcoords"
           }
          ],
          "pie": [
           {
            "automargin": true,
            "type": "pie"
           }
          ],
          "scatter": [
           {
            "fillpattern": {
             "fillmode": "overlay",
             "size": 10,
             "solidity": 0.2
            },
            "type": "scatter"
           }
          ],
          "scatter3d": [
           {
            "line": {
             "colorbar": {
              "outlinewidth": 0,
              "ticks": ""
             }
            },
            "marker": {
             "colorbar": {
              "outlinewidth": 0,
              "ticks": ""
             }
            },
            "type": "scatter3d"
           }
          ],
          "scattercarpet": [
           {
            "marker": {
             "colorbar": {
              "outlinewidth": 0,
              "ticks": ""
             }
            },
            "type": "scattercarpet"
           }
          ],
          "scattergeo": [
           {
            "marker": {
             "colorbar": {
              "outlinewidth": 0,
              "ticks": ""
             }
            },
            "type": "scattergeo"
           }
          ],
          "scattergl": [
           {
            "marker": {
             "colorbar": {
              "outlinewidth": 0,
              "ticks": ""
             }
            },
            "type": "scattergl"
           }
          ],
          "scattermapbox": [
           {
            "marker": {
             "colorbar": {
              "outlinewidth": 0,
              "ticks": ""
             }
            },
            "type": "scattermapbox"
           }
          ],
          "scatterpolar": [
           {
            "marker": {
             "colorbar": {
              "outlinewidth": 0,
              "ticks": ""
             }
            },
            "type": "scatterpolar"
           }
          ],
          "scatterpolargl": [
           {
            "marker": {
             "colorbar": {
              "outlinewidth": 0,
              "ticks": ""
             }
            },
            "type": "scatterpolargl"
           }
          ],
          "scatterternary": [
           {
            "marker": {
             "colorbar": {
              "outlinewidth": 0,
              "ticks": ""
             }
            },
            "type": "scatterternary"
           }
          ],
          "surface": [
           {
            "colorbar": {
             "outlinewidth": 0,
             "ticks": ""
            },
            "colorscale": [
             [
              0,
              "#0d0887"
             ],
             [
              0.1111111111111111,
              "#46039f"
             ],
             [
              0.2222222222222222,
              "#7201a8"
             ],
             [
              0.3333333333333333,
              "#9c179e"
             ],
             [
              0.4444444444444444,
              "#bd3786"
             ],
             [
              0.5555555555555556,
              "#d8576b"
             ],
             [
              0.6666666666666666,
              "#ed7953"
             ],
             [
              0.7777777777777778,
              "#fb9f3a"
             ],
             [
              0.8888888888888888,
              "#fdca26"
             ],
             [
              1,
              "#f0f921"
             ]
            ],
            "type": "surface"
           }
          ],
          "table": [
           {
            "cells": {
             "fill": {
              "color": "#EBF0F8"
             },
             "line": {
              "color": "white"
             }
            },
            "header": {
             "fill": {
              "color": "#C8D4E3"
             },
             "line": {
              "color": "white"
             }
            },
            "type": "table"
           }
          ]
         },
         "layout": {
          "annotationdefaults": {
           "arrowcolor": "#2a3f5f",
           "arrowhead": 0,
           "arrowwidth": 1
          },
          "autotypenumbers": "strict",
          "coloraxis": {
           "colorbar": {
            "outlinewidth": 0,
            "ticks": ""
           }
          },
          "colorscale": {
           "diverging": [
            [
             0,
             "#8e0152"
            ],
            [
             0.1,
             "#c51b7d"
            ],
            [
             0.2,
             "#de77ae"
            ],
            [
             0.3,
             "#f1b6da"
            ],
            [
             0.4,
             "#fde0ef"
            ],
            [
             0.5,
             "#f7f7f7"
            ],
            [
             0.6,
             "#e6f5d0"
            ],
            [
             0.7,
             "#b8e186"
            ],
            [
             0.8,
             "#7fbc41"
            ],
            [
             0.9,
             "#4d9221"
            ],
            [
             1,
             "#276419"
            ]
           ],
           "sequential": [
            [
             0,
             "#0d0887"
            ],
            [
             0.1111111111111111,
             "#46039f"
            ],
            [
             0.2222222222222222,
             "#7201a8"
            ],
            [
             0.3333333333333333,
             "#9c179e"
            ],
            [
             0.4444444444444444,
             "#bd3786"
            ],
            [
             0.5555555555555556,
             "#d8576b"
            ],
            [
             0.6666666666666666,
             "#ed7953"
            ],
            [
             0.7777777777777778,
             "#fb9f3a"
            ],
            [
             0.8888888888888888,
             "#fdca26"
            ],
            [
             1,
             "#f0f921"
            ]
           ],
           "sequentialminus": [
            [
             0,
             "#0d0887"
            ],
            [
             0.1111111111111111,
             "#46039f"
            ],
            [
             0.2222222222222222,
             "#7201a8"
            ],
            [
             0.3333333333333333,
             "#9c179e"
            ],
            [
             0.4444444444444444,
             "#bd3786"
            ],
            [
             0.5555555555555556,
             "#d8576b"
            ],
            [
             0.6666666666666666,
             "#ed7953"
            ],
            [
             0.7777777777777778,
             "#fb9f3a"
            ],
            [
             0.8888888888888888,
             "#fdca26"
            ],
            [
             1,
             "#f0f921"
            ]
           ]
          },
          "colorway": [
           "#636efa",
           "#EF553B",
           "#00cc96",
           "#ab63fa",
           "#FFA15A",
           "#19d3f3",
           "#FF6692",
           "#B6E880",
           "#FF97FF",
           "#FECB52"
          ],
          "font": {
           "color": "#2a3f5f"
          },
          "geo": {
           "bgcolor": "white",
           "lakecolor": "white",
           "landcolor": "#E5ECF6",
           "showlakes": true,
           "showland": true,
           "subunitcolor": "white"
          },
          "hoverlabel": {
           "align": "left"
          },
          "hovermode": "closest",
          "mapbox": {
           "style": "light"
          },
          "paper_bgcolor": "white",
          "plot_bgcolor": "#E5ECF6",
          "polar": {
           "angularaxis": {
            "gridcolor": "white",
            "linecolor": "white",
            "ticks": ""
           },
           "bgcolor": "#E5ECF6",
           "radialaxis": {
            "gridcolor": "white",
            "linecolor": "white",
            "ticks": ""
           }
          },
          "scene": {
           "xaxis": {
            "backgroundcolor": "#E5ECF6",
            "gridcolor": "white",
            "gridwidth": 2,
            "linecolor": "white",
            "showbackground": true,
            "ticks": "",
            "zerolinecolor": "white"
           },
           "yaxis": {
            "backgroundcolor": "#E5ECF6",
            "gridcolor": "white",
            "gridwidth": 2,
            "linecolor": "white",
            "showbackground": true,
            "ticks": "",
            "zerolinecolor": "white"
           },
           "zaxis": {
            "backgroundcolor": "#E5ECF6",
            "gridcolor": "white",
            "gridwidth": 2,
            "linecolor": "white",
            "showbackground": true,
            "ticks": "",
            "zerolinecolor": "white"
           }
          },
          "shapedefaults": {
           "line": {
            "color": "#2a3f5f"
           }
          },
          "ternary": {
           "aaxis": {
            "gridcolor": "white",
            "linecolor": "white",
            "ticks": ""
           },
           "baxis": {
            "gridcolor": "white",
            "linecolor": "white",
            "ticks": ""
           },
           "bgcolor": "#E5ECF6",
           "caxis": {
            "gridcolor": "white",
            "linecolor": "white",
            "ticks": ""
           }
          },
          "title": {
           "x": 0.05
          },
          "xaxis": {
           "automargin": true,
           "gridcolor": "white",
           "linecolor": "white",
           "ticks": "",
           "title": {
            "standoff": 15
           },
           "zerolinecolor": "white",
           "zerolinewidth": 2
          },
          "yaxis": {
           "automargin": true,
           "gridcolor": "white",
           "linecolor": "white",
           "ticks": "",
           "title": {
            "standoff": 15
           },
           "zerolinecolor": "white",
           "zerolinewidth": 2
          }
         }
        },
        "xaxis": {
         "anchor": "y",
         "domain": [
          0,
          1
         ],
         "visible": false
        },
        "yaxis": {
         "anchor": "x",
         "domain": [
          0,
          1
         ],
         "scaleanchor": "x",
         "visible": false
        }
       }
      }
     },
     "metadata": {},
     "output_type": "display_data"
    }
   ],
   "source": [
    "#### TREEMAP FIGURE SHOWING WHICH COMPANIES LOBBY FOR CCS\n",
    "color_dict = {\n",
    "    \"oil and gas\": \"dimgrey\",\n",
    "    \"investor owned utilities\": \"dimgrey\",\n",
    "    \"business advocacy\": \"cornflowerblue\",\n",
    "    \"independent power producers\": \"dimgrey\",\n",
    "    \"coal\": \"dimgrey\",\n",
    "    \"pipelines\": \"dimgrey\",\n",
    "    \"chemicals, refining, and plastics\": \"dimgrey\",\n",
    "    \"municipal and cooperative utilities\": \"dimgrey\",\n",
    "    \"energy technology\": \"darkgrey\",\n",
    "    \"mining and metals\": \"firebrick\",\n",
    "    \"biofuels\": \"darkgrey\",\n",
    "    \"railway\": \"darkgrey\",\n",
    "    \"iron and steel\": \"firebrick\",\n",
    "    \"fuel cell\": \"darkgrey\",\n",
    "    \"renewable energy\": \"darkseagreen\",\n",
    "    \"labor union\": \"cornflowerblue\",\n",
    "    \"food and agriculture\": \"darkkhaki\",\n",
    "    \"environmental\": \"darkseagreen\",\n",
    "    \"finance\": \"darkkhaki\",\n",
    "    \"ccs\": \"dimgrey\",\n",
    "    \"cement\": \"firebrick\",\n",
    "    \"paper products\": \"firebrick\",\n",
    "    \"oilfield services\": \"dimgrey\",\n",
    "    \"air transit\": \"darkgrey\",\n",
    "    \"power sector general\": \"dimgrey\",\n",
    "    \"land transit\": \"darkgrey\",\n",
    "    \"nuclear\": \"darkseagreen\",\n",
    "    \"think tanks and issue advocacy\": \"cornflowerblue\",\n",
    "    \"clean hydrogen\": \"dimgrey\",\n",
    "    \"engineering, technology, and consulting\": \"darkkhaki\",\n",
    "    \"higher education\": \"cornflowerblue\",\n",
    "    \"lng\": \"dimgrey\",\n",
    "    \"government\": \"cornflowerblue\",\n",
    "    \"water transit\": \"darkgrey\",\n",
    "    \"carbon\": \"darkseagreen\",\n",
    "    \"hvac\": \"darkkhaki\",\n",
    "    \"independent research organization\": \"darkkhaki\",\n",
    "    \"ev\": \"darkseagreen\",\n",
    "    \"green hydrogen\": \"darkseagreen\",\n",
    "    \"water\": \"darkseagreen\",\n",
    "    \"other\": \"darkkhaki\",\n",
    "    \"law and public policy\": \"darkkhaki\",\n",
    "    \"professional societies\": \"cornflowerblue\",\n",
    "    \"algae\": \"dimgrey\",\n",
    "}\n",
    "# org totals\n",
    "org_df = (\n",
    "    df[[\"organization\", \"lobbying_activity_usd\", \"sector\"]]\n",
    "    .groupby([\"organization\"])\n",
    "    .agg({\"lobbying_activity_usd\": \"sum\", \"sector\": \"first\"})\n",
    "    .sort_values(by=[\"lobbying_activity_usd\"], ascending=False)\n",
    ")\n",
    "org_df = org_df.loc[org_df.lobbying_activity_usd > 0]\n",
    "org_df.reset_index(inplace=True)\n",
    "org_df[\"org_with_returns\"] = [\n",
    "    \"CONOCO<br>PHILLIPS\" if x == \"CONOCOPHILLIPS\" else x.replace(\" \", \"<br>\")\n",
    "    for x in org_df.organization\n",
    "]\n",
    "org_df[\"org_with_returns\"] = [\n",
    "    \"EXXON<br>MOBIL\" if x == \"EXXONMOBIL\" else x for x in org_df[\"org_with_returns\"]\n",
    "]\n",
    "org_df[\"org_with_returns\"] = [\n",
    "    \"TRANS<br>CANADA\" if x == \"TRANSCANADA\" else x for x in org_df[\"org_with_returns\"]\n",
    "]\n",
    "# fig, ax = plt.subplots(1, 1, figsize=(17, 10))\n",
    "\n",
    "\n",
    "# Add custom legend\n",
    "# assign colors to sector groups:\n",
    "uber_lumped_color_dict = {\n",
    "    \"\": \"#FFFFFF\",  # white\n",
    "    \"Core Fossil Fuels\": \"#696969\",  # dimgrey\n",
    "    \"Fossil-Fuel Adjacent\": \"#A9A9A9\",  # darkgrey\n",
    "    \"Nonprofit/Issue Advocacy\": \"#6495ED\",  # cornflowerblue\n",
    "    '\"Green\"': \"#8FBC8F\",  # darkseagreen\n",
    "    \"Non-FF Industry\": \"#B22222\",  # firebrick\n",
    "    \"Other\": \"#BDB76B\",  # darkkhaki\n",
    "}\n",
    "# Add custom legend using rectangles\n",
    "\n",
    "legend_items = []\n",
    "\n",
    "for i, (label, color) in enumerate(uber_lumped_color_dict.items()):\n",
    "    legend_items.append(\n",
    "        go.Scatter(\n",
    "            x=[None],\n",
    "            y=[None],\n",
    "            mode=\"markers\",\n",
    "            textfont=dict(size=10),\n",
    "            textposition=\"middle right\",\n",
    "            marker=dict(\n",
    "                size=25, line=dict(width=0, color=\"white\"), color=color, symbol=\"square\"\n",
    "            ),\n",
    "            name=label,\n",
    "        )\n",
    "    )\n",
    "\n",
    "# Combine treemap and legend\n",
    "fig = make_subplots(rows=1, cols=1)\n",
    "fig.add_traces(\n",
    "    px.treemap(\n",
    "        org_df,\n",
    "        path=[\"org_with_returns\"],\n",
    "        values=\"lobbying_activity_usd\",\n",
    "        color=\"sector\",\n",
    "        width=1200,\n",
    "        height=800,\n",
    "        color_discrete_map=color_dict,\n",
    "    ).data\n",
    ")\n",
    "\n",
    "for item in legend_items:\n",
    "    fig.add_trace(\n",
    "        item,\n",
    "    )\n",
    "fig.update_layout(\n",
    "    font=dict(size=20),\n",
    "    margin=dict(t=1, l=15, r=15, b=15),\n",
    "    # showlegend=True,\n",
    "    xaxis_visible=False,\n",
    "    yaxis_visible=False,\n",
    "    paper_bgcolor=\"white\",\n",
    "    plot_bgcolor=\"white\",\n",
    "    autosize=True,\n",
    "    yaxis_scaleanchor=\"x\",  # <- updates 1st subplot :)\n",
    ")\n",
    "fig.update_traces(marker_line_width=0.05)\n",
    "fig.show()\n",
    "fig.write_image(\"figure_2.pdf\", scale=6, width=1200, height=800)"
   ]
  },
  {
   "cell_type": "markdown",
   "metadata": {},
   "source": [
    "### Figure 3: Higher education CCS lobbying efforts through time"
   ]
  },
  {
   "cell_type": "code",
   "execution_count": 34,
   "metadata": {},
   "outputs": [
    {
     "data": {
      "image/png": "[encoded data removed]",
      "text/plain": [
       "<Figure size 1500x500 with 2 Axes>"
      ]
     },
     "metadata": {},
     "output_type": "display_data"
    }
   ],
   "source": [
    "sns.set_context(\"talk\")  # for histogram hue ordering:\n",
    "\n",
    "# lobbying_activity_usd\n",
    "years = list(range(2005, 2025))\n",
    "\n",
    "tmp_df = (\n",
    "    df[[\"filing_year\", \"lobbying_activity_usd\", \"n_entities_lobbied\"]]\n",
    "    .loc[(df.definitely_ccs == 1) & (df.sector == \"higher education\")]\n",
    "    .groupby(\"filing_year\")\n",
    "    .sum()\n",
    "    .reset_index()\n",
    ").copy(deep=True)\n",
    "\n",
    "fig, ax = plt.subplots(1, 1, figsize=(15, 5))\n",
    "ax2 = ax.twinx()\n",
    "ax.bar(\n",
    "    x=tmp_df.filing_year,\n",
    "    height=tmp_df.lobbying_activity_usd,\n",
    ")\n",
    "ax2.plot(tmp_df.filing_year, tmp_df.n_entities_lobbied, \"r.--\")\n",
    "ax2.set_ylabel(\"Number of lobbying contacts\", fontsize=14)\n",
    "ax.set_xticks(years)\n",
    "ax.set_xticklabels([str(x) for x in years], fontsize=13)\n",
    "ax.yaxis.grid()\n",
    "ax.set_ylabel(\"USD spent lobbying US govt.\", fontsize=14)\n",
    "ax.set_xlabel(\"\")\n",
    "# ax.legend(ncols=3, loc=\"upper center\")#\n",
    "ax.set_title(\"University federal CCUS lobbying efforts\", fontsize=18)\n",
    "fig.savefig(\"figure_3.pdf\")"
   ]
  },
  {
   "cell_type": "markdown",
   "metadata": {},
   "source": [
    "### Quantify steel industry's environmental lobbying that *DOESNT* relate to CCS"
   ]
  },
  {
   "cell_type": "code",
   "execution_count": 35,
   "metadata": {},
   "outputs": [
    {
     "name": "stdout",
     "output_type": "stream",
     "text": [
      "We'll focus on activities that are not even potentially CCS activities: \n"
     ]
    },
    {
     "data": {
      "text/plain": [
       "potentially_ccs\n",
       "0    6171\n",
       "1     232\n",
       "Name: count, dtype: int64"
      ]
     },
     "execution_count": 35,
     "metadata": {},
     "output_type": "execute_result"
    }
   ],
   "source": [
    "steel_df = trim_dates(\n",
    "    pd.read_csv(PATH_TO_POSTPROCESSED_STEEL_INDUSTRY_FILINGS),\n",
    "    yr=2024,\n",
    "    period=4,\n",
    "    how=\"lte\",\n",
    "    yr_col=\"filing_year\",\n",
    "    period_col=\"filing_period\",\n",
    ")\n",
    "print(\"We'll focus on activities that are not even potentially CCS activities: \")\n",
    "steel_df.potentially_ccs.value_counts()"
   ]
  },
  {
   "cell_type": "code",
   "execution_count": 36,
   "metadata": {},
   "outputs": [],
   "source": [
    "# identify lobbying activities dealing with 'environmental' subjects\n",
    "steel_df[\"environmental\"] = [\n",
    "    1\n",
    "    if terms_present(\n",
    "        x,\n",
    "        [\n",
    "            \"environment\",\n",
    "            \"sustainability\",\n",
    "            \"sustain\",\n",
    "            \"renewable\",\n",
    "            \"climate\",\n",
    "            \"net zero\",\n",
    "            \"greenhouse\",\n",
    "            \"paris accord\",\n",
    "            \"low carbon\",\n",
    "            \"carbon neutral\",\n",
    "            \"carbon-neutral\",\n",
    "            \"emission\",\n",
    "            \"air quality\",\n",
    "            \"recycle\",\n",
    "            \"recycled\",\n",
    "            \"recycling\",\n",
    "            \"carbon dioxide\",\n",
    "            \"solar\",\n",
    "            \"wind\",\n",
    "            \"clean air\",\n",
    "            \"co2\",\n",
    "            \"green hydrogen\",\n",
    "            \"carbondioxide\",\n",
    "            \"GHG\",\n",
    "            \"pollution\",\n",
    "            \"green steel\",\n",
    "            \"pollutant\",\n",
    "            \"green h2\",\n",
    "            \"zero emission\",\n",
    "            \"reduced carbon\",\n",
    "            \"zero-emission\",\n",
    "            \"zero carbon\",\n",
    "            \"zerocarbon\",\n",
    "            \"lowcarbon\",\n",
    "            \"carbonneutral\",\n",
    "            \"earth friendly\",\n",
    "            \"cafe standard\",\n",
    "            \"low waste\",\n",
    "        ],\n",
    "    )\n",
    "    else 0\n",
    "    for x in steel_df.cleaned_activity_description\n",
    "]"
   ]
  },
  {
   "cell_type": "code",
   "execution_count": 37,
   "metadata": {},
   "outputs": [
    {
     "name": "stdout",
     "output_type": "stream",
     "text": [
      "The steel industry spent $54588051 between 2005 and 2024 lobbying regarding non-CCS environmental topics\n",
      "The steel industry spent $5194245 between 2005 and 2024 lobbying about CCS\n",
      "That's a 10:1 difference.\n"
     ]
    }
   ],
   "source": [
    "total_non_ccs_environmental_dollars_steel = steel_df.loc[\n",
    "    (steel_df.environmental == 1)\n",
    "    & (steel_df.potentially_ccs == 0)\n",
    "    & (steel_df.sector == \"iron and steel\")\n",
    "].lobbying_activity_usd.sum()\n",
    "\n",
    "total_ccs_dollars_steel = steel_df.loc[\n",
    "    (steel_df.definitely_ccs == 1) & (steel_df.sector == \"iron and steel\")\n",
    "].lobbying_activity_usd.sum()\n",
    "print(\n",
    "    f\"The steel industry spent ${total_non_ccs_environmental_dollars_steel:.0f} between 2005 and 2024 lobbying regarding non-CCS environmental topics\"\n",
    ")\n",
    "print(\n",
    "    f\"The steel industry spent ${total_ccs_dollars_steel:.0f} between 2005 and 2024 lobbying about CCS\"\n",
    ")\n",
    "print(\n",
    "    f\"That's a {int(total_non_ccs_environmental_dollars_steel/total_ccs_dollars_steel)}:1 difference.\"\n",
    ")"
   ]
  },
  {
   "cell_type": "markdown",
   "metadata": {},
   "source": [
    "### Tables for Environmental Science and Policy paper"
   ]
  },
  {
   "cell_type": "markdown",
   "metadata": {},
   "source": [
    "#### Table A.4: Total CCUS lobbying expenditures by sector, 2005-2024"
   ]
  },
  {
   "cell_type": "code",
   "execution_count": 39,
   "metadata": {},
   "outputs": [],
   "source": [
    "# build table of sector-specific CCUS lobbying totals\n",
    "tmp_calc_df = (\n",
    "    df[[\"very_lumped_sector\", \"sector\", \"lobbying_activity_usd\", \"organization\"]]\n",
    "    .groupby(\"organization\")\n",
    "    .agg(\n",
    "        {\"very_lumped_sector\": \"first\", \"sector\": \"first\", \"lobbying_activity_usd\": sum}\n",
    "    )\n",
    "    .sort_values(by=[\"sector\", \"lobbying_activity_usd\"], ascending=False)\n",
    "    .reset_index()\n",
    ")  # .to_clipboard()\n",
    "tmp_calc_df.groupby(\"sector\").agg(\n",
    "    {\n",
    "        \"very_lumped_sector\": \"first\",\n",
    "        \"organization\": \"first\",\n",
    "        \"lobbying_activity_usd\": sum,\n",
    "    }\n",
    ").sort_values(by=\"lobbying_activity_usd\", ascending=False).to_clipboard()"
   ]
  },
  {
   "cell_type": "markdown",
   "metadata": {},
   "source": [
    "#### Table A.5 Top 50 organizations with the largest total CCUS-focused lobbying expenditures, 2005-2024"
   ]
  },
  {
   "cell_type": "code",
   "execution_count": 40,
   "metadata": {},
   "outputs": [
    {
     "data": {
      "text/html": [
       "<div>\n",
       "<style scoped>\n",
       "    .dataframe tbody tr th:only-of-type {\n",
       "        vertical-align: middle;\n",
       "    }\n",
       "\n",
       "    .dataframe tbody tr th {\n",
       "        vertical-align: top;\n",
       "    }\n",
       "\n",
       "    .dataframe thead th {\n",
       "        text-align: right;\n",
       "    }\n",
       "</style>\n",
       "<table border=\"1\" class=\"dataframe\">\n",
       "  <thead>\n",
       "    <tr style=\"text-align: right;\">\n",
       "      <th></th>\n",
       "      <th>ccs_fraction</th>\n",
       "      <th>general sector</th>\n",
       "      <th>detailed sector</th>\n",
       "      <th>all_lobbying_activity_usd_2005_2024</th>\n",
       "      <th>ccs_lobbying_activity_usd_2005_2024</th>\n",
       "    </tr>\n",
       "    <tr>\n",
       "      <th>organization</th>\n",
       "      <th></th>\n",
       "      <th></th>\n",
       "      <th></th>\n",
       "      <th></th>\n",
       "      <th></th>\n",
       "    </tr>\n",
       "  </thead>\n",
       "  <tbody>\n",
       "    <tr>\n",
       "      <th>OCCIDENTAL PETROLEUM</th>\n",
       "      <td>0.369171</td>\n",
       "      <td>FOSSIL-FUEL</td>\n",
       "      <td>oil and gas</td>\n",
       "      <td>2.074995e+08</td>\n",
       "      <td>7.660287e+07</td>\n",
       "    </tr>\n",
       "    <tr>\n",
       "      <th>SOUTHERN COMPANY</th>\n",
       "      <td>0.179702</td>\n",
       "      <td>POWER-UTILITIES</td>\n",
       "      <td>investor owned utilities</td>\n",
       "      <td>3.067445e+08</td>\n",
       "      <td>5.512273e+07</td>\n",
       "    </tr>\n",
       "    <tr>\n",
       "      <th>EXXONMOBIL</th>\n",
       "      <td>0.124047</td>\n",
       "      <td>FOSSIL-FUEL</td>\n",
       "      <td>oil and gas</td>\n",
       "      <td>3.446525e+08</td>\n",
       "      <td>4.275299e+07</td>\n",
       "    </tr>\n",
       "    <tr>\n",
       "      <th>AMERICAN CHEMISTRY COUNCIL</th>\n",
       "      <td>0.103635</td>\n",
       "      <td>CHEMICALS</td>\n",
       "      <td>chemicals, refining, and plastics</td>\n",
       "      <td>2.634642e+08</td>\n",
       "      <td>2.730409e+07</td>\n",
       "    </tr>\n",
       "    <tr>\n",
       "      <th>CHEVRON</th>\n",
       "      <td>0.080064</td>\n",
       "      <td>FOSSIL-FUEL</td>\n",
       "      <td>oil and gas</td>\n",
       "      <td>3.027402e+08</td>\n",
       "      <td>2.423867e+07</td>\n",
       "    </tr>\n",
       "    <tr>\n",
       "      <th>SHELL</th>\n",
       "      <td>0.111182</td>\n",
       "      <td>FOSSIL-FUEL</td>\n",
       "      <td>oil and gas</td>\n",
       "      <td>2.023855e+08</td>\n",
       "      <td>2.250166e+07</td>\n",
       "    </tr>\n",
       "    <tr>\n",
       "      <th>EDISON ELECTRIC INSTITUTE</th>\n",
       "      <td>0.063293</td>\n",
       "      <td>POWER-UTILITIES</td>\n",
       "      <td>investor owned utilities</td>\n",
       "      <td>3.168839e+08</td>\n",
       "      <td>2.005667e+07</td>\n",
       "    </tr>\n",
       "    <tr>\n",
       "      <th>BP AMERICA</th>\n",
       "      <td>0.109716</td>\n",
       "      <td>FOSSIL-FUEL</td>\n",
       "      <td>oil and gas</td>\n",
       "      <td>1.666045e+08</td>\n",
       "      <td>1.827913e+07</td>\n",
       "    </tr>\n",
       "    <tr>\n",
       "      <th>AMERICAN ELECTRIC POWER</th>\n",
       "      <td>0.121490</td>\n",
       "      <td>POWER-UTILITIES</td>\n",
       "      <td>investor owned utilities</td>\n",
       "      <td>1.493925e+08</td>\n",
       "      <td>1.814972e+07</td>\n",
       "    </tr>\n",
       "    <tr>\n",
       "      <th>US CHAMBER OF COMMERCE</th>\n",
       "      <td>0.011406</td>\n",
       "      <td>BUSINESS-ADVOCACY</td>\n",
       "      <td>business advocacy</td>\n",
       "      <td>1.523526e+09</td>\n",
       "      <td>1.737725e+07</td>\n",
       "    </tr>\n",
       "    <tr>\n",
       "      <th>CALPINE</th>\n",
       "      <td>0.314134</td>\n",
       "      <td>POWER-UTILITIES</td>\n",
       "      <td>independent power producers</td>\n",
       "      <td>5.492438e+07</td>\n",
       "      <td>1.725363e+07</td>\n",
       "    </tr>\n",
       "    <tr>\n",
       "      <th>DUKE</th>\n",
       "      <td>0.075072</td>\n",
       "      <td>POWER-UTILITIES</td>\n",
       "      <td>investor owned utilities</td>\n",
       "      <td>1.895739e+08</td>\n",
       "      <td>1.423178e+07</td>\n",
       "    </tr>\n",
       "    <tr>\n",
       "      <th>PEABODY</th>\n",
       "      <td>0.209241</td>\n",
       "      <td>FOSSIL-FUEL</td>\n",
       "      <td>coal</td>\n",
       "      <td>6.796408e+07</td>\n",
       "      <td>1.422086e+07</td>\n",
       "    </tr>\n",
       "    <tr>\n",
       "      <th>TRANSCANADA</th>\n",
       "      <td>0.397378</td>\n",
       "      <td>FOSSIL-FUEL</td>\n",
       "      <td>pipelines</td>\n",
       "      <td>2.745500e+07</td>\n",
       "      <td>1.091000e+07</td>\n",
       "    </tr>\n",
       "    <tr>\n",
       "      <th>CONOCOPHILLIPS</th>\n",
       "      <td>0.064926</td>\n",
       "      <td>FOSSIL-FUEL</td>\n",
       "      <td>oil and gas</td>\n",
       "      <td>1.588607e+08</td>\n",
       "      <td>1.031411e+07</td>\n",
       "    </tr>\n",
       "    <tr>\n",
       "      <th>AMERICAN PETROLEUM INSTITUTE</th>\n",
       "      <td>0.057022</td>\n",
       "      <td>FOSSIL-FUEL</td>\n",
       "      <td>oil and gas</td>\n",
       "      <td>1.707159e+08</td>\n",
       "      <td>9.734589e+06</td>\n",
       "    </tr>\n",
       "    <tr>\n",
       "      <th>PACIFIC GAS AND ELECTRIC</th>\n",
       "      <td>0.049103</td>\n",
       "      <td>POWER-UTILITIES</td>\n",
       "      <td>investor owned utilities</td>\n",
       "      <td>1.840150e+08</td>\n",
       "      <td>9.035753e+06</td>\n",
       "    </tr>\n",
       "    <tr>\n",
       "      <th>AIR PRODUCTS AND CHEMICALS</th>\n",
       "      <td>0.351123</td>\n",
       "      <td>CHEMICALS</td>\n",
       "      <td>chemicals, refining, and plastics</td>\n",
       "      <td>2.478100e+07</td>\n",
       "      <td>8.701190e+06</td>\n",
       "    </tr>\n",
       "    <tr>\n",
       "      <th>AIR LIQUIDE</th>\n",
       "      <td>0.456506</td>\n",
       "      <td>CHEMICALS</td>\n",
       "      <td>chemicals, refining, and plastics</td>\n",
       "      <td>1.702350e+07</td>\n",
       "      <td>7.771333e+06</td>\n",
       "    </tr>\n",
       "    <tr>\n",
       "      <th>HONEYWELL INTERNATIONAL</th>\n",
       "      <td>0.044090</td>\n",
       "      <td>ENGINEERING-TECH</td>\n",
       "      <td>energy technology</td>\n",
       "      <td>1.742690e+08</td>\n",
       "      <td>7.683463e+06</td>\n",
       "    </tr>\n",
       "    <tr>\n",
       "      <th>PHILLIPS 66</th>\n",
       "      <td>0.125689</td>\n",
       "      <td>CHEMICALS</td>\n",
       "      <td>chemicals, refining, and plastics</td>\n",
       "      <td>5.220000e+07</td>\n",
       "      <td>6.560965e+06</td>\n",
       "    </tr>\n",
       "    <tr>\n",
       "      <th>MARATHON</th>\n",
       "      <td>0.045690</td>\n",
       "      <td>FOSSIL-FUEL</td>\n",
       "      <td>oil and gas</td>\n",
       "      <td>1.407858e+08</td>\n",
       "      <td>6.432509e+06</td>\n",
       "    </tr>\n",
       "    <tr>\n",
       "      <th>SEMPRA</th>\n",
       "      <td>0.098206</td>\n",
       "      <td>POWER-UTILITIES</td>\n",
       "      <td>investor owned utilities</td>\n",
       "      <td>6.519923e+07</td>\n",
       "      <td>6.402948e+06</td>\n",
       "    </tr>\n",
       "    <tr>\n",
       "      <th>NATIONAL RURAL ELECTRIC COOPERATIVE ASSOCIATION</th>\n",
       "      <td>0.065985</td>\n",
       "      <td>POWER-UTILITIES</td>\n",
       "      <td>municipal and cooperative utilities</td>\n",
       "      <td>9.039522e+07</td>\n",
       "      <td>5.964757e+06</td>\n",
       "    </tr>\n",
       "    <tr>\n",
       "      <th>NATIONAL GRID</th>\n",
       "      <td>0.092308</td>\n",
       "      <td>POWER-UTILITIES</td>\n",
       "      <td>investor owned utilities</td>\n",
       "      <td>5.734620e+07</td>\n",
       "      <td>5.293506e+06</td>\n",
       "    </tr>\n",
       "    <tr>\n",
       "      <th>WILLIAMS COMPANIES</th>\n",
       "      <td>0.090413</td>\n",
       "      <td>FOSSIL-FUEL</td>\n",
       "      <td>pipelines</td>\n",
       "      <td>5.359662e+07</td>\n",
       "      <td>4.845833e+06</td>\n",
       "    </tr>\n",
       "    <tr>\n",
       "      <th>POET</th>\n",
       "      <td>0.117464</td>\n",
       "      <td>BIOFUEL-SYNFUEL</td>\n",
       "      <td>biofuels</td>\n",
       "      <td>3.408690e+07</td>\n",
       "      <td>4.003967e+06</td>\n",
       "    </tr>\n",
       "    <tr>\n",
       "      <th>KOCH INDUSTRIES</th>\n",
       "      <td>0.015529</td>\n",
       "      <td>CHEMICALS</td>\n",
       "      <td>chemicals, refining, and plastics</td>\n",
       "      <td>2.322755e+08</td>\n",
       "      <td>3.607021e+06</td>\n",
       "    </tr>\n",
       "    <tr>\n",
       "      <th>EQUINOR</th>\n",
       "      <td>0.177935</td>\n",
       "      <td>FOSSIL-FUEL</td>\n",
       "      <td>oil and gas</td>\n",
       "      <td>1.893280e+07</td>\n",
       "      <td>3.368803e+06</td>\n",
       "    </tr>\n",
       "    <tr>\n",
       "      <th>ENBRIDGE</th>\n",
       "      <td>0.082764</td>\n",
       "      <td>FOSSIL-FUEL</td>\n",
       "      <td>pipelines</td>\n",
       "      <td>2.871100e+07</td>\n",
       "      <td>2.376235e+06</td>\n",
       "    </tr>\n",
       "    <tr>\n",
       "      <th>AMERICAN GAS ASSOCIATION</th>\n",
       "      <td>0.081710</td>\n",
       "      <td>FOSSIL-FUEL</td>\n",
       "      <td>oil and gas</td>\n",
       "      <td>2.846004e+07</td>\n",
       "      <td>2.325462e+06</td>\n",
       "    </tr>\n",
       "    <tr>\n",
       "      <th>CNX RESOURCES</th>\n",
       "      <td>0.381582</td>\n",
       "      <td>FOSSIL-FUEL</td>\n",
       "      <td>oil and gas</td>\n",
       "      <td>5.071000e+06</td>\n",
       "      <td>1.935000e+06</td>\n",
       "    </tr>\n",
       "    <tr>\n",
       "      <th>JUPITER OXYGEN</th>\n",
       "      <td>1.000000</td>\n",
       "      <td>CARBON-MANAGEMENT</td>\n",
       "      <td>ccs</td>\n",
       "      <td>1.499000e+06</td>\n",
       "      <td>1.499000e+06</td>\n",
       "    </tr>\n",
       "    <tr>\n",
       "      <th>EQT</th>\n",
       "      <td>0.268473</td>\n",
       "      <td>FOSSIL-FUEL</td>\n",
       "      <td>oil and gas</td>\n",
       "      <td>4.060000e+06</td>\n",
       "      <td>1.090000e+06</td>\n",
       "    </tr>\n",
       "    <tr>\n",
       "      <th>CCS ALLIANCE</th>\n",
       "      <td>1.000000</td>\n",
       "      <td>CARBON-MANAGEMENT</td>\n",
       "      <td>ccs</td>\n",
       "      <td>8.600000e+05</td>\n",
       "      <td>8.600000e+05</td>\n",
       "    </tr>\n",
       "    <tr>\n",
       "      <th>CNOOC</th>\n",
       "      <td>0.170112</td>\n",
       "      <td>FOSSIL-FUEL</td>\n",
       "      <td>oil and gas</td>\n",
       "      <td>3.870000e+06</td>\n",
       "      <td>6.583333e+05</td>\n",
       "    </tr>\n",
       "    <tr>\n",
       "      <th>NATIONAL OCEAN INDUSTRIES ASSOCIATION</th>\n",
       "      <td>0.105799</td>\n",
       "      <td>FOSSIL-FUEL</td>\n",
       "      <td>oil and gas</td>\n",
       "      <td>5.642000e+06</td>\n",
       "      <td>5.969167e+05</td>\n",
       "    </tr>\n",
       "    <tr>\n",
       "      <th>WOODSIDE ENERGY</th>\n",
       "      <td>0.203448</td>\n",
       "      <td>FOSSIL-FUEL</td>\n",
       "      <td>oil and gas</td>\n",
       "      <td>2.550000e+06</td>\n",
       "      <td>5.187914e+05</td>\n",
       "    </tr>\n",
       "    <tr>\n",
       "      <th>TOTAL</th>\n",
       "      <td>0.549451</td>\n",
       "      <td>FOSSIL-FUEL</td>\n",
       "      <td>oil and gas</td>\n",
       "      <td>9.100000e+05</td>\n",
       "      <td>5.000000e+05</td>\n",
       "    </tr>\n",
       "    <tr>\n",
       "      <th>SANDRIDGE ENERGY</th>\n",
       "      <td>0.818182</td>\n",
       "      <td>FOSSIL-FUEL</td>\n",
       "      <td>oil and gas</td>\n",
       "      <td>4.400000e+05</td>\n",
       "      <td>3.600000e+05</td>\n",
       "    </tr>\n",
       "    <tr>\n",
       "      <th>BAKKEN ENERGY</th>\n",
       "      <td>1.000000</td>\n",
       "      <td>FOSSIL-FUEL</td>\n",
       "      <td>oil and gas</td>\n",
       "      <td>3.600000e+05</td>\n",
       "      <td>3.600000e+05</td>\n",
       "    </tr>\n",
       "    <tr>\n",
       "      <th>INDEPENDENT PETROLEUM ASSOCIATION OF AMERICA</th>\n",
       "      <td>0.014129</td>\n",
       "      <td>FOSSIL-FUEL</td>\n",
       "      <td>oil and gas</td>\n",
       "      <td>2.500674e+07</td>\n",
       "      <td>3.533089e+05</td>\n",
       "    </tr>\n",
       "    <tr>\n",
       "      <th>EOG RESOURCES</th>\n",
       "      <td>0.103161</td>\n",
       "      <td>FOSSIL-FUEL</td>\n",
       "      <td>oil and gas</td>\n",
       "      <td>3.390000e+06</td>\n",
       "      <td>3.497143e+05</td>\n",
       "    </tr>\n",
       "    <tr>\n",
       "      <th>ENERGY MARKETERS OF AMERICA</th>\n",
       "      <td>0.018231</td>\n",
       "      <td>FOSSIL-FUEL</td>\n",
       "      <td>oil and gas</td>\n",
       "      <td>1.280500e+07</td>\n",
       "      <td>2.334468e+05</td>\n",
       "    </tr>\n",
       "    <tr>\n",
       "      <th>KP KAUFFMAN</th>\n",
       "      <td>0.158730</td>\n",
       "      <td>FOSSIL-FUEL</td>\n",
       "      <td>oil and gas</td>\n",
       "      <td>1.260000e+06</td>\n",
       "      <td>2.000000e+05</td>\n",
       "    </tr>\n",
       "    <tr>\n",
       "      <th>GREATER PITTSBURGH CHAMBER OF COMMERCE</th>\n",
       "      <td>0.052939</td>\n",
       "      <td>BUSINESS-ADVOCACY</td>\n",
       "      <td>business advocacy</td>\n",
       "      <td>2.869000e+06</td>\n",
       "      <td>1.518810e+05</td>\n",
       "    </tr>\n",
       "    <tr>\n",
       "      <th>HYPERION RESOURCES</th>\n",
       "      <td>0.265306</td>\n",
       "      <td>FOSSIL-FUEL</td>\n",
       "      <td>oil and gas</td>\n",
       "      <td>4.900000e+05</td>\n",
       "      <td>1.300000e+05</td>\n",
       "    </tr>\n",
       "    <tr>\n",
       "      <th>DIFFERENTIATED GAS COORDINATING COUNCIL COALITION</th>\n",
       "      <td>0.500000</td>\n",
       "      <td>FOSSIL-FUEL</td>\n",
       "      <td>oil and gas</td>\n",
       "      <td>2.400000e+05</td>\n",
       "      <td>1.200000e+05</td>\n",
       "    </tr>\n",
       "    <tr>\n",
       "      <th>GLENROCK PETROLEUM</th>\n",
       "      <td>0.897436</td>\n",
       "      <td>FOSSIL-FUEL</td>\n",
       "      <td>oil and gas</td>\n",
       "      <td>1.300000e+05</td>\n",
       "      <td>1.166667e+05</td>\n",
       "    </tr>\n",
       "    <tr>\n",
       "      <th>AMERICAS NATURAL GAS ALLIANCE</th>\n",
       "      <td>0.005376</td>\n",
       "      <td>FOSSIL-FUEL</td>\n",
       "      <td>oil and gas</td>\n",
       "      <td>2.096200e+07</td>\n",
       "      <td>1.126842e+05</td>\n",
       "    </tr>\n",
       "  </tbody>\n",
       "</table>\n",
       "</div>"
      ],
      "text/plain": [
       "                                                   ccs_fraction  \\\n",
       "organization                                                      \n",
       "OCCIDENTAL PETROLEUM                                   0.369171   \n",
       "SOUTHERN COMPANY                                       0.179702   \n",
       "EXXONMOBIL                                             0.124047   \n",
       "AMERICAN CHEMISTRY COUNCIL                             0.103635   \n",
       "CHEVRON                                                0.080064   \n",
       "SHELL                                                  0.111182   \n",
       "EDISON ELECTRIC INSTITUTE                              0.063293   \n",
       "BP AMERICA                                             0.109716   \n",
       "AMERICAN ELECTRIC POWER                                0.121490   \n",
       "US CHAMBER OF COMMERCE                                 0.011406   \n",
       "CALPINE                                                0.314134   \n",
       "DUKE                                                   0.075072   \n",
       "PEABODY                                                0.209241   \n",
       "TRANSCANADA                                            0.397378   \n",
       "CONOCOPHILLIPS                                         0.064926   \n",
       "AMERICAN PETROLEUM INSTITUTE                           0.057022   \n",
       "PACIFIC GAS AND ELECTRIC                               0.049103   \n",
       "AIR PRODUCTS AND CHEMICALS                             0.351123   \n",
       "AIR LIQUIDE                                            0.456506   \n",
       "HONEYWELL INTERNATIONAL                                0.044090   \n",
       "PHILLIPS 66                                            0.125689   \n",
       "MARATHON                                               0.045690   \n",
       "SEMPRA                                                 0.098206   \n",
       "NATIONAL RURAL ELECTRIC COOPERATIVE ASSOCIATION        0.065985   \n",
       "NATIONAL GRID                                          0.092308   \n",
       "WILLIAMS COMPANIES                                     0.090413   \n",
       "POET                                                   0.117464   \n",
       "KOCH INDUSTRIES                                        0.015529   \n",
       "EQUINOR                                                0.177935   \n",
       "ENBRIDGE                                               0.082764   \n",
       "AMERICAN GAS ASSOCIATION                               0.081710   \n",
       "CNX RESOURCES                                          0.381582   \n",
       "JUPITER OXYGEN                                         1.000000   \n",
       "EQT                                                    0.268473   \n",
       "CCS ALLIANCE                                           1.000000   \n",
       "CNOOC                                                  0.170112   \n",
       "NATIONAL OCEAN INDUSTRIES ASSOCIATION                  0.105799   \n",
       "WOODSIDE ENERGY                                        0.203448   \n",
       "TOTAL                                                  0.549451   \n",
       "SANDRIDGE ENERGY                                       0.818182   \n",
       "BAKKEN ENERGY                                          1.000000   \n",
       "INDEPENDENT PETROLEUM ASSOCIATION OF AMERICA           0.014129   \n",
       "EOG RESOURCES                                          0.103161   \n",
       "ENERGY MARKETERS OF AMERICA                            0.018231   \n",
       "KP KAUFFMAN                                            0.158730   \n",
       "GREATER PITTSBURGH CHAMBER OF COMMERCE                 0.052939   \n",
       "HYPERION RESOURCES                                     0.265306   \n",
       "DIFFERENTIATED GAS COORDINATING COUNCIL COALITION      0.500000   \n",
       "GLENROCK PETROLEUM                                     0.897436   \n",
       "AMERICAS NATURAL GAS ALLIANCE                          0.005376   \n",
       "\n",
       "                                                      general sector  \\\n",
       "organization                                                           \n",
       "OCCIDENTAL PETROLEUM                                     FOSSIL-FUEL   \n",
       "SOUTHERN COMPANY                                     POWER-UTILITIES   \n",
       "EXXONMOBIL                                               FOSSIL-FUEL   \n",
       "AMERICAN CHEMISTRY COUNCIL                                 CHEMICALS   \n",
       "CHEVRON                                                  FOSSIL-FUEL   \n",
       "SHELL                                                    FOSSIL-FUEL   \n",
       "EDISON ELECTRIC INSTITUTE                            POWER-UTILITIES   \n",
       "BP AMERICA                                               FOSSIL-FUEL   \n",
       "AMERICAN ELECTRIC POWER                              POWER-UTILITIES   \n",
       "US CHAMBER OF COMMERCE                             BUSINESS-ADVOCACY   \n",
       "CALPINE                                              POWER-UTILITIES   \n",
       "DUKE                                                 POWER-UTILITIES   \n",
       "PEABODY                                                  FOSSIL-FUEL   \n",
       "TRANSCANADA                                              FOSSIL-FUEL   \n",
       "CONOCOPHILLIPS                                           FOSSIL-FUEL   \n",
       "AMERICAN PETROLEUM INSTITUTE                             FOSSIL-FUEL   \n",
       "PACIFIC GAS AND ELECTRIC                             POWER-UTILITIES   \n",
       "AIR PRODUCTS AND CHEMICALS                                 CHEMICALS   \n",
       "AIR LIQUIDE                                                CHEMICALS   \n",
       "HONEYWELL INTERNATIONAL                             ENGINEERING-TECH   \n",
       "PHILLIPS 66                                                CHEMICALS   \n",
       "MARATHON                                                 FOSSIL-FUEL   \n",
       "SEMPRA                                               POWER-UTILITIES   \n",
       "NATIONAL RURAL ELECTRIC COOPERATIVE ASSOCIATION      POWER-UTILITIES   \n",
       "NATIONAL GRID                                        POWER-UTILITIES   \n",
       "WILLIAMS COMPANIES                                       FOSSIL-FUEL   \n",
       "POET                                                 BIOFUEL-SYNFUEL   \n",
       "KOCH INDUSTRIES                                            CHEMICALS   \n",
       "EQUINOR                                                  FOSSIL-FUEL   \n",
       "ENBRIDGE                                                 FOSSIL-FUEL   \n",
       "AMERICAN GAS ASSOCIATION                                 FOSSIL-FUEL   \n",
       "CNX RESOURCES                                            FOSSIL-FUEL   \n",
       "JUPITER OXYGEN                                     CARBON-MANAGEMENT   \n",
       "EQT                                                      FOSSIL-FUEL   \n",
       "CCS ALLIANCE                                       CARBON-MANAGEMENT   \n",
       "CNOOC                                                    FOSSIL-FUEL   \n",
       "NATIONAL OCEAN INDUSTRIES ASSOCIATION                    FOSSIL-FUEL   \n",
       "WOODSIDE ENERGY                                          FOSSIL-FUEL   \n",
       "TOTAL                                                    FOSSIL-FUEL   \n",
       "SANDRIDGE ENERGY                                         FOSSIL-FUEL   \n",
       "BAKKEN ENERGY                                            FOSSIL-FUEL   \n",
       "INDEPENDENT PETROLEUM ASSOCIATION OF AMERICA             FOSSIL-FUEL   \n",
       "EOG RESOURCES                                            FOSSIL-FUEL   \n",
       "ENERGY MARKETERS OF AMERICA                              FOSSIL-FUEL   \n",
       "KP KAUFFMAN                                              FOSSIL-FUEL   \n",
       "GREATER PITTSBURGH CHAMBER OF COMMERCE             BUSINESS-ADVOCACY   \n",
       "HYPERION RESOURCES                                       FOSSIL-FUEL   \n",
       "DIFFERENTIATED GAS COORDINATING COUNCIL COALITION        FOSSIL-FUEL   \n",
       "GLENROCK PETROLEUM                                       FOSSIL-FUEL   \n",
       "AMERICAS NATURAL GAS ALLIANCE                            FOSSIL-FUEL   \n",
       "\n",
       "                                                                       detailed sector  \\\n",
       "organization                                                                             \n",
       "OCCIDENTAL PETROLEUM                                                       oil and gas   \n",
       "SOUTHERN COMPANY                                              investor owned utilities   \n",
       "EXXONMOBIL                                                                 oil and gas   \n",
       "AMERICAN CHEMISTRY COUNCIL                           chemicals, refining, and plastics   \n",
       "CHEVRON                                                                    oil and gas   \n",
       "SHELL                                                                      oil and gas   \n",
       "EDISON ELECTRIC INSTITUTE                                     investor owned utilities   \n",
       "BP AMERICA                                                                 oil and gas   \n",
       "AMERICAN ELECTRIC POWER                                       investor owned utilities   \n",
       "US CHAMBER OF COMMERCE                                               business advocacy   \n",
       "CALPINE                                                    independent power producers   \n",
       "DUKE                                                          investor owned utilities   \n",
       "PEABODY                                                                           coal   \n",
       "TRANSCANADA                                                                  pipelines   \n",
       "CONOCOPHILLIPS                                                             oil and gas   \n",
       "AMERICAN PETROLEUM INSTITUTE                                               oil and gas   \n",
       "PACIFIC GAS AND ELECTRIC                                      investor owned utilities   \n",
       "AIR PRODUCTS AND CHEMICALS                           chemicals, refining, and plastics   \n",
       "AIR LIQUIDE                                          chemicals, refining, and plastics   \n",
       "HONEYWELL INTERNATIONAL                                              energy technology   \n",
       "PHILLIPS 66                                          chemicals, refining, and plastics   \n",
       "MARATHON                                                                   oil and gas   \n",
       "SEMPRA                                                        investor owned utilities   \n",
       "NATIONAL RURAL ELECTRIC COOPERATIVE ASSOCIATION    municipal and cooperative utilities   \n",
       "NATIONAL GRID                                                 investor owned utilities   \n",
       "WILLIAMS COMPANIES                                                           pipelines   \n",
       "POET                                                                          biofuels   \n",
       "KOCH INDUSTRIES                                      chemicals, refining, and plastics   \n",
       "EQUINOR                                                                    oil and gas   \n",
       "ENBRIDGE                                                                     pipelines   \n",
       "AMERICAN GAS ASSOCIATION                                                   oil and gas   \n",
       "CNX RESOURCES                                                              oil and gas   \n",
       "JUPITER OXYGEN                                                                     ccs   \n",
       "EQT                                                                        oil and gas   \n",
       "CCS ALLIANCE                                                                       ccs   \n",
       "CNOOC                                                                      oil and gas   \n",
       "NATIONAL OCEAN INDUSTRIES ASSOCIATION                                      oil and gas   \n",
       "WOODSIDE ENERGY                                                            oil and gas   \n",
       "TOTAL                                                                      oil and gas   \n",
       "SANDRIDGE ENERGY                                                           oil and gas   \n",
       "BAKKEN ENERGY                                                              oil and gas   \n",
       "INDEPENDENT PETROLEUM ASSOCIATION OF AMERICA                               oil and gas   \n",
       "EOG RESOURCES                                                              oil and gas   \n",
       "ENERGY MARKETERS OF AMERICA                                                oil and gas   \n",
       "KP KAUFFMAN                                                                oil and gas   \n",
       "GREATER PITTSBURGH CHAMBER OF COMMERCE                               business advocacy   \n",
       "HYPERION RESOURCES                                                         oil and gas   \n",
       "DIFFERENTIATED GAS COORDINATING COUNCIL COALITION                          oil and gas   \n",
       "GLENROCK PETROLEUM                                                         oil and gas   \n",
       "AMERICAS NATURAL GAS ALLIANCE                                              oil and gas   \n",
       "\n",
       "                                                   all_lobbying_activity_usd_2005_2024  \\\n",
       "organization                                                                             \n",
       "OCCIDENTAL PETROLEUM                                                      2.074995e+08   \n",
       "SOUTHERN COMPANY                                                          3.067445e+08   \n",
       "EXXONMOBIL                                                                3.446525e+08   \n",
       "AMERICAN CHEMISTRY COUNCIL                                                2.634642e+08   \n",
       "CHEVRON                                                                   3.027402e+08   \n",
       "SHELL                                                                     2.023855e+08   \n",
       "EDISON ELECTRIC INSTITUTE                                                 3.168839e+08   \n",
       "BP AMERICA                                                                1.666045e+08   \n",
       "AMERICAN ELECTRIC POWER                                                   1.493925e+08   \n",
       "US CHAMBER OF COMMERCE                                                    1.523526e+09   \n",
       "CALPINE                                                                   5.492438e+07   \n",
       "DUKE                                                                      1.895739e+08   \n",
       "PEABODY                                                                   6.796408e+07   \n",
       "TRANSCANADA                                                               2.745500e+07   \n",
       "CONOCOPHILLIPS                                                            1.588607e+08   \n",
       "AMERICAN PETROLEUM INSTITUTE                                              1.707159e+08   \n",
       "PACIFIC GAS AND ELECTRIC                                                  1.840150e+08   \n",
       "AIR PRODUCTS AND CHEMICALS                                                2.478100e+07   \n",
       "AIR LIQUIDE                                                               1.702350e+07   \n",
       "HONEYWELL INTERNATIONAL                                                   1.742690e+08   \n",
       "PHILLIPS 66                                                               5.220000e+07   \n",
       "MARATHON                                                                  1.407858e+08   \n",
       "SEMPRA                                                                    6.519923e+07   \n",
       "NATIONAL RURAL ELECTRIC COOPERATIVE ASSOCIATION                           9.039522e+07   \n",
       "NATIONAL GRID                                                             5.734620e+07   \n",
       "WILLIAMS COMPANIES                                                        5.359662e+07   \n",
       "POET                                                                      3.408690e+07   \n",
       "KOCH INDUSTRIES                                                           2.322755e+08   \n",
       "EQUINOR                                                                   1.893280e+07   \n",
       "ENBRIDGE                                                                  2.871100e+07   \n",
       "AMERICAN GAS ASSOCIATION                                                  2.846004e+07   \n",
       "CNX RESOURCES                                                             5.071000e+06   \n",
       "JUPITER OXYGEN                                                            1.499000e+06   \n",
       "EQT                                                                       4.060000e+06   \n",
       "CCS ALLIANCE                                                              8.600000e+05   \n",
       "CNOOC                                                                     3.870000e+06   \n",
       "NATIONAL OCEAN INDUSTRIES ASSOCIATION                                     5.642000e+06   \n",
       "WOODSIDE ENERGY                                                           2.550000e+06   \n",
       "TOTAL                                                                     9.100000e+05   \n",
       "SANDRIDGE ENERGY                                                          4.400000e+05   \n",
       "BAKKEN ENERGY                                                             3.600000e+05   \n",
       "INDEPENDENT PETROLEUM ASSOCIATION OF AMERICA                              2.500674e+07   \n",
       "EOG RESOURCES                                                             3.390000e+06   \n",
       "ENERGY MARKETERS OF AMERICA                                               1.280500e+07   \n",
       "KP KAUFFMAN                                                               1.260000e+06   \n",
       "GREATER PITTSBURGH CHAMBER OF COMMERCE                                    2.869000e+06   \n",
       "HYPERION RESOURCES                                                        4.900000e+05   \n",
       "DIFFERENTIATED GAS COORDINATING COUNCIL COALITION                         2.400000e+05   \n",
       "GLENROCK PETROLEUM                                                        1.300000e+05   \n",
       "AMERICAS NATURAL GAS ALLIANCE                                             2.096200e+07   \n",
       "\n",
       "                                                   ccs_lobbying_activity_usd_2005_2024  \n",
       "organization                                                                            \n",
       "OCCIDENTAL PETROLEUM                                                      7.660287e+07  \n",
       "SOUTHERN COMPANY                                                          5.512273e+07  \n",
       "EXXONMOBIL                                                                4.275299e+07  \n",
       "AMERICAN CHEMISTRY COUNCIL                                                2.730409e+07  \n",
       "CHEVRON                                                                   2.423867e+07  \n",
       "SHELL                                                                     2.250166e+07  \n",
       "EDISON ELECTRIC INSTITUTE                                                 2.005667e+07  \n",
       "BP AMERICA                                                                1.827913e+07  \n",
       "AMERICAN ELECTRIC POWER                                                   1.814972e+07  \n",
       "US CHAMBER OF COMMERCE                                                    1.737725e+07  \n",
       "CALPINE                                                                   1.725363e+07  \n",
       "DUKE                                                                      1.423178e+07  \n",
       "PEABODY                                                                   1.422086e+07  \n",
       "TRANSCANADA                                                               1.091000e+07  \n",
       "CONOCOPHILLIPS                                                            1.031411e+07  \n",
       "AMERICAN PETROLEUM INSTITUTE                                              9.734589e+06  \n",
       "PACIFIC GAS AND ELECTRIC                                                  9.035753e+06  \n",
       "AIR PRODUCTS AND CHEMICALS                                                8.701190e+06  \n",
       "AIR LIQUIDE                                                               7.771333e+06  \n",
       "HONEYWELL INTERNATIONAL                                                   7.683463e+06  \n",
       "PHILLIPS 66                                                               6.560965e+06  \n",
       "MARATHON                                                                  6.432509e+06  \n",
       "SEMPRA                                                                    6.402948e+06  \n",
       "NATIONAL RURAL ELECTRIC COOPERATIVE ASSOCIATION                           5.964757e+06  \n",
       "NATIONAL GRID                                                             5.293506e+06  \n",
       "WILLIAMS COMPANIES                                                        4.845833e+06  \n",
       "POET                                                                      4.003967e+06  \n",
       "KOCH INDUSTRIES                                                           3.607021e+06  \n",
       "EQUINOR                                                                   3.368803e+06  \n",
       "ENBRIDGE                                                                  2.376235e+06  \n",
       "AMERICAN GAS ASSOCIATION                                                  2.325462e+06  \n",
       "CNX RESOURCES                                                             1.935000e+06  \n",
       "JUPITER OXYGEN                                                            1.499000e+06  \n",
       "EQT                                                                       1.090000e+06  \n",
       "CCS ALLIANCE                                                              8.600000e+05  \n",
       "CNOOC                                                                     6.583333e+05  \n",
       "NATIONAL OCEAN INDUSTRIES ASSOCIATION                                     5.969167e+05  \n",
       "WOODSIDE ENERGY                                                           5.187914e+05  \n",
       "TOTAL                                                                     5.000000e+05  \n",
       "SANDRIDGE ENERGY                                                          3.600000e+05  \n",
       "BAKKEN ENERGY                                                             3.600000e+05  \n",
       "INDEPENDENT PETROLEUM ASSOCIATION OF AMERICA                              3.533089e+05  \n",
       "EOG RESOURCES                                                             3.497143e+05  \n",
       "ENERGY MARKETERS OF AMERICA                                               2.334468e+05  \n",
       "KP KAUFFMAN                                                               2.000000e+05  \n",
       "GREATER PITTSBURGH CHAMBER OF COMMERCE                                    1.518810e+05  \n",
       "HYPERION RESOURCES                                                        1.300000e+05  \n",
       "DIFFERENTIATED GAS COORDINATING COUNCIL COALITION                         1.200000e+05  \n",
       "GLENROCK PETROLEUM                                                        1.166667e+05  \n",
       "AMERICAS NATURAL GAS ALLIANCE                                             1.126842e+05  "
      ]
     },
     "execution_count": 40,
     "metadata": {},
     "output_type": "execute_result"
    }
   ],
   "source": [
    "# ### Compute the fraction of the total CCS lobbying done by heavy hitters in the CCS lobbying space\n",
    "\n",
    "big_spenders_total_df = trim_dates(\n",
    "    pd.read_csv(PATH_TO_POSTPROCESSED_BIG_SPENDERS_FILINGS),\n",
    "    yr=2024,\n",
    "    period=4,\n",
    "    how=\"lte\",\n",
    "    yr_col=\"filing_year\",\n",
    "    period_col=\"filing_period\",\n",
    ")\n",
    "\n",
    "big_spenders_total_df.lobbying_activity_usd.fillna(0, inplace=True)\n",
    "\n",
    "ccs_lobbying_df = (\n",
    "    big_spenders_total_df[\n",
    "        [\n",
    "            \"organization\",\n",
    "            \"lobbying_activity_usd\",\n",
    "        ]\n",
    "    ]\n",
    "    .loc[big_spenders_total_df.definitely_ccs == 1]\n",
    "    .groupby(\"organization\")\n",
    "    .sum()\n",
    "    .sort_values(by=\"lobbying_activity_usd\", ascending=False)\n",
    ")\n",
    "ccs_lobbying_df.columns = [\"ccs_lobbying_activity_usd_2005_2024\"]\n",
    "total_lobbying_df = (\n",
    "    big_spenders_total_df[\n",
    "        [\"organization\", \"lobbying_activity_usd\", \"very_lumped_sector\", \"sector\"]\n",
    "    ]\n",
    "    .groupby(\"organization\")\n",
    "    .agg(\n",
    "        {\"lobbying_activity_usd\": sum, \"very_lumped_sector\": \"first\", \"sector\": \"first\"}\n",
    "    )\n",
    "    .sort_values(by=\"lobbying_activity_usd\", ascending=False)\n",
    ")\n",
    "total_lobbying_df.columns = [\n",
    "    \"all_lobbying_activity_usd_2005_2024\",\n",
    "    \"general sector\",\n",
    "    \"detailed sector\",\n",
    "]\n",
    "\n",
    "ccs_fraction_df = total_lobbying_df.merge(\n",
    "    ccs_lobbying_df, left_index=True, right_index=True, how=\"right\"\n",
    ")\n",
    "ccs_fraction_df[\"ccs_fraction\"] = [\n",
    "    ccs / a if a > 0 else 0\n",
    "    for ccs, a in zip(\n",
    "        ccs_fraction_df[\"ccs_lobbying_activity_usd_2005_2024\"],\n",
    "        ccs_fraction_df[\"all_lobbying_activity_usd_2005_2024\"],\n",
    "    )\n",
    "]\n",
    "ccs_fraction_df = ccs_fraction_df[\n",
    "    [\n",
    "        \"ccs_fraction\",\n",
    "        \"general sector\",\n",
    "        \"detailed sector\",\n",
    "        \"all_lobbying_activity_usd_2005_2024\",\n",
    "        \"ccs_lobbying_activity_usd_2005_2024\",\n",
    "    ]\n",
    "].sort_values(\n",
    "    by=\"ccs_lobbying_activity_usd_2005_2024\",\n",
    "    ascending=False,\n",
    ")\n",
    "ccs_fraction_df.head(50).to_clipboard()\n",
    "ccs_fraction_df.head(50)"
   ]
  },
  {
   "cell_type": "markdown",
   "metadata": {},
   "source": [
    "### Informational tables for ESP paper"
   ]
  },
  {
   "cell_type": "markdown",
   "metadata": {},
   "source": [
    "#### Table A.2: Bills mostly or entirely focused on CCS"
   ]
  },
  {
   "cell_type": "code",
   "execution_count": 41,
   "metadata": {},
   "outputs": [],
   "source": [
    "acts_df = pd.read_csv(DATA_DIR / Path(\"bills_mostly_ccs.csv\"))\n",
    "acts_df.fillna(-1, inplace=True)\n",
    "\n",
    "acts_df.columns = [\n",
    "    \"Name of legislation\",\n",
    "    \"Year\",\n",
    "    \"Congress\",\n",
    "    \"House bill number\",\n",
    "    \"Senate bill number\",\n",
    "]\n",
    "for c in [\"House bill number\", \"Senate bill number\", \"Year\", \"Congress\"]:\n",
    "    acts_df[c] = [str(int(x)) if x > -1 else \"\" for x in acts_df[c]]\n",
    "acts_df.sort_values(\n",
    "    by=[\"Congress\", \"House bill number\", \"Senate bill number\"],\n",
    "    ascending=True,\n",
    "    inplace=True,\n",
    ")\n",
    "acts_df.to_csv(\"mostly_ccs_table_a3.csv\")\n",
    "\n",
    "acts_df[\"House bill number\"] = [\n",
    "    \"H.R.\" + h if h != \"\" else \"\" for h in acts_df[\"House bill number\"]\n",
    "]\n",
    "acts_df[\"Senate bill number\"] = [\n",
    "    \"S.\" + s if s != \"\" else \"\" for s in acts_df[\"Senate bill number\"]\n",
    "]\n",
    "acts_df[\"bill numbers\"] = [\n",
    "    \"\" if (h == \"\") and (s == \"\") else f\"({h}, {s})\"\n",
    "    for h, s in zip(acts_df[\"House bill number\"], acts_df[\"Senate bill number\"])\n",
    "]\n",
    "acts_df[\"bill numbers\"] = [\n",
    "    b.replace(\", \", \"\") if ((h == \"\") | (s == \"\")) and (b != \"\") else b\n",
    "    for b, h, s in zip(\n",
    "        acts_df[\"bill numbers\"],\n",
    "        acts_df[\"House bill number\"],\n",
    "        acts_df[\"Senate bill number\"],\n",
    "    )\n",
    "]\n",
    "acts_df[\"Bills\"] = [\n",
    "    f\"{n} {b}\" for n, b in zip(acts_df[\"Name of legislation\"], acts_df[\"bill numbers\"])\n",
    "]\n",
    "acts_df[[\"Congress\", \"Bills\"]].groupby(\"Congress\").agg(\n",
    "    lambda x: \"\\n\".join(list(x))\n",
    ").to_csv(\"congress_bill_names.csv\")"
   ]
  },
  {
   "cell_type": "markdown",
   "metadata": {},
   "source": [
    "#### Table A.3: List all detailed sectors, the corresponding general sector, and the set of organizations that lobbyied about CCS b/w 2005 and 2024"
   ]
  },
  {
   "cell_type": "code",
   "execution_count": 42,
   "metadata": {},
   "outputs": [],
   "source": [
    "sectors_df = (\n",
    "    df.loc[df.definitely_ccs == 1][[\"organization\", \"sector\"]]\n",
    "    .groupby(\"organization\")\n",
    "    .first()\n",
    "    .reset_index()\n",
    ")\n",
    "lumping_df = (\n",
    "    df[[\"sector\", \"uber_lumped_sector\"]].groupby(\"sector\").first().reset_index()\n",
    ")\n",
    "sectors_df = (\n",
    "    sectors_df[[\"organization\", \"sector\"]]\n",
    "    .groupby(\"sector\")\n",
    "    .agg(lambda x: \"\\n\".join(list(x)))\n",
    ").reset_index()\n",
    "sectors_df[[\"col1\", \"col2\", \"col3\"]] = sectors_df[\"organization\"].apply(\n",
    "    lambda x: pd.Series(split_on_char3(x))\n",
    ")\n",
    "# join multi-column organization name table to the list of detailed sector names with general sectors specified in parentheses\n",
    "sectors_df = sectors_df.merge(lumping_df, on=\"sector\")\n",
    "sectors_df[\"sector\"] = [\n",
    "    f\"{s} ({u})\" for s, u in zip(sectors_df.sector, sectors_df.uber_lumped_sector)\n",
    "]\n",
    "# save resulting table to file\n",
    "sectors_df.to_csv(\"companies_in_sectors.csv\")"
   ]
  },
  {
   "cell_type": "code",
   "execution_count": null,
   "metadata": {},
   "outputs": [],
   "source": []
  }
 ],
 "metadata": {
  "kernelspec": {
   "display_name": "projects-7_KjhAaO-py3.12",
   "language": "python",
   "name": "projects-7_kjhaao-py3.12"
  },
  "language_info": {
   "codemirror_mode": {
    "name": "ipython",
    "version": 3
   },
   "file_extension": ".py",
   "mimetype": "text/x-python",
   "name": "python",
   "nbconvert_exporter": "python",
   "pygments_lexer": "ipython3",
   "version": "3.12.6"
  }
 },
 "nbformat": 4,
 "nbformat_minor": 2
}
