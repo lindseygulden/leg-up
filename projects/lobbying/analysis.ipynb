{
 "cells": [
  {
   "cell_type": "markdown",
   "metadata": {},
   "source": [
    "## Tabulations and figures for CCS-lobbying-activity analysis\n",
    "Lindsey Gulden, lindsey@legupdata.com\n",
    "October 2024"
   ]
  },
  {
   "cell_type": "code",
   "execution_count": 1,
   "metadata": {},
   "outputs": [
    {
     "data": {
      "text/html": [
       "\n",
       "                <script type=\"application/javascript\" id=\"jupyter_black\">\n",
       "                (function() {\n",
       "                    if (window.IPython === undefined) {\n",
       "                        return\n",
       "                    }\n",
       "                    var msg = \"WARNING: it looks like you might have loaded \" +\n",
       "                        \"jupyter_black in a non-lab notebook with \" +\n",
       "                        \"`is_lab=True`. Please double check, and if \" +\n",
       "                        \"loading with `%load_ext` please review the README!\"\n",
       "                    console.log(msg)\n",
       "                    alert(msg)\n",
       "                })()\n",
       "                </script>\n",
       "                "
      ],
      "text/plain": [
       "<IPython.core.display.HTML object>"
      ]
     },
     "metadata": {},
     "output_type": "display_data"
    }
   ],
   "source": [
    "\n",
    "import pandas as pd\n",
    "\n",
    "from utils.io import yaml_to_dict\n",
    "from projects.lobbying.postproc_utils import terms_present\n",
    "import numpy as np\n",
    "\n",
    "import matplotlib.pyplot as plt\n",
    "import seaborn as sns\n",
    "\n",
    "import warnings\n",
    "\n",
    "warnings.filterwarnings(\"ignore\")\n",
    "%load_ext jupyter_black"
   ]
  },
  {
   "cell_type": "markdown",
   "metadata": {},
   "source": [
    "### PATHS TO POSTPROCESSED DATA, YAML CONFIGURATIONS"
   ]
  },
  {
   "cell_type": "code",
   "execution_count": 2,
   "metadata": {},
   "outputs": [],
   "source": [
    "PATH_TO_POSTPROCESSED_FILINGS = (\n",
    "    \"/Volumes/Samsung_T5/data/lobbying/ccs/ccs_postprocessed_filings.csv\"\n",
    ")\n",
    "PATH_TO_POSTPROCESSED_STEEL_INDUSTRY_FILINGS = \"/Volumes/Samsung_T5/data/lobbying/steel_iron_organizations/oct9_postprocessed_steel_iron_org_filings.csv\"\n",
    "PATH_TO_POSTPROCESSED_BIG_SPENDERS_FILINGS = (\n",
    "    \"/Volumes/Samsung_T5/data/lobbying/oil_and_gas_orgs/oct18_postprocessed_filings.csv\"\n",
    ")\n",
    "\n",
    "PATH_TO_POSTPROC_SPECS_YAML = \"/Users/lindseygulden/dev/leg-up-private/projects/lobbying/definitions/ccs_postproc_specifications.yml\""
   ]
  },
  {
   "cell_type": "markdown",
   "metadata": {},
   "source": [
    "### Load postprocessed data, summarize general counts"
   ]
  },
  {
   "cell_type": "code",
   "execution_count": 3,
   "metadata": {},
   "outputs": [
    {
     "data": {
      "text/plain": [
       "ccs_company                958\n",
       "contains_description      8945\n",
       "ccs_bills                 3304\n",
       "ccs_bills_number_only     3920\n",
       "bills_with_ccs_terms      3550\n",
       "definitely_ccs           13050\n",
       "very_likely_ccs          14513\n",
       "likely_ccs               14938\n",
       "h2_mention_core_ff        2168\n",
       "potentially_ccs          30991\n",
       "dtype: int64"
      ]
     },
     "execution_count": 3,
     "metadata": {},
     "output_type": "execute_result"
    }
   ],
   "source": [
    "df = pd.read_csv(PATH_TO_POSTPROCESSED_FILINGS)\n",
    "\n",
    "df[\n",
    "    [\n",
    "        \"ccs_company\",\n",
    "        \"contains_description\",\n",
    "        \"ccs_bills\",\n",
    "        \"ccs_bills_number_only\",\n",
    "        \"bills_with_ccs_terms\",\n",
    "        \"definitely_ccs\",\n",
    "        \"very_likely_ccs\",\n",
    "        \"likely_ccs\",\n",
    "        \"h2_mention_core_ff\",\n",
    "        \"potentially_ccs\",\n",
    "    ]\n",
    "].sum()"
   ]
  },
  {
   "cell_type": "markdown",
   "metadata": {},
   "source": [
    "### Summarize the mapping of names of organizations used on filing documents to single names \n",
    "(e.g. \"EXXON MOBIL CORPORATION\" and \"EXXONMOBIL\" are both mapped to \"EXXONMOBIL\")"
   ]
  },
  {
   "cell_type": "code",
   "execution_count": 4,
   "metadata": {},
   "outputs": [],
   "source": [
    "companies_df = (\n",
    "    df[\n",
    "        [\n",
    "            \"client_name_on_filing_document\",\n",
    "            \"client_id\",\n",
    "            \"organization\",\n",
    "            \"sector\",\n",
    "            \"lumped_sector\",\n",
    "            \"very_lumped_sector\",\n",
    "            \"definitely_ccs\",\n",
    "        ]\n",
    "    ]\n",
    "    .groupby([\"client_name_on_filing_document\", \"client_id\"])\n",
    "    .agg(\n",
    "        {\n",
    "            \"definitely_ccs\": \"max\",\n",
    "            \"organization\": \"first\",\n",
    "            \"sector\": \"first\",\n",
    "            \"lumped_sector\": \"first\",\n",
    "            \"very_lumped_sector\": \"first\",\n",
    "        }\n",
    "    )\n",
    ")\n",
    "companies_df.reset_index(inplace=True)\n",
    "companies_df.sort_values(\n",
    "    by=[\"organization\", \"client_name_on_filing_document\", \"client_id\"], ascending=True\n",
    ").to_clipboard()"
   ]
  },
  {
   "cell_type": "markdown",
   "metadata": {},
   "source": [
    "### Subset data to lobbying activities identified as 'definitey CCS'. Compute percentages of total dollars and lobbying/entity contacts"
   ]
  },
  {
   "cell_type": "code",
   "execution_count": 5,
   "metadata": {},
   "outputs": [],
   "source": [
    "# for plotting and analysis, subset to only the 'definitely ccs' lobbying activities\n",
    "df = df.loc[df.definitely_ccs == 1]\n",
    "\n",
    "tot_dollars = df.lobbying_activity_usd.sum()\n",
    "\n",
    "tot_contacts = df.n_entities_lobbied.sum()\n",
    "\n",
    "tot_dollars_since_2019 = df.loc[df.filing_year > 2018].lobbying_activity_usd.sum()\n",
    "\n",
    "tot_contacts_since_2019 = df.loc[df.filing_year > 2018].n_entities_lobbied.sum()\n",
    "\n",
    "# compute percentages of total dollars and entity contacts for all years\n",
    "df[\"pct_of_lobbying_dollars_definitely_ccs\"] = [\n",
    "    100 * x / tot_dollars for x in df.lobbying_activity_usd\n",
    "]\n",
    "\n",
    "df[\"pct_of_entity_contacts_definitely_ccs\"] = [\n",
    "    100 * x / tot_contacts for x in df.n_entities_lobbied\n",
    "]\n",
    "\n",
    "# compute percentages of total dollars and entity contacts since 2019\n",
    "df[\"pct_of_lobbying_dollars_definitely_ccs_since_2019\"] = [\n",
    "    100 * x / tot_dollars_since_2019 if y > 2018 else 0\n",
    "    for x, y in zip(df.lobbying_activity_usd, df.filing_year)\n",
    "]\n",
    "\n",
    "df[\"pct_of_entity_contacts_definitely_ccs_since_2019\"] = [\n",
    "    100 * x / tot_contacts_since_2019 if y > 2018 else 0\n",
    "    for x, y in zip(df.n_entities_lobbied, df.filing_year)\n",
    "]"
   ]
  },
  {
   "cell_type": "code",
   "execution_count": 6,
   "metadata": {},
   "outputs": [
    {
     "name": "stdout",
     "output_type": "stream",
     "text": [
      "Dollars spent:\n",
      "From Jan 1 2019 through June 30 2024 $429157539\n",
      "From Jan 1 2005 through June 30 2024: $755652202\n",
      "\n",
      "Contacts made:\n",
      "From Jan 1 2019 through June 30 2024: 34118\n",
      "From Jan 1 2005 through June 30 2024: 57938\n",
      "\n",
      "CCS lobbying contacts per work day since start of 2019: 24.8\n"
     ]
    }
   ],
   "source": [
    "print(\"Dollars spent:\")\n",
    "since_2019 = df.loc[\n",
    "    (df.definitely_ccs == 1) & (df.filing_year > 2018)\n",
    "].lobbying_activity_usd.sum()\n",
    "print(f\"From Jan 1 2019 through June 30 2024 ${since_2019:.0f}\")\n",
    "allyears = df.loc[(df.definitely_ccs == 1)].lobbying_activity_usd.sum()\n",
    "print(f\"From Jan 1 2005 through June 30 2024: ${allyears:.0f}\")\n",
    "print(\"\")\n",
    "print(\"Contacts made:\")\n",
    "since_2019 = df.loc[\n",
    "    (df.definitely_ccs == 1) & (df.filing_year > 2018)\n",
    "].n_entities_lobbied.sum()\n",
    "print(f\"From Jan 1 2019 through June 30 2024: {since_2019}\")\n",
    "allyears = df.loc[(df.definitely_ccs == 1)].n_entities_lobbied.sum()\n",
    "print(f\"From Jan 1 2005 through June 30 2024: {allyears}\")\n",
    "print(\"\")\n",
    "print(\n",
    "    f\"CCS lobbying contacts per work day since start of 2019: {since_2019 / (50 * 5 * 5.5):.1f}\"\n",
    ")"
   ]
  },
  {
   "cell_type": "code",
   "execution_count": 7,
   "metadata": {},
   "outputs": [
    {
     "name": "stdout",
     "output_type": "stream",
     "text": [
      "Core fossil-fuel-sector industry is responsible for 76% of CCS lobbying dollars\n",
      "Core FF + FF-adjacent industry is responsible for 88% of CCS lobbying dollars\n",
      "Non-fossil-fuel-sector industry is responsible for 3% of CCS lobbying dollars\n",
      "Industry that directly profits from selling or burning fossil fuels spends 24 times as much as non-FF industry on CCS lobbying\n"
     ]
    }
   ],
   "source": [
    "core_ff_sectors = yaml_to_dict(PATH_TO_POSTPROC_SPECS_YAML)[\"core_industry_sectors\"]\n",
    "ff_adjacent_sectors = yaml_to_dict(PATH_TO_POSTPROC_SPECS_YAML)[\n",
    "    \"industry_adjacent_sectors\"\n",
    "]\n",
    "pct_core_ff = df.loc[\n",
    "    df.sector.isin(core_ff_sectors) & (df.definitely_ccs == 1)\n",
    "].pct_of_lobbying_dollars_definitely_ccs.sum()\n",
    "pct_ff_adjacent = df.loc[\n",
    "    df.sector.isin(ff_adjacent_sectors) & (df.definitely_ccs == 1)\n",
    "].pct_of_lobbying_dollars_definitely_ccs.sum()\n",
    "pct_non_ff_industry = df.loc[\n",
    "    (df.very_lumped_sector == \"NON-FF-INDUSTRY\") & (df.definitely_ccs == 1)\n",
    "].pct_of_lobbying_dollars_definitely_ccs.sum()\n",
    "print(\n",
    "    f\"Core fossil-fuel-sector industry is responsible for {pct_core_ff:.0f}% of CCS lobbying dollars\"\n",
    ")\n",
    "print(\n",
    "    f\"Core FF + FF-adjacent industry is responsible for {pct_ff_adjacent:.0f}% of CCS lobbying dollars\"\n",
    ")\n",
    "print(\n",
    "    f\"Non-fossil-fuel-sector industry is responsible for {pct_non_ff_industry:.0f}% of CCS lobbying dollars\"\n",
    ")\n",
    "ratio_of_ff_to_non_ff_industry_spending = pct_core_ff / pct_non_ff_industry\n",
    "print(\n",
    "    f\"Industry that directly profits from selling or burning fossil fuels spends {ratio_of_ff_to_non_ff_industry_spending:.0f} times as much as non-FF industry on CCS lobbying\"\n",
    ")"
   ]
  },
  {
   "cell_type": "code",
   "execution_count": 8,
   "metadata": {},
   "outputs": [
    {
     "name": "stdout",
     "output_type": "stream",
     "text": [
      "Core fossil-fuel-sector industry is responsible for 56% of CCS lobbying contacts\n",
      "Core FF + FF-adjacent industry is responsible for 74% of CCS lobbying contacts\n",
      "Non-fossil-fuel-sector industry is responsible for 6% of CCS lobbying contacts\n",
      "Industry that directly profits from selling or burning fossil fuels contacts the federal government 10 times as much as non-FF industry on CCS lobbying\n"
     ]
    }
   ],
   "source": [
    "pct_core_ff = df.loc[\n",
    "    df.sector.isin(core_ff_sectors) & (df.definitely_ccs == 1)\n",
    "].pct_of_entity_contacts_definitely_ccs.sum()\n",
    "pct_ff_adjacent = df.loc[\n",
    "    df.sector.isin(ff_adjacent_sectors) & (df.definitely_ccs == 1)\n",
    "].pct_of_entity_contacts_definitely_ccs.sum()\n",
    "pct_non_ff_industry = df.loc[\n",
    "    (df.very_lumped_sector == \"NON-FF-INDUSTRY\") & (df.definitely_ccs == 1)\n",
    "].pct_of_entity_contacts_definitely_ccs.sum()\n",
    "print(\n",
    "    f\"Core fossil-fuel-sector industry is responsible for {pct_core_ff:.0f}% of CCS lobbying contacts\"\n",
    ")\n",
    "print(\n",
    "    f\"Core FF + FF-adjacent industry is responsible for {pct_ff_adjacent:.0f}% of CCS lobbying contacts\"\n",
    ")\n",
    "print(\n",
    "    f\"Non-fossil-fuel-sector industry is responsible for {pct_non_ff_industry:.0f}% of CCS lobbying contacts\"\n",
    ")\n",
    "ratio_of_ff_to_non_ff_industry_spending = pct_core_ff / pct_non_ff_industry\n",
    "print(\n",
    "    f\"Industry that directly profits from selling or burning fossil fuels contacts the federal government {ratio_of_ff_to_non_ff_industry_spending:.0f} times as much as non-FF industry on CCS lobbying\"\n",
    ")"
   ]
  },
  {
   "cell_type": "code",
   "execution_count": 9,
   "metadata": {},
   "outputs": [
    {
     "name": "stdout",
     "output_type": "stream",
     "text": [
      "Oil And Gas\n",
      "Investor Owned Utilities\n",
      "Chemicals, Refining, And Plastics\n",
      "Coal\n",
      "Ccs\n",
      "Independent Power Producers\n",
      "Pipelines\n",
      "Municipal And Cooperative Utilities\n",
      "Power Sector General\n",
      "Oilfield Services\n",
      "Clean Hydrogen\n",
      "\n",
      "Oil And Gas\n",
      "Investor Owned Utilities\n",
      "Chemicals, Refining, And Plastics\n",
      "Coal\n",
      "Biofuels\n",
      "Energy Technology\n",
      "Ccs\n",
      "Independent Power Producers\n",
      "Power Sector General\n",
      "Air Transit\n",
      "Railway\n",
      "Pipelines\n",
      "Municipal And Cooperative Utilities\n",
      "Business Advocacy\n",
      "Fuel Cell\n",
      "Land Transit\n",
      "Oilfield Services\n",
      "Clean Hydrogen\n"
     ]
    }
   ],
   "source": [
    "# Write out which detailed sectors are in each sector grouping:\n",
    "for c in core_ff_sectors:\n",
    "    print(f\"{c.title()}\")\n",
    "\n",
    "print(\"\")\n",
    "for c in ff_adjacent_sectors:\n",
    "    print(f\"{c.title()}\")"
   ]
  },
  {
   "cell_type": "markdown",
   "metadata": {},
   "source": [
    "### Which lumped sectors do the most CCS lobbying?"
   ]
  },
  {
   "cell_type": "code",
   "execution_count": 10,
   "metadata": {},
   "outputs": [
    {
     "data": {
      "text/html": [
       "<div>\n",
       "<style scoped>\n",
       "    .dataframe tbody tr th:only-of-type {\n",
       "        vertical-align: middle;\n",
       "    }\n",
       "\n",
       "    .dataframe tbody tr th {\n",
       "        vertical-align: top;\n",
       "    }\n",
       "\n",
       "    .dataframe thead th {\n",
       "        text-align: right;\n",
       "    }\n",
       "</style>\n",
       "<table border=\"1\" class=\"dataframe\">\n",
       "  <thead>\n",
       "    <tr style=\"text-align: right;\">\n",
       "      <th></th>\n",
       "      <th>very_lumped_sector</th>\n",
       "      <th>lobbying_activity_usd</th>\n",
       "      <th>n_entities_lobbied</th>\n",
       "      <th>pct_of_lobbying_dollars_definitely_ccs</th>\n",
       "      <th>pct_of_entity_contacts_definitely_ccs</th>\n",
       "    </tr>\n",
       "    <tr>\n",
       "      <th>lumped_sector</th>\n",
       "      <th></th>\n",
       "      <th></th>\n",
       "      <th></th>\n",
       "      <th></th>\n",
       "      <th></th>\n",
       "    </tr>\n",
       "  </thead>\n",
       "  <tbody>\n",
       "    <tr>\n",
       "      <th>FOSSIL FUEL</th>\n",
       "      <td>FOSSIL-FUEL</td>\n",
       "      <td>2.584012e+08</td>\n",
       "      <td>14796</td>\n",
       "      <td>34.195791</td>\n",
       "      <td>25.537644</td>\n",
       "    </tr>\n",
       "    <tr>\n",
       "      <th>INVESTOR-OWNED-POWER-SECTOR</th>\n",
       "      <td>POWER-UTILITIES</td>\n",
       "      <td>2.351881e+08</td>\n",
       "      <td>9664</td>\n",
       "      <td>31.123855</td>\n",
       "      <td>16.679899</td>\n",
       "    </tr>\n",
       "    <tr>\n",
       "      <th>CHEMICALS</th>\n",
       "      <td>CHEMICALS</td>\n",
       "      <td>5.521131e+07</td>\n",
       "      <td>3982</td>\n",
       "      <td>7.306445</td>\n",
       "      <td>6.872864</td>\n",
       "    </tr>\n",
       "    <tr>\n",
       "      <th>TRANSPORT</th>\n",
       "      <td>TRANSPORT</td>\n",
       "      <td>3.505637e+07</td>\n",
       "      <td>2832</td>\n",
       "      <td>4.639221</td>\n",
       "      <td>4.887984</td>\n",
       "    </tr>\n",
       "    <tr>\n",
       "      <th>NON-FF-INDUSTRY</th>\n",
       "      <td>NON-FF-INDUSTRY</td>\n",
       "      <td>2.406134e+07</td>\n",
       "      <td>3201</td>\n",
       "      <td>3.184182</td>\n",
       "      <td>5.524871</td>\n",
       "    </tr>\n",
       "    <tr>\n",
       "      <th>BIOFUEL-SYNFUEL</th>\n",
       "      <td>BIOFUEL-SYNFUEL</td>\n",
       "      <td>2.053750e+07</td>\n",
       "      <td>3892</td>\n",
       "      <td>2.717851</td>\n",
       "      <td>6.717526</td>\n",
       "    </tr>\n",
       "    <tr>\n",
       "      <th>ENGINEERING-TECH</th>\n",
       "      <td>ENGINEERING-TECH</td>\n",
       "      <td>2.010658e+07</td>\n",
       "      <td>3021</td>\n",
       "      <td>2.660825</td>\n",
       "      <td>5.214194</td>\n",
       "    </tr>\n",
       "    <tr>\n",
       "      <th>BUSINESS-ADVOCACY</th>\n",
       "      <td>BUSINESS-ADVOCACY</td>\n",
       "      <td>1.891113e+07</td>\n",
       "      <td>1480</td>\n",
       "      <td>2.502623</td>\n",
       "      <td>2.554455</td>\n",
       "    </tr>\n",
       "    <tr>\n",
       "      <th>MUNICIPAL-UTILITIES</th>\n",
       "      <td>POWER-UTILITIES</td>\n",
       "      <td>1.660016e+07</td>\n",
       "      <td>1462</td>\n",
       "      <td>2.196799</td>\n",
       "      <td>2.523387</td>\n",
       "    </tr>\n",
       "    <tr>\n",
       "      <th>CARBON MANAGEMENT</th>\n",
       "      <td>CARBON-MANAGEMENT</td>\n",
       "      <td>1.354311e+07</td>\n",
       "      <td>3140</td>\n",
       "      <td>1.792242</td>\n",
       "      <td>5.419586</td>\n",
       "    </tr>\n",
       "    <tr>\n",
       "      <th>NONPROFIT</th>\n",
       "      <td>OTHER</td>\n",
       "      <td>1.263764e+07</td>\n",
       "      <td>2882</td>\n",
       "      <td>1.672415</td>\n",
       "      <td>4.974283</td>\n",
       "    </tr>\n",
       "    <tr>\n",
       "      <th>RENEWABLES</th>\n",
       "      <td>OTHER</td>\n",
       "      <td>1.242745e+07</td>\n",
       "      <td>1667</td>\n",
       "      <td>1.644599</td>\n",
       "      <td>2.877214</td>\n",
       "    </tr>\n",
       "    <tr>\n",
       "      <th>EMPLOYEES</th>\n",
       "      <td>OTHER</td>\n",
       "      <td>1.194306e+07</td>\n",
       "      <td>2396</td>\n",
       "      <td>1.580497</td>\n",
       "      <td>4.135455</td>\n",
       "    </tr>\n",
       "    <tr>\n",
       "      <th>AGRICULTURE</th>\n",
       "      <td>OTHER</td>\n",
       "      <td>8.016849e+06</td>\n",
       "      <td>1670</td>\n",
       "      <td>1.060918</td>\n",
       "      <td>2.882392</td>\n",
       "    </tr>\n",
       "    <tr>\n",
       "      <th>FINANCE</th>\n",
       "      <td>OTHER</td>\n",
       "      <td>7.266376e+06</td>\n",
       "      <td>737</td>\n",
       "      <td>0.961603</td>\n",
       "      <td>1.272049</td>\n",
       "    </tr>\n",
       "    <tr>\n",
       "      <th>RESEARCH-ADVOCACY</th>\n",
       "      <td>OTHER</td>\n",
       "      <td>3.043010e+06</td>\n",
       "      <td>433</td>\n",
       "      <td>0.402700</td>\n",
       "      <td>0.747351</td>\n",
       "    </tr>\n",
       "    <tr>\n",
       "      <th>OTHER</th>\n",
       "      <td>OTHER</td>\n",
       "      <td>2.700959e+06</td>\n",
       "      <td>683</td>\n",
       "      <td>0.357434</td>\n",
       "      <td>1.178846</td>\n",
       "    </tr>\n",
       "  </tbody>\n",
       "</table>\n",
       "</div>"
      ],
      "text/plain": [
       "                            very_lumped_sector  lobbying_activity_usd  \\\n",
       "lumped_sector                                                           \n",
       "FOSSIL FUEL                        FOSSIL-FUEL           2.584012e+08   \n",
       "INVESTOR-OWNED-POWER-SECTOR    POWER-UTILITIES           2.351881e+08   \n",
       "CHEMICALS                            CHEMICALS           5.521131e+07   \n",
       "TRANSPORT                            TRANSPORT           3.505637e+07   \n",
       "NON-FF-INDUSTRY                NON-FF-INDUSTRY           2.406134e+07   \n",
       "BIOFUEL-SYNFUEL                BIOFUEL-SYNFUEL           2.053750e+07   \n",
       "ENGINEERING-TECH              ENGINEERING-TECH           2.010658e+07   \n",
       "BUSINESS-ADVOCACY            BUSINESS-ADVOCACY           1.891113e+07   \n",
       "MUNICIPAL-UTILITIES            POWER-UTILITIES           1.660016e+07   \n",
       "CARBON MANAGEMENT            CARBON-MANAGEMENT           1.354311e+07   \n",
       "NONPROFIT                                OTHER           1.263764e+07   \n",
       "RENEWABLES                               OTHER           1.242745e+07   \n",
       "EMPLOYEES                                OTHER           1.194306e+07   \n",
       "AGRICULTURE                              OTHER           8.016849e+06   \n",
       "FINANCE                                  OTHER           7.266376e+06   \n",
       "RESEARCH-ADVOCACY                        OTHER           3.043010e+06   \n",
       "OTHER                                    OTHER           2.700959e+06   \n",
       "\n",
       "                             n_entities_lobbied  \\\n",
       "lumped_sector                                     \n",
       "FOSSIL FUEL                               14796   \n",
       "INVESTOR-OWNED-POWER-SECTOR                9664   \n",
       "CHEMICALS                                  3982   \n",
       "TRANSPORT                                  2832   \n",
       "NON-FF-INDUSTRY                            3201   \n",
       "BIOFUEL-SYNFUEL                            3892   \n",
       "ENGINEERING-TECH                           3021   \n",
       "BUSINESS-ADVOCACY                          1480   \n",
       "MUNICIPAL-UTILITIES                        1462   \n",
       "CARBON MANAGEMENT                          3140   \n",
       "NONPROFIT                                  2882   \n",
       "RENEWABLES                                 1667   \n",
       "EMPLOYEES                                  2396   \n",
       "AGRICULTURE                                1670   \n",
       "FINANCE                                     737   \n",
       "RESEARCH-ADVOCACY                           433   \n",
       "OTHER                                       683   \n",
       "\n",
       "                             pct_of_lobbying_dollars_definitely_ccs  \\\n",
       "lumped_sector                                                         \n",
       "FOSSIL FUEL                                               34.195791   \n",
       "INVESTOR-OWNED-POWER-SECTOR                               31.123855   \n",
       "CHEMICALS                                                  7.306445   \n",
       "TRANSPORT                                                  4.639221   \n",
       "NON-FF-INDUSTRY                                            3.184182   \n",
       "BIOFUEL-SYNFUEL                                            2.717851   \n",
       "ENGINEERING-TECH                                           2.660825   \n",
       "BUSINESS-ADVOCACY                                          2.502623   \n",
       "MUNICIPAL-UTILITIES                                        2.196799   \n",
       "CARBON MANAGEMENT                                          1.792242   \n",
       "NONPROFIT                                                  1.672415   \n",
       "RENEWABLES                                                 1.644599   \n",
       "EMPLOYEES                                                  1.580497   \n",
       "AGRICULTURE                                                1.060918   \n",
       "FINANCE                                                    0.961603   \n",
       "RESEARCH-ADVOCACY                                          0.402700   \n",
       "OTHER                                                      0.357434   \n",
       "\n",
       "                             pct_of_entity_contacts_definitely_ccs  \n",
       "lumped_sector                                                       \n",
       "FOSSIL FUEL                                              25.537644  \n",
       "INVESTOR-OWNED-POWER-SECTOR                              16.679899  \n",
       "CHEMICALS                                                 6.872864  \n",
       "TRANSPORT                                                 4.887984  \n",
       "NON-FF-INDUSTRY                                           5.524871  \n",
       "BIOFUEL-SYNFUEL                                           6.717526  \n",
       "ENGINEERING-TECH                                          5.214194  \n",
       "BUSINESS-ADVOCACY                                         2.554455  \n",
       "MUNICIPAL-UTILITIES                                       2.523387  \n",
       "CARBON MANAGEMENT                                         5.419586  \n",
       "NONPROFIT                                                 4.974283  \n",
       "RENEWABLES                                                2.877214  \n",
       "EMPLOYEES                                                 4.135455  \n",
       "AGRICULTURE                                               2.882392  \n",
       "FINANCE                                                   1.272049  \n",
       "RESEARCH-ADVOCACY                                         0.747351  \n",
       "OTHER                                                     1.178846  "
      ]
     },
     "execution_count": 10,
     "metadata": {},
     "output_type": "execute_result"
    }
   ],
   "source": [
    "lobbying_by_sector_totals_df = (\n",
    "    df[\n",
    "        [\n",
    "            \"sector\",\n",
    "            \"lumped_sector\",\n",
    "            \"very_lumped_sector\",\n",
    "            \"lobbying_activity_usd\",\n",
    "            \"n_entities_lobbied\",\n",
    "            \"pct_of_lobbying_dollars_definitely_ccs\",\n",
    "            \"pct_of_entity_contacts_definitely_ccs\",\n",
    "        ]\n",
    "    ]\n",
    "    .loc[df[\"definitely_ccs\"] == 1]\n",
    "    .groupby([\"lumped_sector\"])\n",
    "    .agg(\n",
    "        {\n",
    "            # \"lumped_sector\": \"first\",\n",
    "            \"very_lumped_sector\": \"first\",\n",
    "            \"lobbying_activity_usd\": sum,\n",
    "            \"n_entities_lobbied\": sum,\n",
    "            \"pct_of_lobbying_dollars_definitely_ccs\": sum,\n",
    "            \"pct_of_entity_contacts_definitely_ccs\": sum,\n",
    "        }\n",
    "    )\n",
    "    .sort_values(by=\"lobbying_activity_usd\", ascending=False)\n",
    ")\n",
    "\n",
    "\n",
    "lobbying_by_sector_totals_df  # .to_clipboard()"
   ]
  },
  {
   "cell_type": "markdown",
   "metadata": {},
   "source": [
    "### Which organizations do the most lobbying for CCS?"
   ]
  },
  {
   "cell_type": "code",
   "execution_count": 100,
   "metadata": {},
   "outputs": [
    {
     "data": {
      "text/html": [
       "<div>\n",
       "<style scoped>\n",
       "    .dataframe tbody tr th:only-of-type {\n",
       "        vertical-align: middle;\n",
       "    }\n",
       "\n",
       "    .dataframe tbody tr th {\n",
       "        vertical-align: top;\n",
       "    }\n",
       "\n",
       "    .dataframe thead th {\n",
       "        text-align: right;\n",
       "    }\n",
       "</style>\n",
       "<table border=\"1\" class=\"dataframe\">\n",
       "  <thead>\n",
       "    <tr style=\"text-align: right;\">\n",
       "      <th></th>\n",
       "      <th>lobbying_activity_usd</th>\n",
       "    </tr>\n",
       "    <tr>\n",
       "      <th>organization</th>\n",
       "      <th></th>\n",
       "    </tr>\n",
       "  </thead>\n",
       "  <tbody>\n",
       "    <tr>\n",
       "      <th>OCCIDENTAL PETROLEUM</th>\n",
       "      <td>6.943090e+07</td>\n",
       "    </tr>\n",
       "    <tr>\n",
       "      <th>SOUTHERN COMPANY</th>\n",
       "      <td>5.413127e+07</td>\n",
       "    </tr>\n",
       "    <tr>\n",
       "      <th>EXXONMOBIL</th>\n",
       "      <td>3.909727e+07</td>\n",
       "    </tr>\n",
       "    <tr>\n",
       "      <th>EDISON ELECTRIC INSTITUTE</th>\n",
       "      <td>2.764227e+07</td>\n",
       "    </tr>\n",
       "    <tr>\n",
       "      <th>AMERICAN ELECTRIC POWER</th>\n",
       "      <td>2.209047e+07</td>\n",
       "    </tr>\n",
       "    <tr>\n",
       "      <th>SHELL</th>\n",
       "      <td>2.048418e+07</td>\n",
       "    </tr>\n",
       "    <tr>\n",
       "      <th>CHEVRON</th>\n",
       "      <td>1.742338e+07</td>\n",
       "    </tr>\n",
       "    <tr>\n",
       "      <th>DUKE</th>\n",
       "      <td>1.666763e+07</td>\n",
       "    </tr>\n",
       "    <tr>\n",
       "      <th>BP AMERICA</th>\n",
       "      <td>1.495798e+07</td>\n",
       "    </tr>\n",
       "    <tr>\n",
       "      <th>US CHAMBER OF COMMERCE</th>\n",
       "      <td>1.444592e+07</td>\n",
       "    </tr>\n",
       "    <tr>\n",
       "      <th>CALPINE</th>\n",
       "      <td>1.367863e+07</td>\n",
       "    </tr>\n",
       "    <tr>\n",
       "      <th>PACIFIC GAS AND ELECTRIC</th>\n",
       "      <td>1.345399e+07</td>\n",
       "    </tr>\n",
       "    <tr>\n",
       "      <th>PEABODY</th>\n",
       "      <td>1.209520e+07</td>\n",
       "    </tr>\n",
       "    <tr>\n",
       "      <th>TRANSCANADA</th>\n",
       "      <td>9.440000e+06</td>\n",
       "    </tr>\n",
       "    <tr>\n",
       "      <th>CONOCOPHILLIPS</th>\n",
       "      <td>9.082007e+06</td>\n",
       "    </tr>\n",
       "    <tr>\n",
       "      <th>AMERICAN PETROLEUM INSTITUTE</th>\n",
       "      <td>8.462077e+06</td>\n",
       "    </tr>\n",
       "    <tr>\n",
       "      <th>AIR PRODUCTS AND CHEMICALS</th>\n",
       "      <td>7.929857e+06</td>\n",
       "    </tr>\n",
       "    <tr>\n",
       "      <th>NATIONAL RURAL ELECTRIC COOPERATIVE ASSOCIATION</th>\n",
       "      <td>7.337655e+06</td>\n",
       "    </tr>\n",
       "  </tbody>\n",
       "</table>\n",
       "</div>"
      ],
      "text/plain": [
       "                                                 lobbying_activity_usd\n",
       "organization                                                          \n",
       "OCCIDENTAL PETROLEUM                                      6.943090e+07\n",
       "SOUTHERN COMPANY                                          5.413127e+07\n",
       "EXXONMOBIL                                                3.909727e+07\n",
       "EDISON ELECTRIC INSTITUTE                                 2.764227e+07\n",
       "AMERICAN ELECTRIC POWER                                   2.209047e+07\n",
       "SHELL                                                     2.048418e+07\n",
       "CHEVRON                                                   1.742338e+07\n",
       "DUKE                                                      1.666763e+07\n",
       "BP AMERICA                                                1.495798e+07\n",
       "US CHAMBER OF COMMERCE                                    1.444592e+07\n",
       "CALPINE                                                   1.367863e+07\n",
       "PACIFIC GAS AND ELECTRIC                                  1.345399e+07\n",
       "PEABODY                                                   1.209520e+07\n",
       "TRANSCANADA                                               9.440000e+06\n",
       "CONOCOPHILLIPS                                            9.082007e+06\n",
       "AMERICAN PETROLEUM INSTITUTE                              8.462077e+06\n",
       "AIR PRODUCTS AND CHEMICALS                                7.929857e+06\n",
       "NATIONAL RURAL ELECTRIC COOPERATIVE ASSOCIATION           7.337655e+06"
      ]
     },
     "execution_count": 100,
     "metadata": {},
     "output_type": "execute_result"
    }
   ],
   "source": [
    "df[[\"organization\", \"lobbying_activity_usd\"]].groupby(\n",
    "    [\"organization\"]\n",
    ").sum().sort_values(by=[\"lobbying_activity_usd\"], ascending=False).head(18)"
   ]
  },
  {
   "cell_type": "markdown",
   "metadata": {},
   "source": [
    "# TREEMAP FIGURE SHOWING WHICH COMPANIES LOBBY FOR CCS"
   ]
  },
  {
   "cell_type": "code",
   "execution_count": 99,
   "metadata": {},
   "outputs": [
    {
     "data": {
      "application/vnd.plotly.v1+json": {
       "config": {
        "plotlyServerURL": "https://plot.ly"
       },
       "data": [
        {
         "branchvalues": "total",
         "customdata": [
          [
           "energy technology"
          ],
          [
           "mining and metals"
          ],
          [
           "investor owned utilities"
          ],
          [
           "biofuels"
          ],
          [
           "investor owned utilities"
          ],
          [
           "higher education"
          ],
          [
           "municipal and cooperative utilities"
          ],
          [
           "ccs"
          ],
          [
           "investor owned utilities"
          ],
          [
           "ccs"
          ],
          [
           "land transit"
          ],
          [
           "municipal and cooperative utilities"
          ],
          [
           "higher education"
          ],
          [
           "higher education"
          ],
          [
           "finance"
          ],
          [
           "clean hydrogen"
          ],
          [
           "pipelines"
          ],
          [
           "ccs"
          ],
          [
           "higher education"
          ],
          [
           "environmental"
          ],
          [
           "think tanks and issue advocacy"
          ],
          [
           "iron and steel"
          ],
          [
           "municipal and cooperative utilities"
          ],
          [
           "chemicals, refining, and plastics"
          ],
          [
           "food and agriculture"
          ],
          [
           "independent power producers"
          ],
          [
           "renewable energy"
          ],
          [
           "higher education"
          ],
          [
           "land transit"
          ],
          [
           "oil and gas"
          ],
          [
           "investor owned utilities"
          ],
          [
           "municipal and cooperative utilities"
          ],
          [
           "chemicals, refining, and plastics"
          ],
          [
           "ccs"
          ],
          [
           "biofuels"
          ],
          [
           "power sector general"
          ],
          [
           "chemicals, refining, and plastics"
          ],
          [
           "municipal and cooperative utilities"
          ],
          [
           "municipal and cooperative utilities"
          ],
          [
           "food and agriculture"
          ],
          [
           "food and agriculture"
          ],
          [
           "paper products"
          ],
          [
           "oil and gas"
          ],
          [
           "oil and gas"
          ],
          [
           "environmental"
          ],
          [
           "finance"
          ],
          [
           "think tanks and issue advocacy"
          ],
          [
           "ccs"
          ],
          [
           "energy technology"
          ],
          [
           "biofuels"
          ],
          [
           "ev"
          ],
          [
           "investor owned utilities"
          ],
          [
           "biofuels"
          ],
          [
           "higher education"
          ],
          [
           "think tanks and issue advocacy"
          ],
          [
           "municipal and cooperative utilities"
          ],
          [
           "power sector general"
          ],
          [
           "renewable energy"
          ],
          [
           "biofuels"
          ],
          [
           "municipal and cooperative utilities"
          ],
          [
           "business advocacy"
          ],
          [
           "food and agriculture"
          ],
          [
           "lng"
          ],
          [
           "chemicals, refining, and plastics"
          ],
          [
           "food and agriculture"
          ],
          [
           "pipelines"
          ],
          [
           "power sector general"
          ],
          [
           "renewable energy"
          ],
          [
           "independent power producers"
          ],
          [
           "engineering, technology, and consulting"
          ],
          [
           "chemicals, refining, and plastics"
          ],
          [
           "oilfield services"
          ],
          [
           "think tanks and issue advocacy"
          ],
          [
           "ccs"
          ],
          [
           "energy technology"
          ],
          [
           "pipelines"
          ],
          [
           "engineering, technology, and consulting"
          ],
          [
           "air transit"
          ],
          [
           "power sector general"
          ],
          [
           "renewable energy"
          ],
          [
           "pipelines"
          ],
          [
           "finance"
          ],
          [
           "paper products"
          ],
          [
           "coal"
          ],
          [
           "think tanks and issue advocacy"
          ],
          [
           "municipal and cooperative utilities"
          ],
          [
           "higher education"
          ],
          [
           "think tanks and issue advocacy"
          ],
          [
           "investor owned utilities"
          ],
          [
           "land transit"
          ],
          [
           "fuel cell"
          ],
          [
           "government"
          ],
          [
           "investor owned utilities"
          ],
          [
           "food and agriculture"
          ],
          [
           "oil and gas"
          ],
          [
           "investor owned utilities"
          ],
          [
           "land transit"
          ],
          [
           "environmental"
          ],
          [
           "professional societies"
          ],
          [
           "renewable energy"
          ],
          [
           "food and agriculture"
          ],
          [
           "biofuels"
          ],
          [
           "renewable energy"
          ],
          [
           "land transit"
          ],
          [
           "carbon"
          ],
          [
           "finance"
          ],
          [
           "oil and gas"
          ],
          [
           "energy technology"
          ],
          [
           "pipelines"
          ],
          [
           "ccs"
          ],
          [
           "renewable energy"
          ],
          [
           "chemicals, refining, and plastics"
          ],
          [
           "municipal and cooperative utilities"
          ],
          [
           "fuel cell"
          ],
          [
           "environmental"
          ],
          [
           "renewable energy"
          ],
          [
           "investor owned utilities"
          ],
          [
           "investor owned utilities"
          ],
          [
           "food and agriculture"
          ],
          [
           "environmental"
          ],
          [
           "oil and gas"
          ],
          [
           "chemicals, refining, and plastics"
          ],
          [
           "railway"
          ],
          [
           "coal"
          ],
          [
           "biofuels"
          ],
          [
           "higher education"
          ],
          [
           "paper products"
          ],
          [
           "algae"
          ],
          [
           "chemicals, refining, and plastics"
          ],
          [
           "other"
          ],
          [
           "renewable energy"
          ],
          [
           "biofuels"
          ],
          [
           "government"
          ],
          [
           "pipelines"
          ],
          [
           "lng"
          ],
          [
           "coal"
          ],
          [
           "mining and metals"
          ],
          [
           "environmental"
          ],
          [
           "oil and gas"
          ],
          [
           "investor owned utilities"
          ],
          [
           "renewable energy"
          ],
          [
           "coal"
          ],
          [
           "investor owned utilities"
          ],
          [
           "chemicals, refining, and plastics"
          ],
          [
           "land transit"
          ],
          [
           "chemicals, refining, and plastics"
          ],
          [
           "municipal and cooperative utilities"
          ],
          [
           "finance"
          ],
          [
           "pipelines"
          ],
          [
           "higher education"
          ],
          [
           "finance"
          ],
          [
           "environmental"
          ],
          [
           "land transit"
          ],
          [
           "independent research organization"
          ],
          [
           "land transit"
          ],
          [
           "investor owned utilities"
          ],
          [
           "clean hydrogen"
          ],
          [
           "municipal and cooperative utilities"
          ],
          [
           "energy technology"
          ],
          [
           "energy technology"
          ],
          [
           "clean hydrogen"
          ],
          [
           "chemicals, refining, and plastics"
          ],
          [
           "biofuels"
          ],
          [
           "carbon"
          ],
          [
           "ev"
          ],
          [
           "investor owned utilities"
          ],
          [
           "oil and gas"
          ],
          [
           "clean hydrogen"
          ],
          [
           "environmental"
          ],
          [
           "environmental"
          ],
          [
           "chemicals, refining, and plastics"
          ],
          [
           "investor owned utilities"
          ],
          [
           "investor owned utilities"
          ],
          [
           "land transit"
          ],
          [
           "chemicals, refining, and plastics"
          ],
          [
           "engineering, technology, and consulting"
          ],
          [
           "air transit"
          ],
          [
           "think tanks and issue advocacy"
          ],
          [
           "ccs"
          ],
          [
           "food and agriculture"
          ],
          [
           "oil and gas"
          ],
          [
           "nuclear"
          ],
          [
           "food and agriculture"
          ],
          [
           "ccs"
          ],
          [
           "chemicals, refining, and plastics"
          ],
          [
           "biofuels"
          ],
          [
           "government"
          ],
          [
           "government"
          ],
          [
           "water"
          ],
          [
           "environmental"
          ],
          [
           "independent research organization"
          ],
          [
           "air transit"
          ],
          [
           "oilfield services"
          ],
          [
           "business advocacy"
          ],
          [
           "power sector general"
          ],
          [
           "investor owned utilities"
          ],
          [
           "government"
          ],
          [
           "investor owned utilities"
          ],
          [
           "oil and gas"
          ],
          [
           "ccs"
          ],
          [
           "hvac"
          ],
          [
           "railway"
          ],
          [
           "chemicals, refining, and plastics"
          ],
          [
           "power sector general"
          ],
          [
           "cement"
          ],
          [
           "oilfield services"
          ],
          [
           "labor union"
          ],
          [
           "pipelines"
          ],
          [
           "higher education"
          ],
          [
           "environmental"
          ],
          [
           "paper products"
          ],
          [
           "carbon"
          ],
          [
           "iron and steel"
          ],
          [
           "oilfield services"
          ],
          [
           "land transit"
          ],
          [
           "renewable energy"
          ],
          [
           "oil and gas"
          ],
          [
           "engineering, technology, and consulting"
          ],
          [
           "renewable energy"
          ],
          [
           "land transit"
          ],
          [
           "engineering, technology, and consulting"
          ],
          [
           "oil and gas"
          ],
          [
           "environmental"
          ],
          [
           "land transit"
          ],
          [
           "higher education"
          ],
          [
           "water"
          ],
          [
           "fuel cell"
          ],
          [
           "municipal and cooperative utilities"
          ],
          [
           "ccs"
          ],
          [
           "green hydrogen"
          ],
          [
           "environmental"
          ],
          [
           "independent power producers"
          ],
          [
           "ccs"
          ],
          [
           "finance"
          ],
          [
           "food and agriculture"
          ],
          [
           "land transit"
          ],
          [
           "renewable energy"
          ],
          [
           "food and agriculture"
          ],
          [
           "engineering, technology, and consulting"
          ],
          [
           "land transit"
          ],
          [
           "food and agriculture"
          ],
          [
           "engineering, technology, and consulting"
          ],
          [
           "government"
          ],
          [
           "labor union"
          ],
          [
           "government"
          ],
          [
           "food and agriculture"
          ],
          [
           "food and agriculture"
          ],
          [
           "land transit"
          ],
          [
           "renewable energy"
          ],
          [
           "chemicals, refining, and plastics"
          ],
          [
           "power sector general"
          ],
          [
           "food and agriculture"
          ],
          [
           "oilfield services"
          ],
          [
           "hvac"
          ],
          [
           "chemicals, refining, and plastics"
          ],
          [
           "independent research organization"
          ],
          [
           "nuclear"
          ],
          [
           "iron and steel"
          ],
          [
           "think tanks and issue advocacy"
          ],
          [
           "professional societies"
          ],
          [
           "railway"
          ],
          [
           "carbon"
          ],
          [
           "engineering, technology, and consulting"
          ],
          [
           "higher education"
          ],
          [
           "lng"
          ],
          [
           "labor union"
          ],
          [
           "ccs"
          ],
          [
           "food and agriculture"
          ],
          [
           "higher education"
          ],
          [
           "independent power producers"
          ],
          [
           "mining and metals"
          ],
          [
           "paper products"
          ],
          [
           "higher education"
          ],
          [
           "investor owned utilities"
          ],
          [
           "paper products"
          ],
          [
           "government"
          ],
          [
           "pipelines"
          ],
          [
           "biofuels"
          ],
          [
           "renewable energy"
          ],
          [
           "land transit"
          ],
          [
           "ccs"
          ],
          [
           "iron and steel"
          ],
          [
           "renewable energy"
          ],
          [
           "investor owned utilities"
          ],
          [
           "environmental"
          ],
          [
           "biofuels"
          ],
          [
           "coal"
          ],
          [
           "pipelines"
          ],
          [
           "higher education"
          ],
          [
           "cement"
          ],
          [
           "coal"
          ],
          [
           "government"
          ],
          [
           "ccs"
          ],
          [
           "higher education"
          ],
          [
           "carbon"
          ],
          [
           "renewable energy"
          ],
          [
           "ccs"
          ],
          [
           "power sector general"
          ],
          [
           "municipal and cooperative utilities"
          ],
          [
           "oil and gas"
          ],
          [
           "investor owned utilities"
          ],
          [
           "oil and gas"
          ],
          [
           "investor owned utilities"
          ],
          [
           "chemicals, refining, and plastics"
          ],
          [
           "government"
          ],
          [
           "carbon"
          ],
          [
           "chemicals, refining, and plastics"
          ],
          [
           "biofuels"
          ],
          [
           "land transit"
          ],
          [
           "higher education"
          ],
          [
           "ev"
          ],
          [
           "oilfield services"
          ],
          [
           "air transit"
          ],
          [
           "power sector general"
          ],
          [
           "higher education"
          ],
          [
           "higher education"
          ],
          [
           "oilfield services"
          ],
          [
           "clean hydrogen"
          ],
          [
           "municipal and cooperative utilities"
          ],
          [
           "chemicals, refining, and plastics"
          ],
          [
           "chemicals, refining, and plastics"
          ],
          [
           "investor owned utilities"
          ],
          [
           "environmental"
          ],
          [
           "chemicals, refining, and plastics"
          ],
          [
           "investor owned utilities"
          ],
          [
           "labor union"
          ],
          [
           "oil and gas"
          ],
          [
           "investor owned utilities"
          ],
          [
           "water"
          ],
          [
           "paper products"
          ],
          [
           "investor owned utilities"
          ],
          [
           "professional societies"
          ],
          [
           "higher education"
          ],
          [
           "coal"
          ],
          [
           "professional societies"
          ],
          [
           "biofuels"
          ],
          [
           "oil and gas"
          ],
          [
           "biofuels"
          ],
          [
           "clean hydrogen"
          ],
          [
           "biofuels"
          ],
          [
           "coal"
          ],
          [
           "food and agriculture"
          ],
          [
           "oilfield services"
          ],
          [
           "paper products"
          ],
          [
           "pipelines"
          ],
          [
           "municipal and cooperative utilities"
          ],
          [
           "environmental"
          ],
          [
           "oil and gas"
          ],
          [
           "paper products"
          ],
          [
           "paper products"
          ],
          [
           "chemicals, refining, and plastics"
          ],
          [
           "chemicals, refining, and plastics"
          ],
          [
           "ccs"
          ],
          [
           "pipelines"
          ],
          [
           "biofuels"
          ],
          [
           "renewable energy"
          ],
          [
           "environmental"
          ],
          [
           "environmental"
          ],
          [
           "iron and steel"
          ],
          [
           "municipal and cooperative utilities"
          ],
          [
           "think tanks and issue advocacy"
          ],
          [
           "investor owned utilities"
          ],
          [
           "chemicals, refining, and plastics"
          ],
          [
           "biofuels"
          ],
          [
           "engineering, technology, and consulting"
          ],
          [
           "land transit"
          ],
          [
           "think tanks and issue advocacy"
          ],
          [
           "investor owned utilities"
          ],
          [
           "biofuels"
          ],
          [
           "oilfield services"
          ],
          [
           "labor union"
          ],
          [
           "higher education"
          ],
          [
           "government"
          ],
          [
           "hvac"
          ],
          [
           "fuel cell"
          ],
          [
           "oil and gas"
          ],
          [
           "ccs"
          ],
          [
           "oil and gas"
          ],
          [
           "nuclear"
          ],
          [
           "ccs"
          ],
          [
           "carbon"
          ],
          [
           "air transit"
          ],
          [
           "business advocacy"
          ],
          [
           "cement"
          ],
          [
           "iron and steel"
          ],
          [
           "environmental"
          ],
          [
           "oil and gas"
          ],
          [
           "investor owned utilities"
          ],
          [
           "biofuels"
          ],
          [
           "land transit"
          ],
          [
           "environmental"
          ],
          [
           "labor union"
          ],
          [
           "cement"
          ],
          [
           "fuel cell"
          ],
          [
           "engineering, technology, and consulting"
          ],
          [
           "coal"
          ],
          [
           "higher education"
          ],
          [
           "air transit"
          ],
          [
           "cement"
          ],
          [
           "government"
          ],
          [
           "nuclear"
          ],
          [
           "investor owned utilities"
          ],
          [
           "think tanks and issue advocacy"
          ],
          [
           "municipal and cooperative utilities"
          ],
          [
           "higher education"
          ],
          [
           "oil and gas"
          ],
          [
           "renewable energy"
          ],
          [
           "green hydrogen"
          ],
          [
           "land transit"
          ],
          [
           "investor owned utilities"
          ],
          [
           "energy technology"
          ],
          [
           "investor owned utilities"
          ],
          [
           "iron and steel"
          ],
          [
           "renewable energy"
          ],
          [
           "environmental"
          ],
          [
           "think tanks and issue advocacy"
          ],
          [
           "oil and gas"
          ],
          [
           "land transit"
          ],
          [
           "paper products"
          ],
          [
           "municipal and cooperative utilities"
          ],
          [
           "higher education"
          ],
          [
           "chemicals, refining, and plastics"
          ],
          [
           "coal"
          ],
          [
           "paper products"
          ],
          [
           "finance"
          ],
          [
           "higher education"
          ],
          [
           "investor owned utilities"
          ],
          [
           "labor union"
          ],
          [
           "municipal and cooperative utilities"
          ],
          [
           "mining and metals"
          ],
          [
           "oil and gas"
          ],
          [
           "green hydrogen"
          ],
          [
           "biofuels"
          ],
          [
           "think tanks and issue advocacy"
          ],
          [
           "environmental"
          ],
          [
           "independent research organization"
          ],
          [
           "municipal and cooperative utilities"
          ],
          [
           "engineering, technology, and consulting"
          ],
          [
           "biofuels"
          ],
          [
           "pipelines"
          ],
          [
           "municipal and cooperative utilities"
          ],
          [
           "environmental"
          ],
          [
           "railway"
          ],
          [
           "land transit"
          ],
          [
           "government"
          ],
          [
           "environmental"
          ],
          [
           "municipal and cooperative utilities"
          ],
          [
           "coal"
          ],
          [
           "environmental"
          ],
          [
           "renewable energy"
          ],
          [
           "law and public policy"
          ],
          [
           "ccs"
          ],
          [
           "carbon"
          ],
          [
           "renewable energy"
          ],
          [
           "fuel cell"
          ],
          [
           "biofuels"
          ],
          [
           "oil and gas"
          ],
          [
           "ccs"
          ],
          [
           "investor owned utilities"
          ],
          [
           "chemicals, refining, and plastics"
          ],
          [
           "labor union"
          ],
          [
           "labor union"
          ],
          [
           "think tanks and issue advocacy"
          ],
          [
           "food and agriculture"
          ],
          [
           "renewable energy"
          ],
          [
           "higher education"
          ],
          [
           "biofuels"
          ],
          [
           "clean hydrogen"
          ],
          [
           "paper products"
          ],
          [
           "land transit"
          ],
          [
           "government"
          ],
          [
           "independent power producers"
          ],
          [
           "investor owned utilities"
          ],
          [
           "energy technology"
          ],
          [
           "environmental"
          ],
          [
           "air transit"
          ],
          [
           "ccs"
          ],
          [
           "biofuels"
          ],
          [
           "labor union"
          ],
          [
           "law and public policy"
          ],
          [
           "engineering, technology, and consulting"
          ],
          [
           "renewable energy"
          ],
          [
           "lng"
          ],
          [
           "business advocacy"
          ],
          [
           "clean hydrogen"
          ],
          [
           "labor union"
          ],
          [
           "energy technology"
          ],
          [
           "biofuels"
          ],
          [
           "power sector general"
          ],
          [
           "engineering, technology, and consulting"
          ],
          [
           "labor union"
          ],
          [
           "carbon"
          ],
          [
           "food and agriculture"
          ],
          [
           "land transit"
          ],
          [
           "investor owned utilities"
          ],
          [
           "energy technology"
          ],
          [
           "ccs"
          ],
          [
           "ccs"
          ],
          [
           "higher education"
          ],
          [
           "engineering, technology, and consulting"
          ],
          [
           "municipal and cooperative utilities"
          ],
          [
           "biofuels"
          ],
          [
           "investor owned utilities"
          ],
          [
           "food and agriculture"
          ],
          [
           "renewable energy"
          ],
          [
           "environmental"
          ],
          [
           "environmental"
          ],
          [
           "paper products"
          ],
          [
           "oil and gas"
          ],
          [
           "algae"
          ],
          [
           "air transit"
          ],
          [
           "investor owned utilities"
          ],
          [
           "think tanks and issue advocacy"
          ],
          [
           "coal"
          ],
          [
           "oil and gas"
          ],
          [
           "investor owned utilities"
          ],
          [
           "ccs"
          ],
          [
           "engineering, technology, and consulting"
          ],
          [
           "land transit"
          ],
          [
           "independent power producers"
          ],
          [
           "environmental"
          ],
          [
           "investor owned utilities"
          ],
          [
           "chemicals, refining, and plastics"
          ],
          [
           "higher education"
          ],
          [
           "water transit"
          ],
          [
           "finance"
          ],
          [
           "coal"
          ],
          [
           "oil and gas"
          ],
          [
           "land transit"
          ],
          [
           "labor union"
          ],
          [
           "ev"
          ],
          [
           "ccs"
          ],
          [
           "land transit"
          ],
          [
           "railway"
          ],
          [
           "pipelines"
          ],
          [
           "environmental"
          ],
          [
           "chemicals, refining, and plastics"
          ],
          [
           "pipelines"
          ],
          [
           "clean hydrogen"
          ],
          [
           "environmental"
          ],
          [
           "cement"
          ],
          [
           "think tanks and issue advocacy"
          ],
          [
           "professional societies"
          ],
          [
           "coal"
          ],
          [
           "energy technology"
          ],
          [
           "carbon"
          ],
          [
           "investor owned utilities"
          ],
          [
           "environmental"
          ],
          [
           "oil and gas"
          ],
          [
           "railway"
          ],
          [
           "cement"
          ],
          [
           "engineering, technology, and consulting"
          ],
          [
           "oilfield services"
          ],
          [
           "engineering, technology, and consulting"
          ],
          [
           "hvac"
          ],
          [
           "renewable energy"
          ],
          [
           "municipal and cooperative utilities"
          ],
          [
           "ccs"
          ],
          [
           "chemicals, refining, and plastics"
          ],
          [
           "labor union"
          ],
          [
           "oil and gas"
          ],
          [
           "paper products"
          ],
          [
           "clean hydrogen"
          ],
          [
           "investor owned utilities"
          ],
          [
           "renewable energy"
          ],
          [
           "higher education"
          ],
          [
           "independent power producers"
          ],
          [
           "business advocacy"
          ],
          [
           "investor owned utilities"
          ],
          [
           "mining and metals"
          ],
          [
           "finance"
          ],
          [
           "carbon"
          ],
          [
           "environmental"
          ],
          [
           "biofuels"
          ],
          [
           "biofuels"
          ],
          [
           "independent power producers"
          ],
          [
           "clean hydrogen"
          ],
          [
           "air transit"
          ],
          [
           "investor owned utilities"
          ],
          [
           "municipal and cooperative utilities"
          ],
          [
           "land transit"
          ],
          [
           "mining and metals"
          ],
          [
           "chemicals, refining, and plastics"
          ],
          [
           "oil and gas"
          ],
          [
           "chemicals, refining, and plastics"
          ],
          [
           "oil and gas"
          ],
          [
           "renewable energy"
          ],
          [
           "municipal and cooperative utilities"
          ],
          [
           "higher education"
          ],
          [
           "investor owned utilities"
          ],
          [
           "chemicals, refining, and plastics"
          ],
          [
           "food and agriculture"
          ],
          [
           "paper products"
          ],
          [
           "food and agriculture"
          ],
          [
           "renewable energy"
          ],
          [
           "renewable energy"
          ],
          [
           "pipelines"
          ],
          [
           "nuclear"
          ],
          [
           "iron and steel"
          ],
          [
           "mining and metals"
          ],
          [
           "government"
          ],
          [
           "investor owned utilities"
          ],
          [
           "investor owned utilities"
          ],
          [
           "oil and gas"
          ],
          [
           "labor union"
          ],
          [
           "oil and gas"
          ],
          [
           "land transit"
          ],
          [
           "investor owned utilities"
          ],
          [
           "coal"
          ],
          [
           "higher education"
          ],
          [
           "land transit"
          ],
          [
           "investor owned utilities"
          ],
          [
           "biofuels"
          ],
          [
           "pipelines"
          ],
          [
           "clean hydrogen"
          ],
          [
           "chemicals, refining, and plastics"
          ],
          [
           "green hydrogen"
          ],
          [
           "pipelines"
          ],
          [
           "law and public policy"
          ],
          [
           "pipelines"
          ],
          [
           "renewable energy"
          ],
          [
           "engineering, technology, and consulting"
          ],
          [
           "environmental"
          ],
          [
           "chemicals, refining, and plastics"
          ],
          [
           "higher education"
          ],
          [
           "higher education"
          ],
          [
           "chemicals, refining, and plastics"
          ],
          [
           "paper products"
          ],
          [
           "investor owned utilities"
          ],
          [
           "coal"
          ],
          [
           "higher education"
          ],
          [
           "investor owned utilities"
          ],
          [
           "finance"
          ],
          [
           "air transit"
          ],
          [
           "investor owned utilities"
          ],
          [
           "investor owned utilities"
          ],
          [
           "environmental"
          ]
         ],
         "domain": {
          "x": [
           0,
           1
          ],
          "y": [
           0,
           1
          ]
         },
         "hovertemplate": "labels=%{label}<br>lobbying_activity_usd=%{value}<br>parent=%{parent}<br>id=%{id}<br>sector=%{customdata[0]}<extra></extra>",
         "ids": [
          "COUNCIL<br>OF<br>INDUSTRIAL<br>BOILER<br>OWNERS",
          "JOY<br>GLOBAL",
          "NISOURCE",
          "BIOTECHNOLOGY<br>INNOVATION<br>ORGANIZATION",
          "PNM<br>RESOURCES",
          "UNIVERSITY<br>OF<br>CALIFORNIA",
          "BASIN<br>ELECTRIC<br>POWER<br>COOPERATIVE",
          "CARBON<br>ENGINEERING",
          "EDISON<br>INTERNATIONAL",
          "FIDELIS<br>NEW<br>ENERGY",
          "STELLANTIS",
          "SACRAMENTO<br>MUNICIPAL<br>UTILITY<br>DISTRICT",
          "ARIZONA<br>STATE<br>UNIVERSITY",
          "WESTERN<br>MICHIGAN<br>UNIVERSITY",
          "NATIONAL<br>VENTURE<br>CAPITAL<br>ASSOCIATION",
          "MONOLITH<br>MATERIALS",
          "BOARDWALK<br>PIPELINE",
          "VERDE<br>CO2",
          "REGENTS<br>OF<br>UNIVERSITY<br>OF<br>COLORADO",
          "TRUST<br>FOR<br>PUBLIC<br>LAND",
          "CENTER<br>FOR<br>AMERICAN<br>PROGRESS",
          "US<br>STEEL",
          "AMERICAN<br>MUNICIPAL<br>POWER",
          "CHART<br>INDUSTRIES",
          "KANSAS<br>FARM<br>BUREAU",
          "INVENERGY",
          "INTERSECT<br>POWER",
          "UNIVERSITY<br>OF<br>NORTHERN<br>IOWA",
          "CONSOLIDATED<br>METCO",
          "HYPERION<br>RESOURCES",
          "DOMINION",
          "DOUGLAS<br>COUNTY<br>PUBLIC<br>UTILITY<br>DISTRICT",
          "DOW",
          "GULF<br>COAST<br>SEQUESTRATION",
          "GREEN<br>PLAINS",
          "UTAH<br>ASSOCIATED<br>MUNICIPAL<br>POWER<br>SYSTEMS",
          "AMERICAN<br>FUEL<br>PETROCHEMICAL<br>MANUFACTURERS",
          "TRISTATE<br>GENERATION<br>AND<br>TRANSMISSION<br>ASSOCIATION",
          "NEW<br>YORK<br>ASSOCIATION<br>OF<br>PUBLIC<br>POWER",
          "AMERICAN<br>FARM<br>BUREAU<br>FED",
          "OHIO<br>FARM<br>BUREAU<br>FEDERATION",
          "SMURFIT<br>STONE<br>CONTAINER",
          "AETHON<br>ENERGY",
          "AMERICAN<br>GAS<br>ASSOCIATION",
          "LINDEN<br>TRUST<br>FOR<br>CONSERVATION",
          "NATIONAL<br>ASSOCIATION<br>OF<br>FEDERALLYINSURED<br>CREDIT<br>UNIONS",
          "ECONOMIC<br>INNOVATION",
          "JUPITER<br>OXYGEN",
          "EATON",
          "GROWTH<br>ENERGY",
          "EV<br>CONNECT",
          "ELECTRIC<br>POWER<br>SUPPLY<br>ASSOCIATION",
          "GEVO",
          "PENNSYLVANIA<br>STATE<br>UNIVERSITY",
          "TRANSPARENCY<br>INTERNATIONAL",
          "LARGE<br>PUBLIC<br>POWER<br>COUNCIL",
          "NATIONAL<br>FUEL<br>GAS",
          "STRATA<br>CLEAN<br>ENERGY",
          "BIAENERGY<br>OPERATING",
          "TACOMA<br>PUBLIC<br>UTILITIES",
          "GREATER<br>PITTSBURGH<br>CHAMBER<br>OF<br>COMMERCE",
          "OREGON<br>FARM<br>BUREAU<br>FEDERATION",
          "CHENIERE<br>ENERGY",
          "DUPONT",
          "ILLINOIS<br>AGRICULTURAL<br>ASSOCIATION",
          "MAGELLAN<br>MIDSTREAM<br>PARTNERS",
          "NORTHWEST<br>PUBLIC<br>POWER<br>ASSOCIATION",
          "SUNIVA",
          "TENASKA",
          "CROWLEY<br>MARITIME",
          "COVESTRO",
          "MM<br>ENERGY",
          "ELECTRIFY<br>AMERICA",
          "CEMVITA",
          "GENERAL<br>ELECTRIC",
          "INTERSTATE<br>NATURAL<br>GAS<br>ASSOCIATION<br>OF<br>AMERICA",
          "FLUOR",
          "ATLAS<br>AIR<br>WORLDWIDE<br>HOLDINGS",
          "IRRIGATION<br>AND<br>ELECTRICAL<br>DISTRICTS<br>ASSOCIATION<br>OF<br>ARIZONA",
          "ENEL",
          "COLUMBIA<br>PIPELINE",
          "FCO<br>ADVISORS",
          "GRAPHIC<br>PACKAGING<br>INTERNATIONAL",
          "FRONTIERAS",
          "CLEARPATH<br>ACTION<br>FOR<br>CONSERVATIVE<br>CLEAN<br>ENERGY",
          "AUSTIN<br>ENERGY",
          "CALIFORNIA<br>STATE<br>UNIVERSITY",
          "FACT<br>COALITION<br>A<br>PROJECT<br>OF<br>FUND<br>FOR<br>CONSTITUTIONAL<br>GOVERNMENT",
          "NORTHWESTERN<br>ENERGY",
          "AUTOS<br>DRIVE<br>AMERICA",
          "NIKOLA",
          "CORPUS<br>CHRISTI<br>TX",
          "ALLIANT<br>ENERGY",
          "SMITHFIELD<br>FOODS",
          "AMERICAN<br>EXPLORATION<br>PRODUCTION<br>COUNCIL",
          "CENTERPOINT",
          "CALSTART",
          "NATURE<br>CONSERVANCY",
          "NATIONAL<br>SOCIETY<br>OF<br>PROFESSIONAL<br>SURVEYORS",
          "CLEARWAY<br>ENERGY",
          "VISCON",
          "CHARM<br>INDUSTRIAL",
          "SUNNOVA<br>ENERGY<br>INTERNATIONAL",
          "ALLIANCE<br>FOR<br>AUTOMOTIVE<br>INNOVATION",
          "CALERA",
          "MACQUARIE<br>INFRASTRUCTURE<br>AND<br>REAL<br>ASSETS",
          "CONOCO<br>PHILLIPS",
          "MAINSPRING<br>ENERGY",
          "ENABLE<br>MIDSTREAM<br>PARTNERS",
          "ENERGY<br>ADVANCE<br>CENTER",
          "AMERICAN<br>CLEAN<br>POWER<br>ASSOCIATION",
          "BAYER",
          "CITY<br>UTILITIES<br>OF<br>SPRINGFIELD",
          "HYDROGEN<br>FUEL<br>CELL<br>BUS<br>COUNCIL",
          "INDIAN<br>LAND<br>TENURE",
          "RADIA",
          "BLACK<br>HILLS",
          "AMERICAN<br>ELECTRIC<br>POWER",
          "ARCHER<br>DANIELS<br>MIDLAND",
          "BLUE<br>GREEN<br>ALLIANCE",
          "NATIONAL<br>OCEAN<br>INDUSTRIES<br>ASSOCIATION",
          "EVONIK",
          "NORFOLK<br>SOUTHERN",
          "AMERICAS<br>POWER",
          "H<br>CYCLE",
          "BROWN<br>UNIVERSITY",
          "PAPERWORKS<br>INDUSTRIES",
          "ALGENOL",
          "CF<br>INDUSTRIES",
          "CONSUMER<br>BRANDS<br>ASSOCIATION",
          "SOLAR<br>ENERGY<br>INDUSTRIES<br>ASSOCIATION",
          "CLEAN<br>ENERGY<br>FUELS",
          "PORTLAND<br>OR",
          "HOWARD<br>ENERGY<br>PARTNERS",
          "NEW<br>FORTRESS<br>ENERGY",
          "DRUMMOND",
          "METALS",
          "GREENPEACE",
          "SHELL",
          "PUGET<br>SOUND<br>ENERGY",
          "SUNPOWER",
          "CLOUD<br>PEAK<br>ENERGY<br>RESOURCES",
          "PACIFIC<br>GAS<br>AND<br>ELECTRIC",
          "AIR<br>PRODUCTS<br>AND<br>CHEMICALS",
          "AMERICAN<br>INTERNATIONAL<br>AUTOMOBILE<br>DEALERS<br>ASSOCIATION",
          "FERTILIZER<br>INSTITUTE",
          "SOUTHERN<br>MONTANA<br>ELECTRIC<br>GENERATION<br>TRANSMISSION<br>COOPERATIVE",
          "ARTHUR<br>J<br>GALLAGHER",
          "ENBRIDGE",
          "BOSTON<br>UNIVERSITY",
          "BANK<br>POLICY<br>INSTITUTE",
          "CLEAN<br>AIR<br>TASK<br>FORCE",
          "NISSAN",
          "WORLD<br>RESOURCES<br>INSTITUTE",
          "NORTH<br>AMERICAN<br>SUBARU",
          "ATMOS<br>ENERGY",
          "ONE<br>H2",
          "DAIRYLAND<br>POWER<br>COOPERATIVE",
          "HITACHI",
          "HYLIION",
          "HYDROGEN<br>ADVISORY<br>COUNCIL",
          "SOLVAY",
          "AMERICAN<br>BIOGAS<br>COUNCIL",
          "PROJECT<br>VESTA",
          "AMPLE",
          "ALLETE",
          "NATURAL<br>GAS<br>SUPPLY<br>ASSOCIATION",
          "POWERTAP",
          "FRIENDS<br>OF<br>EARTH",
          "GEOS<br>INSTITUTE",
          "RHODIA",
          "EMPIRE<br>DISTRICT<br>ELECTRIC",
          "DTE<br>ENERGY",
          "MERCEDESBENZ<br>GROUP",
          "LYONDELL<br>CHEMICAL",
          "DNV",
          "UNIVERSAL<br>HYDROGEN",
          "NATIONAL<br>RIGHT<br>TO<br>WORK<br>COMMITTEE",
          "POWERSPAN",
          "SUNTORY<br>GLOBAL<br>SPIRITS",
          "KP<br>KAUFFMAN",
          "NUCLEAR<br>ENERGY<br>INSTITUTE",
          "KEURIG<br>DR<br>PEPPER",
          "CLEAN<br>COAL<br>TECHNOLOGIES",
          "KOCH<br>INDUSTRIES",
          "CODEXIS",
          "NATAT<br>NATIONAL<br>ASSOCIATION<br>OF<br>TOWNS<br>AND<br>TOWNSHIPS",
          "STATE<br>OF<br>ILLINOIS",
          "NATIONAL<br>ASSOCIATION<br>OF<br>CLEAN<br>WATER<br>AGENCIES",
          "ENVIRONMENT<br>AMERICA",
          "RTI<br>INTERNATIONAL",
          "RTX",
          "BAKER<br>HUGHES",
          "WESTERN<br>BUSINESS<br>ROUNDTABLE",
          "WESTAR<br>ENERGY",
          "ENGIE",
          "INTERSTATE<br>OIL<br>AND<br>GAS<br>COMPACT<br>COMMISSION",
          "WEC<br>ENERGY",
          "ENERGY<br>MARKETERS<br>OF<br>AMERICA",
          "NAVIGATOR<br>CO2",
          "RHEEM<br>MANUFACTURING",
          "BNSF<br>RAILWAY",
          "DYSTAR",
          "INDUSTRIAL<br>ENERGY<br>CONSUMERS<br>OF<br>AMERICA",
          "FORTERA",
          "REPUBLIC",
          "UTILITY<br>WORKERS<br>UNION<br>OF<br>AMERICA",
          "LIQUID<br>ENERGY<br>PIPELINE<br>ASSOCIATION",
          "VANDERBILT<br>UNIVERSITY",
          "NATIONAL<br>PARKS<br>CONSERVATION<br>ASSOCIATION",
          "HARDWOOD<br>FEDERATION",
          "WORLD<br>ENERGY",
          "CLEVELANDCLIFFS",
          "MCR<br>OIL<br>TOOLS",
          "VOLKSWAGEN",
          "RENEWABLE<br>ENERGY<br>GROUP",
          "EQT",
          "SOAP<br>CREEK<br>ENERGY",
          "EOS<br>ENERGY<br>STORAGE",
          "ARRIVAL<br>AUTOMOTIVE",
          "LIEBMAN<br>ASSOCIATES",
          "EXXON<br>MOBIL",
          "LAND<br>TRUST<br>ALLIANCE",
          "FORD<br>MOTOR",
          "ASSOCIATION<br>OF<br>AMERICAN<br>UNIVERSITIES",
          "ASSOCIATION<br>OF<br>METROPOLITAN<br>WATER<br>AGENCIES",
          "US<br>FUEL<br>CELL<br>COUNCIL",
          "SOUTHERN<br>CALIFORNIA<br>PUBLIC<br>POWER<br>AUTHORITY",
          "BLUE<br>SOURCE",
          "GTA<br>ENERGY",
          "OPEN<br>SPACE<br>INSTITUTE",
          "SITHE<br>GLOBAL<br>POWER",
          "CARBON<br>UTILIZATION<br>RESEARCH<br>COUNCIL",
          "LEUCADIA<br>NATIONAL",
          "NATIONAL<br>MILK<br>PRODUCERS<br>FEDERATION",
          "NATSO",
          "SWIFT<br>SOLAR",
          "LANZATECH",
          "FOSTER<br>WHEELER",
          "SPECIALTY<br>EQUIPMENT<br>MARKET<br>ASSOCIATION",
          "INDIGO",
          "GEODIGITAL<br>INTERNATIONAL",
          "STATE<br>OF<br>NORTH<br>DAKOTA",
          "INTERNATIONAL<br>BROTHERHOOD<br>OF<br>ELECTRICAL<br>WORKERS",
          "SOUTHERN<br>UTE<br>INDIAN<br>TRIBE",
          "NATIONAL<br>COTTON<br>COUNCIL",
          "UNILEVER<br>UNITED<br>STATES",
          "VOLVO",
          "ENERGY<br>STORAGE<br>ITC<br>COALITION",
          "BASF",
          "COLORADO<br>RIVER<br>ENERGY<br>DISTRIBUTORS<br>ASSOCIATION",
          "YUM<br>BRANDS",
          "WASTE<br>MANAGEMENT",
          "CARRIER<br>GLOBAL",
          "ECOLAB",
          "WOODWELL<br>CLIMATE<br>RESEARCH<br>CENTER",
          "WESTINGHOUSE<br>ELECTRIC",
          "ARCELORMITTAL",
          "GOVERNMENT<br>ACCOUNTABILITY<br>PROJECT",
          "AMERICAN<br>SOCIETY<br>OF<br>CIVIL<br>ENGINEERS",
          "ASSOCIATION<br>OF<br>AMERICAN<br>RAILROADS",
          "EION",
          "WSP",
          "UNIVERSITY<br>OF<br>WISCONSIN",
          "NEXTDECADE",
          "UNITED<br>STEELWORKERS",
          "DRAX<br>GROUP",
          "NEW<br>YORK<br>FARM<br>BUREAU",
          "UNIVERSITY<br>OF<br>MICHIGAN",
          "VISTRA",
          "GLENCORE",
          "PACIFIC<br>FOREST<br>TRUST",
          "UNIVERSITY<br>OF<br>TEXAS",
          "MDU<br>RESOURCES",
          "WHITE<br>OAK<br>INITIATIVE",
          "WESTROCK",
          "TARGA",
          "UNITED<br>BIOREFINERIES",
          "GEOTHERMAL<br>EXCHANGE<br>ORGANIZATION",
          "GENERAL<br>MOTORS",
          "REMORA",
          "FORTESCUE",
          "STEM",
          "PUBLIC<br>SERVICE<br>ENTERPRISE",
          "LEAGUE<br>OF<br>CONSERVATION<br>VOTERS",
          "TWELVE<br>BENEFIT",
          "CONSOL<br>ENERGY",
          "KINDER<br>MORGAN",
          "UNIVERSITY<br>OF<br>VIRGINIA",
          "PORTLAND<br>CEMENT<br>ASSOCIATION",
          "WESTERN<br>FUELS",
          "STATE<br>OF<br>INDIANA",
          "WABASH<br>VALLEY<br>RESOURCES",
          "STANFORD<br>UNIVERSITY",
          "RUNNING<br>TIDE",
          "NEXTERA",
          "NORTH<br>AMERICAN<br>CARBON<br>CAPTURE<br>STORAGE<br>ASSOCIATION<br>NACCSA",
          "NORTHEAST<br>PUBLIC<br>POWER<br>ASSOCIATION",
          "NORTHERN<br>CALIFORNIA<br>POWER<br>AGENCY",
          "WOODSIDE<br>ENERGY",
          "OKLAHOMA<br>GAS<br>AND<br>ELECTRIC",
          "SANDRIDGE<br>ENERGY",
          "SEMPRA",
          "SASOL",
          "STATE<br>OF<br>LOUISIANA",
          "PROJECT<br>CANARY",
          "PBF",
          "TOPSOE",
          "TOYOTA",
          "UNIVERSITY<br>OF<br>CINCINNATI",
          "TESLA",
          "TETRA<br>TECHNOLOGIES",
          "UNITED<br>AIRLINES",
          "UNIPER<br>GLOBAL<br>COMMODITIES",
          "PRINCETON<br>UNIVERSITY",
          "UNIVERSITY<br>OF<br>KENTUCKY",
          "THERMOENERGY",
          "GLOBAL<br>HYDROGEN<br>TECHNOLOGIES",
          "ENERGY<br>NORTHWEST",
          "SIGNA<br>CHEMISTRY",
          "METHANOL<br>INSTITUTE",
          "CLECO<br>POWER",
          "NATURAL<br>RESOURCES<br>DEFENSE<br>COUNCIL",
          "LINDE",
          "BERKSHIRE<br>HATHAWAY<br>ENERGY",
          "AFLCIO",
          "CHEVRON",
          "ONE<br>GAS",
          "IMPERIAL<br>IRRIGATION<br>DISTRICT",
          "WEYERHAEUSER",
          "EXELON",
          "INSTITUTE<br>OF<br>ELECTRICAL<br>AND<br>ELECTRONICS<br>ENGINEERS",
          "UNIVERSITY<br>OF<br>PITTSBURGH",
          "BITUMINOUS<br>COAL<br>OPERATORS<br>ASSOCIATION",
          "AMERICAN<br>ASSOCIATION<br>OF<br>PETROLEUM<br>GEOLOGISTS",
          "BIOMASS<br>POWER<br>ASSOCIATION",
          "DEVON",
          "ALTERNATIVE<br>FUELS<br>CHEMICALS<br>COALITION",
          "BAYOTECH",
          "AMERICAN<br>COALITION<br>FOR<br>ETHANOL",
          "AMERICAN<br>COALITION<br>FOR<br>CLEAN<br>COAL<br>ELECTRICITY",
          "PRIMIENT",
          "HALLIBURTON",
          "GREIF",
          "ASSOCIATION<br>OF<br>OIL<br>PIPE<br>LINES",
          "AMERICAN<br>PUBLIC<br>POWER<br>ASSOCIATION",
          "AMERICAN<br>FORESTS",
          "GLENROCK<br>PETROLEUM",
          "AMERICAN<br>FOREST<br>RESOURCE<br>COUNCIL",
          "AMERICAN<br>FOREST<br>PAPER<br>ASSOCIATION",
          "AMERICAN<br>CHEMICAL<br>SOCIETY",
          "EASTMAN<br>CHEMICAL",
          "NET<br>NEGATIVE<br>CO2<br>BASELOAD<br>POWER",
          "GPA<br>MIDSTREAM<br>ASSOCIATION",
          "AMERICAN<br>BIOMASS<br>ENERGY<br>ASSOCIATION",
          "APEX<br>CLEAN<br>ENERGY",
          "APPALACHIAN<br>TRAIL<br>CONSERVANCY",
          "AMERICAN<br>FOREST<br>FOUNDATION",
          "SSAB<br>ENTERPRISES",
          "NATIONAL<br>RURAL<br>ELECTRIC<br>COOPERATIVE<br>ASSOCIATION",
          "AMERICANS<br>FOR<br>TAX<br>REFORM",
          "WASHINGTON<br>GAS<br>LIGHT",
          "AIR<br>LIQUIDE",
          "ACCELERGY",
          "COLIBRI<br>ENTERPRISES",
          "PACCAR",
          "COALITION<br>FOR<br>ENERGY<br>EFFICIENT<br>JOBS<br>INVESTMENT",
          "UIL-AVANGRID",
          "ADVANCED<br>BIOFUELS<br>ASSOCIATION",
          "ADVANTEK<br>WASTE<br>MANAGEMENT",
          "INTL<br>ASSOCIATION<br>OF<br>BRIDGE<br>STRUCTURAL<br>ORNAMENTAL<br>REINFORCING<br>IRON<br>WORKERS",
          "IOWA<br>STATE<br>UNIVERSITY",
          "COUNTY<br>OF<br>LOS<br>ANGELES",
          "AEROSEAL",
          "BLOOM<br>ENERGY",
          "OCCIDENTAL<br>PETROLEUM",
          "CARBON<br>GEOCAPTURE",
          "BP<br>AMERICA",
          "BWX<br>TECHNOLOGIES",
          "CAPTURA",
          "HEIRLOOM<br>CARBON<br>TECHNOLOGIES",
          "DELTA",
          "BUSINESS<br>ROUNDTABLE",
          "CALPORTLAND",
          "CALIFORNIA<br>STEEL<br>INDUSTRIES",
          "CARBON<br>ADVOCACY<br>PROJECT",
          "TOTAL",
          "NORTHWEST<br>NATURAL<br>HOLDING<br>COMPANY",
          "NATURAL<br>STATE<br>RENEWABLES",
          "AMERICAN<br>PUBLIC<br>TRANSPORTATION<br>ASSOCIATION",
          "CITIZENS<br>FOR<br>RESPONSIBLE<br>ENERGY<br>SOLUTIONS",
          "UNITED<br>MINE<br>WORKERS<br>OF<br>AMERICA",
          "HOLCIM",
          "FUEL<br>CELL<br>AND<br>HYDROGEN<br>ENERGY<br>ASSOCIATION",
          "NANO<br>TERRA",
          "LIGNITE<br>ENERGY<br>COUNCIL",
          "NEW<br>MEXICO<br>STATE<br>UNIVERSITY",
          "NORTHROP<br>GRUMMAN",
          "BRIMSTONE<br>ENERGY",
          "CHAMPAIGNURBANA<br>MASS<br>TRANSIT<br>DISTRICT",
          "FRAMATOME",
          "EDISON<br>ELECTRIC<br>INSTITUTE",
          "CENTER<br>FOR<br>INDIVIDUAL<br>FREEDOM",
          "PRAIRIE<br>STATE<br>GENERATING",
          "OHIO<br>STATE<br>UNIVERSITY",
          "AMERICAS<br>NATURAL<br>GAS<br>ALLIANCE",
          "AMERICAN<br>WIND<br>ENERGY<br>ASSOCIATION",
          "OBSIDIAN<br>RENEWABLES",
          "BMW",
          "NRG",
          "SCHNEIDER<br>ELECTRIC",
          "EVERGY",
          "NUCOR",
          "FALCON<br>ENERGY<br>STORAGE<br>HOLDINGS<br>CEI",
          "NATIONAL<br>WASTE<br>RECYCLING<br>ASSOCIATION",
          "CENTER<br>FOR<br>TRANSPORTATION<br>AND<br>ENVIRONMENT",
          "TELLUS<br>OPERATING",
          "GOODYEAR",
          "CASCADES",
          "PUBLIC<br>POWER<br>COUNCIL",
          "CARNEGIE<br>MELLON<br>UNIVERSITY",
          "US<br>VENTURE",
          "CLINE<br>RESOURCES",
          "PLUM<br>CREEK<br>TIMBER",
          "BROOKFIELD<br>ASSET<br>MANAGEMENT",
          "RICE<br>UNIVERSITY",
          "CMS<br>ENERGY",
          "INTERNATIONAL<br>UNION<br>OF<br>OPERATING<br>ENGINEERS",
          "MINNKOTA<br>POWER<br>COOPERATIVE",
          "RIO<br>TINTO",
          "CNX<br>RESOURCES",
          "TES<br>US<br>DEVELOPMENT",
          "CORN<br>REFINERS<br>ASSOCIATION",
          "MOVEONORG<br>CIVIC<br>ACTION",
          "NATIONAL<br>AUDUBON<br>SOCIETY",
          "GREAT<br>PLAINS<br>INSTITUTE",
          "COLORADO<br>SPRINGS<br>UTILITIES",
          "MICROSOFT",
          "POET",
          "TALLGRASS",
          "MISSOURI<br>RIVER<br>ENERGY",
          "WESTERN<br>ORGANIZATION<br>OF<br>RESOURCE<br>COUNCILS",
          "CSX",
          "CUMMINS",
          "GILA<br>COUNTY<br>AZ",
          "OCEAN<br>CONSERVANCY",
          "JAMESTOWN<br>BOARD<br>OF<br>PUBLIC<br>UTILITIES",
          "ALPHA<br>NATURAL<br>RESOURCES",
          "FRIENDS<br>COMMITTEE<br>ON<br>NATIONAL<br>LEGISLATION",
          "SUNRUN",
          "BLEDSOE<br>ASSOCIATES",
          "SVANTE",
          "PROCESS<br>ENERGY<br>SOLUTIONS",
          "QUIDNET<br>ENERGY",
          "PLUG<br>POWER",
          "RENTECH",
          "EOG<br>RESOURCES",
          "CCS<br>ALLIANCE",
          "CONSOLIDATED<br>EDISON",
          "CROWN<br>AGRO<br>FUELS",
          "UNITED<br>BROTHERHOOD<br>OF<br>CARPENTERS",
          "UNITED<br>AUTOMOBILE<br>AEROSPACE<br>AGRICULTURAL<br>IMPLEMENT<br>WORKERS",
          "BIPARTISAN<br>POLICY<br>CENTER",
          "TYSON<br>FOODS",
          "GLIDEPATH",
          "ASSOCIATED<br>UNIVERSITIES",
          "CLEAN<br>FUELS<br>ALLIANCE<br>AMERICA",
          "HYDROGEN<br>ENERGY<br>CALIFORNIA",
          "INTERNATIONAL<br>PAPER",
          "JACK<br>COOPER<br>TRANSPORT",
          "KANSAS<br>DEPARTMENT<br>OF<br>COMMERCE",
          "LS<br>POWER",
          "ALGONQUIN<br>POWER<br>UTILITIES",
          "MITSUBISHI",
          "WILDERNESS<br>SOCIETY",
          "NATIONAL<br>BUSINESS<br>AVIATION<br>ASSOCIATION",
          "NET<br>POWER",
          "NEW<br>GENERATION<br>BIOFUELS",
          "INTERNATIONAL<br>BROTHERHOOD<br>OF<br>TEAMSTERS",
          "CLARK<br>STREET<br>ASSOCIATES",
          "C2I",
          "SOLAMERICA<br>ENERGY",
          "MAGNOLIA<br>LNG",
          "NATIONAL<br>ASSOCIATION<br>OF<br>MANUFACTURERS",
          "CLEAN<br>HYDROGEN<br>FUTURE<br>COALITION",
          "UNITED<br>ASSOCIATION<br>OF<br>JOURNEYMEN<br>APPRENTICES<br>OF<br>PLUMBING<br>PIPEFITTING<br>INDUSTRY",
          "SIEMENS",
          "REWORLD",
          "TENNESSEE<br>VALLEY<br>PUBLIC<br>POWER<br>ASSOCIATION",
          "ABB",
          "INTERNATIONAL<br>UNION<br>OF<br>PAINTERS<br>AND<br>ALLIED<br>TRADES",
          "CARBONFUTURE",
          "CALIFORNIA<br>AGRICULTURAL<br>COMMISSIONERS<br>AND<br>SEALERS<br>ASSOCIATION",
          "NURO",
          "AES",
          "HONEYWELL<br>INTERNATIONAL",
          "MILESTONE<br>ENVIRONMENTAL",
          "AKERMIN",
          "OREGON<br>STATE<br>UNIVERSITY",
          "AECOM",
          "GRANT<br>COUNTY<br>PUBLIC<br>UTILITY<br>DISTRICT",
          "LANZAJET",
          "AMEREN",
          "NEBRASKA<br>FARM<br>BUREAU<br>FEDERATION",
          "LONGROAD<br>ENERGY<br>MANAGEMENT",
          "NATIONAL<br>GROUND<br>WATER<br>ASSOCIATION",
          "ENVIRONMENTAL<br>DEFENSE<br>FUND",
          "AMERICAN<br>WOOD<br>COUNCIL",
          "DIFFERENTIATED<br>GAS<br>COORDINATING<br>COUNCIL<br>COALITION",
          "ALGAE<br>BIOMASS<br>ORGANIZATION",
          "AEROJET<br>ROCKETDYNE",
          "DUKE",
          "NATIONAL<br>TAXPAYERS<br>UNION",
          "ARCH<br>RESOURCES",
          "ENI",
          "ENTERGY",
          "CLEAN<br>ENERGY<br>SYSTEMS",
          "ACLIMA",
          "NAFA<br>FLEET<br>MANAGEMENT<br>ASSOCIATION",
          "SUMMIT<br>POWER",
          "SOUTHERN<br>ENVIRONMENTAL<br>LAW<br>CENTER",
          "SOUTHERN<br>COMPANY",
          "NATIONAL<br>PROPANE<br>GAS<br>ASSOCIATION",
          "MASSACHUSETTS<br>INSTITUTE<br>OF<br>TECHNOLOGY",
          "WORLD<br>SHIPPING<br>COUNCIL",
          "BANK<br>OF<br>AMERICA",
          "FUTUREGEN<br>INDUSTRIAL<br>ALLIANCE",
          "CNOOC",
          "HYUNDAI<br>KIA",
          "INTERNATIONAL<br>ASSOCIATION<br>OF<br>MACHINISTS<br>AND<br>AEROSPACE<br>WORKERS",
          "ZERO<br>EMISSION<br>TRANSPORTATION<br>ASSOCIATION",
          "TITAN<br>OIL<br>RECOVERY",
          "FEDEX",
          "UNION<br>PACIFIC",
          "ENERGY<br>TRANSFER<br>PARTNERS",
          "CARBON<br>180",
          "VALERO",
          "COLONIAL<br>PIPELINE",
          "VERDAGY",
          "RIPE<br>ROADMAP",
          "NATIONAL<br>READY<br>MIXED<br>CONCRETE<br>ASSOCIATION",
          "SECURING<br>AMERICAS<br>FUTURE<br>ENERGY",
          "SOCIETY<br>FOR<br>INDUSTRIAL<br>AND<br>APPLIED<br>MATHEMATICS",
          "PEABODY",
          "BABCOCK<br>WILCOX",
          "SKYONIC",
          "GENERATORS<br>FOR<br>CLEAN<br>AIR",
          "CENTER<br>FOR<br>CLIMATE<br>AND<br>ENERGY<br>SOLUTIONS",
          "EQUINOR",
          "ALSTOM",
          "CEMEX",
          "BLACK<br>VEATCH",
          "GULFSAFE",
          "ASME",
          "AIRCONDITIONING<br>HEATING<br>REFRIGERATION<br>INSTITUTE",
          "US<br>WIND",
          "OHIO<br>MUNICIPAL<br>ELECTRIC<br>ASSOCIATION",
          "CARBON<br>ENGINEERING<br>ULC",
          "AMERICAN<br>CHEMISTRY<br>COUNCIL",
          "INTERNATIONAL<br>ASSOCIATION<br>OF<br>SHEET<br>METAL<br>AIR<br>RAIL<br>TRANSPORTATION<br>WORKERS",
          "NC12",
          "POTLATCHDELTIC",
          "MODERN<br>HYDROGEN",
          "ENERGY<br>FORWARD",
          "FIRST<br>SOLAR",
          "UNIVERSITY<br>OF<br>ROCHESTER",
          "CALPINE",
          "US<br>CHAMBER<br>OF<br>COMMERCE",
          "ITC<br>HOLDINGS",
          "TALON<br>NICKEL",
          "BREAKTHROUGH<br>ENERGY",
          "US<br>BIOCHAR<br>COALITION",
          "SIERRA<br>CLUB",
          "RAVEN<br>SR",
          "RENEWABLE<br>FUELS<br>ASSOCIATION",
          "RWE",
          "ZERO<br>CARBON<br>HYDROGEN<br>COALITION",
          "SOUTHWEST<br>AIRLINES",
          "PPL",
          "SALT<br>RIVER<br>PROJECT",
          "CATERPILLAR",
          "ANGLO<br>AMERICAN",
          "CHEMOURS",
          "BAKKEN<br>ENERGY",
          "ARKEMA",
          "AMERICAN<br>PETROLEUM<br>INSTITUTE",
          "CORNING",
          "POWDER<br>RIVER<br>ENERGY",
          "YALE<br>UNIVERSITY",
          "PINNACLE<br>WEST<br>CAPITAL",
          "PHILLIPS<br>66",
          "PENNSYLVANIA<br>FARM<br>BUREAU",
          "OX<br>PAPERBOARD",
          "SAZERAC",
          "ORSTED",
          "ORMAT<br>NEVADA",
          "ONEOK",
          "NUCLEAR<br>INNOVATION<br>ALLIANCE",
          "NLMK<br>PENNSYLVANIA",
          "NATIONAL<br>MINING<br>ASSOCIATION",
          "CALIFORNIA<br>STATE<br>ASSOCIATION<br>OF<br>COUNTIES",
          "CONSTELLATION<br>ENERGY",
          "NATIONAL<br>GRID",
          "MARATHON",
          "INTERNATIONAL<br>BROTHERHOOD<br>OF<br>BOILERMAKERS",
          "INDEPENDENT<br>PETROLEUM<br>ASSOCIATION<br>OF<br>AMERICA",
          "HONDA",
          "AMERICAN<br>TRANSMISSION",
          "GREATPOINT<br>ENERGY",
          "GEORGIA<br>INSTITUTE<br>OF<br>TECHNOLOGY",
          "FLUID<br>MARKET",
          "EVERSOURCE",
          "ENVIRONMENTAL<br>POWER",
          "ENTERPRISE<br>PRODUCTS<br>PARTNERS<br>LP",
          "CZERO",
          "METHANEX",
          "HIGHLY<br>INNOVATIVE<br>FUELS",
          "WILLIAMS<br>COMPANIES",
          "WILEY<br>REIN",
          "TRANS<br>CANADA",
          "VESTAS",
          "ROBERT<br>BOSCH",
          "PLASTIC<br>POLLUTION<br>COALITION",
          "ORIGIN<br>MATERIALS",
          "OHIO<br>UNIVERSITY",
          "CALIFORNIA<br>INSTITUTE<br>OF<br>TECHNOLOGY",
          "HUNTSMAN",
          "NATIONAL<br>ALLIANCE<br>OF<br>FOREST<br>OWNERS",
          "FIRSTENERGY",
          "DKRW",
          "UNIVERSITY<br>OF<br>ILLINOIS",
          "TECO",
          "ZURICH",
          "HAWAIIAN<br>AIRLINES",
          "XCEL<br>ENERGY",
          "PORTLAND<br>GENERAL<br>ELECTRIC",
          "EARTHJUSTICE"
         ],
         "labels": [
          "COUNCIL<br>OF<br>INDUSTRIAL<br>BOILER<br>OWNERS",
          "JOY<br>GLOBAL",
          "NISOURCE",
          "BIOTECHNOLOGY<br>INNOVATION<br>ORGANIZATION",
          "PNM<br>RESOURCES",
          "UNIVERSITY<br>OF<br>CALIFORNIA",
          "BASIN<br>ELECTRIC<br>POWER<br>COOPERATIVE",
          "CARBON<br>ENGINEERING",
          "EDISON<br>INTERNATIONAL",
          "FIDELIS<br>NEW<br>ENERGY",
          "STELLANTIS",
          "SACRAMENTO<br>MUNICIPAL<br>UTILITY<br>DISTRICT",
          "ARIZONA<br>STATE<br>UNIVERSITY",
          "WESTERN<br>MICHIGAN<br>UNIVERSITY",
          "NATIONAL<br>VENTURE<br>CAPITAL<br>ASSOCIATION",
          "MONOLITH<br>MATERIALS",
          "BOARDWALK<br>PIPELINE",
          "VERDE<br>CO2",
          "REGENTS<br>OF<br>UNIVERSITY<br>OF<br>COLORADO",
          "TRUST<br>FOR<br>PUBLIC<br>LAND",
          "CENTER<br>FOR<br>AMERICAN<br>PROGRESS",
          "US<br>STEEL",
          "AMERICAN<br>MUNICIPAL<br>POWER",
          "CHART<br>INDUSTRIES",
          "KANSAS<br>FARM<br>BUREAU",
          "INVENERGY",
          "INTERSECT<br>POWER",
          "UNIVERSITY<br>OF<br>NORTHERN<br>IOWA",
          "CONSOLIDATED<br>METCO",
          "HYPERION<br>RESOURCES",
          "DOMINION",
          "DOUGLAS<br>COUNTY<br>PUBLIC<br>UTILITY<br>DISTRICT",
          "DOW",
          "GULF<br>COAST<br>SEQUESTRATION",
          "GREEN<br>PLAINS",
          "UTAH<br>ASSOCIATED<br>MUNICIPAL<br>POWER<br>SYSTEMS",
          "AMERICAN<br>FUEL<br>PETROCHEMICAL<br>MANUFACTURERS",
          "TRISTATE<br>GENERATION<br>AND<br>TRANSMISSION<br>ASSOCIATION",
          "NEW<br>YORK<br>ASSOCIATION<br>OF<br>PUBLIC<br>POWER",
          "AMERICAN<br>FARM<br>BUREAU<br>FED",
          "OHIO<br>FARM<br>BUREAU<br>FEDERATION",
          "SMURFIT<br>STONE<br>CONTAINER",
          "AETHON<br>ENERGY",
          "AMERICAN<br>GAS<br>ASSOCIATION",
          "LINDEN<br>TRUST<br>FOR<br>CONSERVATION",
          "NATIONAL<br>ASSOCIATION<br>OF<br>FEDERALLYINSURED<br>CREDIT<br>UNIONS",
          "ECONOMIC<br>INNOVATION",
          "JUPITER<br>OXYGEN",
          "EATON",
          "GROWTH<br>ENERGY",
          "EV<br>CONNECT",
          "ELECTRIC<br>POWER<br>SUPPLY<br>ASSOCIATION",
          "GEVO",
          "PENNSYLVANIA<br>STATE<br>UNIVERSITY",
          "TRANSPARENCY<br>INTERNATIONAL",
          "LARGE<br>PUBLIC<br>POWER<br>COUNCIL",
          "NATIONAL<br>FUEL<br>GAS",
          "STRATA<br>CLEAN<br>ENERGY",
          "BIAENERGY<br>OPERATING",
          "TACOMA<br>PUBLIC<br>UTILITIES",
          "GREATER<br>PITTSBURGH<br>CHAMBER<br>OF<br>COMMERCE",
          "OREGON<br>FARM<br>BUREAU<br>FEDERATION",
          "CHENIERE<br>ENERGY",
          "DUPONT",
          "ILLINOIS<br>AGRICULTURAL<br>ASSOCIATION",
          "MAGELLAN<br>MIDSTREAM<br>PARTNERS",
          "NORTHWEST<br>PUBLIC<br>POWER<br>ASSOCIATION",
          "SUNIVA",
          "TENASKA",
          "CROWLEY<br>MARITIME",
          "COVESTRO",
          "MM<br>ENERGY",
          "ELECTRIFY<br>AMERICA",
          "CEMVITA",
          "GENERAL<br>ELECTRIC",
          "INTERSTATE<br>NATURAL<br>GAS<br>ASSOCIATION<br>OF<br>AMERICA",
          "FLUOR",
          "ATLAS<br>AIR<br>WORLDWIDE<br>HOLDINGS",
          "IRRIGATION<br>AND<br>ELECTRICAL<br>DISTRICTS<br>ASSOCIATION<br>OF<br>ARIZONA",
          "ENEL",
          "COLUMBIA<br>PIPELINE",
          "FCO<br>ADVISORS",
          "GRAPHIC<br>PACKAGING<br>INTERNATIONAL",
          "FRONTIERAS",
          "CLEARPATH<br>ACTION<br>FOR<br>CONSERVATIVE<br>CLEAN<br>ENERGY",
          "AUSTIN<br>ENERGY",
          "CALIFORNIA<br>STATE<br>UNIVERSITY",
          "FACT<br>COALITION<br>A<br>PROJECT<br>OF<br>FUND<br>FOR<br>CONSTITUTIONAL<br>GOVERNMENT",
          "NORTHWESTERN<br>ENERGY",
          "AUTOS<br>DRIVE<br>AMERICA",
          "NIKOLA",
          "CORPUS<br>CHRISTI<br>TX",
          "ALLIANT<br>ENERGY",
          "SMITHFIELD<br>FOODS",
          "AMERICAN<br>EXPLORATION<br>PRODUCTION<br>COUNCIL",
          "CENTERPOINT",
          "CALSTART",
          "NATURE<br>CONSERVANCY",
          "NATIONAL<br>SOCIETY<br>OF<br>PROFESSIONAL<br>SURVEYORS",
          "CLEARWAY<br>ENERGY",
          "VISCON",
          "CHARM<br>INDUSTRIAL",
          "SUNNOVA<br>ENERGY<br>INTERNATIONAL",
          "ALLIANCE<br>FOR<br>AUTOMOTIVE<br>INNOVATION",
          "CALERA",
          "MACQUARIE<br>INFRASTRUCTURE<br>AND<br>REAL<br>ASSETS",
          "CONOCO<br>PHILLIPS",
          "MAINSPRING<br>ENERGY",
          "ENABLE<br>MIDSTREAM<br>PARTNERS",
          "ENERGY<br>ADVANCE<br>CENTER",
          "AMERICAN<br>CLEAN<br>POWER<br>ASSOCIATION",
          "BAYER",
          "CITY<br>UTILITIES<br>OF<br>SPRINGFIELD",
          "HYDROGEN<br>FUEL<br>CELL<br>BUS<br>COUNCIL",
          "INDIAN<br>LAND<br>TENURE",
          "RADIA",
          "BLACK<br>HILLS",
          "AMERICAN<br>ELECTRIC<br>POWER",
          "ARCHER<br>DANIELS<br>MIDLAND",
          "BLUE<br>GREEN<br>ALLIANCE",
          "NATIONAL<br>OCEAN<br>INDUSTRIES<br>ASSOCIATION",
          "EVONIK",
          "NORFOLK<br>SOUTHERN",
          "AMERICAS<br>POWER",
          "H<br>CYCLE",
          "BROWN<br>UNIVERSITY",
          "PAPERWORKS<br>INDUSTRIES",
          "ALGENOL",
          "CF<br>INDUSTRIES",
          "CONSUMER<br>BRANDS<br>ASSOCIATION",
          "SOLAR<br>ENERGY<br>INDUSTRIES<br>ASSOCIATION",
          "CLEAN<br>ENERGY<br>FUELS",
          "PORTLAND<br>OR",
          "HOWARD<br>ENERGY<br>PARTNERS",
          "NEW<br>FORTRESS<br>ENERGY",
          "DRUMMOND",
          "METALS",
          "GREENPEACE",
          "SHELL",
          "PUGET<br>SOUND<br>ENERGY",
          "SUNPOWER",
          "CLOUD<br>PEAK<br>ENERGY<br>RESOURCES",
          "PACIFIC<br>GAS<br>AND<br>ELECTRIC",
          "AIR<br>PRODUCTS<br>AND<br>CHEMICALS",
          "AMERICAN<br>INTERNATIONAL<br>AUTOMOBILE<br>DEALERS<br>ASSOCIATION",
          "FERTILIZER<br>INSTITUTE",
          "SOUTHERN<br>MONTANA<br>ELECTRIC<br>GENERATION<br>TRANSMISSION<br>COOPERATIVE",
          "ARTHUR<br>J<br>GALLAGHER",
          "ENBRIDGE",
          "BOSTON<br>UNIVERSITY",
          "BANK<br>POLICY<br>INSTITUTE",
          "CLEAN<br>AIR<br>TASK<br>FORCE",
          "NISSAN",
          "WORLD<br>RESOURCES<br>INSTITUTE",
          "NORTH<br>AMERICAN<br>SUBARU",
          "ATMOS<br>ENERGY",
          "ONE<br>H2",
          "DAIRYLAND<br>POWER<br>COOPERATIVE",
          "HITACHI",
          "HYLIION",
          "HYDROGEN<br>ADVISORY<br>COUNCIL",
          "SOLVAY",
          "AMERICAN<br>BIOGAS<br>COUNCIL",
          "PROJECT<br>VESTA",
          "AMPLE",
          "ALLETE",
          "NATURAL<br>GAS<br>SUPPLY<br>ASSOCIATION",
          "POWERTAP",
          "FRIENDS<br>OF<br>EARTH",
          "GEOS<br>INSTITUTE",
          "RHODIA",
          "EMPIRE<br>DISTRICT<br>ELECTRIC",
          "DTE<br>ENERGY",
          "MERCEDESBENZ<br>GROUP",
          "LYONDELL<br>CHEMICAL",
          "DNV",
          "UNIVERSAL<br>HYDROGEN",
          "NATIONAL<br>RIGHT<br>TO<br>WORK<br>COMMITTEE",
          "POWERSPAN",
          "SUNTORY<br>GLOBAL<br>SPIRITS",
          "KP<br>KAUFFMAN",
          "NUCLEAR<br>ENERGY<br>INSTITUTE",
          "KEURIG<br>DR<br>PEPPER",
          "CLEAN<br>COAL<br>TECHNOLOGIES",
          "KOCH<br>INDUSTRIES",
          "CODEXIS",
          "NATAT<br>NATIONAL<br>ASSOCIATION<br>OF<br>TOWNS<br>AND<br>TOWNSHIPS",
          "STATE<br>OF<br>ILLINOIS",
          "NATIONAL<br>ASSOCIATION<br>OF<br>CLEAN<br>WATER<br>AGENCIES",
          "ENVIRONMENT<br>AMERICA",
          "RTI<br>INTERNATIONAL",
          "RTX",
          "BAKER<br>HUGHES",
          "WESTERN<br>BUSINESS<br>ROUNDTABLE",
          "WESTAR<br>ENERGY",
          "ENGIE",
          "INTERSTATE<br>OIL<br>AND<br>GAS<br>COMPACT<br>COMMISSION",
          "WEC<br>ENERGY",
          "ENERGY<br>MARKETERS<br>OF<br>AMERICA",
          "NAVIGATOR<br>CO2",
          "RHEEM<br>MANUFACTURING",
          "BNSF<br>RAILWAY",
          "DYSTAR",
          "INDUSTRIAL<br>ENERGY<br>CONSUMERS<br>OF<br>AMERICA",
          "FORTERA",
          "REPUBLIC",
          "UTILITY<br>WORKERS<br>UNION<br>OF<br>AMERICA",
          "LIQUID<br>ENERGY<br>PIPELINE<br>ASSOCIATION",
          "VANDERBILT<br>UNIVERSITY",
          "NATIONAL<br>PARKS<br>CONSERVATION<br>ASSOCIATION",
          "HARDWOOD<br>FEDERATION",
          "WORLD<br>ENERGY",
          "CLEVELANDCLIFFS",
          "MCR<br>OIL<br>TOOLS",
          "VOLKSWAGEN",
          "RENEWABLE<br>ENERGY<br>GROUP",
          "EQT",
          "SOAP<br>CREEK<br>ENERGY",
          "EOS<br>ENERGY<br>STORAGE",
          "ARRIVAL<br>AUTOMOTIVE",
          "LIEBMAN<br>ASSOCIATES",
          "EXXON<br>MOBIL",
          "LAND<br>TRUST<br>ALLIANCE",
          "FORD<br>MOTOR",
          "ASSOCIATION<br>OF<br>AMERICAN<br>UNIVERSITIES",
          "ASSOCIATION<br>OF<br>METROPOLITAN<br>WATER<br>AGENCIES",
          "US<br>FUEL<br>CELL<br>COUNCIL",
          "SOUTHERN<br>CALIFORNIA<br>PUBLIC<br>POWER<br>AUTHORITY",
          "BLUE<br>SOURCE",
          "GTA<br>ENERGY",
          "OPEN<br>SPACE<br>INSTITUTE",
          "SITHE<br>GLOBAL<br>POWER",
          "CARBON<br>UTILIZATION<br>RESEARCH<br>COUNCIL",
          "LEUCADIA<br>NATIONAL",
          "NATIONAL<br>MILK<br>PRODUCERS<br>FEDERATION",
          "NATSO",
          "SWIFT<br>SOLAR",
          "LANZATECH",
          "FOSTER<br>WHEELER",
          "SPECIALTY<br>EQUIPMENT<br>MARKET<br>ASSOCIATION",
          "INDIGO",
          "GEODIGITAL<br>INTERNATIONAL",
          "STATE<br>OF<br>NORTH<br>DAKOTA",
          "INTERNATIONAL<br>BROTHERHOOD<br>OF<br>ELECTRICAL<br>WORKERS",
          "SOUTHERN<br>UTE<br>INDIAN<br>TRIBE",
          "NATIONAL<br>COTTON<br>COUNCIL",
          "UNILEVER<br>UNITED<br>STATES",
          "VOLVO",
          "ENERGY<br>STORAGE<br>ITC<br>COALITION",
          "BASF",
          "COLORADO<br>RIVER<br>ENERGY<br>DISTRIBUTORS<br>ASSOCIATION",
          "YUM<br>BRANDS",
          "WASTE<br>MANAGEMENT",
          "CARRIER<br>GLOBAL",
          "ECOLAB",
          "WOODWELL<br>CLIMATE<br>RESEARCH<br>CENTER",
          "WESTINGHOUSE<br>ELECTRIC",
          "ARCELORMITTAL",
          "GOVERNMENT<br>ACCOUNTABILITY<br>PROJECT",
          "AMERICAN<br>SOCIETY<br>OF<br>CIVIL<br>ENGINEERS",
          "ASSOCIATION<br>OF<br>AMERICAN<br>RAILROADS",
          "EION",
          "WSP",
          "UNIVERSITY<br>OF<br>WISCONSIN",
          "NEXTDECADE",
          "UNITED<br>STEELWORKERS",
          "DRAX<br>GROUP",
          "NEW<br>YORK<br>FARM<br>BUREAU",
          "UNIVERSITY<br>OF<br>MICHIGAN",
          "VISTRA",
          "GLENCORE",
          "PACIFIC<br>FOREST<br>TRUST",
          "UNIVERSITY<br>OF<br>TEXAS",
          "MDU<br>RESOURCES",
          "WHITE<br>OAK<br>INITIATIVE",
          "WESTROCK",
          "TARGA",
          "UNITED<br>BIOREFINERIES",
          "GEOTHERMAL<br>EXCHANGE<br>ORGANIZATION",
          "GENERAL<br>MOTORS",
          "REMORA",
          "FORTESCUE",
          "STEM",
          "PUBLIC<br>SERVICE<br>ENTERPRISE",
          "LEAGUE<br>OF<br>CONSERVATION<br>VOTERS",
          "TWELVE<br>BENEFIT",
          "CONSOL<br>ENERGY",
          "KINDER<br>MORGAN",
          "UNIVERSITY<br>OF<br>VIRGINIA",
          "PORTLAND<br>CEMENT<br>ASSOCIATION",
          "WESTERN<br>FUELS",
          "STATE<br>OF<br>INDIANA",
          "WABASH<br>VALLEY<br>RESOURCES",
          "STANFORD<br>UNIVERSITY",
          "RUNNING<br>TIDE",
          "NEXTERA",
          "NORTH<br>AMERICAN<br>CARBON<br>CAPTURE<br>STORAGE<br>ASSOCIATION<br>NACCSA",
          "NORTHEAST<br>PUBLIC<br>POWER<br>ASSOCIATION",
          "NORTHERN<br>CALIFORNIA<br>POWER<br>AGENCY",
          "WOODSIDE<br>ENERGY",
          "OKLAHOMA<br>GAS<br>AND<br>ELECTRIC",
          "SANDRIDGE<br>ENERGY",
          "SEMPRA",
          "SASOL",
          "STATE<br>OF<br>LOUISIANA",
          "PROJECT<br>CANARY",
          "PBF",
          "TOPSOE",
          "TOYOTA",
          "UNIVERSITY<br>OF<br>CINCINNATI",
          "TESLA",
          "TETRA<br>TECHNOLOGIES",
          "UNITED<br>AIRLINES",
          "UNIPER<br>GLOBAL<br>COMMODITIES",
          "PRINCETON<br>UNIVERSITY",
          "UNIVERSITY<br>OF<br>KENTUCKY",
          "THERMOENERGY",
          "GLOBAL<br>HYDROGEN<br>TECHNOLOGIES",
          "ENERGY<br>NORTHWEST",
          "SIGNA<br>CHEMISTRY",
          "METHANOL<br>INSTITUTE",
          "CLECO<br>POWER",
          "NATURAL<br>RESOURCES<br>DEFENSE<br>COUNCIL",
          "LINDE",
          "BERKSHIRE<br>HATHAWAY<br>ENERGY",
          "AFLCIO",
          "CHEVRON",
          "ONE<br>GAS",
          "IMPERIAL<br>IRRIGATION<br>DISTRICT",
          "WEYERHAEUSER",
          "EXELON",
          "INSTITUTE<br>OF<br>ELECTRICAL<br>AND<br>ELECTRONICS<br>ENGINEERS",
          "UNIVERSITY<br>OF<br>PITTSBURGH",
          "BITUMINOUS<br>COAL<br>OPERATORS<br>ASSOCIATION",
          "AMERICAN<br>ASSOCIATION<br>OF<br>PETROLEUM<br>GEOLOGISTS",
          "BIOMASS<br>POWER<br>ASSOCIATION",
          "DEVON",
          "ALTERNATIVE<br>FUELS<br>CHEMICALS<br>COALITION",
          "BAYOTECH",
          "AMERICAN<br>COALITION<br>FOR<br>ETHANOL",
          "AMERICAN<br>COALITION<br>FOR<br>CLEAN<br>COAL<br>ELECTRICITY",
          "PRIMIENT",
          "HALLIBURTON",
          "GREIF",
          "ASSOCIATION<br>OF<br>OIL<br>PIPE<br>LINES",
          "AMERICAN<br>PUBLIC<br>POWER<br>ASSOCIATION",
          "AMERICAN<br>FORESTS",
          "GLENROCK<br>PETROLEUM",
          "AMERICAN<br>FOREST<br>RESOURCE<br>COUNCIL",
          "AMERICAN<br>FOREST<br>PAPER<br>ASSOCIATION",
          "AMERICAN<br>CHEMICAL<br>SOCIETY",
          "EASTMAN<br>CHEMICAL",
          "NET<br>NEGATIVE<br>CO2<br>BASELOAD<br>POWER",
          "GPA<br>MIDSTREAM<br>ASSOCIATION",
          "AMERICAN<br>BIOMASS<br>ENERGY<br>ASSOCIATION",
          "APEX<br>CLEAN<br>ENERGY",
          "APPALACHIAN<br>TRAIL<br>CONSERVANCY",
          "AMERICAN<br>FOREST<br>FOUNDATION",
          "SSAB<br>ENTERPRISES",
          "NATIONAL<br>RURAL<br>ELECTRIC<br>COOPERATIVE<br>ASSOCIATION",
          "AMERICANS<br>FOR<br>TAX<br>REFORM",
          "WASHINGTON<br>GAS<br>LIGHT",
          "AIR<br>LIQUIDE",
          "ACCELERGY",
          "COLIBRI<br>ENTERPRISES",
          "PACCAR",
          "COALITION<br>FOR<br>ENERGY<br>EFFICIENT<br>JOBS<br>INVESTMENT",
          "UIL-AVANGRID",
          "ADVANCED<br>BIOFUELS<br>ASSOCIATION",
          "ADVANTEK<br>WASTE<br>MANAGEMENT",
          "INTL<br>ASSOCIATION<br>OF<br>BRIDGE<br>STRUCTURAL<br>ORNAMENTAL<br>REINFORCING<br>IRON<br>WORKERS",
          "IOWA<br>STATE<br>UNIVERSITY",
          "COUNTY<br>OF<br>LOS<br>ANGELES",
          "AEROSEAL",
          "BLOOM<br>ENERGY",
          "OCCIDENTAL<br>PETROLEUM",
          "CARBON<br>GEOCAPTURE",
          "BP<br>AMERICA",
          "BWX<br>TECHNOLOGIES",
          "CAPTURA",
          "HEIRLOOM<br>CARBON<br>TECHNOLOGIES",
          "DELTA",
          "BUSINESS<br>ROUNDTABLE",
          "CALPORTLAND",
          "CALIFORNIA<br>STEEL<br>INDUSTRIES",
          "CARBON<br>ADVOCACY<br>PROJECT",
          "TOTAL",
          "NORTHWEST<br>NATURAL<br>HOLDING<br>COMPANY",
          "NATURAL<br>STATE<br>RENEWABLES",
          "AMERICAN<br>PUBLIC<br>TRANSPORTATION<br>ASSOCIATION",
          "CITIZENS<br>FOR<br>RESPONSIBLE<br>ENERGY<br>SOLUTIONS",
          "UNITED<br>MINE<br>WORKERS<br>OF<br>AMERICA",
          "HOLCIM",
          "FUEL<br>CELL<br>AND<br>HYDROGEN<br>ENERGY<br>ASSOCIATION",
          "NANO<br>TERRA",
          "LIGNITE<br>ENERGY<br>COUNCIL",
          "NEW<br>MEXICO<br>STATE<br>UNIVERSITY",
          "NORTHROP<br>GRUMMAN",
          "BRIMSTONE<br>ENERGY",
          "CHAMPAIGNURBANA<br>MASS<br>TRANSIT<br>DISTRICT",
          "FRAMATOME",
          "EDISON<br>ELECTRIC<br>INSTITUTE",
          "CENTER<br>FOR<br>INDIVIDUAL<br>FREEDOM",
          "PRAIRIE<br>STATE<br>GENERATING",
          "OHIO<br>STATE<br>UNIVERSITY",
          "AMERICAS<br>NATURAL<br>GAS<br>ALLIANCE",
          "AMERICAN<br>WIND<br>ENERGY<br>ASSOCIATION",
          "OBSIDIAN<br>RENEWABLES",
          "BMW",
          "NRG",
          "SCHNEIDER<br>ELECTRIC",
          "EVERGY",
          "NUCOR",
          "FALCON<br>ENERGY<br>STORAGE<br>HOLDINGS<br>CEI",
          "NATIONAL<br>WASTE<br>RECYCLING<br>ASSOCIATION",
          "CENTER<br>FOR<br>TRANSPORTATION<br>AND<br>ENVIRONMENT",
          "TELLUS<br>OPERATING",
          "GOODYEAR",
          "CASCADES",
          "PUBLIC<br>POWER<br>COUNCIL",
          "CARNEGIE<br>MELLON<br>UNIVERSITY",
          "US<br>VENTURE",
          "CLINE<br>RESOURCES",
          "PLUM<br>CREEK<br>TIMBER",
          "BROOKFIELD<br>ASSET<br>MANAGEMENT",
          "RICE<br>UNIVERSITY",
          "CMS<br>ENERGY",
          "INTERNATIONAL<br>UNION<br>OF<br>OPERATING<br>ENGINEERS",
          "MINNKOTA<br>POWER<br>COOPERATIVE",
          "RIO<br>TINTO",
          "CNX<br>RESOURCES",
          "TES<br>US<br>DEVELOPMENT",
          "CORN<br>REFINERS<br>ASSOCIATION",
          "MOVEONORG<br>CIVIC<br>ACTION",
          "NATIONAL<br>AUDUBON<br>SOCIETY",
          "GREAT<br>PLAINS<br>INSTITUTE",
          "COLORADO<br>SPRINGS<br>UTILITIES",
          "MICROSOFT",
          "POET",
          "TALLGRASS",
          "MISSOURI<br>RIVER<br>ENERGY",
          "WESTERN<br>ORGANIZATION<br>OF<br>RESOURCE<br>COUNCILS",
          "CSX",
          "CUMMINS",
          "GILA<br>COUNTY<br>AZ",
          "OCEAN<br>CONSERVANCY",
          "JAMESTOWN<br>BOARD<br>OF<br>PUBLIC<br>UTILITIES",
          "ALPHA<br>NATURAL<br>RESOURCES",
          "FRIENDS<br>COMMITTEE<br>ON<br>NATIONAL<br>LEGISLATION",
          "SUNRUN",
          "BLEDSOE<br>ASSOCIATES",
          "SVANTE",
          "PROCESS<br>ENERGY<br>SOLUTIONS",
          "QUIDNET<br>ENERGY",
          "PLUG<br>POWER",
          "RENTECH",
          "EOG<br>RESOURCES",
          "CCS<br>ALLIANCE",
          "CONSOLIDATED<br>EDISON",
          "CROWN<br>AGRO<br>FUELS",
          "UNITED<br>BROTHERHOOD<br>OF<br>CARPENTERS",
          "UNITED<br>AUTOMOBILE<br>AEROSPACE<br>AGRICULTURAL<br>IMPLEMENT<br>WORKERS",
          "BIPARTISAN<br>POLICY<br>CENTER",
          "TYSON<br>FOODS",
          "GLIDEPATH",
          "ASSOCIATED<br>UNIVERSITIES",
          "CLEAN<br>FUELS<br>ALLIANCE<br>AMERICA",
          "HYDROGEN<br>ENERGY<br>CALIFORNIA",
          "INTERNATIONAL<br>PAPER",
          "JACK<br>COOPER<br>TRANSPORT",
          "KANSAS<br>DEPARTMENT<br>OF<br>COMMERCE",
          "LS<br>POWER",
          "ALGONQUIN<br>POWER<br>UTILITIES",
          "MITSUBISHI",
          "WILDERNESS<br>SOCIETY",
          "NATIONAL<br>BUSINESS<br>AVIATION<br>ASSOCIATION",
          "NET<br>POWER",
          "NEW<br>GENERATION<br>BIOFUELS",
          "INTERNATIONAL<br>BROTHERHOOD<br>OF<br>TEAMSTERS",
          "CLARK<br>STREET<br>ASSOCIATES",
          "C2I",
          "SOLAMERICA<br>ENERGY",
          "MAGNOLIA<br>LNG",
          "NATIONAL<br>ASSOCIATION<br>OF<br>MANUFACTURERS",
          "CLEAN<br>HYDROGEN<br>FUTURE<br>COALITION",
          "UNITED<br>ASSOCIATION<br>OF<br>JOURNEYMEN<br>APPRENTICES<br>OF<br>PLUMBING<br>PIPEFITTING<br>INDUSTRY",
          "SIEMENS",
          "REWORLD",
          "TENNESSEE<br>VALLEY<br>PUBLIC<br>POWER<br>ASSOCIATION",
          "ABB",
          "INTERNATIONAL<br>UNION<br>OF<br>PAINTERS<br>AND<br>ALLIED<br>TRADES",
          "CARBONFUTURE",
          "CALIFORNIA<br>AGRICULTURAL<br>COMMISSIONERS<br>AND<br>SEALERS<br>ASSOCIATION",
          "NURO",
          "AES",
          "HONEYWELL<br>INTERNATIONAL",
          "MILESTONE<br>ENVIRONMENTAL",
          "AKERMIN",
          "OREGON<br>STATE<br>UNIVERSITY",
          "AECOM",
          "GRANT<br>COUNTY<br>PUBLIC<br>UTILITY<br>DISTRICT",
          "LANZAJET",
          "AMEREN",
          "NEBRASKA<br>FARM<br>BUREAU<br>FEDERATION",
          "LONGROAD<br>ENERGY<br>MANAGEMENT",
          "NATIONAL<br>GROUND<br>WATER<br>ASSOCIATION",
          "ENVIRONMENTAL<br>DEFENSE<br>FUND",
          "AMERICAN<br>WOOD<br>COUNCIL",
          "DIFFERENTIATED<br>GAS<br>COORDINATING<br>COUNCIL<br>COALITION",
          "ALGAE<br>BIOMASS<br>ORGANIZATION",
          "AEROJET<br>ROCKETDYNE",
          "DUKE",
          "NATIONAL<br>TAXPAYERS<br>UNION",
          "ARCH<br>RESOURCES",
          "ENI",
          "ENTERGY",
          "CLEAN<br>ENERGY<br>SYSTEMS",
          "ACLIMA",
          "NAFA<br>FLEET<br>MANAGEMENT<br>ASSOCIATION",
          "SUMMIT<br>POWER",
          "SOUTHERN<br>ENVIRONMENTAL<br>LAW<br>CENTER",
          "SOUTHERN<br>COMPANY",
          "NATIONAL<br>PROPANE<br>GAS<br>ASSOCIATION",
          "MASSACHUSETTS<br>INSTITUTE<br>OF<br>TECHNOLOGY",
          "WORLD<br>SHIPPING<br>COUNCIL",
          "BANK<br>OF<br>AMERICA",
          "FUTUREGEN<br>INDUSTRIAL<br>ALLIANCE",
          "CNOOC",
          "HYUNDAI<br>KIA",
          "INTERNATIONAL<br>ASSOCIATION<br>OF<br>MACHINISTS<br>AND<br>AEROSPACE<br>WORKERS",
          "ZERO<br>EMISSION<br>TRANSPORTATION<br>ASSOCIATION",
          "TITAN<br>OIL<br>RECOVERY",
          "FEDEX",
          "UNION<br>PACIFIC",
          "ENERGY<br>TRANSFER<br>PARTNERS",
          "CARBON<br>180",
          "VALERO",
          "COLONIAL<br>PIPELINE",
          "VERDAGY",
          "RIPE<br>ROADMAP",
          "NATIONAL<br>READY<br>MIXED<br>CONCRETE<br>ASSOCIATION",
          "SECURING<br>AMERICAS<br>FUTURE<br>ENERGY",
          "SOCIETY<br>FOR<br>INDUSTRIAL<br>AND<br>APPLIED<br>MATHEMATICS",
          "PEABODY",
          "BABCOCK<br>WILCOX",
          "SKYONIC",
          "GENERATORS<br>FOR<br>CLEAN<br>AIR",
          "CENTER<br>FOR<br>CLIMATE<br>AND<br>ENERGY<br>SOLUTIONS",
          "EQUINOR",
          "ALSTOM",
          "CEMEX",
          "BLACK<br>VEATCH",
          "GULFSAFE",
          "ASME",
          "AIRCONDITIONING<br>HEATING<br>REFRIGERATION<br>INSTITUTE",
          "US<br>WIND",
          "OHIO<br>MUNICIPAL<br>ELECTRIC<br>ASSOCIATION",
          "CARBON<br>ENGINEERING<br>ULC",
          "AMERICAN<br>CHEMISTRY<br>COUNCIL",
          "INTERNATIONAL<br>ASSOCIATION<br>OF<br>SHEET<br>METAL<br>AIR<br>RAIL<br>TRANSPORTATION<br>WORKERS",
          "NC12",
          "POTLATCHDELTIC",
          "MODERN<br>HYDROGEN",
          "ENERGY<br>FORWARD",
          "FIRST<br>SOLAR",
          "UNIVERSITY<br>OF<br>ROCHESTER",
          "CALPINE",
          "US<br>CHAMBER<br>OF<br>COMMERCE",
          "ITC<br>HOLDINGS",
          "TALON<br>NICKEL",
          "BREAKTHROUGH<br>ENERGY",
          "US<br>BIOCHAR<br>COALITION",
          "SIERRA<br>CLUB",
          "RAVEN<br>SR",
          "RENEWABLE<br>FUELS<br>ASSOCIATION",
          "RWE",
          "ZERO<br>CARBON<br>HYDROGEN<br>COALITION",
          "SOUTHWEST<br>AIRLINES",
          "PPL",
          "SALT<br>RIVER<br>PROJECT",
          "CATERPILLAR",
          "ANGLO<br>AMERICAN",
          "CHEMOURS",
          "BAKKEN<br>ENERGY",
          "ARKEMA",
          "AMERICAN<br>PETROLEUM<br>INSTITUTE",
          "CORNING",
          "POWDER<br>RIVER<br>ENERGY",
          "YALE<br>UNIVERSITY",
          "PINNACLE<br>WEST<br>CAPITAL",
          "PHILLIPS<br>66",
          "PENNSYLVANIA<br>FARM<br>BUREAU",
          "OX<br>PAPERBOARD",
          "SAZERAC",
          "ORSTED",
          "ORMAT<br>NEVADA",
          "ONEOK",
          "NUCLEAR<br>INNOVATION<br>ALLIANCE",
          "NLMK<br>PENNSYLVANIA",
          "NATIONAL<br>MINING<br>ASSOCIATION",
          "CALIFORNIA<br>STATE<br>ASSOCIATION<br>OF<br>COUNTIES",
          "CONSTELLATION<br>ENERGY",
          "NATIONAL<br>GRID",
          "MARATHON",
          "INTERNATIONAL<br>BROTHERHOOD<br>OF<br>BOILERMAKERS",
          "INDEPENDENT<br>PETROLEUM<br>ASSOCIATION<br>OF<br>AMERICA",
          "HONDA",
          "AMERICAN<br>TRANSMISSION",
          "GREATPOINT<br>ENERGY",
          "GEORGIA<br>INSTITUTE<br>OF<br>TECHNOLOGY",
          "FLUID<br>MARKET",
          "EVERSOURCE",
          "ENVIRONMENTAL<br>POWER",
          "ENTERPRISE<br>PRODUCTS<br>PARTNERS<br>LP",
          "CZERO",
          "METHANEX",
          "HIGHLY<br>INNOVATIVE<br>FUELS",
          "WILLIAMS<br>COMPANIES",
          "WILEY<br>REIN",
          "TRANS<br>CANADA",
          "VESTAS",
          "ROBERT<br>BOSCH",
          "PLASTIC<br>POLLUTION<br>COALITION",
          "ORIGIN<br>MATERIALS",
          "OHIO<br>UNIVERSITY",
          "CALIFORNIA<br>INSTITUTE<br>OF<br>TECHNOLOGY",
          "HUNTSMAN",
          "NATIONAL<br>ALLIANCE<br>OF<br>FOREST<br>OWNERS",
          "FIRSTENERGY",
          "DKRW",
          "UNIVERSITY<br>OF<br>ILLINOIS",
          "TECO",
          "ZURICH",
          "HAWAIIAN<br>AIRLINES",
          "XCEL<br>ENERGY",
          "PORTLAND<br>GENERAL<br>ELECTRIC",
          "EARTHJUSTICE"
         ],
         "marker": {
          "colors": [
           "darkgrey",
           "firebrick",
           "dimgrey",
           "darkgrey",
           "dimgrey",
           "cornflowerblue",
           "dimgrey",
           "dimgrey",
           "dimgrey",
           "dimgrey",
           "darkgrey",
           "dimgrey",
           "cornflowerblue",
           "cornflowerblue",
           "darkkhaki",
           "dimgrey",
           "dimgrey",
           "dimgrey",
           "cornflowerblue",
           "darkseagreen",
           "cornflowerblue",
           "firebrick",
           "dimgrey",
           "dimgrey",
           "darkkhaki",
           "dimgrey",
           "darkseagreen",
           "cornflowerblue",
           "darkgrey",
           "dimgrey",
           "dimgrey",
           "dimgrey",
           "dimgrey",
           "dimgrey",
           "darkgrey",
           "dimgrey",
           "dimgrey",
           "dimgrey",
           "dimgrey",
           "darkkhaki",
           "darkkhaki",
           "firebrick",
           "dimgrey",
           "dimgrey",
           "darkseagreen",
           "darkkhaki",
           "cornflowerblue",
           "dimgrey",
           "darkgrey",
           "darkgrey",
           "darkseagreen",
           "dimgrey",
           "darkgrey",
           "cornflowerblue",
           "cornflowerblue",
           "dimgrey",
           "dimgrey",
           "darkseagreen",
           "darkgrey",
           "dimgrey",
           "cornflowerblue",
           "darkkhaki",
           "dimgrey",
           "dimgrey",
           "darkkhaki",
           "dimgrey",
           "dimgrey",
           "darkseagreen",
           "dimgrey",
           "darkkhaki",
           "dimgrey",
           "dimgrey",
           "cornflowerblue",
           "dimgrey",
           "darkgrey",
           "dimgrey",
           "darkkhaki",
           "darkgrey",
           "dimgrey",
           "darkseagreen",
           "dimgrey",
           "darkkhaki",
           "firebrick",
           "dimgrey",
           "cornflowerblue",
           "dimgrey",
           "cornflowerblue",
           "cornflowerblue",
           "dimgrey",
           "darkgrey",
           "darkgrey",
           "cornflowerblue",
           "dimgrey",
           "darkkhaki",
           "dimgrey",
           "dimgrey",
           "darkgrey",
           "darkseagreen",
           "cornflowerblue",
           "darkseagreen",
           "darkkhaki",
           "darkgrey",
           "darkseagreen",
           "darkgrey",
           "darkseagreen",
           "darkkhaki",
           "dimgrey",
           "darkgrey",
           "dimgrey",
           "dimgrey",
           "darkseagreen",
           "dimgrey",
           "dimgrey",
           "darkgrey",
           "darkseagreen",
           "darkseagreen",
           "dimgrey",
           "dimgrey",
           "darkkhaki",
           "darkseagreen",
           "dimgrey",
           "dimgrey",
           "darkgrey",
           "dimgrey",
           "darkgrey",
           "cornflowerblue",
           "firebrick",
           "dimgrey",
           "dimgrey",
           "darkkhaki",
           "darkseagreen",
           "darkgrey",
           "cornflowerblue",
           "dimgrey",
           "dimgrey",
           "dimgrey",
           "firebrick",
           "darkseagreen",
           "dimgrey",
           "dimgrey",
           "darkseagreen",
           "dimgrey",
           "dimgrey",
           "dimgrey",
           "darkgrey",
           "dimgrey",
           "dimgrey",
           "darkkhaki",
           "dimgrey",
           "cornflowerblue",
           "darkkhaki",
           "darkseagreen",
           "darkgrey",
           "darkkhaki",
           "darkgrey",
           "dimgrey",
           "dimgrey",
           "dimgrey",
           "darkgrey",
           "darkgrey",
           "dimgrey",
           "dimgrey",
           "darkgrey",
           "darkseagreen",
           "darkseagreen",
           "dimgrey",
           "dimgrey",
           "dimgrey",
           "darkseagreen",
           "darkseagreen",
           "dimgrey",
           "dimgrey",
           "dimgrey",
           "darkgrey",
           "dimgrey",
           "darkkhaki",
           "darkgrey",
           "cornflowerblue",
           "dimgrey",
           "darkkhaki",
           "dimgrey",
           "darkseagreen",
           "darkkhaki",
           "dimgrey",
           "dimgrey",
           "darkgrey",
           "cornflowerblue",
           "cornflowerblue",
           "darkseagreen",
           "darkseagreen",
           "darkkhaki",
           "darkgrey",
           "dimgrey",
           "cornflowerblue",
           "dimgrey",
           "dimgrey",
           "cornflowerblue",
           "dimgrey",
           "dimgrey",
           "dimgrey",
           "darkkhaki",
           "darkgrey",
           "dimgrey",
           "dimgrey",
           "firebrick",
           "dimgrey",
           "cornflowerblue",
           "dimgrey",
           "cornflowerblue",
           "darkseagreen",
           "firebrick",
           "darkseagreen",
           "firebrick",
           "dimgrey",
           "darkgrey",
           "darkseagreen",
           "dimgrey",
           "darkkhaki",
           "darkseagreen",
           "darkgrey",
           "darkkhaki",
           "dimgrey",
           "darkseagreen",
           "darkgrey",
           "cornflowerblue",
           "darkseagreen",
           "darkgrey",
           "dimgrey",
           "dimgrey",
           "darkseagreen",
           "darkseagreen",
           "dimgrey",
           "dimgrey",
           "darkkhaki",
           "darkkhaki",
           "darkgrey",
           "darkseagreen",
           "darkkhaki",
           "darkkhaki",
           "darkgrey",
           "darkkhaki",
           "darkkhaki",
           "cornflowerblue",
           "cornflowerblue",
           "cornflowerblue",
           "darkkhaki",
           "darkkhaki",
           "darkgrey",
           "darkseagreen",
           "dimgrey",
           "dimgrey",
           "darkkhaki",
           "dimgrey",
           "darkkhaki",
           "dimgrey",
           "darkkhaki",
           "darkseagreen",
           "firebrick",
           "cornflowerblue",
           "cornflowerblue",
           "darkgrey",
           "darkseagreen",
           "darkkhaki",
           "cornflowerblue",
           "dimgrey",
           "cornflowerblue",
           "dimgrey",
           "darkkhaki",
           "cornflowerblue",
           "dimgrey",
           "firebrick",
           "firebrick",
           "cornflowerblue",
           "dimgrey",
           "firebrick",
           "cornflowerblue",
           "dimgrey",
           "darkgrey",
           "darkseagreen",
           "darkgrey",
           "dimgrey",
           "firebrick",
           "darkseagreen",
           "dimgrey",
           "darkseagreen",
           "darkgrey",
           "dimgrey",
           "dimgrey",
           "cornflowerblue",
           "firebrick",
           "dimgrey",
           "cornflowerblue",
           "dimgrey",
           "cornflowerblue",
           "darkseagreen",
           "darkseagreen",
           "dimgrey",
           "dimgrey",
           "dimgrey",
           "dimgrey",
           "dimgrey",
           "dimgrey",
           "dimgrey",
           "dimgrey",
           "cornflowerblue",
           "darkseagreen",
           "dimgrey",
           "darkgrey",
           "darkgrey",
           "cornflowerblue",
           "darkseagreen",
           "dimgrey",
           "darkgrey",
           "dimgrey",
           "cornflowerblue",
           "cornflowerblue",
           "dimgrey",
           "dimgrey",
           "dimgrey",
           "dimgrey",
           "dimgrey",
           "dimgrey",
           "darkseagreen",
           "dimgrey",
           "dimgrey",
           "cornflowerblue",
           "dimgrey",
           "dimgrey",
           "darkseagreen",
           "firebrick",
           "dimgrey",
           "cornflowerblue",
           "cornflowerblue",
           "dimgrey",
           "cornflowerblue",
           "darkgrey",
           "dimgrey",
           "darkgrey",
           "dimgrey",
           "darkgrey",
           "dimgrey",
           "darkkhaki",
           "dimgrey",
           "firebrick",
           "dimgrey",
           "dimgrey",
           "darkseagreen",
           "dimgrey",
           "firebrick",
           "firebrick",
           "dimgrey",
           "dimgrey",
           "dimgrey",
           "dimgrey",
           "darkgrey",
           "darkseagreen",
           "darkseagreen",
           "darkseagreen",
           "firebrick",
           "dimgrey",
           "cornflowerblue",
           "dimgrey",
           "dimgrey",
           "darkgrey",
           "darkkhaki",
           "darkgrey",
           "cornflowerblue",
           "dimgrey",
           "darkgrey",
           "dimgrey",
           "cornflowerblue",
           "cornflowerblue",
           "cornflowerblue",
           "darkkhaki",
           "darkgrey",
           "dimgrey",
           "dimgrey",
           "dimgrey",
           "darkseagreen",
           "dimgrey",
           "darkseagreen",
           "darkgrey",
           "cornflowerblue",
           "firebrick",
           "firebrick",
           "darkseagreen",
           "dimgrey",
           "dimgrey",
           "darkgrey",
           "darkgrey",
           "darkseagreen",
           "cornflowerblue",
           "firebrick",
           "darkgrey",
           "darkkhaki",
           "dimgrey",
           "cornflowerblue",
           "darkgrey",
           "firebrick",
           "cornflowerblue",
           "darkseagreen",
           "dimgrey",
           "cornflowerblue",
           "dimgrey",
           "cornflowerblue",
           "dimgrey",
           "darkseagreen",
           "darkseagreen",
           "darkgrey",
           "dimgrey",
           "darkgrey",
           "dimgrey",
           "firebrick",
           "darkseagreen",
           "darkseagreen",
           "cornflowerblue",
           "dimgrey",
           "darkgrey",
           "firebrick",
           "dimgrey",
           "cornflowerblue",
           "dimgrey",
           "dimgrey",
           "firebrick",
           "darkkhaki",
           "cornflowerblue",
           "dimgrey",
           "cornflowerblue",
           "dimgrey",
           "firebrick",
           "dimgrey",
           "darkseagreen",
           "darkgrey",
           "cornflowerblue",
           "darkseagreen",
           "darkkhaki",
           "dimgrey",
           "darkkhaki",
           "darkgrey",
           "dimgrey",
           "dimgrey",
           "darkseagreen",
           "darkgrey",
           "darkgrey",
           "cornflowerblue",
           "darkseagreen",
           "dimgrey",
           "dimgrey",
           "darkseagreen",
           "darkseagreen",
           "darkkhaki",
           "dimgrey",
           "darkseagreen",
           "darkseagreen",
           "darkgrey",
           "darkgrey",
           "dimgrey",
           "dimgrey",
           "dimgrey",
           "dimgrey",
           "cornflowerblue",
           "cornflowerblue",
           "cornflowerblue",
           "darkkhaki",
           "darkseagreen",
           "cornflowerblue",
           "darkgrey",
           "dimgrey",
           "firebrick",
           "darkgrey",
           "cornflowerblue",
           "dimgrey",
           "dimgrey",
           "darkgrey",
           "darkseagreen",
           "darkgrey",
           "dimgrey",
           "darkgrey",
           "cornflowerblue",
           "darkkhaki",
           "darkkhaki",
           "darkseagreen",
           "dimgrey",
           "cornflowerblue",
           "dimgrey",
           "cornflowerblue",
           "darkgrey",
           "darkgrey",
           "dimgrey",
           "darkkhaki",
           "cornflowerblue",
           "darkseagreen",
           "darkkhaki",
           "darkgrey",
           "dimgrey",
           "darkgrey",
           "dimgrey",
           "dimgrey",
           "cornflowerblue",
           "darkkhaki",
           "dimgrey",
           "darkgrey",
           "dimgrey",
           "darkkhaki",
           "darkseagreen",
           "darkseagreen",
           "darkseagreen",
           "firebrick",
           "dimgrey",
           "dimgrey",
           "darkgrey",
           "dimgrey",
           "cornflowerblue",
           "dimgrey",
           "dimgrey",
           "dimgrey",
           "dimgrey",
           "darkkhaki",
           "darkgrey",
           "dimgrey",
           "darkseagreen",
           "dimgrey",
           "dimgrey",
           "cornflowerblue",
           "darkgrey",
           "darkkhaki",
           "dimgrey",
           "dimgrey",
           "darkgrey",
           "cornflowerblue",
           "darkseagreen",
           "dimgrey",
           "darkgrey",
           "darkgrey",
           "dimgrey",
           "darkseagreen",
           "dimgrey",
           "dimgrey",
           "dimgrey",
           "darkseagreen",
           "firebrick",
           "cornflowerblue",
           "cornflowerblue",
           "dimgrey",
           "darkgrey",
           "darkseagreen",
           "dimgrey",
           "darkseagreen",
           "dimgrey",
           "darkgrey",
           "firebrick",
           "darkkhaki",
           "dimgrey",
           "darkkhaki",
           "darkkhaki",
           "darkseagreen",
           "dimgrey",
           "dimgrey",
           "dimgrey",
           "cornflowerblue",
           "dimgrey",
           "firebrick",
           "dimgrey",
           "dimgrey",
           "darkseagreen",
           "cornflowerblue",
           "dimgrey",
           "cornflowerblue",
           "dimgrey",
           "firebrick",
           "darkkhaki",
           "darkseagreen",
           "darkseagreen",
           "darkgrey",
           "darkgrey",
           "dimgrey",
           "dimgrey",
           "darkgrey",
           "dimgrey",
           "dimgrey",
           "darkgrey",
           "firebrick",
           "dimgrey",
           "dimgrey",
           "dimgrey",
           "dimgrey",
           "darkseagreen",
           "dimgrey",
           "cornflowerblue",
           "dimgrey",
           "dimgrey",
           "darkkhaki",
           "firebrick",
           "darkkhaki",
           "darkseagreen",
           "darkseagreen",
           "dimgrey",
           "darkseagreen",
           "firebrick",
           "firebrick",
           "cornflowerblue",
           "dimgrey",
           "dimgrey",
           "dimgrey",
           "cornflowerblue",
           "dimgrey",
           "darkgrey",
           "dimgrey",
           "dimgrey",
           "cornflowerblue",
           "darkgrey",
           "dimgrey",
           "darkgrey",
           "dimgrey",
           "dimgrey",
           "dimgrey",
           "darkseagreen",
           "dimgrey",
           "darkkhaki",
           "dimgrey",
           "darkseagreen",
           "darkkhaki",
           "darkseagreen",
           "dimgrey",
           "cornflowerblue",
           "cornflowerblue",
           "dimgrey",
           "firebrick",
           "dimgrey",
           "dimgrey",
           "cornflowerblue",
           "dimgrey",
           "darkkhaki",
           "darkgrey",
           "dimgrey",
           "dimgrey",
           "darkseagreen"
          ],
          "line": {
           "width": 0.1
          }
         },
         "name": "",
         "parents": [
          "",
          "",
          "",
          "",
          "",
          "",
          "",
          "",
          "",
          "",
          "",
          "",
          "",
          "",
          "",
          "",
          "",
          "",
          "",
          "",
          "",
          "",
          "",
          "",
          "",
          "",
          "",
          "",
          "",
          "",
          "",
          "",
          "",
          "",
          "",
          "",
          "",
          "",
          "",
          "",
          "",
          "",
          "",
          "",
          "",
          "",
          "",
          "",
          "",
          "",
          "",
          "",
          "",
          "",
          "",
          "",
          "",
          "",
          "",
          "",
          "",
          "",
          "",
          "",
          "",
          "",
          "",
          "",
          "",
          "",
          "",
          "",
          "",
          "",
          "",
          "",
          "",
          "",
          "",
          "",
          "",
          "",
          "",
          "",
          "",
          "",
          "",
          "",
          "",
          "",
          "",
          "",
          "",
          "",
          "",
          "",
          "",
          "",
          "",
          "",
          "",
          "",
          "",
          "",
          "",
          "",
          "",
          "",
          "",
          "",
          "",
          "",
          "",
          "",
          "",
          "",
          "",
          "",
          "",
          "",
          "",
          "",
          "",
          "",
          "",
          "",
          "",
          "",
          "",
          "",
          "",
          "",
          "",
          "",
          "",
          "",
          "",
          "",
          "",
          "",
          "",
          "",
          "",
          "",
          "",
          "",
          "",
          "",
          "",
          "",
          "",
          "",
          "",
          "",
          "",
          "",
          "",
          "",
          "",
          "",
          "",
          "",
          "",
          "",
          "",
          "",
          "",
          "",
          "",
          "",
          "",
          "",
          "",
          "",
          "",
          "",
          "",
          "",
          "",
          "",
          "",
          "",
          "",
          "",
          "",
          "",
          "",
          "",
          "",
          "",
          "",
          "",
          "",
          "",
          "",
          "",
          "",
          "",
          "",
          "",
          "",
          "",
          "",
          "",
          "",
          "",
          "",
          "",
          "",
          "",
          "",
          "",
          "",
          "",
          "",
          "",
          "",
          "",
          "",
          "",
          "",
          "",
          "",
          "",
          "",
          "",
          "",
          "",
          "",
          "",
          "",
          "",
          "",
          "",
          "",
          "",
          "",
          "",
          "",
          "",
          "",
          "",
          "",
          "",
          "",
          "",
          "",
          "",
          "",
          "",
          "",
          "",
          "",
          "",
          "",
          "",
          "",
          "",
          "",
          "",
          "",
          "",
          "",
          "",
          "",
          "",
          "",
          "",
          "",
          "",
          "",
          "",
          "",
          "",
          "",
          "",
          "",
          "",
          "",
          "",
          "",
          "",
          "",
          "",
          "",
          "",
          "",
          "",
          "",
          "",
          "",
          "",
          "",
          "",
          "",
          "",
          "",
          "",
          "",
          "",
          "",
          "",
          "",
          "",
          "",
          "",
          "",
          "",
          "",
          "",
          "",
          "",
          "",
          "",
          "",
          "",
          "",
          "",
          "",
          "",
          "",
          "",
          "",
          "",
          "",
          "",
          "",
          "",
          "",
          "",
          "",
          "",
          "",
          "",
          "",
          "",
          "",
          "",
          "",
          "",
          "",
          "",
          "",
          "",
          "",
          "",
          "",
          "",
          "",
          "",
          "",
          "",
          "",
          "",
          "",
          "",
          "",
          "",
          "",
          "",
          "",
          "",
          "",
          "",
          "",
          "",
          "",
          "",
          "",
          "",
          "",
          "",
          "",
          "",
          "",
          "",
          "",
          "",
          "",
          "",
          "",
          "",
          "",
          "",
          "",
          "",
          "",
          "",
          "",
          "",
          "",
          "",
          "",
          "",
          "",
          "",
          "",
          "",
          "",
          "",
          "",
          "",
          "",
          "",
          "",
          "",
          "",
          "",
          "",
          "",
          "",
          "",
          "",
          "",
          "",
          "",
          "",
          "",
          "",
          "",
          "",
          "",
          "",
          "",
          "",
          "",
          "",
          "",
          "",
          "",
          "",
          "",
          "",
          "",
          "",
          "",
          "",
          "",
          "",
          "",
          "",
          "",
          "",
          "",
          "",
          "",
          "",
          "",
          "",
          "",
          "",
          "",
          "",
          "",
          "",
          "",
          "",
          "",
          "",
          "",
          "",
          "",
          "",
          "",
          "",
          "",
          "",
          "",
          "",
          "",
          "",
          "",
          "",
          "",
          "",
          "",
          "",
          "",
          "",
          "",
          "",
          "",
          "",
          "",
          "",
          "",
          "",
          "",
          "",
          "",
          "",
          "",
          "",
          "",
          "",
          "",
          "",
          "",
          "",
          "",
          "",
          "",
          "",
          "",
          "",
          "",
          "",
          "",
          "",
          "",
          "",
          "",
          "",
          "",
          "",
          "",
          "",
          "",
          "",
          "",
          "",
          "",
          "",
          "",
          "",
          "",
          "",
          "",
          "",
          "",
          "",
          "",
          "",
          "",
          "",
          "",
          "",
          "",
          "",
          "",
          "",
          "",
          "",
          "",
          "",
          "",
          "",
          "",
          "",
          "",
          "",
          "",
          "",
          "",
          "",
          "",
          "",
          "",
          "",
          "",
          "",
          "",
          "",
          "",
          "",
          "",
          "",
          "",
          "",
          "",
          "",
          "",
          "",
          "",
          "",
          "",
          "",
          "",
          "",
          "",
          "",
          "",
          "",
          "",
          "",
          "",
          "",
          "",
          "",
          "",
          "",
          "",
          "",
          "",
          "",
          "",
          "",
          "",
          "",
          "",
          "",
          "",
          "",
          "",
          "",
          "",
          "",
          "",
          "",
          "",
          "",
          "",
          "",
          "",
          "",
          "",
          "",
          "",
          "",
          "",
          "",
          "",
          "",
          "",
          "",
          "",
          "",
          "",
          "",
          "",
          "",
          "",
          "",
          "",
          "",
          "",
          ""
         ],
         "type": "treemap",
         "values": [
          26666.666666666664,
          20000,
          1529965.3679653679,
          855322.1038031973,
          236349.20634920633,
          36382.97872340425,
          343628,
          279200,
          1115667.6349965823,
          490000,
          37500,
          240000,
          51052.08333333333,
          33333.33333333333,
          1500079.3470095156,
          670000,
          175000,
          20000,
          17142.85714285714,
          205018.67241747986,
          62857.142857142855,
          702321.4285714285,
          157719.78333333333,
          210000,
          2000,
          140000,
          536666.6666666666,
          21818.181818181823,
          52500,
          130000,
          2746477.4967661025,
          160000,
          2401672.4580430463,
          390000,
          1425699.494949495,
          10000,
          1510912.5171428572,
          657000,
          12666.666666666666,
          1004221.049070846,
          14166.666666666666,
          8779.73,
          30000,
          2444431.602625101,
          370000,
          1020000,
          20000,
          394000,
          201494.36090225563,
          3845277.777777778,
          150000,
          1083970.319535537,
          446666.6666666666,
          7692.307692307692,
          3400,
          173333.33333333334,
          1100000,
          55000,
          15000,
          570000,
          136380.95238095237,
          6673.160173160172,
          250000,
          589168.8596491228,
          21558.44155844156,
          10000,
          30000,
          55000,
          705494.3302087601,
          120000,
          1080209.7331632935,
          93333.33333333331,
          105000,
          305000,
          5147196.35485217,
          2195566.703238095,
          154289,
          530000,
          20000,
          69040.40404040404,
          370000,
          10000,
          31961,
          2500,
          200000,
          53800,
          10000,
          15000,
          7500,
          310000,
          400000,
          120000,
          202500,
          262216.6666666666,
          65591.54583333334,
          1409268.0675860087,
          40615.38461538462,
          1921031.9611144473,
          36000,
          76666.66666666666,
          24000,
          565000,
          50000,
          807387.3666666667,
          147142.85714285713,
          30000,
          9082007.123611167,
          196666.66666666666,
          50000,
          730000,
          1184860.7313738891,
          1239417.7630952275,
          130000,
          2222.222222222222,
          120000,
          175000,
          223891.74714174712,
          22090466.793380402,
          1763581.33149138,
          39555.555555555555,
          434321.4285714286,
          57222.22222222222,
          2299495.133890523,
          3754344.833333333,
          15000,
          13928.571428571428,
          9650.25,
          35833.333333333336,
          699815.0183150183,
          191250.6121794872,
          559090.9090909091,
          64000,
          59659.02682143091,
          300000,
          490000,
          58333.33333333333,
          20000,
          6463.5,
          20484178.73733051,
          1722938.3116883116,
          328000,
          615333.3333333334,
          13453989.008625012,
          7929857.142857143,
          600466.6666666666,
          631601.426984127,
          80000,
          145000,
          6046588.629399586,
          22500,
          60000,
          2231967.507857143,
          993333.3333333333,
          179999.99999999997,
          37500,
          90000,
          50000,
          13000,
          41012.98701298701,
          60000,
          30000,
          126234.44976076555,
          10000,
          100000,
          322631.2,
          163928.57142857142,
          83333.33333333331,
          200000,
          6666.666666666666,
          83482.09,
          189500,
          22600,
          1741435.5717615718,
          616666.6666666666,
          797203.663003663,
          390598.3333333333,
          300000,
          452000,
          649999.9999999999,
          148500,
          170000,
          1245064.8592033556,
          364000,
          160000,
          4805920.468914958,
          449500,
          8333.333333333332,
          440000,
          205000,
          29551.28205128205,
          4000,
          11888.11188811189,
          1873626.9841269841,
          101666.66666666666,
          10000,
          524571.4285714285,
          10000,
          595731.244949495,
          233446.83257918552,
          1730000,
          119166.66666666666,
          738571.4285714285,
          96000,
          1405750,
          70000,
          275554.44555444556,
          64404.7619047619,
          217237,
          3333.333333333333,
          36790.33333333333,
          93166.66666666667,
          160000,
          200357.14285714284,
          122500,
          231428.57142857142,
          350000,
          1020000,
          70000,
          300000,
          10000,
          450000,
          39097268.03846496,
          343333.3333333333,
          115000,
          61819.04761904761,
          2222.222222222222,
          10000,
          110000,
          129182.54000000001,
          20000,
          182500,
          60000,
          2029000,
          220000,
          174395.85582417581,
          17872.340425531915,
          99999.99999999999,
          591056.277056277,
          91000,
          32142.85714285714,
          2500000,
          45833.33333333333,
          4285.714285714285,
          412598.1106080194,
          245000,
          286000,
          187571.42857142855,
          170065.73251310093,
          480000,
          760866.5501165502,
          10000,
          90000,
          108000,
          238839.22477522478,
          1635239.441114441,
          10000,
          128000,
          3445685.180144932,
          8511,
          45668.11363636363,
          2760340.6964285714,
          220000,
          38000,
          17142.85714285714,
          480000,
          70959.59595959596,
          190000,
          2857.142857142857,
          72018.00092017483,
          1740194.5083333333,
          42500,
          30000,
          73750,
          81000,
          300000,
          78889.16666666666,
          340000,
          10000,
          60000,
          237500,
          230000,
          276857.14285714284,
          229999.99999999997,
          3511016.160310278,
          93871.7247962852,
          219999.99999999997,
          2223857.1428571427,
          890571.4285714285,
          11513.157894736842,
          1948587.1318224259,
          24000,
          79008.92857142857,
          271750,
          15000,
          420000,
          3220009.0507494863,
          70000,
          40000,
          1683899.6619047618,
          463703.7037037037,
          45000,
          360000,
          5856231.454358616,
          376666.6666666666,
          12857.142857142855,
          334833.322,
          195000,
          450000,
          590226.0529115342,
          15844.155844155845,
          145000,
          20000,
          1700833.3333333333,
          160000,
          22402.5974025974,
          10717.333333333332,
          24000,
          28000,
          40000,
          390000,
          90000,
          1080000,
          131694.8732718894,
          4363748.773448774,
          4222150.227626924,
          2892151.438044791,
          17423384.399203707,
          60000,
          50000,
          1066534.9227260991,
          4538888.654563073,
          23761.90476190476,
          588869.0476190476,
          674415.1666666666,
          2000,
          192500,
          18000,
          8640,
          780000,
          90000,
          73333.33333333333,
          20000,
          609288.8888888889,
          56594.75,
          110000,
          934627.1507772855,
          105714.28571428571,
          39999.99999999999,
          37500,
          361530.612244898,
          85835.77533577534,
          1336556.3725490198,
          18750,
          83333.33333333333,
          40000,
          356666.6666666666,
          9858.666666666666,
          8236.5,
          86666.66666666666,
          7337655.311579953,
          54250,
          1025214.4761904761,
          4323833.333333333,
          229444.44444444444,
          130000,
          68571.42857142857,
          300000,
          1262941.5415754681,
          110000,
          25000,
          107519.48051948052,
          42030.41982295482,
          20000,
          30000,
          2105000,
          69430899.80586472,
          290000,
          14957983.864516826,
          655848.2992666563,
          233000,
          255000,
          1760842.6399471175,
          417500,
          321904.7619047619,
          16250,
          290000,
          200000,
          420000,
          30000,
          334000,
          1429333.3333333333,
          3217826.3673809525,
          1151405.7971014492,
          237142.85714285713,
          20000,
          300000,
          34000,
          77142.85714285714,
          77500,
          10500,
          29333.333333333332,
          27642270.71965191,
          3540,
          490000,
          16666.666666666664,
          112684.18201516791,
          60000,
          40000,
          1355000,
          3858686.6666666665,
          87058.82352941176,
          207136.44688644688,
          70869.5652173913,
          60000,
          9381.598793363499,
          60000,
          150000,
          90000,
          29490,
          79303.40000000001,
          40523.80952380953,
          30000,
          20000,
          594375,
          26666.666666666664,
          44357.142857142855,
          2649783.2204832206,
          773319.6248196248,
          195000,
          1570829.365079365,
          1190000,
          290000,
          79047.61904761905,
          454.54545454545456,
          6567.460317460317,
          326333.3333333333,
          3750,
          671296.4903090623,
          4264347.355543008,
          845000,
          172406.8333333333,
          2755.46,
          952757.5598214285,
          1010044.8630952381,
          258000,
          169770.8333333333,
          100000,
          1968523.15,
          341261.52045056614,
          202000,
          20000,
          590000,
          20000,
          119999.99999999999,
          3379333.333333333,
          161428.57142857142,
          99428.57142857142,
          860000,
          160476.19047619047,
          20000,
          45454.545454545456,
          284236.6707366707,
          1189484.011118599,
          418277.47252747254,
          60000,
          30000,
          742521.5,
          550000,
          16666.666666666664,
          100000,
          3875,
          87000,
          64357.142857142855,
          194766.66666666666,
          431289.37728937727,
          1062682.5396825396,
          110000,
          5000,
          79136.60869565218,
          4444.444444444444,
          280000,
          32500,
          64285.71428571428,
          3809657.745714367,
          225000,
          812523.8095238095,
          2841612.382168725,
          3537999.9999999995,
          40000,
          49696.969696969696,
          140152.18115218115,
          397254,
          23333.333333333332,
          51666.666666666664,
          467948.71794871794,
          7313587.187114073,
          60000,
          510000,
          5000,
          12307.692307692309,
          15000,
          155555.55555555553,
          4044134.353980026,
          8000,
          96666.66666666666,
          36666.666666666664,
          596357.9954022989,
          175808.0808080808,
          60000,
          21166.666666666664,
          52402.5974025974,
          16667627.645076498,
          11012.897484814217,
          1814167.193917194,
          13333.333333333332,
          4878936.507936507,
          170000,
          258000,
          19000,
          630000,
          353357.14285714284,
          54131272.989426345,
          326807.64510089456,
          13533.035714285714,
          420000,
          97142.85714285713,
          1415000,
          658333.3333333333,
          612229.4372294372,
          62903.22580645161,
          290000,
          20000,
          111333.33333333333,
          1899691.1746031747,
          1040000,
          22500,
          2848107.1428571427,
          265571.4285714286,
          80000,
          40000,
          530021.9464285714,
          37166.666666666664,
          34480.51948051948,
          12095196.16587833,
          476666.6666666667,
          55000,
          240000,
          104166.66666666666,
          3050470.092131857,
          3511970.7342490843,
          1964801,
          151500,
          2236.333333333333,
          435500,
          367183.4,
          2166.6666666666665,
          699466.8333333334,
          432000,
          6867742.625795257,
          1396640.6214257963,
          90000,
          14000,
          40000,
          5090000,
          200000,
          16666.666666666664,
          13678628.759398496,
          14445922.976467038,
          1065714.2857142857,
          160000,
          2075285.7142857143,
          15000,
          360972.4457464732,
          170000,
          2339549.996989079,
          190000,
          440000,
          407500,
          1636063.1868131869,
          2107903.9294039295,
          108030.30303030304,
          280000,
          130000,
          360000,
          75337.1266002845,
          8462076.75623642,
          124185.31468531469,
          40000,
          153142.85714285713,
          1250166.6666666665,
          7192503.746253747,
          4440.22644022644,
          1510.5,
          100000,
          260000,
          55681.818181818184,
          1578500,
          100000,
          12500,
          6329002.585460049,
          12444.444444444445,
          4139776.791097507,
          5278643.171914298,
          5612884.487638115,
          1441325,
          353308.85054945055,
          538844.1515849741,
          15000,
          77142.85714285713,
          56666.666666666664,
          70000,
          471611.51767676766,
          10000,
          63333.33333333333,
          120000,
          40000,
          270000,
          4842500,
          110000,
          9440000,
          190000,
          151833.33333333334,
          40000,
          8333.333333333332,
          78596.73659673659,
          72000,
          1750000,
          1935712.8914070698,
          3047237.6383644654,
          390000,
          145105.05050505052,
          2043444.9882117882,
          2082201.7255223456,
          160000,
          4420498.5569985565,
          596545.4545454546,
          622977.2727894256
         ]
        }
       ],
       "layout": {
        "font": {
         "size": 60
        },
        "height": 800,
        "legend": {
         "tracegroupgap": 0
        },
        "margin": {
         "b": 25,
         "l": 25,
         "r": 25,
         "t": 25
        },
        "template": {
         "data": {
          "bar": [
           {
            "error_x": {
             "color": "#2a3f5f"
            },
            "error_y": {
             "color": "#2a3f5f"
            },
            "marker": {
             "line": {
              "color": "#E5ECF6",
              "width": 0.5
             },
             "pattern": {
              "fillmode": "overlay",
              "size": 10,
              "solidity": 0.2
             }
            },
            "type": "bar"
           }
          ],
          "barpolar": [
           {
            "marker": {
             "line": {
              "color": "#E5ECF6",
              "width": 0.5
             },
             "pattern": {
              "fillmode": "overlay",
              "size": 10,
              "solidity": 0.2
             }
            },
            "type": "barpolar"
           }
          ],
          "carpet": [
           {
            "aaxis": {
             "endlinecolor": "#2a3f5f",
             "gridcolor": "white",
             "linecolor": "white",
             "minorgridcolor": "white",
             "startlinecolor": "#2a3f5f"
            },
            "baxis": {
             "endlinecolor": "#2a3f5f",
             "gridcolor": "white",
             "linecolor": "white",
             "minorgridcolor": "white",
             "startlinecolor": "#2a3f5f"
            },
            "type": "carpet"
           }
          ],
          "choropleth": [
           {
            "colorbar": {
             "outlinewidth": 0,
             "ticks": ""
            },
            "type": "choropleth"
           }
          ],
          "contour": [
           {
            "colorbar": {
             "outlinewidth": 0,
             "ticks": ""
            },
            "colorscale": [
             [
              0,
              "#0d0887"
             ],
             [
              0.1111111111111111,
              "#46039f"
             ],
             [
              0.2222222222222222,
              "#7201a8"
             ],
             [
              0.3333333333333333,
              "#9c179e"
             ],
             [
              0.4444444444444444,
              "#bd3786"
             ],
             [
              0.5555555555555556,
              "#d8576b"
             ],
             [
              0.6666666666666666,
              "#ed7953"
             ],
             [
              0.7777777777777778,
              "#fb9f3a"
             ],
             [
              0.8888888888888888,
              "#fdca26"
             ],
             [
              1,
              "#f0f921"
             ]
            ],
            "type": "contour"
           }
          ],
          "contourcarpet": [
           {
            "colorbar": {
             "outlinewidth": 0,
             "ticks": ""
            },
            "type": "contourcarpet"
           }
          ],
          "heatmap": [
           {
            "colorbar": {
             "outlinewidth": 0,
             "ticks": ""
            },
            "colorscale": [
             [
              0,
              "#0d0887"
             ],
             [
              0.1111111111111111,
              "#46039f"
             ],
             [
              0.2222222222222222,
              "#7201a8"
             ],
             [
              0.3333333333333333,
              "#9c179e"
             ],
             [
              0.4444444444444444,
              "#bd3786"
             ],
             [
              0.5555555555555556,
              "#d8576b"
             ],
             [
              0.6666666666666666,
              "#ed7953"
             ],
             [
              0.7777777777777778,
              "#fb9f3a"
             ],
             [
              0.8888888888888888,
              "#fdca26"
             ],
             [
              1,
              "#f0f921"
             ]
            ],
            "type": "heatmap"
           }
          ],
          "heatmapgl": [
           {
            "colorbar": {
             "outlinewidth": 0,
             "ticks": ""
            },
            "colorscale": [
             [
              0,
              "#0d0887"
             ],
             [
              0.1111111111111111,
              "#46039f"
             ],
             [
              0.2222222222222222,
              "#7201a8"
             ],
             [
              0.3333333333333333,
              "#9c179e"
             ],
             [
              0.4444444444444444,
              "#bd3786"
             ],
             [
              0.5555555555555556,
              "#d8576b"
             ],
             [
              0.6666666666666666,
              "#ed7953"
             ],
             [
              0.7777777777777778,
              "#fb9f3a"
             ],
             [
              0.8888888888888888,
              "#fdca26"
             ],
             [
              1,
              "#f0f921"
             ]
            ],
            "type": "heatmapgl"
           }
          ],
          "histogram": [
           {
            "marker": {
             "pattern": {
              "fillmode": "overlay",
              "size": 10,
              "solidity": 0.2
             }
            },
            "type": "histogram"
           }
          ],
          "histogram2d": [
           {
            "colorbar": {
             "outlinewidth": 0,
             "ticks": ""
            },
            "colorscale": [
             [
              0,
              "#0d0887"
             ],
             [
              0.1111111111111111,
              "#46039f"
             ],
             [
              0.2222222222222222,
              "#7201a8"
             ],
             [
              0.3333333333333333,
              "#9c179e"
             ],
             [
              0.4444444444444444,
              "#bd3786"
             ],
             [
              0.5555555555555556,
              "#d8576b"
             ],
             [
              0.6666666666666666,
              "#ed7953"
             ],
             [
              0.7777777777777778,
              "#fb9f3a"
             ],
             [
              0.8888888888888888,
              "#fdca26"
             ],
             [
              1,
              "#f0f921"
             ]
            ],
            "type": "histogram2d"
           }
          ],
          "histogram2dcontour": [
           {
            "colorbar": {
             "outlinewidth": 0,
             "ticks": ""
            },
            "colorscale": [
             [
              0,
              "#0d0887"
             ],
             [
              0.1111111111111111,
              "#46039f"
             ],
             [
              0.2222222222222222,
              "#7201a8"
             ],
             [
              0.3333333333333333,
              "#9c179e"
             ],
             [
              0.4444444444444444,
              "#bd3786"
             ],
             [
              0.5555555555555556,
              "#d8576b"
             ],
             [
              0.6666666666666666,
              "#ed7953"
             ],
             [
              0.7777777777777778,
              "#fb9f3a"
             ],
             [
              0.8888888888888888,
              "#fdca26"
             ],
             [
              1,
              "#f0f921"
             ]
            ],
            "type": "histogram2dcontour"
           }
          ],
          "mesh3d": [
           {
            "colorbar": {
             "outlinewidth": 0,
             "ticks": ""
            },
            "type": "mesh3d"
           }
          ],
          "parcoords": [
           {
            "line": {
             "colorbar": {
              "outlinewidth": 0,
              "ticks": ""
             }
            },
            "type": "parcoords"
           }
          ],
          "pie": [
           {
            "automargin": true,
            "type": "pie"
           }
          ],
          "scatter": [
           {
            "fillpattern": {
             "fillmode": "overlay",
             "size": 10,
             "solidity": 0.2
            },
            "type": "scatter"
           }
          ],
          "scatter3d": [
           {
            "line": {
             "colorbar": {
              "outlinewidth": 0,
              "ticks": ""
             }
            },
            "marker": {
             "colorbar": {
              "outlinewidth": 0,
              "ticks": ""
             }
            },
            "type": "scatter3d"
           }
          ],
          "scattercarpet": [
           {
            "marker": {
             "colorbar": {
              "outlinewidth": 0,
              "ticks": ""
             }
            },
            "type": "scattercarpet"
           }
          ],
          "scattergeo": [
           {
            "marker": {
             "colorbar": {
              "outlinewidth": 0,
              "ticks": ""
             }
            },
            "type": "scattergeo"
           }
          ],
          "scattergl": [
           {
            "marker": {
             "colorbar": {
              "outlinewidth": 0,
              "ticks": ""
             }
            },
            "type": "scattergl"
           }
          ],
          "scattermapbox": [
           {
            "marker": {
             "colorbar": {
              "outlinewidth": 0,
              "ticks": ""
             }
            },
            "type": "scattermapbox"
           }
          ],
          "scatterpolar": [
           {
            "marker": {
             "colorbar": {
              "outlinewidth": 0,
              "ticks": ""
             }
            },
            "type": "scatterpolar"
           }
          ],
          "scatterpolargl": [
           {
            "marker": {
             "colorbar": {
              "outlinewidth": 0,
              "ticks": ""
             }
            },
            "type": "scatterpolargl"
           }
          ],
          "scatterternary": [
           {
            "marker": {
             "colorbar": {
              "outlinewidth": 0,
              "ticks": ""
             }
            },
            "type": "scatterternary"
           }
          ],
          "surface": [
           {
            "colorbar": {
             "outlinewidth": 0,
             "ticks": ""
            },
            "colorscale": [
             [
              0,
              "#0d0887"
             ],
             [
              0.1111111111111111,
              "#46039f"
             ],
             [
              0.2222222222222222,
              "#7201a8"
             ],
             [
              0.3333333333333333,
              "#9c179e"
             ],
             [
              0.4444444444444444,
              "#bd3786"
             ],
             [
              0.5555555555555556,
              "#d8576b"
             ],
             [
              0.6666666666666666,
              "#ed7953"
             ],
             [
              0.7777777777777778,
              "#fb9f3a"
             ],
             [
              0.8888888888888888,
              "#fdca26"
             ],
             [
              1,
              "#f0f921"
             ]
            ],
            "type": "surface"
           }
          ],
          "table": [
           {
            "cells": {
             "fill": {
              "color": "#EBF0F8"
             },
             "line": {
              "color": "white"
             }
            },
            "header": {
             "fill": {
              "color": "#C8D4E3"
             },
             "line": {
              "color": "white"
             }
            },
            "type": "table"
           }
          ]
         },
         "layout": {
          "annotationdefaults": {
           "arrowcolor": "#2a3f5f",
           "arrowhead": 0,
           "arrowwidth": 1
          },
          "autotypenumbers": "strict",
          "coloraxis": {
           "colorbar": {
            "outlinewidth": 0,
            "ticks": ""
           }
          },
          "colorscale": {
           "diverging": [
            [
             0,
             "#8e0152"
            ],
            [
             0.1,
             "#c51b7d"
            ],
            [
             0.2,
             "#de77ae"
            ],
            [
             0.3,
             "#f1b6da"
            ],
            [
             0.4,
             "#fde0ef"
            ],
            [
             0.5,
             "#f7f7f7"
            ],
            [
             0.6,
             "#e6f5d0"
            ],
            [
             0.7,
             "#b8e186"
            ],
            [
             0.8,
             "#7fbc41"
            ],
            [
             0.9,
             "#4d9221"
            ],
            [
             1,
             "#276419"
            ]
           ],
           "sequential": [
            [
             0,
             "#0d0887"
            ],
            [
             0.1111111111111111,
             "#46039f"
            ],
            [
             0.2222222222222222,
             "#7201a8"
            ],
            [
             0.3333333333333333,
             "#9c179e"
            ],
            [
             0.4444444444444444,
             "#bd3786"
            ],
            [
             0.5555555555555556,
             "#d8576b"
            ],
            [
             0.6666666666666666,
             "#ed7953"
            ],
            [
             0.7777777777777778,
             "#fb9f3a"
            ],
            [
             0.8888888888888888,
             "#fdca26"
            ],
            [
             1,
             "#f0f921"
            ]
           ],
           "sequentialminus": [
            [
             0,
             "#0d0887"
            ],
            [
             0.1111111111111111,
             "#46039f"
            ],
            [
             0.2222222222222222,
             "#7201a8"
            ],
            [
             0.3333333333333333,
             "#9c179e"
            ],
            [
             0.4444444444444444,
             "#bd3786"
            ],
            [
             0.5555555555555556,
             "#d8576b"
            ],
            [
             0.6666666666666666,
             "#ed7953"
            ],
            [
             0.7777777777777778,
             "#fb9f3a"
            ],
            [
             0.8888888888888888,
             "#fdca26"
            ],
            [
             1,
             "#f0f921"
            ]
           ]
          },
          "colorway": [
           "#636efa",
           "#EF553B",
           "#00cc96",
           "#ab63fa",
           "#FFA15A",
           "#19d3f3",
           "#FF6692",
           "#B6E880",
           "#FF97FF",
           "#FECB52"
          ],
          "font": {
           "color": "#2a3f5f"
          },
          "geo": {
           "bgcolor": "white",
           "lakecolor": "white",
           "landcolor": "#E5ECF6",
           "showlakes": true,
           "showland": true,
           "subunitcolor": "white"
          },
          "hoverlabel": {
           "align": "left"
          },
          "hovermode": "closest",
          "mapbox": {
           "style": "light"
          },
          "paper_bgcolor": "white",
          "plot_bgcolor": "#E5ECF6",
          "polar": {
           "angularaxis": {
            "gridcolor": "white",
            "linecolor": "white",
            "ticks": ""
           },
           "bgcolor": "#E5ECF6",
           "radialaxis": {
            "gridcolor": "white",
            "linecolor": "white",
            "ticks": ""
           }
          },
          "scene": {
           "xaxis": {
            "backgroundcolor": "#E5ECF6",
            "gridcolor": "white",
            "gridwidth": 2,
            "linecolor": "white",
            "showbackground": true,
            "ticks": "",
            "zerolinecolor": "white"
           },
           "yaxis": {
            "backgroundcolor": "#E5ECF6",
            "gridcolor": "white",
            "gridwidth": 2,
            "linecolor": "white",
            "showbackground": true,
            "ticks": "",
            "zerolinecolor": "white"
           },
           "zaxis": {
            "backgroundcolor": "#E5ECF6",
            "gridcolor": "white",
            "gridwidth": 2,
            "linecolor": "white",
            "showbackground": true,
            "ticks": "",
            "zerolinecolor": "white"
           }
          },
          "shapedefaults": {
           "line": {
            "color": "#2a3f5f"
           }
          },
          "ternary": {
           "aaxis": {
            "gridcolor": "white",
            "linecolor": "white",
            "ticks": ""
           },
           "baxis": {
            "gridcolor": "white",
            "linecolor": "white",
            "ticks": ""
           },
           "bgcolor": "#E5ECF6",
           "caxis": {
            "gridcolor": "white",
            "linecolor": "white",
            "ticks": ""
           }
          },
          "title": {
           "x": 0.05
          },
          "xaxis": {
           "automargin": true,
           "gridcolor": "white",
           "linecolor": "white",
           "ticks": "",
           "title": {
            "standoff": 15
           },
           "zerolinecolor": "white",
           "zerolinewidth": 2
          },
          "yaxis": {
           "automargin": true,
           "gridcolor": "white",
           "linecolor": "white",
           "ticks": "",
           "title": {
            "standoff": 15
           },
           "zerolinecolor": "white",
           "zerolinewidth": 2
          }
         }
        },
        "width": 1600
       }
      }
     },
     "metadata": {},
     "output_type": "display_data"
    }
   ],
   "source": [
    "color_dict = {\n",
    "    \"oil and gas\": \"dimgrey\",\n",
    "    \"investor owned utilities\": \"dimgrey\",\n",
    "    \"business advocacy\": \"cornflowerblue\",\n",
    "    \"independent power producers\": \"dimgrey\",\n",
    "    \"coal\": \"dimgrey\",\n",
    "    \"pipelines\": \"dimgrey\",\n",
    "    \"chemicals, refining, and plastics\": \"dimgrey\",\n",
    "    \"municipal and cooperative utilities\": \"dimgrey\",\n",
    "    \"energy technology\": \"darkgrey\",\n",
    "    \"mining and metals\": \"firebrick\",\n",
    "    \"biofuels\": \"darkgrey\",\n",
    "    \"railway\": \"darkgrey\",\n",
    "    \"iron and steel\": \"firebrick\",\n",
    "    \"fuel cell\": \"darkgrey\",\n",
    "    \"renewable energy\": \"darkseagreen\",\n",
    "    \"labor union\": \"cornflowerblue\",\n",
    "    \"food and agriculture\": \"darkkhaki\",\n",
    "    \"environmental\": \"darkseagreen\",\n",
    "    \"finance\": \"darkkhaki\",\n",
    "    \"ccs\": \"dimgrey\",\n",
    "    \"cement\": \"firebrick\",\n",
    "    \"paper products\": \"firebrick\",\n",
    "    \"oilfield services\": \"dimgrey\",\n",
    "    \"air transit\": \"darkgrey\",\n",
    "    \"power sector general\": \"dimgrey\",\n",
    "    \"land transit\": \"darkgrey\",\n",
    "    \"nuclear\": \"darkseagreen\",\n",
    "    \"think tanks and issue advocacy\": \"cornflowerblue\",\n",
    "    \"clean hydrogen\": \"dimgrey\",\n",
    "    \"engineering, technology, and consulting\": \"darkkhaki\",\n",
    "    \"higher education\": \"cornflowerblue\",\n",
    "    \"lng\": \"dimgrey\",\n",
    "    \"government\": \"cornflowerblue\",\n",
    "    \"water transit\": \"darkgrey\",\n",
    "    \"carbon\": \"darkseagreen\",\n",
    "    \"hvac\": \"darkkhaki\",\n",
    "    \"independent research organization\": \"darkkhaki\",\n",
    "    \"ev\": \"darkseagreen\",\n",
    "    \"green hydrogen\": \"darkseagreen\",\n",
    "    \"water\": \"darkseagreen\",\n",
    "    \"other\": \"darkkhaki\",\n",
    "    \"law and public policy\": \"darkkhaki\",\n",
    "    \"professional societies\": \"cornflowerblue\",\n",
    "    \"algae\": \"dimgrey\",\n",
    "}\n",
    "# org totals\n",
    "org_df = (\n",
    "    df[[\"organization\", \"lobbying_activity_usd\", \"sector\"]]\n",
    "    .groupby([\"organization\"])\n",
    "    .agg({\"lobbying_activity_usd\": \"sum\", \"sector\": \"first\"})\n",
    "    .sort_values(by=[\"lobbying_activity_usd\"], ascending=False)\n",
    ")\n",
    "org_df = org_df.loc[org_df.lobbying_activity_usd > 0]\n",
    "org_df.reset_index(inplace=True)\n",
    "org_df[\"org_with_returns\"] = [\n",
    "    \"CONOCO<br>PHILLIPS\" if x == \"CONOCOPHILLIPS\" else x.replace(\" \", \"<br>\")\n",
    "    for x in org_df.organization\n",
    "]\n",
    "org_df[\"org_with_returns\"] = [\n",
    "    \"EXXON<br>MOBIL\" if x == \"EXXONMOBIL\" else x for x in org_df[\"org_with_returns\"]\n",
    "]\n",
    "org_df[\"org_with_returns\"] = [\n",
    "    \"TRANS<br>CANADA\" if x == \"TRANSCANADA\" else x for x in org_df[\"org_with_returns\"]\n",
    "]\n",
    "# fig, ax = plt.subplots(1, 1, figsize=(17, 10))\n",
    "import plotly.express as px\n",
    "\n",
    "fig = px.treemap(\n",
    "    org_df,\n",
    "    path=[\"org_with_returns\"],\n",
    "    values=\"lobbying_activity_usd\",\n",
    "    color=\"sector\",\n",
    "    # color_discrete_map=color_dict,\n",
    "    width=1600,\n",
    "    height=800,\n",
    "    color_discrete_map=color_dict,\n",
    ")\n",
    "fig.update_layout(margin=dict(t=25, l=25, r=25, b=25), font_size=60)\n",
    "fig.update_traces(marker_line_width=0.1)\n",
    "fig.show()"
   ]
  },
  {
   "cell_type": "markdown",
   "metadata": {},
   "source": [
    "### Which organizations in other sectors do the most CCS lobbying?"
   ]
  },
  {
   "cell_type": "code",
   "execution_count": 147,
   "metadata": {},
   "outputs": [
    {
     "data": {
      "text/html": [
       "<div>\n",
       "<style scoped>\n",
       "    .dataframe tbody tr th:only-of-type {\n",
       "        vertical-align: middle;\n",
       "    }\n",
       "\n",
       "    .dataframe tbody tr th {\n",
       "        vertical-align: top;\n",
       "    }\n",
       "\n",
       "    .dataframe thead th {\n",
       "        text-align: right;\n",
       "    }\n",
       "</style>\n",
       "<table border=\"1\" class=\"dataframe\">\n",
       "  <thead>\n",
       "    <tr style=\"text-align: right;\">\n",
       "      <th></th>\n",
       "      <th>lobbying_activity_usd</th>\n",
       "    </tr>\n",
       "    <tr>\n",
       "      <th>organization</th>\n",
       "      <th></th>\n",
       "    </tr>\n",
       "  </thead>\n",
       "  <tbody>\n",
       "    <tr>\n",
       "      <th>UNIVERSITY OF PITTSBURGH</th>\n",
       "      <td>588869.047619</td>\n",
       "    </tr>\n",
       "    <tr>\n",
       "      <th>YALE UNIVERSITY</th>\n",
       "      <td>153142.857143</td>\n",
       "    </tr>\n",
       "    <tr>\n",
       "      <th>UNIVERSITY OF ILLINOIS</th>\n",
       "      <td>145105.050505</td>\n",
       "    </tr>\n",
       "    <tr>\n",
       "      <th>OHIO UNIVERSITY</th>\n",
       "      <td>78596.736597</td>\n",
       "    </tr>\n",
       "    <tr>\n",
       "      <th>UNIVERSITY OF TEXAS</th>\n",
       "      <td>73750.000000</td>\n",
       "    </tr>\n",
       "    <tr>\n",
       "      <th>UNIVERSITY OF MICHIGAN</th>\n",
       "      <td>72018.000920</td>\n",
       "    </tr>\n",
       "    <tr>\n",
       "      <th>CALIFORNIA INSTITUTE OF TECHNOLOGY</th>\n",
       "      <td>72000.000000</td>\n",
       "    </tr>\n",
       "    <tr>\n",
       "      <th>ASSOCIATION OF AMERICAN UNIVERSITIES</th>\n",
       "      <td>61819.047619</td>\n",
       "    </tr>\n",
       "    <tr>\n",
       "      <th>GEORGIA INSTITUTE OF TECHNOLOGY</th>\n",
       "      <td>56666.666667</td>\n",
       "    </tr>\n",
       "    <tr>\n",
       "      <th>ARIZONA STATE UNIVERSITY</th>\n",
       "      <td>51052.083333</td>\n",
       "    </tr>\n",
       "    <tr>\n",
       "      <th>RICE UNIVERSITY</th>\n",
       "      <td>44357.142857</td>\n",
       "    </tr>\n",
       "    <tr>\n",
       "      <th>IOWA STATE UNIVERSITY</th>\n",
       "      <td>42030.419823</td>\n",
       "    </tr>\n",
       "    <tr>\n",
       "      <th>CARNEGIE MELLON UNIVERSITY</th>\n",
       "      <td>40523.809524</td>\n",
       "    </tr>\n",
       "    <tr>\n",
       "      <th>UNIVERSITY OF CALIFORNIA</th>\n",
       "      <td>36382.978723</td>\n",
       "    </tr>\n",
       "    <tr>\n",
       "      <th>NEW MEXICO STATE UNIVERSITY</th>\n",
       "      <td>34000.000000</td>\n",
       "    </tr>\n",
       "    <tr>\n",
       "      <th>WESTERN MICHIGAN UNIVERSITY</th>\n",
       "      <td>33333.333333</td>\n",
       "    </tr>\n",
       "    <tr>\n",
       "      <th>ASSOCIATED UNIVERSITIES</th>\n",
       "      <td>30000.000000</td>\n",
       "    </tr>\n",
       "    <tr>\n",
       "      <th>BOSTON UNIVERSITY</th>\n",
       "      <td>22500.000000</td>\n",
       "    </tr>\n",
       "    <tr>\n",
       "      <th>PRINCETON UNIVERSITY</th>\n",
       "      <td>22402.597403</td>\n",
       "    </tr>\n",
       "    <tr>\n",
       "      <th>UNIVERSITY OF NORTHERN IOWA</th>\n",
       "      <td>21818.181818</td>\n",
       "    </tr>\n",
       "    <tr>\n",
       "      <th>UNIVERSITY OF WISCONSIN</th>\n",
       "      <td>17142.857143</td>\n",
       "    </tr>\n",
       "    <tr>\n",
       "      <th>REGENTS OF UNIVERSITY OF COLORADO</th>\n",
       "      <td>17142.857143</td>\n",
       "    </tr>\n",
       "    <tr>\n",
       "      <th>UNIVERSITY OF ROCHESTER</th>\n",
       "      <td>16666.666667</td>\n",
       "    </tr>\n",
       "    <tr>\n",
       "      <th>OHIO STATE UNIVERSITY</th>\n",
       "      <td>16666.666667</td>\n",
       "    </tr>\n",
       "    <tr>\n",
       "      <th>UNIVERSITY OF CINCINNATI</th>\n",
       "      <td>15844.155844</td>\n",
       "    </tr>\n",
       "    <tr>\n",
       "      <th>STANFORD UNIVERSITY</th>\n",
       "      <td>15000.000000</td>\n",
       "    </tr>\n",
       "    <tr>\n",
       "      <th>BROWN UNIVERSITY</th>\n",
       "      <td>13928.571429</td>\n",
       "    </tr>\n",
       "    <tr>\n",
       "      <th>MASSACHUSETTS INSTITUTE OF TECHNOLOGY</th>\n",
       "      <td>13533.035714</td>\n",
       "    </tr>\n",
       "    <tr>\n",
       "      <th>UNIVERSITY OF VIRGINIA</th>\n",
       "      <td>11513.157895</td>\n",
       "    </tr>\n",
       "    <tr>\n",
       "      <th>UNIVERSITY OF KENTUCKY</th>\n",
       "      <td>10717.333333</td>\n",
       "    </tr>\n",
       "    <tr>\n",
       "      <th>CALIFORNIA STATE UNIVERSITY</th>\n",
       "      <td>10000.000000</td>\n",
       "    </tr>\n",
       "    <tr>\n",
       "      <th>PENNSYLVANIA STATE UNIVERSITY</th>\n",
       "      <td>7692.307692</td>\n",
       "    </tr>\n",
       "    <tr>\n",
       "      <th>OREGON STATE UNIVERSITY</th>\n",
       "      <td>5000.000000</td>\n",
       "    </tr>\n",
       "    <tr>\n",
       "      <th>VANDERBILT UNIVERSITY</th>\n",
       "      <td>3333.333333</td>\n",
       "    </tr>\n",
       "  </tbody>\n",
       "</table>\n",
       "</div>"
      ],
      "text/plain": [
       "                                       lobbying_activity_usd\n",
       "organization                                                \n",
       "UNIVERSITY OF PITTSBURGH                       588869.047619\n",
       "YALE UNIVERSITY                                153142.857143\n",
       "UNIVERSITY OF ILLINOIS                         145105.050505\n",
       "OHIO UNIVERSITY                                 78596.736597\n",
       "UNIVERSITY OF TEXAS                             73750.000000\n",
       "UNIVERSITY OF MICHIGAN                          72018.000920\n",
       "CALIFORNIA INSTITUTE OF TECHNOLOGY              72000.000000\n",
       "ASSOCIATION OF AMERICAN UNIVERSITIES            61819.047619\n",
       "GEORGIA INSTITUTE OF TECHNOLOGY                 56666.666667\n",
       "ARIZONA STATE UNIVERSITY                        51052.083333\n",
       "RICE UNIVERSITY                                 44357.142857\n",
       "IOWA STATE UNIVERSITY                           42030.419823\n",
       "CARNEGIE MELLON UNIVERSITY                      40523.809524\n",
       "UNIVERSITY OF CALIFORNIA                        36382.978723\n",
       "NEW MEXICO STATE UNIVERSITY                     34000.000000\n",
       "WESTERN MICHIGAN UNIVERSITY                     33333.333333\n",
       "ASSOCIATED UNIVERSITIES                         30000.000000\n",
       "BOSTON UNIVERSITY                               22500.000000\n",
       "PRINCETON UNIVERSITY                            22402.597403\n",
       "UNIVERSITY OF NORTHERN IOWA                     21818.181818\n",
       "UNIVERSITY OF WISCONSIN                         17142.857143\n",
       "REGENTS OF UNIVERSITY OF COLORADO               17142.857143\n",
       "UNIVERSITY OF ROCHESTER                         16666.666667\n",
       "OHIO STATE UNIVERSITY                           16666.666667\n",
       "UNIVERSITY OF CINCINNATI                        15844.155844\n",
       "STANFORD UNIVERSITY                             15000.000000\n",
       "BROWN UNIVERSITY                                13928.571429\n",
       "MASSACHUSETTS INSTITUTE OF TECHNOLOGY           13533.035714\n",
       "UNIVERSITY OF VIRGINIA                          11513.157895\n",
       "UNIVERSITY OF KENTUCKY                          10717.333333\n",
       "CALIFORNIA STATE UNIVERSITY                     10000.000000\n",
       "PENNSYLVANIA STATE UNIVERSITY                    7692.307692\n",
       "OREGON STATE UNIVERSITY                          5000.000000\n",
       "VANDERBILT UNIVERSITY                            3333.333333"
      ]
     },
     "metadata": {},
     "output_type": "display_data"
    },
    {
     "data": {
      "text/html": [
       "<div>\n",
       "<style scoped>\n",
       "    .dataframe tbody tr th:only-of-type {\n",
       "        vertical-align: middle;\n",
       "    }\n",
       "\n",
       "    .dataframe tbody tr th {\n",
       "        vertical-align: top;\n",
       "    }\n",
       "\n",
       "    .dataframe thead th {\n",
       "        text-align: right;\n",
       "    }\n",
       "</style>\n",
       "<table border=\"1\" class=\"dataframe\">\n",
       "  <thead>\n",
       "    <tr style=\"text-align: right;\">\n",
       "      <th></th>\n",
       "      <th>lobbying_activity_usd</th>\n",
       "    </tr>\n",
       "    <tr>\n",
       "      <th>organization</th>\n",
       "      <th></th>\n",
       "    </tr>\n",
       "  </thead>\n",
       "  <tbody>\n",
       "    <tr>\n",
       "      <th>BIPARTISAN POLICY CENTER</th>\n",
       "      <td>1.189484e+06</td>\n",
       "    </tr>\n",
       "    <tr>\n",
       "      <th>NATIONAL RIGHT TO WORK COMMITTEE</th>\n",
       "      <td>4.520000e+05</td>\n",
       "    </tr>\n",
       "    <tr>\n",
       "      <th>COALITION FOR ENERGY EFFICIENT JOBS INVESTMENT</th>\n",
       "      <td>3.000000e+05</td>\n",
       "    </tr>\n",
       "    <tr>\n",
       "      <th>CLEARPATH ACTION FOR CONSERVATIVE CLEAN ENERGY</th>\n",
       "      <td>2.000000e+05</td>\n",
       "    </tr>\n",
       "    <tr>\n",
       "      <th>ELECTRIFY AMERICA</th>\n",
       "      <td>1.050000e+05</td>\n",
       "    </tr>\n",
       "    <tr>\n",
       "      <th>CENTER FOR AMERICAN PROGRESS</th>\n",
       "      <td>6.285714e+04</td>\n",
       "    </tr>\n",
       "    <tr>\n",
       "      <th>CENTER FOR TRANSPORTATION AND ENVIRONMENT</th>\n",
       "      <td>6.000000e+04</td>\n",
       "    </tr>\n",
       "    <tr>\n",
       "      <th>AMERICANS FOR TAX REFORM</th>\n",
       "      <td>5.425000e+04</td>\n",
       "    </tr>\n",
       "    <tr>\n",
       "      <th>SECURING AMERICAS FUTURE ENERGY</th>\n",
       "      <td>3.716667e+04</td>\n",
       "    </tr>\n",
       "    <tr>\n",
       "      <th>ECONOMIC INNOVATION</th>\n",
       "      <td>2.000000e+04</td>\n",
       "    </tr>\n",
       "    <tr>\n",
       "      <th>FACT COALITION A PROJECT OF FUND FOR CONSTITUTIONAL GOVERNMENT</th>\n",
       "      <td>1.500000e+04</td>\n",
       "    </tr>\n",
       "    <tr>\n",
       "      <th>NATIONAL TAXPAYERS UNION</th>\n",
       "      <td>1.101290e+04</td>\n",
       "    </tr>\n",
       "    <tr>\n",
       "      <th>GOVERNMENT ACCOUNTABILITY PROJECT</th>\n",
       "      <td>8.511000e+03</td>\n",
       "    </tr>\n",
       "    <tr>\n",
       "      <th>CENTER FOR INDIVIDUAL FREEDOM</th>\n",
       "      <td>3.540000e+03</td>\n",
       "    </tr>\n",
       "    <tr>\n",
       "      <th>TRANSPARENCY INTERNATIONAL</th>\n",
       "      <td>3.400000e+03</td>\n",
       "    </tr>\n",
       "    <tr>\n",
       "      <th>MOVEONORG CIVIC ACTION</th>\n",
       "      <td>4.545455e+02</td>\n",
       "    </tr>\n",
       "    <tr>\n",
       "      <th>CENTER FOR FREEDOM AND PROSPERITY</th>\n",
       "      <td>0.000000e+00</td>\n",
       "    </tr>\n",
       "    <tr>\n",
       "      <th>TAXPAYERS FOR COMMON SENSE</th>\n",
       "      <td>0.000000e+00</td>\n",
       "    </tr>\n",
       "    <tr>\n",
       "      <th>ALLIANCE TO SAVE ENERGY</th>\n",
       "      <td>0.000000e+00</td>\n",
       "    </tr>\n",
       "  </tbody>\n",
       "</table>\n",
       "</div>"
      ],
      "text/plain": [
       "                                                    lobbying_activity_usd\n",
       "organization                                                             \n",
       "BIPARTISAN POLICY CENTER                                     1.189484e+06\n",
       "NATIONAL RIGHT TO WORK COMMITTEE                             4.520000e+05\n",
       "COALITION FOR ENERGY EFFICIENT JOBS INVESTMENT               3.000000e+05\n",
       "CLEARPATH ACTION FOR CONSERVATIVE CLEAN ENERGY               2.000000e+05\n",
       "ELECTRIFY AMERICA                                            1.050000e+05\n",
       "CENTER FOR AMERICAN PROGRESS                                 6.285714e+04\n",
       "CENTER FOR TRANSPORTATION AND ENVIRONMENT                    6.000000e+04\n",
       "AMERICANS FOR TAX REFORM                                     5.425000e+04\n",
       "SECURING AMERICAS FUTURE ENERGY                              3.716667e+04\n",
       "ECONOMIC INNOVATION                                          2.000000e+04\n",
       "FACT COALITION A PROJECT OF FUND FOR CONSTITUTI...           1.500000e+04\n",
       "NATIONAL TAXPAYERS UNION                                     1.101290e+04\n",
       "GOVERNMENT ACCOUNTABILITY PROJECT                            8.511000e+03\n",
       "CENTER FOR INDIVIDUAL FREEDOM                                3.540000e+03\n",
       "TRANSPARENCY INTERNATIONAL                                   3.400000e+03\n",
       "MOVEONORG CIVIC ACTION                                       4.545455e+02\n",
       "CENTER FOR FREEDOM AND PROSPERITY                            0.000000e+00\n",
       "TAXPAYERS FOR COMMON SENSE                                   0.000000e+00\n",
       "ALLIANCE TO SAVE ENERGY                                      0.000000e+00"
      ]
     },
     "metadata": {},
     "output_type": "display_data"
    },
    {
     "data": {
      "text/html": [
       "<div>\n",
       "<style scoped>\n",
       "    .dataframe tbody tr th:only-of-type {\n",
       "        vertical-align: middle;\n",
       "    }\n",
       "\n",
       "    .dataframe tbody tr th {\n",
       "        vertical-align: top;\n",
       "    }\n",
       "\n",
       "    .dataframe thead th {\n",
       "        text-align: right;\n",
       "    }\n",
       "</style>\n",
       "<table border=\"1\" class=\"dataframe\">\n",
       "  <thead>\n",
       "    <tr style=\"text-align: right;\">\n",
       "      <th></th>\n",
       "      <th>lobbying_activity_usd</th>\n",
       "    </tr>\n",
       "    <tr>\n",
       "      <th>organization</th>\n",
       "      <th></th>\n",
       "    </tr>\n",
       "  </thead>\n",
       "  <tbody>\n",
       "    <tr>\n",
       "      <th>CLEAN AIR TASK FORCE</th>\n",
       "      <td>2.231968e+06</td>\n",
       "    </tr>\n",
       "    <tr>\n",
       "      <th>NATURE CONSERVANCY</th>\n",
       "      <td>1.921032e+06</td>\n",
       "    </tr>\n",
       "    <tr>\n",
       "      <th>CITIZENS FOR RESPONSIBLE ENERGY SOLUTIONS</th>\n",
       "      <td>1.429333e+06</td>\n",
       "    </tr>\n",
       "    <tr>\n",
       "      <th>EARTHJUSTICE</th>\n",
       "      <td>6.229773e+05</td>\n",
       "    </tr>\n",
       "    <tr>\n",
       "      <th>ENVIRONMENTAL DEFENSE FUND</th>\n",
       "      <td>5.963580e+05</td>\n",
       "    </tr>\n",
       "    <tr>\n",
       "      <th>WILDERNESS SOCIETY</th>\n",
       "      <td>4.312894e+05</td>\n",
       "    </tr>\n",
       "    <tr>\n",
       "      <th>LINDEN TRUST FOR CONSERVATION</th>\n",
       "      <td>3.700000e+05</td>\n",
       "    </tr>\n",
       "    <tr>\n",
       "      <th>SIERRA CLUB</th>\n",
       "      <td>3.609724e+05</td>\n",
       "    </tr>\n",
       "    <tr>\n",
       "      <th>SOUTHERN ENVIRONMENTAL LAW CENTER</th>\n",
       "      <td>3.533571e+05</td>\n",
       "    </tr>\n",
       "    <tr>\n",
       "      <th>LAND TRUST ALLIANCE</th>\n",
       "      <td>3.433333e+05</td>\n",
       "    </tr>\n",
       "    <tr>\n",
       "      <th>FRIENDS COMMITTEE ON NATIONAL LEGISLATION</th>\n",
       "      <td>3.412615e+05</td>\n",
       "    </tr>\n",
       "    <tr>\n",
       "      <th>CARBON ADVOCACY PROJECT</th>\n",
       "      <td>2.900000e+05</td>\n",
       "    </tr>\n",
       "    <tr>\n",
       "      <th>TRUST FOR PUBLIC LAND</th>\n",
       "      <td>2.050187e+05</td>\n",
       "    </tr>\n",
       "    <tr>\n",
       "      <th>OPEN SPACE INSTITUTE</th>\n",
       "      <td>1.825000e+05</td>\n",
       "    </tr>\n",
       "    <tr>\n",
       "      <th>OCEAN CONSERVANCY</th>\n",
       "      <td>1.697708e+05</td>\n",
       "    </tr>\n",
       "    <tr>\n",
       "      <th>NATURAL RESOURCES DEFENSE COUNCIL</th>\n",
       "      <td>1.316949e+05</td>\n",
       "    </tr>\n",
       "    <tr>\n",
       "      <th>INDIAN LAND TENURE</th>\n",
       "      <td>1.200000e+05</td>\n",
       "    </tr>\n",
       "    <tr>\n",
       "      <th>AMERICAN FORESTS</th>\n",
       "      <td>1.057143e+05</td>\n",
       "    </tr>\n",
       "    <tr>\n",
       "      <th>CENTER FOR CLIMATE AND ENERGY SOLUTIONS</th>\n",
       "      <td>1.041667e+05</td>\n",
       "    </tr>\n",
       "    <tr>\n",
       "      <th>LEAGUE OF CONSERVATION VOTERS</th>\n",
       "      <td>9.387172e+04</td>\n",
       "    </tr>\n",
       "    <tr>\n",
       "      <th>GEOS INSTITUTE</th>\n",
       "      <td>8.348209e+04</td>\n",
       "    </tr>\n",
       "    <tr>\n",
       "      <th>RIPE ROADMAP</th>\n",
       "      <td>4.000000e+04</td>\n",
       "    </tr>\n",
       "    <tr>\n",
       "      <th>PLASTIC POLLUTION COALITION</th>\n",
       "      <td>4.000000e+04</td>\n",
       "    </tr>\n",
       "    <tr>\n",
       "      <th>BLUE GREEN ALLIANCE</th>\n",
       "      <td>3.955556e+04</td>\n",
       "    </tr>\n",
       "    <tr>\n",
       "      <th>NATIONAL PARKS CONSERVATION ASSOCIATION</th>\n",
       "      <td>3.679033e+04</td>\n",
       "    </tr>\n",
       "    <tr>\n",
       "      <th>NATIONAL GROUND WATER ASSOCIATION</th>\n",
       "      <td>3.666667e+04</td>\n",
       "    </tr>\n",
       "    <tr>\n",
       "      <th>ENVIRONMENT AMERICA</th>\n",
       "      <td>2.955128e+04</td>\n",
       "    </tr>\n",
       "    <tr>\n",
       "      <th>CARBON 180</th>\n",
       "      <td>2.250000e+04</td>\n",
       "    </tr>\n",
       "    <tr>\n",
       "      <th>APPALACHIAN TRAIL CONSERVANCY</th>\n",
       "      <td>9.858667e+03</td>\n",
       "    </tr>\n",
       "    <tr>\n",
       "      <th>NATIONAL WASTE RECYCLING ASSOCIATION</th>\n",
       "      <td>9.381599e+03</td>\n",
       "    </tr>\n",
       "    <tr>\n",
       "      <th>AMERICAN FOREST FOUNDATION</th>\n",
       "      <td>8.236500e+03</td>\n",
       "    </tr>\n",
       "    <tr>\n",
       "      <th>FRIENDS OF EARTH</th>\n",
       "      <td>6.666667e+03</td>\n",
       "    </tr>\n",
       "    <tr>\n",
       "      <th>NATIONAL AUDUBON SOCIETY</th>\n",
       "      <td>6.567460e+03</td>\n",
       "    </tr>\n",
       "    <tr>\n",
       "      <th>GREENPEACE</th>\n",
       "      <td>6.463500e+03</td>\n",
       "    </tr>\n",
       "    <tr>\n",
       "      <th>WESTERN ORGANIZATION OF RESOURCE COUNCILS</th>\n",
       "      <td>2.755460e+03</td>\n",
       "    </tr>\n",
       "    <tr>\n",
       "      <th>PROTECT OUR WINTERS ACTION FUND</th>\n",
       "      <td>0.000000e+00</td>\n",
       "    </tr>\n",
       "    <tr>\n",
       "      <th>FOOD WATER WATCH</th>\n",
       "      <td>0.000000e+00</td>\n",
       "    </tr>\n",
       "  </tbody>\n",
       "</table>\n",
       "</div>"
      ],
      "text/plain": [
       "                                           lobbying_activity_usd\n",
       "organization                                                    \n",
       "CLEAN AIR TASK FORCE                                2.231968e+06\n",
       "NATURE CONSERVANCY                                  1.921032e+06\n",
       "CITIZENS FOR RESPONSIBLE ENERGY SOLUTIONS           1.429333e+06\n",
       "EARTHJUSTICE                                        6.229773e+05\n",
       "ENVIRONMENTAL DEFENSE FUND                          5.963580e+05\n",
       "WILDERNESS SOCIETY                                  4.312894e+05\n",
       "LINDEN TRUST FOR CONSERVATION                       3.700000e+05\n",
       "SIERRA CLUB                                         3.609724e+05\n",
       "SOUTHERN ENVIRONMENTAL LAW CENTER                   3.533571e+05\n",
       "LAND TRUST ALLIANCE                                 3.433333e+05\n",
       "FRIENDS COMMITTEE ON NATIONAL LEGISLATION           3.412615e+05\n",
       "CARBON ADVOCACY PROJECT                             2.900000e+05\n",
       "TRUST FOR PUBLIC LAND                               2.050187e+05\n",
       "OPEN SPACE INSTITUTE                                1.825000e+05\n",
       "OCEAN CONSERVANCY                                   1.697708e+05\n",
       "NATURAL RESOURCES DEFENSE COUNCIL                   1.316949e+05\n",
       "INDIAN LAND TENURE                                  1.200000e+05\n",
       "AMERICAN FORESTS                                    1.057143e+05\n",
       "CENTER FOR CLIMATE AND ENERGY SOLUTIONS             1.041667e+05\n",
       "LEAGUE OF CONSERVATION VOTERS                       9.387172e+04\n",
       "GEOS INSTITUTE                                      8.348209e+04\n",
       "RIPE ROADMAP                                        4.000000e+04\n",
       "PLASTIC POLLUTION COALITION                         4.000000e+04\n",
       "BLUE GREEN ALLIANCE                                 3.955556e+04\n",
       "NATIONAL PARKS CONSERVATION ASSOCIATION             3.679033e+04\n",
       "NATIONAL GROUND WATER ASSOCIATION                   3.666667e+04\n",
       "ENVIRONMENT AMERICA                                 2.955128e+04\n",
       "CARBON 180                                          2.250000e+04\n",
       "APPALACHIAN TRAIL CONSERVANCY                       9.858667e+03\n",
       "NATIONAL WASTE RECYCLING ASSOCIATION                9.381599e+03\n",
       "AMERICAN FOREST FOUNDATION                          8.236500e+03\n",
       "FRIENDS OF EARTH                                    6.666667e+03\n",
       "NATIONAL AUDUBON SOCIETY                            6.567460e+03\n",
       "GREENPEACE                                          6.463500e+03\n",
       "WESTERN ORGANIZATION OF RESOURCE COUNCILS           2.755460e+03\n",
       "PROTECT OUR WINTERS ACTION FUND                     0.000000e+00\n",
       "FOOD WATER WATCH                                    0.000000e+00"
      ]
     },
     "metadata": {},
     "output_type": "display_data"
    },
    {
     "data": {
      "text/html": [
       "<div>\n",
       "<style scoped>\n",
       "    .dataframe tbody tr th:only-of-type {\n",
       "        vertical-align: middle;\n",
       "    }\n",
       "\n",
       "    .dataframe tbody tr th {\n",
       "        vertical-align: top;\n",
       "    }\n",
       "\n",
       "    .dataframe thead th {\n",
       "        text-align: right;\n",
       "    }\n",
       "</style>\n",
       "<table border=\"1\" class=\"dataframe\">\n",
       "  <thead>\n",
       "    <tr style=\"text-align: right;\">\n",
       "      <th></th>\n",
       "      <th>lobbying_activity_usd</th>\n",
       "    </tr>\n",
       "    <tr>\n",
       "      <th>organization</th>\n",
       "      <th></th>\n",
       "    </tr>\n",
       "  </thead>\n",
       "  <tbody>\n",
       "    <tr>\n",
       "      <th>ZURICH</th>\n",
       "      <td>2.082202e+06</td>\n",
       "    </tr>\n",
       "    <tr>\n",
       "      <th>BREAKTHROUGH ENERGY</th>\n",
       "      <td>2.075286e+06</td>\n",
       "    </tr>\n",
       "    <tr>\n",
       "      <th>NATIONAL VENTURE CAPITAL ASSOCIATION</th>\n",
       "      <td>1.500079e+06</td>\n",
       "    </tr>\n",
       "    <tr>\n",
       "      <th>NATIONAL ASSOCIATION OF FEDERALLYINSURED CREDIT UNIONS</th>\n",
       "      <td>1.020000e+06</td>\n",
       "    </tr>\n",
       "    <tr>\n",
       "      <th>LEUCADIA NATIONAL</th>\n",
       "      <td>2.200000e+05</td>\n",
       "    </tr>\n",
       "    <tr>\n",
       "      <th>ARTHUR J GALLAGHER</th>\n",
       "      <td>1.450000e+05</td>\n",
       "    </tr>\n",
       "    <tr>\n",
       "      <th>BANK OF AMERICA</th>\n",
       "      <td>9.714286e+04</td>\n",
       "    </tr>\n",
       "    <tr>\n",
       "      <th>BANK POLICY INSTITUTE</th>\n",
       "      <td>6.000000e+04</td>\n",
       "    </tr>\n",
       "    <tr>\n",
       "      <th>MACQUARIE INFRASTRUCTURE AND REAL ASSETS</th>\n",
       "      <td>3.000000e+04</td>\n",
       "    </tr>\n",
       "    <tr>\n",
       "      <th>BROOKFIELD ASSET MANAGEMENT</th>\n",
       "      <td>2.666667e+04</td>\n",
       "    </tr>\n",
       "    <tr>\n",
       "      <th>FCO ADVISORS</th>\n",
       "      <td>1.000000e+04</td>\n",
       "    </tr>\n",
       "    <tr>\n",
       "      <th>EXCELSIOR ENERGY</th>\n",
       "      <td>0.000000e+00</td>\n",
       "    </tr>\n",
       "    <tr>\n",
       "      <th>HUDSON CLEAN ENERGY PARTNERS</th>\n",
       "      <td>0.000000e+00</td>\n",
       "    </tr>\n",
       "  </tbody>\n",
       "</table>\n",
       "</div>"
      ],
      "text/plain": [
       "                                                    lobbying_activity_usd\n",
       "organization                                                             \n",
       "ZURICH                                                       2.082202e+06\n",
       "BREAKTHROUGH ENERGY                                          2.075286e+06\n",
       "NATIONAL VENTURE CAPITAL ASSOCIATION                         1.500079e+06\n",
       "NATIONAL ASSOCIATION OF FEDERALLYINSURED CREDIT...           1.020000e+06\n",
       "LEUCADIA NATIONAL                                            2.200000e+05\n",
       "ARTHUR J GALLAGHER                                           1.450000e+05\n",
       "BANK OF AMERICA                                              9.714286e+04\n",
       "BANK POLICY INSTITUTE                                        6.000000e+04\n",
       "MACQUARIE INFRASTRUCTURE AND REAL ASSETS                     3.000000e+04\n",
       "BROOKFIELD ASSET MANAGEMENT                                  2.666667e+04\n",
       "FCO ADVISORS                                                 1.000000e+04\n",
       "EXCELSIOR ENERGY                                             0.000000e+00\n",
       "HUDSON CLEAN ENERGY PARTNERS                                 0.000000e+00"
      ]
     },
     "metadata": {},
     "output_type": "display_data"
    },
    {
     "data": {
      "text/html": [
       "<div>\n",
       "<style scoped>\n",
       "    .dataframe tbody tr th:only-of-type {\n",
       "        vertical-align: middle;\n",
       "    }\n",
       "\n",
       "    .dataframe tbody tr th {\n",
       "        vertical-align: top;\n",
       "    }\n",
       "\n",
       "    .dataframe thead th {\n",
       "        text-align: right;\n",
       "    }\n",
       "</style>\n",
       "<table border=\"1\" class=\"dataframe\">\n",
       "  <thead>\n",
       "    <tr style=\"text-align: right;\">\n",
       "      <th></th>\n",
       "      <th>lobbying_activity_usd</th>\n",
       "    </tr>\n",
       "    <tr>\n",
       "      <th>organization</th>\n",
       "      <th></th>\n",
       "    </tr>\n",
       "  </thead>\n",
       "  <tbody>\n",
       "    <tr>\n",
       "      <th>GREAT PLAINS INSTITUTE</th>\n",
       "      <td>326333.333333</td>\n",
       "    </tr>\n",
       "    <tr>\n",
       "      <th>WORLD RESOURCES INSTITUTE</th>\n",
       "      <td>180000.000000</td>\n",
       "    </tr>\n",
       "    <tr>\n",
       "      <th>WOODWELL CLIMATE RESEARCH CENTER</th>\n",
       "      <td>10000.000000</td>\n",
       "    </tr>\n",
       "    <tr>\n",
       "      <th>RTI INTERNATIONAL</th>\n",
       "      <td>4000.000000</td>\n",
       "    </tr>\n",
       "  </tbody>\n",
       "</table>\n",
       "</div>"
      ],
      "text/plain": [
       "                                  lobbying_activity_usd\n",
       "organization                                           \n",
       "GREAT PLAINS INSTITUTE                    326333.333333\n",
       "WORLD RESOURCES INSTITUTE                 180000.000000\n",
       "WOODWELL CLIMATE RESEARCH CENTER           10000.000000\n",
       "RTI INTERNATIONAL                           4000.000000"
      ]
     },
     "metadata": {},
     "output_type": "display_data"
    },
    {
     "data": {
      "text/html": [
       "<div>\n",
       "<style scoped>\n",
       "    .dataframe tbody tr th:only-of-type {\n",
       "        vertical-align: middle;\n",
       "    }\n",
       "\n",
       "    .dataframe tbody tr th {\n",
       "        vertical-align: top;\n",
       "    }\n",
       "\n",
       "    .dataframe thead th {\n",
       "        text-align: right;\n",
       "    }\n",
       "</style>\n",
       "<table border=\"1\" class=\"dataframe\">\n",
       "  <thead>\n",
       "    <tr style=\"text-align: right;\">\n",
       "      <th></th>\n",
       "      <th>lobbying_activity_usd</th>\n",
       "    </tr>\n",
       "    <tr>\n",
       "      <th>organization</th>\n",
       "      <th></th>\n",
       "    </tr>\n",
       "  </thead>\n",
       "  <tbody>\n",
       "    <tr>\n",
       "      <th>US CHAMBER OF COMMERCE</th>\n",
       "      <td>1.444592e+07</td>\n",
       "    </tr>\n",
       "    <tr>\n",
       "      <th>NATIONAL ASSOCIATION OF MANUFACTURERS</th>\n",
       "      <td>3.809658e+06</td>\n",
       "    </tr>\n",
       "    <tr>\n",
       "      <th>BUSINESS ROUNDTABLE</th>\n",
       "      <td>4.175000e+05</td>\n",
       "    </tr>\n",
       "    <tr>\n",
       "      <th>GREATER PITTSBURGH CHAMBER OF COMMERCE</th>\n",
       "      <td>1.363810e+05</td>\n",
       "    </tr>\n",
       "    <tr>\n",
       "      <th>WESTERN BUSINESS ROUNDTABLE</th>\n",
       "      <td>1.016667e+05</td>\n",
       "    </tr>\n",
       "  </tbody>\n",
       "</table>\n",
       "</div>"
      ],
      "text/plain": [
       "                                        lobbying_activity_usd\n",
       "organization                                                 \n",
       "US CHAMBER OF COMMERCE                           1.444592e+07\n",
       "NATIONAL ASSOCIATION OF MANUFACTURERS            3.809658e+06\n",
       "BUSINESS ROUNDTABLE                              4.175000e+05\n",
       "GREATER PITTSBURGH CHAMBER OF COMMERCE           1.363810e+05\n",
       "WESTERN BUSINESS ROUNDTABLE                      1.016667e+05"
      ]
     },
     "metadata": {},
     "output_type": "display_data"
    }
   ],
   "source": [
    "for sector in [\n",
    "    \"higher education\",\n",
    "    \"think tanks and issue advocacy\",\n",
    "    \"environmental\",\n",
    "    \"finance\",\n",
    "    \"independent research organization\",\n",
    "    \"business advocacy\",\n",
    "]:\n",
    "    ccs_sector_df = (\n",
    "        df[[\"organization\", \"lobbying_activity_usd\"]]\n",
    "        .loc[df.sector == sector]\n",
    "        .groupby([\"organization\"])\n",
    "        .sum()\n",
    "        .sort_values(by=[\"lobbying_activity_usd\"], ascending=False)\n",
    "    )\n",
    "    display(ccs_sector_df)"
   ]
  },
  {
   "cell_type": "markdown",
   "metadata": {},
   "source": [
    "### Excel Table of sector totals, including since 2019"
   ]
  },
  {
   "cell_type": "code",
   "execution_count": 148,
   "metadata": {},
   "outputs": [],
   "source": [
    "# subset data looking only at definitely ccs and that occuring 2019 and later\n",
    "since_2019_df = (\n",
    "    df[\n",
    "        [\n",
    "            \"filing_year\",\n",
    "            \"sector\",\n",
    "            \"very_lumped_sector\",\n",
    "            \"lobbying_activity_usd\",\n",
    "            \"n_entities_lobbied\",\n",
    "        ]\n",
    "    ]\n",
    "    .loc[(df.definitely_ccs == 1) & (df.filing_year > 2018)]\n",
    "    .groupby([\"sector\"])\n",
    "    .agg(\n",
    "        {\n",
    "            \"very_lumped_sector\": \"first\",\n",
    "            \"lobbying_activity_usd\": np.sum,\n",
    "            \"n_entities_lobbied\": np.sum,\n",
    "        }\n",
    "    )\n",
    ")\n",
    "since_2019_df.columns = [\n",
    "    \"General sector\",\n",
    "    \"total_ccs_lobbying_usd_2019_to_mid_2024\",\n",
    "    \"total_ccs_lobbying_contacts_2019_to_mid_2024\",\n",
    "]\n",
    "# get all years' data\n",
    "total_df = (\n",
    "    df[\n",
    "        [\n",
    "            \"sector\",\n",
    "            \"lobbying_activity_usd\",\n",
    "            \"n_entities_lobbied\",\n",
    "        ]\n",
    "    ]\n",
    "    .loc[(df.definitely_ccs == 1)]\n",
    "    .groupby([\"sector\"])\n",
    "    .agg(\n",
    "        {\n",
    "            \"lobbying_activity_usd\": np.sum,\n",
    "            \"n_entities_lobbied\": np.sum,\n",
    "        }\n",
    "    )\n",
    ")\n",
    "total_df.columns = [\n",
    "    \"total_ccs_lobbying_usd_2005_to_mid2024\",\n",
    "    \"total_ccs_lobbying_contacts_2005_to_mid2024\",\n",
    "]\n",
    "# summarize, grouping by detailed sector\n",
    "sector_summary_df = since_2019_df.merge(total_df, left_index=True, right_index=True)\n",
    "sector_summary_df.sort_values(\n",
    "    by=\"total_ccs_lobbying_usd_2019_to_mid_2024\", ascending=False, inplace=True\n",
    ")\n",
    "sector_summary_df = sector_summary_df[\n",
    "    [\n",
    "        \"General sector\",\n",
    "        \"total_ccs_lobbying_usd_2019_to_mid_2024\",\n",
    "        \"total_ccs_lobbying_usd_2005_to_mid2024\",\n",
    "        \"total_ccs_lobbying_contacts_2019_to_mid_2024\",\n",
    "        \"total_ccs_lobbying_contacts_2005_to_mid2024\",\n",
    "    ]\n",
    "].to_clipboard()"
   ]
  },
  {
   "cell_type": "markdown",
   "metadata": {},
   "source": [
    "### Excel Table of lobbying dollars and contacts by year and quarter (filing period)"
   ]
  },
  {
   "cell_type": "code",
   "execution_count": 149,
   "metadata": {},
   "outputs": [],
   "source": [
    "# Table of temporal totals (by quarters)\n",
    "numeric_quarter_dict = {\n",
    "    \"first_quarter\": 1,\n",
    "    \"second_quarter\": 2,\n",
    "    \"fourth_quarter\": 4,\n",
    "    \"third_quarter\": 3,\n",
    "    \"year_end\": 4,\n",
    "    \"mid_year\": 2,\n",
    "}\n",
    "df[\"numeric_filing_period\"] = [numeric_quarter_dict[x] for x in df.filing_period]\n",
    "\n",
    "\n",
    "through_time_df = (\n",
    "    df[\n",
    "        [\n",
    "            \"filing_year\",\n",
    "            \"numeric_filing_period\",\n",
    "            \"lobbying_activity_usd\",\n",
    "            \"n_entities_lobbied\",\n",
    "        ]\n",
    "    ]\n",
    "    .loc[(df.definitely_ccs == 1)]\n",
    "    .groupby([\"filing_year\", \"numeric_filing_period\"])\n",
    "    .agg(\n",
    "        {\n",
    "            \"lobbying_activity_usd\": np.sum,\n",
    "            \"n_entities_lobbied\": np.sum,\n",
    "        }\n",
    "    )\n",
    "    .reset_index()\n",
    ")\n",
    "through_time_df.columns = [\n",
    "    \"filing_year\",\n",
    "    \"filing_period\",\n",
    "    \"total_ccs_lobbying_usd\",\n",
    "    \"total_ccs_lobbying_contacts\",\n",
    "]\n",
    "through_time_df.sort_values(\n",
    "    by=[\"filing_year\", \"filing_period\"], ascending=True, inplace=True\n",
    ")\n",
    "through_time_df.to_clipboard()"
   ]
  },
  {
   "cell_type": "markdown",
   "metadata": {},
   "source": [
    "### Excel Table of organization totals, including since 2019"
   ]
  },
  {
   "cell_type": "code",
   "execution_count": 150,
   "metadata": {},
   "outputs": [],
   "source": [
    "# subset data looking only at definitely ccs and that occuring 2019 and later\n",
    "since_2019_df = (\n",
    "    df[\n",
    "        [\n",
    "            \"filing_year\",\n",
    "            \"sector\",\n",
    "            \"very_lumped_sector\",\n",
    "            \"organization\",\n",
    "            \"lobbying_activity_usd\",\n",
    "            \"n_entities_lobbied\",\n",
    "            \"filing_year\",\n",
    "        ]\n",
    "    ]\n",
    "    .loc[(df.definitely_ccs == 1) & (df.filing_year > 2018)]\n",
    "    .groupby([\"organization\"])\n",
    "    .agg(\n",
    "        {\n",
    "            \"sector\": \"first\",\n",
    "            \"very_lumped_sector\": \"first\",\n",
    "            \"lobbying_activity_usd\": np.sum,\n",
    "            \"n_entities_lobbied\": np.sum,\n",
    "        }\n",
    "    )\n",
    ")\n",
    "since_2019_df.columns = [\n",
    "    \"Detailed sector\",\n",
    "    \"General sector\",\n",
    "    \"total_ccs_lobbying_usd_2019_to_mid_2024\",\n",
    "    \"total_ccs_lobbying_contacts_2019_to_mid_2024\",\n",
    "]\n",
    "# total for all years\n",
    "total_df = (\n",
    "    df[\n",
    "        [\n",
    "            \"filing_year\",\n",
    "            \"organization\",\n",
    "            \"lobbying_activity_usd\",\n",
    "            \"n_entities_lobbied\",\n",
    "            \"filing_year\",\n",
    "        ]\n",
    "    ]\n",
    "    .loc[(df.definitely_ccs == 1)]\n",
    "    .groupby([\"organization\"])\n",
    "    .agg(\n",
    "        {\n",
    "            \"lobbying_activity_usd\": np.sum,\n",
    "            \"n_entities_lobbied\": np.sum,\n",
    "        }\n",
    "    )\n",
    ")\n",
    "total_df.columns = [\n",
    "    \"total_ccs_lobbying_usd_2005_to_mid2024\",\n",
    "    \"total_ccs_lobbying_contacts_2005_to_mid2024\",\n",
    "]\n",
    "\n",
    "company_summary_df = since_2019_df.merge(total_df, left_index=True, right_index=True)\n",
    "company_summary_df.sort_values(\n",
    "    by=\"total_ccs_lobbying_usd_2019_to_mid_2024\", ascending=False, inplace=True\n",
    ")\n",
    "company_summary_df = company_summary_df[\n",
    "    [\n",
    "        \"General sector\",\n",
    "        \"Detailed sector\",\n",
    "        \"total_ccs_lobbying_usd_2019_to_mid_2024\",\n",
    "        \"total_ccs_lobbying_usd_2005_to_mid2024\",\n",
    "        \"total_ccs_lobbying_contacts_2019_to_mid_2024\",\n",
    "        \"total_ccs_lobbying_contacts_2005_to_mid2024\",\n",
    "    ]\n",
    "].to_clipboard()"
   ]
  },
  {
   "cell_type": "markdown",
   "metadata": {},
   "source": [
    "### Summarize lobbying-count and dollars spent for all organizations"
   ]
  },
  {
   "cell_type": "code",
   "execution_count": 151,
   "metadata": {},
   "outputs": [
    {
     "name": "stdout",
     "output_type": "stream",
     "text": [
      " *** All organizations, 2005-2024 ***\n",
      "lobbying_activity_usd                    7.556522e+08\n",
      "n_entities_lobbied                       5.793800e+04\n",
      "legistlative_entities_lobbied            2.678000e+04\n",
      "executive_entities_lobbied               3.115800e+04\n",
      "energy, dept of                          4.752000e+03\n",
      "environmental protection agency (epa)    3.226000e+03\n",
      "dtype: float64\n",
      "\n",
      " *** All organizations, 2019-2024 ***\n",
      "lobbying_activity_usd                    4.291575e+08\n",
      "n_entities_lobbied                       3.411800e+04\n",
      "legistlative_entities_lobbied            1.667100e+04\n",
      "executive_entities_lobbied               1.744700e+04\n",
      "energy, dept of                          2.840000e+03\n",
      "environmental protection agency (epa)    1.648000e+03\n",
      "dtype: float64\n"
     ]
    }
   ],
   "source": [
    "total_series = (\n",
    "    df[\n",
    "        [\n",
    "            \"organization\",\n",
    "            \"lobbying_activity_usd\",\n",
    "            \"n_entities_lobbied\",\n",
    "            \"legistlative_entities_lobbied\",\n",
    "            \"executive_entities_lobbied\",\n",
    "            \"energy, dept of\",\n",
    "            \"environmental protection agency (epa)\",\n",
    "        ]\n",
    "    ]\n",
    "    .loc[df.definitely_ccs == 1]\n",
    "    .groupby([\"organization\"])\n",
    "    .sum()\n",
    "    .sort_values(\n",
    "        by=[\"lobbying_activity_usd\"],\n",
    "        ascending=False,\n",
    "    )\n",
    "    .sum()\n",
    ")\n",
    "since_2019_series = (\n",
    "    df[\n",
    "        [\n",
    "            \"organization\",\n",
    "            \"lobbying_activity_usd\",\n",
    "            \"n_entities_lobbied\",\n",
    "            \"legistlative_entities_lobbied\",\n",
    "            \"executive_entities_lobbied\",\n",
    "            \"energy, dept of\",\n",
    "            \"environmental protection agency (epa)\",\n",
    "        ]\n",
    "    ]\n",
    "    .loc[(df.definitely_ccs == 1) & (df.filing_year > 2018)]\n",
    "    .groupby([\"organization\"])\n",
    "    .sum()\n",
    "    .sort_values(\n",
    "        by=[\"lobbying_activity_usd\"],\n",
    "        ascending=False,\n",
    "    )\n",
    "    .sum()\n",
    ")\n",
    "print(\" *** All organizations, 2005-2024 ***\")\n",
    "print(total_series)\n",
    "print(\"\")\n",
    "print(\" *** All organizations, 2019-2024 ***\")\n",
    "print(since_2019_series)"
   ]
  },
  {
   "cell_type": "markdown",
   "metadata": {},
   "source": [
    "### Summarize lobbying-count and dollars spent for the 'heavy hitting' organizations (responsible for 50 percent of federal CCS lobbying)"
   ]
  },
  {
   "cell_type": "code",
   "execution_count": 152,
   "metadata": {},
   "outputs": [
    {
     "name": "stdout",
     "output_type": "stream",
     "text": [
      " *** Heavy-hitting organizations, 2005-2024 ***\n",
      "lobbying_activity_usd                     3.778507e+08\n",
      "pct_of_lobbying_dollars_definitely_ccs    5.000325e+01\n",
      "n_entities_lobbied                        1.300300e+04\n",
      "energy, dept of                           1.022000e+03\n",
      "environmental protection agency (epa)     9.960000e+02\n",
      "legistlative_entities_lobbied             5.061000e+03\n",
      "executive_entities_lobbied                7.942000e+03\n",
      "dtype: float64\n",
      "\n",
      " *** Heavy-hitting organizations, 2019-2024 ***\n",
      "lobbying_activity_usd                                2.127510e+08\n",
      "pct_of_lobbying_dollars_definitely_ccs_since_2019    4.957411e+01\n",
      "n_entities_lobbied                                   7.612000e+03\n",
      "energy, dept of                                      5.890000e+02\n",
      "environmental protection agency (epa)                4.900000e+02\n",
      "legistlative_entities_lobbied                        2.972000e+03\n",
      "executive_entities_lobbied                           4.640000e+03\n",
      "dtype: float64\n"
     ]
    }
   ],
   "source": [
    "# get all-organization totals for past 20 years and past 5: find the number of organizations responsible for 50 percent of lobbying\n",
    "total_series = (\n",
    "    df[\n",
    "        [\n",
    "            \"organization\",\n",
    "            \"lobbying_activity_usd\",\n",
    "            \"pct_of_lobbying_dollars_definitely_ccs\",\n",
    "            \"n_entities_lobbied\",\n",
    "            \"energy, dept of\",\n",
    "            \"environmental protection agency (epa)\",\n",
    "            \"legistlative_entities_lobbied\",\n",
    "            \"executive_entities_lobbied\",\n",
    "        ]\n",
    "    ]\n",
    "    .loc[df.definitely_ccs == 1]\n",
    "    .groupby([\"organization\"])\n",
    "    .sum()\n",
    "    .sort_values(\n",
    "        by=[\"lobbying_activity_usd\"],\n",
    "        ascending=False,\n",
    "    )\n",
    "    .head(18)\n",
    "    .sum()\n",
    ")\n",
    "since_2019_series = (\n",
    "    df[\n",
    "        [\n",
    "            \"organization\",\n",
    "            \"lobbying_activity_usd\",\n",
    "            \"pct_of_lobbying_dollars_definitely_ccs_since_2019\",\n",
    "            \"n_entities_lobbied\",\n",
    "            \"energy, dept of\",\n",
    "            \"environmental protection agency (epa)\",\n",
    "            \"legistlative_entities_lobbied\",\n",
    "            \"executive_entities_lobbied\",\n",
    "        ]\n",
    "    ]\n",
    "    .loc[(df.definitely_ccs == 1) & (df.filing_year > 2018)]\n",
    "    .groupby([\"organization\"])\n",
    "    .sum()\n",
    "    .sort_values(\n",
    "        by=[\"lobbying_activity_usd\"],\n",
    "        ascending=False,\n",
    "    )\n",
    "    .head(22)\n",
    "    .sum()\n",
    ")\n",
    "print(\" *** Heavy-hitting organizations, 2005-2024 ***\")\n",
    "print(total_series)\n",
    "print(\"\")\n",
    "print(\" *** Heavy-hitting organizations, 2019-2024 ***\")\n",
    "print(since_2019_series)"
   ]
  },
  {
   "cell_type": "markdown",
   "metadata": {},
   "source": [
    "### Summary figure: definite CCS lobbying by sector, through time"
   ]
  },
  {
   "cell_type": "code",
   "execution_count": 153,
   "metadata": {},
   "outputs": [
    {
     "data": {
      "text/plain": [
       "Text(0.5, 1.0, 'Dollars spent lobbying the US Federal Government regarding CCS')"
      ]
     },
     "execution_count": 153,
     "metadata": {},
     "output_type": "execute_result"
    },
    {
     "data": {
      "image/png": "[encoded data removed]",
      "text/plain": [
       "<Figure size 1700x500 with 1 Axes>"
      ]
     },
     "metadata": {},
     "output_type": "display_data"
    }
   ],
   "source": [
    "# for histogram hue ordering:\n",
    "sector_for_group = \"very_lumped_sector\"\n",
    "very_lumped_order = list(\n",
    "    df[[sector_for_group, \"lobbying_activity_usd\"]]\n",
    "    .groupby(sector_for_group)\n",
    "    .sum()\n",
    "    .sort_values(by=\"lobbying_activity_usd\", ascending=False)\n",
    "    .index\n",
    ")\n",
    "\n",
    "# lobbying_activity_usd\n",
    "years = list(range(2004, 2025))\n",
    "\n",
    "tmp_df = (\n",
    "    df[[\"filing_year\", \"lobbying_activity_usd\", sector_for_group]]\n",
    "    .loc[(df.definitely_ccs == 1)]\n",
    "    .groupby([sector_for_group, \"filing_year\"])\n",
    "    .sum()\n",
    "    .sort_values(by=\"lobbying_activity_usd\", ascending=False)\n",
    "    .reset_index()\n",
    ").copy(deep=True)\n",
    "tmp_df.rename(columns={\"very_lumped_sector\": \"Sector\"}, inplace=True)\n",
    "fig, ax = plt.subplots(1, 1, figsize=(17, 5))\n",
    "ax = sns.histplot(\n",
    "    data=tmp_df,\n",
    "    x=\"filing_year\",\n",
    "    bins=[0.5 + x for x in years],\n",
    "    hue=\"Sector\",\n",
    "    hue_order=very_lumped_order,\n",
    "    shrink=0.9,\n",
    "    weights=\"lobbying_activity_usd\",\n",
    "    multiple=\"stack\",\n",
    "    palette=\"tab10\",\n",
    ")\n",
    "ax.set_xticks(years)\n",
    "ax.set_xticklabels([str(x) for x in years], fontsize=13)\n",
    "ax.set_yticks([0.0e8, 0.2e8, 0.4e8, 0.6e8, 0.8e8, 1e8, 1.2e8])\n",
    "ax.set_yticklabels([0, 20, 40, 60, 80, 100, 120], fontsize=14)\n",
    "ax.set_axisbelow(True)\n",
    "ax.yaxis.grid()\n",
    "ax.set_ylabel(\"Million USD ($)\", fontsize=14)\n",
    "ax.set_xlabel(\"\")\n",
    "# ax.legend(ncols=3, loc=\"upper center\")\n",
    "ax.set_title(\n",
    "    \"Dollars spent lobbying the US Federal Government regarding CCS\", fontsize=18\n",
    ")"
   ]
  },
  {
   "cell_type": "markdown",
   "metadata": {},
   "source": [
    "### Figure showing major CCS lobbiers lobbying dollars spent through time"
   ]
  },
  {
   "cell_type": "code",
   "execution_count": 154,
   "metadata": {},
   "outputs": [
    {
     "data": {
      "text/plain": [
       "Text(0.5, 0, '')"
      ]
     },
     "execution_count": 154,
     "metadata": {},
     "output_type": "execute_result"
    },
    {
     "data": {
      "image/png": "[encoded data removed]",
      "text/plain": [
       "<Figure size 1700x500 with 1 Axes>"
      ]
     },
     "metadata": {},
     "output_type": "display_data"
    }
   ],
   "source": [
    "top_10 = [\n",
    "    \"OCCIDENTAL PETROLEUM\",\n",
    "    \"SOUTHERN COMPANY\",\n",
    "    \"EXXONMOBIL\",\n",
    "    \"EDISON ELECTRIC INSTITUTE\",\n",
    "    \"AMERICAN ELECTRIC POWER\",\n",
    "    \"US CHAMBER OF COMMERCE\",\n",
    "    \"SHELL\",\n",
    "    \"DUKE\",\n",
    "    \"BP AMERICA\",\n",
    "    \"CHEVRON\",\n",
    "]\n",
    "top_3 = [\"EXXONMOBIL\", \"OCCIDENTAL PETROLEUM\", \"SOUTHERN COMPANY\"]\n",
    "top_5 = [\n",
    "    \"OCCIDENTAL PETROLEUM\",\n",
    "    \"SOUTHERN COMPANY\",\n",
    "    \"EXXONMOBIL\",\n",
    "    \"EDISON ELECTRIC INSTITUTE\",\n",
    "    \"AMERICAN ELECTRIC POWER\",\n",
    "]\n",
    "top_df = (\n",
    "    df[[\"lobbying_activity_usd\", \"n_entities_lobbied\", \"organization\", \"filing_year\"]]\n",
    "    .loc[(df.very_likely_ccs == 1) & (df.organization.isin(top_5))]\n",
    "    .groupby([\"filing_year\", \"organization\"])\n",
    "    .sum()\n",
    "    .sort_values(by=\"lobbying_activity_usd\", ascending=False)\n",
    ")\n",
    "\n",
    "years = list(range(2005, 2025))\n",
    "\n",
    "fig, ax = plt.subplots(1, 1, figsize=(17, 5))\n",
    "ax = sns.histplot(\n",
    "    data=top_df,\n",
    "    x=\"filing_year\",\n",
    "    bins=[0.5 + x for x in years],\n",
    "    hue=\"organization\",\n",
    "    shrink=0.9,\n",
    "    weights=\"lobbying_activity_usd\",\n",
    "    multiple=\"stack\",\n",
    ")\n",
    "ax.set_xticks(years)\n",
    "ax.set_xticklabels([str(x) for x in years], fontsize=13)\n",
    "ax.set_yticks(\n",
    "    [\n",
    "        0,\n",
    "        0.05e8,\n",
    "        0.1e8,\n",
    "        0.15e8,\n",
    "        0.20e8,\n",
    "        0.25e8,\n",
    "    ]\n",
    ")\n",
    "ax.set_yticklabels([0, 5, 10, 15, 20, 25], fontsize=14)\n",
    "ax.set_axisbelow(True)\n",
    "ax.yaxis.grid()\n",
    "ax.set_ylabel(\"Million USD ($)\", fontsize=14)\n",
    "ax.set_xlabel(\"\")\n",
    "# ax.legend(ncols=3, loc=\"upper center\")"
   ]
  },
  {
   "cell_type": "markdown",
   "metadata": {},
   "source": [
    "### Quantify steel industry's environmental lobbying that *DOESNT* relate to CCS"
   ]
  },
  {
   "cell_type": "code",
   "execution_count": 158,
   "metadata": {},
   "outputs": [
    {
     "name": "stdout",
     "output_type": "stream",
     "text": [
      "We'll focus on activities that are not even potentially CCS activities: \n"
     ]
    },
    {
     "data": {
      "text/plain": [
       "potentially_ccs\n",
       "0    5899\n",
       "1     209\n",
       "Name: count, dtype: int64"
      ]
     },
     "execution_count": 158,
     "metadata": {},
     "output_type": "execute_result"
    }
   ],
   "source": [
    "steel_df = pd.read_csv(PATH_TO_POSTPROCESSED_STEEL_INDUSTRY_FILINGS)\n",
    "print(\"We'll focus on activities that are not even potentially CCS activities: \")\n",
    "steel_df.potentially_ccs.value_counts()"
   ]
  },
  {
   "cell_type": "code",
   "execution_count": 159,
   "metadata": {},
   "outputs": [],
   "source": [
    "# identify lobbying activities dealing with 'environmental' subjects\n",
    "steel_df[\"environmental\"] = [\n",
    "    1\n",
    "    if terms_present(\n",
    "        x,\n",
    "        [\n",
    "            \"environment\",\n",
    "            \"sustainability\",\n",
    "            \"sustain\",\n",
    "            \"renewable\",\n",
    "            \"climate\",\n",
    "            \"net zero\",\n",
    "            \"greenhouse\",\n",
    "            \"paris accord\",\n",
    "            \"low carbon\",\n",
    "            \"carbon neutral\",\n",
    "            \"carbon-neutral\",\n",
    "            \"emission\",\n",
    "            \"air quality\",\n",
    "            \"recycle\",\n",
    "            \"recycled\",\n",
    "            \"recycling\",\n",
    "            \"carbon dioxide\",\n",
    "            \"solar\",\n",
    "            \"wind\",\n",
    "            \"clean air\",\n",
    "            \"co2\",\n",
    "            \"green hydrogen\",\n",
    "            \"carbondioxide\",\n",
    "            \"GHG\",\n",
    "            \"pollution\",\n",
    "            \"green steel\",\n",
    "            \"pollutant\",\n",
    "            \"green h2\",\n",
    "            \"zero emission\",\n",
    "            \"reduced carbon\",\n",
    "            \"zero-emission\",\n",
    "            \"zero carbon\",\n",
    "            \"zerocarbon\",\n",
    "            \"lowcarbon\",\n",
    "            \"carbonneutral\",\n",
    "            \"earth friendly\",\n",
    "            \"cafe standard\",\n",
    "            \"low waste\",\n",
    "        ],\n",
    "    )\n",
    "    else 0\n",
    "    for x in steel_df.cleaned_description\n",
    "]\n",
    "# steel_df.loc[steel_df.potentially_ccs == 0].environmental.value_counts()"
   ]
  },
  {
   "cell_type": "code",
   "execution_count": 160,
   "metadata": {},
   "outputs": [
    {
     "name": "stdout",
     "output_type": "stream",
     "text": [
      "The steel industry spent $51593404 between 2005 and 2024 lobbying regarding non-CCS environmental topics\n"
     ]
    }
   ],
   "source": [
    "total_non_ccs_enviornmental_dollars_steel = steel_df.loc[\n",
    "    (steel_df.environmental == 1)\n",
    "    & (steel_df.potentially_ccs == 0)\n",
    "    & (steel_df.sector == \"iron and steel\")\n",
    "].lobbying_activity_usd.sum()\n",
    "\n",
    "print(\n",
    "    f\"The steel industry spent ${total_non_ccs_enviornmental_dollars_steel:.0f} between 2005 and 2024 lobbying regarding non-CCS environmental topics\"\n",
    ")"
   ]
  },
  {
   "cell_type": "markdown",
   "metadata": {},
   "source": [
    "### Compute the fraction of the total CCS lobbying"
   ]
  },
  {
   "cell_type": "code",
   "execution_count": 161,
   "metadata": {},
   "outputs": [],
   "source": [
    "big_spenders_total_df = pd.read_csv(PATH_TO_POSTPROCESSED_BIG_SPENDERS_FILINGS)\n",
    "big_spenders_total_df.lobbying_activity_usd.fillna(0, inplace=True)"
   ]
  },
  {
   "cell_type": "code",
   "execution_count": 162,
   "metadata": {},
   "outputs": [],
   "source": [
    "ccs_lobbying_df = (\n",
    "    big_spenders_total_df[[\"organization\", \"lobbying_activity_usd\"]]\n",
    "    .loc[big_spenders_total_df.definitely_ccs == 1]\n",
    "    .groupby(\"organization\")\n",
    "    .sum()\n",
    "    .sort_values(by=\"lobbying_activity_usd\", ascending=False)\n",
    ")\n",
    "ccs_lobbying_df.columns = [\"ccs_lobbying_activity_usd_2005_2024\"]\n",
    "total_lobbying_df = (\n",
    "    big_spenders_total_df[[\"organization\", \"lobbying_activity_usd\"]]\n",
    "    .groupby(\"organization\")\n",
    "    .sum()\n",
    "    .sort_values(by=\"lobbying_activity_usd\", ascending=False)\n",
    ")\n",
    "total_lobbying_df.columns = [\"all_lobbying_activity_usd_2005_2024\"]\n",
    "ccs_fraction_df = total_lobbying_df.merge(\n",
    "    ccs_lobbying_df, left_index=True, right_index=True, how=\"right\"\n",
    ")\n",
    "ccs_fraction_df[\"ccs_fraction\"] = [\n",
    "    ccs / a if a > 0 else 0\n",
    "    for ccs, a in zip(\n",
    "        ccs_fraction_df[\"ccs_lobbying_activity_usd_2005_2024\"],\n",
    "        ccs_fraction_df[\"all_lobbying_activity_usd_2005_2024\"],\n",
    "    )\n",
    "]\n",
    "ccs_fraction_df = ccs_fraction_df[\n",
    "    [\n",
    "        \"ccs_fraction\",\n",
    "        \"all_lobbying_activity_usd_2005_2024\",\n",
    "        \"ccs_lobbying_activity_usd_2005_2024\",\n",
    "    ]\n",
    "].sort_values(\n",
    "    by=\"ccs_lobbying_activity_usd_2005_2024\",\n",
    "    ascending=False,\n",
    ")\n",
    "ccs_fraction_df.head(30).to_clipboard()"
   ]
  },
  {
   "cell_type": "code",
   "execution_count": null,
   "metadata": {},
   "outputs": [],
   "source": []
  }
 ],
 "metadata": {
  "kernelspec": {
   "display_name": "projects-7_KjhAaO-py3.12",
   "language": "python",
   "name": "python3"
  },
  "language_info": {
   "codemirror_mode": {
    "name": "ipython",
    "version": 3
   },
   "file_extension": ".py",
   "mimetype": "text/x-python",
   "name": "python",
   "nbconvert_exporter": "python",
   "pygments_lexer": "ipython3",
   "version": "3.12.6"
  }
 },
 "nbformat": 4,
 "nbformat_minor": 2
}
