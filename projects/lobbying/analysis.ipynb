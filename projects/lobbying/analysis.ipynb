{
 "cells": [
  {
   "cell_type": "markdown",
   "metadata": {},
   "source": [
    "## Tabulations and figures for CCS-lobbying-activity analysis\n",
    "Lindsey Gulden, lindsey@legupdata.com\n",
    "October 2024"
   ]
  },
  {
   "cell_type": "code",
   "execution_count": 47,
   "metadata": {},
   "outputs": [
    {
     "name": "stdout",
     "output_type": "stream",
     "text": [
      "The jupyter_black extension is already loaded. To reload it, use:\n",
      "  %reload_ext jupyter_black\n"
     ]
    }
   ],
   "source": [
    "\n",
    "import pandas as pd\n",
    "\n",
    "from utils.io import yaml_to_dict\n",
    "from projects.lobbying.postproc_utils import terms_present\n",
    "import numpy as np\n",
    "\n",
    "import matplotlib.pyplot as plt\n",
    "import seaborn as sns\n",
    "\n",
    "import warnings\n",
    "\n",
    "warnings.filterwarnings(\"ignore\")\n",
    "%load_ext jupyter_black"
   ]
  },
  {
   "cell_type": "markdown",
   "metadata": {},
   "source": [
    "### PATHS TO POSTPROCESSED DATA, YAML CONFIGURATIONS"
   ]
  },
  {
   "cell_type": "code",
   "execution_count": 80,
   "metadata": {},
   "outputs": [],
   "source": [
    "PATH_TO_POSTPROCESSED_FILINGS = (\n",
<<<<<<< HEAD
    "    \"/Volumes/Samsung_T5/data/lobbying/ccs/nov26_postprocessed_fillings.csv\"\n",
    ")\n",
    "PATH_TO_POSTPROCESSED_STEEL_INDUSTRY_FILINGS = \"/Volumes/Samsung_T5/data/lobbying/steel_iron_organizations/nov26_postprocessed_steel_iron_org_filings.csv\"\n",
    "PATH_TO_POSTPROCESSED_BIG_SPENDERS_FILINGS = (\n",
    "    \"/Volumes/Samsung_T5/data/lobbying/oil_and_gas_orgs/nov26_postprocessed_filings.csv\"\n",
    ")\n",
    "\n",
    "PATH_TO_POSTPROC_SPECS_YAML = \"/Users/lindseygulden/dev/leg-up-private/projects/lobbying/definitions/ccs_postproc_specifications.yml\"\n"
=======
    "    \"/Volumes/Samsung_T5/data/lobbying/ccs/postprocessed_fillings.csv\"\n",
    ")\n",
    "PATH_TO_POSTPROCESSED_STEEL_INDUSTRY_FILINGS = \"/Volumes/Samsung_T5/data/lobbying/steel_iron_organizations/postprocessed_steel_iron_org_filings.csv\"\n",
    "PATH_TO_POSTPROCESSED_BIG_SPENDERS_FILINGS = (\n",
    "    \"/Volumes/Samsung_T5/data/lobbying/oil_and_gas_orgs/postprocessed_filings.csv\"\n",
    ")\n",
    "\n",
    "PATH_TO_POSTPROC_SPECS_YAML = \"/Users/lindseygulden/dev/leg-up/projects/lobbying/definitions/ccs_postproc_specifications.yml\""
>>>>>>> b6fe02426a92820c9b9c64cc1680fe240eda7ead
   ]
  },
  {
   "cell_type": "markdown",
   "metadata": {},
   "source": [
    "### Load postprocessed data, summarize general counts"
   ]
  },
  {
   "cell_type": "code",
   "execution_count": 49,
   "metadata": {},
   "outputs": [
    {
     "data": {
      "text/plain": [
       "ccs_company                958\n",
       "contains_description      8945\n",
       "ccs_bills                 3304\n",
       "ccs_bills_number_only     3807\n",
       "bills_with_ccs_terms      3550\n",
       "definitely_ccs           12969\n",
       "very_likely_ccs          14432\n",
       "likely_ccs               14857\n",
       "h2_mention_core_ff        2168\n",
       "potentially_ccs          30914\n",
       "dtype: int64"
      ]
     },
     "execution_count": 49,
     "metadata": {},
     "output_type": "execute_result"
    }
   ],
   "source": [
    "df = pd.read_csv(PATH_TO_POSTPROCESSED_FILINGS)\n",
    "\n",
    "df[\n",
    "    [\n",
    "        \"ccs_company\",\n",
    "        \"contains_description\",\n",
    "        \"ccs_bills\",\n",
    "        \"ccs_bills_number_only\",\n",
    "        \"bills_with_ccs_terms\",\n",
    "        \"definitely_ccs\",\n",
    "        \"very_likely_ccs\",\n",
    "        \"likely_ccs\",\n",
    "        \"h2_mention_core_ff\",\n",
    "        \"potentially_ccs\",\n",
    "    ]\n",
    "].sum()"
   ]
  },
  {
   "cell_type": "markdown",
   "metadata": {},
   "source": [
    "### Summarize the mapping of names of organizations used on filing documents to single names \n",
    "(e.g. \"EXXON MOBIL CORPORATION\" and \"EXXONMOBIL\" are both mapped to \"EXXONMOBIL\")"
   ]
  },
  {
   "cell_type": "code",
   "execution_count": 50,
   "metadata": {},
   "outputs": [],
   "source": [
    "companies_df = (\n",
    "    df[\n",
    "        [\n",
    "            \"client_name_on_filing_document\",\n",
    "            \"client_id\",\n",
    "            \"organization\",\n",
    "            \"sector\",\n",
    "            \"lumped_sector\",\n",
    "            \"very_lumped_sector\",\n",
    "            \"definitely_ccs\",\n",
    "        ]\n",
    "    ]\n",
    "    .groupby([\"client_name_on_filing_document\", \"client_id\"])\n",
    "    .agg(\n",
    "        {\n",
    "            \"definitely_ccs\": \"max\",\n",
    "            \"organization\": \"first\",\n",
    "            \"sector\": \"first\",\n",
    "            \"lumped_sector\": \"first\",\n",
    "            \"very_lumped_sector\": \"first\",\n",
    "        }\n",
    "    )\n",
    ")\n",
    "companies_df.reset_index(inplace=True)\n",
    "companies_df.sort_values(\n",
    "    by=[\"organization\", \"client_name_on_filing_document\", \"client_id\"], ascending=True\n",
    ").to_clipboard()"
   ]
  },
  {
   "cell_type": "markdown",
   "metadata": {},
   "source": [
    "### Subset data to lobbying activities identified as 'definitey CCS'. Compute percentages of total dollars and lobbying/entity contacts"
   ]
  },
  {
   "cell_type": "code",
   "execution_count": 51,
   "metadata": {},
   "outputs": [],
   "source": [
    "# for plotting and analysis, subset to only the 'definitely ccs' lobbying activities\n",
    "df = df.loc[df.definitely_ccs == 1]\n",
    "\n",
    "tot_dollars = df.lobbying_activity_usd.sum()\n",
    "\n",
    "tot_contacts = df.n_entities_lobbied.sum()\n",
    "\n",
    "tot_dollars_since_2019 = df.loc[df.filing_year > 2018].lobbying_activity_usd.sum()\n",
    "\n",
    "tot_contacts_since_2019 = df.loc[df.filing_year > 2018].n_entities_lobbied.sum()\n",
    "\n",
    "# compute percentages of total dollars and entity contacts for all years\n",
    "df[\"pct_of_lobbying_dollars_definitely_ccs\"] = [\n",
    "    100 * x / tot_dollars for x in df.lobbying_activity_usd\n",
    "]\n",
    "\n",
    "df[\"pct_of_entity_contacts_definitely_ccs\"] = [\n",
    "    100 * x / tot_contacts for x in df.n_entities_lobbied\n",
    "]\n",
    "\n",
    "# compute percentages of total dollars and entity contacts since 2019\n",
    "df[\"pct_of_lobbying_dollars_definitely_ccs_since_2019\"] = [\n",
    "    100 * x / tot_dollars_since_2019 if y > 2018 else 0\n",
    "    for x, y in zip(df.lobbying_activity_usd, df.filing_year)\n",
    "]\n",
    "\n",
    "df[\"pct_of_entity_contacts_definitely_ccs_since_2019\"] = [\n",
    "    100 * x / tot_contacts_since_2019 if y > 2018 else 0\n",
    "    for x, y in zip(df.n_entities_lobbied, df.filing_year)\n",
    "]"
   ]
  },
  {
   "cell_type": "code",
   "execution_count": 52,
   "metadata": {},
   "outputs": [
    {
     "name": "stdout",
     "output_type": "stream",
     "text": [
      "Dollars spent:\n",
      "From Jan 1 2019 through June 30 2024 $426408102\n",
      "From Jan 1 2005 through June 30 2024: $752886099\n",
      "\n",
      "Contacts made:\n",
      "From Jan 1 2019 through June 30 2024: 33388\n",
      "From Jan 1 2005 through June 30 2024: 57205\n",
      "\n",
      "CCS lobbying contacts per work day since start of 2019: 24.3\n"
     ]
    }
   ],
   "source": [
    "print(\"Dollars spent:\")\n",
    "since_2019 = df.loc[\n",
    "    (df.definitely_ccs == 1) & (df.filing_year > 2018)\n",
    "].lobbying_activity_usd.sum()\n",
    "print(f\"From Jan 1 2019 through June 30 2024 ${since_2019:.0f}\")\n",
    "allyears = df.loc[(df.definitely_ccs == 1)].lobbying_activity_usd.sum()\n",
    "print(f\"From Jan 1 2005 through June 30 2024: ${allyears:.0f}\")\n",
    "print(\"\")\n",
    "print(\"Contacts made:\")\n",
    "since_2019 = df.loc[\n",
    "    (df.definitely_ccs == 1) & (df.filing_year > 2018)\n",
    "].n_entities_lobbied.sum()\n",
    "print(f\"From Jan 1 2019 through June 30 2024: {since_2019}\")\n",
    "allyears = df.loc[(df.definitely_ccs == 1)].n_entities_lobbied.sum()\n",
    "print(f\"From Jan 1 2005 through June 30 2024: {allyears}\")\n",
    "print(\"\")\n",
    "print(\n",
    "    f\"CCS lobbying contacts per work day since start of 2019: {since_2019 / (50 * 5 * 5.5):.1f}\"\n",
    ")"
   ]
  },
  {
   "cell_type": "code",
   "execution_count": 53,
   "metadata": {},
   "outputs": [
    {
     "name": "stdout",
     "output_type": "stream",
     "text": [
      "Core fossil-fuel-sector industry is responsible for 76% of CCS lobbying dollars\n",
      "Core FF + FF-adjacent industry is responsible for 88% of CCS lobbying dollars\n",
      "Non-fossil-fuel-sector industry is responsible for 3% of CCS lobbying dollars\n",
      "Industry that directly profits from selling or burning fossil fuels spends 24 times as much as non-FF industry on CCS lobbying\n"
     ]
    }
   ],
   "source": [
    "core_ff_sectors = yaml_to_dict(PATH_TO_POSTPROC_SPECS_YAML)[\"core_industry_sectors\"]\n",
    "ff_adjacent_sectors = yaml_to_dict(PATH_TO_POSTPROC_SPECS_YAML)[\n",
    "    \"industry_adjacent_sectors\"\n",
    "]\n",
    "pct_core_ff = df.loc[\n",
    "    df.sector.isin(core_ff_sectors) & (df.definitely_ccs == 1)\n",
    "].pct_of_lobbying_dollars_definitely_ccs.sum()\n",
    "pct_ff_adjacent = df.loc[\n",
    "    df.sector.isin(ff_adjacent_sectors) & (df.definitely_ccs == 1)\n",
    "].pct_of_lobbying_dollars_definitely_ccs.sum()\n",
    "pct_non_ff_industry = df.loc[\n",
    "    (df.very_lumped_sector == \"NON-FF-INDUSTRY\") & (df.definitely_ccs == 1)\n",
    "].pct_of_lobbying_dollars_definitely_ccs.sum()\n",
    "print(\n",
    "    f\"Core fossil-fuel-sector industry is responsible for {pct_core_ff:.0f}% of CCS lobbying dollars\"\n",
    ")\n",
    "print(\n",
    "    f\"Core FF + FF-adjacent industry is responsible for {pct_ff_adjacent:.0f}% of CCS lobbying dollars\"\n",
    ")\n",
    "print(\n",
    "    f\"Non-fossil-fuel-sector industry is responsible for {pct_non_ff_industry:.0f}% of CCS lobbying dollars\"\n",
    ")\n",
    "ratio_of_ff_to_non_ff_industry_spending = pct_core_ff / pct_non_ff_industry\n",
    "print(\n",
    "    f\"Industry that directly profits from selling or burning fossil fuels spends {ratio_of_ff_to_non_ff_industry_spending:.0f} times as much as non-FF industry on CCS lobbying\"\n",
    ")"
   ]
  },
  {
   "cell_type": "code",
   "execution_count": 54,
   "metadata": {},
   "outputs": [
    {
     "name": "stdout",
     "output_type": "stream",
     "text": [
      "Core fossil-fuel-sector industry is responsible for 57% of CCS lobbying contacts\n",
      "Core FF + FF-adjacent industry is responsible for 74% of CCS lobbying contacts\n",
      "Non-fossil-fuel-sector industry is responsible for 6% of CCS lobbying contacts\n",
      "Industry that directly profits from selling or burning fossil fuels contacts the federal government 10 times as much as non-FF industry on CCS lobbying\n"
     ]
    }
   ],
   "source": [
    "pct_core_ff = df.loc[\n",
    "    df.sector.isin(core_ff_sectors) & (df.definitely_ccs == 1)\n",
    "].pct_of_entity_contacts_definitely_ccs.sum()\n",
    "pct_ff_adjacent = df.loc[\n",
    "    df.sector.isin(ff_adjacent_sectors) & (df.definitely_ccs == 1)\n",
    "].pct_of_entity_contacts_definitely_ccs.sum()\n",
    "pct_non_ff_industry = df.loc[\n",
    "    (df.very_lumped_sector == \"NON-FF-INDUSTRY\") & (df.definitely_ccs == 1)\n",
    "].pct_of_entity_contacts_definitely_ccs.sum()\n",
    "print(\n",
    "    f\"Core fossil-fuel-sector industry is responsible for {pct_core_ff:.0f}% of CCS lobbying contacts\"\n",
    ")\n",
    "print(\n",
    "    f\"Core FF + FF-adjacent industry is responsible for {pct_ff_adjacent:.0f}% of CCS lobbying contacts\"\n",
    ")\n",
    "print(\n",
    "    f\"Non-fossil-fuel-sector industry is responsible for {pct_non_ff_industry:.0f}% of CCS lobbying contacts\"\n",
    ")\n",
    "ratio_of_ff_to_non_ff_industry_spending = pct_core_ff / pct_non_ff_industry\n",
    "print(\n",
    "    f\"Industry that directly profits from selling or burning fossil fuels contacts the federal government {ratio_of_ff_to_non_ff_industry_spending:.0f} times as much as non-FF industry on CCS lobbying\"\n",
    ")"
   ]
  },
  {
   "cell_type": "code",
   "execution_count": 41,
   "metadata": {},
   "outputs": [
    {
     "name": "stdout",
     "output_type": "stream",
     "text": [
      "Oil And Gas\n",
      "Investor Owned Utilities\n",
      "Chemicals, Refining, And Plastics\n",
      "Coal\n",
      "Ccs\n",
      "Independent Power Producers\n",
      "Pipelines\n",
      "Municipal And Cooperative Utilities\n",
      "Power Sector General\n",
      "Oilfield Services\n",
      "Clean Hydrogen\n",
      "\n",
      "Oil And Gas\n",
      "Investor Owned Utilities\n",
      "Chemicals, Refining, And Plastics\n",
      "Coal\n",
      "Biofuels\n",
      "Energy Technology\n",
      "Ccs\n",
      "Independent Power Producers\n",
      "Power Sector General\n",
      "Air Transit\n",
      "Railway\n",
      "Pipelines\n",
      "Municipal And Cooperative Utilities\n",
      "Business Advocacy\n",
      "Fuel Cell\n",
      "Land Transit\n",
      "Oilfield Services\n",
      "Clean Hydrogen\n"
     ]
    }
   ],
   "source": [
    "# Write out which detailed sectors are in each sector grouping:\n",
    "for c in core_ff_sectors:\n",
    "    print(f\"{c.title()}\")\n",
    "\n",
    "print(\"\")\n",
    "for c in ff_adjacent_sectors:\n",
    "    print(f\"{c.title()}\")"
   ]
  },
  {
   "cell_type": "markdown",
   "metadata": {},
   "source": [
    "### Which lumped sectors do the most CCS lobbying?"
   ]
  },
  {
   "cell_type": "code",
   "execution_count": 55,
   "metadata": {},
   "outputs": [
    {
     "data": {
      "text/html": [
       "<div>\n",
       "<style scoped>\n",
       "    .dataframe tbody tr th:only-of-type {\n",
       "        vertical-align: middle;\n",
       "    }\n",
       "\n",
       "    .dataframe tbody tr th {\n",
       "        vertical-align: top;\n",
       "    }\n",
       "\n",
       "    .dataframe thead th {\n",
       "        text-align: right;\n",
       "    }\n",
       "</style>\n",
       "<table border=\"1\" class=\"dataframe\">\n",
       "  <thead>\n",
       "    <tr style=\"text-align: right;\">\n",
       "      <th></th>\n",
       "      <th>very_lumped_sector</th>\n",
       "      <th>lobbying_activity_usd</th>\n",
       "      <th>n_entities_lobbied</th>\n",
       "      <th>pct_of_lobbying_dollars_definitely_ccs</th>\n",
       "      <th>pct_of_entity_contacts_definitely_ccs</th>\n",
       "    </tr>\n",
       "    <tr>\n",
       "      <th>lumped_sector</th>\n",
       "      <th></th>\n",
       "      <th></th>\n",
       "      <th></th>\n",
       "      <th></th>\n",
       "      <th></th>\n",
       "    </tr>\n",
       "  </thead>\n",
       "  <tbody>\n",
       "    <tr>\n",
       "      <th>FOSSIL FUEL</th>\n",
       "      <td>FOSSIL-FUEL</td>\n",
       "      <td>2.584012e+08</td>\n",
       "      <td>14796</td>\n",
       "      <td>34.321426</td>\n",
       "      <td>25.864872</td>\n",
       "    </tr>\n",
       "    <tr>\n",
       "      <th>INVESTOR-OWNED-POWER-SECTOR</th>\n",
       "      <td>POWER-UTILITIES</td>\n",
       "      <td>2.351714e+08</td>\n",
       "      <td>9661</td>\n",
       "      <td>31.235990</td>\n",
       "      <td>16.888384</td>\n",
       "    </tr>\n",
       "    <tr>\n",
       "      <th>CHEMICALS</th>\n",
       "      <td>CHEMICALS</td>\n",
       "      <td>5.517641e+07</td>\n",
       "      <td>3970</td>\n",
       "      <td>7.328652</td>\n",
       "      <td>6.939953</td>\n",
       "    </tr>\n",
       "    <tr>\n",
       "      <th>TRANSPORT</th>\n",
       "      <td>TRANSPORT</td>\n",
       "      <td>3.502423e+07</td>\n",
       "      <td>2824</td>\n",
       "      <td>4.651996</td>\n",
       "      <td>4.936631</td>\n",
       "    </tr>\n",
       "    <tr>\n",
       "      <th>NON-FF-INDUSTRY</th>\n",
       "      <td>NON-FF-INDUSTRY</td>\n",
       "      <td>2.406134e+07</td>\n",
       "      <td>3201</td>\n",
       "      <td>3.195881</td>\n",
       "      <td>5.595665</td>\n",
       "    </tr>\n",
       "    <tr>\n",
       "      <th>BIOFUEL-SYNFUEL</th>\n",
       "      <td>BIOFUEL-SYNFUEL</td>\n",
       "      <td>2.053750e+07</td>\n",
       "      <td>3892</td>\n",
       "      <td>2.727836</td>\n",
       "      <td>6.803601</td>\n",
       "    </tr>\n",
       "    <tr>\n",
       "      <th>ENGINEERING-TECH</th>\n",
       "      <td>ENGINEERING-TECH</td>\n",
       "      <td>1.943529e+07</td>\n",
       "      <td>2900</td>\n",
       "      <td>2.581438</td>\n",
       "      <td>5.069487</td>\n",
       "    </tr>\n",
       "    <tr>\n",
       "      <th>BUSINESS-ADVOCACY</th>\n",
       "      <td>BUSINESS-ADVOCACY</td>\n",
       "      <td>1.800908e+07</td>\n",
       "      <td>1274</td>\n",
       "      <td>2.392006</td>\n",
       "      <td>2.227078</td>\n",
       "    </tr>\n",
       "    <tr>\n",
       "      <th>MUNICIPAL-UTILITIES</th>\n",
       "      <td>POWER-UTILITIES</td>\n",
       "      <td>1.660016e+07</td>\n",
       "      <td>1462</td>\n",
       "      <td>2.204870</td>\n",
       "      <td>2.555721</td>\n",
       "    </tr>\n",
       "    <tr>\n",
       "      <th>CARBON MANAGEMENT</th>\n",
       "      <td>CARBON-MANAGEMENT</td>\n",
       "      <td>1.354311e+07</td>\n",
       "      <td>3140</td>\n",
       "      <td>1.798826</td>\n",
       "      <td>5.489031</td>\n",
       "    </tr>\n",
       "    <tr>\n",
       "      <th>RENEWABLES</th>\n",
       "      <td>OTHER</td>\n",
       "      <td>1.242745e+07</td>\n",
       "      <td>1667</td>\n",
       "      <td>1.650641</td>\n",
       "      <td>2.914081</td>\n",
       "    </tr>\n",
       "    <tr>\n",
       "      <th>NONPROFIT</th>\n",
       "      <td>OTHER</td>\n",
       "      <td>1.205111e+07</td>\n",
       "      <td>2665</td>\n",
       "      <td>1.600655</td>\n",
       "      <td>4.658684</td>\n",
       "    </tr>\n",
       "    <tr>\n",
       "      <th>EMPLOYEES</th>\n",
       "      <td>OTHER</td>\n",
       "      <td>1.188715e+07</td>\n",
       "      <td>2381</td>\n",
       "      <td>1.578878</td>\n",
       "      <td>4.162224</td>\n",
       "    </tr>\n",
       "    <tr>\n",
       "      <th>AGRICULTURE</th>\n",
       "      <td>OTHER</td>\n",
       "      <td>8.016849e+06</td>\n",
       "      <td>1670</td>\n",
       "      <td>1.064816</td>\n",
       "      <td>2.919325</td>\n",
       "    </tr>\n",
       "    <tr>\n",
       "      <th>FINANCE</th>\n",
       "      <td>OTHER</td>\n",
       "      <td>7.039099e+06</td>\n",
       "      <td>679</td>\n",
       "      <td>0.934949</td>\n",
       "      <td>1.186959</td>\n",
       "    </tr>\n",
       "    <tr>\n",
       "      <th>RESEARCH-ADVOCACY</th>\n",
       "      <td>OTHER</td>\n",
       "      <td>2.994945e+06</td>\n",
       "      <td>362</td>\n",
       "      <td>0.397795</td>\n",
       "      <td>0.632812</td>\n",
       "    </tr>\n",
       "    <tr>\n",
       "      <th>OTHER</th>\n",
       "      <td>OTHER</td>\n",
       "      <td>2.509709e+06</td>\n",
       "      <td>661</td>\n",
       "      <td>0.333345</td>\n",
       "      <td>1.155493</td>\n",
       "    </tr>\n",
       "  </tbody>\n",
       "</table>\n",
       "</div>"
      ],
      "text/plain": [
       "                            very_lumped_sector  lobbying_activity_usd  \\\n",
       "lumped_sector                                                           \n",
       "FOSSIL FUEL                        FOSSIL-FUEL           2.584012e+08   \n",
       "INVESTOR-OWNED-POWER-SECTOR    POWER-UTILITIES           2.351714e+08   \n",
       "CHEMICALS                            CHEMICALS           5.517641e+07   \n",
       "TRANSPORT                            TRANSPORT           3.502423e+07   \n",
       "NON-FF-INDUSTRY                NON-FF-INDUSTRY           2.406134e+07   \n",
       "BIOFUEL-SYNFUEL                BIOFUEL-SYNFUEL           2.053750e+07   \n",
       "ENGINEERING-TECH              ENGINEERING-TECH           1.943529e+07   \n",
       "BUSINESS-ADVOCACY            BUSINESS-ADVOCACY           1.800908e+07   \n",
       "MUNICIPAL-UTILITIES            POWER-UTILITIES           1.660016e+07   \n",
       "CARBON MANAGEMENT            CARBON-MANAGEMENT           1.354311e+07   \n",
       "RENEWABLES                               OTHER           1.242745e+07   \n",
       "NONPROFIT                                OTHER           1.205111e+07   \n",
       "EMPLOYEES                                OTHER           1.188715e+07   \n",
       "AGRICULTURE                              OTHER           8.016849e+06   \n",
       "FINANCE                                  OTHER           7.039099e+06   \n",
       "RESEARCH-ADVOCACY                        OTHER           2.994945e+06   \n",
       "OTHER                                    OTHER           2.509709e+06   \n",
       "\n",
       "                             n_entities_lobbied  \\\n",
       "lumped_sector                                     \n",
       "FOSSIL FUEL                               14796   \n",
       "INVESTOR-OWNED-POWER-SECTOR                9661   \n",
       "CHEMICALS                                  3970   \n",
       "TRANSPORT                                  2824   \n",
       "NON-FF-INDUSTRY                            3201   \n",
       "BIOFUEL-SYNFUEL                            3892   \n",
       "ENGINEERING-TECH                           2900   \n",
       "BUSINESS-ADVOCACY                          1274   \n",
       "MUNICIPAL-UTILITIES                        1462   \n",
       "CARBON MANAGEMENT                          3140   \n",
       "RENEWABLES                                 1667   \n",
       "NONPROFIT                                  2665   \n",
       "EMPLOYEES                                  2381   \n",
       "AGRICULTURE                                1670   \n",
       "FINANCE                                     679   \n",
       "RESEARCH-ADVOCACY                           362   \n",
       "OTHER                                       661   \n",
       "\n",
       "                             pct_of_lobbying_dollars_definitely_ccs  \\\n",
       "lumped_sector                                                         \n",
       "FOSSIL FUEL                                               34.321426   \n",
       "INVESTOR-OWNED-POWER-SECTOR                               31.235990   \n",
       "CHEMICALS                                                  7.328652   \n",
       "TRANSPORT                                                  4.651996   \n",
       "NON-FF-INDUSTRY                                            3.195881   \n",
       "BIOFUEL-SYNFUEL                                            2.727836   \n",
       "ENGINEERING-TECH                                           2.581438   \n",
       "BUSINESS-ADVOCACY                                          2.392006   \n",
       "MUNICIPAL-UTILITIES                                        2.204870   \n",
       "CARBON MANAGEMENT                                          1.798826   \n",
       "RENEWABLES                                                 1.650641   \n",
       "NONPROFIT                                                  1.600655   \n",
       "EMPLOYEES                                                  1.578878   \n",
       "AGRICULTURE                                                1.064816   \n",
       "FINANCE                                                    0.934949   \n",
       "RESEARCH-ADVOCACY                                          0.397795   \n",
       "OTHER                                                      0.333345   \n",
       "\n",
       "                             pct_of_entity_contacts_definitely_ccs  \n",
       "lumped_sector                                                       \n",
       "FOSSIL FUEL                                              25.864872  \n",
       "INVESTOR-OWNED-POWER-SECTOR                              16.888384  \n",
       "CHEMICALS                                                 6.939953  \n",
       "TRANSPORT                                                 4.936631  \n",
       "NON-FF-INDUSTRY                                           5.595665  \n",
       "BIOFUEL-SYNFUEL                                           6.803601  \n",
       "ENGINEERING-TECH                                          5.069487  \n",
       "BUSINESS-ADVOCACY                                         2.227078  \n",
       "MUNICIPAL-UTILITIES                                       2.555721  \n",
       "CARBON MANAGEMENT                                         5.489031  \n",
       "RENEWABLES                                                2.914081  \n",
       "NONPROFIT                                                 4.658684  \n",
       "EMPLOYEES                                                 4.162224  \n",
       "AGRICULTURE                                               2.919325  \n",
       "FINANCE                                                   1.186959  \n",
       "RESEARCH-ADVOCACY                                         0.632812  \n",
       "OTHER                                                     1.155493  "
      ]
     },
     "execution_count": 55,
     "metadata": {},
     "output_type": "execute_result"
    }
   ],
   "source": [
    "lobbying_by_sector_totals_df = (\n",
    "    df[\n",
    "        [\n",
    "            \"sector\",\n",
    "            \"lumped_sector\",\n",
    "            \"very_lumped_sector\",\n",
    "            \"lobbying_activity_usd\",\n",
    "            \"n_entities_lobbied\",\n",
    "            \"pct_of_lobbying_dollars_definitely_ccs\",\n",
    "            \"pct_of_entity_contacts_definitely_ccs\",\n",
    "        ]\n",
    "    ]\n",
    "    .loc[df[\"definitely_ccs\"] == 1]\n",
    "    .groupby([\"lumped_sector\"])\n",
    "    .agg(\n",
    "        {\n",
    "            # \"lumped_sector\": \"first\",\n",
    "            \"very_lumped_sector\": \"first\",\n",
    "            \"lobbying_activity_usd\": sum,\n",
    "            \"n_entities_lobbied\": sum,\n",
    "            \"pct_of_lobbying_dollars_definitely_ccs\": sum,\n",
    "            \"pct_of_entity_contacts_definitely_ccs\": sum,\n",
    "        }\n",
    "    )\n",
    "    .sort_values(by=\"lobbying_activity_usd\", ascending=False)\n",
    ")\n",
    "\n",
    "\n",
    "lobbying_by_sector_totals_df  # .to_clipboard()"
   ]
  },
  {
   "cell_type": "markdown",
   "metadata": {},
   "source": [
    "### Which organizations do the most lobbying for CCS?"
   ]
  },
  {
   "cell_type": "code",
   "execution_count": 56,
   "metadata": {},
   "outputs": [
    {
     "data": {
      "text/html": [
       "<div>\n",
       "<style scoped>\n",
       "    .dataframe tbody tr th:only-of-type {\n",
       "        vertical-align: middle;\n",
       "    }\n",
       "\n",
       "    .dataframe tbody tr th {\n",
       "        vertical-align: top;\n",
       "    }\n",
       "\n",
       "    .dataframe thead th {\n",
       "        text-align: right;\n",
       "    }\n",
       "</style>\n",
       "<table border=\"1\" class=\"dataframe\">\n",
       "  <thead>\n",
       "    <tr style=\"text-align: right;\">\n",
       "      <th></th>\n",
       "      <th>lobbying_activity_usd</th>\n",
       "    </tr>\n",
       "    <tr>\n",
       "      <th>organization</th>\n",
       "      <th></th>\n",
       "    </tr>\n",
       "  </thead>\n",
       "  <tbody>\n",
       "    <tr>\n",
       "      <th>OCCIDENTAL PETROLEUM</th>\n",
       "      <td>6.943090e+07</td>\n",
       "    </tr>\n",
       "    <tr>\n",
       "      <th>SOUTHERN COMPANY</th>\n",
       "      <td>5.413127e+07</td>\n",
       "    </tr>\n",
       "    <tr>\n",
       "      <th>EXXONMOBIL</th>\n",
       "      <td>3.909727e+07</td>\n",
       "    </tr>\n",
       "    <tr>\n",
       "      <th>EDISON ELECTRIC INSTITUTE</th>\n",
       "      <td>2.764227e+07</td>\n",
       "    </tr>\n",
       "    <tr>\n",
       "      <th>AMERICAN ELECTRIC POWER</th>\n",
       "      <td>2.209047e+07</td>\n",
       "    </tr>\n",
       "    <tr>\n",
       "      <th>SHELL</th>\n",
       "      <td>2.048418e+07</td>\n",
       "    </tr>\n",
       "    <tr>\n",
       "      <th>CHEVRON</th>\n",
       "      <td>1.742338e+07</td>\n",
       "    </tr>\n",
       "    <tr>\n",
       "      <th>DUKE</th>\n",
       "      <td>1.666763e+07</td>\n",
       "    </tr>\n",
       "    <tr>\n",
       "      <th>BP AMERICA</th>\n",
       "      <td>1.495798e+07</td>\n",
       "    </tr>\n",
       "    <tr>\n",
       "      <th>CALPINE</th>\n",
       "      <td>1.367863e+07</td>\n",
       "    </tr>\n",
       "    <tr>\n",
       "      <th>US CHAMBER OF COMMERCE</th>\n",
       "      <td>1.354387e+07</td>\n",
       "    </tr>\n",
       "    <tr>\n",
       "      <th>PACIFIC GAS AND ELECTRIC</th>\n",
       "      <td>1.345399e+07</td>\n",
       "    </tr>\n",
       "    <tr>\n",
       "      <th>PEABODY</th>\n",
       "      <td>1.209520e+07</td>\n",
       "    </tr>\n",
       "    <tr>\n",
       "      <th>TRANSCANADA</th>\n",
       "      <td>9.440000e+06</td>\n",
       "    </tr>\n",
       "    <tr>\n",
       "      <th>CONOCOPHILLIPS</th>\n",
       "      <td>9.082007e+06</td>\n",
       "    </tr>\n",
       "    <tr>\n",
       "      <th>AMERICAN PETROLEUM INSTITUTE</th>\n",
       "      <td>8.462077e+06</td>\n",
       "    </tr>\n",
       "    <tr>\n",
       "      <th>AIR PRODUCTS AND CHEMICALS</th>\n",
       "      <td>7.929857e+06</td>\n",
       "    </tr>\n",
       "    <tr>\n",
       "      <th>NATIONAL RURAL ELECTRIC COOPERATIVE ASSOCIATION</th>\n",
       "      <td>7.337655e+06</td>\n",
       "    </tr>\n",
       "  </tbody>\n",
       "</table>\n",
       "</div>"
      ],
      "text/plain": [
       "                                                 lobbying_activity_usd\n",
       "organization                                                          \n",
       "OCCIDENTAL PETROLEUM                                      6.943090e+07\n",
       "SOUTHERN COMPANY                                          5.413127e+07\n",
       "EXXONMOBIL                                                3.909727e+07\n",
       "EDISON ELECTRIC INSTITUTE                                 2.764227e+07\n",
       "AMERICAN ELECTRIC POWER                                   2.209047e+07\n",
       "SHELL                                                     2.048418e+07\n",
       "CHEVRON                                                   1.742338e+07\n",
       "DUKE                                                      1.666763e+07\n",
       "BP AMERICA                                                1.495798e+07\n",
       "CALPINE                                                   1.367863e+07\n",
       "US CHAMBER OF COMMERCE                                    1.354387e+07\n",
       "PACIFIC GAS AND ELECTRIC                                  1.345399e+07\n",
       "PEABODY                                                   1.209520e+07\n",
       "TRANSCANADA                                               9.440000e+06\n",
       "CONOCOPHILLIPS                                            9.082007e+06\n",
       "AMERICAN PETROLEUM INSTITUTE                              8.462077e+06\n",
       "AIR PRODUCTS AND CHEMICALS                                7.929857e+06\n",
       "NATIONAL RURAL ELECTRIC COOPERATIVE ASSOCIATION           7.337655e+06"
      ]
     },
     "execution_count": 56,
     "metadata": {},
     "output_type": "execute_result"
    }
   ],
   "source": [
    "df[[\"organization\", \"lobbying_activity_usd\"]].groupby(\n",
    "    [\"organization\"]\n",
    ").sum().sort_values(by=[\"lobbying_activity_usd\"], ascending=False).head(18)"
   ]
  },
  {
   "cell_type": "markdown",
   "metadata": {},
   "source": [
    "# TREEMAP FIGURE SHOWING WHICH COMPANIES LOBBY FOR CCS"
   ]
  },
  {
   "cell_type": "code",
   "execution_count": 57,
   "metadata": {},
   "outputs": [
    {
     "data": {
      "application/vnd.plotly.v1+json": {
       "config": {
        "plotlyServerURL": "https://plot.ly"
       },
       "data": [
        {
         "branchvalues": "total",
         "customdata": [
          [
           "higher education"
          ],
          [
           "higher education"
          ],
          [
           "chemicals, refining, and plastics"
          ],
          [
           "clean hydrogen"
          ],
          [
           "municipal and cooperative utilities"
          ],
          [
           "land transit"
          ],
          [
           "coal"
          ],
          [
           "power sector general"
          ],
          [
           "pipelines"
          ],
          [
           "railway"
          ],
          [
           "environmental"
          ],
          [
           "renewable energy"
          ],
          [
           "renewable energy"
          ],
          [
           "environmental"
          ],
          [
           "investor owned utilities"
          ],
          [
           "green hydrogen"
          ],
          [
           "biofuels"
          ],
          [
           "chemicals, refining, and plastics"
          ],
          [
           "municipal and cooperative utilities"
          ],
          [
           "investor owned utilities"
          ],
          [
           "higher education"
          ],
          [
           "oil and gas"
          ],
          [
           "land transit"
          ],
          [
           "food and agriculture"
          ],
          [
           "municipal and cooperative utilities"
          ],
          [
           "engineering, technology, and consulting"
          ],
          [
           "investor owned utilities"
          ],
          [
           "biofuels"
          ],
          [
           "power sector general"
          ],
          [
           "chemicals, refining, and plastics"
          ],
          [
           "engineering, technology, and consulting"
          ],
          [
           "independent research organization"
          ],
          [
           "higher education"
          ],
          [
           "chemicals, refining, and plastics"
          ],
          [
           "land transit"
          ],
          [
           "higher education"
          ],
          [
           "biofuels"
          ],
          [
           "business advocacy"
          ],
          [
           "investor owned utilities"
          ],
          [
           "mining and metals"
          ],
          [
           "municipal and cooperative utilities"
          ],
          [
           "government"
          ],
          [
           "chemicals, refining, and plastics"
          ],
          [
           "investor owned utilities"
          ],
          [
           "power sector general"
          ],
          [
           "labor union"
          ],
          [
           "oil and gas"
          ],
          [
           "chemicals, refining, and plastics"
          ],
          [
           "environmental"
          ],
          [
           "ccs"
          ],
          [
           "environmental"
          ],
          [
           "cement"
          ],
          [
           "independent power producers"
          ],
          [
           "investor owned utilities"
          ],
          [
           "oil and gas"
          ],
          [
           "food and agriculture"
          ],
          [
           "think tanks and issue advocacy"
          ],
          [
           "carbon"
          ],
          [
           "land transit"
          ],
          [
           "chemicals, refining, and plastics"
          ],
          [
           "coal"
          ],
          [
           "mining and metals"
          ],
          [
           "environmental"
          ],
          [
           "ccs"
          ],
          [
           "labor union"
          ],
          [
           "biofuels"
          ],
          [
           "higher education"
          ],
          [
           "land transit"
          ],
          [
           "oil and gas"
          ],
          [
           "land transit"
          ],
          [
           "power sector general"
          ],
          [
           "investor owned utilities"
          ],
          [
           "fuel cell"
          ],
          [
           "investor owned utilities"
          ],
          [
           "engineering, technology, and consulting"
          ],
          [
           "municipal and cooperative utilities"
          ],
          [
           "oil and gas"
          ],
          [
           "biofuels"
          ],
          [
           "clean hydrogen"
          ],
          [
           "coal"
          ],
          [
           "biofuels"
          ],
          [
           "green hydrogen"
          ],
          [
           "investor owned utilities"
          ],
          [
           "pipelines"
          ],
          [
           "ccs"
          ],
          [
           "chemicals, refining, and plastics"
          ],
          [
           "land transit"
          ],
          [
           "ccs"
          ],
          [
           "land transit"
          ],
          [
           "energy technology"
          ],
          [
           "renewable energy"
          ],
          [
           "oilfield services"
          ],
          [
           "law and public policy"
          ],
          [
           "investor owned utilities"
          ],
          [
           "renewable energy"
          ],
          [
           "investor owned utilities"
          ],
          [
           "oil and gas"
          ],
          [
           "investor owned utilities"
          ],
          [
           "land transit"
          ],
          [
           "municipal and cooperative utilities"
          ],
          [
           "algae"
          ],
          [
           "fuel cell"
          ],
          [
           "environmental"
          ],
          [
           "land transit"
          ],
          [
           "labor union"
          ],
          [
           "chemicals, refining, and plastics"
          ],
          [
           "food and agriculture"
          ],
          [
           "environmental"
          ],
          [
           "cement"
          ],
          [
           "ccs"
          ],
          [
           "oil and gas"
          ],
          [
           "renewable energy"
          ],
          [
           "coal"
          ],
          [
           "ccs"
          ],
          [
           "investor owned utilities"
          ],
          [
           "oil and gas"
          ],
          [
           "municipal and cooperative utilities"
          ],
          [
           "engineering, technology, and consulting"
          ],
          [
           "lng"
          ],
          [
           "food and agriculture"
          ],
          [
           "coal"
          ],
          [
           "independent power producers"
          ],
          [
           "land transit"
          ],
          [
           "investor owned utilities"
          ],
          [
           "investor owned utilities"
          ],
          [
           "investor owned utilities"
          ],
          [
           "iron and steel"
          ],
          [
           "energy technology"
          ],
          [
           "think tanks and issue advocacy"
          ],
          [
           "iron and steel"
          ],
          [
           "investor owned utilities"
          ],
          [
           "oil and gas"
          ],
          [
           "biofuels"
          ],
          [
           "chemicals, refining, and plastics"
          ],
          [
           "lng"
          ],
          [
           "environmental"
          ],
          [
           "oilfield services"
          ],
          [
           "lng"
          ],
          [
           "government"
          ],
          [
           "environmental"
          ],
          [
           "land transit"
          ],
          [
           "think tanks and issue advocacy"
          ],
          [
           "renewable energy"
          ],
          [
           "oil and gas"
          ],
          [
           "investor owned utilities"
          ],
          [
           "finance"
          ],
          [
           "clean hydrogen"
          ],
          [
           "municipal and cooperative utilities"
          ],
          [
           "municipal and cooperative utilities"
          ],
          [
           "land transit"
          ],
          [
           "carbon"
          ],
          [
           "environmental"
          ],
          [
           "chemicals, refining, and plastics"
          ],
          [
           "finance"
          ],
          [
           "nuclear"
          ],
          [
           "renewable energy"
          ],
          [
           "engineering, technology, and consulting"
          ],
          [
           "government"
          ],
          [
           "water"
          ],
          [
           "food and agriculture"
          ],
          [
           "renewable energy"
          ],
          [
           "investor owned utilities"
          ],
          [
           "land transit"
          ],
          [
           "biofuels"
          ],
          [
           "ev"
          ],
          [
           "oil and gas"
          ],
          [
           "clean hydrogen"
          ],
          [
           "investor owned utilities"
          ],
          [
           "carbon"
          ],
          [
           "oilfield services"
          ],
          [
           "coal"
          ],
          [
           "clean hydrogen"
          ],
          [
           "municipal and cooperative utilities"
          ],
          [
           "air transit"
          ],
          [
           "environmental"
          ],
          [
           "oil and gas"
          ],
          [
           "municipal and cooperative utilities"
          ],
          [
           "investor owned utilities"
          ],
          [
           "pipelines"
          ],
          [
           "chemicals, refining, and plastics"
          ],
          [
           "environmental"
          ],
          [
           "municipal and cooperative utilities"
          ],
          [
           "food and agriculture"
          ],
          [
           "nuclear"
          ],
          [
           "investor owned utilities"
          ],
          [
           "chemicals, refining, and plastics"
          ],
          [
           "investor owned utilities"
          ],
          [
           "labor union"
          ],
          [
           "clean hydrogen"
          ],
          [
           "environmental"
          ],
          [
           "oilfield services"
          ],
          [
           "independent research organization"
          ],
          [
           "chemicals, refining, and plastics"
          ],
          [
           "independent power producers"
          ],
          [
           "energy technology"
          ],
          [
           "think tanks and issue advocacy"
          ],
          [
           "biofuels"
          ],
          [
           "business advocacy"
          ],
          [
           "power sector general"
          ],
          [
           "investor owned utilities"
          ],
          [
           "land transit"
          ],
          [
           "professional societies"
          ],
          [
           "food and agriculture"
          ],
          [
           "finance"
          ],
          [
           "coal"
          ],
          [
           "oil and gas"
          ],
          [
           "municipal and cooperative utilities"
          ],
          [
           "ccs"
          ],
          [
           "pipelines"
          ],
          [
           "finance"
          ],
          [
           "biofuels"
          ],
          [
           "chemicals, refining, and plastics"
          ],
          [
           "land transit"
          ],
          [
           "renewable energy"
          ],
          [
           "oil and gas"
          ],
          [
           "energy technology"
          ],
          [
           "municipal and cooperative utilities"
          ],
          [
           "renewable energy"
          ],
          [
           "land transit"
          ],
          [
           "environmental"
          ],
          [
           "finance"
          ],
          [
           "environmental"
          ],
          [
           "ccs"
          ],
          [
           "paper products"
          ],
          [
           "cement"
          ],
          [
           "pipelines"
          ],
          [
           "air transit"
          ],
          [
           "government"
          ],
          [
           "municipal and cooperative utilities"
          ],
          [
           "land transit"
          ],
          [
           "renewable energy"
          ],
          [
           "pipelines"
          ],
          [
           "carbon"
          ],
          [
           "air transit"
          ],
          [
           "coal"
          ],
          [
           "renewable energy"
          ],
          [
           "ccs"
          ],
          [
           "power sector general"
          ],
          [
           "labor union"
          ],
          [
           "pipelines"
          ],
          [
           "land transit"
          ],
          [
           "oilfield services"
          ],
          [
           "oil and gas"
          ],
          [
           "investor owned utilities"
          ],
          [
           "renewable energy"
          ],
          [
           "ccs"
          ],
          [
           "chemicals, refining, and plastics"
          ],
          [
           "coal"
          ],
          [
           "iron and steel"
          ],
          [
           "ccs"
          ],
          [
           "nuclear"
          ],
          [
           "food and agriculture"
          ],
          [
           "coal"
          ],
          [
           "oil and gas"
          ],
          [
           "think tanks and issue advocacy"
          ],
          [
           "environmental"
          ],
          [
           "food and agriculture"
          ],
          [
           "biofuels"
          ],
          [
           "higher education"
          ],
          [
           "investor owned utilities"
          ],
          [
           "water"
          ],
          [
           "renewable energy"
          ],
          [
           "professional societies"
          ],
          [
           "land transit"
          ],
          [
           "iron and steel"
          ],
          [
           "railway"
          ],
          [
           "renewable energy"
          ],
          [
           "higher education"
          ],
          [
           "chemicals, refining, and plastics"
          ],
          [
           "paper products"
          ],
          [
           "biofuels"
          ],
          [
           "land transit"
          ],
          [
           "chemicals, refining, and plastics"
          ],
          [
           "investor owned utilities"
          ],
          [
           "labor union"
          ],
          [
           "municipal and cooperative utilities"
          ],
          [
           "power sector general"
          ],
          [
           "government"
          ],
          [
           "pipelines"
          ],
          [
           "mining and metals"
          ],
          [
           "environmental"
          ],
          [
           "government"
          ],
          [
           "air transit"
          ],
          [
           "pipelines"
          ],
          [
           "power sector general"
          ],
          [
           "chemicals, refining, and plastics"
          ],
          [
           "clean hydrogen"
          ],
          [
           "ccs"
          ],
          [
           "independent power producers"
          ],
          [
           "oil and gas"
          ],
          [
           "biofuels"
          ],
          [
           "municipal and cooperative utilities"
          ],
          [
           "renewable energy"
          ],
          [
           "ccs"
          ],
          [
           "investor owned utilities"
          ],
          [
           "ccs"
          ],
          [
           "chemicals, refining, and plastics"
          ],
          [
           "higher education"
          ],
          [
           "environmental"
          ],
          [
           "biofuels"
          ],
          [
           "power sector general"
          ],
          [
           "business advocacy"
          ],
          [
           "pipelines"
          ],
          [
           "paper products"
          ],
          [
           "energy technology"
          ],
          [
           "biofuels"
          ],
          [
           "investor owned utilities"
          ],
          [
           "independent power producers"
          ],
          [
           "professional societies"
          ],
          [
           "oil and gas"
          ],
          [
           "ccs"
          ],
          [
           "food and agriculture"
          ],
          [
           "paper products"
          ],
          [
           "paper products"
          ],
          [
           "paper products"
          ],
          [
           "fuel cell"
          ],
          [
           "chemicals, refining, and plastics"
          ],
          [
           "engineering, technology, and consulting"
          ],
          [
           "biofuels"
          ],
          [
           "ccs"
          ],
          [
           "chemicals, refining, and plastics"
          ],
          [
           "think tanks and issue advocacy"
          ],
          [
           "biofuels"
          ],
          [
           "professional societies"
          ],
          [
           "higher education"
          ],
          [
           "biofuels"
          ],
          [
           "biofuels"
          ],
          [
           "biofuels"
          ],
          [
           "investor owned utilities"
          ],
          [
           "think tanks and issue advocacy"
          ],
          [
           "municipal and cooperative utilities"
          ],
          [
           "chemicals, refining, and plastics"
          ],
          [
           "environmental"
          ],
          [
           "chemicals, refining, and plastics"
          ],
          [
           "renewable energy"
          ],
          [
           "environmental"
          ],
          [
           "investor owned utilities"
          ],
          [
           "hvac"
          ],
          [
           "paper products"
          ],
          [
           "oilfield services"
          ],
          [
           "environmental"
          ],
          [
           "biofuels"
          ],
          [
           "coal"
          ],
          [
           "food and agriculture"
          ],
          [
           "chemicals, refining, and plastics"
          ],
          [
           "paper products"
          ],
          [
           "cement"
          ],
          [
           "food and agriculture"
          ],
          [
           "land transit"
          ],
          [
           "environmental"
          ],
          [
           "municipal and cooperative utilities"
          ],
          [
           "chemicals, refining, and plastics"
          ],
          [
           "ccs"
          ],
          [
           "investor owned utilities"
          ],
          [
           "paper products"
          ],
          [
           "municipal and cooperative utilities"
          ],
          [
           "carbon"
          ],
          [
           "ccs"
          ],
          [
           "paper products"
          ],
          [
           "ccs"
          ],
          [
           "environmental"
          ],
          [
           "independent power producers"
          ],
          [
           "paper products"
          ],
          [
           "pipelines"
          ],
          [
           "renewable energy"
          ],
          [
           "land transit"
          ],
          [
           "higher education"
          ],
          [
           "power sector general"
          ],
          [
           "food and agriculture"
          ],
          [
           "investor owned utilities"
          ],
          [
           "biofuels"
          ],
          [
           "land transit"
          ],
          [
           "labor union"
          ],
          [
           "higher education"
          ],
          [
           "ccs"
          ],
          [
           "fuel cell"
          ],
          [
           "nuclear"
          ],
          [
           "pipelines"
          ],
          [
           "oil and gas"
          ],
          [
           "oil and gas"
          ],
          [
           "biofuels"
          ],
          [
           "investor owned utilities"
          ],
          [
           "renewable energy"
          ],
          [
           "investor owned utilities"
          ],
          [
           "business advocacy"
          ],
          [
           "renewable energy"
          ],
          [
           "railway"
          ],
          [
           "pipelines"
          ],
          [
           "pipelines"
          ],
          [
           "renewable energy"
          ],
          [
           "energy technology"
          ],
          [
           "business advocacy"
          ],
          [
           "municipal and cooperative utilities"
          ],
          [
           "environmental"
          ],
          [
           "renewable energy"
          ],
          [
           "pipelines"
          ],
          [
           "biofuels"
          ],
          [
           "investor owned utilities"
          ],
          [
           "oil and gas"
          ],
          [
           "ccs"
          ],
          [
           "paper products"
          ],
          [
           "oilfield services"
          ],
          [
           "green hydrogen"
          ],
          [
           "iron and steel"
          ],
          [
           "oil and gas"
          ],
          [
           "chemicals, refining, and plastics"
          ],
          [
           "chemicals, refining, and plastics"
          ],
          [
           "coal"
          ],
          [
           "investor owned utilities"
          ],
          [
           "biofuels"
          ],
          [
           "oil and gas"
          ],
          [
           "biofuels"
          ],
          [
           "water"
          ],
          [
           "independent power producers"
          ],
          [
           "clean hydrogen"
          ],
          [
           "chemicals, refining, and plastics"
          ],
          [
           "higher education"
          ],
          [
           "oilfield services"
          ],
          [
           "think tanks and issue advocacy"
          ],
          [
           "food and agriculture"
          ],
          [
           "cement"
          ],
          [
           "nuclear"
          ],
          [
           "environmental"
          ],
          [
           "think tanks and issue advocacy"
          ],
          [
           "green hydrogen"
          ],
          [
           "pipelines"
          ],
          [
           "coal"
          ],
          [
           "investor owned utilities"
          ],
          [
           "air transit"
          ],
          [
           "ev"
          ],
          [
           "coal"
          ],
          [
           "biofuels"
          ],
          [
           "food and agriculture"
          ],
          [
           "environmental"
          ],
          [
           "pipelines"
          ],
          [
           "land transit"
          ],
          [
           "labor union"
          ],
          [
           "environmental"
          ],
          [
           "government"
          ],
          [
           "government"
          ],
          [
           "pipelines"
          ],
          [
           "investor owned utilities"
          ],
          [
           "environmental"
          ],
          [
           "investor owned utilities"
          ],
          [
           "lng"
          ],
          [
           "investor owned utilities"
          ],
          [
           "labor union"
          ],
          [
           "fuel cell"
          ],
          [
           "air transit"
          ],
          [
           "renewable energy"
          ],
          [
           "investor owned utilities"
          ],
          [
           "renewable energy"
          ],
          [
           "biofuels"
          ],
          [
           "environmental"
          ],
          [
           "engineering, technology, and consulting"
          ],
          [
           "labor union"
          ],
          [
           "government"
          ],
          [
           "railway"
          ],
          [
           "think tanks and issue advocacy"
          ],
          [
           "mining and metals"
          ],
          [
           "municipal and cooperative utilities"
          ],
          [
           "investor owned utilities"
          ],
          [
           "independent research organization"
          ],
          [
           "air transit"
          ],
          [
           "government"
          ],
          [
           "oil and gas"
          ],
          [
           "iron and steel"
          ],
          [
           "oilfield services"
          ],
          [
           "biofuels"
          ],
          [
           "labor union"
          ],
          [
           "renewable energy"
          ],
          [
           "carbon"
          ],
          [
           "engineering, technology, and consulting"
          ],
          [
           "engineering, technology, and consulting"
          ],
          [
           "food and agriculture"
          ],
          [
           "renewable energy"
          ],
          [
           "municipal and cooperative utilities"
          ],
          [
           "ccs"
          ],
          [
           "ev"
          ],
          [
           "environmental"
          ],
          [
           "chemicals, refining, and plastics"
          ],
          [
           "clean hydrogen"
          ],
          [
           "independent power producers"
          ],
          [
           "oil and gas"
          ],
          [
           "higher education"
          ],
          [
           "ccs"
          ],
          [
           "paper products"
          ],
          [
           "investor owned utilities"
          ],
          [
           "energy technology"
          ],
          [
           "engineering, technology, and consulting"
          ],
          [
           "oil and gas"
          ],
          [
           "air transit"
          ],
          [
           "paper products"
          ],
          [
           "renewable energy"
          ],
          [
           "renewable energy"
          ],
          [
           "coal"
          ],
          [
           "engineering, technology, and consulting"
          ],
          [
           "algae"
          ],
          [
           "chemicals, refining, and plastics"
          ],
          [
           "energy technology"
          ],
          [
           "investor owned utilities"
          ],
          [
           "engineering, technology, and consulting"
          ],
          [
           "ccs"
          ],
          [
           "environmental"
          ],
          [
           "government"
          ],
          [
           "government"
          ],
          [
           "mining and metals"
          ],
          [
           "finance"
          ],
          [
           "think tanks and issue advocacy"
          ],
          [
           "chemicals, refining, and plastics"
          ],
          [
           "water transit"
          ],
          [
           "land transit"
          ],
          [
           "oil and gas"
          ],
          [
           "environmental"
          ],
          [
           "oil and gas"
          ],
          [
           "higher education"
          ],
          [
           "ev"
          ],
          [
           "labor union"
          ],
          [
           "finance"
          ],
          [
           "ccs"
          ],
          [
           "municipal and cooperative utilities"
          ],
          [
           "ccs"
          ],
          [
           "paper products"
          ],
          [
           "railway"
          ],
          [
           "government"
          ],
          [
           "engineering, technology, and consulting"
          ],
          [
           "chemicals, refining, and plastics"
          ],
          [
           "food and agriculture"
          ],
          [
           "energy technology"
          ],
          [
           "hvac"
          ],
          [
           "investor owned utilities"
          ],
          [
           "hvac"
          ],
          [
           "oil and gas"
          ],
          [
           "mining and metals"
          ],
          [
           "engineering, technology, and consulting"
          ],
          [
           "railway"
          ],
          [
           "clean hydrogen"
          ],
          [
           "chemicals, refining, and plastics"
          ],
          [
           "food and agriculture"
          ],
          [
           "engineering, technology, and consulting"
          ],
          [
           "labor union"
          ],
          [
           "higher education"
          ],
          [
           "fuel cell"
          ],
          [
           "paper products"
          ],
          [
           "think tanks and issue advocacy"
          ],
          [
           "government"
          ],
          [
           "labor union"
          ],
          [
           "investor owned utilities"
          ],
          [
           "municipal and cooperative utilities"
          ],
          [
           "environmental"
          ],
          [
           "higher education"
          ],
          [
           "carbon"
          ],
          [
           "hvac"
          ],
          [
           "higher education"
          ],
          [
           "government"
          ],
          [
           "iron and steel"
          ],
          [
           "finance"
          ],
          [
           "investor owned utilities"
          ],
          [
           "energy technology"
          ],
          [
           "clean hydrogen"
          ],
          [
           "independent research organization"
          ],
          [
           "chemicals, refining, and plastics"
          ],
          [
           "mining and metals"
          ],
          [
           "finance"
          ],
          [
           "oil and gas"
          ],
          [
           "environmental"
          ],
          [
           "law and public policy"
          ],
          [
           "investor owned utilities"
          ],
          [
           "land transit"
          ],
          [
           "oilfield services"
          ],
          [
           "engineering, technology, and consulting"
          ],
          [
           "carbon"
          ],
          [
           "investor owned utilities"
          ],
          [
           "biofuels"
          ],
          [
           "investor owned utilities"
          ],
          [
           "food and agriculture"
          ],
          [
           "chemicals, refining, and plastics"
          ],
          [
           "investor owned utilities"
          ],
          [
           "renewable energy"
          ],
          [
           "higher education"
          ],
          [
           "oil and gas"
          ],
          [
           "air transit"
          ],
          [
           "carbon"
          ],
          [
           "think tanks and issue advocacy"
          ],
          [
           "environmental"
          ],
          [
           "municipal and cooperative utilities"
          ],
          [
           "land transit"
          ],
          [
           "renewable energy"
          ],
          [
           "labor union"
          ],
          [
           "land transit"
          ],
          [
           "clean hydrogen"
          ],
          [
           "renewable energy"
          ],
          [
           "iron and steel"
          ],
          [
           "finance"
          ],
          [
           "investor owned utilities"
          ],
          [
           "oil and gas"
          ],
          [
           "oil and gas"
          ],
          [
           "energy technology"
          ],
          [
           "law and public policy"
          ],
          [
           "carbon"
          ],
          [
           "cement"
          ],
          [
           "food and agriculture"
          ],
          [
           "cement"
          ],
          [
           "ccs"
          ],
          [
           "food and agriculture"
          ],
          [
           "air transit"
          ],
          [
           "food and agriculture"
          ],
          [
           "food and agriculture"
          ],
          [
           "paper products"
          ],
          [
           "coal"
          ],
          [
           "finance"
          ],
          [
           "pipelines"
          ],
          [
           "engineering, technology, and consulting"
          ],
          [
           "municipal and cooperative utilities"
          ],
          [
           "carbon"
          ]
         ],
         "domain": {
          "x": [
           0,
           1
          ],
          "y": [
           0,
           1
          ]
         },
         "hovertemplate": "labels=%{label}<br>lobbying_activity_usd=%{value}<br>parent=%{parent}<br>id=%{id}<br>sector=%{customdata[0]}<extra></extra>",
         "ids": [
          "UNIVERSITY<br>OF<br>CALIFORNIA",
          "CARNEGIE<br>MELLON<br>UNIVERSITY",
          "KOCH<br>INDUSTRIES",
          "BAYOTECH",
          "POWDER<br>RIVER<br>ENERGY",
          "FORD<br>MOTOR",
          "BITUMINOUS<br>COAL<br>OPERATORS<br>ASSOCIATION",
          "NORTHEAST<br>PUBLIC<br>POWER<br>ASSOCIATION",
          "ENBRIDGE",
          "CSX",
          "SIERRA<br>CLUB",
          "SUNRUN",
          "VESTAS",
          "AMERICAN<br>FORESTS",
          "DTE<br>ENERGY",
          "HIGHLY<br>INNOVATIVE<br>FUELS",
          "LANZAJET",
          "US<br>VENTURE",
          "TRISTATE<br>GENERATION<br>AND<br>TRANSMISSION<br>ASSOCIATION",
          "ONE<br>GAS",
          "WESTERN<br>MICHIGAN<br>UNIVERSITY",
          "BP<br>AMERICA",
          "NISSAN",
          "AMERICAN<br>FARM<br>BUREAU<br>FED",
          "AMERICAN<br>MUNICIPAL<br>POWER",
          "SOAP<br>CREEK<br>ENERGY",
          "DUKE",
          "TWELVE<br>BENEFIT",
          "INDUSTRIAL<br>ENERGY<br>CONSUMERS<br>OF<br>AMERICA",
          "DUPONT",
          "NANO<br>TERRA",
          "RTI<br>INTERNATIONAL",
          "ARIZONA<br>STATE<br>UNIVERSITY",
          "CF<br>INDUSTRIES",
          "NATSO",
          "UNIVERSITY<br>OF<br>PITTSBURGH",
          "H<br>CYCLE",
          "US<br>CHAMBER<br>OF<br>COMMERCE",
          "ITC<br>HOLDINGS",
          "JOY<br>GLOBAL",
          "CITY<br>UTILITIES<br>OF<br>SPRINGFIELD",
          "CORPUS<br>CHRISTI<br>TX",
          "LYONDELL<br>CHEMICAL",
          "EMPIRE<br>DISTRICT<br>ELECTRIC",
          "NATIONAL<br>FUEL<br>GAS",
          "AFLCIO",
          "AMERICAN<br>GAS<br>ASSOCIATION",
          "LINDE",
          "NATIONAL<br>GROUND<br>WATER<br>ASSOCIATION",
          "ENERGY<br>ADVANCE<br>CENTER",
          "TRUST<br>FOR<br>PUBLIC<br>LAND",
          "PORTLAND<br>CEMENT<br>ASSOCIATION",
          "TENASKA",
          "ELECTRIC<br>POWER<br>SUPPLY<br>ASSOCIATION",
          "EXXON<br>MOBIL",
          "KANSAS<br>FARM<br>BUREAU",
          "GOVERNMENT<br>ACCOUNTABILITY<br>PROJECT",
          "HEIRLOOM<br>CARBON<br>TECHNOLOGIES",
          "FLUID<br>MARKET",
          "ECOLAB",
          "CLINE<br>RESOURCES",
          "TALON<br>NICKEL",
          "CLEAN<br>AIR<br>TASK<br>FORCE",
          "TITAN<br>OIL<br>RECOVERY",
          "INTERNATIONAL<br>ASSOCIATION<br>OF<br>MACHINISTS<br>AND<br>AEROSPACE<br>WORKERS",
          "BIOTECHNOLOGY<br>INNOVATION<br>ORGANIZATION",
          "MASSACHUSETTS<br>INSTITUTE<br>OF<br>TECHNOLOGY",
          "NAFA<br>FLEET<br>MANAGEMENT<br>ASSOCIATION",
          "KP<br>KAUFFMAN",
          "CONSOLIDATED<br>METCO",
          "IRRIGATION<br>AND<br>ELECTRICAL<br>DISTRICTS<br>ASSOCIATION<br>OF<br>ARIZONA",
          "CENTERPOINT",
          "FUEL<br>CELL<br>AND<br>HYDROGEN<br>ENERGY<br>ASSOCIATION",
          "TECO",
          "GEODIGITAL<br>INTERNATIONAL",
          "AUSTIN<br>ENERGY",
          "DEVON",
          "GEVO",
          "CZERO",
          "PEABODY",
          "GROWTH<br>ENERGY",
          "OBSIDIAN<br>RENEWABLES",
          "ENERGY<br>FORWARD",
          "ENERGY<br>TRANSFER<br>PARTNERS",
          "GULF<br>COAST<br>SEQUESTRATION",
          "CROWN<br>AGRO<br>FUELS",
          "NURO",
          "CAPTURA",
          "NORTH<br>AMERICAN<br>SUBARU",
          "BABCOCK<br>WILCOX",
          "FIRST<br>SOLAR",
          "BAKER<br>HUGHES",
          "BLEDSOE<br>ASSOCIATES",
          "BERKSHIRE<br>HATHAWAY<br>ENERGY",
          "AMERICAN<br>CLEAN<br>POWER<br>ASSOCIATION",
          "ENGIE",
          "NATURAL<br>GAS<br>SUPPLY<br>ASSOCIATION",
          "ALLIANT<br>ENERGY",
          "ALLIANCE<br>FOR<br>AUTOMOTIVE<br>INNOVATION",
          "NATIONAL<br>RURAL<br>ELECTRIC<br>COOPERATIVE<br>ASSOCIATION",
          "ALGENOL",
          "PLUG<br>POWER",
          "RIPE<br>ROADMAP",
          "FEDEX",
          "INTERNATIONAL<br>BROTHERHOOD<br>OF<br>BOILERMAKERS",
          "CHEMOURS",
          "SUNTORY<br>GLOBAL<br>SPIRITS",
          "CITIZENS<br>FOR<br>RESPONSIBLE<br>ENERGY<br>SOLUTIONS",
          "HOLCIM",
          "CLEAN<br>ENERGY<br>SYSTEMS",
          "INDEPENDENT<br>PETROLEUM<br>ASSOCIATION<br>OF<br>AMERICA",
          "SOLAMERICA<br>ENERGY",
          "CLOUD<br>PEAK<br>ENERGY<br>RESOURCES",
          "CARBON<br>ENGINEERING<br>ULC",
          "AMERICAN<br>ELECTRIC<br>POWER",
          "AMERICAN<br>EXPLORATION<br>PRODUCTION<br>COUNCIL",
          "ENERGY<br>NORTHWEST",
          "C2I",
          "NEW<br>FORTRESS<br>ENERGY",
          "ARCHER<br>DANIELS<br>MIDLAND",
          "AMERICAS<br>POWER",
          "VISTRA",
          "BMW",
          "MDU<br>RESOURCES",
          "NORTHWEST<br>NATURAL<br>HOLDING<br>COMPANY",
          "CONSTELLATION<br>ENERGY",
          "CALIFORNIA<br>STEEL<br>INDUSTRIES",
          "MAINSPRING<br>ENERGY",
          "CLEARPATH<br>ACTION<br>FOR<br>CONSERVATIVE<br>CLEAN<br>ENERGY",
          "SSAB<br>ENTERPRISES",
          "PPL",
          "HYPERION<br>RESOURCES",
          "REWORLD",
          "METHANEX",
          "CHENIERE<br>ENERGY",
          "SOUTHERN<br>ENVIRONMENTAL<br>LAW<br>CENTER",
          "HALLIBURTON",
          "NEXTDECADE",
          "COUNTY<br>OF<br>LOS<br>ANGELES",
          "EARTHJUSTICE",
          "AUTOS<br>DRIVE<br>AMERICA",
          "COALITION<br>FOR<br>ENERGY<br>EFFICIENT<br>JOBS<br>INVESTMENT",
          "ENERGY<br>STORAGE<br>ITC<br>COALITION",
          "TELLUS<br>OPERATING",
          "NORTHWESTERN<br>ENERGY",
          "ARTHUR<br>J<br>GALLAGHER",
          "CLEAN<br>HYDROGEN<br>FUTURE<br>COALITION",
          "BASIN<br>ELECTRIC<br>POWER<br>COOPERATIVE",
          "NORTHERN<br>CALIFORNIA<br>POWER<br>AGENCY",
          "AMERICAN<br>INTERNATIONAL<br>AUTOMOBILE<br>DEALERS<br>ASSOCIATION",
          "WORLD<br>ENERGY",
          "PLASTIC<br>POLLUTION<br>COALITION",
          "AIR<br>PRODUCTS<br>AND<br>CHEMICALS",
          "BREAKTHROUGH<br>ENERGY",
          "FRAMATOME",
          "STEM",
          "DNV",
          "STATE<br>OF<br>ILLINOIS",
          "IMPERIAL<br>IRRIGATION<br>DISTRICT",
          "INDIGO",
          "RENEWABLE<br>ENERGY<br>GROUP",
          "ALLETE",
          "PACCAR",
          "AMERICAN<br>BIOGAS<br>COUNCIL",
          "AMPLE",
          "NC12",
          "HYDROGEN<br>ENERGY<br>CALIFORNIA",
          "PUBLIC<br>SERVICE<br>ENTERPRISE",
          "PROJECT<br>VESTA",
          "TETRA<br>TECHNOLOGIES",
          "DRUMMOND",
          "GLOBAL<br>HYDROGEN<br>TECHNOLOGIES",
          "SACRAMENTO<br>MUNICIPAL<br>UTILITY<br>DISTRICT",
          "UNIVERSAL<br>HYDROGEN",
          "NATIONAL<br>WASTE<br>RECYCLING<br>ASSOCIATION",
          "ENERGY<br>MARKETERS<br>OF<br>AMERICA",
          "MINNKOTA<br>POWER<br>COOPERATIVE",
          "GENERATORS<br>FOR<br>CLEAN<br>AIR",
          "MAGELLAN<br>MIDSTREAM<br>PARTNERS",
          "EASTMAN<br>CHEMICAL",
          "LEAGUE<br>OF<br>CONSERVATION<br>VOTERS",
          "LARGE<br>PUBLIC<br>POWER<br>COUNCIL",
          "LANZATECH",
          "NUCLEAR<br>INNOVATION<br>ALLIANCE",
          "ENTERGY",
          "EVONIK",
          "EDISON<br>ELECTRIC<br>INSTITUTE",
          "INTERNATIONAL<br>BROTHERHOOD<br>OF<br>TEAMSTERS",
          "VERDAGY",
          "NATIONAL<br>AUDUBON<br>SOCIETY",
          "REPUBLIC",
          "WOODWELL<br>CLIMATE<br>RESEARCH<br>CENTER",
          "RHODIA",
          "RWE",
          "SCHNEIDER<br>ELECTRIC",
          "SECURING<br>AMERICAS<br>FUTURE<br>ENERGY",
          "NEW<br>GENERATION<br>BIOFUELS",
          "WESTERN<br>BUSINESS<br>ROUNDTABLE",
          "WESTAR<br>ENERGY",
          "WEC<br>ENERGY",
          "ARRIVAL<br>AUTOMOTIVE",
          "NATIONAL<br>SOCIETY<br>OF<br>PROFESSIONAL<br>SURVEYORS",
          "NATIONAL<br>COTTON<br>COUNCIL",
          "BANK<br>OF<br>AMERICA",
          "FRONTIERAS",
          "EQUINOR",
          "SOUTHERN<br>MONTANA<br>ELECTRIC<br>GENERATION<br>TRANSMISSION<br>COOPERATIVE",
          "MILESTONE<br>ENVIRONMENTAL",
          "BOARDWALK<br>PIPELINE",
          "MACQUARIE<br>INFRASTRUCTURE<br>AND<br>REAL<br>ASSETS",
          "ENVIRONMENTAL<br>POWER",
          "VALERO",
          "JACK<br>COOPER<br>TRANSPORT",
          "SUNIVA",
          "CNOOC",
          "HONEYWELL<br>INTERNATIONAL",
          "COLORADO<br>SPRINGS<br>UTILITIES",
          "GEOTHERMAL<br>EXCHANGE<br>ORGANIZATION",
          "VOLVO",
          "LINDEN<br>TRUST<br>FOR<br>CONSERVATION",
          "LEUCADIA<br>NATIONAL",
          "FRIENDS<br>OF<br>EARTH",
          "FIDELIS<br>NEW<br>ENERGY",
          "OX<br>PAPERBOARD",
          "NATIONAL<br>READY<br>MIXED<br>CONCRETE<br>ASSOCIATION",
          "ASSOCIATION<br>OF<br>OIL<br>PIPE<br>LINES",
          "ATLAS<br>AIR<br>WORLDWIDE<br>HOLDINGS",
          "STATE<br>OF<br>INDIANA",
          "SOUTHERN<br>CALIFORNIA<br>PUBLIC<br>POWER<br>AUTHORITY",
          "CATERPILLAR",
          "US<br>WIND",
          "LIQUID<br>ENERGY<br>PIPELINE<br>ASSOCIATION",
          "CALERA",
          "HAWAIIAN<br>AIRLINES",
          "CONSOL<br>ENERGY",
          "SUNPOWER",
          "NAVIGATOR<br>CO2",
          "TENNESSEE<br>VALLEY<br>PUBLIC<br>POWER<br>ASSOCIATION",
          "INTERNATIONAL<br>BROTHERHOOD<br>OF<br>ELECTRICAL<br>WORKERS",
          "INTERSTATE<br>NATURAL<br>GAS<br>ASSOCIATION<br>OF<br>AMERICA",
          "STELLANTIS",
          "WASTE<br>MANAGEMENT",
          "GLENROCK<br>PETROLEUM",
          "NATIONAL<br>GRID",
          "STRATA<br>CLEAN<br>ENERGY",
          "WABASH<br>VALLEY<br>RESOURCES",
          "BAYER",
          "LIGNITE<br>ENERGY<br>COUNCIL",
          "ARCELORMITTAL",
          "CEMVITA",
          "WESTINGHOUSE<br>ELECTRIC",
          "UNILEVER<br>UNITED<br>STATES",
          "FUTUREGEN<br>INDUSTRIAL<br>ALLIANCE",
          "WOODSIDE<br>ENERGY",
          "ELECTRIFY<br>AMERICA",
          "ENVIRONMENT<br>AMERICA",
          "YUM<br>BRANDS",
          "GREEN<br>PLAINS",
          "UNIVERSITY<br>OF<br>NORTHERN<br>IOWA",
          "XCEL<br>ENERGY",
          "ASSOCIATION<br>OF<br>METROPOLITAN<br>WATER<br>AGENCIES",
          "ENEL",
          "AMERICAN<br>SOCIETY<br>OF<br>CIVIL<br>ENGINEERS",
          "GOODYEAR",
          "NLMK<br>PENNSYLVANIA",
          "NORFOLK<br>SOUTHERN",
          "SWIFT<br>SOLAR",
          "UNIVERSITY<br>OF<br>KENTUCKY",
          "DYSTAR",
          "WHITE<br>OAK<br>INITIATIVE",
          "UNITED<br>BIOREFINERIES",
          "VOLKSWAGEN",
          "METHANOL<br>INSTITUTE",
          "PINNACLE<br>WEST<br>CAPITAL",
          "UNITED<br>STEELWORKERS",
          "GRANT<br>COUNTY<br>PUBLIC<br>UTILITY<br>DISTRICT",
          "UTAH<br>ASSOCIATED<br>MUNICIPAL<br>POWER<br>SYSTEMS",
          "WESTROCK",
          "TARGA",
          "RIO<br>TINTO",
          "FRIENDS<br>COMMITTEE<br>ON<br>NATIONAL<br>LEGISLATION",
          "GILA<br>COUNTY<br>AZ",
          "UNITED<br>AIRLINES",
          "WILLIAMS<br>COMPANIES",
          "UNIPER<br>GLOBAL<br>COMMODITIES",
          "SIGNA<br>CHEMISTRY",
          "POWERTAP",
          "REMORA",
          "SITHE<br>GLOBAL<br>POWER",
          "SHELL",
          "RENTECH",
          "PUBLIC<br>POWER<br>COUNCIL",
          "SUNNOVA<br>ENERGY<br>INTERNATIONAL",
          "NET<br>POWER",
          "SEMPRA",
          "NORTH<br>AMERICAN<br>CARBON<br>CAPTURE<br>STORAGE<br>ASSOCIATION<br>NACCSA",
          "PHILLIPS<br>66",
          "UNIVERSITY<br>OF<br>ILLINOIS",
          "OPEN<br>SPACE<br>INSTITUTE",
          "CORN<br>REFINERS<br>ASSOCIATION",
          "NORTHWEST<br>PUBLIC<br>POWER<br>ASSOCIATION",
          "GREATER<br>PITTSBURGH<br>CHAMBER<br>OF<br>COMMERCE",
          "ENTERPRISE<br>PRODUCTS<br>PARTNERS<br>LP",
          "SMURFIT<br>STONE<br>CONTAINER",
          "MITSUBISHI",
          "BIOMASS<br>POWER<br>ASSOCIATION",
          "CMS<br>ENERGY",
          "LS<br>POWER",
          "INSTITUTE<br>OF<br>ELECTRICAL<br>AND<br>ELECTRONICS<br>ENGINEERS",
          "AETHON<br>ENERGY",
          "CLEAN<br>COAL<br>TECHNOLOGIES",
          "NEBRASKA<br>FARM<br>BUREAU<br>FEDERATION",
          "PACIFIC<br>FOREST<br>TRUST",
          "INTERNATIONAL<br>PAPER",
          "WEYERHAEUSER",
          "US<br>FUEL<br>CELL<br>COUNCIL",
          "FERTILIZER<br>INSTITUTE",
          "BLACK<br>VEATCH",
          "AMERICAN<br>BIOMASS<br>ENERGY<br>ASSOCIATION",
          "BLUE<br>SOURCE",
          "ORIGIN<br>MATERIALS",
          "BIPARTISAN<br>POLICY<br>CENTER",
          "ALTERNATIVE<br>FUELS<br>CHEMICALS<br>COALITION",
          "AMERICAN<br>ASSOCIATION<br>OF<br>PETROLEUM<br>GEOLOGISTS",
          "OHIO<br>UNIVERSITY",
          "BIAENERGY<br>OPERATING",
          "ACCELERGY",
          "ADVANCED<br>BIOFUELS<br>ASSOCIATION",
          "ATMOS<br>ENERGY",
          "AMERICANS<br>FOR<br>TAX<br>REFORM",
          "AMERICAN<br>PUBLIC<br>POWER<br>ASSOCIATION",
          "AIR<br>LIQUIDE",
          "NATURE<br>CONSERVANCY",
          "AMERICAN<br>FUEL<br>PETROCHEMICAL<br>MANUFACTURERS",
          "APEX<br>CLEAN<br>ENERGY",
          "APPALACHIAN<br>TRAIL<br>CONSERVANCY",
          "WASHINGTON<br>GAS<br>LIGHT",
          "AEROSEAL",
          "AMERICAN<br>FOREST<br>PAPER<br>ASSOCIATION",
          "ADVANTEK<br>WASTE<br>MANAGEMENT",
          "AMERICAN<br>FOREST<br>FOUNDATION",
          "AMERICAN<br>COALITION<br>FOR<br>ETHANOL",
          "AMERICAN<br>COALITION<br>FOR<br>CLEAN<br>COAL<br>ELECTRICITY",
          "NEW<br>YORK<br>FARM<br>BUREAU",
          "AMERICAN<br>CHEMICAL<br>SOCIETY",
          "AMERICAN<br>FOREST<br>RESOURCE<br>COUNCIL",
          "BRIMSTONE<br>ENERGY",
          "TYSON<br>FOODS",
          "CUMMINS",
          "GREENPEACE",
          "JAMESTOWN<br>BOARD<br>OF<br>PUBLIC<br>UTILITIES",
          "HUNTSMAN",
          "JUPITER<br>OXYGEN",
          "DOMINION",
          "CASCADES",
          "DOUGLAS<br>COUNTY<br>PUBLIC<br>UTILITY<br>DISTRICT",
          "CARBONFUTURE",
          "CARBON<br>GEOCAPTURE",
          "GRAPHIC<br>PACKAGING<br>INTERNATIONAL",
          "CARBON<br>ENGINEERING",
          "CARBON<br>180",
          "SUMMIT<br>POWER",
          "HARDWOOD<br>FEDERATION",
          "COLUMBIA<br>PIPELINE",
          "RADIA",
          "HONDA",
          "CALIFORNIA<br>INSTITUTE<br>OF<br>TECHNOLOGY",
          "COLORADO<br>RIVER<br>ENERGY<br>DISTRIBUTORS<br>ASSOCIATION",
          "CALIFORNIA<br>AGRICULTURAL<br>COMMISSIONERS<br>AND<br>SEALERS<br>ASSOCIATION",
          "EDISON<br>INTERNATIONAL",
          "CLEAN<br>ENERGY<br>FUELS",
          "AMERICAN<br>PUBLIC<br>TRANSPORTATION<br>ASSOCIATION",
          "UNITED<br>MINE<br>WORKERS<br>OF<br>AMERICA",
          "GEORGIA<br>INSTITUTE<br>OF<br>TECHNOLOGY",
          "NET<br>NEGATIVE<br>CO2<br>BASELOAD<br>POWER",
          "HYDROGEN<br>FUEL<br>CELL<br>BUS<br>COUNCIL",
          "NUCLEAR<br>ENERGY<br>INSTITUTE",
          "TRANS<br>CANADA",
          "AMERICAS<br>NATURAL<br>GAS<br>ALLIANCE",
          "CHEVRON",
          "CHARM<br>INDUSTRIAL",
          "NISOURCE",
          "AMERICAN<br>WIND<br>ENERGY<br>ASSOCIATION",
          "NRG",
          "BUSINESS<br>ROUNDTABLE",
          "QUIDNET<br>ENERGY",
          "BNSF<br>RAILWAY",
          "ONEOK",
          "ENABLE<br>MIDSTREAM<br>PARTNERS",
          "LONGROAD<br>ENERGY<br>MANAGEMENT",
          "GENERAL<br>ELECTRIC",
          "NATIONAL<br>ASSOCIATION<br>OF<br>MANUFACTURERS",
          "OHIO<br>MUNICIPAL<br>ELECTRIC<br>ASSOCIATION",
          "OCEAN<br>CONSERVANCY",
          "FALCON<br>ENERGY<br>STORAGE<br>HOLDINGS<br>CEI",
          "COLONIAL<br>PIPELINE",
          "RENEWABLE<br>FUELS<br>ASSOCIATION",
          "FIRSTENERGY",
          "TOTAL",
          "POWERSPAN",
          "POTLATCHDELTIC",
          "THERMOENERGY",
          "GTA<br>ENERGY",
          "NUCOR",
          "SANDRIDGE<br>ENERGY",
          "COVESTRO",
          "SASOL",
          "GREATPOINT<br>ENERGY",
          "CONSOLIDATED<br>EDISON",
          "CODEXIS",
          "CNX<br>RESOURCES",
          "NATURAL<br>STATE<br>RENEWABLES",
          "NATIONAL<br>ASSOCIATION<br>OF<br>CLEAN<br>WATER<br>AGENCIES",
          "INVENERGY",
          "MONOLITH<br>MATERIALS",
          "CHART<br>INDUSTRIES",
          "UNIVERSITY<br>OF<br>MICHIGAN",
          "MM<br>ENERGY",
          "CENTER<br>FOR<br>AMERICAN<br>PROGRESS",
          "NATIONAL<br>MILK<br>PRODUCERS<br>FEDERATION",
          "CEMEX",
          "BWX<br>TECHNOLOGIES",
          "WESTERN<br>ORGANIZATION<br>OF<br>RESOURCE<br>COUNCILS",
          "MOVEONORG<br>CIVIC<br>ACTION",
          "TES<br>US<br>DEVELOPMENT",
          "GPA<br>MIDSTREAM<br>ASSOCIATION",
          "DKRW",
          "OKLAHOMA<br>GAS<br>AND<br>ELECTRIC",
          "DELTA",
          "TESLA",
          "ALPHA<br>NATURAL<br>RESOURCES",
          "RAVEN<br>SR",
          "KEURIG<br>DR<br>PEPPER",
          "BLUE<br>GREEN<br>ALLIANCE",
          "TALLGRASS",
          "GENERAL<br>MOTORS",
          "UNITED<br>BROTHERHOOD<br>OF<br>CARPENTERS",
          "LAND<br>TRUST<br>ALLIANCE",
          "PORTLAND<br>OR",
          "NATAT<br>NATIONAL<br>ASSOCIATION<br>OF<br>TOWNS<br>AND<br>TOWNSHIPS",
          "KINDER<br>MORGAN",
          "BLACK<br>HILLS",
          "WILDERNESS<br>SOCIETY",
          "ALGONQUIN<br>POWER<br>UTILITIES",
          "MAGNOLIA<br>LNG",
          "EVERSOURCE",
          "UNITED<br>AUTOMOBILE<br>AEROSPACE<br>AGRICULTURAL<br>IMPLEMENT<br>WORKERS",
          "NIKOLA",
          "RTX",
          "NEXTERA",
          "CLECO<br>POWER",
          "CORNING",
          "CLEAN<br>FUELS<br>ALLIANCE<br>AMERICA",
          "INDIAN<br>LAND<br>TENURE",
          "ROBERT<br>BOSCH",
          "INTL<br>ASSOCIATION<br>OF<br>BRIDGE<br>STRUCTURAL<br>ORNAMENTAL<br>REINFORCING<br>IRON<br>WORKERS",
          "INTERSTATE<br>OIL<br>AND<br>GAS<br>COMPACT<br>COMMISSION",
          "ASSOCIATION<br>OF<br>AMERICAN<br>RAILROADS",
          "CENTER<br>FOR<br>INDIVIDUAL<br>FREEDOM",
          "NATIONAL<br>MINING<br>ASSOCIATION",
          "DAIRYLAND<br>POWER<br>COOPERATIVE",
          "UIL-AVANGRID",
          "GREAT<br>PLAINS<br>INSTITUTE",
          "SOUTHWEST<br>AIRLINES",
          "CALIFORNIA<br>STATE<br>ASSOCIATION<br>OF<br>COUNTIES",
          "NATIONAL<br>OCEAN<br>INDUSTRIES<br>ASSOCIATION",
          "CLEVELANDCLIFFS",
          "MCR<br>OIL<br>TOOLS",
          "TOPSOE",
          "UNITED<br>ASSOCIATION<br>OF<br>JOURNEYMEN<br>APPRENTICES<br>OF<br>PLUMBING<br>PIPEFITTING<br>INDUSTRY",
          "SOLAR<br>ENERGY<br>INDUSTRIES<br>ASSOCIATION",
          "RUNNING<br>TIDE",
          "ABB",
          "LIEBMAN<br>ASSOCIATES",
          "OHIO<br>FARM<br>BUREAU<br>FEDERATION",
          "EOS<br>ENERGY<br>STORAGE",
          "NEW<br>YORK<br>ASSOCIATION<br>OF<br>PUBLIC<br>POWER",
          "CCS<br>ALLIANCE",
          "EV<br>CONNECT",
          "NATURAL<br>RESOURCES<br>DEFENSE<br>COUNCIL",
          "NATIONAL<br>PROPANE<br>GAS<br>ASSOCIATION",
          "MODERN<br>HYDROGEN",
          "CALPINE",
          "MARATHON",
          "IOWA<br>STATE<br>UNIVERSITY",
          "AKERMIN",
          "GREIF",
          "AMEREN",
          "HYLIION",
          "AECOM",
          "EOG<br>RESOURCES",
          "AEROJET<br>ROCKETDYNE",
          "AMERICAN<br>WOOD<br>COUNCIL",
          "ORMAT<br>NEVADA",
          "CLEARWAY<br>ENERGY",
          "ARCH<br>RESOURCES",
          "ACLIMA",
          "ALGAE<br>BIOMASS<br>ORGANIZATION",
          "DOW",
          "EATON",
          "AES",
          "COLIBRI<br>ENTERPRISES",
          "SVANTE",
          "GEOS<br>INSTITUTE",
          "STATE<br>OF<br>NORTH<br>DAKOTA",
          "STATE<br>OF<br>LOUISIANA",
          "METALS",
          "NATIONAL<br>ASSOCIATION<br>OF<br>FEDERALLYINSURED<br>CREDIT<br>UNIONS",
          "NATIONAL<br>TAXPAYERS<br>UNION",
          "BASF",
          "WORLD<br>SHIPPING<br>COUNCIL",
          "TOYOTA",
          "BAKKEN<br>ENERGY",
          "ENVIRONMENTAL<br>DEFENSE<br>FUND",
          "CONOCO<br>PHILLIPS",
          "VANDERBILT<br>UNIVERSITY",
          "ZERO<br>EMISSION<br>TRANSPORTATION<br>ASSOCIATION",
          "INTERNATIONAL<br>UNION<br>OF<br>OPERATING<br>ENGINEERS",
          "NATIONAL<br>VENTURE<br>CAPITAL<br>ASSOCIATION",
          "CARBON<br>UTILIZATION<br>RESEARCH<br>COUNCIL",
          "SALT<br>RIVER<br>PROJECT",
          "VERDE<br>CO2",
          "PLUM<br>CREEK<br>TIMBER",
          "UNION<br>PACIFIC",
          "SOUTHERN<br>UTE<br>INDIAN<br>TRIBE",
          "FLUOR",
          "SOLVAY",
          "SMITHFIELD<br>FOODS",
          "HITACHI",
          "AIRCONDITIONING<br>HEATING<br>REFRIGERATION<br>INSTITUTE",
          "EXELON",
          "CARRIER<br>GLOBAL",
          "ENI",
          "GLENCORE",
          "FOSTER<br>WHEELER",
          "ALSTOM",
          "ONE<br>H2",
          "AMERICAN<br>CHEMISTRY<br>COUNCIL",
          "PRIMIENT",
          "ASME",
          "UTILITY<br>WORKERS<br>UNION<br>OF<br>AMERICA",
          "NEW<br>MEXICO<br>STATE<br>UNIVERSITY",
          "BLOOM<br>ENERGY",
          "NATIONAL<br>ALLIANCE<br>OF<br>FOREST<br>OWNERS",
          "CENTER<br>FOR<br>TRANSPORTATION<br>AND<br>ENVIRONMENT",
          "CHAMPAIGNURBANA<br>MASS<br>TRANSIT<br>DISTRICT",
          "INTERNATIONAL<br>UNION<br>OF<br>PAINTERS<br>AND<br>ALLIED<br>TRADES",
          "SOUTHERN<br>COMPANY",
          "TACOMA<br>PUBLIC<br>UTILITIES",
          "CARBON<br>ADVOCACY<br>PROJECT",
          "UNIVERSITY<br>OF<br>TEXAS",
          "US<br>BIOCHAR<br>COALITION",
          "RHEEM<br>MANUFACTURING",
          "RICE<br>UNIVERSITY",
          "KANSAS<br>DEPARTMENT<br>OF<br>COMMERCE",
          "US<br>STEEL",
          "BROOKFIELD<br>ASSET<br>MANAGEMENT",
          "PUGET<br>SOUND<br>ENERGY",
          "SIEMENS",
          "ZERO<br>CARBON<br>HYDROGEN<br>COALITION",
          "WORLD<br>RESOURCES<br>INSTITUTE",
          "ARKEMA",
          "ANGLO<br>AMERICAN",
          "BANK<br>POLICY<br>INSTITUTE",
          "AMERICAN<br>PETROLEUM<br>INSTITUTE",
          "CENTER<br>FOR<br>CLIMATE<br>AND<br>ENERGY<br>SOLUTIONS",
          "CLARK<br>STREET<br>ASSOCIATES",
          "AMERICAN<br>TRANSMISSION",
          "CALSTART",
          "GULFSAFE",
          "CROWLEY<br>MARITIME",
          "PROCESS<br>ENERGY<br>SOLUTIONS",
          "PORTLAND<br>GENERAL<br>ELECTRIC",
          "POET",
          "PNM<br>RESOURCES",
          "PENNSYLVANIA<br>FARM<br>BUREAU",
          "PBF",
          "PACIFIC<br>GAS<br>AND<br>ELECTRIC",
          "ORSTED",
          "YALE<br>UNIVERSITY",
          "OCCIDENTAL<br>PETROLEUM",
          "NORTHROP<br>GRUMMAN",
          "SKYONIC",
          "NATIONAL<br>RIGHT<br>TO<br>WORK<br>COMMITTEE",
          "NATIONAL<br>PARKS<br>CONSERVATION<br>ASSOCIATION",
          "MISSOURI<br>RIVER<br>ENERGY",
          "MERCEDESBENZ<br>GROUP",
          "INTERSECT<br>POWER",
          "INTERNATIONAL<br>ASSOCIATION<br>OF<br>SHEET<br>METAL<br>AIR<br>RAIL<br>TRANSPORTATION<br>WORKERS",
          "HYUNDAI<br>KIA",
          "HYDROGEN<br>ADVISORY<br>COUNCIL",
          "GLIDEPATH",
          "FORTESCUE",
          "FCO<br>ADVISORS",
          "EVERGY",
          "EQT",
          "DIFFERENTIATED<br>GAS<br>COORDINATING<br>COUNCIL<br>COALITION",
          "COUNCIL<br>OF<br>INDUSTRIAL<br>BOILER<br>OWNERS",
          "WILEY<br>REIN",
          "PROJECT<br>CANARY",
          "FORTERA",
          "VISCON",
          "CALPORTLAND",
          "DRAX<br>GROUP",
          "ILLINOIS<br>AGRICULTURAL<br>ASSOCIATION",
          "NATIONAL<br>BUSINESS<br>AVIATION<br>ASSOCIATION",
          "SAZERAC",
          "OREGON<br>FARM<br>BUREAU<br>FEDERATION",
          "PAPERWORKS<br>INDUSTRIES",
          "WESTERN<br>FUELS",
          "ZURICH",
          "HOWARD<br>ENERGY<br>PARTNERS",
          "WSP",
          "PRAIRIE<br>STATE<br>GENERATING",
          "EION"
         ],
         "labels": [
          "UNIVERSITY<br>OF<br>CALIFORNIA",
          "CARNEGIE<br>MELLON<br>UNIVERSITY",
          "KOCH<br>INDUSTRIES",
          "BAYOTECH",
          "POWDER<br>RIVER<br>ENERGY",
          "FORD<br>MOTOR",
          "BITUMINOUS<br>COAL<br>OPERATORS<br>ASSOCIATION",
          "NORTHEAST<br>PUBLIC<br>POWER<br>ASSOCIATION",
          "ENBRIDGE",
          "CSX",
          "SIERRA<br>CLUB",
          "SUNRUN",
          "VESTAS",
          "AMERICAN<br>FORESTS",
          "DTE<br>ENERGY",
          "HIGHLY<br>INNOVATIVE<br>FUELS",
          "LANZAJET",
          "US<br>VENTURE",
          "TRISTATE<br>GENERATION<br>AND<br>TRANSMISSION<br>ASSOCIATION",
          "ONE<br>GAS",
          "WESTERN<br>MICHIGAN<br>UNIVERSITY",
          "BP<br>AMERICA",
          "NISSAN",
          "AMERICAN<br>FARM<br>BUREAU<br>FED",
          "AMERICAN<br>MUNICIPAL<br>POWER",
          "SOAP<br>CREEK<br>ENERGY",
          "DUKE",
          "TWELVE<br>BENEFIT",
          "INDUSTRIAL<br>ENERGY<br>CONSUMERS<br>OF<br>AMERICA",
          "DUPONT",
          "NANO<br>TERRA",
          "RTI<br>INTERNATIONAL",
          "ARIZONA<br>STATE<br>UNIVERSITY",
          "CF<br>INDUSTRIES",
          "NATSO",
          "UNIVERSITY<br>OF<br>PITTSBURGH",
          "H<br>CYCLE",
          "US<br>CHAMBER<br>OF<br>COMMERCE",
          "ITC<br>HOLDINGS",
          "JOY<br>GLOBAL",
          "CITY<br>UTILITIES<br>OF<br>SPRINGFIELD",
          "CORPUS<br>CHRISTI<br>TX",
          "LYONDELL<br>CHEMICAL",
          "EMPIRE<br>DISTRICT<br>ELECTRIC",
          "NATIONAL<br>FUEL<br>GAS",
          "AFLCIO",
          "AMERICAN<br>GAS<br>ASSOCIATION",
          "LINDE",
          "NATIONAL<br>GROUND<br>WATER<br>ASSOCIATION",
          "ENERGY<br>ADVANCE<br>CENTER",
          "TRUST<br>FOR<br>PUBLIC<br>LAND",
          "PORTLAND<br>CEMENT<br>ASSOCIATION",
          "TENASKA",
          "ELECTRIC<br>POWER<br>SUPPLY<br>ASSOCIATION",
          "EXXON<br>MOBIL",
          "KANSAS<br>FARM<br>BUREAU",
          "GOVERNMENT<br>ACCOUNTABILITY<br>PROJECT",
          "HEIRLOOM<br>CARBON<br>TECHNOLOGIES",
          "FLUID<br>MARKET",
          "ECOLAB",
          "CLINE<br>RESOURCES",
          "TALON<br>NICKEL",
          "CLEAN<br>AIR<br>TASK<br>FORCE",
          "TITAN<br>OIL<br>RECOVERY",
          "INTERNATIONAL<br>ASSOCIATION<br>OF<br>MACHINISTS<br>AND<br>AEROSPACE<br>WORKERS",
          "BIOTECHNOLOGY<br>INNOVATION<br>ORGANIZATION",
          "MASSACHUSETTS<br>INSTITUTE<br>OF<br>TECHNOLOGY",
          "NAFA<br>FLEET<br>MANAGEMENT<br>ASSOCIATION",
          "KP<br>KAUFFMAN",
          "CONSOLIDATED<br>METCO",
          "IRRIGATION<br>AND<br>ELECTRICAL<br>DISTRICTS<br>ASSOCIATION<br>OF<br>ARIZONA",
          "CENTERPOINT",
          "FUEL<br>CELL<br>AND<br>HYDROGEN<br>ENERGY<br>ASSOCIATION",
          "TECO",
          "GEODIGITAL<br>INTERNATIONAL",
          "AUSTIN<br>ENERGY",
          "DEVON",
          "GEVO",
          "CZERO",
          "PEABODY",
          "GROWTH<br>ENERGY",
          "OBSIDIAN<br>RENEWABLES",
          "ENERGY<br>FORWARD",
          "ENERGY<br>TRANSFER<br>PARTNERS",
          "GULF<br>COAST<br>SEQUESTRATION",
          "CROWN<br>AGRO<br>FUELS",
          "NURO",
          "CAPTURA",
          "NORTH<br>AMERICAN<br>SUBARU",
          "BABCOCK<br>WILCOX",
          "FIRST<br>SOLAR",
          "BAKER<br>HUGHES",
          "BLEDSOE<br>ASSOCIATES",
          "BERKSHIRE<br>HATHAWAY<br>ENERGY",
          "AMERICAN<br>CLEAN<br>POWER<br>ASSOCIATION",
          "ENGIE",
          "NATURAL<br>GAS<br>SUPPLY<br>ASSOCIATION",
          "ALLIANT<br>ENERGY",
          "ALLIANCE<br>FOR<br>AUTOMOTIVE<br>INNOVATION",
          "NATIONAL<br>RURAL<br>ELECTRIC<br>COOPERATIVE<br>ASSOCIATION",
          "ALGENOL",
          "PLUG<br>POWER",
          "RIPE<br>ROADMAP",
          "FEDEX",
          "INTERNATIONAL<br>BROTHERHOOD<br>OF<br>BOILERMAKERS",
          "CHEMOURS",
          "SUNTORY<br>GLOBAL<br>SPIRITS",
          "CITIZENS<br>FOR<br>RESPONSIBLE<br>ENERGY<br>SOLUTIONS",
          "HOLCIM",
          "CLEAN<br>ENERGY<br>SYSTEMS",
          "INDEPENDENT<br>PETROLEUM<br>ASSOCIATION<br>OF<br>AMERICA",
          "SOLAMERICA<br>ENERGY",
          "CLOUD<br>PEAK<br>ENERGY<br>RESOURCES",
          "CARBON<br>ENGINEERING<br>ULC",
          "AMERICAN<br>ELECTRIC<br>POWER",
          "AMERICAN<br>EXPLORATION<br>PRODUCTION<br>COUNCIL",
          "ENERGY<br>NORTHWEST",
          "C2I",
          "NEW<br>FORTRESS<br>ENERGY",
          "ARCHER<br>DANIELS<br>MIDLAND",
          "AMERICAS<br>POWER",
          "VISTRA",
          "BMW",
          "MDU<br>RESOURCES",
          "NORTHWEST<br>NATURAL<br>HOLDING<br>COMPANY",
          "CONSTELLATION<br>ENERGY",
          "CALIFORNIA<br>STEEL<br>INDUSTRIES",
          "MAINSPRING<br>ENERGY",
          "CLEARPATH<br>ACTION<br>FOR<br>CONSERVATIVE<br>CLEAN<br>ENERGY",
          "SSAB<br>ENTERPRISES",
          "PPL",
          "HYPERION<br>RESOURCES",
          "REWORLD",
          "METHANEX",
          "CHENIERE<br>ENERGY",
          "SOUTHERN<br>ENVIRONMENTAL<br>LAW<br>CENTER",
          "HALLIBURTON",
          "NEXTDECADE",
          "COUNTY<br>OF<br>LOS<br>ANGELES",
          "EARTHJUSTICE",
          "AUTOS<br>DRIVE<br>AMERICA",
          "COALITION<br>FOR<br>ENERGY<br>EFFICIENT<br>JOBS<br>INVESTMENT",
          "ENERGY<br>STORAGE<br>ITC<br>COALITION",
          "TELLUS<br>OPERATING",
          "NORTHWESTERN<br>ENERGY",
          "ARTHUR<br>J<br>GALLAGHER",
          "CLEAN<br>HYDROGEN<br>FUTURE<br>COALITION",
          "BASIN<br>ELECTRIC<br>POWER<br>COOPERATIVE",
          "NORTHERN<br>CALIFORNIA<br>POWER<br>AGENCY",
          "AMERICAN<br>INTERNATIONAL<br>AUTOMOBILE<br>DEALERS<br>ASSOCIATION",
          "WORLD<br>ENERGY",
          "PLASTIC<br>POLLUTION<br>COALITION",
          "AIR<br>PRODUCTS<br>AND<br>CHEMICALS",
          "BREAKTHROUGH<br>ENERGY",
          "FRAMATOME",
          "STEM",
          "DNV",
          "STATE<br>OF<br>ILLINOIS",
          "IMPERIAL<br>IRRIGATION<br>DISTRICT",
          "INDIGO",
          "RENEWABLE<br>ENERGY<br>GROUP",
          "ALLETE",
          "PACCAR",
          "AMERICAN<br>BIOGAS<br>COUNCIL",
          "AMPLE",
          "NC12",
          "HYDROGEN<br>ENERGY<br>CALIFORNIA",
          "PUBLIC<br>SERVICE<br>ENTERPRISE",
          "PROJECT<br>VESTA",
          "TETRA<br>TECHNOLOGIES",
          "DRUMMOND",
          "GLOBAL<br>HYDROGEN<br>TECHNOLOGIES",
          "SACRAMENTO<br>MUNICIPAL<br>UTILITY<br>DISTRICT",
          "UNIVERSAL<br>HYDROGEN",
          "NATIONAL<br>WASTE<br>RECYCLING<br>ASSOCIATION",
          "ENERGY<br>MARKETERS<br>OF<br>AMERICA",
          "MINNKOTA<br>POWER<br>COOPERATIVE",
          "GENERATORS<br>FOR<br>CLEAN<br>AIR",
          "MAGELLAN<br>MIDSTREAM<br>PARTNERS",
          "EASTMAN<br>CHEMICAL",
          "LEAGUE<br>OF<br>CONSERVATION<br>VOTERS",
          "LARGE<br>PUBLIC<br>POWER<br>COUNCIL",
          "LANZATECH",
          "NUCLEAR<br>INNOVATION<br>ALLIANCE",
          "ENTERGY",
          "EVONIK",
          "EDISON<br>ELECTRIC<br>INSTITUTE",
          "INTERNATIONAL<br>BROTHERHOOD<br>OF<br>TEAMSTERS",
          "VERDAGY",
          "NATIONAL<br>AUDUBON<br>SOCIETY",
          "REPUBLIC",
          "WOODWELL<br>CLIMATE<br>RESEARCH<br>CENTER",
          "RHODIA",
          "RWE",
          "SCHNEIDER<br>ELECTRIC",
          "SECURING<br>AMERICAS<br>FUTURE<br>ENERGY",
          "NEW<br>GENERATION<br>BIOFUELS",
          "WESTERN<br>BUSINESS<br>ROUNDTABLE",
          "WESTAR<br>ENERGY",
          "WEC<br>ENERGY",
          "ARRIVAL<br>AUTOMOTIVE",
          "NATIONAL<br>SOCIETY<br>OF<br>PROFESSIONAL<br>SURVEYORS",
          "NATIONAL<br>COTTON<br>COUNCIL",
          "BANK<br>OF<br>AMERICA",
          "FRONTIERAS",
          "EQUINOR",
          "SOUTHERN<br>MONTANA<br>ELECTRIC<br>GENERATION<br>TRANSMISSION<br>COOPERATIVE",
          "MILESTONE<br>ENVIRONMENTAL",
          "BOARDWALK<br>PIPELINE",
          "MACQUARIE<br>INFRASTRUCTURE<br>AND<br>REAL<br>ASSETS",
          "ENVIRONMENTAL<br>POWER",
          "VALERO",
          "JACK<br>COOPER<br>TRANSPORT",
          "SUNIVA",
          "CNOOC",
          "HONEYWELL<br>INTERNATIONAL",
          "COLORADO<br>SPRINGS<br>UTILITIES",
          "GEOTHERMAL<br>EXCHANGE<br>ORGANIZATION",
          "VOLVO",
          "LINDEN<br>TRUST<br>FOR<br>CONSERVATION",
          "LEUCADIA<br>NATIONAL",
          "FRIENDS<br>OF<br>EARTH",
          "FIDELIS<br>NEW<br>ENERGY",
          "OX<br>PAPERBOARD",
          "NATIONAL<br>READY<br>MIXED<br>CONCRETE<br>ASSOCIATION",
          "ASSOCIATION<br>OF<br>OIL<br>PIPE<br>LINES",
          "ATLAS<br>AIR<br>WORLDWIDE<br>HOLDINGS",
          "STATE<br>OF<br>INDIANA",
          "SOUTHERN<br>CALIFORNIA<br>PUBLIC<br>POWER<br>AUTHORITY",
          "CATERPILLAR",
          "US<br>WIND",
          "LIQUID<br>ENERGY<br>PIPELINE<br>ASSOCIATION",
          "CALERA",
          "HAWAIIAN<br>AIRLINES",
          "CONSOL<br>ENERGY",
          "SUNPOWER",
          "NAVIGATOR<br>CO2",
          "TENNESSEE<br>VALLEY<br>PUBLIC<br>POWER<br>ASSOCIATION",
          "INTERNATIONAL<br>BROTHERHOOD<br>OF<br>ELECTRICAL<br>WORKERS",
          "INTERSTATE<br>NATURAL<br>GAS<br>ASSOCIATION<br>OF<br>AMERICA",
          "STELLANTIS",
          "WASTE<br>MANAGEMENT",
          "GLENROCK<br>PETROLEUM",
          "NATIONAL<br>GRID",
          "STRATA<br>CLEAN<br>ENERGY",
          "WABASH<br>VALLEY<br>RESOURCES",
          "BAYER",
          "LIGNITE<br>ENERGY<br>COUNCIL",
          "ARCELORMITTAL",
          "CEMVITA",
          "WESTINGHOUSE<br>ELECTRIC",
          "UNILEVER<br>UNITED<br>STATES",
          "FUTUREGEN<br>INDUSTRIAL<br>ALLIANCE",
          "WOODSIDE<br>ENERGY",
          "ELECTRIFY<br>AMERICA",
          "ENVIRONMENT<br>AMERICA",
          "YUM<br>BRANDS",
          "GREEN<br>PLAINS",
          "UNIVERSITY<br>OF<br>NORTHERN<br>IOWA",
          "XCEL<br>ENERGY",
          "ASSOCIATION<br>OF<br>METROPOLITAN<br>WATER<br>AGENCIES",
          "ENEL",
          "AMERICAN<br>SOCIETY<br>OF<br>CIVIL<br>ENGINEERS",
          "GOODYEAR",
          "NLMK<br>PENNSYLVANIA",
          "NORFOLK<br>SOUTHERN",
          "SWIFT<br>SOLAR",
          "UNIVERSITY<br>OF<br>KENTUCKY",
          "DYSTAR",
          "WHITE<br>OAK<br>INITIATIVE",
          "UNITED<br>BIOREFINERIES",
          "VOLKSWAGEN",
          "METHANOL<br>INSTITUTE",
          "PINNACLE<br>WEST<br>CAPITAL",
          "UNITED<br>STEELWORKERS",
          "GRANT<br>COUNTY<br>PUBLIC<br>UTILITY<br>DISTRICT",
          "UTAH<br>ASSOCIATED<br>MUNICIPAL<br>POWER<br>SYSTEMS",
          "WESTROCK",
          "TARGA",
          "RIO<br>TINTO",
          "FRIENDS<br>COMMITTEE<br>ON<br>NATIONAL<br>LEGISLATION",
          "GILA<br>COUNTY<br>AZ",
          "UNITED<br>AIRLINES",
          "WILLIAMS<br>COMPANIES",
          "UNIPER<br>GLOBAL<br>COMMODITIES",
          "SIGNA<br>CHEMISTRY",
          "POWERTAP",
          "REMORA",
          "SITHE<br>GLOBAL<br>POWER",
          "SHELL",
          "RENTECH",
          "PUBLIC<br>POWER<br>COUNCIL",
          "SUNNOVA<br>ENERGY<br>INTERNATIONAL",
          "NET<br>POWER",
          "SEMPRA",
          "NORTH<br>AMERICAN<br>CARBON<br>CAPTURE<br>STORAGE<br>ASSOCIATION<br>NACCSA",
          "PHILLIPS<br>66",
          "UNIVERSITY<br>OF<br>ILLINOIS",
          "OPEN<br>SPACE<br>INSTITUTE",
          "CORN<br>REFINERS<br>ASSOCIATION",
          "NORTHWEST<br>PUBLIC<br>POWER<br>ASSOCIATION",
          "GREATER<br>PITTSBURGH<br>CHAMBER<br>OF<br>COMMERCE",
          "ENTERPRISE<br>PRODUCTS<br>PARTNERS<br>LP",
          "SMURFIT<br>STONE<br>CONTAINER",
          "MITSUBISHI",
          "BIOMASS<br>POWER<br>ASSOCIATION",
          "CMS<br>ENERGY",
          "LS<br>POWER",
          "INSTITUTE<br>OF<br>ELECTRICAL<br>AND<br>ELECTRONICS<br>ENGINEERS",
          "AETHON<br>ENERGY",
          "CLEAN<br>COAL<br>TECHNOLOGIES",
          "NEBRASKA<br>FARM<br>BUREAU<br>FEDERATION",
          "PACIFIC<br>FOREST<br>TRUST",
          "INTERNATIONAL<br>PAPER",
          "WEYERHAEUSER",
          "US<br>FUEL<br>CELL<br>COUNCIL",
          "FERTILIZER<br>INSTITUTE",
          "BLACK<br>VEATCH",
          "AMERICAN<br>BIOMASS<br>ENERGY<br>ASSOCIATION",
          "BLUE<br>SOURCE",
          "ORIGIN<br>MATERIALS",
          "BIPARTISAN<br>POLICY<br>CENTER",
          "ALTERNATIVE<br>FUELS<br>CHEMICALS<br>COALITION",
          "AMERICAN<br>ASSOCIATION<br>OF<br>PETROLEUM<br>GEOLOGISTS",
          "OHIO<br>UNIVERSITY",
          "BIAENERGY<br>OPERATING",
          "ACCELERGY",
          "ADVANCED<br>BIOFUELS<br>ASSOCIATION",
          "ATMOS<br>ENERGY",
          "AMERICANS<br>FOR<br>TAX<br>REFORM",
          "AMERICAN<br>PUBLIC<br>POWER<br>ASSOCIATION",
          "AIR<br>LIQUIDE",
          "NATURE<br>CONSERVANCY",
          "AMERICAN<br>FUEL<br>PETROCHEMICAL<br>MANUFACTURERS",
          "APEX<br>CLEAN<br>ENERGY",
          "APPALACHIAN<br>TRAIL<br>CONSERVANCY",
          "WASHINGTON<br>GAS<br>LIGHT",
          "AEROSEAL",
          "AMERICAN<br>FOREST<br>PAPER<br>ASSOCIATION",
          "ADVANTEK<br>WASTE<br>MANAGEMENT",
          "AMERICAN<br>FOREST<br>FOUNDATION",
          "AMERICAN<br>COALITION<br>FOR<br>ETHANOL",
          "AMERICAN<br>COALITION<br>FOR<br>CLEAN<br>COAL<br>ELECTRICITY",
          "NEW<br>YORK<br>FARM<br>BUREAU",
          "AMERICAN<br>CHEMICAL<br>SOCIETY",
          "AMERICAN<br>FOREST<br>RESOURCE<br>COUNCIL",
          "BRIMSTONE<br>ENERGY",
          "TYSON<br>FOODS",
          "CUMMINS",
          "GREENPEACE",
          "JAMESTOWN<br>BOARD<br>OF<br>PUBLIC<br>UTILITIES",
          "HUNTSMAN",
          "JUPITER<br>OXYGEN",
          "DOMINION",
          "CASCADES",
          "DOUGLAS<br>COUNTY<br>PUBLIC<br>UTILITY<br>DISTRICT",
          "CARBONFUTURE",
          "CARBON<br>GEOCAPTURE",
          "GRAPHIC<br>PACKAGING<br>INTERNATIONAL",
          "CARBON<br>ENGINEERING",
          "CARBON<br>180",
          "SUMMIT<br>POWER",
          "HARDWOOD<br>FEDERATION",
          "COLUMBIA<br>PIPELINE",
          "RADIA",
          "HONDA",
          "CALIFORNIA<br>INSTITUTE<br>OF<br>TECHNOLOGY",
          "COLORADO<br>RIVER<br>ENERGY<br>DISTRIBUTORS<br>ASSOCIATION",
          "CALIFORNIA<br>AGRICULTURAL<br>COMMISSIONERS<br>AND<br>SEALERS<br>ASSOCIATION",
          "EDISON<br>INTERNATIONAL",
          "CLEAN<br>ENERGY<br>FUELS",
          "AMERICAN<br>PUBLIC<br>TRANSPORTATION<br>ASSOCIATION",
          "UNITED<br>MINE<br>WORKERS<br>OF<br>AMERICA",
          "GEORGIA<br>INSTITUTE<br>OF<br>TECHNOLOGY",
          "NET<br>NEGATIVE<br>CO2<br>BASELOAD<br>POWER",
          "HYDROGEN<br>FUEL<br>CELL<br>BUS<br>COUNCIL",
          "NUCLEAR<br>ENERGY<br>INSTITUTE",
          "TRANS<br>CANADA",
          "AMERICAS<br>NATURAL<br>GAS<br>ALLIANCE",
          "CHEVRON",
          "CHARM<br>INDUSTRIAL",
          "NISOURCE",
          "AMERICAN<br>WIND<br>ENERGY<br>ASSOCIATION",
          "NRG",
          "BUSINESS<br>ROUNDTABLE",
          "QUIDNET<br>ENERGY",
          "BNSF<br>RAILWAY",
          "ONEOK",
          "ENABLE<br>MIDSTREAM<br>PARTNERS",
          "LONGROAD<br>ENERGY<br>MANAGEMENT",
          "GENERAL<br>ELECTRIC",
          "NATIONAL<br>ASSOCIATION<br>OF<br>MANUFACTURERS",
          "OHIO<br>MUNICIPAL<br>ELECTRIC<br>ASSOCIATION",
          "OCEAN<br>CONSERVANCY",
          "FALCON<br>ENERGY<br>STORAGE<br>HOLDINGS<br>CEI",
          "COLONIAL<br>PIPELINE",
          "RENEWABLE<br>FUELS<br>ASSOCIATION",
          "FIRSTENERGY",
          "TOTAL",
          "POWERSPAN",
          "POTLATCHDELTIC",
          "THERMOENERGY",
          "GTA<br>ENERGY",
          "NUCOR",
          "SANDRIDGE<br>ENERGY",
          "COVESTRO",
          "SASOL",
          "GREATPOINT<br>ENERGY",
          "CONSOLIDATED<br>EDISON",
          "CODEXIS",
          "CNX<br>RESOURCES",
          "NATURAL<br>STATE<br>RENEWABLES",
          "NATIONAL<br>ASSOCIATION<br>OF<br>CLEAN<br>WATER<br>AGENCIES",
          "INVENERGY",
          "MONOLITH<br>MATERIALS",
          "CHART<br>INDUSTRIES",
          "UNIVERSITY<br>OF<br>MICHIGAN",
          "MM<br>ENERGY",
          "CENTER<br>FOR<br>AMERICAN<br>PROGRESS",
          "NATIONAL<br>MILK<br>PRODUCERS<br>FEDERATION",
          "CEMEX",
          "BWX<br>TECHNOLOGIES",
          "WESTERN<br>ORGANIZATION<br>OF<br>RESOURCE<br>COUNCILS",
          "MOVEONORG<br>CIVIC<br>ACTION",
          "TES<br>US<br>DEVELOPMENT",
          "GPA<br>MIDSTREAM<br>ASSOCIATION",
          "DKRW",
          "OKLAHOMA<br>GAS<br>AND<br>ELECTRIC",
          "DELTA",
          "TESLA",
          "ALPHA<br>NATURAL<br>RESOURCES",
          "RAVEN<br>SR",
          "KEURIG<br>DR<br>PEPPER",
          "BLUE<br>GREEN<br>ALLIANCE",
          "TALLGRASS",
          "GENERAL<br>MOTORS",
          "UNITED<br>BROTHERHOOD<br>OF<br>CARPENTERS",
          "LAND<br>TRUST<br>ALLIANCE",
          "PORTLAND<br>OR",
          "NATAT<br>NATIONAL<br>ASSOCIATION<br>OF<br>TOWNS<br>AND<br>TOWNSHIPS",
          "KINDER<br>MORGAN",
          "BLACK<br>HILLS",
          "WILDERNESS<br>SOCIETY",
          "ALGONQUIN<br>POWER<br>UTILITIES",
          "MAGNOLIA<br>LNG",
          "EVERSOURCE",
          "UNITED<br>AUTOMOBILE<br>AEROSPACE<br>AGRICULTURAL<br>IMPLEMENT<br>WORKERS",
          "NIKOLA",
          "RTX",
          "NEXTERA",
          "CLECO<br>POWER",
          "CORNING",
          "CLEAN<br>FUELS<br>ALLIANCE<br>AMERICA",
          "INDIAN<br>LAND<br>TENURE",
          "ROBERT<br>BOSCH",
          "INTL<br>ASSOCIATION<br>OF<br>BRIDGE<br>STRUCTURAL<br>ORNAMENTAL<br>REINFORCING<br>IRON<br>WORKERS",
          "INTERSTATE<br>OIL<br>AND<br>GAS<br>COMPACT<br>COMMISSION",
          "ASSOCIATION<br>OF<br>AMERICAN<br>RAILROADS",
          "CENTER<br>FOR<br>INDIVIDUAL<br>FREEDOM",
          "NATIONAL<br>MINING<br>ASSOCIATION",
          "DAIRYLAND<br>POWER<br>COOPERATIVE",
          "UIL-AVANGRID",
          "GREAT<br>PLAINS<br>INSTITUTE",
          "SOUTHWEST<br>AIRLINES",
          "CALIFORNIA<br>STATE<br>ASSOCIATION<br>OF<br>COUNTIES",
          "NATIONAL<br>OCEAN<br>INDUSTRIES<br>ASSOCIATION",
          "CLEVELANDCLIFFS",
          "MCR<br>OIL<br>TOOLS",
          "TOPSOE",
          "UNITED<br>ASSOCIATION<br>OF<br>JOURNEYMEN<br>APPRENTICES<br>OF<br>PLUMBING<br>PIPEFITTING<br>INDUSTRY",
          "SOLAR<br>ENERGY<br>INDUSTRIES<br>ASSOCIATION",
          "RUNNING<br>TIDE",
          "ABB",
          "LIEBMAN<br>ASSOCIATES",
          "OHIO<br>FARM<br>BUREAU<br>FEDERATION",
          "EOS<br>ENERGY<br>STORAGE",
          "NEW<br>YORK<br>ASSOCIATION<br>OF<br>PUBLIC<br>POWER",
          "CCS<br>ALLIANCE",
          "EV<br>CONNECT",
          "NATURAL<br>RESOURCES<br>DEFENSE<br>COUNCIL",
          "NATIONAL<br>PROPANE<br>GAS<br>ASSOCIATION",
          "MODERN<br>HYDROGEN",
          "CALPINE",
          "MARATHON",
          "IOWA<br>STATE<br>UNIVERSITY",
          "AKERMIN",
          "GREIF",
          "AMEREN",
          "HYLIION",
          "AECOM",
          "EOG<br>RESOURCES",
          "AEROJET<br>ROCKETDYNE",
          "AMERICAN<br>WOOD<br>COUNCIL",
          "ORMAT<br>NEVADA",
          "CLEARWAY<br>ENERGY",
          "ARCH<br>RESOURCES",
          "ACLIMA",
          "ALGAE<br>BIOMASS<br>ORGANIZATION",
          "DOW",
          "EATON",
          "AES",
          "COLIBRI<br>ENTERPRISES",
          "SVANTE",
          "GEOS<br>INSTITUTE",
          "STATE<br>OF<br>NORTH<br>DAKOTA",
          "STATE<br>OF<br>LOUISIANA",
          "METALS",
          "NATIONAL<br>ASSOCIATION<br>OF<br>FEDERALLYINSURED<br>CREDIT<br>UNIONS",
          "NATIONAL<br>TAXPAYERS<br>UNION",
          "BASF",
          "WORLD<br>SHIPPING<br>COUNCIL",
          "TOYOTA",
          "BAKKEN<br>ENERGY",
          "ENVIRONMENTAL<br>DEFENSE<br>FUND",
          "CONOCO<br>PHILLIPS",
          "VANDERBILT<br>UNIVERSITY",
          "ZERO<br>EMISSION<br>TRANSPORTATION<br>ASSOCIATION",
          "INTERNATIONAL<br>UNION<br>OF<br>OPERATING<br>ENGINEERS",
          "NATIONAL<br>VENTURE<br>CAPITAL<br>ASSOCIATION",
          "CARBON<br>UTILIZATION<br>RESEARCH<br>COUNCIL",
          "SALT<br>RIVER<br>PROJECT",
          "VERDE<br>CO2",
          "PLUM<br>CREEK<br>TIMBER",
          "UNION<br>PACIFIC",
          "SOUTHERN<br>UTE<br>INDIAN<br>TRIBE",
          "FLUOR",
          "SOLVAY",
          "SMITHFIELD<br>FOODS",
          "HITACHI",
          "AIRCONDITIONING<br>HEATING<br>REFRIGERATION<br>INSTITUTE",
          "EXELON",
          "CARRIER<br>GLOBAL",
          "ENI",
          "GLENCORE",
          "FOSTER<br>WHEELER",
          "ALSTOM",
          "ONE<br>H2",
          "AMERICAN<br>CHEMISTRY<br>COUNCIL",
          "PRIMIENT",
          "ASME",
          "UTILITY<br>WORKERS<br>UNION<br>OF<br>AMERICA",
          "NEW<br>MEXICO<br>STATE<br>UNIVERSITY",
          "BLOOM<br>ENERGY",
          "NATIONAL<br>ALLIANCE<br>OF<br>FOREST<br>OWNERS",
          "CENTER<br>FOR<br>TRANSPORTATION<br>AND<br>ENVIRONMENT",
          "CHAMPAIGNURBANA<br>MASS<br>TRANSIT<br>DISTRICT",
          "INTERNATIONAL<br>UNION<br>OF<br>PAINTERS<br>AND<br>ALLIED<br>TRADES",
          "SOUTHERN<br>COMPANY",
          "TACOMA<br>PUBLIC<br>UTILITIES",
          "CARBON<br>ADVOCACY<br>PROJECT",
          "UNIVERSITY<br>OF<br>TEXAS",
          "US<br>BIOCHAR<br>COALITION",
          "RHEEM<br>MANUFACTURING",
          "RICE<br>UNIVERSITY",
          "KANSAS<br>DEPARTMENT<br>OF<br>COMMERCE",
          "US<br>STEEL",
          "BROOKFIELD<br>ASSET<br>MANAGEMENT",
          "PUGET<br>SOUND<br>ENERGY",
          "SIEMENS",
          "ZERO<br>CARBON<br>HYDROGEN<br>COALITION",
          "WORLD<br>RESOURCES<br>INSTITUTE",
          "ARKEMA",
          "ANGLO<br>AMERICAN",
          "BANK<br>POLICY<br>INSTITUTE",
          "AMERICAN<br>PETROLEUM<br>INSTITUTE",
          "CENTER<br>FOR<br>CLIMATE<br>AND<br>ENERGY<br>SOLUTIONS",
          "CLARK<br>STREET<br>ASSOCIATES",
          "AMERICAN<br>TRANSMISSION",
          "CALSTART",
          "GULFSAFE",
          "CROWLEY<br>MARITIME",
          "PROCESS<br>ENERGY<br>SOLUTIONS",
          "PORTLAND<br>GENERAL<br>ELECTRIC",
          "POET",
          "PNM<br>RESOURCES",
          "PENNSYLVANIA<br>FARM<br>BUREAU",
          "PBF",
          "PACIFIC<br>GAS<br>AND<br>ELECTRIC",
          "ORSTED",
          "YALE<br>UNIVERSITY",
          "OCCIDENTAL<br>PETROLEUM",
          "NORTHROP<br>GRUMMAN",
          "SKYONIC",
          "NATIONAL<br>RIGHT<br>TO<br>WORK<br>COMMITTEE",
          "NATIONAL<br>PARKS<br>CONSERVATION<br>ASSOCIATION",
          "MISSOURI<br>RIVER<br>ENERGY",
          "MERCEDESBENZ<br>GROUP",
          "INTERSECT<br>POWER",
          "INTERNATIONAL<br>ASSOCIATION<br>OF<br>SHEET<br>METAL<br>AIR<br>RAIL<br>TRANSPORTATION<br>WORKERS",
          "HYUNDAI<br>KIA",
          "HYDROGEN<br>ADVISORY<br>COUNCIL",
          "GLIDEPATH",
          "FORTESCUE",
          "FCO<br>ADVISORS",
          "EVERGY",
          "EQT",
          "DIFFERENTIATED<br>GAS<br>COORDINATING<br>COUNCIL<br>COALITION",
          "COUNCIL<br>OF<br>INDUSTRIAL<br>BOILER<br>OWNERS",
          "WILEY<br>REIN",
          "PROJECT<br>CANARY",
          "FORTERA",
          "VISCON",
          "CALPORTLAND",
          "DRAX<br>GROUP",
          "ILLINOIS<br>AGRICULTURAL<br>ASSOCIATION",
          "NATIONAL<br>BUSINESS<br>AVIATION<br>ASSOCIATION",
          "SAZERAC",
          "OREGON<br>FARM<br>BUREAU<br>FEDERATION",
          "PAPERWORKS<br>INDUSTRIES",
          "WESTERN<br>FUELS",
          "ZURICH",
          "HOWARD<br>ENERGY<br>PARTNERS",
          "WSP",
          "PRAIRIE<br>STATE<br>GENERATING",
          "EION"
         ],
         "marker": {
          "colors": [
           "cornflowerblue",
           "cornflowerblue",
           "dimgrey",
           "dimgrey",
           "dimgrey",
           "darkgrey",
           "dimgrey",
           "dimgrey",
           "dimgrey",
           "darkgrey",
           "darkseagreen",
           "darkseagreen",
           "darkseagreen",
           "darkseagreen",
           "dimgrey",
           "darkseagreen",
           "darkgrey",
           "dimgrey",
           "dimgrey",
           "dimgrey",
           "cornflowerblue",
           "dimgrey",
           "darkgrey",
           "darkkhaki",
           "dimgrey",
           "darkkhaki",
           "dimgrey",
           "darkgrey",
           "dimgrey",
           "dimgrey",
           "darkkhaki",
           "darkkhaki",
           "cornflowerblue",
           "dimgrey",
           "darkgrey",
           "cornflowerblue",
           "darkgrey",
           "cornflowerblue",
           "dimgrey",
           "firebrick",
           "dimgrey",
           "cornflowerblue",
           "dimgrey",
           "dimgrey",
           "dimgrey",
           "cornflowerblue",
           "dimgrey",
           "dimgrey",
           "darkseagreen",
           "dimgrey",
           "darkseagreen",
           "firebrick",
           "dimgrey",
           "dimgrey",
           "dimgrey",
           "darkkhaki",
           "cornflowerblue",
           "darkseagreen",
           "darkgrey",
           "dimgrey",
           "dimgrey",
           "firebrick",
           "darkseagreen",
           "dimgrey",
           "cornflowerblue",
           "darkgrey",
           "cornflowerblue",
           "darkgrey",
           "dimgrey",
           "darkgrey",
           "dimgrey",
           "dimgrey",
           "darkgrey",
           "dimgrey",
           "darkkhaki",
           "dimgrey",
           "dimgrey",
           "darkgrey",
           "dimgrey",
           "dimgrey",
           "darkgrey",
           "darkseagreen",
           "dimgrey",
           "dimgrey",
           "dimgrey",
           "dimgrey",
           "darkgrey",
           "dimgrey",
           "darkgrey",
           "darkgrey",
           "darkseagreen",
           "dimgrey",
           "darkkhaki",
           "dimgrey",
           "darkseagreen",
           "dimgrey",
           "dimgrey",
           "dimgrey",
           "darkgrey",
           "dimgrey",
           "dimgrey",
           "darkgrey",
           "darkseagreen",
           "darkgrey",
           "cornflowerblue",
           "dimgrey",
           "darkkhaki",
           "darkseagreen",
           "firebrick",
           "dimgrey",
           "dimgrey",
           "darkseagreen",
           "dimgrey",
           "dimgrey",
           "dimgrey",
           "dimgrey",
           "dimgrey",
           "darkkhaki",
           "dimgrey",
           "darkkhaki",
           "dimgrey",
           "dimgrey",
           "darkgrey",
           "dimgrey",
           "dimgrey",
           "dimgrey",
           "firebrick",
           "darkgrey",
           "cornflowerblue",
           "firebrick",
           "dimgrey",
           "dimgrey",
           "darkgrey",
           "dimgrey",
           "dimgrey",
           "darkseagreen",
           "dimgrey",
           "dimgrey",
           "cornflowerblue",
           "darkseagreen",
           "darkgrey",
           "cornflowerblue",
           "darkseagreen",
           "dimgrey",
           "dimgrey",
           "darkkhaki",
           "dimgrey",
           "dimgrey",
           "dimgrey",
           "darkgrey",
           "darkseagreen",
           "darkseagreen",
           "dimgrey",
           "darkkhaki",
           "darkseagreen",
           "darkseagreen",
           "darkkhaki",
           "cornflowerblue",
           "darkseagreen",
           "darkkhaki",
           "darkseagreen",
           "dimgrey",
           "darkgrey",
           "darkgrey",
           "darkseagreen",
           "dimgrey",
           "dimgrey",
           "dimgrey",
           "darkseagreen",
           "dimgrey",
           "dimgrey",
           "dimgrey",
           "dimgrey",
           "darkgrey",
           "darkseagreen",
           "dimgrey",
           "dimgrey",
           "dimgrey",
           "dimgrey",
           "dimgrey",
           "darkseagreen",
           "dimgrey",
           "darkkhaki",
           "darkseagreen",
           "dimgrey",
           "dimgrey",
           "dimgrey",
           "cornflowerblue",
           "dimgrey",
           "darkseagreen",
           "dimgrey",
           "darkkhaki",
           "dimgrey",
           "dimgrey",
           "darkgrey",
           "cornflowerblue",
           "darkgrey",
           "cornflowerblue",
           "dimgrey",
           "dimgrey",
           "darkgrey",
           "cornflowerblue",
           "darkkhaki",
           "darkkhaki",
           "dimgrey",
           "dimgrey",
           "dimgrey",
           "dimgrey",
           "dimgrey",
           "darkkhaki",
           "darkgrey",
           "dimgrey",
           "darkgrey",
           "darkseagreen",
           "dimgrey",
           "darkgrey",
           "dimgrey",
           "darkseagreen",
           "darkgrey",
           "darkseagreen",
           "darkkhaki",
           "darkseagreen",
           "dimgrey",
           "firebrick",
           "firebrick",
           "dimgrey",
           "darkgrey",
           "cornflowerblue",
           "dimgrey",
           "darkgrey",
           "darkseagreen",
           "dimgrey",
           "darkseagreen",
           "darkgrey",
           "dimgrey",
           "darkseagreen",
           "dimgrey",
           "dimgrey",
           "cornflowerblue",
           "dimgrey",
           "darkgrey",
           "dimgrey",
           "dimgrey",
           "dimgrey",
           "darkseagreen",
           "dimgrey",
           "dimgrey",
           "dimgrey",
           "firebrick",
           "dimgrey",
           "darkseagreen",
           "darkkhaki",
           "dimgrey",
           "dimgrey",
           "cornflowerblue",
           "darkseagreen",
           "darkkhaki",
           "darkgrey",
           "cornflowerblue",
           "dimgrey",
           "darkseagreen",
           "darkseagreen",
           "cornflowerblue",
           "darkgrey",
           "firebrick",
           "darkgrey",
           "darkseagreen",
           "cornflowerblue",
           "dimgrey",
           "firebrick",
           "darkgrey",
           "darkgrey",
           "dimgrey",
           "dimgrey",
           "cornflowerblue",
           "dimgrey",
           "dimgrey",
           "cornflowerblue",
           "dimgrey",
           "firebrick",
           "darkseagreen",
           "cornflowerblue",
           "darkgrey",
           "dimgrey",
           "dimgrey",
           "dimgrey",
           "dimgrey",
           "dimgrey",
           "dimgrey",
           "dimgrey",
           "darkgrey",
           "dimgrey",
           "darkseagreen",
           "dimgrey",
           "dimgrey",
           "dimgrey",
           "dimgrey",
           "cornflowerblue",
           "darkseagreen",
           "darkgrey",
           "dimgrey",
           "cornflowerblue",
           "dimgrey",
           "firebrick",
           "darkgrey",
           "darkgrey",
           "dimgrey",
           "dimgrey",
           "cornflowerblue",
           "dimgrey",
           "dimgrey",
           "darkkhaki",
           "firebrick",
           "firebrick",
           "firebrick",
           "darkgrey",
           "dimgrey",
           "darkkhaki",
           "darkgrey",
           "dimgrey",
           "dimgrey",
           "cornflowerblue",
           "darkgrey",
           "cornflowerblue",
           "cornflowerblue",
           "darkgrey",
           "darkgrey",
           "darkgrey",
           "dimgrey",
           "cornflowerblue",
           "dimgrey",
           "dimgrey",
           "darkseagreen",
           "dimgrey",
           "darkseagreen",
           "darkseagreen",
           "dimgrey",
           "darkkhaki",
           "firebrick",
           "dimgrey",
           "darkseagreen",
           "darkgrey",
           "dimgrey",
           "darkkhaki",
           "dimgrey",
           "firebrick",
           "firebrick",
           "darkkhaki",
           "darkgrey",
           "darkseagreen",
           "dimgrey",
           "dimgrey",
           "dimgrey",
           "dimgrey",
           "firebrick",
           "dimgrey",
           "darkseagreen",
           "dimgrey",
           "firebrick",
           "dimgrey",
           "darkseagreen",
           "dimgrey",
           "firebrick",
           "dimgrey",
           "darkseagreen",
           "darkgrey",
           "cornflowerblue",
           "dimgrey",
           "darkkhaki",
           "dimgrey",
           "darkgrey",
           "darkgrey",
           "cornflowerblue",
           "cornflowerblue",
           "dimgrey",
           "darkgrey",
           "darkseagreen",
           "dimgrey",
           "dimgrey",
           "dimgrey",
           "darkgrey",
           "dimgrey",
           "darkseagreen",
           "dimgrey",
           "cornflowerblue",
           "darkseagreen",
           "darkgrey",
           "dimgrey",
           "dimgrey",
           "darkseagreen",
           "darkgrey",
           "cornflowerblue",
           "dimgrey",
           "darkseagreen",
           "darkseagreen",
           "dimgrey",
           "darkgrey",
           "dimgrey",
           "dimgrey",
           "dimgrey",
           "firebrick",
           "dimgrey",
           "darkseagreen",
           "firebrick",
           "dimgrey",
           "dimgrey",
           "dimgrey",
           "dimgrey",
           "dimgrey",
           "darkgrey",
           "dimgrey",
           "darkgrey",
           "darkseagreen",
           "dimgrey",
           "dimgrey",
           "dimgrey",
           "cornflowerblue",
           "dimgrey",
           "cornflowerblue",
           "darkkhaki",
           "firebrick",
           "darkseagreen",
           "darkseagreen",
           "cornflowerblue",
           "darkseagreen",
           "dimgrey",
           "dimgrey",
           "dimgrey",
           "darkgrey",
           "darkseagreen",
           "dimgrey",
           "darkgrey",
           "darkkhaki",
           "darkseagreen",
           "dimgrey",
           "darkgrey",
           "cornflowerblue",
           "darkseagreen",
           "cornflowerblue",
           "cornflowerblue",
           "dimgrey",
           "dimgrey",
           "darkseagreen",
           "dimgrey",
           "dimgrey",
           "dimgrey",
           "cornflowerblue",
           "darkgrey",
           "darkgrey",
           "darkseagreen",
           "dimgrey",
           "darkseagreen",
           "darkgrey",
           "darkseagreen",
           "darkkhaki",
           "cornflowerblue",
           "cornflowerblue",
           "darkgrey",
           "cornflowerblue",
           "firebrick",
           "dimgrey",
           "dimgrey",
           "darkkhaki",
           "darkgrey",
           "cornflowerblue",
           "dimgrey",
           "firebrick",
           "dimgrey",
           "darkgrey",
           "cornflowerblue",
           "darkseagreen",
           "darkseagreen",
           "darkkhaki",
           "darkkhaki",
           "darkkhaki",
           "darkseagreen",
           "dimgrey",
           "dimgrey",
           "darkseagreen",
           "darkseagreen",
           "dimgrey",
           "dimgrey",
           "dimgrey",
           "dimgrey",
           "cornflowerblue",
           "dimgrey",
           "firebrick",
           "dimgrey",
           "darkgrey",
           "darkkhaki",
           "dimgrey",
           "darkgrey",
           "firebrick",
           "darkseagreen",
           "darkseagreen",
           "dimgrey",
           "darkkhaki",
           "dimgrey",
           "dimgrey",
           "darkgrey",
           "dimgrey",
           "darkkhaki",
           "dimgrey",
           "darkseagreen",
           "cornflowerblue",
           "cornflowerblue",
           "firebrick",
           "darkkhaki",
           "cornflowerblue",
           "dimgrey",
           "darkgrey",
           "darkgrey",
           "dimgrey",
           "darkseagreen",
           "dimgrey",
           "cornflowerblue",
           "darkseagreen",
           "cornflowerblue",
           "darkkhaki",
           "dimgrey",
           "dimgrey",
           "dimgrey",
           "firebrick",
           "darkgrey",
           "cornflowerblue",
           "darkkhaki",
           "dimgrey",
           "darkkhaki",
           "darkgrey",
           "darkkhaki",
           "dimgrey",
           "darkkhaki",
           "dimgrey",
           "firebrick",
           "darkkhaki",
           "darkgrey",
           "dimgrey",
           "dimgrey",
           "darkkhaki",
           "darkkhaki",
           "cornflowerblue",
           "cornflowerblue",
           "darkgrey",
           "firebrick",
           "cornflowerblue",
           "cornflowerblue",
           "cornflowerblue",
           "dimgrey",
           "dimgrey",
           "darkseagreen",
           "cornflowerblue",
           "darkseagreen",
           "darkkhaki",
           "cornflowerblue",
           "cornflowerblue",
           "firebrick",
           "darkkhaki",
           "dimgrey",
           "darkgrey",
           "dimgrey",
           "darkkhaki",
           "dimgrey",
           "firebrick",
           "darkkhaki",
           "dimgrey",
           "darkseagreen",
           "darkkhaki",
           "dimgrey",
           "darkgrey",
           "dimgrey",
           "darkkhaki",
           "darkseagreen",
           "dimgrey",
           "darkgrey",
           "dimgrey",
           "darkkhaki",
           "dimgrey",
           "dimgrey",
           "darkseagreen",
           "cornflowerblue",
           "dimgrey",
           "darkgrey",
           "darkseagreen",
           "cornflowerblue",
           "darkseagreen",
           "dimgrey",
           "darkgrey",
           "darkseagreen",
           "cornflowerblue",
           "darkgrey",
           "dimgrey",
           "darkseagreen",
           "firebrick",
           "darkkhaki",
           "dimgrey",
           "dimgrey",
           "dimgrey",
           "darkgrey",
           "darkkhaki",
           "darkseagreen",
           "firebrick",
           "darkkhaki",
           "firebrick",
           "dimgrey",
           "darkkhaki",
           "darkgrey",
           "darkkhaki",
           "darkkhaki",
           "firebrick",
           "dimgrey",
           "darkkhaki",
           "dimgrey",
           "darkkhaki",
           "dimgrey",
           "darkseagreen"
          ],
          "line": {
           "width": 0.1
          }
         },
         "name": "",
         "parents": [
          "",
          "",
          "",
          "",
          "",
          "",
          "",
          "",
          "",
          "",
          "",
          "",
          "",
          "",
          "",
          "",
          "",
          "",
          "",
          "",
          "",
          "",
          "",
          "",
          "",
          "",
          "",
          "",
          "",
          "",
          "",
          "",
          "",
          "",
          "",
          "",
          "",
          "",
          "",
          "",
          "",
          "",
          "",
          "",
          "",
          "",
          "",
          "",
          "",
          "",
          "",
          "",
          "",
          "",
          "",
          "",
          "",
          "",
          "",
          "",
          "",
          "",
          "",
          "",
          "",
          "",
          "",
          "",
          "",
          "",
          "",
          "",
          "",
          "",
          "",
          "",
          "",
          "",
          "",
          "",
          "",
          "",
          "",
          "",
          "",
          "",
          "",
          "",
          "",
          "",
          "",
          "",
          "",
          "",
          "",
          "",
          "",
          "",
          "",
          "",
          "",
          "",
          "",
          "",
          "",
          "",
          "",
          "",
          "",
          "",
          "",
          "",
          "",
          "",
          "",
          "",
          "",
          "",
          "",
          "",
          "",
          "",
          "",
          "",
          "",
          "",
          "",
          "",
          "",
          "",
          "",
          "",
          "",
          "",
          "",
          "",
          "",
          "",
          "",
          "",
          "",
          "",
          "",
          "",
          "",
          "",
          "",
          "",
          "",
          "",
          "",
          "",
          "",
          "",
          "",
          "",
          "",
          "",
          "",
          "",
          "",
          "",
          "",
          "",
          "",
          "",
          "",
          "",
          "",
          "",
          "",
          "",
          "",
          "",
          "",
          "",
          "",
          "",
          "",
          "",
          "",
          "",
          "",
          "",
          "",
          "",
          "",
          "",
          "",
          "",
          "",
          "",
          "",
          "",
          "",
          "",
          "",
          "",
          "",
          "",
          "",
          "",
          "",
          "",
          "",
          "",
          "",
          "",
          "",
          "",
          "",
          "",
          "",
          "",
          "",
          "",
          "",
          "",
          "",
          "",
          "",
          "",
          "",
          "",
          "",
          "",
          "",
          "",
          "",
          "",
          "",
          "",
          "",
          "",
          "",
          "",
          "",
          "",
          "",
          "",
          "",
          "",
          "",
          "",
          "",
          "",
          "",
          "",
          "",
          "",
          "",
          "",
          "",
          "",
          "",
          "",
          "",
          "",
          "",
          "",
          "",
          "",
          "",
          "",
          "",
          "",
          "",
          "",
          "",
          "",
          "",
          "",
          "",
          "",
          "",
          "",
          "",
          "",
          "",
          "",
          "",
          "",
          "",
          "",
          "",
          "",
          "",
          "",
          "",
          "",
          "",
          "",
          "",
          "",
          "",
          "",
          "",
          "",
          "",
          "",
          "",
          "",
          "",
          "",
          "",
          "",
          "",
          "",
          "",
          "",
          "",
          "",
          "",
          "",
          "",
          "",
          "",
          "",
          "",
          "",
          "",
          "",
          "",
          "",
          "",
          "",
          "",
          "",
          "",
          "",
          "",
          "",
          "",
          "",
          "",
          "",
          "",
          "",
          "",
          "",
          "",
          "",
          "",
          "",
          "",
          "",
          "",
          "",
          "",
          "",
          "",
          "",
          "",
          "",
          "",
          "",
          "",
          "",
          "",
          "",
          "",
          "",
          "",
          "",
          "",
          "",
          "",
          "",
          "",
          "",
          "",
          "",
          "",
          "",
          "",
          "",
          "",
          "",
          "",
          "",
          "",
          "",
          "",
          "",
          "",
          "",
          "",
          "",
          "",
          "",
          "",
          "",
          "",
          "",
          "",
          "",
          "",
          "",
          "",
          "",
          "",
          "",
          "",
          "",
          "",
          "",
          "",
          "",
          "",
          "",
          "",
          "",
          "",
          "",
          "",
          "",
          "",
          "",
          "",
          "",
          "",
          "",
          "",
          "",
          "",
          "",
          "",
          "",
          "",
          "",
          "",
          "",
          "",
          "",
          "",
          "",
          "",
          "",
          "",
          "",
          "",
          "",
          "",
          "",
          "",
          "",
          "",
          "",
          "",
          "",
          "",
          "",
          "",
          "",
          "",
          "",
          "",
          "",
          "",
          "",
          "",
          "",
          "",
          "",
          "",
          "",
          "",
          "",
          "",
          "",
          "",
          "",
          "",
          "",
          "",
          "",
          "",
          "",
          "",
          "",
          "",
          "",
          "",
          "",
          "",
          "",
          "",
          "",
          "",
          "",
          "",
          "",
          "",
          "",
          "",
          "",
          "",
          "",
          "",
          "",
          "",
          "",
          "",
          "",
          "",
          "",
          "",
          "",
          "",
          "",
          "",
          "",
          "",
          "",
          "",
          "",
          "",
          "",
          "",
          "",
          "",
          "",
          "",
          "",
          "",
          "",
          "",
          "",
          "",
          "",
          "",
          "",
          "",
          "",
          "",
          "",
          "",
          "",
          "",
          "",
          "",
          "",
          "",
          "",
          "",
          "",
          "",
          "",
          "",
          "",
          "",
          "",
          "",
          "",
          "",
          "",
          "",
          "",
          "",
          "",
          "",
          "",
          "",
          "",
          "",
          "",
          "",
          "",
          "",
          "",
          "",
          "",
          "",
          "",
          "",
          "",
          "",
          "",
          "",
          "",
          "",
          "",
          "",
          "",
          "",
          "",
          "",
          "",
          "",
          "",
          "",
          "",
          "",
          "",
          "",
          "",
          "",
          "",
          "",
          "",
          "",
          "",
          "",
          "",
          "",
          "",
          "",
          "",
          "",
          "",
          "",
          "",
          "",
          "",
          ""
         ],
         "type": "treemap",
         "values": [
          36382.97872340425,
          40523.80952380953,
          4805920.468914958,
          780000,
          40000,
          115000,
          674415.1666666666,
          40000,
          6046588.629399586,
          952757.5598214285,
          360972.4457464732,
          202000,
          190000,
          105714.28571428571,
          1741435.5717615718,
          270000,
          155555.55555555553,
          30000,
          657000,
          60000,
          33333.33333333333,
          14957983.864516826,
          993333.3333333333,
          1004221.049070846,
          157719.78333333333,
          70000,
          16667627.645076498,
          219999.99999999997,
          1405750,
          589168.8596491228,
          20000,
          4000,
          51052.08333333333,
          699815.0183150183,
          17872.340425531915,
          588869.0476190476,
          15000,
          13543873.256231252,
          1065714.2857142857,
          20000,
          130000,
          120000,
          797203.663003663,
          22600,
          1100000,
          2892151.438044791,
          2444431.602625101,
          4328839.682539683,
          36666.666666666664,
          730000,
          205018.67241747986,
          1948587.1318224259,
          705494.3302087601,
          1083970.319535537,
          39097268.03846496,
          2000,
          8511,
          255000,
          70000,
          1635239.441114441,
          20000,
          160000,
          2231967.507857143,
          20000,
          62903.22580645161,
          855322.1038031973,
          13533.035714285714,
          19000,
          170000,
          52500,
          20000,
          1409268.0675860087,
          237142.85714285713,
          2043444.9882117882,
          45833.33333333333,
          53800,
          18000,
          446666.6666666666,
          120000,
          12095196.16587833,
          3845277.777777778,
          40000,
          5090000,
          1040000,
          390000,
          20000,
          51666.666666666664,
          233000,
          37500,
          476666.6666666667,
          200000,
          1873626.9841269841,
          20000,
          4222150.227626924,
          1184860.7313738891,
          524571.4285714285,
          83333.33333333331,
          202500,
          807387.3666666667,
          7337655.311579953,
          35833.333333333336,
          3379333.333333333,
          40000,
          111333.33333333333,
          1441325,
          130000,
          148500,
          1429333.3333333333,
          1151405.7971014492,
          170000,
          353308.85054945055,
          32500,
          615333.3333333334,
          432000,
          22090466.793380402,
          65591.54583333334,
          40000,
          280000,
          490000,
          1763581.33149138,
          3754344.833333333,
          1740194.5083333333,
          1355000,
          81000,
          420000,
          4139776.791097507,
          16250,
          196666.66666666666,
          200000,
          86666.66666666666,
          1636063.1868131869,
          130000,
          3537999.9999999995,
          40000,
          250000,
          353357.14285714284,
          609288.8888888889,
          480000,
          20000,
          622977.2727894256,
          310000,
          300000,
          480000,
          150000,
          7500,
          145000,
          225000,
          343628,
          1683899.6619047618,
          600466.6666666666,
          160000,
          40000,
          7929857.142857143,
          2075285.7142857143,
          29333.333333333332,
          229999.99999999997,
          390598.3333333333,
          440000,
          50000,
          2500000,
          350000,
          163928.57142857142,
          68571.42857142857,
          10000,
          322631.2,
          90000,
          550000,
          3511016.160310278,
          100000,
          20000,
          58333.33333333333,
          28000,
          240000,
          300000,
          9381.598793363499,
          233446.83257918552,
          195000,
          240000,
          10000,
          1336556.3725490198,
          93871.7247962852,
          173333.33333333334,
          591056.277056277,
          100000,
          4878936.507936507,
          57222.22222222222,
          27642270.71965191,
          79136.60869565218,
          80000,
          6567.460317460317,
          275554.44555444556,
          10000,
          189500,
          190000,
          87058.82352941176,
          37166.666666666664,
          5000,
          101666.66666666666,
          10000,
          595731.244949495,
          10000,
          36000,
          286000,
          97142.85714285713,
          2500,
          3050470.092131857,
          80000,
          60000,
          175000,
          30000,
          10000,
          2848107.1428571427,
          100000,
          55000,
          658333.3333333333,
          7313587.187114073,
          3750,
          60000,
          170065.73251310093,
          370000,
          220000,
          6666.666666666666,
          490000,
          1510.5,
          530021.9464285714,
          110000,
          530000,
          79008.92857142857,
          110000,
          108030.30303030304,
          2166.6666666666665,
          217237,
          147142.85714285713,
          160000,
          2223857.1428571427,
          328000,
          1730000,
          40000,
          412598.1106080194,
          2195566.703238095,
          37500,
          108000,
          39999.99999999999,
          5278643.171914298,
          55000,
          271750,
          1239417.7630952275,
          300000,
          3445685.180144932,
          305000,
          128000,
          187571.42857142855,
          1415000,
          463703.7037037037,
          105000,
          29551.28205128205,
          90000,
          1425699.494949495,
          21818.181818181823,
          4420498.5569985565,
          2222.222222222222,
          69040.40404040404,
          45668.11363636363,
          90000,
          12500,
          2299495.133890523,
          99999.99999999999,
          10717.333333333332,
          96000,
          300000,
          10000,
          231428.57142857142,
          90000,
          1250166.6666666665,
          70959.59595959596,
          15000,
          10000,
          78889.16666666666,
          340000,
          1570829.365079365,
          273464.9102810746,
          258000,
          1700833.3333333333,
          4842500,
          160000,
          390000,
          200000,
          230000,
          60000,
          20484178.73733051,
          161428.57142857142,
          79303.40000000001,
          50000,
          110000,
          5856231.454358616,
          70000,
          7192503.746253747,
          59838.38383838384,
          182500,
          79047.61904761905,
          30000,
          136380.95238095237,
          63333.33333333333,
          8779.73,
          194766.66666666666,
          192500,
          2649783.2204832206,
          87000,
          2333.333333333333,
          30000,
          160000,
          8000,
          30000,
          16666.666666666664,
          1066534.9227260991,
          10000,
          631601.426984127,
          151500,
          40000,
          129182.54000000001,
          8333.333333333332,
          1189484.011118599,
          8640,
          2000,
          78596.73659673659,
          15000,
          229444.44444444444,
          110000,
          90000,
          49750,
          934627.1507772855,
          4323833.333333333,
          1921031.9611144473,
          1510912.5171428572,
          356666.6666666666,
          9858.666666666666,
          1025214.4761904761,
          30000,
          361530.612244898,
          25000,
          8236.5,
          90000,
          73333.33333333333,
          2857.142857142857,
          85835.77533577534,
          37500,
          77500,
          418277.47252747254,
          1010044.8630952381,
          6463.5,
          100000,
          1750000,
          394000,
          2746477.4967661025,
          29490,
          160000,
          397254,
          290000,
          31961,
          279200,
          22500,
          630000,
          93166.66666666667,
          370000,
          175000,
          538844.1515849741,
          49500,
          10000,
          23333.333333333332,
          1115667.6349965823,
          64000,
          334000,
          3217826.3673809525,
          36666.666666666664,
          18750,
          2222.222222222222,
          1245064.8592033556,
          9440000,
          112684.18201516791,
          17423384.399203707,
          565000,
          1529965.3679653679,
          60000,
          3842020,
          417500,
          119999.99999999999,
          738571.4285714285,
          1578500,
          50000,
          96666.66666666666,
          5147196.35485217,
          3809657.745714367,
          699466.8333333334,
          169770.8333333333,
          60000,
          265571.4285714286,
          2339549.996989079,
          3047237.6383644654,
          200000,
          649999.9999999999,
          14000,
          24000,
          20000,
          70869.5652173913,
          360000,
          1080209.7331632935,
          376666.6666666666,
          77142.85714285713,
          160476.19047619047,
          449500,
          1190000,
          30000,
          205000,
          140000,
          670000,
          210000,
          62887.56613756614,
          93333.33333333331,
          62857.142857142855,
          174395.85582417581,
          1964801,
          655848.2992666563,
          2755.46,
          454.54545454545456,
          290000,
          83333.33333333333,
          390000,
          45000,
          1760842.6399471175,
          145000,
          1968523.15,
          170000,
          364000,
          39555.555555555555,
          845000,
          237500,
          45454.545454545456,
          343333.3333333333,
          59659.02682143091,
          8333.333333333332,
          890571.4285714285,
          223891.74714174712,
          431289.37728937727,
          64357.142857142855,
          64285.71428571428,
          471611.51767676766,
          284236.6707366707,
          400000,
          11888.11188811189,
          3220009.0507494863,
          1080000,
          124185.31468531469,
          742521.5,
          120000,
          151833.33333333334,
          107519.48051948052,
          10000,
          2760340.6964285714,
          3540,
          6329002.585460049,
          13000,
          1262941.5415754681,
          326333.3333333333,
          407500,
          12444.444444444445,
          434321.4285714286,
          200357.14285714284,
          122500,
          450000,
          812523.8095238095,
          559090.9090909091,
          420000,
          49696.969696969696,
          450000,
          14166.666666666666,
          300000,
          12666.666666666666,
          860000,
          150000,
          131694.8732718894,
          326807.64510089456,
          40000,
          13678628.759398496,
          5612884.487638115,
          42030.41982295482,
          510000,
          56594.75,
          4044134.353980026,
          60000,
          12307.692307692309,
          99428.57142857142,
          52402.5974025974,
          175808.0808080808,
          55681.818181818184,
          76666.66666666666,
          1814167.193917194,
          258000,
          21166.666666666664,
          2401672.4580430463,
          201494.36090225563,
          467948.71794871794,
          130000,
          590000,
          83482.09,
          4285.714285714285,
          12857.142857142855,
          20000,
          1020000,
          5848.062319979052,
          760866.5501165502,
          420000,
          590226.0529115342,
          360000,
          596357.9954022989,
          9082007.123611167,
          3333.333333333333,
          290000,
          773319.6248196248,
          1272802.1247872934,
          2029000,
          2107903.9294039295,
          20000,
          594375,
          1899691.1746031747,
          245000,
          154289,
          126234.44976076555,
          262216.6666666666,
          41012.98701298701,
          367183.4,
          4538888.654563073,
          238839.22477522478,
          13333.333333333332,
          42500,
          91000,
          3511970.7342490843,
          50000,
          6867742.625795257,
          20000,
          435500,
          64404.7619047619,
          13333.333333333332,
          2105000,
          1935712.8914070698,
          60000,
          10500,
          140152.18115218115,
          54131272.989426345,
          570000,
          290000,
          73750,
          15000,
          119166.66666666666,
          33642.857142857145,
          3875,
          702321.4285714285,
          26666.666666666664,
          1722938.3116883116,
          2841612.382168725,
          440000,
          179999.99999999997,
          75337.1266002845,
          280000,
          60000,
          8462076.75623642,
          104166.66666666666,
          4444.444444444444,
          15000,
          40615.38461538462,
          2236.333333333333,
          120000,
          20000,
          596545.4545454546,
          4264347.355543008,
          236349.20634920633,
          4440.22644022644,
          195000,
          13453989.008625012,
          260000,
          86000,
          69430899.80586472,
          77142.85714285714,
          55000,
          452000,
          36790.33333333333,
          172406.8333333333,
          616666.6666666666,
          536666.6666666666,
          1396640.6214257963,
          612229.4372294372,
          30000,
          60000,
          276857.14285714284,
          10000,
          207136.44688644688,
          1020000,
          60000,
          26666.666666666664,
          110000,
          334833.322,
          70000,
          24000,
          321904.7619047619,
          190000,
          21558.44155844156,
          1062682.5396825396,
          100000,
          6673.160173160172,
          9650.25,
          24000,
          2082201.7255223456,
          300000,
          38000,
          490000,
          220000
         ]
        }
       ],
       "layout": {
        "font": {
         "size": 60
        },
        "height": 800,
        "legend": {
         "tracegroupgap": 0
        },
        "margin": {
         "b": 25,
         "l": 25,
         "r": 25,
         "t": 25
        },
        "template": {
         "data": {
          "bar": [
           {
            "error_x": {
             "color": "#2a3f5f"
            },
            "error_y": {
             "color": "#2a3f5f"
            },
            "marker": {
             "line": {
              "color": "#E5ECF6",
              "width": 0.5
             },
             "pattern": {
              "fillmode": "overlay",
              "size": 10,
              "solidity": 0.2
             }
            },
            "type": "bar"
           }
          ],
          "barpolar": [
           {
            "marker": {
             "line": {
              "color": "#E5ECF6",
              "width": 0.5
             },
             "pattern": {
              "fillmode": "overlay",
              "size": 10,
              "solidity": 0.2
             }
            },
            "type": "barpolar"
           }
          ],
          "carpet": [
           {
            "aaxis": {
             "endlinecolor": "#2a3f5f",
             "gridcolor": "white",
             "linecolor": "white",
             "minorgridcolor": "white",
             "startlinecolor": "#2a3f5f"
            },
            "baxis": {
             "endlinecolor": "#2a3f5f",
             "gridcolor": "white",
             "linecolor": "white",
             "minorgridcolor": "white",
             "startlinecolor": "#2a3f5f"
            },
            "type": "carpet"
           }
          ],
          "choropleth": [
           {
            "colorbar": {
             "outlinewidth": 0,
             "ticks": ""
            },
            "type": "choropleth"
           }
          ],
          "contour": [
           {
            "colorbar": {
             "outlinewidth": 0,
             "ticks": ""
            },
            "colorscale": [
             [
              0,
              "#0d0887"
             ],
             [
              0.1111111111111111,
              "#46039f"
             ],
             [
              0.2222222222222222,
              "#7201a8"
             ],
             [
              0.3333333333333333,
              "#9c179e"
             ],
             [
              0.4444444444444444,
              "#bd3786"
             ],
             [
              0.5555555555555556,
              "#d8576b"
             ],
             [
              0.6666666666666666,
              "#ed7953"
             ],
             [
              0.7777777777777778,
              "#fb9f3a"
             ],
             [
              0.8888888888888888,
              "#fdca26"
             ],
             [
              1,
              "#f0f921"
             ]
            ],
            "type": "contour"
           }
          ],
          "contourcarpet": [
           {
            "colorbar": {
             "outlinewidth": 0,
             "ticks": ""
            },
            "type": "contourcarpet"
           }
          ],
          "heatmap": [
           {
            "colorbar": {
             "outlinewidth": 0,
             "ticks": ""
            },
            "colorscale": [
             [
              0,
              "#0d0887"
             ],
             [
              0.1111111111111111,
              "#46039f"
             ],
             [
              0.2222222222222222,
              "#7201a8"
             ],
             [
              0.3333333333333333,
              "#9c179e"
             ],
             [
              0.4444444444444444,
              "#bd3786"
             ],
             [
              0.5555555555555556,
              "#d8576b"
             ],
             [
              0.6666666666666666,
              "#ed7953"
             ],
             [
              0.7777777777777778,
              "#fb9f3a"
             ],
             [
              0.8888888888888888,
              "#fdca26"
             ],
             [
              1,
              "#f0f921"
             ]
            ],
            "type": "heatmap"
           }
          ],
          "heatmapgl": [
           {
            "colorbar": {
             "outlinewidth": 0,
             "ticks": ""
            },
            "colorscale": [
             [
              0,
              "#0d0887"
             ],
             [
              0.1111111111111111,
              "#46039f"
             ],
             [
              0.2222222222222222,
              "#7201a8"
             ],
             [
              0.3333333333333333,
              "#9c179e"
             ],
             [
              0.4444444444444444,
              "#bd3786"
             ],
             [
              0.5555555555555556,
              "#d8576b"
             ],
             [
              0.6666666666666666,
              "#ed7953"
             ],
             [
              0.7777777777777778,
              "#fb9f3a"
             ],
             [
              0.8888888888888888,
              "#fdca26"
             ],
             [
              1,
              "#f0f921"
             ]
            ],
            "type": "heatmapgl"
           }
          ],
          "histogram": [
           {
            "marker": {
             "pattern": {
              "fillmode": "overlay",
              "size": 10,
              "solidity": 0.2
             }
            },
            "type": "histogram"
           }
          ],
          "histogram2d": [
           {
            "colorbar": {
             "outlinewidth": 0,
             "ticks": ""
            },
            "colorscale": [
             [
              0,
              "#0d0887"
             ],
             [
              0.1111111111111111,
              "#46039f"
             ],
             [
              0.2222222222222222,
              "#7201a8"
             ],
             [
              0.3333333333333333,
              "#9c179e"
             ],
             [
              0.4444444444444444,
              "#bd3786"
             ],
             [
              0.5555555555555556,
              "#d8576b"
             ],
             [
              0.6666666666666666,
              "#ed7953"
             ],
             [
              0.7777777777777778,
              "#fb9f3a"
             ],
             [
              0.8888888888888888,
              "#fdca26"
             ],
             [
              1,
              "#f0f921"
             ]
            ],
            "type": "histogram2d"
           }
          ],
          "histogram2dcontour": [
           {
            "colorbar": {
             "outlinewidth": 0,
             "ticks": ""
            },
            "colorscale": [
             [
              0,
              "#0d0887"
             ],
             [
              0.1111111111111111,
              "#46039f"
             ],
             [
              0.2222222222222222,
              "#7201a8"
             ],
             [
              0.3333333333333333,
              "#9c179e"
             ],
             [
              0.4444444444444444,
              "#bd3786"
             ],
             [
              0.5555555555555556,
              "#d8576b"
             ],
             [
              0.6666666666666666,
              "#ed7953"
             ],
             [
              0.7777777777777778,
              "#fb9f3a"
             ],
             [
              0.8888888888888888,
              "#fdca26"
             ],
             [
              1,
              "#f0f921"
             ]
            ],
            "type": "histogram2dcontour"
           }
          ],
          "mesh3d": [
           {
            "colorbar": {
             "outlinewidth": 0,
             "ticks": ""
            },
            "type": "mesh3d"
           }
          ],
          "parcoords": [
           {
            "line": {
             "colorbar": {
              "outlinewidth": 0,
              "ticks": ""
             }
            },
            "type": "parcoords"
           }
          ],
          "pie": [
           {
            "automargin": true,
            "type": "pie"
           }
          ],
          "scatter": [
           {
            "fillpattern": {
             "fillmode": "overlay",
             "size": 10,
             "solidity": 0.2
            },
            "type": "scatter"
           }
          ],
          "scatter3d": [
           {
            "line": {
             "colorbar": {
              "outlinewidth": 0,
              "ticks": ""
             }
            },
            "marker": {
             "colorbar": {
              "outlinewidth": 0,
              "ticks": ""
             }
            },
            "type": "scatter3d"
           }
          ],
          "scattercarpet": [
           {
            "marker": {
             "colorbar": {
              "outlinewidth": 0,
              "ticks": ""
             }
            },
            "type": "scattercarpet"
           }
          ],
          "scattergeo": [
           {
            "marker": {
             "colorbar": {
              "outlinewidth": 0,
              "ticks": ""
             }
            },
            "type": "scattergeo"
           }
          ],
          "scattergl": [
           {
            "marker": {
             "colorbar": {
              "outlinewidth": 0,
              "ticks": ""
             }
            },
            "type": "scattergl"
           }
          ],
          "scattermapbox": [
           {
            "marker": {
             "colorbar": {
              "outlinewidth": 0,
              "ticks": ""
             }
            },
            "type": "scattermapbox"
           }
          ],
          "scatterpolar": [
           {
            "marker": {
             "colorbar": {
              "outlinewidth": 0,
              "ticks": ""
             }
            },
            "type": "scatterpolar"
           }
          ],
          "scatterpolargl": [
           {
            "marker": {
             "colorbar": {
              "outlinewidth": 0,
              "ticks": ""
             }
            },
            "type": "scatterpolargl"
           }
          ],
          "scatterternary": [
           {
            "marker": {
             "colorbar": {
              "outlinewidth": 0,
              "ticks": ""
             }
            },
            "type": "scatterternary"
           }
          ],
          "surface": [
           {
            "colorbar": {
             "outlinewidth": 0,
             "ticks": ""
            },
            "colorscale": [
             [
              0,
              "#0d0887"
             ],
             [
              0.1111111111111111,
              "#46039f"
             ],
             [
              0.2222222222222222,
              "#7201a8"
             ],
             [
              0.3333333333333333,
              "#9c179e"
             ],
             [
              0.4444444444444444,
              "#bd3786"
             ],
             [
              0.5555555555555556,
              "#d8576b"
             ],
             [
              0.6666666666666666,
              "#ed7953"
             ],
             [
              0.7777777777777778,
              "#fb9f3a"
             ],
             [
              0.8888888888888888,
              "#fdca26"
             ],
             [
              1,
              "#f0f921"
             ]
            ],
            "type": "surface"
           }
          ],
          "table": [
           {
            "cells": {
             "fill": {
              "color": "#EBF0F8"
             },
             "line": {
              "color": "white"
             }
            },
            "header": {
             "fill": {
              "color": "#C8D4E3"
             },
             "line": {
              "color": "white"
             }
            },
            "type": "table"
           }
          ]
         },
         "layout": {
          "annotationdefaults": {
           "arrowcolor": "#2a3f5f",
           "arrowhead": 0,
           "arrowwidth": 1
          },
          "autotypenumbers": "strict",
          "coloraxis": {
           "colorbar": {
            "outlinewidth": 0,
            "ticks": ""
           }
          },
          "colorscale": {
           "diverging": [
            [
             0,
             "#8e0152"
            ],
            [
             0.1,
             "#c51b7d"
            ],
            [
             0.2,
             "#de77ae"
            ],
            [
             0.3,
             "#f1b6da"
            ],
            [
             0.4,
             "#fde0ef"
            ],
            [
             0.5,
             "#f7f7f7"
            ],
            [
             0.6,
             "#e6f5d0"
            ],
            [
             0.7,
             "#b8e186"
            ],
            [
             0.8,
             "#7fbc41"
            ],
            [
             0.9,
             "#4d9221"
            ],
            [
             1,
             "#276419"
            ]
           ],
           "sequential": [
            [
             0,
             "#0d0887"
            ],
            [
             0.1111111111111111,
             "#46039f"
            ],
            [
             0.2222222222222222,
             "#7201a8"
            ],
            [
             0.3333333333333333,
             "#9c179e"
            ],
            [
             0.4444444444444444,
             "#bd3786"
            ],
            [
             0.5555555555555556,
             "#d8576b"
            ],
            [
             0.6666666666666666,
             "#ed7953"
            ],
            [
             0.7777777777777778,
             "#fb9f3a"
            ],
            [
             0.8888888888888888,
             "#fdca26"
            ],
            [
             1,
             "#f0f921"
            ]
           ],
           "sequentialminus": [
            [
             0,
             "#0d0887"
            ],
            [
             0.1111111111111111,
             "#46039f"
            ],
            [
             0.2222222222222222,
             "#7201a8"
            ],
            [
             0.3333333333333333,
             "#9c179e"
            ],
            [
             0.4444444444444444,
             "#bd3786"
            ],
            [
             0.5555555555555556,
             "#d8576b"
            ],
            [
             0.6666666666666666,
             "#ed7953"
            ],
            [
             0.7777777777777778,
             "#fb9f3a"
            ],
            [
             0.8888888888888888,
             "#fdca26"
            ],
            [
             1,
             "#f0f921"
            ]
           ]
          },
          "colorway": [
           "#636efa",
           "#EF553B",
           "#00cc96",
           "#ab63fa",
           "#FFA15A",
           "#19d3f3",
           "#FF6692",
           "#B6E880",
           "#FF97FF",
           "#FECB52"
          ],
          "font": {
           "color": "#2a3f5f"
          },
          "geo": {
           "bgcolor": "white",
           "lakecolor": "white",
           "landcolor": "#E5ECF6",
           "showlakes": true,
           "showland": true,
           "subunitcolor": "white"
          },
          "hoverlabel": {
           "align": "left"
          },
          "hovermode": "closest",
          "mapbox": {
           "style": "light"
          },
          "paper_bgcolor": "white",
          "plot_bgcolor": "#E5ECF6",
          "polar": {
           "angularaxis": {
            "gridcolor": "white",
            "linecolor": "white",
            "ticks": ""
           },
           "bgcolor": "#E5ECF6",
           "radialaxis": {
            "gridcolor": "white",
            "linecolor": "white",
            "ticks": ""
           }
          },
          "scene": {
           "xaxis": {
            "backgroundcolor": "#E5ECF6",
            "gridcolor": "white",
            "gridwidth": 2,
            "linecolor": "white",
            "showbackground": true,
            "ticks": "",
            "zerolinecolor": "white"
           },
           "yaxis": {
            "backgroundcolor": "#E5ECF6",
            "gridcolor": "white",
            "gridwidth": 2,
            "linecolor": "white",
            "showbackground": true,
            "ticks": "",
            "zerolinecolor": "white"
           },
           "zaxis": {
            "backgroundcolor": "#E5ECF6",
            "gridcolor": "white",
            "gridwidth": 2,
            "linecolor": "white",
            "showbackground": true,
            "ticks": "",
            "zerolinecolor": "white"
           }
          },
          "shapedefaults": {
           "line": {
            "color": "#2a3f5f"
           }
          },
          "ternary": {
           "aaxis": {
            "gridcolor": "white",
            "linecolor": "white",
            "ticks": ""
           },
           "baxis": {
            "gridcolor": "white",
            "linecolor": "white",
            "ticks": ""
           },
           "bgcolor": "#E5ECF6",
           "caxis": {
            "gridcolor": "white",
            "linecolor": "white",
            "ticks": ""
           }
          },
          "title": {
           "x": 0.05
          },
          "xaxis": {
           "automargin": true,
           "gridcolor": "white",
           "linecolor": "white",
           "ticks": "",
           "title": {
            "standoff": 15
           },
           "zerolinecolor": "white",
           "zerolinewidth": 2
          },
          "yaxis": {
           "automargin": true,
           "gridcolor": "white",
           "linecolor": "white",
           "ticks": "",
           "title": {
            "standoff": 15
           },
           "zerolinecolor": "white",
           "zerolinewidth": 2
          }
         }
        },
        "width": 1600
       }
      }
     },
     "metadata": {},
     "output_type": "display_data"
    }
   ],
   "source": [
    "color_dict = {\n",
    "    \"oil and gas\": \"dimgrey\",\n",
    "    \"investor owned utilities\": \"dimgrey\",\n",
    "    \"business advocacy\": \"cornflowerblue\",\n",
    "    \"independent power producers\": \"dimgrey\",\n",
    "    \"coal\": \"dimgrey\",\n",
    "    \"pipelines\": \"dimgrey\",\n",
    "    \"chemicals, refining, and plastics\": \"dimgrey\",\n",
    "    \"municipal and cooperative utilities\": \"dimgrey\",\n",
    "    \"energy technology\": \"darkgrey\",\n",
    "    \"mining and metals\": \"firebrick\",\n",
    "    \"biofuels\": \"darkgrey\",\n",
    "    \"railway\": \"darkgrey\",\n",
    "    \"iron and steel\": \"firebrick\",\n",
    "    \"fuel cell\": \"darkgrey\",\n",
    "    \"renewable energy\": \"darkseagreen\",\n",
    "    \"labor union\": \"cornflowerblue\",\n",
    "    \"food and agriculture\": \"darkkhaki\",\n",
    "    \"environmental\": \"darkseagreen\",\n",
    "    \"finance\": \"darkkhaki\",\n",
    "    \"ccs\": \"dimgrey\",\n",
    "    \"cement\": \"firebrick\",\n",
    "    \"paper products\": \"firebrick\",\n",
    "    \"oilfield services\": \"dimgrey\",\n",
    "    \"air transit\": \"darkgrey\",\n",
    "    \"power sector general\": \"dimgrey\",\n",
    "    \"land transit\": \"darkgrey\",\n",
    "    \"nuclear\": \"darkseagreen\",\n",
    "    \"think tanks and issue advocacy\": \"cornflowerblue\",\n",
    "    \"clean hydrogen\": \"dimgrey\",\n",
    "    \"engineering, technology, and consulting\": \"darkkhaki\",\n",
    "    \"higher education\": \"cornflowerblue\",\n",
    "    \"lng\": \"dimgrey\",\n",
    "    \"government\": \"cornflowerblue\",\n",
    "    \"water transit\": \"darkgrey\",\n",
    "    \"carbon\": \"darkseagreen\",\n",
    "    \"hvac\": \"darkkhaki\",\n",
    "    \"independent research organization\": \"darkkhaki\",\n",
    "    \"ev\": \"darkseagreen\",\n",
    "    \"green hydrogen\": \"darkseagreen\",\n",
    "    \"water\": \"darkseagreen\",\n",
    "    \"other\": \"darkkhaki\",\n",
    "    \"law and public policy\": \"darkkhaki\",\n",
    "    \"professional societies\": \"cornflowerblue\",\n",
    "    \"algae\": \"dimgrey\",\n",
    "}\n",
    "# org totals\n",
    "org_df = (\n",
    "    df[[\"organization\", \"lobbying_activity_usd\", \"sector\"]]\n",
    "    .groupby([\"organization\"])\n",
    "    .agg({\"lobbying_activity_usd\": \"sum\", \"sector\": \"first\"})\n",
    "    .sort_values(by=[\"lobbying_activity_usd\"], ascending=False)\n",
    ")\n",
    "org_df = org_df.loc[org_df.lobbying_activity_usd > 0]\n",
    "org_df.reset_index(inplace=True)\n",
    "org_df[\"org_with_returns\"] = [\n",
    "    \"CONOCO<br>PHILLIPS\" if x == \"CONOCOPHILLIPS\" else x.replace(\" \", \"<br>\")\n",
    "    for x in org_df.organization\n",
    "]\n",
    "org_df[\"org_with_returns\"] = [\n",
    "    \"EXXON<br>MOBIL\" if x == \"EXXONMOBIL\" else x for x in org_df[\"org_with_returns\"]\n",
    "]\n",
    "org_df[\"org_with_returns\"] = [\n",
    "    \"TRANS<br>CANADA\" if x == \"TRANSCANADA\" else x for x in org_df[\"org_with_returns\"]\n",
    "]\n",
    "# fig, ax = plt.subplots(1, 1, figsize=(17, 10))\n",
    "import plotly.express as px\n",
    "\n",
    "fig = px.treemap(\n",
    "    org_df,\n",
    "    path=[\"org_with_returns\"],\n",
    "    values=\"lobbying_activity_usd\",\n",
    "    color=\"sector\",\n",
    "    # color_discrete_map=color_dict,\n",
    "    width=1600,\n",
    "    height=800,\n",
    "    color_discrete_map=color_dict,\n",
    ")\n",
    "fig.update_layout(margin=dict(t=25, l=25, r=25, b=25), font_size=60)\n",
    "fig.update_traces(marker_line_width=0.1)\n",
    "fig.show()"
   ]
  },
  {
   "cell_type": "markdown",
   "metadata": {},
   "source": [
    "### Which organizations in other sectors do the most CCS lobbying?"
   ]
  },
  {
   "cell_type": "code",
   "execution_count": 58,
   "metadata": {},
   "outputs": [
    {
     "data": {
      "text/html": [
       "<div>\n",
       "<style scoped>\n",
       "    .dataframe tbody tr th:only-of-type {\n",
       "        vertical-align: middle;\n",
       "    }\n",
       "\n",
       "    .dataframe tbody tr th {\n",
       "        vertical-align: top;\n",
       "    }\n",
       "\n",
       "    .dataframe thead th {\n",
       "        text-align: right;\n",
       "    }\n",
       "</style>\n",
       "<table border=\"1\" class=\"dataframe\">\n",
       "  <thead>\n",
       "    <tr style=\"text-align: right;\">\n",
       "      <th></th>\n",
       "      <th>lobbying_activity_usd</th>\n",
       "    </tr>\n",
       "    <tr>\n",
       "      <th>organization</th>\n",
       "      <th></th>\n",
       "    </tr>\n",
       "  </thead>\n",
       "  <tbody>\n",
       "    <tr>\n",
       "      <th>UNIVERSITY OF PITTSBURGH</th>\n",
       "      <td>588869.047619</td>\n",
       "    </tr>\n",
       "    <tr>\n",
       "      <th>YALE UNIVERSITY</th>\n",
       "      <td>86000.000000</td>\n",
       "    </tr>\n",
       "    <tr>\n",
       "      <th>OHIO UNIVERSITY</th>\n",
       "      <td>78596.736597</td>\n",
       "    </tr>\n",
       "    <tr>\n",
       "      <th>UNIVERSITY OF TEXAS</th>\n",
       "      <td>73750.000000</td>\n",
       "    </tr>\n",
       "    <tr>\n",
       "      <th>UNIVERSITY OF MICHIGAN</th>\n",
       "      <td>62887.566138</td>\n",
       "    </tr>\n",
       "    <tr>\n",
       "      <th>UNIVERSITY OF ILLINOIS</th>\n",
       "      <td>59838.383838</td>\n",
       "    </tr>\n",
       "    <tr>\n",
       "      <th>ARIZONA STATE UNIVERSITY</th>\n",
       "      <td>51052.083333</td>\n",
       "    </tr>\n",
       "    <tr>\n",
       "      <th>CALIFORNIA INSTITUTE OF TECHNOLOGY</th>\n",
       "      <td>49500.000000</td>\n",
       "    </tr>\n",
       "    <tr>\n",
       "      <th>IOWA STATE UNIVERSITY</th>\n",
       "      <td>42030.419823</td>\n",
       "    </tr>\n",
       "    <tr>\n",
       "      <th>CARNEGIE MELLON UNIVERSITY</th>\n",
       "      <td>40523.809524</td>\n",
       "    </tr>\n",
       "    <tr>\n",
       "      <th>GEORGIA INSTITUTE OF TECHNOLOGY</th>\n",
       "      <td>36666.666667</td>\n",
       "    </tr>\n",
       "    <tr>\n",
       "      <th>UNIVERSITY OF CALIFORNIA</th>\n",
       "      <td>36382.978723</td>\n",
       "    </tr>\n",
       "    <tr>\n",
       "      <th>RICE UNIVERSITY</th>\n",
       "      <td>33642.857143</td>\n",
       "    </tr>\n",
       "    <tr>\n",
       "      <th>WESTERN MICHIGAN UNIVERSITY</th>\n",
       "      <td>33333.333333</td>\n",
       "    </tr>\n",
       "    <tr>\n",
       "      <th>UNIVERSITY OF NORTHERN IOWA</th>\n",
       "      <td>21818.181818</td>\n",
       "    </tr>\n",
       "    <tr>\n",
       "      <th>MASSACHUSETTS INSTITUTE OF TECHNOLOGY</th>\n",
       "      <td>13533.035714</td>\n",
       "    </tr>\n",
       "    <tr>\n",
       "      <th>NEW MEXICO STATE UNIVERSITY</th>\n",
       "      <td>13333.333333</td>\n",
       "    </tr>\n",
       "    <tr>\n",
       "      <th>UNIVERSITY OF KENTUCKY</th>\n",
       "      <td>10717.333333</td>\n",
       "    </tr>\n",
       "    <tr>\n",
       "      <th>VANDERBILT UNIVERSITY</th>\n",
       "      <td>3333.333333</td>\n",
       "    </tr>\n",
       "  </tbody>\n",
       "</table>\n",
       "</div>"
      ],
      "text/plain": [
       "                                       lobbying_activity_usd\n",
       "organization                                                \n",
       "UNIVERSITY OF PITTSBURGH                       588869.047619\n",
       "YALE UNIVERSITY                                 86000.000000\n",
       "OHIO UNIVERSITY                                 78596.736597\n",
       "UNIVERSITY OF TEXAS                             73750.000000\n",
       "UNIVERSITY OF MICHIGAN                          62887.566138\n",
       "UNIVERSITY OF ILLINOIS                          59838.383838\n",
       "ARIZONA STATE UNIVERSITY                        51052.083333\n",
       "CALIFORNIA INSTITUTE OF TECHNOLOGY              49500.000000\n",
       "IOWA STATE UNIVERSITY                           42030.419823\n",
       "CARNEGIE MELLON UNIVERSITY                      40523.809524\n",
       "GEORGIA INSTITUTE OF TECHNOLOGY                 36666.666667\n",
       "UNIVERSITY OF CALIFORNIA                        36382.978723\n",
       "RICE UNIVERSITY                                 33642.857143\n",
       "WESTERN MICHIGAN UNIVERSITY                     33333.333333\n",
       "UNIVERSITY OF NORTHERN IOWA                     21818.181818\n",
       "MASSACHUSETTS INSTITUTE OF TECHNOLOGY           13533.035714\n",
       "NEW MEXICO STATE UNIVERSITY                     13333.333333\n",
       "UNIVERSITY OF KENTUCKY                          10717.333333\n",
       "VANDERBILT UNIVERSITY                            3333.333333"
      ]
     },
     "metadata": {},
     "output_type": "display_data"
    },
    {
     "data": {
      "text/html": [
       "<div>\n",
       "<style scoped>\n",
       "    .dataframe tbody tr th:only-of-type {\n",
       "        vertical-align: middle;\n",
       "    }\n",
       "\n",
       "    .dataframe tbody tr th {\n",
       "        vertical-align: top;\n",
       "    }\n",
       "\n",
       "    .dataframe thead th {\n",
       "        text-align: right;\n",
       "    }\n",
       "</style>\n",
       "<table border=\"1\" class=\"dataframe\">\n",
       "  <thead>\n",
       "    <tr style=\"text-align: right;\">\n",
       "      <th></th>\n",
       "      <th>lobbying_activity_usd</th>\n",
       "    </tr>\n",
       "    <tr>\n",
       "      <th>organization</th>\n",
       "      <th></th>\n",
       "    </tr>\n",
       "  </thead>\n",
       "  <tbody>\n",
       "    <tr>\n",
       "      <th>BIPARTISAN POLICY CENTER</th>\n",
       "      <td>1.189484e+06</td>\n",
       "    </tr>\n",
       "    <tr>\n",
       "      <th>NATIONAL RIGHT TO WORK COMMITTEE</th>\n",
       "      <td>4.520000e+05</td>\n",
       "    </tr>\n",
       "    <tr>\n",
       "      <th>COALITION FOR ENERGY EFFICIENT JOBS INVESTMENT</th>\n",
       "      <td>3.000000e+05</td>\n",
       "    </tr>\n",
       "    <tr>\n",
       "      <th>CLEARPATH ACTION FOR CONSERVATIVE CLEAN ENERGY</th>\n",
       "      <td>2.000000e+05</td>\n",
       "    </tr>\n",
       "    <tr>\n",
       "      <th>ELECTRIFY AMERICA</th>\n",
       "      <td>1.050000e+05</td>\n",
       "    </tr>\n",
       "    <tr>\n",
       "      <th>CENTER FOR AMERICAN PROGRESS</th>\n",
       "      <td>6.285714e+04</td>\n",
       "    </tr>\n",
       "    <tr>\n",
       "      <th>CENTER FOR TRANSPORTATION AND ENVIRONMENT</th>\n",
       "      <td>6.000000e+04</td>\n",
       "    </tr>\n",
       "    <tr>\n",
       "      <th>AMERICANS FOR TAX REFORM</th>\n",
       "      <td>4.975000e+04</td>\n",
       "    </tr>\n",
       "    <tr>\n",
       "      <th>SECURING AMERICAS FUTURE ENERGY</th>\n",
       "      <td>3.716667e+04</td>\n",
       "    </tr>\n",
       "    <tr>\n",
       "      <th>GOVERNMENT ACCOUNTABILITY PROJECT</th>\n",
       "      <td>8.511000e+03</td>\n",
       "    </tr>\n",
       "    <tr>\n",
       "      <th>NATIONAL TAXPAYERS UNION</th>\n",
       "      <td>5.848062e+03</td>\n",
       "    </tr>\n",
       "    <tr>\n",
       "      <th>CENTER FOR INDIVIDUAL FREEDOM</th>\n",
       "      <td>3.540000e+03</td>\n",
       "    </tr>\n",
       "    <tr>\n",
       "      <th>MOVEONORG CIVIC ACTION</th>\n",
       "      <td>4.545455e+02</td>\n",
       "    </tr>\n",
       "    <tr>\n",
       "      <th>ALLIANCE TO SAVE ENERGY</th>\n",
       "      <td>0.000000e+00</td>\n",
       "    </tr>\n",
       "    <tr>\n",
       "      <th>TAXPAYERS FOR COMMON SENSE</th>\n",
       "      <td>0.000000e+00</td>\n",
       "    </tr>\n",
       "  </tbody>\n",
       "</table>\n",
       "</div>"
      ],
      "text/plain": [
       "                                                lobbying_activity_usd\n",
       "organization                                                         \n",
       "BIPARTISAN POLICY CENTER                                 1.189484e+06\n",
       "NATIONAL RIGHT TO WORK COMMITTEE                         4.520000e+05\n",
       "COALITION FOR ENERGY EFFICIENT JOBS INVESTMENT           3.000000e+05\n",
       "CLEARPATH ACTION FOR CONSERVATIVE CLEAN ENERGY           2.000000e+05\n",
       "ELECTRIFY AMERICA                                        1.050000e+05\n",
       "CENTER FOR AMERICAN PROGRESS                             6.285714e+04\n",
       "CENTER FOR TRANSPORTATION AND ENVIRONMENT                6.000000e+04\n",
       "AMERICANS FOR TAX REFORM                                 4.975000e+04\n",
       "SECURING AMERICAS FUTURE ENERGY                          3.716667e+04\n",
       "GOVERNMENT ACCOUNTABILITY PROJECT                        8.511000e+03\n",
       "NATIONAL TAXPAYERS UNION                                 5.848062e+03\n",
       "CENTER FOR INDIVIDUAL FREEDOM                            3.540000e+03\n",
       "MOVEONORG CIVIC ACTION                                   4.545455e+02\n",
       "ALLIANCE TO SAVE ENERGY                                  0.000000e+00\n",
       "TAXPAYERS FOR COMMON SENSE                               0.000000e+00"
      ]
     },
     "metadata": {},
     "output_type": "display_data"
    },
    {
     "data": {
      "text/html": [
       "<div>\n",
       "<style scoped>\n",
       "    .dataframe tbody tr th:only-of-type {\n",
       "        vertical-align: middle;\n",
       "    }\n",
       "\n",
       "    .dataframe tbody tr th {\n",
       "        vertical-align: top;\n",
       "    }\n",
       "\n",
       "    .dataframe thead th {\n",
       "        text-align: right;\n",
       "    }\n",
       "</style>\n",
       "<table border=\"1\" class=\"dataframe\">\n",
       "  <thead>\n",
       "    <tr style=\"text-align: right;\">\n",
       "      <th></th>\n",
       "      <th>lobbying_activity_usd</th>\n",
       "    </tr>\n",
       "    <tr>\n",
       "      <th>organization</th>\n",
       "      <th></th>\n",
       "    </tr>\n",
       "  </thead>\n",
       "  <tbody>\n",
       "    <tr>\n",
       "      <th>CLEAN AIR TASK FORCE</th>\n",
       "      <td>2.231968e+06</td>\n",
       "    </tr>\n",
       "    <tr>\n",
       "      <th>NATURE CONSERVANCY</th>\n",
       "      <td>1.921032e+06</td>\n",
       "    </tr>\n",
       "    <tr>\n",
       "      <th>CITIZENS FOR RESPONSIBLE ENERGY SOLUTIONS</th>\n",
       "      <td>1.429333e+06</td>\n",
       "    </tr>\n",
       "    <tr>\n",
       "      <th>EARTHJUSTICE</th>\n",
       "      <td>6.229773e+05</td>\n",
       "    </tr>\n",
       "    <tr>\n",
       "      <th>ENVIRONMENTAL DEFENSE FUND</th>\n",
       "      <td>5.963580e+05</td>\n",
       "    </tr>\n",
       "    <tr>\n",
       "      <th>WILDERNESS SOCIETY</th>\n",
       "      <td>4.312894e+05</td>\n",
       "    </tr>\n",
       "    <tr>\n",
       "      <th>LINDEN TRUST FOR CONSERVATION</th>\n",
       "      <td>3.700000e+05</td>\n",
       "    </tr>\n",
       "    <tr>\n",
       "      <th>SIERRA CLUB</th>\n",
       "      <td>3.609724e+05</td>\n",
       "    </tr>\n",
       "    <tr>\n",
       "      <th>SOUTHERN ENVIRONMENTAL LAW CENTER</th>\n",
       "      <td>3.533571e+05</td>\n",
       "    </tr>\n",
       "    <tr>\n",
       "      <th>LAND TRUST ALLIANCE</th>\n",
       "      <td>3.433333e+05</td>\n",
       "    </tr>\n",
       "    <tr>\n",
       "      <th>CARBON ADVOCACY PROJECT</th>\n",
       "      <td>2.900000e+05</td>\n",
       "    </tr>\n",
       "    <tr>\n",
       "      <th>FRIENDS COMMITTEE ON NATIONAL LEGISLATION</th>\n",
       "      <td>2.734649e+05</td>\n",
       "    </tr>\n",
       "    <tr>\n",
       "      <th>TRUST FOR PUBLIC LAND</th>\n",
       "      <td>2.050187e+05</td>\n",
       "    </tr>\n",
       "    <tr>\n",
       "      <th>OPEN SPACE INSTITUTE</th>\n",
       "      <td>1.825000e+05</td>\n",
       "    </tr>\n",
       "    <tr>\n",
       "      <th>OCEAN CONSERVANCY</th>\n",
       "      <td>1.697708e+05</td>\n",
       "    </tr>\n",
       "    <tr>\n",
       "      <th>NATURAL RESOURCES DEFENSE COUNCIL</th>\n",
       "      <td>1.316949e+05</td>\n",
       "    </tr>\n",
       "    <tr>\n",
       "      <th>INDIAN LAND TENURE</th>\n",
       "      <td>1.200000e+05</td>\n",
       "    </tr>\n",
       "    <tr>\n",
       "      <th>AMERICAN FORESTS</th>\n",
       "      <td>1.057143e+05</td>\n",
       "    </tr>\n",
       "    <tr>\n",
       "      <th>CENTER FOR CLIMATE AND ENERGY SOLUTIONS</th>\n",
       "      <td>1.041667e+05</td>\n",
       "    </tr>\n",
       "    <tr>\n",
       "      <th>LEAGUE OF CONSERVATION VOTERS</th>\n",
       "      <td>9.387172e+04</td>\n",
       "    </tr>\n",
       "    <tr>\n",
       "      <th>GEOS INSTITUTE</th>\n",
       "      <td>8.348209e+04</td>\n",
       "    </tr>\n",
       "    <tr>\n",
       "      <th>RIPE ROADMAP</th>\n",
       "      <td>4.000000e+04</td>\n",
       "    </tr>\n",
       "    <tr>\n",
       "      <th>PLASTIC POLLUTION COALITION</th>\n",
       "      <td>4.000000e+04</td>\n",
       "    </tr>\n",
       "    <tr>\n",
       "      <th>BLUE GREEN ALLIANCE</th>\n",
       "      <td>3.955556e+04</td>\n",
       "    </tr>\n",
       "    <tr>\n",
       "      <th>NATIONAL PARKS CONSERVATION ASSOCIATION</th>\n",
       "      <td>3.679033e+04</td>\n",
       "    </tr>\n",
       "    <tr>\n",
       "      <th>NATIONAL GROUND WATER ASSOCIATION</th>\n",
       "      <td>3.666667e+04</td>\n",
       "    </tr>\n",
       "    <tr>\n",
       "      <th>ENVIRONMENT AMERICA</th>\n",
       "      <td>2.955128e+04</td>\n",
       "    </tr>\n",
       "    <tr>\n",
       "      <th>CARBON 180</th>\n",
       "      <td>2.250000e+04</td>\n",
       "    </tr>\n",
       "    <tr>\n",
       "      <th>APPALACHIAN TRAIL CONSERVANCY</th>\n",
       "      <td>9.858667e+03</td>\n",
       "    </tr>\n",
       "    <tr>\n",
       "      <th>NATIONAL WASTE RECYCLING ASSOCIATION</th>\n",
       "      <td>9.381599e+03</td>\n",
       "    </tr>\n",
       "    <tr>\n",
       "      <th>AMERICAN FOREST FOUNDATION</th>\n",
       "      <td>8.236500e+03</td>\n",
       "    </tr>\n",
       "    <tr>\n",
       "      <th>FRIENDS OF EARTH</th>\n",
       "      <td>6.666667e+03</td>\n",
       "    </tr>\n",
       "    <tr>\n",
       "      <th>NATIONAL AUDUBON SOCIETY</th>\n",
       "      <td>6.567460e+03</td>\n",
       "    </tr>\n",
       "    <tr>\n",
       "      <th>GREENPEACE</th>\n",
       "      <td>6.463500e+03</td>\n",
       "    </tr>\n",
       "    <tr>\n",
       "      <th>WESTERN ORGANIZATION OF RESOURCE COUNCILS</th>\n",
       "      <td>2.755460e+03</td>\n",
       "    </tr>\n",
       "    <tr>\n",
       "      <th>PROTECT OUR WINTERS ACTION FUND</th>\n",
       "      <td>0.000000e+00</td>\n",
       "    </tr>\n",
       "    <tr>\n",
       "      <th>FOOD WATER WATCH</th>\n",
       "      <td>0.000000e+00</td>\n",
       "    </tr>\n",
       "  </tbody>\n",
       "</table>\n",
       "</div>"
      ],
      "text/plain": [
       "                                           lobbying_activity_usd\n",
       "organization                                                    \n",
       "CLEAN AIR TASK FORCE                                2.231968e+06\n",
       "NATURE CONSERVANCY                                  1.921032e+06\n",
       "CITIZENS FOR RESPONSIBLE ENERGY SOLUTIONS           1.429333e+06\n",
       "EARTHJUSTICE                                        6.229773e+05\n",
       "ENVIRONMENTAL DEFENSE FUND                          5.963580e+05\n",
       "WILDERNESS SOCIETY                                  4.312894e+05\n",
       "LINDEN TRUST FOR CONSERVATION                       3.700000e+05\n",
       "SIERRA CLUB                                         3.609724e+05\n",
       "SOUTHERN ENVIRONMENTAL LAW CENTER                   3.533571e+05\n",
       "LAND TRUST ALLIANCE                                 3.433333e+05\n",
       "CARBON ADVOCACY PROJECT                             2.900000e+05\n",
       "FRIENDS COMMITTEE ON NATIONAL LEGISLATION           2.734649e+05\n",
       "TRUST FOR PUBLIC LAND                               2.050187e+05\n",
       "OPEN SPACE INSTITUTE                                1.825000e+05\n",
       "OCEAN CONSERVANCY                                   1.697708e+05\n",
       "NATURAL RESOURCES DEFENSE COUNCIL                   1.316949e+05\n",
       "INDIAN LAND TENURE                                  1.200000e+05\n",
       "AMERICAN FORESTS                                    1.057143e+05\n",
       "CENTER FOR CLIMATE AND ENERGY SOLUTIONS             1.041667e+05\n",
       "LEAGUE OF CONSERVATION VOTERS                       9.387172e+04\n",
       "GEOS INSTITUTE                                      8.348209e+04\n",
       "RIPE ROADMAP                                        4.000000e+04\n",
       "PLASTIC POLLUTION COALITION                         4.000000e+04\n",
       "BLUE GREEN ALLIANCE                                 3.955556e+04\n",
       "NATIONAL PARKS CONSERVATION ASSOCIATION             3.679033e+04\n",
       "NATIONAL GROUND WATER ASSOCIATION                   3.666667e+04\n",
       "ENVIRONMENT AMERICA                                 2.955128e+04\n",
       "CARBON 180                                          2.250000e+04\n",
       "APPALACHIAN TRAIL CONSERVANCY                       9.858667e+03\n",
       "NATIONAL WASTE RECYCLING ASSOCIATION                9.381599e+03\n",
       "AMERICAN FOREST FOUNDATION                          8.236500e+03\n",
       "FRIENDS OF EARTH                                    6.666667e+03\n",
       "NATIONAL AUDUBON SOCIETY                            6.567460e+03\n",
       "GREENPEACE                                          6.463500e+03\n",
       "WESTERN ORGANIZATION OF RESOURCE COUNCILS           2.755460e+03\n",
       "PROTECT OUR WINTERS ACTION FUND                     0.000000e+00\n",
       "FOOD WATER WATCH                                    0.000000e+00"
      ]
     },
     "metadata": {},
     "output_type": "display_data"
    },
    {
     "data": {
      "text/html": [
       "<div>\n",
       "<style scoped>\n",
       "    .dataframe tbody tr th:only-of-type {\n",
       "        vertical-align: middle;\n",
       "    }\n",
       "\n",
       "    .dataframe tbody tr th {\n",
       "        vertical-align: top;\n",
       "    }\n",
       "\n",
       "    .dataframe thead th {\n",
       "        text-align: right;\n",
       "    }\n",
       "</style>\n",
       "<table border=\"1\" class=\"dataframe\">\n",
       "  <thead>\n",
       "    <tr style=\"text-align: right;\">\n",
       "      <th></th>\n",
       "      <th>lobbying_activity_usd</th>\n",
       "    </tr>\n",
       "    <tr>\n",
       "      <th>organization</th>\n",
       "      <th></th>\n",
       "    </tr>\n",
       "  </thead>\n",
       "  <tbody>\n",
       "    <tr>\n",
       "      <th>ZURICH</th>\n",
       "      <td>2.082202e+06</td>\n",
       "    </tr>\n",
       "    <tr>\n",
       "      <th>BREAKTHROUGH ENERGY</th>\n",
       "      <td>2.075286e+06</td>\n",
       "    </tr>\n",
       "    <tr>\n",
       "      <th>NATIONAL VENTURE CAPITAL ASSOCIATION</th>\n",
       "      <td>1.272802e+06</td>\n",
       "    </tr>\n",
       "    <tr>\n",
       "      <th>NATIONAL ASSOCIATION OF FEDERALLYINSURED CREDIT UNIONS</th>\n",
       "      <td>1.020000e+06</td>\n",
       "    </tr>\n",
       "    <tr>\n",
       "      <th>LEUCADIA NATIONAL</th>\n",
       "      <td>2.200000e+05</td>\n",
       "    </tr>\n",
       "    <tr>\n",
       "      <th>ARTHUR J GALLAGHER</th>\n",
       "      <td>1.450000e+05</td>\n",
       "    </tr>\n",
       "    <tr>\n",
       "      <th>BANK OF AMERICA</th>\n",
       "      <td>9.714286e+04</td>\n",
       "    </tr>\n",
       "    <tr>\n",
       "      <th>BANK POLICY INSTITUTE</th>\n",
       "      <td>6.000000e+04</td>\n",
       "    </tr>\n",
       "    <tr>\n",
       "      <th>MACQUARIE INFRASTRUCTURE AND REAL ASSETS</th>\n",
       "      <td>3.000000e+04</td>\n",
       "    </tr>\n",
       "    <tr>\n",
       "      <th>BROOKFIELD ASSET MANAGEMENT</th>\n",
       "      <td>2.666667e+04</td>\n",
       "    </tr>\n",
       "    <tr>\n",
       "      <th>FCO ADVISORS</th>\n",
       "      <td>1.000000e+04</td>\n",
       "    </tr>\n",
       "    <tr>\n",
       "      <th>EXCELSIOR ENERGY</th>\n",
       "      <td>0.000000e+00</td>\n",
       "    </tr>\n",
       "    <tr>\n",
       "      <th>HUDSON CLEAN ENERGY PARTNERS</th>\n",
       "      <td>0.000000e+00</td>\n",
       "    </tr>\n",
       "  </tbody>\n",
       "</table>\n",
       "</div>"
      ],
      "text/plain": [
       "                                                    lobbying_activity_usd\n",
       "organization                                                             \n",
       "ZURICH                                                       2.082202e+06\n",
       "BREAKTHROUGH ENERGY                                          2.075286e+06\n",
       "NATIONAL VENTURE CAPITAL ASSOCIATION                         1.272802e+06\n",
       "NATIONAL ASSOCIATION OF FEDERALLYINSURED CREDIT...           1.020000e+06\n",
       "LEUCADIA NATIONAL                                            2.200000e+05\n",
       "ARTHUR J GALLAGHER                                           1.450000e+05\n",
       "BANK OF AMERICA                                              9.714286e+04\n",
       "BANK POLICY INSTITUTE                                        6.000000e+04\n",
       "MACQUARIE INFRASTRUCTURE AND REAL ASSETS                     3.000000e+04\n",
       "BROOKFIELD ASSET MANAGEMENT                                  2.666667e+04\n",
       "FCO ADVISORS                                                 1.000000e+04\n",
       "EXCELSIOR ENERGY                                             0.000000e+00\n",
       "HUDSON CLEAN ENERGY PARTNERS                                 0.000000e+00"
      ]
     },
     "metadata": {},
     "output_type": "display_data"
    },
    {
     "data": {
      "text/html": [
       "<div>\n",
       "<style scoped>\n",
       "    .dataframe tbody tr th:only-of-type {\n",
       "        vertical-align: middle;\n",
       "    }\n",
       "\n",
       "    .dataframe tbody tr th {\n",
       "        vertical-align: top;\n",
       "    }\n",
       "\n",
       "    .dataframe thead th {\n",
       "        text-align: right;\n",
       "    }\n",
       "</style>\n",
       "<table border=\"1\" class=\"dataframe\">\n",
       "  <thead>\n",
       "    <tr style=\"text-align: right;\">\n",
       "      <th></th>\n",
       "      <th>lobbying_activity_usd</th>\n",
       "    </tr>\n",
       "    <tr>\n",
       "      <th>organization</th>\n",
       "      <th></th>\n",
       "    </tr>\n",
       "  </thead>\n",
       "  <tbody>\n",
       "    <tr>\n",
       "      <th>GREAT PLAINS INSTITUTE</th>\n",
       "      <td>326333.333333</td>\n",
       "    </tr>\n",
       "    <tr>\n",
       "      <th>WORLD RESOURCES INSTITUTE</th>\n",
       "      <td>180000.000000</td>\n",
       "    </tr>\n",
       "    <tr>\n",
       "      <th>WOODWELL CLIMATE RESEARCH CENTER</th>\n",
       "      <td>10000.000000</td>\n",
       "    </tr>\n",
       "    <tr>\n",
       "      <th>RTI INTERNATIONAL</th>\n",
       "      <td>4000.000000</td>\n",
       "    </tr>\n",
       "  </tbody>\n",
       "</table>\n",
       "</div>"
      ],
      "text/plain": [
       "                                  lobbying_activity_usd\n",
       "organization                                           \n",
       "GREAT PLAINS INSTITUTE                    326333.333333\n",
       "WORLD RESOURCES INSTITUTE                 180000.000000\n",
       "WOODWELL CLIMATE RESEARCH CENTER           10000.000000\n",
       "RTI INTERNATIONAL                           4000.000000"
      ]
     },
     "metadata": {},
     "output_type": "display_data"
    },
    {
     "data": {
      "text/html": [
       "<div>\n",
       "<style scoped>\n",
       "    .dataframe tbody tr th:only-of-type {\n",
       "        vertical-align: middle;\n",
       "    }\n",
       "\n",
       "    .dataframe tbody tr th {\n",
       "        vertical-align: top;\n",
       "    }\n",
       "\n",
       "    .dataframe thead th {\n",
       "        text-align: right;\n",
       "    }\n",
       "</style>\n",
       "<table border=\"1\" class=\"dataframe\">\n",
       "  <thead>\n",
       "    <tr style=\"text-align: right;\">\n",
       "      <th></th>\n",
       "      <th>lobbying_activity_usd</th>\n",
       "    </tr>\n",
       "    <tr>\n",
       "      <th>organization</th>\n",
       "      <th></th>\n",
       "    </tr>\n",
       "  </thead>\n",
       "  <tbody>\n",
       "    <tr>\n",
       "      <th>US CHAMBER OF COMMERCE</th>\n",
       "      <td>1.354387e+07</td>\n",
       "    </tr>\n",
       "    <tr>\n",
       "      <th>NATIONAL ASSOCIATION OF MANUFACTURERS</th>\n",
       "      <td>3.809658e+06</td>\n",
       "    </tr>\n",
       "    <tr>\n",
       "      <th>BUSINESS ROUNDTABLE</th>\n",
       "      <td>4.175000e+05</td>\n",
       "    </tr>\n",
       "    <tr>\n",
       "      <th>GREATER PITTSBURGH CHAMBER OF COMMERCE</th>\n",
       "      <td>1.363810e+05</td>\n",
       "    </tr>\n",
       "    <tr>\n",
       "      <th>WESTERN BUSINESS ROUNDTABLE</th>\n",
       "      <td>1.016667e+05</td>\n",
       "    </tr>\n",
       "  </tbody>\n",
       "</table>\n",
       "</div>"
      ],
      "text/plain": [
       "                                        lobbying_activity_usd\n",
       "organization                                                 \n",
       "US CHAMBER OF COMMERCE                           1.354387e+07\n",
       "NATIONAL ASSOCIATION OF MANUFACTURERS            3.809658e+06\n",
       "BUSINESS ROUNDTABLE                              4.175000e+05\n",
       "GREATER PITTSBURGH CHAMBER OF COMMERCE           1.363810e+05\n",
       "WESTERN BUSINESS ROUNDTABLE                      1.016667e+05"
      ]
     },
     "metadata": {},
     "output_type": "display_data"
    }
   ],
   "source": [
    "for sector in [\n",
    "    \"higher education\",\n",
    "    \"think tanks and issue advocacy\",\n",
    "    \"environmental\",\n",
    "    \"finance\",\n",
    "    \"independent research organization\",\n",
    "    \"business advocacy\",\n",
    "]:\n",
    "    ccs_sector_df = (\n",
    "        df[[\"organization\", \"lobbying_activity_usd\"]]\n",
    "        .loc[df.sector == sector]\n",
    "        .groupby([\"organization\"])\n",
    "        .sum()\n",
    "        .sort_values(by=[\"lobbying_activity_usd\"], ascending=False)\n",
    "    )\n",
    "    display(ccs_sector_df)"
   ]
  },
  {
   "cell_type": "markdown",
   "metadata": {},
   "source": [
    "### Excel Table of sector totals, including since 2019"
   ]
  },
  {
   "cell_type": "code",
   "execution_count": 92,
   "metadata": {},
   "outputs": [],
   "source": [
    "# subset data looking only at definitely ccs and that occuring 2019 and later\n",
    "since_2019_df = (\n",
    "    df[\n",
    "        [\n",
    "            \"filing_year\",\n",
    "            \"sector\",\n",
    "            \"very_lumped_sector\",\n",
    "            \"lobbying_activity_usd\",\n",
    "            \"n_entities_lobbied\",\n",
    "        ]\n",
    "    ]\n",
    "    .loc[(df.definitely_ccs == 1) & (df.filing_year > 2018)]\n",
    "    .groupby([\"sector\"])\n",
    "    .agg(\n",
    "        {\n",
    "            \"very_lumped_sector\": \"first\",\n",
    "            \"lobbying_activity_usd\": np.sum,\n",
    "            \"n_entities_lobbied\": np.sum,\n",
    "        }\n",
    "    )\n",
    ")\n",
    "since_2019_df.columns = [\n",
    "    \"General sector\",\n",
    "    \"total_ccs_lobbying_usd_2019_to_mid_2024\",\n",
    "    \"total_ccs_lobbying_contacts_2019_to_mid_2024\",\n",
    "]\n",
    "# get all years' data\n",
    "total_df = (\n",
    "    df[\n",
    "        [\n",
    "            \"sector\",\n",
    "            \"lobbying_activity_usd\",\n",
    "            \"n_entities_lobbied\",\n",
    "        ]\n",
    "    ]\n",
    "    .loc[(df.definitely_ccs == 1)]\n",
    "    .groupby([\"sector\"])\n",
    "    .agg(\n",
    "        {\n",
    "            \"lobbying_activity_usd\": np.sum,\n",
    "            \"n_entities_lobbied\": np.sum,\n",
    "        }\n",
    "    )\n",
    ")\n",
    "total_df.columns = [\n",
    "    \"total_ccs_lobbying_usd_2005_to_mid2024\",\n",
    "    \"total_ccs_lobbying_contacts_2005_to_mid2024\",\n",
    "]\n",
    "# summarize, grouping by detailed sector\n",
    "sector_summary_df = since_2019_df.merge(total_df, left_index=True, right_index=True)\n",
    "sector_summary_df.sort_values(\n",
    "    by=\"total_ccs_lobbying_usd_2019_to_mid_2024\", ascending=False, inplace=True\n",
    ")\n",
    "sector_summary_df = sector_summary_df[\n",
    "    [\n",
    "        \"General sector\",\n",
    "        \"total_ccs_lobbying_usd_2019_to_mid_2024\",\n",
    "        \"total_ccs_lobbying_usd_2005_to_mid2024\",\n",
    "        \"total_ccs_lobbying_contacts_2019_to_mid_2024\",\n",
    "        \"total_ccs_lobbying_contacts_2005_to_mid2024\",\n",
    "    ]\n",
    "].to_clipboard()"
   ]
  },
  {
   "cell_type": "markdown",
   "metadata": {},
   "source": [
    "### Excel Table of lobbying dollars and contacts by year and quarter (filing period)"
   ]
  },
  {
   "cell_type": "code",
   "execution_count": 91,
   "metadata": {},
   "outputs": [],
   "source": [
    "# Table of temporal totals (by quarters)\n",
    "numeric_quarter_dict = {\n",
    "    \"first_quarter\": 1,\n",
    "    \"second_quarter\": 2,\n",
    "    \"fourth_quarter\": 4,\n",
    "    \"third_quarter\": 3,\n",
    "    \"year_end\": 4,\n",
    "    \"mid_year\": 2,\n",
    "}\n",
    "df[\"numeric_filing_period\"] = [numeric_quarter_dict[x] for x in df.filing_period]\n",
    "\n",
    "\n",
    "through_time_df = (\n",
    "    df[\n",
    "        [\n",
    "            \"filing_year\",\n",
    "            \"numeric_filing_period\",\n",
    "            \"lobbying_activity_usd\",\n",
    "            \"n_entities_lobbied\",\n",
    "        ]\n",
    "    ]\n",
    "    .loc[(df.definitely_ccs == 1)]\n",
    "    .groupby([\"filing_year\", \"numeric_filing_period\"])\n",
    "    .agg(\n",
    "        {\n",
    "            \"lobbying_activity_usd\": np.sum,\n",
    "            \"n_entities_lobbied\": np.sum,\n",
    "        }\n",
    "    )\n",
    "    .reset_index()\n",
    ")\n",
    "through_time_df.columns = [\n",
    "    \"filing_year\",\n",
    "    \"filing_period\",\n",
    "    \"total_ccs_lobbying_usd\",\n",
    "    \"total_ccs_lobbying_contacts\",\n",
    "]\n",
    "through_time_df.sort_values(\n",
    "    by=[\"filing_year\", \"filing_period\"], ascending=True, inplace=True\n",
    ")\n",
    "through_time_df.to_clipboard()"
   ]
  },
  {
   "cell_type": "markdown",
   "metadata": {},
   "source": [
    "### Excel Table of organization totals, including since 2019"
   ]
  },
  {
   "cell_type": "code",
   "execution_count": 90,
   "metadata": {},
   "outputs": [],
   "source": [
    "# subset data looking only at definitely ccs and that occuring 2019 and later\n",
    "since_2019_df = (\n",
    "    df[\n",
    "        [\n",
    "            \"filing_year\",\n",
    "            \"sector\",\n",
    "            \"very_lumped_sector\",\n",
    "            \"organization\",\n",
    "            \"lobbying_activity_usd\",\n",
    "            \"n_entities_lobbied\",\n",
    "            \"filing_year\",\n",
    "        ]\n",
    "    ]\n",
    "    .loc[(df.definitely_ccs == 1) & (df.filing_year > 2018)]\n",
    "    .groupby([\"organization\"])\n",
    "    .agg(\n",
    "        {\n",
    "            \"sector\": \"first\",\n",
    "            \"very_lumped_sector\": \"first\",\n",
    "            \"lobbying_activity_usd\": np.sum,\n",
    "            \"n_entities_lobbied\": np.sum,\n",
    "        }\n",
    "    )\n",
    ")\n",
    "since_2019_df.columns = [\n",
    "    \"Detailed sector\",\n",
    "    \"General sector\",\n",
    "    \"total_ccs_lobbying_usd_2019_to_mid_2024\",\n",
    "    \"total_ccs_lobbying_contacts_2019_to_mid_2024\",\n",
    "]\n",
    "# total for all years\n",
    "total_df = (\n",
    "    df[\n",
    "        [\n",
    "            \"filing_year\",\n",
    "            \"organization\",\n",
    "            \"lobbying_activity_usd\",\n",
    "            \"n_entities_lobbied\",\n",
    "            \"filing_year\",\n",
    "        ]\n",
    "    ]\n",
    "    .loc[(df.definitely_ccs == 1)]\n",
    "    .groupby([\"organization\"])\n",
    "    .agg(\n",
    "        {\n",
    "            \"lobbying_activity_usd\": np.sum,\n",
    "            \"n_entities_lobbied\": np.sum,\n",
    "        }\n",
    "    )\n",
    ")\n",
    "total_df.columns = [\n",
    "    \"total_ccs_lobbying_usd_2005_to_mid2024\",\n",
    "    \"total_ccs_lobbying_contacts_2005_to_mid2024\",\n",
    "]\n",
    "\n",
    "company_summary_df = since_2019_df.merge(total_df, left_index=True, right_index=True)\n",
    "company_summary_df.sort_values(\n",
    "    by=\"total_ccs_lobbying_usd_2019_to_mid_2024\", ascending=False, inplace=True\n",
    ")\n",
    "company_summary_df = company_summary_df[\n",
    "    [\n",
    "        \"General sector\",\n",
    "        \"Detailed sector\",\n",
    "        \"total_ccs_lobbying_usd_2019_to_mid_2024\",\n",
    "        \"total_ccs_lobbying_usd_2005_to_mid2024\",\n",
    "        \"total_ccs_lobbying_contacts_2019_to_mid_2024\",\n",
    "        \"total_ccs_lobbying_contacts_2005_to_mid2024\",\n",
    "    ]\n",
    "].to_clipboard()"
   ]
  },
  {
   "cell_type": "markdown",
   "metadata": {},
   "source": [
    "### Summarize lobbying-count and dollars spent for all organizations"
   ]
  },
  {
   "cell_type": "code",
   "execution_count": 62,
   "metadata": {},
   "outputs": [
    {
     "name": "stdout",
     "output_type": "stream",
     "text": [
      " *** All organizations, 2005-2024 ***\n",
      "lobbying_activity_usd                    7.528861e+08\n",
      "n_entities_lobbied                       5.720500e+04\n",
      "legistlative_entities_lobbied            2.659600e+04\n",
      "executive_entities_lobbied               3.060900e+04\n",
      "energy, dept of                          4.738000e+03\n",
      "environmental protection agency (epa)    3.214000e+03\n",
      "dtype: float64\n",
      "\n",
      " *** All organizations, 2019-2024 ***\n",
      "lobbying_activity_usd                    4.264081e+08\n",
      "n_entities_lobbied                       3.338800e+04\n",
      "legistlative_entities_lobbied            1.648900e+04\n",
      "executive_entities_lobbied               1.689900e+04\n",
      "energy, dept of                          2.827000e+03\n",
      "environmental protection agency (epa)    1.636000e+03\n",
      "dtype: float64\n"
     ]
    }
   ],
   "source": [
    "total_series = (\n",
    "    df[\n",
    "        [\n",
    "            \"organization\",\n",
    "            \"lobbying_activity_usd\",\n",
    "            \"n_entities_lobbied\",\n",
    "            \"legistlative_entities_lobbied\",\n",
    "            \"executive_entities_lobbied\",\n",
    "            \"energy, dept of\",\n",
    "            \"environmental protection agency (epa)\",\n",
    "        ]\n",
    "    ]\n",
    "    .loc[df.definitely_ccs == 1]\n",
    "    .groupby([\"organization\"])\n",
    "    .sum()\n",
    "    .sort_values(\n",
    "        by=[\"lobbying_activity_usd\"],\n",
    "        ascending=False,\n",
    "    )\n",
    "    .sum()\n",
    ")\n",
    "since_2019_series = (\n",
    "    df[\n",
    "        [\n",
    "            \"organization\",\n",
    "            \"lobbying_activity_usd\",\n",
    "            \"n_entities_lobbied\",\n",
    "            \"legistlative_entities_lobbied\",\n",
    "            \"executive_entities_lobbied\",\n",
    "            \"energy, dept of\",\n",
    "            \"environmental protection agency (epa)\",\n",
    "        ]\n",
    "    ]\n",
    "    .loc[(df.definitely_ccs == 1) & (df.filing_year > 2018)]\n",
    "    .groupby([\"organization\"])\n",
    "    .sum()\n",
    "    .sort_values(\n",
    "        by=[\"lobbying_activity_usd\"],\n",
    "        ascending=False,\n",
    "    )\n",
    "    .sum()\n",
    ")\n",
    "print(\" *** All organizations, 2005-2024 ***\")\n",
    "print(total_series)\n",
    "print(\"\")\n",
    "print(\" *** All organizations, 2019-2024 ***\")\n",
    "print(since_2019_series)"
   ]
  },
  {
   "cell_type": "markdown",
   "metadata": {},
   "source": [
    "### Summarize lobbying-count and dollars spent for the 'heavy hitting' organizations (responsible for 50 percent of federal CCS lobbying)"
   ]
  },
  {
   "cell_type": "code",
   "execution_count": 64,
   "metadata": {},
   "outputs": [
    {
     "name": "stdout",
     "output_type": "stream",
     "text": [
      " *** Heavy-hitting organizations, 2005-2024 ***\n",
      "lobbying_activity_usd                     3.769486e+08\n",
      "pct_of_lobbying_dollars_definitely_ccs    5.006715e+01\n",
      "n_entities_lobbied                        1.279700e+04\n",
      "energy, dept of                           1.018000e+03\n",
      "environmental protection agency (epa)     9.920000e+02\n",
      "legistlative_entities_lobbied             5.049000e+03\n",
      "executive_entities_lobbied                7.748000e+03\n",
      "dtype: float64\n",
      "\n",
      " *** Heavy-hitting organizations, 2019-2024 ***\n",
      "lobbying_activity_usd                                2.118490e+08\n",
      "pct_of_lobbying_dollars_definitely_ccs_since_2019    4.968221e+01\n",
      "n_entities_lobbied                                   7.406000e+03\n",
      "energy, dept of                                      5.850000e+02\n",
      "environmental protection agency (epa)                4.860000e+02\n",
      "legistlative_entities_lobbied                        2.960000e+03\n",
      "executive_entities_lobbied                           4.446000e+03\n",
      "dtype: float64\n"
     ]
    }
   ],
   "source": [
    "# get all-organization totals for past 20 years and past 5: find the number of organizations responsible for 50 percent of lobbying\n",
    "total_series = (\n",
    "    df[\n",
    "        [\n",
    "            \"organization\",\n",
    "            \"lobbying_activity_usd\",\n",
    "            \"pct_of_lobbying_dollars_definitely_ccs\",\n",
    "            \"n_entities_lobbied\",\n",
    "            \"energy, dept of\",\n",
    "            \"environmental protection agency (epa)\",\n",
    "            \"legistlative_entities_lobbied\",\n",
    "            \"executive_entities_lobbied\",\n",
    "        ]\n",
    "    ]\n",
    "    .loc[df.definitely_ccs == 1]\n",
    "    .groupby([\"organization\"])\n",
    "    .sum()\n",
    "    .sort_values(\n",
    "        by=[\"lobbying_activity_usd\"],\n",
    "        ascending=False,\n",
    "    )\n",
    "    .head(18)\n",
    "    .sum()\n",
    ")\n",
    "since_2019_series = (\n",
    "    df[\n",
    "        [\n",
    "            \"organization\",\n",
    "            \"lobbying_activity_usd\",\n",
    "            \"pct_of_lobbying_dollars_definitely_ccs_since_2019\",\n",
    "            \"n_entities_lobbied\",\n",
    "            \"energy, dept of\",\n",
    "            \"environmental protection agency (epa)\",\n",
    "            \"legistlative_entities_lobbied\",\n",
    "            \"executive_entities_lobbied\",\n",
    "        ]\n",
    "    ]\n",
    "    .loc[(df.definitely_ccs == 1) & (df.filing_year > 2018)]\n",
    "    .groupby([\"organization\"])\n",
    "    .sum()\n",
    "    .sort_values(\n",
    "        by=[\"lobbying_activity_usd\"],\n",
    "        ascending=False,\n",
    "    )\n",
    "    .head(22)\n",
    "    .sum()\n",
    ")\n",
    "print(\" *** Heavy-hitting organizations, 2005-2024 ***\")\n",
    "print(total_series)\n",
    "print(\"\")\n",
    "print(\" *** Heavy-hitting organizations, 2019-2024 ***\")\n",
    "print(since_2019_series)"
   ]
  },
  {
   "cell_type": "markdown",
   "metadata": {},
   "source": [
    "### Summary figure: definite CCS lobbying by sector, through time"
   ]
  },
  {
   "cell_type": "code",
   "execution_count": 65,
   "metadata": {},
   "outputs": [
    {
     "data": {
      "text/plain": [
       "Text(0.5, 1.0, 'Dollars spent lobbying the US Federal Government regarding CCS')"
      ]
     },
     "execution_count": 65,
     "metadata": {},
     "output_type": "execute_result"
    },
    {
     "data": {
      "image/png": "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",
      "text/plain": [
       "<Figure size 1700x500 with 1 Axes>"
      ]
     },
     "metadata": {},
     "output_type": "display_data"
    }
   ],
   "source": [
    "# for histogram hue ordering:\n",
    "sector_for_group = \"very_lumped_sector\"\n",
    "very_lumped_order = list(\n",
    "    df[[sector_for_group, \"lobbying_activity_usd\"]]\n",
    "    .groupby(sector_for_group)\n",
    "    .sum()\n",
    "    .sort_values(by=\"lobbying_activity_usd\", ascending=False)\n",
    "    .index\n",
    ")\n",
    "\n",
    "# lobbying_activity_usd\n",
    "years = list(range(2004, 2025))\n",
    "\n",
    "tmp_df = (\n",
    "    df[[\"filing_year\", \"lobbying_activity_usd\", sector_for_group]]\n",
    "    .loc[(df.definitely_ccs == 1)]\n",
    "    .groupby([sector_for_group, \"filing_year\"])\n",
    "    .sum()\n",
    "    .sort_values(by=\"lobbying_activity_usd\", ascending=False)\n",
    "    .reset_index()\n",
    ").copy(deep=True)\n",
    "tmp_df.rename(columns={\"very_lumped_sector\": \"Sector\"}, inplace=True)\n",
    "fig, ax = plt.subplots(1, 1, figsize=(17, 5))\n",
    "ax = sns.histplot(\n",
    "    data=tmp_df,\n",
    "    x=\"filing_year\",\n",
    "    bins=[0.5 + x for x in years],\n",
    "    hue=\"Sector\",\n",
    "    hue_order=very_lumped_order,\n",
    "    shrink=0.9,\n",
    "    weights=\"lobbying_activity_usd\",\n",
    "    multiple=\"stack\",\n",
    "    palette=\"tab10\",\n",
    ")\n",
    "ax.set_xticks(years)\n",
    "ax.set_xticklabels([str(x) for x in years], fontsize=13)\n",
    "ax.set_yticks([0.0e8, 0.2e8, 0.4e8, 0.6e8, 0.8e8, 1e8, 1.2e8])\n",
    "ax.set_yticklabels([0, 20, 40, 60, 80, 100, 120], fontsize=14)\n",
    "ax.set_axisbelow(True)\n",
    "ax.yaxis.grid()\n",
    "ax.set_ylabel(\"Million USD ($)\", fontsize=14)\n",
    "ax.set_xlabel(\"\")\n",
    "# ax.legend(ncols=3, loc=\"upper center\")\n",
    "ax.set_title(\n",
    "    \"Dollars spent lobbying the US Federal Government regarding CCS\", fontsize=18\n",
    ")"
   ]
  },
  {
   "cell_type": "markdown",
   "metadata": {},
   "source": [
    "## Uber-lumped summary figure of lobbying through time \n",
    "same as above, but with even-more-lumped data. matches treemap"
   ]
  },
  {
   "cell_type": "code",
   "execution_count": 66,
   "metadata": {},
   "outputs": [],
   "source": [
    "uber_lumped_dict = {\n",
    "    \"oil and gas\": \"Core Fossil Fuels\",\n",
    "    \"investor owned utilities\": \"Core Fossil Fuels\",\n",
    "    \"business advocacy\": \"Nonprofit/Issue Advocacy\",\n",
    "    \"independent power producers\": \"Core Fossil Fuels\",\n",
    "    \"coal\": \"Core Fossil Fuels\",\n",
    "    \"pipelines\": \"Core Fossil Fuels\",\n",
    "    \"chemicals, refining, and plastics\": \"Core Fossil Fuels\",\n",
    "    \"municipal and cooperative utilities\": \"Core Fossil Fuels\",\n",
    "    \"energy technology\": \"Fossil-Fuel Adjacent\",\n",
    "    \"mining and metals\": \"Non-FF Industry\",\n",
    "    \"biofuels\": \"Fossil-Fuel Adjacent\",\n",
    "    \"railway\": \"Fossil-Fuel Adjacent\",\n",
    "    \"iron and steel\": \"Non-FF Industry\",\n",
    "    \"fuel cell\": \"Fossil-Fuel Adjacent\",\n",
    "    \"renewable energy\": \"'Green'\",\n",
    "    \"labor union\": \"Nonprofit/Issue Advocacy\",\n",
    "    \"food and agriculture\": \"Other\",\n",
    "    \"environmental\": \"'Green'\",\n",
    "    \"finance\": \"Other\",\n",
    "    \"ccs\": \"Core Fossil Fuels\",\n",
    "    \"cement\": \"Non-FF Industry\",\n",
    "    \"paper products\": \"Non-FF Industry\",\n",
    "    \"oilfield services\": \"Core Fossil Fuels\",\n",
    "    \"air transit\": \"Fossil-Fuel Adjacent\",\n",
    "    \"power sector general\": \"Core Fossil Fuels\",\n",
    "    \"land transit\": \"Fossil-Fuel Adjacent\",\n",
    "    \"nuclear\": \"'Green'\",\n",
    "    \"think tanks and issue advocacy\": \"Nonprofit/Issue Advocacy\",\n",
    "    \"clean hydrogen\": \"Core Fossil Fuels\",\n",
    "    \"engineering, technology, and consulting\": \"Other\",\n",
    "    \"higher education\": \"Nonprofit/Issue Advocacy\",\n",
    "    \"lng\": \"Core Fossil Fuels\",\n",
    "    \"government\": \"Nonprofit/Issue Advocacy\",\n",
    "    \"water transit\": \"Fossil-Fuel Adjacent\",\n",
    "    \"carbon\": \"'Green'\",\n",
    "    \"hvac\": \"Other\",\n",
    "    \"independent research organization\": \"Other\",\n",
    "    \"ev\": \"'Green'\",\n",
    "    \"green hydrogen\": \"'Green'\",\n",
    "    \"water\": \"'Green'\",\n",
    "    \"other\": \"Other\",\n",
    "    \"law and public policy\": \"Other\",\n",
    "    \"professional societies\": \"Nonprofit/Issue Advocacy\",\n",
    "    \"algae\": \"Core Fossil Fuels\",\n",
    "}\n",
    "uber_lumped_color_dict = {\n",
    "    \"'Green'\": \"darkseagreen\",\n",
    "    \"Other\": \"darkkhaki\",\n",
    "    \"Non-FF Industry\": \"firebrick\",\n",
    "    \"Core Fossil Fuels\": \"dimgrey\",\n",
    "    \"Fossil-Fuel Adjacent\": \"darkgrey\",\n",
    "    \"Nonprofit/Issue Advocacy\": \"cornflowerblue\",\n",
    "}\n",
    "df[\"uber_lumped\"] = [uber_lumped_dict[x] for x in df.sector]"
   ]
  },
  {
   "cell_type": "code",
   "execution_count": 70,
   "metadata": {},
   "outputs": [
    {
     "data": {
      "text/plain": [
       "Text(0.5, 1.0, 'Dollars spent lobbying the US Federal Government regarding CCS')"
      ]
     },
     "execution_count": 70,
     "metadata": {},
     "output_type": "execute_result"
    },
    {
     "data": {
      "image/png": "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",
      "text/plain": [
       "<Figure size 1500x500 with 1 Axes>"
      ]
     },
     "metadata": {},
     "output_type": "display_data"
    }
   ],
   "source": [
    "sns.set_context(\"talk\")  # for histogram hue ordering:\n",
    "sector_for_group = \"uber_lumped\"\n",
    "very_lumped_order = list(\n",
    "    df[[sector_for_group, \"lobbying_activity_usd\"]]\n",
    "    .groupby(sector_for_group)\n",
    "    .sum()\n",
    "    .sort_values(by=\"lobbying_activity_usd\", ascending=False)\n",
    "    .index\n",
    ")\n",
    "\n",
    "# lobbying_activity_usd\n",
    "years = list(range(2005, 2025))\n",
    "\n",
    "tmp_df = (\n",
    "    df[[\"filing_year\", \"lobbying_activity_usd\", sector_for_group]]\n",
    "    .loc[(df.definitely_ccs == 1)]\n",
    "    .groupby([sector_for_group, \"filing_year\"])\n",
    "    .sum()\n",
    "    .sort_values(by=\"lobbying_activity_usd\", ascending=False)\n",
    "    .reset_index()\n",
    ").copy(deep=True)\n",
    "tmp_df.rename(columns={sector_for_group: \"Sector\"}, inplace=True)\n",
    "fig, ax = plt.subplots(1, 1, figsize=(15, 5))\n",
    "ax = sns.histplot(\n",
    "    data=tmp_df,\n",
    "    x=\"filing_year\",\n",
    "    bins=[0.5 + x for x in years],\n",
    "    hue=\"Sector\",\n",
    "    hue_order=very_lumped_order,\n",
    "    shrink=0.9,\n",
    "    alpha=1,\n",
    "    weights=\"lobbying_activity_usd\",\n",
    "    multiple=\"stack\",\n",
    "    palette=uber_lumped_color_dict,\n",
    ")\n",
    "ax.set_xticks(years)\n",
    "ax.set_xticklabels([str(x) for x in years], fontsize=13)\n",
    "ax.set_yticks([0.0e8, 0.2e8, 0.4e8, 0.6e8, 0.8e8, 1e8, 1.2e8])\n",
    "ax.set_yticklabels([0, 20, 40, 60, 80, 100, 120], fontsize=14)\n",
    "ax.set_axisbelow(True)\n",
    "ax.yaxis.grid()\n",
    "ax.set_ylabel(\"Million USD ($)\", fontsize=14)\n",
    "ax.set_xlabel(\"\")\n",
    "# ax.legend(\"\")\n",
    "# ax.legend(ncols=3, loc=\"upper center\")#\n",
    "ax.set_title(\n",
    "    \"Dollars spent lobbying the US Federal Government regarding CCS\", fontsize=18\n",
    ")"
   ]
  },
  {
   "cell_type": "markdown",
   "metadata": {},
   "source": [
    "### Figure showing major CCS lobbiers lobbying dollars spent through time"
   ]
  },
  {
   "cell_type": "code",
   "execution_count": 81,
   "metadata": {},
   "outputs": [
    {
     "data": {
      "text/plain": [
       "Text(0.5, 0, '')"
      ]
     },
     "execution_count": 81,
     "metadata": {},
     "output_type": "execute_result"
    },
    {
     "data": {
      "image/png": "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",
      "text/plain": [
       "<Figure size 1700x500 with 1 Axes>"
      ]
     },
     "metadata": {},
     "output_type": "display_data"
    }
   ],
   "source": [
    "top_10 = [\n",
    "    \"OCCIDENTAL PETROLEUM\",\n",
    "    \"SOUTHERN COMPANY\",\n",
    "    \"EXXONMOBIL\",\n",
    "    \"EDISON ELECTRIC INSTITUTE\",\n",
    "    \"AMERICAN ELECTRIC POWER\",\n",
    "    \"US CHAMBER OF COMMERCE\",\n",
    "    \"SHELL\",\n",
    "    \"DUKE\",\n",
    "    \"BP AMERICA\",\n",
    "    \"CHEVRON\",\n",
    "]\n",
    "top_3 = [\"EXXONMOBIL\", \"OCCIDENTAL PETROLEUM\", \"SOUTHERN COMPANY\"]\n",
    "top_5 = [\n",
    "    \"OCCIDENTAL PETROLEUM\",\n",
    "    \"SOUTHERN COMPANY\",\n",
    "    \"EXXONMOBIL\",\n",
    "    \"EDISON ELECTRIC INSTITUTE\",\n",
    "    \"AMERICAN ELECTRIC POWER\",\n",
    "]\n",
    "top_df = (\n",
    "    df[[\"lobbying_activity_usd\", \"n_entities_lobbied\", \"organization\", \"filing_year\"]]\n",
    "    .loc[(df.very_likely_ccs == 1) & (df.organization.isin(top_5))]\n",
    "    .groupby([\"filing_year\", \"organization\"])\n",
    "    .sum()\n",
    "    .sort_values(by=\"lobbying_activity_usd\", ascending=False)\n",
    ")\n",
    "\n",
    "years = list(range(2005, 2025))\n",
    "\n",
    "fig, ax = plt.subplots(1, 1, figsize=(17, 5))\n",
    "ax = sns.histplot(\n",
    "    data=top_df,\n",
    "    x=\"filing_year\",\n",
    "    bins=[0.5 + x for x in years],\n",
    "    hue=\"organization\",\n",
    "    shrink=0.9,\n",
    "    weights=\"lobbying_activity_usd\",\n",
    "    multiple=\"stack\",\n",
    ")\n",
    "ax.set_xticks(years)\n",
    "ax.set_xticklabels([str(x) for x in years], fontsize=13)\n",
    "ax.set_yticks(\n",
    "    [\n",
    "        0,\n",
    "        0.05e8,\n",
    "        0.1e8,\n",
    "        0.15e8,\n",
    "        0.20e8,\n",
    "        0.25e8,\n",
    "    ]\n",
    ")\n",
    "ax.set_yticklabels([0, 5, 10, 15, 20, 25], fontsize=14)\n",
    "ax.set_axisbelow(True)\n",
    "ax.yaxis.grid()\n",
    "ax.set_ylabel(\"Million USD ($)\", fontsize=14)\n",
    "ax.set_xlabel(\"\")\n",
    "# ax.legend(ncols=3, loc=\"upper center\")"
   ]
  },
  {
   "cell_type": "markdown",
   "metadata": {},
   "source": [
    "### Quantify steel industry's environmental lobbying that *DOESNT* relate to CCS"
   ]
  },
  {
   "cell_type": "code",
   "execution_count": 82,
   "metadata": {},
   "outputs": [
    {
     "name": "stdout",
     "output_type": "stream",
     "text": [
      "We'll focus on activities that are not even potentially CCS activities: \n"
     ]
    },
    {
     "data": {
      "text/plain": [
       "potentially_ccs\n",
       "0    5888\n",
       "1     220\n",
       "Name: count, dtype: int64"
      ]
     },
     "execution_count": 82,
     "metadata": {},
     "output_type": "execute_result"
    }
   ],
   "source": [
    "steel_df = pd.read_csv(PATH_TO_POSTPROCESSED_STEEL_INDUSTRY_FILINGS)\n",
    "print(\"We'll focus on activities that are not even potentially CCS activities: \")\n",
    "steel_df.potentially_ccs.value_counts()"
   ]
  },
  {
   "cell_type": "code",
   "execution_count": 84,
   "metadata": {},
   "outputs": [],
   "source": [
    "# identify lobbying activities dealing with 'environmental' subjects\n",
    "steel_df[\"environmental\"] = [\n",
    "    1\n",
    "    if terms_present(\n",
    "        x,\n",
    "        [\n",
    "            \"environment\",\n",
    "            \"sustainability\",\n",
    "            \"sustain\",\n",
    "            \"renewable\",\n",
    "            \"climate\",\n",
    "            \"net zero\",\n",
    "            \"greenhouse\",\n",
    "            \"paris accord\",\n",
    "            \"low carbon\",\n",
    "            \"carbon neutral\",\n",
    "            \"carbon-neutral\",\n",
    "            \"emission\",\n",
    "            \"air quality\",\n",
    "            \"recycle\",\n",
    "            \"recycled\",\n",
    "            \"recycling\",\n",
    "            \"carbon dioxide\",\n",
    "            \"solar\",\n",
    "            \"wind\",\n",
    "            \"clean air\",\n",
    "            \"co2\",\n",
    "            \"green hydrogen\",\n",
    "            \"carbondioxide\",\n",
    "            \"GHG\",\n",
    "            \"pollution\",\n",
    "            \"green steel\",\n",
    "            \"pollutant\",\n",
    "            \"green h2\",\n",
    "            \"zero emission\",\n",
    "            \"reduced carbon\",\n",
    "            \"zero-emission\",\n",
    "            \"zero carbon\",\n",
    "            \"zerocarbon\",\n",
    "            \"lowcarbon\",\n",
    "            \"carbonneutral\",\n",
    "            \"earth friendly\",\n",
    "            \"cafe standard\",\n",
    "            \"low waste\",\n",
    "        ],\n",
    "    )\n",
    "    else 0\n",
    "    for x in steel_df.cleaned_activity_description\n",
    "]\n",
    "# steel_df.loc[steel_df.potentially_ccs == 0].environmental.value_counts()"
   ]
  },
  {
   "cell_type": "code",
   "execution_count": 85,
   "metadata": {},
   "outputs": [
    {
     "name": "stdout",
     "output_type": "stream",
     "text": [
      "The steel industry spent $51593404 between 2005 and 2024 lobbying regarding non-CCS environmental topics\n"
     ]
    }
   ],
   "source": [
    "total_non_ccs_enviornmental_dollars_steel = steel_df.loc[\n",
    "    (steel_df.environmental == 1)\n",
    "    & (steel_df.potentially_ccs == 0)\n",
    "    & (steel_df.sector == \"iron and steel\")\n",
    "].lobbying_activity_usd.sum()\n",
    "\n",
    "print(\n",
    "    f\"The steel industry spent ${total_non_ccs_enviornmental_dollars_steel:.0f} between 2005 and 2024 lobbying regarding non-CCS environmental topics\"\n",
    ")"
   ]
  },
  {
   "cell_type": "markdown",
   "metadata": {},
   "source": [
    "### Compute the fraction of the total CCS lobbying"
   ]
  },
  {
   "cell_type": "code",
   "execution_count": 86,
   "metadata": {},
   "outputs": [],
   "source": [
    "big_spenders_total_df = pd.read_csv(PATH_TO_POSTPROCESSED_BIG_SPENDERS_FILINGS)\n",
    "big_spenders_total_df.lobbying_activity_usd.fillna(0, inplace=True)"
   ]
  },
  {
   "cell_type": "code",
   "execution_count": 89,
   "metadata": {},
   "outputs": [
    {
     "data": {
      "text/html": [
       "<div>\n",
       "<style scoped>\n",
       "    .dataframe tbody tr th:only-of-type {\n",
       "        vertical-align: middle;\n",
       "    }\n",
       "\n",
       "    .dataframe tbody tr th {\n",
       "        vertical-align: top;\n",
       "    }\n",
       "\n",
       "    .dataframe thead th {\n",
       "        text-align: right;\n",
       "    }\n",
       "</style>\n",
       "<table border=\"1\" class=\"dataframe\">\n",
       "  <thead>\n",
       "    <tr style=\"text-align: right;\">\n",
       "      <th></th>\n",
       "      <th>ccs_fraction</th>\n",
       "      <th>all_lobbying_activity_usd_2005_2024</th>\n",
       "      <th>ccs_lobbying_activity_usd_2005_2024</th>\n",
       "    </tr>\n",
       "    <tr>\n",
       "      <th>organization</th>\n",
       "      <th></th>\n",
       "      <th></th>\n",
       "      <th></th>\n",
       "    </tr>\n",
       "  </thead>\n",
       "  <tbody>\n",
       "    <tr>\n",
       "      <th>OCCIDENTAL PETROLEUM</th>\n",
       "      <td>0.344315</td>\n",
       "      <td>2.016495e+08</td>\n",
       "      <td>6.943090e+07</td>\n",
       "    </tr>\n",
       "    <tr>\n",
       "      <th>SOUTHERN COMPANY</th>\n",
       "      <td>0.180971</td>\n",
       "      <td>3.000145e+08</td>\n",
       "      <td>5.429379e+07</td>\n",
       "    </tr>\n",
       "    <tr>\n",
       "      <th>EXXONMOBIL</th>\n",
       "      <td>0.115523</td>\n",
       "      <td>3.410625e+08</td>\n",
       "      <td>3.940060e+07</td>\n",
       "    </tr>\n",
       "    <tr>\n",
       "      <th>EDISON ELECTRIC INSTITUTE</th>\n",
       "      <td>0.088710</td>\n",
       "      <td>3.117025e+08</td>\n",
       "      <td>2.765123e+07</td>\n",
       "    </tr>\n",
       "    <tr>\n",
       "      <th>AMERICAN ELECTRIC POWER</th>\n",
       "      <td>0.154349</td>\n",
       "      <td>1.467482e+08</td>\n",
       "      <td>2.265047e+07</td>\n",
       "    </tr>\n",
       "    <tr>\n",
       "      <th>SHELL</th>\n",
       "      <td>0.104097</td>\n",
       "      <td>1.984455e+08</td>\n",
       "      <td>2.065751e+07</td>\n",
       "    </tr>\n",
       "    <tr>\n",
       "      <th>CHEVRON</th>\n",
       "      <td>0.060424</td>\n",
       "      <td>2.969602e+08</td>\n",
       "      <td>1.794338e+07</td>\n",
       "    </tr>\n",
       "    <tr>\n",
       "      <th>DUKE</th>\n",
       "      <td>0.090150</td>\n",
       "      <td>1.850539e+08</td>\n",
       "      <td>1.668263e+07</td>\n",
       "    </tr>\n",
       "    <tr>\n",
       "      <th>BP AMERICA</th>\n",
       "      <td>0.091277</td>\n",
       "      <td>1.638745e+08</td>\n",
       "      <td>1.495798e+07</td>\n",
       "    </tr>\n",
       "    <tr>\n",
       "      <th>CALPINE</th>\n",
       "      <td>0.281069</td>\n",
       "      <td>5.238438e+07</td>\n",
       "      <td>1.472363e+07</td>\n",
       "    </tr>\n",
       "    <tr>\n",
       "      <th>US CHAMBER OF COMMERCE</th>\n",
       "      <td>0.009110</td>\n",
       "      <td>1.486696e+09</td>\n",
       "      <td>1.354387e+07</td>\n",
       "    </tr>\n",
       "    <tr>\n",
       "      <th>PACIFIC GAS AND ELECTRIC</th>\n",
       "      <td>0.073945</td>\n",
       "      <td>1.819450e+08</td>\n",
       "      <td>1.345399e+07</td>\n",
       "    </tr>\n",
       "    <tr>\n",
       "      <th>PEABODY</th>\n",
       "      <td>0.177572</td>\n",
       "      <td>6.750408e+07</td>\n",
       "      <td>1.198686e+07</td>\n",
       "    </tr>\n",
       "    <tr>\n",
       "      <th>TRANSCANADA</th>\n",
       "      <td>0.370655</td>\n",
       "      <td>2.603500e+07</td>\n",
       "      <td>9.650000e+06</td>\n",
       "    </tr>\n",
       "    <tr>\n",
       "      <th>CONOCOPHILLIPS</th>\n",
       "      <td>0.059594</td>\n",
       "      <td>1.539807e+08</td>\n",
       "      <td>9.176293e+06</td>\n",
       "    </tr>\n",
       "    <tr>\n",
       "      <th>AMERICAN PETROLEUM INSTITUTE</th>\n",
       "      <td>0.050527</td>\n",
       "      <td>1.674759e+08</td>\n",
       "      <td>8.462077e+06</td>\n",
       "    </tr>\n",
       "    <tr>\n",
       "      <th>AIR PRODUCTS AND CHEMICALS</th>\n",
       "      <td>0.340140</td>\n",
       "      <td>2.363100e+07</td>\n",
       "      <td>8.037857e+06</td>\n",
       "    </tr>\n",
       "    <tr>\n",
       "      <th>NATIONAL RURAL ELECTRIC COOPERATIVE ASSOCIATION</th>\n",
       "      <td>0.084250</td>\n",
       "      <td>8.936548e+07</td>\n",
       "      <td>7.529027e+06</td>\n",
       "    </tr>\n",
       "    <tr>\n",
       "      <th>HONEYWELL INTERNATIONAL</th>\n",
       "      <td>0.043366</td>\n",
       "      <td>1.686490e+08</td>\n",
       "      <td>7.313587e+06</td>\n",
       "    </tr>\n",
       "    <tr>\n",
       "      <th>PHILLIPS 66</th>\n",
       "      <td>0.142116</td>\n",
       "      <td>5.061000e+07</td>\n",
       "      <td>7.192504e+06</td>\n",
       "    </tr>\n",
       "    <tr>\n",
       "      <th>AMERICAN CHEMISTRY COUNCIL</th>\n",
       "      <td>0.027479</td>\n",
       "      <td>2.499242e+08</td>\n",
       "      <td>6.867743e+06</td>\n",
       "    </tr>\n",
       "    <tr>\n",
       "      <th>AIR LIQUIDE</th>\n",
       "      <td>0.381871</td>\n",
       "      <td>1.619350e+07</td>\n",
       "      <td>6.183833e+06</td>\n",
       "    </tr>\n",
       "    <tr>\n",
       "      <th>SEMPRA</th>\n",
       "      <td>0.094286</td>\n",
       "      <td>6.189923e+07</td>\n",
       "      <td>5.836231e+06</td>\n",
       "    </tr>\n",
       "    <tr>\n",
       "      <th>MARATHON</th>\n",
       "      <td>0.040506</td>\n",
       "      <td>1.391458e+08</td>\n",
       "      <td>5.636218e+06</td>\n",
       "    </tr>\n",
       "    <tr>\n",
       "      <th>NATIONAL GRID</th>\n",
       "      <td>0.094950</td>\n",
       "      <td>5.643620e+07</td>\n",
       "      <td>5.358643e+06</td>\n",
       "    </tr>\n",
       "    <tr>\n",
       "      <th>WILLIAMS COMPANIES</th>\n",
       "      <td>0.091859</td>\n",
       "      <td>5.271662e+07</td>\n",
       "      <td>4.842500e+06</td>\n",
       "    </tr>\n",
       "    <tr>\n",
       "      <th>KOCH INDUSTRIES</th>\n",
       "      <td>0.021068</td>\n",
       "      <td>2.281152e+08</td>\n",
       "      <td>4.805920e+06</td>\n",
       "    </tr>\n",
       "    <tr>\n",
       "      <th>ENBRIDGE</th>\n",
       "      <td>0.158071</td>\n",
       "      <td>2.805500e+07</td>\n",
       "      <td>4.434682e+06</td>\n",
       "    </tr>\n",
       "    <tr>\n",
       "      <th>POET</th>\n",
       "      <td>0.132611</td>\n",
       "      <td>3.215690e+07</td>\n",
       "      <td>4.264347e+06</td>\n",
       "    </tr>\n",
       "    <tr>\n",
       "      <th>EQUINOR</th>\n",
       "      <td>0.174764</td>\n",
       "      <td>1.785530e+07</td>\n",
       "      <td>3.120470e+06</td>\n",
       "    </tr>\n",
       "  </tbody>\n",
       "</table>\n",
       "</div>"
      ],
      "text/plain": [
       "                                                 ccs_fraction  \\\n",
       "organization                                                    \n",
       "OCCIDENTAL PETROLEUM                                 0.344315   \n",
       "SOUTHERN COMPANY                                     0.180971   \n",
       "EXXONMOBIL                                           0.115523   \n",
       "EDISON ELECTRIC INSTITUTE                            0.088710   \n",
       "AMERICAN ELECTRIC POWER                              0.154349   \n",
       "SHELL                                                0.104097   \n",
       "CHEVRON                                              0.060424   \n",
       "DUKE                                                 0.090150   \n",
       "BP AMERICA                                           0.091277   \n",
       "CALPINE                                              0.281069   \n",
       "US CHAMBER OF COMMERCE                               0.009110   \n",
       "PACIFIC GAS AND ELECTRIC                             0.073945   \n",
       "PEABODY                                              0.177572   \n",
       "TRANSCANADA                                          0.370655   \n",
       "CONOCOPHILLIPS                                       0.059594   \n",
       "AMERICAN PETROLEUM INSTITUTE                         0.050527   \n",
       "AIR PRODUCTS AND CHEMICALS                           0.340140   \n",
       "NATIONAL RURAL ELECTRIC COOPERATIVE ASSOCIATION      0.084250   \n",
       "HONEYWELL INTERNATIONAL                              0.043366   \n",
       "PHILLIPS 66                                          0.142116   \n",
       "AMERICAN CHEMISTRY COUNCIL                           0.027479   \n",
       "AIR LIQUIDE                                          0.381871   \n",
       "SEMPRA                                               0.094286   \n",
       "MARATHON                                             0.040506   \n",
       "NATIONAL GRID                                        0.094950   \n",
       "WILLIAMS COMPANIES                                   0.091859   \n",
       "KOCH INDUSTRIES                                      0.021068   \n",
       "ENBRIDGE                                             0.158071   \n",
       "POET                                                 0.132611   \n",
       "EQUINOR                                              0.174764   \n",
       "\n",
       "                                                 all_lobbying_activity_usd_2005_2024  \\\n",
       "organization                                                                           \n",
       "OCCIDENTAL PETROLEUM                                                    2.016495e+08   \n",
       "SOUTHERN COMPANY                                                        3.000145e+08   \n",
       "EXXONMOBIL                                                              3.410625e+08   \n",
       "EDISON ELECTRIC INSTITUTE                                               3.117025e+08   \n",
       "AMERICAN ELECTRIC POWER                                                 1.467482e+08   \n",
       "SHELL                                                                   1.984455e+08   \n",
       "CHEVRON                                                                 2.969602e+08   \n",
       "DUKE                                                                    1.850539e+08   \n",
       "BP AMERICA                                                              1.638745e+08   \n",
       "CALPINE                                                                 5.238438e+07   \n",
       "US CHAMBER OF COMMERCE                                                  1.486696e+09   \n",
       "PACIFIC GAS AND ELECTRIC                                                1.819450e+08   \n",
       "PEABODY                                                                 6.750408e+07   \n",
       "TRANSCANADA                                                             2.603500e+07   \n",
       "CONOCOPHILLIPS                                                          1.539807e+08   \n",
       "AMERICAN PETROLEUM INSTITUTE                                            1.674759e+08   \n",
       "AIR PRODUCTS AND CHEMICALS                                              2.363100e+07   \n",
       "NATIONAL RURAL ELECTRIC COOPERATIVE ASSOCIATION                         8.936548e+07   \n",
       "HONEYWELL INTERNATIONAL                                                 1.686490e+08   \n",
       "PHILLIPS 66                                                             5.061000e+07   \n",
       "AMERICAN CHEMISTRY COUNCIL                                              2.499242e+08   \n",
       "AIR LIQUIDE                                                             1.619350e+07   \n",
       "SEMPRA                                                                  6.189923e+07   \n",
       "MARATHON                                                                1.391458e+08   \n",
       "NATIONAL GRID                                                           5.643620e+07   \n",
       "WILLIAMS COMPANIES                                                      5.271662e+07   \n",
       "KOCH INDUSTRIES                                                         2.281152e+08   \n",
       "ENBRIDGE                                                                2.805500e+07   \n",
       "POET                                                                    3.215690e+07   \n",
       "EQUINOR                                                                 1.785530e+07   \n",
       "\n",
       "                                                 ccs_lobbying_activity_usd_2005_2024  \n",
       "organization                                                                          \n",
       "OCCIDENTAL PETROLEUM                                                    6.943090e+07  \n",
       "SOUTHERN COMPANY                                                        5.429379e+07  \n",
       "EXXONMOBIL                                                              3.940060e+07  \n",
       "EDISON ELECTRIC INSTITUTE                                               2.765123e+07  \n",
       "AMERICAN ELECTRIC POWER                                                 2.265047e+07  \n",
       "SHELL                                                                   2.065751e+07  \n",
       "CHEVRON                                                                 1.794338e+07  \n",
       "DUKE                                                                    1.668263e+07  \n",
       "BP AMERICA                                                              1.495798e+07  \n",
       "CALPINE                                                                 1.472363e+07  \n",
       "US CHAMBER OF COMMERCE                                                  1.354387e+07  \n",
       "PACIFIC GAS AND ELECTRIC                                                1.345399e+07  \n",
       "PEABODY                                                                 1.198686e+07  \n",
       "TRANSCANADA                                                             9.650000e+06  \n",
       "CONOCOPHILLIPS                                                          9.176293e+06  \n",
       "AMERICAN PETROLEUM INSTITUTE                                            8.462077e+06  \n",
       "AIR PRODUCTS AND CHEMICALS                                              8.037857e+06  \n",
       "NATIONAL RURAL ELECTRIC COOPERATIVE ASSOCIATION                         7.529027e+06  \n",
       "HONEYWELL INTERNATIONAL                                                 7.313587e+06  \n",
       "PHILLIPS 66                                                             7.192504e+06  \n",
       "AMERICAN CHEMISTRY COUNCIL                                              6.867743e+06  \n",
       "AIR LIQUIDE                                                             6.183833e+06  \n",
       "SEMPRA                                                                  5.836231e+06  \n",
       "MARATHON                                                                5.636218e+06  \n",
       "NATIONAL GRID                                                           5.358643e+06  \n",
       "WILLIAMS COMPANIES                                                      4.842500e+06  \n",
       "KOCH INDUSTRIES                                                         4.805920e+06  \n",
       "ENBRIDGE                                                                4.434682e+06  \n",
       "POET                                                                    4.264347e+06  \n",
       "EQUINOR                                                                 3.120470e+06  "
      ]
     },
     "execution_count": 89,
     "metadata": {},
     "output_type": "execute_result"
    }
   ],
   "source": [
    "ccs_lobbying_df = (\n",
    "    big_spenders_total_df[[\"organization\", \"lobbying_activity_usd\"]]\n",
    "    .loc[big_spenders_total_df.definitely_ccs == 1]\n",
    "    .groupby(\"organization\")\n",
    "    .sum()\n",
    "    .sort_values(by=\"lobbying_activity_usd\", ascending=False)\n",
    ")\n",
    "ccs_lobbying_df.columns = [\"ccs_lobbying_activity_usd_2005_2024\"]\n",
    "total_lobbying_df = (\n",
    "    big_spenders_total_df[[\"organization\", \"lobbying_activity_usd\"]]\n",
    "    .groupby(\"organization\")\n",
    "    .sum()\n",
    "    .sort_values(by=\"lobbying_activity_usd\", ascending=False)\n",
    ")\n",
    "total_lobbying_df.columns = [\"all_lobbying_activity_usd_2005_2024\"]\n",
    "ccs_fraction_df = total_lobbying_df.merge(\n",
    "    ccs_lobbying_df, left_index=True, right_index=True, how=\"right\"\n",
    ")\n",
    "ccs_fraction_df[\"ccs_fraction\"] = [\n",
    "    ccs / a if a > 0 else 0\n",
    "    for ccs, a in zip(\n",
    "        ccs_fraction_df[\"ccs_lobbying_activity_usd_2005_2024\"],\n",
    "        ccs_fraction_df[\"all_lobbying_activity_usd_2005_2024\"],\n",
    "    )\n",
    "]\n",
    "ccs_fraction_df = ccs_fraction_df[\n",
    "    [\n",
    "        \"ccs_fraction\",\n",
    "        \"all_lobbying_activity_usd_2005_2024\",\n",
    "        \"ccs_lobbying_activity_usd_2005_2024\",\n",
    "    ]\n",
    "].sort_values(\n",
    "    by=\"ccs_lobbying_activity_usd_2005_2024\",\n",
    "    ascending=False,\n",
    ")\n",
    "ccs_fraction_df.head(30).to_clipboard()\n",
    "ccs_fraction_df.head(30)"
   ]
  },
  {
   "cell_type": "code",
   "execution_count": null,
   "metadata": {},
   "outputs": [],
   "source": []
  },
  {
   "cell_type": "code",
   "execution_count": null,
   "metadata": {},
   "outputs": [],
   "source": []
  }
 ],
 "metadata": {
  "kernelspec": {
   "display_name": "projects-7_KjhAaO-py3.12",
   "language": "python",
   "name": "python3"
  },
  "language_info": {
   "codemirror_mode": {
    "name": "ipython",
    "version": 3
   },
   "file_extension": ".py",
   "mimetype": "text/x-python",
   "name": "python",
   "nbconvert_exporter": "python",
   "pygments_lexer": "ipython3",
   "version": "3.12.6"
  }
 },
 "nbformat": 4,
 "nbformat_minor": 2
}
