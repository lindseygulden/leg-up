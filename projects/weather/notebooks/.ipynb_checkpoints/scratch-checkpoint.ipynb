{
 "cells": [
  {
   "cell_type": "code",
   "execution_count": null,
   "id": "7c674e8b-6865-4797-ad96-1588c743308b",
   "metadata": {},
   "outputs": [],
   "source": [
    "import requests\n",
    "\n",
    "import json\n",
    "\n",
    "import pandas as pd\n",
    "\n",
    "import os\n",
    "import sys\n",
    "module_path = os.path.abspath(os.path.join('..'))\n",
    "module_path = os.path.abspath(os.path.join('../../..'))\n",
    "if module_path not in sys.path:\n",
    "    sys.path.append(module_path)"
   ]
  },
  {
   "cell_type": "code",
   "execution_count": null,
   "id": "84894f45-1a8c-483a-a087-633012b998a8",
   "metadata": {},
   "outputs": [],
   "source": [
    "api_key = \"cbcffe5648e04b07afa203548241202\"  # API key obtained from https://www.worldweatheronline.com/\n",
    "location_list = [\n",
    "    \"02459\"\n",
    "]  # list of strings containg US Zipcode, UK Postcode, Canada Postalcode, IP address, Latitude/Longitude (decimal degree) or city name\n",
    "start_date = \"01-JAN-2020\"  # date when desired scraping period starts; preferred date format: 'dd-MMM-yyyy', e.g., '01-JAN-2020'\n",
    "end_date = \"31-DEC-2022\"  # date when desired scraping period ends; preferred date format: 'dd-MMM-yyyy\n",
    "frequency = 24  # frequency between observations; possible values 1 (1 hour), 3 (3 hours), 6 (6 hours), 12 (12 hours (day/night)) or 24 (daily averages)"
   ]
  },
  {
   "cell_type": "code",
   "execution_count": null,
   "id": "d147ea82",
   "metadata": {},
   "outputs": [],
   "source": [
    "import datetime as dt\n",
    "from dateutil.relativedelta import relativedelta"
   ]
  },
  {
   "cell_type": "code",
   "execution_count": null,
   "id": "c28ab707",
   "metadata": {},
   "outputs": [],
   "source": [
    "dt.datetime.strftime(dt.datetime.today(), \"%d-%b-%Y\").upper().title()"
   ]
  },
  {
   "cell_type": "code",
   "execution_count": null,
   "id": "dba5a17e",
   "metadata": {},
   "outputs": [],
   "source": [
    "import datetime as dt\n",
    "from projects.weather.get_local_weather_history import split_date_range\n",
    "\n",
    "\n",
    "dt_start = dt.datetime(1215, 6, 15)\n",
    "dt_end = dt.datetime(1216, 1, 22)\n",
    "split_date_range(dt_start, dt_end)\n",
    "[\n",
    "    \"15-JUN-1215\",\n",
    "    \"01-JUL-1215\",\n",
    "    \"01-AUG-1215\",\n",
    "    \"01-SEP-1215\",\n",
    "    \"01-OCT-1215\",\n",
    "    \"01-NOV-1215\",\n",
    "    \"01-DEC-1215\",\n",
    "    \"01-JAN-1216\",\n",
    "    \"22-JAN-1216\",\n",
    "]"
   ]
  },
  {
   "cell_type": "code",
   "execution_count": null,
   "id": "dce335d2-1676-461e-8557-b35412bd093b",
   "metadata": {},
   "outputs": [],
   "source": [
    "payload = {\n",
    "    \"key\": api_key,\n",
    "    \"date\": start_date,\n",
    "    \"enddate\": end_date,\n",
    "    \"q\": location_list[0],\n",
    "}"
   ]
  },
  {
   "cell_type": "code",
   "execution_count": null,
   "id": "46db8130-088f-4a44-8554-5bddc6a0ff7b",
   "metadata": {},
   "outputs": [],
   "source": [
    "response = requests.get(\n",
    "    f\"https://api.worldweatheronline.com/premium/v1/past-weather.ashx?key={api_key}&date={start_date}&enddate={end_date}&q={location_list[0]}&tp=1&format=json&includelocation=yes\"\n",
    ")"
   ]
  },
  {
   "cell_type": "code",
   "execution_count": null,
   "id": "59de637d",
   "metadata": {},
   "outputs": [],
   "source": [
    "weather[0]['hourly']"
   ]
  },
  {
   "cell_type": "code",
   "execution_count": null,
   "id": "8b70934a",
   "metadata": {},
   "outputs": [],
   "source": [
    "daily_weather_vars=['date','maxtempC', 'maxtempF', 'mintempC', 'mintempF',\n",
    "       'avgtempC', 'avgtempF', 'totalSnow_cm', 'sunHour', 'uvIndex', ]\n",
    "astronomy_vars=['sunrise', 'sunset', 'moonrise', 'moonset', 'moon_phase', 'moon_illumination']\n",
    "hourly_vars=['time', 'tempC', 'tempF', 'windspeedMiles', 'windspeedKmph', 'winddirDegree', 'winddir16Point', 'weatherCode', 'weatherDesc', 'precipMM', 'precipInches', 'humidity', 'visibility', 'visibilityMiles', 'pressure', 'pressureInches', 'cloudcover', 'HeatIndexC', 'HeatIndexF', 'DewPointC', 'DewPointF', 'WindChillC', 'WindChillF', 'WindGustMiles', 'WindGustKmph', 'FeelsLikeC', 'FeelsLikeF', 'uvIndex']\n",
    "extract_weather_desc=False\n",
    "if 'weatherDesc' in hourly_vars:\n",
    "       hourly_vars=[x for x in hourly_vars if x != 'weatherDesc']\n",
    "       extract_weather_desc=True"
   ]
  },
  {
   "cell_type": "code",
   "execution_count": null,
   "id": "1b6ffab5",
   "metadata": {},
   "outputs": [],
   "source": [
    "mydict={'locations': ['02459'],\n",
    "'api_key': \"cbcffe5648e04b07afa203548241202\"  ,\n",
    "'entry_point': \"https://api.worldweatheronline.com/premium/v1/past-weather.ashx\"  ,\n",
    "'start_date' : \"01-JAN-2020\" ,\n",
    "'end_date' : \"31-DEC-2022\" ,\n",
    "'timeout_seconds': 30,\n",
    "'frequency' : 24 ,\n",
    "'daily_weather_variables':['date','maxtempC', 'maxtempF', 'mintempC', 'mintempF',\n",
    "       'avgtempC', 'avgtempF', 'totalSnow_cm', 'sunHour', 'uvIndex', ]}"
   ]
  },
  {
   "cell_type": "code",
   "execution_count": null,
   "id": "d105aedc",
   "metadata": {},
   "outputs": [],
   "source": [
    "from schema import Schema, And, Use, Optional, SchemaError\n",
    "import yaml\n",
    "import validators\n",
    "schema = Schema(\n",
    "        {\n",
    "            'locations': And(list, lambda x: all([isinstance(xx,str) for x in xx])),\n",
    "            'api_key': And(str),\n",
    "            Optional('entry_point',default='https://api.worldweatheronline.com/premium/v1/past-weather.ashx'): And(str,lambda x : validators.url(x)),\n",
    "            'end_date': And(str,lambda x: len(x)==11),\n",
    "            'start_date': And(str,lambda x: len(x)==11),\n",
    "            Optional('timeout_seconds',default=30): And(int, lambda t: t>0),\n",
    "            Optional('frequency',default=1): And(lambda f : f in [1, 3, 6, 12, 24],int),\n",
    "            'daily_weather_variables': And(list, lambda x: all([xx in ['date','maxtempC', 'maxtempF', 'mintempC', 'mintempF','avgtempC', 'avgtempF', 'totalSnow_cm', 'sunHour', 'uvIndex'] for xx in x]) ),\n",
    "            'astronomy_variables': And(list, lambda x: all([xx in ['sunrise', 'sunset', 'moonrise', 'moonset', 'moon_phase', 'moon_illumination'] for xx in x]) ),\n",
    "            'hourly_variables': And(list, lambda x: all([xx in ['time', 'tempC', 'tempF', 'windspeedMiles', 'windspeedKmph', 'winddirDegree', 'winddir16Point', 'weatherCode', 'weatherDesc', 'precipMM', 'precipInches', 'humidity', 'visibility', 'visibilityMiles', 'pressure', 'pressureInches', 'cloudcover', 'HeatIndexC', 'HeatIndexF', 'DewPointC', 'DewPointF', 'WindChillC', 'WindChillF', 'WindGustMiles', 'WindGustKmph', 'FeelsLikeC', 'FeelsLikeF', 'uvIndex'] for xx in x]) )\n",
    "        }\n",
    "    )"
   ]
  },
  {
   "cell_type": "code",
   "execution_count": null,
   "id": "202159f1-f431-40f5-b71d-5211f475110c",
   "metadata": {},
   "outputs": [],
   "source": [
    "\n",
    "\n",
    "j = response.json()\n",
    "\n",
    "df = pd.DataFrame.from_dict(j)"
   ]
  },
  {
   "cell_type": "code",
   "execution_count": null,
   "id": "f50f5089-1baf-40f2-8282-f8756ed879d7",
   "metadata": {},
   "outputs": [],
   "source": [
    "df"
   ]
  },
  {
   "cell_type": "code",
   "execution_count": null,
   "id": "8f12e9b5-7f85-4ff6-8a3b-92093ab9dacb",
   "metadata": {},
   "outputs": [],
   "source": [
    "\n",
    "\n",
    "weather=json.loads(response.content.decode('utf-8'))['data']['weather']\n",
    "\n",
    "weather_list=[]\n",
    "\n",
    "for i in range(len(weather)):\n",
    "    weather_dict={k : weather[i][k] for k in tuple(daily_weather_vars)}\n",
    "    weather_dict.update({k : weather[i]['astronomy'][0][k] for k in tuple(astronomy_vars)})\n",
    "    for h in range(len(weather[i]['hourly'])):\n",
    "        weather_dict.update({k : weather[i]['hourly'][h][k] for k in tuple(hourly_vars)})\n",
    "        if extract_weather_desc:\n",
    "            weather_dict.update({'weatherDesc':weather[i]['hourly'][h]['weatherDesc'][0]['value']})\n",
    "        weather_list.append(weather_dict.copy())\n",
    "weather_df=pd.DataFrame(weather_list)\n",
    "\n"
   ]
  },
  {
   "cell_type": "code",
   "execution_count": null,
   "id": "614151cb",
   "metadata": {},
   "outputs": [],
   "source": [
    "weather_df.weatherDesc.value_counts()"
   ]
  },
  {
   "cell_type": "code",
   "execution_count": null,
   "id": "5e0104b7-d2a1-4b82-b9bf-ebe084a37222",
   "metadata": {},
   "outputs": [],
   "source": [
    "with open(\"/Users/lindseygulden/dev/leg-up/data/newton_tp1.json\", \"wb\") as fd:\n",
    "    for chunk in response.iter_content(chunk_size=128):\n",
    "        fd.write(chunk)"
   ]
  },
  {
   "cell_type": "code",
   "execution_count": null,
   "id": "a8151dec",
   "metadata": {},
   "outputs": [],
   "source": [
    "# df = pd.read_json(\"/Users/lindseygulden/dev/leg-up/data/newton_tp24.json\")\n",
    "df = pd.read_json(\"/Users/lindseygulden/dev/leg-up/data/newton_tp1.json\")\n",
    "df"
   ]
  },
  {
   "cell_type": "code",
   "execution_count": null,
   "id": "e1254fda-1381-4240-a9b3-96a31a4b0af1",
   "metadata": {},
   "outputs": [],
   "source": [
    "h_list=[]\n",
    "w_list=[]\n",
    "n_entries=len(df.loc['weather',]['data'])\n",
    "for d in range(n_entries):\n",
    "    w_list.append(df.loc['weather',]['data'][d])\n",
    "\n",
    "all_weather_df=pd.DataFrame(w_list)\n",
    "forecast_vars=['date','maxtempF','mintempF','avgtempF','totalSnow_cm','sunHour','uvIndex']\n"
   ]
  },
  {
   "cell_type": "code",
   "execution_count": null,
   "id": "8fcb9f89-1387-4ed2-9cdd-67fbabaf291e",
   "metadata": {},
   "outputs": [],
   "source": [
    "n_hours=all_weather_df.loc[0,'hourly']"
   ]
  },
  {
   "cell_type": "code",
   "execution_count": 9,
   "id": "32c03c33-790a-416e-85a9-2c71725bc39a",
   "metadata": {},
   "outputs": [],
   "source": [
    "import yaml\n",
    "with open('/Users/lindseygulden/dev/leg-up/projects/weather/config/data_description.yml','r') as f:\n",
    "    try:\n",
    "        tmp=yaml.safe_load(f)    \n",
    "    except yaml.YAMLError as e:\n",
    "        print(e)\n"
   ]
  },
  {
   "cell_type": "code",
   "execution_count": 10,
   "id": "04d461c9-b185-4381-be74-2bb03908cab0",
   "metadata": {},
   "outputs": [
    {
     "name": "stdout",
     "output_type": "stream",
     "text": [
      "{'DewPointC': 'dew_point_c', 'DewPointF': 'dew_point_f', 'FeelsLikeC': 'feels_like_c', 'FeelsLikeF': 'feels_like_f', 'HeatIndexC': 'heat_index_c', 'HeatIndexF': 'heat_index_f', 'WindChillC': 'wind_chill_c', 'WindChillF': 'wind_chill_f', 'WindGustKmph': 'wind_gust_kmph', 'WindGustMiles': 'wind_gust_mph', 'avgtempC': 'avg_temp_c', 'avgtempF': 'avg_temp_f', 'cloudcover': 'cloud_cover', 'date': 'date', 'humidity': 'humidity', 'maxtempC': 'max_temp_c', 'maxtempF': 'max_temp_f', 'mintempC': 'min_temp_c', 'mintempF': 'min_temp_f', 'moon_illumination': 'moon_illumination', 'moon_phase': 'moon_phase', 'moonrise': 'moonrise_local_time', 'moonset': 'moonset_local_time', 'precipInches': 'precip_in', 'precipMM': 'precip_mm', 'pressure': 'pressure_mb', 'pressureInches': 'pressure_in', 'sunHour': 'sun_hour', 'sunrise': 'sunrise_local_time', 'sunset': 'sunset_local_time', 'tempC': 'temp_c', 'tempF': 'temp_f', 'time': 'time', 'totalSnow_cm': 'total_snow_cm', 'uvIndex': 'uv_index', 'visibility': 'visibility_km', 'visibilityMiles': 'visibility_mi', 'weatherCode': 'weather_code', 'weatherDesc': 'weather_desc', 'winddir16Point': 'wind_dir_16_point', 'winddirDegree': 'wind_dir_degree', 'windspeedKmph': 'windspeed_kmph', 'windspeedMiles': 'windspeed_mph'}\n"
     ]
    }
   ],
   "source": [
    "print(tmp)"
   ]
  },
  {
   "cell_type": "code",
   "execution_count": null,
   "id": "5b29b4fa-f630-42d7-9973-3d835fafa07c",
   "metadata": {},
   "outputs": [],
   "source": [
    "\n",
    "with open('../../config.yml', 'w') as outfile:\n",
    "    yaml.dump(hourly[0], outfile, default_flow_style=False)\n",
    "    \n"
   ]
  },
  {
   "cell_type": "code",
   "execution_count": null,
   "id": "f11349ab-8d42-4e12-a382-e7f625b80c0c",
   "metadata": {},
   "outputs": [],
   "source": [
    "daily_weather_vars=['date','maxtempC', 'maxtempF', 'mintempC', 'mintempF',\n",
    "       'avgtempC', 'avgtempF', 'totalSnow_cm', 'sunHour', 'uvIndex', ]\n",
    "astronomy_vars={'sunrise':'sunrise_local_time', 'sunset':'sunset_local_time', 'moonrise':'moonrise_local_time', \n",
    "                'moonset':'moonset_local_time', 'moon_phase':'moon_phase', 'moon_illumination':'moon_illumination'}\n",
    "hourly_vars=['time', 'tempC', 'tempF', 'windspeedMiles', 'windspeedKmph', 'winddirDegree', 'winddir16Point', 'weatherCode', 'weatherDesc', 'precipMM', 'precipInches', 'humidity', 'visibility', 'visibilityMiles', 'pressure', 'pressureInches', 'cloudcover', 'HeatIndexC', 'HeatIndexF', 'DewPointC', 'DewPointF', 'WindChillC', 'WindChillF', 'WindGustMiles', 'WindGustKmph', 'FeelsLikeC', 'FeelsLikeF', 'uvIndex']\n"
   ]
  },
  {
   "cell_type": "code",
   "execution_count": null,
   "id": "ab18892c-0785-41cb-8111-07a285dea9db",
   "metadata": {},
   "outputs": [],
   "source": [
    "all_weather_df.loc[0,'astronomy']"
   ]
  },
  {
   "cell_type": "code",
   "execution_count": null,
   "id": "8f4be1e8",
   "metadata": {},
   "outputs": [],
   "source": [
    "\n",
    "h_list=[]\n",
    "w_list=[]\n",
    "for d in range(35):\n",
    "    w_list.append(df.loc['weather',]['data'][d])\n",
    "\n",
    "all_weather_df=pd.DataFrame(w_list)\n",
    "forecast_vars=['date','maxtempC', 'mintempC', 'avgtempC','maxtempF','mintempF','avgtempF','totalSnow_cm','sunHour','uvIndex']\n",
    "forecast_df=all_weather_df[forecast_vars]\n",
    "\n",
    "\n",
    "for d in range(35):\n",
    "    hourly=all_weather_df.loc[d,'hourly']\n",
    "    astronomy=all_weather_df.loc[d,'astronomy'][0]\n",
    "    today_date=all_weather_df.loc[d,'date']\n",
    "    for hour in hourly:\n",
    "        # add daily variables to hourly variables\n",
    "        for v in astronomy_vars:\n",
    "            hour[v]=astronomy[v]\n",
    "        for v in forecast_vars:\n",
    "            hour[v]=all_weather_df.loc[d,v]\n",
    "        h_list.append(hour)\n",
    "hourly_df=pd.DataFrame(h_list)\n",
    "hourly_df=hourly_df[daily_weather_vars+hourly_vars]"
   ]
  },
  {
   "cell_type": "code",
   "execution_count": null,
   "id": "02120edd-871d-4ff4-ab15-cc0f1693ddbc",
   "metadata": {},
   "outputs": [],
   "source": [
    "hourly_df"
   ]
  },
  {
   "cell_type": "code",
   "execution_count": null,
   "id": "2ff3e133",
   "metadata": {},
   "outputs": [],
   "source": [
    "config = yaml_to_dict(\n",
    "    \"/Users/lindseygulden/dev/leg-up/config/weather/newton_weather.yml\"\n",
    ")"
   ]
  },
  {
   "cell_type": "code",
   "execution_count": null,
   "id": "54a89b3f",
   "metadata": {},
   "outputs": [],
   "source": [
    "hourly_df.date"
   ]
  },
  {
   "cell_type": "code",
   "execution_count": null,
   "id": "2b55f063",
   "metadata": {},
   "outputs": [],
   "source": []
  },
  {
   "cell_type": "code",
   "execution_count": null,
   "id": "a8d4f96a",
   "metadata": {},
   "outputs": [],
   "source": [
    "all_weather_df.loc[0, forecast_vars]"
   ]
  },
  {
   "cell_type": "code",
   "execution_count": null,
   "id": "9e487acb",
   "metadata": {},
   "outputs": [],
   "source": [
    "all_weather_df.loc[0, \"hourly\"]"
   ]
  },
  {
   "cell_type": "code",
   "execution_count": null,
   "id": "698630d0",
   "metadata": {},
   "outputs": [],
   "source": [
    "hourly_df.loc"
   ]
  },
  {
   "cell_type": "code",
   "execution_count": null,
   "id": "1adc5cdf",
   "metadata": {},
   "outputs": [],
   "source": [
    "for i in hourly_df.columns.values:\n",
    "    print(f\"   - '{i}'\")"
   ]
  },
  {
   "cell_type": "code",
   "execution_count": null,
   "id": "2bf43cae",
   "metadata": {},
   "outputs": [],
   "source": [
    "import sys\n",
    "\n",
    "print(sys.path)"
   ]
  },
  {
   "cell_type": "markdown",
   "id": "0ff92234",
   "metadata": {},
   "source": [
    "import sys\n",
    "print(sys.path)"
   ]
  },
  {
   "cell_type": "code",
   "execution_count": null,
   "id": "90fcc719",
   "metadata": {},
   "outputs": [],
   "source": [
    "from projects.utils.io import yaml_to_dict"
   ]
  },
  {
   "cell_type": "code",
   "execution_count": null,
   "id": "406b0233",
   "metadata": {},
   "outputs": [],
   "source": [
    "tmp = pd.DataFrame(w_list)\n",
    "len(tmp.loc[0, \"hourly\"])"
   ]
  },
  {
   "cell_type": "code",
   "execution_count": null,
   "id": "898295b2",
   "metadata": {},
   "outputs": [],
   "source": []
  }
 ],
 "metadata": {
  "kernelspec": {
   "display_name": "projects-rCMx4yDZ-py3.11",
   "language": "python",
   "name": "projects-rcmx4ydz-py3.11"
  },
  "language_info": {
   "codemirror_mode": {
    "name": "ipython",
    "version": 3
   },
   "file_extension": ".py",
   "mimetype": "text/x-python",
   "name": "python",
   "nbconvert_exporter": "python",
   "pygments_lexer": "ipython3",
   "version": "3.11.4"
  }
 },
 "nbformat": 4,
 "nbformat_minor": 5
}
