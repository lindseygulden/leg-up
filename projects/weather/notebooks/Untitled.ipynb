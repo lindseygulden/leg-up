{
 "cells": [
  {
   "cell_type": "code",
   "execution_count": 1,
   "id": "7c674e8b-6865-4797-ad96-1588c743308b",
   "metadata": {},
   "outputs": [],
   "source": [
    "import requests\n",
    "\n",
    "import json\n",
    "import pandas as pd"
   ]
  },
  {
   "cell_type": "code",
   "execution_count": 2,
   "id": "84894f45-1a8c-483a-a087-633012b998a8",
   "metadata": {},
   "outputs": [],
   "source": [
    "api_key = \"ceeeafe461a449d3a3d204410232607\"  # API key obtained from https://www.worldweatheronline.com/\n",
    "location_list = [\n",
    "    \"02459\"\n",
    "]  # list of strings containg US Zipcode, UK Postcode, Canada Postalcode, IP address, Latitude/Longitude (decimal degree) or city name\n",
    "start_date = \"01-JAN-2020\"  # date when desired scraping period starts; preferred date format: 'dd-MMM-yyyy', e.g., '01-JAN-2020'\n",
    "end_date = \"31-DEC-2022\"  # date when desired scraping period ends; preferred date format: 'dd-MMM-yyyy\n",
    "frequency = 24  # frequency between observations; possible values 1 (1 hour), 3 (3 hours), 6 (6 hours), 12 (12 hours (day/night)) or 24 (daily averages)"
   ]
  },
  {
   "cell_type": "code",
   "execution_count": null,
   "id": "dce335d2-1676-461e-8557-b35412bd093b",
   "metadata": {},
   "outputs": [],
   "source": [
    "payload = {\n",
    "    \"key\": api_key,\n",
    "    \"date\": start_date,\n",
    "    \"enddate\": end_date,\n",
    "    \"q\": location_list[0],\n",
    "}"
   ]
  },
  {
   "cell_type": "code",
   "execution_count": 48,
   "id": "46db8130-088f-4a44-8554-5bddc6a0ff7b",
   "metadata": {},
   "outputs": [],
   "source": [
    "response = requests.get(\n",
    "    f\"https://api.worldweatheronline.com/premium/v1/past-weather.ashx?key={api_key}&date={start_date}&enddate={end_date}&q={location_list[0]}&tp=1&format=json&includelocation=yes\"\n",
    ")"
   ]
  },
  {
   "cell_type": "code",
   "execution_count": 18,
   "id": "8f12e9b5-7f85-4ff6-8a3b-92093ab9dacb",
   "metadata": {},
   "outputs": [
    {
     "data": {
      "text/plain": [
       "{'Date': 'Thu, 27 Jul 2023 18:44:35 GMT', 'Content-Type': 'application/json', 'Transfer-Encoding': 'chunked', 'Connection': 'keep-alive', 'Vary': 'Accept-Encoding', 'Server': 'BunnyCDN-IL1-1068', 'CDN-PullZone': '61832', 'CDN-Uid': '8fa3a04a-75d9-4707-8056-b7b33c8ac7fe', 'CDN-RequestCountryCode': 'US', 'Cache-Control': 'public, max-age=180', 'x-wwo-qpd-left': '499', 'CDN-ProxyVer': '1.04', 'CDN-RequestPullSuccess': 'True', 'CDN-RequestPullCode': '200', 'CDN-CachedAt': '07/27/2023 18:44:35', 'CDN-EdgeStorageId': '1068', 'CDN-Status': '200', 'CDN-RequestId': '8439f3cc8d5db08152e9c603b4d7421c', 'CDN-Cache': 'MISS', 'Content-Encoding': 'gzip'}"
      ]
     },
     "execution_count": 18,
     "metadata": {},
     "output_type": "execute_result"
    }
   ],
   "source": [
    "response.headers"
   ]
  },
  {
   "cell_type": "code",
   "execution_count": 49,
   "id": "5e0104b7-d2a1-4b82-b9bf-ebe084a37222",
   "metadata": {},
   "outputs": [],
   "source": [
    "with open(\"../response_tp1\", \"wb\") as fd:\n",
    "    for chunk in response.iter_content(chunk_size=128):\n",
    "        fd.write(chunk)"
   ]
  },
  {
   "cell_type": "code",
   "execution_count": 50,
   "id": "a8151dec",
   "metadata": {},
   "outputs": [],
   "source": [
    "df = pd.read_json(\"../response_tp1\")"
   ]
  },
  {
   "cell_type": "code",
   "execution_count": 51,
   "id": "db192a4a",
   "metadata": {},
   "outputs": [
    {
     "data": {
      "text/html": [
       "<div>\n",
       "<style scoped>\n",
       "    .dataframe tbody tr th:only-of-type {\n",
       "        vertical-align: middle;\n",
       "    }\n",
       "\n",
       "    .dataframe tbody tr th {\n",
       "        vertical-align: top;\n",
       "    }\n",
       "\n",
       "    .dataframe thead th {\n",
       "        text-align: right;\n",
       "    }\n",
       "</style>\n",
       "<table border=\"1\" class=\"dataframe\">\n",
       "  <thead>\n",
       "    <tr style=\"text-align: right;\">\n",
       "      <th></th>\n",
       "      <th>data</th>\n",
       "    </tr>\n",
       "  </thead>\n",
       "  <tbody>\n",
       "    <tr>\n",
       "      <th>nearest_area</th>\n",
       "      <td>[{'areaName': [{'value': 'Newton Center'}], 'c...</td>\n",
       "    </tr>\n",
       "    <tr>\n",
       "      <th>request</th>\n",
       "      <td>[{'type': 'Zipcode', 'query': '02459'}]</td>\n",
       "    </tr>\n",
       "    <tr>\n",
       "      <th>weather</th>\n",
       "      <td>[{'date': '2020-01-01', 'astronomy': [{'sunris...</td>\n",
       "    </tr>\n",
       "  </tbody>\n",
       "</table>\n",
       "</div>"
      ],
      "text/plain": [
       "                                                           data\n",
       "nearest_area  [{'areaName': [{'value': 'Newton Center'}], 'c...\n",
       "request                 [{'type': 'Zipcode', 'query': '02459'}]\n",
       "weather       [{'date': '2020-01-01', 'astronomy': [{'sunris..."
      ]
     },
     "execution_count": 51,
     "metadata": {},
     "output_type": "execute_result"
    }
   ],
   "source": [
    "df"
   ]
  },
  {
   "cell_type": "code",
   "execution_count": 59,
   "id": "8f4be1e8",
   "metadata": {},
   "outputs": [],
   "source": [
    "\n",
    "h_list=[]\n",
    "w_list=[]\n",
    "for d in range(35):\n",
    "    w_list.append(df.loc['weather',]['data'][d])\n",
    "\n",
    "all_weather_df=pd.DataFrame(w_list)\n",
    "forecast_df=all_weather_df[]\n",
    "\n",
    "forecast_vars=['date','maxtempF','mintempF','avgtempF','totalSnow_cm','sunHour','uvIndex']\n",
    "for d in range(35):\n",
    "    hourly=all_weather_df.loc[d,'hourly']\n",
    "    for h in range(len(hourly)):\n",
    "        for v in forecast_vars:\n",
    "            hourly[h][v]=all_weather_df.loc[d,v]\n",
    "        h_list.append(hourly[h])\n",
    "hourly_df=pd.DataFrame(h_list)"
   ]
  },
  {
   "cell_type": "markdown",
   "id": "a41d5a7b",
   "metadata": {},
   "source": []
  },
  {
   "cell_type": "code",
   "execution_count": 5,
   "id": "2bf43cae",
   "metadata": {},
   "outputs": [
    {
     "name": "stdout",
     "output_type": "stream",
     "text": [
      "['/Users/lindseygulden/dev/projects/weather/notebooks', '/Library/Frameworks/Python.framework/Versions/3.11/lib/python311.zip', '/Library/Frameworks/Python.framework/Versions/3.11/lib/python3.11', '/Library/Frameworks/Python.framework/Versions/3.11/lib/python3.11/lib-dynload', '', '/Users/lindseygulden/Library/Caches/pypoetry/virtualenvs/projects-wmg38kKB-py3.11/lib/python3.11/site-packages']\n"
     ]
    }
   ],
   "source": [
    "import sys\n",
    "\n",
    "print(sys.path)"
   ]
  },
  {
   "cell_type": "markdown",
   "id": "0ff92234",
   "metadata": {},
   "source": [
    "import sys\n",
    "print(sys.path)"
   ]
  },
  {
   "cell_type": "code",
   "execution_count": 3,
   "metadata": {},
   "outputs": [
    {
     "ename": "ModuleNotFoundError",
     "evalue": "No module named 'utils'",
     "output_type": "error",
     "traceback": [
      "\u001b[0;31m---------------------------------------------------------------------------\u001b[0m",
      "\u001b[0;31mModuleNotFoundError\u001b[0m                       Traceback (most recent call last)",
      "Cell \u001b[0;32mIn[3], line 1\u001b[0m\n\u001b[0;32m----> 1\u001b[0m \u001b[39mfrom\u001b[39;00m \u001b[39mutils\u001b[39;00m\u001b[39m.\u001b[39;00m\u001b[39mio\u001b[39;00m \u001b[39mimport\u001b[39;00m yaml_to_dict\n",
      "\u001b[0;31mModuleNotFoundError\u001b[0m: No module named 'utils'"
     ]
    }
   ],
   "source": [
    "from utils.io import yaml_to_dict"
   ]
  },
  {
   "cell_type": "code",
   "execution_count": 56,
   "id": "406b0233",
   "metadata": {},
   "outputs": [
    {
     "data": {
      "text/plain": [
       "24"
      ]
     },
     "execution_count": 56,
     "metadata": {},
     "output_type": "execute_result"
    }
   ],
   "source": [
    "tmp = pd.DataFrame(w_list)\n",
    "len(tmp.loc[0, \"hourly\"])"
   ]
  },
  {
   "cell_type": "code",
   "execution_count": null,
   "id": "882dae64",
   "metadata": {},
   "outputs": [],
   "source": []
  }
 ],
 "metadata": {
  "kernelspec": {
   "display_name": "projects-wmg38kKB-py3.11",
   "language": "python",
   "name": "projects-wmg38kkb-py3.11"
  },
  "language_info": {
   "codemirror_mode": {
    "name": "ipython",
    "version": 3
   },
   "file_extension": ".py",
   "mimetype": "text/x-python",
   "name": "python",
   "nbconvert_exporter": "python",
   "pygments_lexer": "ipython3",
   "version": "3.11.4"
  }
 },
 "nbformat": 4,
 "nbformat_minor": 5
}
