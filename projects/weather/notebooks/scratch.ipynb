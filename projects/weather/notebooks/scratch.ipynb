{
 "cells": [
  {
   "cell_type": "code",
   "execution_count": null,
   "id": "934ccfff-e0c6-4a82-85d1-603b2a201fa8",
   "metadata": {},
   "outputs": [],
   "source": [
    "import sqlite3"
   ]
  },
  {
   "cell_type": "code",
   "execution_count": null,
   "id": "1854ee2b-bd70-4622-9d39-83ba12a3bc42",
   "metadata": {},
   "outputs": [],
   "source": [
    "import sqlite3\n",
    "\n",
    "try:\n",
    "    sqliteConnection = sqlite3.connect(\"SQLite_Python.db\")\n",
    "    cursor = sqliteConnection.cursor()\n",
    "    print(\"Database created and Successfully Connected to SQLite\")\n",
    "\n",
    "    sqlite_select_Query = \"select sqlite_version();\"\n",
    "    cursor.execute(sqlite_select_Query)\n",
    "    record = cursor.fetchall()\n",
    "    print(\"SQLite Database Version is: \", record)\n",
    "    cursor.close()\n",
    "\n",
    "except sqlite3.Error as error:\n",
    "    print(\"Error while connecting to sqlite\", error)\n",
    "finally:\n",
    "    if sqliteConnection:\n",
    "        sqliteConnection.close()\n",
    "        print(\"The SQLite connection is closed\")"
   ]
  },
  {
   "cell_type": "code",
   "execution_count": null,
   "id": "7d468cdb-383e-4615-b8c8-64e30ddb8519",
   "metadata": {},
   "outputs": [],
   "source": [
    "con = sqlite3.connect(\"/Users/lindseygulden/dev/leg-up/db\")\n",
    "cursor = con.cursor()"
   ]
  },
  {
   "cell_type": "code",
   "execution_count": null,
   "id": "d55feb5e-37d2-428c-b810-148f914a7b67",
   "metadata": {},
   "outputs": [],
   "source": [
    "cursor.execute(\n",
    "    \"\"\"\n",
    "create table dogs (\n",
    "id int, \n",
    "name varchar(255), \n",
    "breed varchar(255)\n",
    "); \n",
    "\"\"\"\n",
    ")"
   ]
  },
  {
   "cell_type": "code",
   "execution_count": null,
   "id": "98d46a8e-d178-4c75-b346-feafa4a55c20",
   "metadata": {},
   "outputs": [],
   "source": [
    "cursor.execute(\n",
    "    \"\"\" insert into dogs (id,name,breed)\n",
    "values (1,'bella','goldendoodle')\"\"\"\n",
    ")"
   ]
  },
  {
   "cell_type": "code",
   "execution_count": null,
   "id": "eeeb3721-16fb-46a3-bfb7-1846695855f2",
   "metadata": {},
   "outputs": [],
   "source": [
    "obj = cursor.execute(\"\"\"select * from dogs\"\"\")"
   ]
  },
  {
   "cell_type": "code",
   "execution_count": null,
   "id": "b06b7db8-04fa-47de-9a03-8efd7b390535",
   "metadata": {},
   "outputs": [],
   "source": [
    "df = pd.read_sql_query(\"select * from dogs\", con)"
   ]
  },
  {
   "cell_type": "code",
   "execution_count": null,
   "id": "eb9123b3-5139-4e74-8239-e752608babd3",
   "metadata": {},
   "outputs": [],
   "source": [
    "df = pd.DataFrame(\n",
    "    {\n",
    "        \"id\": [1, 2],\n",
    "        \"name\": [\"bella\", \"daisy\"],\n",
    "        \"breed\": [\"goldendoodle\", \"miniature poodle\"],\n",
    "    },\n",
    "    index=[0, 1],\n",
    ")"
   ]
  },
  {
   "cell_type": "code",
   "execution_count": null,
   "id": "fa34f2f9-9702-432c-ae32-0886c22fc435",
   "metadata": {},
   "outputs": [],
   "source": [
    "df.to_sql(\"dogs2\", con, if_exists=\"append\")"
   ]
  },
  {
   "cell_type": "code",
   "execution_count": null,
   "id": "597f2329-20b4-4905-af9f-5a33ed5fc58b",
   "metadata": {},
   "outputs": [],
   "source": []
  },
  {
   "cell_type": "code",
   "execution_count": null,
   "id": "80e1170a-be97-4e70-956b-eb944d4cd650",
   "metadata": {},
   "outputs": [],
   "source": [
    "pd.read_sql_query(\"select * from dogs2\", con)"
   ]
  },
  {
   "cell_type": "code",
   "execution_count": null,
   "id": "7cdf6985-9705-4665-91fb-2f9c740684aa",
   "metadata": {},
   "outputs": [],
   "source": [
    "pandas.read_sql_query(\n",
    "    sql,\n",
    "    con,\n",
    "    index_col=None,\n",
    "    coerce_float=True,\n",
    "    params=None,\n",
    "    parse_dates=None,\n",
    "    chunksize=None,\n",
    "    dtype=None,\n",
    "    dtype_backend=_NoDefault.no_default,\n",
    ")[source]"
   ]
  },
  {
   "cell_type": "code",
   "execution_count": 5,
   "id": "6fd690f6-9795-4f27-b6ab-11ede9cd5d43",
   "metadata": {},
   "outputs": [
    {
     "name": "stdout",
     "output_type": "stream",
     "text": [
      "['/Users/lindseygulden/dev/leg-up/projects/weather/notebooks', '/Users/lindseygulden/dev', '/Library/Frameworks/Python.framework/Versions/3.11/lib/python311.zip', '/Library/Frameworks/Python.framework/Versions/3.11/lib/python3.11', '/Library/Frameworks/Python.framework/Versions/3.11/lib/python3.11/lib-dynload', '', '/Users/lindseygulden/Library/Caches/pypoetry/virtualenvs/projects-rCMx4yDZ-py3.11/lib/python3.11/site-packages', '/Users/lindseygulden/dev/leg-up']\n"
     ]
    }
   ],
   "source": [
    "import sys\n",
    "\n",
    "print(sys.path)\n",
    "sys.path.append(\"/Users/lindseygulden/dev/leg-up/utils\")"
   ]
  },
  {
   "cell_type": "code",
   "execution_count": 1,
   "id": "81d96232-872e-4706-901c-62330f722201",
   "metadata": {},
   "outputs": [
    {
     "ename": "ModuleNotFoundError",
     "evalue": "No module named 'utils.time'",
     "output_type": "error",
     "traceback": [
      "\u001b[0;31m---------------------------------------------------------------------------\u001b[0m",
      "\u001b[0;31mModuleNotFoundError\u001b[0m                       Traceback (most recent call last)",
      "Cell \u001b[0;32mIn[1], line 7\u001b[0m\n\u001b[1;32m      5\u001b[0m \u001b[38;5;28;01mimport\u001b[39;00m \u001b[38;5;21;01mdatetime\u001b[39;00m \u001b[38;5;28;01mas\u001b[39;00m \u001b[38;5;21;01mdt\u001b[39;00m\n\u001b[1;32m      6\u001b[0m \u001b[38;5;28;01mfrom\u001b[39;00m \u001b[38;5;21;01mcalendar\u001b[39;00m \u001b[38;5;28;01mimport\u001b[39;00m isleap\n\u001b[0;32m----> 7\u001b[0m \u001b[38;5;28;01mfrom\u001b[39;00m \u001b[38;5;21;01mutils\u001b[39;00m\u001b[38;5;21;01m.\u001b[39;00m\u001b[38;5;21;01mtime\u001b[39;00m \u001b[38;5;28;01mimport\u001b[39;00m convert_to_decimal_year\n",
      "\u001b[0;31mModuleNotFoundError\u001b[0m: No module named 'utils.time'"
     ]
    }
   ],
   "source": [
    "import pandas as pd\n",
    "import matplotlib.pyplot as plt\n",
    "import seaborn as sns\n",
    "\n",
    "import datetime as dt\n",
    "from calendar import isleap\n",
    "from utils.time import convert_to_decimal_year"
   ]
  },
  {
   "cell_type": "code",
   "execution_count": null,
   "id": "11209033-5a27-47e1-8c25-373b8ca25c96",
   "metadata": {},
   "outputs": [],
   "source": [
    "df = pd.read_csv(\n",
    "    \"/Users/lindseygulden/dev/leg-up/projects/weather/data/02459_wwo_daily_weather.csv\",\n",
    "    index_col=[0],\n",
    ")"
   ]
  },
  {
   "cell_type": "code",
   "execution_count": null,
   "id": "b0999037-f64a-495d-902a-8f40de2144d2",
   "metadata": {},
   "outputs": [],
   "source": [
    "df[\"decimal_year\"] = [convert_to_decimal_year(d) for d in df.datetime]"
   ]
  },
  {
   "cell_type": "code",
   "execution_count": null,
   "id": "55e44a61-38ae-40d3-9a23-314625f8f9fc",
   "metadata": {},
   "outputs": [],
   "source": []
  },
  {
   "cell_type": "code",
   "execution_count": null,
   "id": "194782ea-b17c-415e-aca4-cc01a629ea2f",
   "metadata": {},
   "outputs": [],
   "source": [
    "sns.lineplot(data=df, x=\"date\", y=\"avg_temp_f\")"
   ]
  },
  {
   "cell_type": "code",
   "execution_count": null,
   "id": "598ee9ce-b258-4239-87b4-243d8cd7b7fb",
   "metadata": {},
   "outputs": [],
   "source": []
  },
  {
   "cell_type": "code",
   "execution_count": null,
   "id": "23c8d170-702c-4ec1-8e3a-225ee27b5734",
   "metadata": {},
   "outputs": [],
   "source": [
    "d = dt.date(2020, 2, 2)\n",
    "\n",
    "d.toordinal() - dt.datetime(1947, 1, 1).toordinal()"
   ]
  },
  {
   "cell_type": "code",
   "execution_count": null,
   "id": "4dd1092a-255f-4221-be80-bab7b6ef3a50",
   "metadata": {},
   "outputs": [],
   "source": [
    "d = dt.datetime(1947, 1, 24)\n",
    "d.year + (d.timetuple().tm_yday - 1) / 365"
   ]
  },
  {
   "cell_type": "code",
   "execution_count": null,
   "id": "1d910df6-f477-4af6-8e8a-4b8e2b047d12",
   "metadata": {},
   "outputs": [],
   "source": [
    "365 + isleap(1948)"
   ]
  },
  {
   "cell_type": "code",
   "execution_count": null,
   "id": "b034314c-4492-4e5a-9e38-843ab0e1d78b",
   "metadata": {},
   "outputs": [],
   "source": [
    "import json\n",
    "\n",
    "import pandas as pd\n",
    "\n",
    "import os\n",
    "import sys\n",
    "\n",
    "sys.path.append(\"/Users/lindseygulden/dev/leg-up/utils\")\n",
    "from utils.io import yaml_to_dict\n",
    "import warnings\n",
    "\n",
    "warnings.filterwarnings(\"ignore\")\n",
    "\n",
    "import datetime as dt\n",
    "from projects.weather.wwo_data_reader import DataReader\n",
    "\n",
    "\n",
    "d = DataReader.create(\n",
    "    \"wwo\", \"/Users/lindseygulden/dev/leg-up/config/weather/newton_weather.yml\"\n",
    ")"
   ]
  },
  {
   "cell_type": "code",
   "execution_count": null,
   "id": "062bd14e-d4c8-4075-837c-f04eb601902a",
   "metadata": {},
   "outputs": [],
   "source": [
    "import pickle\n",
    "\n",
    "# with open('data.pkl', 'wb') as f:\n",
    "#    pickle.dump(d,f)\n",
    "\n",
    "with open(\"data.pkl\", \"rb\") as f:\n",
    "    y = pickle.load(f)"
   ]
  },
  {
   "cell_type": "code",
   "execution_count": null,
   "id": "c9d15e81-0dd2-4377-8383-5133bd83c5d0",
   "metadata": {},
   "outputs": [],
   "source": [
    "y.raw_data_dict"
   ]
  },
  {
   "cell_type": "code",
   "execution_count": null,
   "id": "1f65e1a7-eff2-4fd1-9dc4-a8a090a89933",
   "metadata": {},
   "outputs": [],
   "source": [
    "y.data_dict.keys()"
   ]
  },
  {
   "cell_type": "code",
   "execution_count": null,
   "id": "b3efd1d2-473a-4ddf-bd2a-0a86cc463592",
   "metadata": {},
   "outputs": [],
   "source": [
    "y.postprocess_data()"
   ]
  },
  {
   "cell_type": "code",
   "execution_count": null,
   "id": "9f21eb1c-1ab0-4ecb-a1dc-258d08ce9f20",
   "metadata": {},
   "outputs": [],
   "source": [
    "import datetime as dt"
   ]
  },
  {
   "cell_type": "code",
   "execution_count": null,
   "id": "8d346c0d-b5a7-4fa0-87db-2ec42a084c6c",
   "metadata": {},
   "outputs": [],
   "source": [
    "y.write_data()"
   ]
  },
  {
   "cell_type": "code",
   "execution_count": null,
   "id": "7c209cae-7bab-4a5f-b597-a17ff8f98740",
   "metadata": {},
   "outputs": [],
   "source": [
    "yaml_to_dict(\"/Users/lindseygulden/dev/leg-up/config/weather/newton_weather.yml\")"
   ]
  },
  {
   "cell_type": "code",
   "execution_count": null,
   "id": "c5335718-376c-4e30-8c3b-22e038730e2f",
   "metadata": {},
   "outputs": [],
   "source": [
    "y.data_dict[\"47448\"]"
   ]
  },
  {
   "cell_type": "code",
   "execution_count": null,
   "id": "eaa7f039-264b-4f87-8a5f-a5616b8bfd68",
   "metadata": {},
   "outputs": [],
   "source": [
    "d.write_data()"
   ]
  },
  {
   "cell_type": "code",
   "execution_count": null,
   "id": "99eda1a7-16ea-4b60-8af1-a2968d7f9bec",
   "metadata": {},
   "outputs": [],
   "source": [
    "import datetime as dt\n",
    "import pandas as pd\n",
    "import numpy as np\n",
    "from projects.utils.data import convert_to_datetime"
   ]
  },
  {
   "cell_type": "code",
   "execution_count": null,
   "id": "44810ae2-65c5-4bc9-9f3a-7931d8e899a8",
   "metadata": {},
   "outputs": [],
   "source": [
    "convert_to_datetime(dt.date(2020, 1, 3))"
   ]
  },
  {
   "cell_type": "code",
   "execution_count": null,
   "id": "9fc04a77-98e8-4ac6-b9b1-51e2f025f5e1",
   "metadata": {},
   "outputs": [],
   "source": [
    "convert_to_datetime(pd.Timestamp(year=2017, month=1, day=1, hour=12))"
   ]
  },
  {
   "cell_type": "code",
   "execution_count": null,
   "id": "3a583546-6b35-45f9-b8de-44a19aa15bad",
   "metadata": {},
   "outputs": [],
   "source": [
    "convert_to_datetime(np.datetime64(12013103, \"s\"))"
   ]
  },
  {
   "cell_type": "code",
   "execution_count": null,
   "id": "20bf9d3f-8630-4fe0-bf72-cd3dbed8642c",
   "metadata": {},
   "outputs": [],
   "source": [
    "d = dt.datetime(2020, 1, 1)\n",
    "d.to_pydatetime()"
   ]
  },
  {
   "cell_type": "code",
   "execution_count": null,
   "id": "dce335d2-1676-461e-8557-b35412bd093b",
   "metadata": {},
   "outputs": [],
   "source": [
    "payload = {\n",
    "    \"key\": api_key,\n",
    "    \"date\": start_date,\n",
    "    \"enddate\": end_date,\n",
    "    \"q\": location_list[0],\n",
    "}"
   ]
  },
  {
   "cell_type": "code",
   "execution_count": null,
   "id": "3cee5909-53ac-40bd-bc0f-d892d4d954eb",
   "metadata": {},
   "outputs": [],
   "source": [
    "dict([[1, 2], [2, 3]])"
   ]
  },
  {
   "cell_type": "code",
   "execution_count": null,
   "id": "46db8130-088f-4a44-8554-5bddc6a0ff7b",
   "metadata": {},
   "outputs": [],
   "source": [
    "api_key = \"cbcffe5648e04b07afa203548241202\"\n",
    "start_date = \"01-JAN-2020\"\n",
    "end_date = \"31-JAN-2020\"\n",
    "timeout_seconds = 30\n",
    "frequency = 24\n",
    "location_list = [\"47448\"]\n",
    "response = requests.get(\n",
    "    f\"https://api.worldweatheronline.com/premium/v1/past-weather.ashx?key={api_key}&date={start_date}&enddate={end_date}&q={location_list[0]}&tp=1&format=json&includelocation=yes\"\n",
    ")"
   ]
  },
  {
   "cell_type": "code",
   "execution_count": null,
   "id": "59de637d",
   "metadata": {},
   "outputs": [],
   "source": [
    "j = response.json()\n",
    "\n",
    "df = pd.DataFrame.from_dict(j)"
   ]
  },
  {
   "cell_type": "code",
   "execution_count": null,
   "id": "a1f6db7c-93a8-4fe7-8bf0-f64fa9e22aa0",
   "metadata": {},
   "outputs": [],
   "source": [
    "df.loc[\"nearest_area\", :].values[0][0]"
   ]
  },
  {
   "cell_type": "code",
   "execution_count": null,
   "id": "f1b15d48-cd02-4290-adb0-ddd96b702e63",
   "metadata": {},
   "outputs": [],
   "source": [
    "n_entries = len(df.loc[\"weather\",][\"data\"])\n",
    "w_list = []\n",
    "for d in range(n_entries):\n",
    "    w_list.append(df.loc[\"weather\",][\"data\"][d])\n",
    "\n",
    "all_weather_df = pd.DataFrame(w_list)"
   ]
  },
  {
   "cell_type": "code",
   "execution_count": null,
   "id": "5823c705-b577-4605-bda8-8e207a5cb98f",
   "metadata": {},
   "outputs": [],
   "source": [
    "data_renaming_dict = yaml_to_dict(\n",
    "    \"/Users/lindseygulden/dev/leg-up/projects/weather/config/data_description.yml\"\n",
    ")\n",
    "from itertools import chain\n",
    "\n",
    "mylist = [list(data_renaming_dict[k].keys()) for k in data_renaming_dict.keys()]\n",
    "list(chain.from_iterable(mylist))"
   ]
  },
  {
   "cell_type": "code",
   "execution_count": null,
   "id": "87021a19-31e5-4aa2-bd5a-cbb7979e2fea",
   "metadata": {},
   "outputs": [],
   "source": [
    "for key, value in new_dict.items():\n",
    "    all_weather_df[key] = value\n",
    "\n",
    "all_weather_df"
   ]
  },
  {
   "cell_type": "code",
   "execution_count": null,
   "id": "8b70934a",
   "metadata": {},
   "outputs": [],
   "source": [
    "daily_weather_vars = [\n",
    "    \"date\",\n",
    "    \"maxtempC\",\n",
    "    \"maxtempF\",\n",
    "    \"mintempC\",\n",
    "    \"mintempF\",\n",
    "    \"avgtempC\",\n",
    "    \"avgtempF\",\n",
    "    \"totalSnow_cm\",\n",
    "    \"sunHour\",\n",
    "    \"uvIndex\",\n",
    "]\n",
    "astronomy_vars = [\n",
    "    \"sunrise\",\n",
    "    \"sunset\",\n",
    "    \"moonrise\",\n",
    "    \"moonset\",\n",
    "    \"moon_phase\",\n",
    "    \"moon_illumination\",\n",
    "]\n",
    "hourly_vars = [\n",
    "    \"time\",\n",
    "    \"tempC\",\n",
    "    \"tempF\",\n",
    "    \"windspeedMiles\",\n",
    "    \"windspeedKmph\",\n",
    "    \"winddirDegree\",\n",
    "    \"winddir16Point\",\n",
    "    \"weatherCode\",\n",
    "    \"weatherDesc\",\n",
    "    \"precipMM\",\n",
    "    \"precipInches\",\n",
    "    \"humidity\",\n",
    "    \"visibility\",\n",
    "    \"visibilityMiles\",\n",
    "    \"pressure\",\n",
    "    \"pressureInches\",\n",
    "    \"cloudcover\",\n",
    "    \"HeatIndexC\",\n",
    "    \"HeatIndexF\",\n",
    "    \"DewPointC\",\n",
    "    \"DewPointF\",\n",
    "    \"WindChillC\",\n",
    "    \"WindChillF\",\n",
    "    \"WindGustMiles\",\n",
    "    \"WindGustKmph\",\n",
    "    \"FeelsLikeC\",\n",
    "    \"FeelsLikeF\",\n",
    "    \"uvIndex\",\n",
    "]\n",
    "extract_weather_desc = False\n",
    "if \"weatherDesc\" in hourly_vars:\n",
    "    hourly_vars = [x for x in hourly_vars if x != \"weatherDesc\"]\n",
    "    extract_weather_desc = True"
   ]
  },
  {
   "cell_type": "code",
   "execution_count": null,
   "id": "d9888fec-3e18-46cb-9f3f-f650a282d4d7",
   "metadata": {},
   "outputs": [],
   "source": []
  },
  {
   "cell_type": "code",
   "execution_count": null,
   "id": "1b6ffab5",
   "metadata": {},
   "outputs": [],
   "source": [
    "mydict = {\n",
    "    \"locations\": [\"02459\"],\n",
    "    \"api_key\": \"cbcffe5648e04b07afa203548241202\",\n",
    "    \"entry_point\": \"https://api.worldweatheronline.com/premium/v1/past-weather.ashx\",\n",
    "    \"start_date\": \"01-JAN-2020\",\n",
    "    \"end_date\": \"31-DEC-2022\",\n",
    "    \"timeout_seconds\": 30,\n",
    "    \"frequency\": 24,\n",
    "    \"daily_weather_variables\": [\n",
    "        \"date\",\n",
    "        \"maxtempC\",\n",
    "        \"maxtempF\",\n",
    "        \"mintempC\",\n",
    "        \"mintempF\",\n",
    "        \"avgtempC\",\n",
    "        \"avgtempF\",\n",
    "        \"totalSnow_cm\",\n",
    "        \"sunHour\",\n",
    "        \"uvIndex\",\n",
    "    ],\n",
    "}"
   ]
  },
  {
   "cell_type": "code",
   "execution_count": null,
   "id": "d105aedc",
   "metadata": {},
   "outputs": [],
   "source": [
    "from schema import Schema, And, Use, Optional, SchemaError\n",
    "import yaml\n",
    "import validators\n",
    "\n",
    "schema = Schema(\n",
    "    {\n",
    "        \"locations\": And(list, lambda x: all([isinstance(xx, str) for x in xx])),\n",
    "        \"api_key\": And(str),\n",
    "        Optional(\n",
    "            \"entry_point\",\n",
    "            default=\"https://api.worldweatheronline.com/premium/v1/past-weather.ashx\",\n",
    "        ): And(str, lambda x: validators.url(x)),\n",
    "        \"end_date\": And(str, lambda x: len(x) == 11),\n",
    "        \"start_date\": And(str, lambda x: len(x) == 11),\n",
    "        Optional(\"timeout_seconds\", default=30): And(int, lambda t: t > 0),\n",
    "        Optional(\"frequency\", default=1): And(lambda f: f in [1, 3, 6, 12, 24], int),\n",
    "        \"daily_weather_variables\": And(\n",
    "            list,\n",
    "            lambda x: all(\n",
    "                [\n",
    "                    xx\n",
    "                    in [\n",
    "                        \"date\",\n",
    "                        \"maxtempC\",\n",
    "                        \"maxtempF\",\n",
    "                        \"mintempC\",\n",
    "                        \"mintempF\",\n",
    "                        \"avgtempC\",\n",
    "                        \"avgtempF\",\n",
    "                        \"totalSnow_cm\",\n",
    "                        \"sunHour\",\n",
    "                        \"uvIndex\",\n",
    "                    ]\n",
    "                    for xx in x\n",
    "                ]\n",
    "            ),\n",
    "        ),\n",
    "        \"astronomy_variables\": And(\n",
    "            list,\n",
    "            lambda x: all(\n",
    "                [\n",
    "                    xx\n",
    "                    in [\n",
    "                        \"sunrise\",\n",
    "                        \"sunset\",\n",
    "                        \"moonrise\",\n",
    "                        \"moonset\",\n",
    "                        \"moon_phase\",\n",
    "                        \"moon_illumination\",\n",
    "                    ]\n",
    "                    for xx in x\n",
    "                ]\n",
    "            ),\n",
    "        ),\n",
    "        \"hourly_variables\": And(\n",
    "            list,\n",
    "            lambda x: all(\n",
    "                [\n",
    "                    xx\n",
    "                    in [\n",
    "                        \"time\",\n",
    "                        \"tempC\",\n",
    "                        \"tempF\",\n",
    "                        \"windspeedMiles\",\n",
    "                        \"windspeedKmph\",\n",
    "                        \"winddirDegree\",\n",
    "                        \"winddir16Point\",\n",
    "                        \"weatherCode\",\n",
    "                        \"weatherDesc\",\n",
    "                        \"precipMM\",\n",
    "                        \"precipInches\",\n",
    "                        \"humidity\",\n",
    "                        \"visibility\",\n",
    "                        \"visibilityMiles\",\n",
    "                        \"pressure\",\n",
    "                        \"pressureInches\",\n",
    "                        \"cloudcover\",\n",
    "                        \"HeatIndexC\",\n",
    "                        \"HeatIndexF\",\n",
    "                        \"DewPointC\",\n",
    "                        \"DewPointF\",\n",
    "                        \"WindChillC\",\n",
    "                        \"WindChillF\",\n",
    "                        \"WindGustMiles\",\n",
    "                        \"WindGustKmph\",\n",
    "                        \"FeelsLikeC\",\n",
    "                        \"FeelsLikeF\",\n",
    "                        \"uvIndex\",\n",
    "                    ]\n",
    "                    for xx in x\n",
    "                ]\n",
    "            ),\n",
    "        ),\n",
    "    }\n",
    ")"
   ]
  },
  {
   "cell_type": "code",
   "execution_count": null,
   "id": "202159f1-f431-40f5-b71d-5211f475110c",
   "metadata": {},
   "outputs": [],
   "source": []
  },
  {
   "cell_type": "code",
   "execution_count": null,
   "id": "f50f5089-1baf-40f2-8282-f8756ed879d7",
   "metadata": {},
   "outputs": [],
   "source": [
    "df"
   ]
  },
  {
   "cell_type": "code",
   "execution_count": null,
   "id": "8f12e9b5-7f85-4ff6-8a3b-92093ab9dacb",
   "metadata": {},
   "outputs": [],
   "source": [
    "weather = json.loads(response.content.decode(\"utf-8\"))[\"data\"][\"weather\"]\n",
    "\n",
    "weather_list = []\n",
    "\n",
    "for i in range(len(weather)):\n",
    "    weather_dict = {k: weather[i][k] for k in tuple(daily_weather_vars)}\n",
    "    weather_dict.update(\n",
    "        {k: weather[i][\"astronomy\"][0][k] for k in tuple(astronomy_vars)}\n",
    "    )\n",
    "    for h in range(len(weather[i][\"hourly\"])):\n",
    "        weather_dict.update({k: weather[i][\"hourly\"][h][k] for k in tuple(hourly_vars)})\n",
    "        if extract_weather_desc:\n",
    "            weather_dict.update(\n",
    "                {\"weatherDesc\": weather[i][\"hourly\"][h][\"weatherDesc\"][0][\"value\"]}\n",
    "            )\n",
    "        weather_list.append(weather_dict.copy())\n",
    "weather_df = pd.DataFrame(weather_list)"
   ]
  },
  {
   "cell_type": "code",
   "execution_count": null,
   "id": "614151cb",
   "metadata": {},
   "outputs": [],
   "source": [
    "weather_df.date.value_counts()"
   ]
  },
  {
   "cell_type": "code",
   "execution_count": null,
   "id": "5e0104b7-d2a1-4b82-b9bf-ebe084a37222",
   "metadata": {},
   "outputs": [],
   "source": [
    "with open(\"/Users/lindseygulden/dev/leg-up/data/newton_tp1.json\", \"wb\") as fd:\n",
    "    for chunk in response.iter_content(chunk_size=128):\n",
    "        fd.write(chunk)"
   ]
  },
  {
   "cell_type": "code",
   "execution_count": null,
   "id": "a8151dec",
   "metadata": {},
   "outputs": [],
   "source": [
    "# df = pd.read_json(\"/Users/lindseygulden/dev/leg-up/data/newton_tp24.json\")\n",
    "df = pd.read_json(\"/Users/lindseygulden/dev/leg-up/data/newton_tp1.json\")\n",
    "df"
   ]
  },
  {
   "cell_type": "code",
   "execution_count": null,
   "id": "e1254fda-1381-4240-a9b3-96a31a4b0af1",
   "metadata": {},
   "outputs": [],
   "source": [
    "h_list = []\n",
    "w_list = []\n",
    "n_entries = len(df.loc[\"weather\",][\"data\"])\n",
    "for d in range(n_entries):\n",
    "    w_list.append(df.loc[\"weather\",][\"data\"][d])\n",
    "\n",
    "all_weather_df = pd.DataFrame(w_list)\n",
    "forecast_vars = [\n",
    "    \"date\",\n",
    "    \"maxtempF\",\n",
    "    \"mintempF\",\n",
    "    \"avgtempF\",\n",
    "    \"totalSnow_cm\",\n",
    "    \"sunHour\",\n",
    "    \"uvIndex\",\n",
    "]"
   ]
  },
  {
   "cell_type": "code",
   "execution_count": null,
   "id": "8fcb9f89-1387-4ed2-9cdd-67fbabaf291e",
   "metadata": {},
   "outputs": [],
   "source": [
    "n_hours = all_weather_df.loc[0, \"hourly\"]"
   ]
  },
  {
   "cell_type": "code",
   "execution_count": null,
   "id": "32c03c33-790a-416e-85a9-2c71725bc39a",
   "metadata": {},
   "outputs": [],
   "source": [
    "import yaml\n",
    "\n",
    "with open(\n",
    "    \"/Users/lindseygulden/dev/leg-up/projects/weather/config/data_description.yml\", \"r\"\n",
    ") as f:\n",
    "    try:\n",
    "        tmp = yaml.safe_load(f)\n",
    "    except yaml.YAMLError as e:\n",
    "        print(e)"
   ]
  },
  {
   "cell_type": "code",
   "execution_count": null,
   "id": "04d461c9-b185-4381-be74-2bb03908cab0",
   "metadata": {},
   "outputs": [],
   "source": [
    "import yaml\n",
    "import datetime as dt\n",
    "\n",
    "with open(\"../../test.yml\", \"w\") as f:\n",
    "    yaml.dump({\"d\": {\"first\": dt.datetime(2001, 1, 1)}}, f, default_flow_style=False)"
   ]
  },
  {
   "cell_type": "code",
   "execution_count": null,
   "id": "5b29b4fa-f630-42d7-9973-3d835fafa07c",
   "metadata": {},
   "outputs": [],
   "source": [
    "with open(\"../../config.yml\", \"w\") as outfile:\n",
    "    yaml.dump(hourly[0], outfile, default_flow_style=False)"
   ]
  },
  {
   "cell_type": "code",
   "execution_count": null,
   "id": "f11349ab-8d42-4e12-a382-e7f625b80c0c",
   "metadata": {},
   "outputs": [],
   "source": [
    "daily_weather_vars = [\n",
    "    \"date\",\n",
    "    \"maxtempC\",\n",
    "    \"maxtempF\",\n",
    "    \"mintempC\",\n",
    "    \"mintempF\",\n",
    "    \"avgtempC\",\n",
    "    \"avgtempF\",\n",
    "    \"totalSnow_cm\",\n",
    "    \"sunHour\",\n",
    "    \"uvIndex\",\n",
    "]\n",
    "astronomy_vars = {\n",
    "    \"sunrise\": \"sunrise_local_time\",\n",
    "    \"sunset\": \"sunset_local_time\",\n",
    "    \"moonrise\": \"moonrise_local_time\",\n",
    "    \"moonset\": \"moonset_local_time\",\n",
    "    \"moon_phase\": \"moon_phase\",\n",
    "    \"moon_illumination\": \"moon_illumination\",\n",
    "}\n",
    "hourly_vars = [\n",
    "    \"time\",\n",
    "    \"tempC\",\n",
    "    \"tempF\",\n",
    "    \"windspeedMiles\",\n",
    "    \"windspeedKmph\",\n",
    "    \"winddirDegree\",\n",
    "    \"winddir16Point\",\n",
    "    \"weatherCode\",\n",
    "    \"weatherDesc\",\n",
    "    \"precipMM\",\n",
    "    \"precipInches\",\n",
    "    \"humidity\",\n",
    "    \"visibility\",\n",
    "    \"visibilityMiles\",\n",
    "    \"pressure\",\n",
    "    \"pressureInches\",\n",
    "    \"cloudcover\",\n",
    "    \"HeatIndexC\",\n",
    "    \"HeatIndexF\",\n",
    "    \"DewPointC\",\n",
    "    \"DewPointF\",\n",
    "    \"WindChillC\",\n",
    "    \"WindChillF\",\n",
    "    \"WindGustMiles\",\n",
    "    \"WindGustKmph\",\n",
    "    \"FeelsLikeC\",\n",
    "    \"FeelsLikeF\",\n",
    "    \"uvIndex\",\n",
    "]"
   ]
  },
  {
   "cell_type": "code",
   "execution_count": null,
   "id": "ab18892c-0785-41cb-8111-07a285dea9db",
   "metadata": {},
   "outputs": [],
   "source": [
    "all_weather_df.loc[0, \"astronomy\"]"
   ]
  },
  {
   "cell_type": "code",
   "execution_count": null,
   "id": "8f4be1e8",
   "metadata": {},
   "outputs": [],
   "source": [
    "h_list = []\n",
    "w_list = []\n",
    "for d in range(35):\n",
    "    w_list.append(df.loc[\"weather\",][\"data\"][d])\n",
    "\n",
    "all_weather_df = pd.DataFrame(w_list)\n",
    "forecast_vars = [\n",
    "    \"date\",\n",
    "    \"maxtempC\",\n",
    "    \"mintempC\",\n",
    "    \"avgtempC\",\n",
    "    \"maxtempF\",\n",
    "    \"mintempF\",\n",
    "    \"avgtempF\",\n",
    "    \"totalSnow_cm\",\n",
    "    \"sunHour\",\n",
    "    \"uvIndex\",\n",
    "]\n",
    "forecast_df = all_weather_df[forecast_vars]\n",
    "\n",
    "\n",
    "for d in range(35):\n",
    "    hourly = all_weather_df.loc[d, \"hourly\"]\n",
    "    astronomy = all_weather_df.loc[d, \"astronomy\"][0]\n",
    "    today_date = all_weather_df.loc[d, \"date\"]\n",
    "    for hour in hourly:\n",
    "        # add daily variables to hourly variables\n",
    "        for v in astronomy_vars:\n",
    "            hour[v] = astronomy[v]\n",
    "        for v in forecast_vars:\n",
    "            hour[v] = all_weather_df.loc[d, v]\n",
    "        h_list.append(hour)\n",
    "hourly_df = pd.DataFrame(h_list)\n",
    "hourly_df = hourly_df[daily_weather_vars + hourly_vars]"
   ]
  },
  {
   "cell_type": "code",
   "execution_count": null,
   "id": "02120edd-871d-4ff4-ab15-cc0f1693ddbc",
   "metadata": {},
   "outputs": [],
   "source": [
    "hourly_df"
   ]
  },
  {
   "cell_type": "code",
   "execution_count": null,
   "id": "2ff3e133",
   "metadata": {},
   "outputs": [],
   "source": [
    "config = yaml_to_dict(\n",
    "    \"/Users/lindseygulden/dev/leg-up/config/weather/newton_weather.yml\"\n",
    ")"
   ]
  },
  {
   "cell_type": "code",
   "execution_count": null,
   "id": "54a89b3f",
   "metadata": {},
   "outputs": [],
   "source": [
    "hourly_df.date"
   ]
  },
  {
   "cell_type": "code",
   "execution_count": null,
   "id": "2b55f063",
   "metadata": {},
   "outputs": [],
   "source": []
  },
  {
   "cell_type": "code",
   "execution_count": null,
   "id": "a8d4f96a",
   "metadata": {},
   "outputs": [],
   "source": [
    "all_weather_df.loc[0, forecast_vars]"
   ]
  },
  {
   "cell_type": "code",
   "execution_count": null,
   "id": "9e487acb",
   "metadata": {},
   "outputs": [],
   "source": [
    "all_weather_df.loc[0, \"hourly\"]"
   ]
  },
  {
   "cell_type": "code",
   "execution_count": null,
   "id": "698630d0",
   "metadata": {},
   "outputs": [],
   "source": [
    "hourly_df.loc"
   ]
  },
  {
   "cell_type": "code",
   "execution_count": null,
   "id": "1adc5cdf",
   "metadata": {},
   "outputs": [],
   "source": [
    "for i in hourly_df.columns.values:\n",
    "    print(f\"   - '{i}'\")"
   ]
  },
  {
   "cell_type": "code",
   "execution_count": null,
   "id": "2bf43cae",
   "metadata": {},
   "outputs": [],
   "source": [
    "import sys\n",
    "\n",
    "print(sys.path)"
   ]
  },
  {
   "cell_type": "markdown",
   "id": "0ff92234",
   "metadata": {},
   "source": [
    "import sys\n",
    "print(sys.path)"
   ]
  },
  {
   "cell_type": "code",
   "execution_count": null,
   "id": "90fcc719",
   "metadata": {},
   "outputs": [],
   "source": [
    "from projects.utils.io import yaml_to_dict"
   ]
  },
  {
   "cell_type": "code",
   "execution_count": null,
   "id": "406b0233",
   "metadata": {},
   "outputs": [],
   "source": [
    "tmp = pd.DataFrame(w_list)\n",
    "len(tmp.loc[0, \"hourly\"])"
   ]
  },
  {
   "cell_type": "code",
   "execution_count": null,
   "id": "898295b2",
   "metadata": {},
   "outputs": [],
   "source": []
  }
 ],
 "metadata": {
  "kernelspec": {
   "display_name": "projects-rCMx4yDZ-py3.11",
   "language": "python",
   "name": "projects-rcmx4ydz-py3.11"
  },
  "language_info": {
   "codemirror_mode": {
    "name": "ipython",
    "version": 3
   },
   "file_extension": ".py",
   "mimetype": "text/x-python",
   "name": "python",
   "nbconvert_exporter": "python",
   "pygments_lexer": "ipython3",
   "version": "3.11.4"
  }
 },
 "nbformat": 4,
 "nbformat_minor": 5
}
