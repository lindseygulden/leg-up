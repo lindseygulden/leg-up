{
 "cells": [
  {
   "cell_type": "code",
   "execution_count": null,
   "id": "7c674e8b-6865-4797-ad96-1588c743308b",
   "metadata": {},
   "outputs": [],
   "source": [
    "import requests\n",
    "\n",
    "import json\n",
    "\n",
    "import pandas as pd\n",
    "\n",
    "import os\n",
    "import sys\n",
    "module_path = os.path.abspath(os.path.join('..'))\n",
    "module_path = os.path.abspath(os.path.join('../../..'))\n",
    "if module_path not in sys.path:\n",
    "    sys.path.append(module_path)"
   ]
  },
  {
   "cell_type": "code",
   "execution_count": null,
   "id": "84894f45-1a8c-483a-a087-633012b998a8",
   "metadata": {},
   "outputs": [],
   "source": [
    "api_key = \"cbcffe5648e04b07afa203548241202\"  # API key obtained from https://www.worldweatheronline.com/\n",
    "location_list = [\n",
    "    \"02459\"\n",
    "]  # list of strings containg US Zipcode, UK Postcode, Canada Postalcode, IP address, Latitude/Longitude (decimal degree) or city name\n",
    "start_date = \"01-JAN-2021\"  # date when desired scraping period starts; preferred date format: 'dd-MMM-yyyy', e.g., '01-JAN-2020'\n",
    "end_date = \"31-DEC-2022\"  # date when desired scraping period ends; preferred date format: 'dd-MMM-yyyy\n",
    "frequency = 24  # frequency between observations; possible values 1 (1 hour), 3 (3 hours), 6 (6 hours), 12 (12 hours (day/night)) or 24 (daily averages)"
   ]
  },
  {
   "cell_type": "code",
   "execution_count": 1,
   "id": "dba5a17e",
   "metadata": {},
   "outputs": [],
   "source": [
    "import datetime as dt\n",
    "from projects.weather.wwo_data_reader import DataReader\n",
    "\n",
    "\n",
    "d=DataReader.create('wwo','/Users/lindseygulden/dev/leg-up/config/weather/newton_weather.yml')\n"
   ]
  },
  {
   "cell_type": "code",
   "execution_count": 5,
   "id": "574ce16a-4b7c-40c2-a10c-540f69ae6e1c",
   "metadata": {},
   "outputs": [
    {
     "data": {
      "text/plain": [
       "dict_keys(['daily_variables', 'hourly_variables', 'astronomy_variables'])"
      ]
     },
     "execution_count": 5,
     "metadata": {},
     "output_type": "execute_result"
    }
   ],
   "source": [
    "d.data_renaming_dict.keys() #['hourly_variables']"
   ]
  },
  {
   "cell_type": "code",
   "execution_count": 2,
   "id": "69f9de57-f17c-4032-aa3b-b9feac11077b",
   "metadata": {},
   "outputs": [
    {
     "name": "stdout",
     "output_type": "stream",
     "text": [
      "2020-01-01 00:00:00\n",
      "True\n"
     ]
    },
    {
     "ename": "TypeError",
     "evalue": "expand_weather_data() missing 1 required positional argument: 'data_config_path'",
     "output_type": "error",
     "traceback": [
      "\u001b[0;31m---------------------------------------------------------------------------\u001b[0m",
      "\u001b[0;31mTypeError\u001b[0m                                 Traceback (most recent call last)",
      "Cell \u001b[0;32mIn[2], line 3\u001b[0m\n\u001b[1;32m      1\u001b[0m d\u001b[38;5;241m.\u001b[39mprep_query()\n\u001b[1;32m      2\u001b[0m d\u001b[38;5;241m.\u001b[39mget_data()\n\u001b[0;32m----> 3\u001b[0m \u001b[43md\u001b[49m\u001b[38;5;241;43m.\u001b[39;49m\u001b[43mpostprocess_data\u001b[49m\u001b[43m(\u001b[49m\u001b[43m)\u001b[49m\n\u001b[1;32m      4\u001b[0m d\u001b[38;5;241m.\u001b[39mwrite_data()\n",
      "File \u001b[0;32m~/dev/leg-up/projects/weather/wwo_data_reader.py:93\u001b[0m, in \u001b[0;36mWWODataReader.postprocess_data\u001b[0;34m(self)\u001b[0m\n\u001b[1;32m     89\u001b[0m         j \u001b[38;5;241m=\u001b[39m response\u001b[38;5;241m.\u001b[39mjson()\n\u001b[1;32m     91\u001b[0m         df \u001b[38;5;241m=\u001b[39m pd\u001b[38;5;241m.\u001b[39mDataFrame\u001b[38;5;241m.\u001b[39mfrom_dict(j)\n\u001b[0;32m---> 93\u001b[0m         granular_df \u001b[38;5;241m=\u001b[39m \u001b[43mexpand_weather_data\u001b[49m\u001b[43m(\u001b[49m\u001b[43mdf\u001b[49m\u001b[43m)\u001b[49m\n\u001b[1;32m     95\u001b[0m         granular_data_list\u001b[38;5;241m.\u001b[39mappend(\n\u001b[1;32m     96\u001b[0m             granular_df[\n\u001b[1;32m     97\u001b[0m                 \u001b[38;5;28mself\u001b[39m\u001b[38;5;241m.\u001b[39mdaily_variables\n\u001b[0;32m   (...)\u001b[0m\n\u001b[1;32m    100\u001b[0m             ]\n\u001b[1;32m    101\u001b[0m         )\n\u001b[1;32m    103\u001b[0m \u001b[38;5;28mself\u001b[39m\u001b[38;5;241m.\u001b[39mdata_dict[loc] \u001b[38;5;241m=\u001b[39m pd\u001b[38;5;241m.\u001b[39mconcat(granular_data_list)\n",
      "\u001b[0;31mTypeError\u001b[0m: expand_weather_data() missing 1 required positional argument: 'data_config_path'"
     ]
    }
   ],
   "source": [
    "d.prep_query()\n",
    "d.get_data()\n",
    "d.postprocess_data()\n",
    "d.write_data()"
   ]
  },
  {
   "cell_type": "code",
   "execution_count": null,
   "id": "99eda1a7-16ea-4b60-8af1-a2968d7f9bec",
   "metadata": {},
   "outputs": [],
   "source": [
    "import datetime as dt\n",
    "import pandas as pd\n",
    "import numpy as np\n",
    "from projects.utils.data import convert_to_datetime"
   ]
  },
  {
   "cell_type": "code",
   "execution_count": null,
   "id": "44810ae2-65c5-4bc9-9f3a-7931d8e899a8",
   "metadata": {},
   "outputs": [],
   "source": [
    "convert_to_datetime(dt.date(2020,1,3))"
   ]
  },
  {
   "cell_type": "code",
   "execution_count": null,
   "id": "9fc04a77-98e8-4ac6-b9b1-51e2f025f5e1",
   "metadata": {},
   "outputs": [],
   "source": [
    "convert_to_datetime(pd.Timestamp(year=2017, month=1, day=1, hour=12))"
   ]
  },
  {
   "cell_type": "code",
   "execution_count": null,
   "id": "3a583546-6b35-45f9-b8de-44a19aa15bad",
   "metadata": {},
   "outputs": [],
   "source": [
    "convert_to_datetime(np.datetime64(12013103,'s'))"
   ]
  },
  {
   "cell_type": "code",
   "execution_count": null,
   "id": "20bf9d3f-8630-4fe0-bf72-cd3dbed8642c",
   "metadata": {},
   "outputs": [],
   "source": [
    "d=dt.datetime(2020,1,1)\n",
    "d.to_pydatetime()"
   ]
  },
  {
   "cell_type": "code",
   "execution_count": null,
   "id": "dce335d2-1676-461e-8557-b35412bd093b",
   "metadata": {},
   "outputs": [],
   "source": [
    "payload = {\n",
    "    \"key\": api_key,\n",
    "    \"date\": start_date,\n",
    "    \"enddate\": end_date,\n",
    "    \"q\": location_list[0],\n",
    "}"
   ]
  },
  {
   "cell_type": "code",
   "execution_count": null,
   "id": "3cee5909-53ac-40bd-bc0f-d892d4d954eb",
   "metadata": {},
   "outputs": [],
   "source": [
    "dict([[1,2],[2,3]])"
   ]
  },
  {
   "cell_type": "code",
   "execution_count": null,
   "id": "46db8130-088f-4a44-8554-5bddc6a0ff7b",
   "metadata": {},
   "outputs": [],
   "source": [
    "response = requests.get(\n",
    "    f\"https://api.worldweatheronline.com/premium/v1/past-weather.ashx?key={api_key}&date={start_date}&enddate={end_date}&q={location_list[0]}&tp=1&format=json&includelocation=yes\"\n",
    ")"
   ]
  },
  {
   "cell_type": "code",
   "execution_count": null,
   "id": "59de637d",
   "metadata": {},
   "outputs": [],
   "source": [
    "response.content"
   ]
  },
  {
   "cell_type": "code",
   "execution_count": null,
   "id": "8b70934a",
   "metadata": {},
   "outputs": [],
   "source": [
    "daily_weather_vars=['date','maxtempC', 'maxtempF', 'mintempC', 'mintempF',\n",
    "       'avgtempC', 'avgtempF', 'totalSnow_cm', 'sunHour', 'uvIndex', ]\n",
    "astronomy_vars=['sunrise', 'sunset', 'moonrise', 'moonset', 'moon_phase', 'moon_illumination']\n",
    "hourly_vars=['time', 'tempC', 'tempF', 'windspeedMiles', 'windspeedKmph', 'winddirDegree', 'winddir16Point', 'weatherCode', 'weatherDesc', 'precipMM', 'precipInches', 'humidity', 'visibility', 'visibilityMiles', 'pressure', 'pressureInches', 'cloudcover', 'HeatIndexC', 'HeatIndexF', 'DewPointC', 'DewPointF', 'WindChillC', 'WindChillF', 'WindGustMiles', 'WindGustKmph', 'FeelsLikeC', 'FeelsLikeF', 'uvIndex']\n",
    "extract_weather_desc=False\n",
    "if 'weatherDesc' in hourly_vars:\n",
    "       hourly_vars=[x for x in hourly_vars if x != 'weatherDesc']\n",
    "       extract_weather_desc=True"
   ]
  },
  {
   "cell_type": "code",
   "execution_count": null,
   "id": "1b6ffab5",
   "metadata": {},
   "outputs": [],
   "source": [
    "mydict={'locations': ['02459'],\n",
    "'api_key': \"cbcffe5648e04b07afa203548241202\"  ,\n",
    "'entry_point': \"https://api.worldweatheronline.com/premium/v1/past-weather.ashx\"  ,\n",
    "'start_date' : \"01-JAN-2020\" ,\n",
    "'end_date' : \"31-DEC-2022\" ,\n",
    "'timeout_seconds': 30,\n",
    "'frequency' : 24 ,\n",
    "'daily_weather_variables':['date','maxtempC', 'maxtempF', 'mintempC', 'mintempF',\n",
    "       'avgtempC', 'avgtempF', 'totalSnow_cm', 'sunHour', 'uvIndex', ]}"
   ]
  },
  {
   "cell_type": "code",
   "execution_count": null,
   "id": "d105aedc",
   "metadata": {},
   "outputs": [],
   "source": [
    "from schema import Schema, And, Use, Optional, SchemaError\n",
    "import yaml\n",
    "import validators\n",
    "schema = Schema(\n",
    "        {\n",
    "            'locations': And(list, lambda x: all([isinstance(xx,str) for x in xx])),\n",
    "            'api_key': And(str),\n",
    "            Optional('entry_point',default='https://api.worldweatheronline.com/premium/v1/past-weather.ashx'): And(str,lambda x : validators.url(x)),\n",
    "            'end_date': And(str,lambda x: len(x)==11),\n",
    "            'start_date': And(str,lambda x: len(x)==11),\n",
    "            Optional('timeout_seconds',default=30): And(int, lambda t: t>0),\n",
    "            Optional('frequency',default=1): And(lambda f : f in [1, 3, 6, 12, 24],int),\n",
    "            'daily_weather_variables': And(list, lambda x: all([xx in ['date','maxtempC', 'maxtempF', 'mintempC', 'mintempF','avgtempC', 'avgtempF', 'totalSnow_cm', 'sunHour', 'uvIndex'] for xx in x]) ),\n",
    "            'astronomy_variables': And(list, lambda x: all([xx in ['sunrise', 'sunset', 'moonrise', 'moonset', 'moon_phase', 'moon_illumination'] for xx in x]) ),\n",
    "            'hourly_variables': And(list, lambda x: all([xx in ['time', 'tempC', 'tempF', 'windspeedMiles', 'windspeedKmph', 'winddirDegree', 'winddir16Point', 'weatherCode', 'weatherDesc', 'precipMM', 'precipInches', 'humidity', 'visibility', 'visibilityMiles', 'pressure', 'pressureInches', 'cloudcover', 'HeatIndexC', 'HeatIndexF', 'DewPointC', 'DewPointF', 'WindChillC', 'WindChillF', 'WindGustMiles', 'WindGustKmph', 'FeelsLikeC', 'FeelsLikeF', 'uvIndex'] for xx in x]) )\n",
    "        }\n",
    "    )"
   ]
  },
  {
   "cell_type": "code",
   "execution_count": null,
   "id": "202159f1-f431-40f5-b71d-5211f475110c",
   "metadata": {},
   "outputs": [],
   "source": []
  },
  {
   "cell_type": "code",
   "execution_count": null,
   "id": "f50f5089-1baf-40f2-8282-f8756ed879d7",
   "metadata": {},
   "outputs": [],
   "source": [
    "df"
   ]
  },
  {
   "cell_type": "code",
   "execution_count": null,
   "id": "8f12e9b5-7f85-4ff6-8a3b-92093ab9dacb",
   "metadata": {},
   "outputs": [],
   "source": [
    "\n",
    "\n",
    "weather=json.loads(response.content.decode('utf-8'))['data']['weather']\n",
    "\n",
    "weather_list=[]\n",
    "\n",
    "for i in range(len(weather)):\n",
    "    weather_dict={k : weather[i][k] for k in tuple(daily_weather_vars)}\n",
    "    weather_dict.update({k : weather[i]['astronomy'][0][k] for k in tuple(astronomy_vars)})\n",
    "    for h in range(len(weather[i]['hourly'])):\n",
    "        weather_dict.update({k : weather[i]['hourly'][h][k] for k in tuple(hourly_vars)})\n",
    "        if extract_weather_desc:\n",
    "            weather_dict.update({'weatherDesc':weather[i]['hourly'][h]['weatherDesc'][0]['value']})\n",
    "        weather_list.append(weather_dict.copy())\n",
    "weather_df=pd.DataFrame(weather_list)\n",
    "\n"
   ]
  },
  {
   "cell_type": "code",
   "execution_count": null,
   "id": "614151cb",
   "metadata": {},
   "outputs": [],
   "source": [
    "weather_df.date.value_counts()"
   ]
  },
  {
   "cell_type": "code",
   "execution_count": null,
   "id": "5e0104b7-d2a1-4b82-b9bf-ebe084a37222",
   "metadata": {},
   "outputs": [],
   "source": [
    "with open(\"/Users/lindseygulden/dev/leg-up/data/newton_tp1.json\", \"wb\") as fd:\n",
    "    for chunk in response.iter_content(chunk_size=128):\n",
    "        fd.write(chunk)"
   ]
  },
  {
   "cell_type": "code",
   "execution_count": null,
   "id": "a8151dec",
   "metadata": {},
   "outputs": [],
   "source": [
    "# df = pd.read_json(\"/Users/lindseygulden/dev/leg-up/data/newton_tp24.json\")\n",
    "df = pd.read_json(\"/Users/lindseygulden/dev/leg-up/data/newton_tp1.json\")\n",
    "df"
   ]
  },
  {
   "cell_type": "code",
   "execution_count": null,
   "id": "e1254fda-1381-4240-a9b3-96a31a4b0af1",
   "metadata": {},
   "outputs": [],
   "source": [
    "h_list=[]\n",
    "w_list=[]\n",
    "n_entries=len(df.loc['weather',]['data'])\n",
    "for d in range(n_entries):\n",
    "    w_list.append(df.loc['weather',]['data'][d])\n",
    "\n",
    "all_weather_df=pd.DataFrame(w_list)\n",
    "forecast_vars=['date','maxtempF','mintempF','avgtempF','totalSnow_cm','sunHour','uvIndex']\n"
   ]
  },
  {
   "cell_type": "code",
   "execution_count": null,
   "id": "8fcb9f89-1387-4ed2-9cdd-67fbabaf291e",
   "metadata": {},
   "outputs": [],
   "source": [
    "n_hours=all_weather_df.loc[0,'hourly']"
   ]
  },
  {
   "cell_type": "code",
   "execution_count": null,
   "id": "32c03c33-790a-416e-85a9-2c71725bc39a",
   "metadata": {},
   "outputs": [],
   "source": [
    "import yaml\n",
    "with open('/Users/lindseygulden/dev/leg-up/projects/weather/config/data_description.yml','r') as f:\n",
    "    try:\n",
    "        tmp=yaml.safe_load(f)    \n",
    "    except yaml.YAMLError as e:\n",
    "        print(e)\n"
   ]
  },
  {
   "cell_type": "code",
   "execution_count": null,
   "id": "04d461c9-b185-4381-be74-2bb03908cab0",
   "metadata": {},
   "outputs": [],
   "source": [
    "import yaml\n",
    "import datetime as dt\n",
    "with open('../../test.yml','w') as f:\n",
    "    yaml.dump({'d':{'first':dt.datetime(2001,1,1)}},f,default_flow_style=False)"
   ]
  },
  {
   "cell_type": "code",
   "execution_count": null,
   "id": "5b29b4fa-f630-42d7-9973-3d835fafa07c",
   "metadata": {},
   "outputs": [],
   "source": [
    "\n",
    "with open('../../config.yml', 'w') as outfile:\n",
    "    yaml.dump(hourly[0], outfile, default_flow_style=False)\n",
    "    \n"
   ]
  },
  {
   "cell_type": "code",
   "execution_count": null,
   "id": "f11349ab-8d42-4e12-a382-e7f625b80c0c",
   "metadata": {},
   "outputs": [],
   "source": [
    "daily_weather_vars=['date','maxtempC', 'maxtempF', 'mintempC', 'mintempF',\n",
    "       'avgtempC', 'avgtempF', 'totalSnow_cm', 'sunHour', 'uvIndex', ]\n",
    "astronomy_vars={'sunrise':'sunrise_local_time', 'sunset':'sunset_local_time', 'moonrise':'moonrise_local_time', \n",
    "                'moonset':'moonset_local_time', 'moon_phase':'moon_phase', 'moon_illumination':'moon_illumination'}\n",
    "hourly_vars=['time', 'tempC', 'tempF', 'windspeedMiles', 'windspeedKmph', 'winddirDegree', 'winddir16Point', 'weatherCode', 'weatherDesc', 'precipMM', 'precipInches', 'humidity', 'visibility', 'visibilityMiles', 'pressure', 'pressureInches', 'cloudcover', 'HeatIndexC', 'HeatIndexF', 'DewPointC', 'DewPointF', 'WindChillC', 'WindChillF', 'WindGustMiles', 'WindGustKmph', 'FeelsLikeC', 'FeelsLikeF', 'uvIndex']\n"
   ]
  },
  {
   "cell_type": "code",
   "execution_count": null,
   "id": "ab18892c-0785-41cb-8111-07a285dea9db",
   "metadata": {},
   "outputs": [],
   "source": [
    "all_weather_df.loc[0,'astronomy']"
   ]
  },
  {
   "cell_type": "code",
   "execution_count": null,
   "id": "8f4be1e8",
   "metadata": {},
   "outputs": [],
   "source": [
    "\n",
    "h_list=[]\n",
    "w_list=[]\n",
    "for d in range(35):\n",
    "    w_list.append(df.loc['weather',]['data'][d])\n",
    "\n",
    "all_weather_df=pd.DataFrame(w_list)\n",
    "forecast_vars=['date','maxtempC', 'mintempC', 'avgtempC','maxtempF','mintempF','avgtempF','totalSnow_cm','sunHour','uvIndex']\n",
    "forecast_df=all_weather_df[forecast_vars]\n",
    "\n",
    "\n",
    "for d in range(35):\n",
    "    hourly=all_weather_df.loc[d,'hourly']\n",
    "    astronomy=all_weather_df.loc[d,'astronomy'][0]\n",
    "    today_date=all_weather_df.loc[d,'date']\n",
    "    for hour in hourly:\n",
    "        # add daily variables to hourly variables\n",
    "        for v in astronomy_vars:\n",
    "            hour[v]=astronomy[v]\n",
    "        for v in forecast_vars:\n",
    "            hour[v]=all_weather_df.loc[d,v]\n",
    "        h_list.append(hour)\n",
    "hourly_df=pd.DataFrame(h_list)\n",
    "hourly_df=hourly_df[daily_weather_vars+hourly_vars]"
   ]
  },
  {
   "cell_type": "code",
   "execution_count": null,
   "id": "02120edd-871d-4ff4-ab15-cc0f1693ddbc",
   "metadata": {},
   "outputs": [],
   "source": [
    "hourly_df"
   ]
  },
  {
   "cell_type": "code",
   "execution_count": null,
   "id": "2ff3e133",
   "metadata": {},
   "outputs": [],
   "source": [
    "config = yaml_to_dict(\n",
    "    \"/Users/lindseygulden/dev/leg-up/config/weather/newton_weather.yml\"\n",
    ")"
   ]
  },
  {
   "cell_type": "code",
   "execution_count": null,
   "id": "54a89b3f",
   "metadata": {},
   "outputs": [],
   "source": [
    "hourly_df.date"
   ]
  },
  {
   "cell_type": "code",
   "execution_count": null,
   "id": "2b55f063",
   "metadata": {},
   "outputs": [],
   "source": []
  },
  {
   "cell_type": "code",
   "execution_count": null,
   "id": "a8d4f96a",
   "metadata": {},
   "outputs": [],
   "source": [
    "all_weather_df.loc[0, forecast_vars]"
   ]
  },
  {
   "cell_type": "code",
   "execution_count": null,
   "id": "9e487acb",
   "metadata": {},
   "outputs": [],
   "source": [
    "all_weather_df.loc[0, \"hourly\"]"
   ]
  },
  {
   "cell_type": "code",
   "execution_count": null,
   "id": "698630d0",
   "metadata": {},
   "outputs": [],
   "source": [
    "hourly_df.loc"
   ]
  },
  {
   "cell_type": "code",
   "execution_count": null,
   "id": "1adc5cdf",
   "metadata": {},
   "outputs": [],
   "source": [
    "for i in hourly_df.columns.values:\n",
    "    print(f\"   - '{i}'\")"
   ]
  },
  {
   "cell_type": "code",
   "execution_count": null,
   "id": "2bf43cae",
   "metadata": {},
   "outputs": [],
   "source": [
    "import sys\n",
    "\n",
    "print(sys.path)"
   ]
  },
  {
   "cell_type": "markdown",
   "id": "0ff92234",
   "metadata": {},
   "source": [
    "import sys\n",
    "print(sys.path)"
   ]
  },
  {
   "cell_type": "code",
   "execution_count": null,
   "id": "90fcc719",
   "metadata": {},
   "outputs": [],
   "source": [
    "from projects.utils.io import yaml_to_dict"
   ]
  },
  {
   "cell_type": "code",
   "execution_count": null,
   "id": "406b0233",
   "metadata": {},
   "outputs": [],
   "source": [
    "tmp = pd.DataFrame(w_list)\n",
    "len(tmp.loc[0, \"hourly\"])"
   ]
  },
  {
   "cell_type": "code",
   "execution_count": null,
   "id": "898295b2",
   "metadata": {},
   "outputs": [],
   "source": []
  }
 ],
 "metadata": {
  "kernelspec": {
   "display_name": "projects-rCMx4yDZ-py3.11",
   "language": "python",
   "name": "projects-rcmx4ydz-py3.11"
  },
  "language_info": {
   "codemirror_mode": {
    "name": "ipython",
    "version": 3
   },
   "file_extension": ".py",
   "mimetype": "text/x-python",
   "name": "python",
   "nbconvert_exporter": "python",
   "pygments_lexer": "ipython3",
   "version": "3.11.4"
  }
 },
 "nbformat": 4,
 "nbformat_minor": 5
}
