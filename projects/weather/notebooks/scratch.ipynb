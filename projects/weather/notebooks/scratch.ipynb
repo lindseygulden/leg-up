{
 "cells": [
  {
   "cell_type": "code",
   "execution_count": null,
   "id": "7c674e8b-6865-4797-ad96-1588c743308b",
   "metadata": {},
   "outputs": [],
   "source": [
    "import requests\n",
    "\n",
    "import json\n",
    "import pandas as pd"
   ]
  },
  {
   "cell_type": "code",
   "execution_count": null,
   "id": "84894f45-1a8c-483a-a087-633012b998a8",
   "metadata": {},
   "outputs": [],
   "source": [
    "api_key = \"ceeeafe461a449d3a3d204410232607\"  # API key obtained from https://www.worldweatheronline.com/\n",
    "location_list = [\n",
    "    \"02459\"\n",
    "]  # list of strings containg US Zipcode, UK Postcode, Canada Postalcode, IP address, Latitude/Longitude (decimal degree) or city name\n",
    "start_date = \"01-JAN-2020\"  # date when desired scraping period starts; preferred date format: 'dd-MMM-yyyy', e.g., '01-JAN-2020'\n",
    "end_date = \"31-DEC-2022\"  # date when desired scraping period ends; preferred date format: 'dd-MMM-yyyy\n",
    "frequency = 24  # frequency between observations; possible values 1 (1 hour), 3 (3 hours), 6 (6 hours), 12 (12 hours (day/night)) or 24 (daily averages)"
   ]
  },
  {
   "cell_type": "code",
   "execution_count": null,
   "id": "d147ea82",
   "metadata": {},
   "outputs": [],
   "source": [
    "import datetime as dt\n",
    "from dateutil.relativedelta import relativedelta"
   ]
  },
  {
   "cell_type": "code",
   "execution_count": null,
   "id": "c28ab707",
   "metadata": {},
   "outputs": [],
   "source": [
    "dt.datetime.strftime(dt.datetime.today(), \"%d-%b-%Y\").upper().title()"
   ]
  },
  {
   "cell_type": "code",
   "execution_count": null,
   "id": "dba5a17e",
   "metadata": {},
   "outputs": [],
   "source": [
    "import datetime as dt\n",
    "from projects.weather.get_local_weather_history import split_date_range\n",
    "\n",
    "\n",
    "dt_start = dt.datetime(1215, 6, 15)\n",
    "dt_end = dt.datetime(1216, 1, 22)\n",
    "split_date_range(dt_start, dt_end)\n",
    "[\n",
    "    \"15-JUN-1215\",\n",
    "    \"01-JUL-1215\",\n",
    "    \"01-AUG-1215\",\n",
    "    \"01-SEP-1215\",\n",
    "    \"01-OCT-1215\",\n",
    "    \"01-NOV-1215\",\n",
    "    \"01-DEC-1215\",\n",
    "    \"01-JAN-1216\",\n",
    "    \"22-JAN-1216\",\n",
    "]"
   ]
  },
  {
   "cell_type": "code",
   "execution_count": null,
   "id": "dce335d2-1676-461e-8557-b35412bd093b",
   "metadata": {},
   "outputs": [],
   "source": [
    "payload = {\n",
    "    \"key\": api_key,\n",
    "    \"date\": start_date,\n",
    "    \"enddate\": end_date,\n",
    "    \"q\": location_list[0],\n",
    "}"
   ]
  },
  {
   "cell_type": "code",
   "execution_count": null,
   "id": "46db8130-088f-4a44-8554-5bddc6a0ff7b",
   "metadata": {},
   "outputs": [],
   "source": [
    "response = requests.get(\n",
    "    f\"https://api.worldweatheronline.com/premium/v1/past-weather.ashx?key={api_key}&date={start_date}&enddate={end_date}&q={location_list[0]}&tp=1&format=json&includelocation=yes\"\n",
    ")"
   ]
  },
  {
   "cell_type": "code",
   "execution_count": null,
   "id": "8f12e9b5-7f85-4ff6-8a3b-92093ab9dacb",
   "metadata": {},
   "outputs": [],
   "source": [
    "response.headers"
   ]
  },
  {
   "cell_type": "code",
   "execution_count": null,
   "id": "5e0104b7-d2a1-4b82-b9bf-ebe084a37222",
   "metadata": {},
   "outputs": [],
   "source": [
    "with open(\"/Users/lindseygulden/dev/leg-up/data/newton_tp1.json\", \"wb\") as fd:\n",
    "    for chunk in response.iter_content(chunk_size=128):\n",
    "        fd.write(chunk)"
   ]
  },
  {
   "cell_type": "code",
   "execution_count": null,
   "id": "a8151dec",
   "metadata": {},
   "outputs": [],
   "source": [
    "# df = pd.read_json(\"/Users/lindseygulden/dev/leg-up/data/newton_tp24.json\")\n",
    "df = pd.read_json(\"/Users/lindseygulden/dev/leg-up/data/newton_tp1.json\")"
   ]
  },
  {
   "cell_type": "code",
   "execution_count": null,
   "id": "db192a4a",
   "metadata": {},
   "outputs": [],
   "source": [
    "forecast_df"
   ]
  },
  {
   "cell_type": "code",
   "execution_count": null,
   "id": "8f4be1e8",
   "metadata": {},
   "outputs": [],
   "source": [
    "\n",
    "h_list=[]\n",
    "w_list=[]\n",
    "for d in range(35):\n",
    "    w_list.append(df.loc['weather',]['data'][d])\n",
    "\n",
    "all_weather_df=pd.DataFrame(w_list)\n",
    "forecast_vars=['date','maxtempF','mintempF','avgtempF','totalSnow_cm','sunHour','uvIndex']\n",
    "forecast_df=all_weather_df[forecast_vars]\n",
    "\n",
    "hourly_vars=\n",
    "\n",
    "for d in range(35):\n",
    "    hourly=all_weather_df.loc[d,'hourly']\n",
    "    today_date=all_weather_df.loc[d,'date']\n",
    "    for h in range(len(hourly)):\n",
    "        for v in forecast_vars:\n",
    "            hourly[h][v]=all_weather_df.loc[d,v]\n",
    "        h_list.append(hourly[h])\n",
    "hourly_df=pd.DataFrame(h_list)"
   ]
  },
  {
   "cell_type": "markdown",
   "id": "a41d5a7b",
   "metadata": {},
   "source": []
  },
  {
   "cell_type": "code",
   "execution_count": null,
   "id": "2ff3e133",
   "metadata": {},
   "outputs": [],
   "source": [
    "config = yaml_to_dict(\n",
    "    \"/Users/lindseygulden/dev/leg-up/config/weather/newton_weather.yml\"\n",
    ")"
   ]
  },
  {
   "cell_type": "code",
   "execution_count": null,
   "id": "54a89b3f",
   "metadata": {},
   "outputs": [],
   "source": []
  },
  {
   "cell_type": "code",
   "execution_count": null,
   "id": "2b55f063",
   "metadata": {},
   "outputs": [],
   "source": []
  },
  {
   "cell_type": "code",
   "execution_count": null,
   "id": "a8d4f96a",
   "metadata": {},
   "outputs": [],
   "source": [
    "all_weather_df.loc[0, forecast_vars]"
   ]
  },
  {
   "cell_type": "code",
   "execution_count": null,
   "id": "9e487acb",
   "metadata": {},
   "outputs": [],
   "source": [
    "all_weather_df.loc[0, \"hourly\"]"
   ]
  },
  {
   "cell_type": "code",
   "execution_count": null,
   "id": "698630d0",
   "metadata": {},
   "outputs": [],
   "source": [
    "hourly_df.loc"
   ]
  },
  {
   "cell_type": "code",
   "execution_count": null,
   "id": "1adc5cdf",
   "metadata": {},
   "outputs": [],
   "source": [
    "for i in hourly_df.columns.values:\n",
    "    print(f\"   - '{i}'\")"
   ]
  },
  {
   "cell_type": "code",
   "execution_count": null,
   "id": "2bf43cae",
   "metadata": {},
   "outputs": [],
   "source": [
    "import sys\n",
    "\n",
    "print(sys.path)"
   ]
  },
  {
   "cell_type": "markdown",
   "id": "0ff92234",
   "metadata": {},
   "source": [
    "import sys\n",
    "print(sys.path)"
   ]
  },
  {
   "cell_type": "code",
   "execution_count": null,
   "metadata": {},
   "outputs": [],
   "source": [
    "from projects.utils.io import yaml_to_dict"
   ]
  },
  {
   "cell_type": "code",
   "execution_count": null,
   "id": "406b0233",
   "metadata": {},
   "outputs": [],
   "source": [
    "tmp = pd.DataFrame(w_list)\n",
    "len(tmp.loc[0, \"hourly\"])"
   ]
  },
  {
   "cell_type": "code",
   "execution_count": null,
   "id": "882dae64",
   "metadata": {},
   "outputs": [],
   "source": []
  }
 ],
 "metadata": {
  "kernelspec": {
   "display_name": "projects-rCMx4yDZ-py3.11",
   "language": "python",
   "name": "python3"
  },
  "language_info": {
   "codemirror_mode": {
    "name": "ipython",
    "version": 3
   },
   "file_extension": ".py",
   "mimetype": "text/x-python",
   "name": "python",
   "nbconvert_exporter": "python",
   "pygments_lexer": "ipython3",
   "version": "3.11.4"
  }
 },
 "nbformat": 4,
 "nbformat_minor": 5
}
