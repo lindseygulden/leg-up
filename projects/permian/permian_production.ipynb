{
 "cells": [
  {
   "cell_type": "markdown",
   "metadata": {},
   "source": [
    "# ExxonMobil Permian Production in Texas and New Mexico"
   ]
  },
  {
   "cell_type": "code",
   "execution_count": 2,
   "metadata": {},
   "outputs": [
    {
     "name": "stdout",
     "output_type": "stream",
     "text": [
      "The jupyter_black extension is already loaded. To reload it, use:\n",
      "  %reload_ext jupyter_black\n"
     ]
    }
   ],
   "source": [
    "import pandas as pd\n",
    "\n",
    "import warnings\n",
    "\n",
    "warnings.filterwarnings(\"ignore\")\n",
    "%load_ext jupyter_black"
   ]
  },
  {
   "cell_type": "code",
   "execution_count": 26,
   "metadata": {},
   "outputs": [],
   "source": [
    "# get the cleaned data (see clean_data.py; detail on data source and assumptions in README.md)\n",
    "tx_df = pd.read_csv(\n",
    "    \"/Users/lindseygulden/dev/leg-up-private/texas_rrc_district_level_oil_and_gas_production_by_month_and_operator.csv\",\n",
    ")\n",
    "nm_df = pd.read_csv(\n",
    "    \"/Users/lindseygulden/dev/leg-up-private/nm_ocd_statewide_oil_and_gas_production_by_month_and_operator.csv\"\n",
    ")"
   ]
  },
  {
   "cell_type": "markdown",
   "metadata": {},
   "source": [
    "# Check our methods by doing an apples-to-apples comparison between our assembled queried data and ExxonMobil's public statements.\n",
    "### Compute 'Permian total' MBOE/day rate for the first 9 months of 2023 (which is what is referenced by the XOM press release on Oct 11, 2023)\n",
    "[ExxonMobil Announces Merger with Pioneer Natural Resources: press release 10/11/2023](https://investor.exxonmobil.com/news-events/press-releases/detail/1147/exxonmobil-announces-merger-with-pioneer-natural-resources)\n",
    "\n",
    "\"At close, ExxonMobil’s Permian production volume would more than double to 1.3 million barrels of oil equivalent per day (MOEBD), based on 2023 volumes, and is expected to increase to approximately 2 MOEBD in 2027.\""
   ]
  },
  {
   "cell_type": "code",
   "execution_count": 43,
   "metadata": {},
   "outputs": [
    {
     "name": "stdout",
     "output_type": "stream",
     "text": [
      "For the first 9 months of 2023, ahead of XOM press release on Oct 13, 2023, the rate of Permian production was: 1.3 Mboe/day.\n"
     ]
    }
   ],
   "source": [
    "# Find production totals, in units of MBOE per day, for each operator in Texas and New Mexico for first 9 months of 2023 (ahead of XOM press release)\n",
    "Mboe_per_day = (\n",
    "    nm_df[[\"boe\"]]\n",
    "    .loc[(nm_df.year == 2023) & (nm_df.month < 10) & (nm_df.permian == 1)]\n",
    "    .sum()[\"boe\"]\n",
    "    + tx_df[[\"boe\"]]\n",
    "    .loc[(tx_df.year == 2023) & (tx_df.month < 10) & (tx_df.permian == 1)]\n",
    "    .sum()[\"boe\"]\n",
    ") / (\n",
    "    273 * 1e6\n",
    ")  # 273 days in the first 9 months of 2023; 1e6 to convert to millions of boe per day\n",
    "\n",
    "print(\n",
    "    f\"For the first 9 months of 2023, ahead of XOM press release on Oct 13, 2023, the rate of Permian production was: {Mboe_per_day:.1f} Mboe/day.\"\n",
    ")"
   ]
  },
  {
   "cell_type": "code",
   "execution_count": 45,
   "metadata": {},
   "outputs": [
    {
     "data": {
      "text/plain": [
       "274091.623880597"
      ]
     },
     "execution_count": 45,
     "metadata": {},
     "output_type": "execute_result"
    }
   ],
   "source": [
    "\n",
    "\n",
    "oil_bbl_per_day"
   ]
  },
  {
   "cell_type": "code",
   "execution_count": 46,
   "metadata": {},
   "outputs": [
    {
     "name": "stdout",
     "output_type": "stream",
     "text": [
      "In 2024 (Jan-Nov), the rate of Permian oil production from ExxonMobil's non-Pioneer Permian assets was: 274092 bbl/day.\n"
     ]
    }
   ],
   "source": [
    "# Now compute 2024 production of the non-Pioneer Permian assets, in units of bbls of oil produced per day. (That is, neglect BOE conversions of gas.)\n",
    "\n",
    "oil_bbl_per_day = (\n",
    "    nm_df[[\"oil_bbl\"]]\n",
    "    .loc[(nm_df.year == 2024) & (nm_df.pre_pioneer == 1) & (nm_df.permian == 1)]\n",
    "    .sum()[\"oil_bbl\"]\n",
    "    + tx_df[[\"oil_bbl\"]]\n",
    "    .loc[(tx_df.year == 2024) & (tx_df.pre_pioneer == 1) & (tx_df.permian == 1)]\n",
    "    .sum()[\"oil_bbl\"]\n",
    ") / 335  # 335 days in the first 11 months of leap year 2024;\n",
    "\n",
    "print(\n",
    "    f\"In 2024 (Jan-Nov), the rate of Permian oil production from ExxonMobil's non-Pioneer Permian assets was: {oil_bbl_per_day:.0f} bbl/day.\"\n",
    ")"
   ]
  },
  {
   "cell_type": "code",
   "execution_count": null,
   "metadata": {},
   "outputs": [],
   "source": []
  }
 ],
 "metadata": {
  "kernelspec": {
   "display_name": "projects-7_KjhAaO-py3.12",
   "language": "python",
   "name": "python3"
  },
  "language_info": {
   "codemirror_mode": {
    "name": "ipython",
    "version": 3
   },
   "file_extension": ".py",
   "mimetype": "text/x-python",
   "name": "python",
   "nbconvert_exporter": "python",
   "pygments_lexer": "ipython3",
   "version": "3.12.6"
  }
 },
 "nbformat": 4,
 "nbformat_minor": 2
}
