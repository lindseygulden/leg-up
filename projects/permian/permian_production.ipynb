{
 "cells": [
  {
   "cell_type": "markdown",
   "metadata": {},
   "source": [
    "# ExxonMobil Permian Production in Texas and New Mexico"
   ]
  },
  {
   "cell_type": "code",
   "execution_count": 159,
   "metadata": {},
   "outputs": [
    {
     "name": "stdout",
     "output_type": "stream",
     "text": [
      "The jupyter_black extension is already loaded. To reload it, use:\n",
      "  %reload_ext jupyter_black\n"
     ]
    }
   ],
   "source": [
    "import pandas as pd\n",
    "\n",
    "import warnings\n",
    "\n",
    "warnings.filterwarnings(\"ignore\")\n",
    "%load_ext jupyter_black"
   ]
  },
  {
   "cell_type": "code",
   "execution_count": 160,
   "metadata": {},
   "outputs": [],
   "source": [
    "# get the cleaned data (see clean_data.py; detail on data source and assumptions in README.md)\n",
    "tx_df = pd.read_csv(\n",
    "    \"/Users/lindseygulden/dev/leg-up-private/texas_rrc_district_level_oil_and_gas_production_by_month_and_operator.csv\",\n",
    ")\n",
    "nm_df = pd.read_csv(\n",
    "    \"/Users/lindseygulden/dev/leg-up-private/nm_ocd_statewide_oil_and_gas_production_by_month_and_operator.csv\"\n",
    ")"
   ]
  },
  {
   "cell_type": "markdown",
   "metadata": {},
   "source": [
    "# Check our methods by doing an apples-to-apples comparison between our assembled queried data and ExxonMobil's public statements.\n",
    "### Compute 'Permian total' MBOE/day rate for the first 9 months of 2023 (which is what is referenced by the XOM press release on Oct 11, 2023)\n",
    "[ExxonMobil Announces Merger with Pioneer Natural Resources: press release 10/11/2023](https://investor.exxonmobil.com/news-events/press-releases/detail/1147/exxonmobil-announces-merger-with-pioneer-natural-resources)\n",
    "\n",
    "\"At close, ExxonMobil’s Permian production volume would more than double to 1.3 million barrels of oil equivalent per day (MOEBD), based on 2023 volumes, and is expected to increase to approximately 2 MOEBD in 2027.\""
   ]
  },
  {
   "cell_type": "code",
   "execution_count": 161,
   "metadata": {},
   "outputs": [
    {
     "name": "stdout",
     "output_type": "stream",
     "text": [
      "For the first 9 months of 2023, ahead of XOM press release on Oct 13, 2023, the rate of Permian production was: 1.3 Mboe/day.\n"
     ]
    }
   ],
   "source": [
    "# Find production totals, in units of MBOE per day, for each operator in Texas and New Mexico for first 9 months of 2023 (ahead of XOM press release)\n",
    "nm_tmp_df = (\n",
    "    nm_df[[\"state\", \"boe\", \"operator\", \"n_days\"]]\n",
    "    .loc[(nm_df.year == 2023) & (nm_df.month < 10)]\n",
    "    .groupby([\"state\", \"operator\"])\n",
    "    .sum()\n",
    ").reset_index()\n",
    "tx_tmp_df = (\n",
    "    tx_df[[\"state\", \"boe\", \"operator\", \"district\", \"n_days\"]]\n",
    "    .loc[(tx_df.year == 2023) & (tx_df.month < 10)]\n",
    "    .groupby([\"state\", \"operator\", \"district\"])\n",
    "    .sum()\n",
    "    .reset_index()\n",
    "    .groupby([\"state\", \"operator\"])\n",
    "    .agg({\"boe\": \"sum\", \"n_days\": \"mean\"})\n",
    ").reset_index()\n",
    "\n",
    "# concatenate tx and nm\n",
    "both_states_df = pd.concat([nm_tmp_df, tx_tmp_df])\n",
    "\n",
    "# sum total production (units BOE/day) for permian across XTO and Pioneer for first nine months of year\n",
    "production_before_10_2023_df = both_states_df.loc[\n",
    "    (both_states_df.state == \"TX\")\n",
    "    | (both_states_df.operator == \"XTO PERMIAN OPERATING LLC.\")\n",
    "].agg({\"boe\": \"sum\", \"n_days\": \"mean\"})\n",
    "\n",
    "# compute BOE/day rate\n",
    "mboe_rate = (\n",
    "    production_before_10_2023_df[\"boe\"] / production_before_10_2023_df[\"n_days\"]\n",
    ") / 1e6\n",
    "\n",
    "print(\n",
    "    f\"For the first 9 months of 2023, ahead of XOM press release on Oct 13, 2023, the rate of Permian production was: {mboe_rate:.1f} Mboe/day.\"\n",
    ")"
   ]
  },
  {
   "cell_type": "code",
   "execution_count": 163,
   "metadata": {},
   "outputs": [
    {
     "name": "stdout",
     "output_type": "stream",
     "text": [
      "In 2024 (Jan-Nov), the rate of Permian oil production from ExxonMobil's non-Pioneer Permian assets was: 274092 bbl/day.\n"
     ]
    }
   ],
   "source": [
    "# Now compute 2024 production of the non-Pioneer Permian assets, in units of bbls of oil produced per day. (That is, neglect BOE conversions of gas.)\n",
    "\n",
    "# align column names for produced oil\n",
    "nm_df.rename(columns={\"oil_produced_bbl\": \"oil_bbl\"}, inplace=True)\n",
    "\n",
    "nm_tmp_df = (\n",
    "    nm_df[[\"state\", \"oil_bbl\", \"operator\", \"n_days\"]]\n",
    "    .loc[(nm_df.year == 2024)]\n",
    "    .groupby([\"state\", \"operator\"])\n",
    "    .sum()\n",
    ").reset_index()\n",
    "tx_tmp_df = (\n",
    "    tx_df[[\"state\", \"oil_bbl\", \"operator\", \"district\", \"n_days\"]]\n",
    "    .loc[(tx_df.year == 2024)]\n",
    "    .groupby([\"state\", \"operator\", \"district\"])\n",
    "    .sum()\n",
    "    .reset_index()\n",
    "    .groupby([\"state\", \"operator\"])\n",
    "    .agg({\"oil_bbl\": \"sum\", \"n_days\": \"mean\"})\n",
    ").reset_index()\n",
    "\n",
    "# concatenate tx and nm\n",
    "both_states_df = pd.concat([nm_tmp_df, tx_tmp_df])\n",
    "\n",
    "# sum 2024 production (units bbl oil/day) for permian across XTO ENERGY in Texas and XTO PERMIAN OPERATING LLC in NM (i.e., the historical Permian acreage)\n",
    "production_2024_df = both_states_df.loc[\n",
    "    ((both_states_df.state == \"TX\") & (both_states_df.operator == \"XTO ENERGY INC.\"))\n",
    "    | (both_states_df.operator == \"XTO PERMIAN OPERATING LLC.\")\n",
    "].agg({\"oil_bbl\": \"sum\", \"n_days\": \"mean\"})\n",
    "\n",
    "# compute bbl oil/day rate for 2024\n",
    "bbl_per_day_rate = production_2024_df[\"oil_bbl\"] / production_2024_df[\"n_days\"]\n",
    "\n",
    "print(\n",
    "    f\"In 2024 (Jan-Nov), the rate of Permian oil production from ExxonMobil's non-Pioneer Permian assets was: {bbl_per_day_rate:.0f} bbl/day.\"\n",
    ")"
   ]
  }
 ],
 "metadata": {
  "kernelspec": {
   "display_name": "projects-7_KjhAaO-py3.12",
   "language": "python",
   "name": "python3"
  },
  "language_info": {
   "codemirror_mode": {
    "name": "ipython",
    "version": 3
   },
   "file_extension": ".py",
   "mimetype": "text/x-python",
   "name": "python",
   "nbconvert_exporter": "python",
   "pygments_lexer": "ipython3",
   "version": "3.12.6"
  }
 },
 "nbformat": 4,
 "nbformat_minor": 2
}
