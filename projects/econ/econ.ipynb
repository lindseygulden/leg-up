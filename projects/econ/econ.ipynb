{
 "cells": [
  {
   "cell_type": "markdown",
   "metadata": {},
   "source": [
    "## Formulation\n",
    "### Decision variables: \n",
    " \n",
    "* α = The proportion of CO2 captured  0<α<1\n",
    "* 𝛽 = The proportion of captured CO2 used for EOR  0<𝛽<1\n",
    "\n",
    "### Thermodynamic function:\n",
    "\n",
    "f(α) =  The energy (MWh) used to capture a ton of CO2.  This is an increasing function of α because it gets more expensive to separate gas more thoroughly. \n",
    "\n",
    "Let’s start simple:  f(α) = Fmin + α(Fmax-Fmin)\n",
    " \t\n",
    "### Parameters:\n",
    "\n",
    "* Pe  \t\t[$/MWh] \tSale price of MWh\n",
    "* Eg\t[ton/MWh]\tTons of natural gas consumed to produce a MWh\n",
    "* Cg \t[$/ton] \tCost of natural gas per ton\n",
    "* Qseq\t[$/ton]\tSubsidy per ton of CO2 sequestered - not EOR\n",
    "* Qeor\t[$/ton]\tSubsidy per ton of CO2 used for EOR\n",
    "* Gg \t[ton/ton]  \tTons of CO2 produced per ton of Natural Gas\n",
    "* 𝜸\t[-]\tRatio of grid power produced from natural gas (the rest is renewables)\n",
    "* Θ\t[bbl/ton]\tEOR recovery factor (barrel of oil produced per ton of CO2 injected)\n",
    "* Cc\t[$/bbl]\tCost of crude per barrel\n",
    "* Gc\t[ton/bbl]\tTons of CO2 produced for combustion of one bbl crude\n",
    "\n",
    "\n",
    "Tons of CO2 produced per MWh \t\t= EgGg\n",
    "Tons of CO2 captured per MWh\t\t= αEgGg\n",
    "Cost ($) of capturing per ton of CO2 \t\t= f(α) Pe \n",
    "Tons of CO2 produced by burning the \n",
    "natural gas to produce the energy \n",
    "to capture a ton of CO2\t\t= f(α)EgGg\n",
    "\n",
    "\n",
    "#### Rate of profit  [($/hr)/MW] from NG-generated power\n",
    "Pe - EgCg\n",
    "#### Rate of profit  [($/hr)/MW] from CCS\n",
    "αEgGg ((1-𝛽)Qseq + 𝛽QEOR  - Pef(α))\n",
    "#### Rate of profit  [($/hr)/MW] from EOR\n",
    "𝛽 αΘCc\n",
    "#### Rate of emissions [(ton-CO2/hr)/MW] from NG-generated power\n",
    "EgGg\n",
    "#### Rate of emissions [(ton-CO2/hr)/MW] from CCS\n",
    "(αEgGg) (𝜸 f(α )Eg Gg  -  1)\n",
    "#### Rate of emissions [(ton-CO2/hr)/MW] from EOR\n",
    "𝛽αΘGc\n",
    "\n"
   ]
  },
  {
   "cell_type": "code",
   "execution_count": 2,
   "metadata": {},
   "outputs": [],
   "source": [
    "from utils.io import yaml_to_dict\n",
    "import pandas as pd\n",
    "from energy_function import EnergyFunction, ConstantEnergyFunction"
   ]
  },
  {
   "cell_type": "code",
   "execution_count": 5,
   "metadata": {},
   "outputs": [
    {
     "ename": "NameError",
     "evalue": "name 'EnergyFunction' is not defined",
     "output_type": "error",
     "traceback": [
      "\u001b[0;31m---------------------------------------------------------------------------\u001b[0m",
      "\u001b[0;31mNameError\u001b[0m                                 Traceback (most recent call last)",
      "Cell \u001b[0;32mIn[5], line 1\u001b[0m\n\u001b[0;32m----> 1\u001b[0m f\u001b[38;5;241m=\u001b[39m\u001b[43mEnergyFunction\u001b[49m\u001b[38;5;241m.\u001b[39mcreate(\u001b[38;5;124m'\u001b[39m\u001b[38;5;124mconstant\u001b[39m\u001b[38;5;124m'\u001b[39m,\u001b[38;5;241m4\u001b[39m)\n",
      "\u001b[0;31mNameError\u001b[0m: name 'EnergyFunction' is not defined"
     ]
    }
   ],
   "source": [
    "f=EnergyFunction.create('constant',4)"
   ]
  },
  {
   "cell_type": "code",
   "execution_count": null,
   "metadata": {},
   "outputs": [],
   "source": [
    "frac_co2_captured # α in formulation above\n",
    "frac_captured_co2_used_for_eor_beta # 𝛽 in formulation above\n",
    "electricity_price_usd_per_mwh # Pe in formulation above\n",
    "gas_needed_to_produce_electricity_tch4_per_mwh # Eg in formulation above\n",
    "cost_of_natural_gas_usd_per_tch4 #Cg in formulation above\n",
    "q45_subsidy_usd_per_tco2 # $60 for CCS-EOR, $85 for CCS-geologic storage (Qseq and Qeor above)\n",
    "carbon_intensity_natural_gas_tco2_per_tch4 # Gg in formulation above\n",
    "fraction_of_grid_power_produced_from_ng # 𝜸 in formulation above\n",
    "eor_recovery_factor_bbl_per_tco2 # Θ in formulation above\n",
    "oil_price_usd_per_bbl # Cc in formulation above\n",
    "carbon_intensity_oil_tco2_per_bbl # Gc in formulation above"
   ]
  },
  {
   "cell_type": "code",
   "execution_count": null,
   "metadata": {},
   "outputs": [],
   "source": []
  },
  {
   "cell_type": "code",
   "execution_count": null,
   "metadata": {},
   "outputs": [],
   "source": []
  },
  {
   "cell_type": "code",
   "execution_count": null,
   "metadata": {},
   "outputs": [],
   "source": []
  },
  {
   "cell_type": "markdown",
   "metadata": {},
   "source": []
  }
 ],
 "metadata": {
  "kernelspec": {
   "display_name": "projects-7_KjhAaO-py3.11",
   "language": "python",
   "name": "projects-7_kjhaao-py3.11"
  },
  "language_info": {
   "codemirror_mode": {
    "name": "ipython",
    "version": 3
   },
   "file_extension": ".py",
   "mimetype": "text/x-python",
   "name": "python",
   "nbconvert_exporter": "python",
   "pygments_lexer": "ipython3",
   "version": "3.11.4"
  }
 },
 "nbformat": 4,
 "nbformat_minor": 2
}
