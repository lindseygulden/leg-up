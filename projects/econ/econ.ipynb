{
 "cells": [
  {
   "cell_type": "markdown",
   "metadata": {},
   "source": [
    "## Formulation\n",
    "### Decision variables: \n",
    " \n",
    "* α = The proportion of CO2 captured  0<α<1\n",
    "* 𝛽 = The proportion of captured CO2 used for EOR  0<𝛽<1\n",
    "\n",
    "### Thermodynamic function:\n",
    "\n",
    "f(α) =  The energy (MWh) used to capture a ton of CO2.  This is an increasing function of α because it gets more expensive to separate gas more thoroughly. \n",
    "\n",
    "Let’s start simple:  f(α) = Fmin + α(Fmax-Fmin)\n",
    " \t\n",
    "### Parameters:\n",
    "\n",
    "* Pe  \t\t[$/MWh] \tSale price of MWh\n",
    "* Eg\t[ton/MWh]\tTons of natural gas consumed to produce a MWh\n",
    "* Cg \t[$/ton] \tCost of natural gas per ton\n",
    "* Qseq\t[$/ton]\tSubsidy per ton of CO2 sequestered - not EOR\n",
    "* Qeor\t[$/ton]\tSubsidy per ton of CO2 used for EOR\n",
    "* Gg \t[ton/ton]  \tTons of CO2 produced per ton of Natural Gas\n",
    "* 𝜸\t[-]\tRatio of grid power produced from natural gas (the rest is renewables)\n",
    "* Θ\t[bbl/ton]\tEOR recovery factor (barrel of oil produced per ton of CO2 injected)\n",
    "* Cc\t[$/bbl]\tCost of crude per barrel\n",
    "* Gc\t[ton/bbl]\tTons of CO2 produced for combustion of one bbl crude\n",
    "\n",
    "\n",
    "Tons of CO2 produced per MWh \t\t= EgGg\n",
    "Tons of CO2 captured per MWh\t\t= αEgGg\n",
    "Cost ($) of capturing per ton of CO2 \t\t= f(α) Pe \n",
    "Tons of CO2 produced by burning the \n",
    "natural gas to produce the energy \n",
    "to capture a ton of CO2\t\t= f(α)EgGg\n",
    "\n",
    "\n",
    "#### Rate of profit  [($/hr)/MW] from NG-generated power\n",
    "Pe - EgCg\n",
    "#### Rate of profit  [($/hr)/MW] from CCS\n",
    "αEgGg ((1-𝛽)Qseq + 𝛽QEOR  - Pef(α))\n",
    "#### Rate of profit  [($/hr)/MW] from EOR\n",
    "𝛽 αΘCc\n",
    "#### Rate of emissions [(ton-CO2/hr)/MW] from NG-generated power\n",
    "EgGg\n",
    "#### Rate of emissions [(ton-CO2/hr)/MW] from CCS\n",
    "(αEgGg) (𝜸 f(α )Eg Gg  -  1)\n",
    "#### Rate of emissions [(ton-CO2/hr)/MW] from EOR\n",
    "𝛽αΘGc\n",
    "\n"
   ]
  },
  {
   "cell_type": "code",
   "execution_count": 3,
   "metadata": {},
   "outputs": [],
   "source": [
    "from utils.io import yaml_to_dict, dict_to_yaml\n",
    "import pandas as pd\n",
    "from energy_function import EnergyFunction"
   ]
  },
  {
   "cell_type": "code",
   "execution_count": 2,
   "metadata": {},
   "outputs": [
    {
     "ename": "AttributeError",
     "evalue": "f_min and f_max must be specified as parameters for the linear energy function",
     "output_type": "error",
     "traceback": [
      "\u001b[0;31m---------------------------------------------------------------------------\u001b[0m",
      "\u001b[0;31mAttributeError\u001b[0m                            Traceback (most recent call last)",
      "Cell \u001b[0;32mIn[2], line 1\u001b[0m\n\u001b[0;32m----> 1\u001b[0m f\u001b[38;5;241m=\u001b[39m\u001b[43mEnergyFunction\u001b[49m\u001b[38;5;241;43m.\u001b[39;49m\u001b[43mcreate\u001b[49m\u001b[43m(\u001b[49m\u001b[38;5;124;43m'\u001b[39;49m\u001b[38;5;124;43mlinear\u001b[39;49m\u001b[38;5;124;43m'\u001b[39;49m\u001b[43m,\u001b[49m\u001b[43mparams\u001b[49m\u001b[38;5;241;43m=\u001b[39;49m\u001b[43m{\u001b[49m\u001b[38;5;124;43m'\u001b[39;49m\u001b[38;5;124;43mfmin\u001b[39;49m\u001b[38;5;124;43m'\u001b[39;49m\u001b[43m:\u001b[49m\u001b[38;5;241;43m100\u001b[39;49m\u001b[43m,\u001b[49m\u001b[38;5;124;43m'\u001b[39;49m\u001b[38;5;124;43mf_max\u001b[39;49m\u001b[38;5;124;43m'\u001b[39;49m\u001b[43m:\u001b[49m\u001b[38;5;241;43m178\u001b[39;49m\u001b[43m}\u001b[49m\u001b[43m)\u001b[49m\n\u001b[1;32m      2\u001b[0m f\u001b[38;5;241m.\u001b[39mevaluate(\u001b[38;5;241m0.5\u001b[39m)\n",
      "File \u001b[0;32m~/dev/leg-up-private/projects/econ/energy_function.py:38\u001b[0m, in \u001b[0;36mEnergyFunction.create\u001b[0;34m(cls, function_name, params)\u001b[0m\n\u001b[1;32m     35\u001b[0m \u001b[38;5;28;01mif\u001b[39;00m function_name \u001b[38;5;129;01mnot\u001b[39;00m \u001b[38;5;129;01min\u001b[39;00m \u001b[38;5;28mcls\u001b[39m\u001b[38;5;241m.\u001b[39msubclasses:\n\u001b[1;32m     36\u001b[0m     \u001b[38;5;28;01mraise\u001b[39;00m \u001b[38;5;167;01mValueError\u001b[39;00m(\u001b[38;5;124mf\u001b[39m\u001b[38;5;124m\"\u001b[39m\u001b[38;5;124mBad function_name \u001b[39m\u001b[38;5;132;01m{\u001b[39;00mfunction_name\u001b[38;5;132;01m}\u001b[39;00m\u001b[38;5;124m\"\u001b[39m)\n\u001b[0;32m---> 38\u001b[0m \u001b[38;5;28;01mreturn\u001b[39;00m \u001b[38;5;28;43mcls\u001b[39;49m\u001b[38;5;241;43m.\u001b[39;49m\u001b[43msubclasses\u001b[49m\u001b[43m[\u001b[49m\u001b[43mfunction_name\u001b[49m\u001b[43m]\u001b[49m\u001b[43m(\u001b[49m\u001b[43mparams\u001b[49m\u001b[43m)\u001b[49m\n",
      "File \u001b[0;32m~/dev/leg-up-private/projects/econ/energy_function.py:82\u001b[0m, in \u001b[0;36mLinearEnergyFunction.__init__\u001b[0;34m(self, params)\u001b[0m\n\u001b[1;32m     80\u001b[0m attributes \u001b[38;5;241m=\u001b[39m \u001b[38;5;28mself\u001b[39m\u001b[38;5;241m.\u001b[39m\u001b[38;5;18m__dict__\u001b[39m\n\u001b[1;32m     81\u001b[0m \u001b[38;5;28;01mif\u001b[39;00m (\u001b[38;5;124m\"\u001b[39m\u001b[38;5;124mf_min\u001b[39m\u001b[38;5;124m\"\u001b[39m \u001b[38;5;129;01mnot\u001b[39;00m \u001b[38;5;129;01min\u001b[39;00m attributes) \u001b[38;5;241m|\u001b[39m (\u001b[38;5;124m\"\u001b[39m\u001b[38;5;124mf_max\u001b[39m\u001b[38;5;124m\"\u001b[39m \u001b[38;5;129;01mnot\u001b[39;00m \u001b[38;5;129;01min\u001b[39;00m attributes):\n\u001b[0;32m---> 82\u001b[0m     \u001b[38;5;28;01mraise\u001b[39;00m \u001b[38;5;167;01mAttributeError\u001b[39;00m(\n\u001b[1;32m     83\u001b[0m         \u001b[38;5;124m\"\u001b[39m\u001b[38;5;124mf_min and f_max must be specified as parameters for the linear energy function\u001b[39m\u001b[38;5;124m\"\u001b[39m\n\u001b[1;32m     84\u001b[0m     )\n\u001b[1;32m     85\u001b[0m logging\u001b[38;5;241m.\u001b[39minfo(\u001b[38;5;124m\"\u001b[39m\u001b[38;5;124m Initialized a constant thermodynamic function.\u001b[39m\u001b[38;5;124m\"\u001b[39m)\n",
      "\u001b[0;31mAttributeError\u001b[0m: f_min and f_max must be specified as parameters for the linear energy function"
     ]
    }
   ],
   "source": [
    "f = EnergyFunction.create(\"linear\", params={\"fmin\": 100, \"f_max\": 178})\n",
    "f.evaluate(0.5)"
   ]
  },
  {
   "cell_type": "code",
   "execution_count": null,
   "metadata": {},
   "outputs": [],
   "source": [
    "frac_co2_captured  # α in formulation above\n",
    "frac_captured_co2_used_for_eor_beta  # 𝛽 in formulation above\n",
    "electricity_price_usd_per_mwh  # Pe in formulation above\n",
    "gas_needed_to_produce_electricity_tch4_per_mwh  # Eg in formulation above\n",
    "cost_of_natural_gas_usd_per_tch4  # Cg in formulation above\n",
    "q45_subsidy_usd_per_tco2  # $60 for CCS-EOR, $85 for CCS-geologic storage (Qseq and Qeor above)\n",
    "carbon_intensity_natural_gas_tco2_per_tch4  # Gg in formulation above\n",
    "fraction_of_grid_power_produced_from_ng  # 𝜸 in formulation above\n",
    "eor_recovery_factor_bbl_per_tco2  # Θ in formulation above\n",
    "oil_price_usd_per_bbl  # Cc in formulation above\n",
    "carbon_intensity_oil_tco2_per_bbl  # Gc in formulation above"
   ]
  },
  {
   "cell_type": "code",
   "execution_count": 6,
   "metadata": {},
   "outputs": [
    {
     "data": {
      "text/plain": [
       "{'f_max': 10, 'f_min': 1}"
      ]
     },
     "execution_count": 6,
     "metadata": {},
     "output_type": "execute_result"
    }
   ],
   "source": [
    "dict_to_yaml({\"energy_function_parameters\": {\"f_min\": 1, \"f_max\": 10}}, \"test.yml\")\n",
    "yaml_to_dict(\"test.yml\")[\"energy_function_parameters\"]"
   ]
  },
  {
   "cell_type": "code",
   "execution_count": null,
   "metadata": {},
   "outputs": [],
   "source": []
  },
  {
   "cell_type": "code",
   "execution_count": null,
   "metadata": {},
   "outputs": [],
   "source": []
  },
  {
   "cell_type": "markdown",
   "metadata": {},
   "source": []
  }
 ],
 "metadata": {
  "kernelspec": {
   "display_name": "projects-7_KjhAaO-py3.11",
   "language": "python",
   "name": "projects-7_kjhaao-py3.11"
  },
  "language_info": {
   "codemirror_mode": {
    "name": "ipython",
    "version": 3
   },
   "file_extension": ".py",
   "mimetype": "text/x-python",
   "name": "python",
   "nbconvert_exporter": "python",
   "pygments_lexer": "ipython3",
   "version": "3.11.4"
  }
 },
 "nbformat": 4,
 "nbformat_minor": 2
}
